{
 "cells": [
  {
   "cell_type": "markdown",
   "metadata": {
    "collapsed": false,
    "toc": true
   },
   "source": [
    "<h1>Содержание<span class=\"tocSkip\"></span></h1>\n",
    "<div class=\"toc\"><ul class=\"toc-item\"><li><span><a href=\"#Подготовка-данных\" data-toc-modified-id=\"Подготовка-данных-1\"><span class=\"toc-item-num\">1&nbsp;&nbsp;</span>Подготовка данных</a></span></li><li><span><a href=\"#Исследование-задачи\" data-toc-modified-id=\"Исследование-задачи-2\"><span class=\"toc-item-num\">2&nbsp;&nbsp;</span>Исследование задачи</a></span></li><li><span><a href=\"#Борьба-с-дисбалансом\" data-toc-modified-id=\"Борьба-с-дисбалансом-3\"><span class=\"toc-item-num\">3&nbsp;&nbsp;</span>Борьба с дисбалансом</a></span></li><li><span><a href=\"#Тестирование-модели\" data-toc-modified-id=\"Тестирование-модели-4\"><span class=\"toc-item-num\">4&nbsp;&nbsp;</span>Тестирование модели</a></span></li><li><span><a href=\"#Чек-лист-готовности-проекта\" data-toc-modified-id=\"Чек-лист-готовности-проекта-5\"><span class=\"toc-item-num\">5&nbsp;&nbsp;</span>Чек-лист готовности проекта</a></span></li></ul></div>"
   ]
  },
  {
   "cell_type": "markdown",
   "metadata": {
    "collapsed": false
   },
   "source": [
    "# Отток клиентов"
   ]
  },
  {
   "cell_type": "markdown",
   "metadata": {
    "collapsed": false
   },
   "source": [
    "Из «Бета-Банка» стали уходить клиенты. Каждый месяц. Немного, но заметно. Банковские маркетологи посчитали: сохранять текущих клиентов дешевле, чем привлекать новых.\n",
    "\n",
    "Нужно спрогнозировать, уйдёт клиент из банка в ближайшее время или нет. Вам предоставлены исторические данные о поведении клиентов и расторжении договоров с банком. \n",
    "\n",
    "Постройте модель с предельно большим значением *F1*-меры. Чтобы сдать проект успешно, нужно довести метрику до 0.59. Проверьте *F1*-меру на тестовой выборке самостоятельно.\n",
    "\n",
    "Дополнительно измеряйте *AUC-ROC*, сравнивайте её значение с *F1*-мерой.\n",
    "\n",
    "Источник данных: [https://www.kaggle.com/barelydedicated/bank-customer-churn-modeling](https://www.kaggle.com/barelydedicated/bank-customer-churn-modeling)"
   ]
  },
  {
   "cell_type": "markdown",
   "metadata": {
    "collapsed": false
   },
   "source": [
    "## Подготовка данных"
   ]
  },
  {
   "cell_type": "markdown",
   "metadata": {
    "collapsed": false
   },
   "source": [
    "1.1 Импортируем библиотекки"
   ]
  },
  {
   "cell_type": "code",
   "execution_count": 1,
   "metadata": {
    "collapsed": false
   },
   "outputs": [
   ],
   "source": [
    "import matplotlib.pyplot as plt\n",
    "import pandas as pd\n",
    "import plotly.graph_objects as go\n",
    "\n",
    "from sklearn.dummy import DummyClassifier\n",
    "from sklearn.ensemble import RandomForestClassifier\n",
    "from sklearn.linear_model import LogisticRegression\n",
    "from sklearn.tree import DecisionTreeClassifier\n",
    "\n",
    "from sklearn.metrics import accuracy_score\n",
    "from sklearn.metrics import f1_score\n",
    "from sklearn.metrics import roc_auc_score\n",
    "from sklearn.metrics import roc_curve, auc\n",
    "\n",
    "from sklearn.model_selection import GridSearchCV\n",
    "from sklearn.model_selection import train_test_split\n",
    "from sklearn.preprocessing import StandardScaler\n",
    "from sklearn.utils import shuffle\n",
    "\n",
    "import warnings\n",
    "warnings.filterwarnings(\"ignore\")\n",
    "pd.set_option('display.max_colwidth', -1)"
   ]
  },
  {
   "cell_type": "markdown",
   "metadata": {
    "collapsed": false
   },
   "source": [
    "1.2 Прочитаем файл и изучим данные"
   ]
  },
  {
   "cell_type": "code",
   "execution_count": 2,
   "metadata": {
    "collapsed": false
   },
   "outputs": [
    {
     "data": {
      "text/html": [
       "<div>\n",
       "<style scoped>\n",
       "    .dataframe tbody tr th:only-of-type {\n",
       "        vertical-align: middle;\n",
       "    }\n",
       "\n",
       "    .dataframe tbody tr th {\n",
       "        vertical-align: top;\n",
       "    }\n",
       "\n",
       "    .dataframe thead th {\n",
       "        text-align: right;\n",
       "    }\n",
       "</style>\n",
       "<table border=\"1\" class=\"dataframe\">\n",
       "  <thead>\n",
       "    <tr style=\"text-align: right;\">\n",
       "      <th></th>\n",
       "      <th>RowNumber</th>\n",
       "      <th>CustomerId</th>\n",
       "      <th>Surname</th>\n",
       "      <th>CreditScore</th>\n",
       "      <th>Geography</th>\n",
       "      <th>Gender</th>\n",
       "      <th>Age</th>\n",
       "      <th>Tenure</th>\n",
       "      <th>Balance</th>\n",
       "      <th>NumOfProducts</th>\n",
       "      <th>HasCrCard</th>\n",
       "      <th>IsActiveMember</th>\n",
       "      <th>EstimatedSalary</th>\n",
       "      <th>Exited</th>\n",
       "    </tr>\n",
       "  </thead>\n",
       "  <tbody>\n",
       "    <tr>\n",
       "      <td>0</td>\n",
       "      <td>1</td>\n",
       "      <td>15634602</td>\n",
       "      <td>Hargrave</td>\n",
       "      <td>619</td>\n",
       "      <td>France</td>\n",
       "      <td>Female</td>\n",
       "      <td>42</td>\n",
       "      <td>2.0</td>\n",
       "      <td>0.00</td>\n",
       "      <td>1</td>\n",
       "      <td>1</td>\n",
       "      <td>1</td>\n",
       "      <td>101348.88</td>\n",
       "      <td>1</td>\n",
       "    </tr>\n",
       "    <tr>\n",
       "      <td>1</td>\n",
       "      <td>2</td>\n",
       "      <td>15647311</td>\n",
       "      <td>Hill</td>\n",
       "      <td>608</td>\n",
       "      <td>Spain</td>\n",
       "      <td>Female</td>\n",
       "      <td>41</td>\n",
       "      <td>1.0</td>\n",
       "      <td>83807.86</td>\n",
       "      <td>1</td>\n",
       "      <td>0</td>\n",
       "      <td>1</td>\n",
       "      <td>112542.58</td>\n",
       "      <td>0</td>\n",
       "    </tr>\n",
       "    <tr>\n",
       "      <td>2</td>\n",
       "      <td>3</td>\n",
       "      <td>15619304</td>\n",
       "      <td>Onio</td>\n",
       "      <td>502</td>\n",
       "      <td>France</td>\n",
       "      <td>Female</td>\n",
       "      <td>42</td>\n",
       "      <td>8.0</td>\n",
       "      <td>159660.80</td>\n",
       "      <td>3</td>\n",
       "      <td>1</td>\n",
       "      <td>0</td>\n",
       "      <td>113931.57</td>\n",
       "      <td>1</td>\n",
       "    </tr>\n",
       "    <tr>\n",
       "      <td>3</td>\n",
       "      <td>4</td>\n",
       "      <td>15701354</td>\n",
       "      <td>Boni</td>\n",
       "      <td>699</td>\n",
       "      <td>France</td>\n",
       "      <td>Female</td>\n",
       "      <td>39</td>\n",
       "      <td>1.0</td>\n",
       "      <td>0.00</td>\n",
       "      <td>2</td>\n",
       "      <td>0</td>\n",
       "      <td>0</td>\n",
       "      <td>93826.63</td>\n",
       "      <td>0</td>\n",
       "    </tr>\n",
       "    <tr>\n",
       "      <td>4</td>\n",
       "      <td>5</td>\n",
       "      <td>15737888</td>\n",
       "      <td>Mitchell</td>\n",
       "      <td>850</td>\n",
       "      <td>Spain</td>\n",
       "      <td>Female</td>\n",
       "      <td>43</td>\n",
       "      <td>2.0</td>\n",
       "      <td>125510.82</td>\n",
       "      <td>1</td>\n",
       "      <td>1</td>\n",
       "      <td>1</td>\n",
       "      <td>79084.10</td>\n",
       "      <td>0</td>\n",
       "    </tr>\n",
       "  </tbody>\n",
       "</table>\n",
       "</div>"
      ],
      "text/plain": [
       "   RowNumber  CustomerId   Surname  CreditScore Geography  Gender  Age  \\\n",
       "0  1          15634602    Hargrave  619          France    Female  42    \n",
       "1  2          15647311    Hill      608          Spain     Female  41    \n",
       "2  3          15619304    Onio      502          France    Female  42    \n",
       "3  4          15701354    Boni      699          France    Female  39    \n",
       "4  5          15737888    Mitchell  850          Spain     Female  43    \n",
       "\n",
       "   Tenure    Balance  NumOfProducts  HasCrCard  IsActiveMember  \\\n",
       "0  2.0     0.00       1              1          1                \n",
       "1  1.0     83807.86   1              0          1                \n",
       "2  8.0     159660.80  3              1          0                \n",
       "3  1.0     0.00       2              0          0                \n",
       "4  2.0     125510.82  1              1          1                \n",
       "\n",
       "   EstimatedSalary  Exited  \n",
       "0  101348.88        1       \n",
       "1  112542.58        0       \n",
       "2  113931.57        1       \n",
       "3  93826.63         0       \n",
       "4  79084.10         0       "
      ]
     },
     "execution_count": 2,
     "metadata": {
     },
     "output_type": "execute_result"
    }
   ],
   "source": [
    "data = pd.read_csv('/datasets/Churn.csv')\n",
    "data.head()"
   ]
  },
  {
   "cell_type": "code",
   "execution_count": 3,
   "metadata": {
    "collapsed": false
   },
   "outputs": [
    {
     "name": "stdout",
     "output_type": "stream",
     "text": [
      "<class 'pandas.core.frame.DataFrame'>\n",
      "RangeIndex: 10000 entries, 0 to 9999\n",
      "Data columns (total 14 columns):\n",
      "RowNumber          10000 non-null int64\n",
      "CustomerId         10000 non-null int64\n",
      "Surname            10000 non-null object\n",
      "CreditScore        10000 non-null int64\n",
      "Geography          10000 non-null object\n",
      "Gender             10000 non-null object\n",
      "Age                10000 non-null int64\n",
      "Tenure             9091 non-null float64\n",
      "Balance            10000 non-null float64\n",
      "NumOfProducts      10000 non-null int64\n",
      "HasCrCard          10000 non-null int64\n",
      "IsActiveMember     10000 non-null int64\n",
      "EstimatedSalary    10000 non-null float64\n",
      "Exited             10000 non-null int64\n",
      "dtypes: float64(3), int64(8), object(3)\n",
      "memory usage: 1.1+ MB\n"
     ]
    }
   ],
   "source": [
    "data.info()"
   ]
  },
  {
   "cell_type": "code",
   "execution_count": 4,
   "metadata": {
    "collapsed": false,
    "scrolled": true
   },
   "outputs": [
    {
     "data": {
      "text/html": [
       "<div>\n",
       "<style scoped>\n",
       "    .dataframe tbody tr th:only-of-type {\n",
       "        vertical-align: middle;\n",
       "    }\n",
       "\n",
       "    .dataframe tbody tr th {\n",
       "        vertical-align: top;\n",
       "    }\n",
       "\n",
       "    .dataframe thead th {\n",
       "        text-align: right;\n",
       "    }\n",
       "</style>\n",
       "<table border=\"1\" class=\"dataframe\">\n",
       "  <thead>\n",
       "    <tr style=\"text-align: right;\">\n",
       "      <th></th>\n",
       "      <th>RowNumber</th>\n",
       "      <th>CustomerId</th>\n",
       "      <th>CreditScore</th>\n",
       "      <th>Age</th>\n",
       "      <th>Tenure</th>\n",
       "      <th>Balance</th>\n",
       "      <th>NumOfProducts</th>\n",
       "      <th>HasCrCard</th>\n",
       "      <th>IsActiveMember</th>\n",
       "      <th>EstimatedSalary</th>\n",
       "      <th>Exited</th>\n",
       "    </tr>\n",
       "  </thead>\n",
       "  <tbody>\n",
       "    <tr>\n",
       "      <td>count</td>\n",
       "      <td>10000.00000</td>\n",
       "      <td>1.000000e+04</td>\n",
       "      <td>10000.000000</td>\n",
       "      <td>10000.000000</td>\n",
       "      <td>9091.000000</td>\n",
       "      <td>10000.000000</td>\n",
       "      <td>10000.000000</td>\n",
       "      <td>10000.00000</td>\n",
       "      <td>10000.000000</td>\n",
       "      <td>10000.000000</td>\n",
       "      <td>10000.000000</td>\n",
       "    </tr>\n",
       "    <tr>\n",
       "      <td>mean</td>\n",
       "      <td>5000.50000</td>\n",
       "      <td>1.569094e+07</td>\n",
       "      <td>650.528800</td>\n",
       "      <td>38.921800</td>\n",
       "      <td>4.997690</td>\n",
       "      <td>76485.889288</td>\n",
       "      <td>1.530200</td>\n",
       "      <td>0.70550</td>\n",
       "      <td>0.515100</td>\n",
       "      <td>100090.239881</td>\n",
       "      <td>0.203700</td>\n",
       "    </tr>\n",
       "    <tr>\n",
       "      <td>std</td>\n",
       "      <td>2886.89568</td>\n",
       "      <td>7.193619e+04</td>\n",
       "      <td>96.653299</td>\n",
       "      <td>10.487806</td>\n",
       "      <td>2.894723</td>\n",
       "      <td>62397.405202</td>\n",
       "      <td>0.581654</td>\n",
       "      <td>0.45584</td>\n",
       "      <td>0.499797</td>\n",
       "      <td>57510.492818</td>\n",
       "      <td>0.402769</td>\n",
       "    </tr>\n",
       "    <tr>\n",
       "      <td>min</td>\n",
       "      <td>1.00000</td>\n",
       "      <td>1.556570e+07</td>\n",
       "      <td>350.000000</td>\n",
       "      <td>18.000000</td>\n",
       "      <td>0.000000</td>\n",
       "      <td>0.000000</td>\n",
       "      <td>1.000000</td>\n",
       "      <td>0.00000</td>\n",
       "      <td>0.000000</td>\n",
       "      <td>11.580000</td>\n",
       "      <td>0.000000</td>\n",
       "    </tr>\n",
       "    <tr>\n",
       "      <td>25%</td>\n",
       "      <td>2500.75000</td>\n",
       "      <td>1.562853e+07</td>\n",
       "      <td>584.000000</td>\n",
       "      <td>32.000000</td>\n",
       "      <td>2.000000</td>\n",
       "      <td>0.000000</td>\n",
       "      <td>1.000000</td>\n",
       "      <td>0.00000</td>\n",
       "      <td>0.000000</td>\n",
       "      <td>51002.110000</td>\n",
       "      <td>0.000000</td>\n",
       "    </tr>\n",
       "    <tr>\n",
       "      <td>50%</td>\n",
       "      <td>5000.50000</td>\n",
       "      <td>1.569074e+07</td>\n",
       "      <td>652.000000</td>\n",
       "      <td>37.000000</td>\n",
       "      <td>5.000000</td>\n",
       "      <td>97198.540000</td>\n",
       "      <td>1.000000</td>\n",
       "      <td>1.00000</td>\n",
       "      <td>1.000000</td>\n",
       "      <td>100193.915000</td>\n",
       "      <td>0.000000</td>\n",
       "    </tr>\n",
       "    <tr>\n",
       "      <td>75%</td>\n",
       "      <td>7500.25000</td>\n",
       "      <td>1.575323e+07</td>\n",
       "      <td>718.000000</td>\n",
       "      <td>44.000000</td>\n",
       "      <td>7.000000</td>\n",
       "      <td>127644.240000</td>\n",
       "      <td>2.000000</td>\n",
       "      <td>1.00000</td>\n",
       "      <td>1.000000</td>\n",
       "      <td>149388.247500</td>\n",
       "      <td>0.000000</td>\n",
       "    </tr>\n",
       "    <tr>\n",
       "      <td>max</td>\n",
       "      <td>10000.00000</td>\n",
       "      <td>1.581569e+07</td>\n",
       "      <td>850.000000</td>\n",
       "      <td>92.000000</td>\n",
       "      <td>10.000000</td>\n",
       "      <td>250898.090000</td>\n",
       "      <td>4.000000</td>\n",
       "      <td>1.00000</td>\n",
       "      <td>1.000000</td>\n",
       "      <td>199992.480000</td>\n",
       "      <td>1.000000</td>\n",
       "    </tr>\n",
       "  </tbody>\n",
       "</table>\n",
       "</div>"
      ],
      "text/plain": [
       "         RowNumber    CustomerId   CreditScore           Age       Tenure  \\\n",
       "count  10000.00000  1.000000e+04  10000.000000  10000.000000  9091.000000   \n",
       "mean   5000.50000   1.569094e+07  650.528800    38.921800     4.997690      \n",
       "std    2886.89568   7.193619e+04  96.653299     10.487806     2.894723      \n",
       "min    1.00000      1.556570e+07  350.000000    18.000000     0.000000      \n",
       "25%    2500.75000   1.562853e+07  584.000000    32.000000     2.000000      \n",
       "50%    5000.50000   1.569074e+07  652.000000    37.000000     5.000000      \n",
       "75%    7500.25000   1.575323e+07  718.000000    44.000000     7.000000      \n",
       "max    10000.00000  1.581569e+07  850.000000    92.000000     10.000000     \n",
       "\n",
       "             Balance  NumOfProducts    HasCrCard  IsActiveMember  \\\n",
       "count  10000.000000   10000.000000   10000.00000  10000.000000     \n",
       "mean   76485.889288   1.530200       0.70550      0.515100         \n",
       "std    62397.405202   0.581654       0.45584      0.499797         \n",
       "min    0.000000       1.000000       0.00000      0.000000         \n",
       "25%    0.000000       1.000000       0.00000      0.000000         \n",
       "50%    97198.540000   1.000000       1.00000      1.000000         \n",
       "75%    127644.240000  2.000000       1.00000      1.000000         \n",
       "max    250898.090000  4.000000       1.00000      1.000000         \n",
       "\n",
       "       EstimatedSalary        Exited  \n",
       "count  10000.000000     10000.000000  \n",
       "mean   100090.239881    0.203700      \n",
       "std    57510.492818     0.402769      \n",
       "min    11.580000        0.000000      \n",
       "25%    51002.110000     0.000000      \n",
       "50%    100193.915000    0.000000      \n",
       "75%    149388.247500    0.000000      \n",
       "max    199992.480000    1.000000      "
      ]
     },
     "execution_count": 4,
     "metadata": {
     },
     "output_type": "execute_result"
    }
   ],
   "source": [
    "data.describe()"
   ]
  },
  {
   "cell_type": "markdown",
   "metadata": {
    "collapsed": false
   },
   "source": [
    "Выводы: \n",
    "-  столбцы RowNumber,CustomerId,Surname не нужны для исследования, удалить;\n",
    "-  в столбце Tenure есть пропуски, нужно будет исправить и проверить;\n",
    "-  привести названия столбцов в соответствующий вид;\n",
    "-  фрейм содержит качественные и количественные признаки;\n",
    "-  масштаб признаков разный поэтому нужно будет масштабировать признаки."
   ]
  },
  {
   "cell_type": "markdown",
   "metadata": {
    "collapsed": false
   },
   "source": [
    "1.3 Предобработка данных"
   ]
  },
  {
   "cell_type": "code",
   "execution_count": 5,
   "metadata": {
    "collapsed": false
   },
   "outputs": [
    {
     "data": {
      "text/html": [
       "<div>\n",
       "<style scoped>\n",
       "    .dataframe tbody tr th:only-of-type {\n",
       "        vertical-align: middle;\n",
       "    }\n",
       "\n",
       "    .dataframe tbody tr th {\n",
       "        vertical-align: top;\n",
       "    }\n",
       "\n",
       "    .dataframe thead th {\n",
       "        text-align: right;\n",
       "    }\n",
       "</style>\n",
       "<table border=\"1\" class=\"dataframe\">\n",
       "  <thead>\n",
       "    <tr style=\"text-align: right;\">\n",
       "      <th></th>\n",
       "      <th>row_number</th>\n",
       "      <th>customer_id</th>\n",
       "      <th>surname</th>\n",
       "      <th>credit_score</th>\n",
       "      <th>geography</th>\n",
       "      <th>gender</th>\n",
       "      <th>age</th>\n",
       "      <th>tenure</th>\n",
       "      <th>balance</th>\n",
       "      <th>num_of_products</th>\n",
       "      <th>has_cr_card</th>\n",
       "      <th>is_active_member</th>\n",
       "      <th>estimated_salary</th>\n",
       "      <th>exited</th>\n",
       "    </tr>\n",
       "  </thead>\n",
       "  <tbody>\n",
       "    <tr>\n",
       "      <td>0</td>\n",
       "      <td>1</td>\n",
       "      <td>15634602</td>\n",
       "      <td>Hargrave</td>\n",
       "      <td>619</td>\n",
       "      <td>France</td>\n",
       "      <td>Female</td>\n",
       "      <td>42</td>\n",
       "      <td>2.0</td>\n",
       "      <td>0.00</td>\n",
       "      <td>1</td>\n",
       "      <td>1</td>\n",
       "      <td>1</td>\n",
       "      <td>101348.88</td>\n",
       "      <td>1</td>\n",
       "    </tr>\n",
       "    <tr>\n",
       "      <td>1</td>\n",
       "      <td>2</td>\n",
       "      <td>15647311</td>\n",
       "      <td>Hill</td>\n",
       "      <td>608</td>\n",
       "      <td>Spain</td>\n",
       "      <td>Female</td>\n",
       "      <td>41</td>\n",
       "      <td>1.0</td>\n",
       "      <td>83807.86</td>\n",
       "      <td>1</td>\n",
       "      <td>0</td>\n",
       "      <td>1</td>\n",
       "      <td>112542.58</td>\n",
       "      <td>0</td>\n",
       "    </tr>\n",
       "    <tr>\n",
       "      <td>2</td>\n",
       "      <td>3</td>\n",
       "      <td>15619304</td>\n",
       "      <td>Onio</td>\n",
       "      <td>502</td>\n",
       "      <td>France</td>\n",
       "      <td>Female</td>\n",
       "      <td>42</td>\n",
       "      <td>8.0</td>\n",
       "      <td>159660.80</td>\n",
       "      <td>3</td>\n",
       "      <td>1</td>\n",
       "      <td>0</td>\n",
       "      <td>113931.57</td>\n",
       "      <td>1</td>\n",
       "    </tr>\n",
       "    <tr>\n",
       "      <td>3</td>\n",
       "      <td>4</td>\n",
       "      <td>15701354</td>\n",
       "      <td>Boni</td>\n",
       "      <td>699</td>\n",
       "      <td>France</td>\n",
       "      <td>Female</td>\n",
       "      <td>39</td>\n",
       "      <td>1.0</td>\n",
       "      <td>0.00</td>\n",
       "      <td>2</td>\n",
       "      <td>0</td>\n",
       "      <td>0</td>\n",
       "      <td>93826.63</td>\n",
       "      <td>0</td>\n",
       "    </tr>\n",
       "    <tr>\n",
       "      <td>4</td>\n",
       "      <td>5</td>\n",
       "      <td>15737888</td>\n",
       "      <td>Mitchell</td>\n",
       "      <td>850</td>\n",
       "      <td>Spain</td>\n",
       "      <td>Female</td>\n",
       "      <td>43</td>\n",
       "      <td>2.0</td>\n",
       "      <td>125510.82</td>\n",
       "      <td>1</td>\n",
       "      <td>1</td>\n",
       "      <td>1</td>\n",
       "      <td>79084.10</td>\n",
       "      <td>0</td>\n",
       "    </tr>\n",
       "  </tbody>\n",
       "</table>\n",
       "</div>"
      ],
      "text/plain": [
       "   row_number  customer_id   surname  credit_score geography  gender  age  \\\n",
       "0  1           15634602     Hargrave  619           France    Female  42    \n",
       "1  2           15647311     Hill      608           Spain     Female  41    \n",
       "2  3           15619304     Onio      502           France    Female  42    \n",
       "3  4           15701354     Boni      699           France    Female  39    \n",
       "4  5           15737888     Mitchell  850           Spain     Female  43    \n",
       "\n",
       "   tenure    balance  num_of_products  has_cr_card  is_active_member  \\\n",
       "0  2.0     0.00       1                1            1                  \n",
       "1  1.0     83807.86   1                0            1                  \n",
       "2  8.0     159660.80  3                1            0                  \n",
       "3  1.0     0.00       2                0            0                  \n",
       "4  2.0     125510.82  1                1            1                  \n",
       "\n",
       "   estimated_salary  exited  \n",
       "0  101348.88         1       \n",
       "1  112542.58         0       \n",
       "2  113931.57         1       \n",
       "3  93826.63          0       \n",
       "4  79084.10          0       "
      ]
     },
     "execution_count": 5,
     "metadata": {
     },
     "output_type": "execute_result"
    }
   ],
   "source": [
    "#названия столбцов приведем к нижниму регистру и разделим \"_\".\n",
    "data.columns = data.columns.str.replace(r\"([A-Z])\", r\" \\1\").str.lower().str.replace(' ', '_').str[1:]\n",
    "data.head()"
   ]
  },
  {
   "cell_type": "code",
   "execution_count": 6,
   "metadata": {
    "collapsed": false
   },
   "outputs": [
    {
     "data": {
      "text/html": [
       "<div>\n",
       "<style scoped>\n",
       "    .dataframe tbody tr th:only-of-type {\n",
       "        vertical-align: middle;\n",
       "    }\n",
       "\n",
       "    .dataframe tbody tr th {\n",
       "        vertical-align: top;\n",
       "    }\n",
       "\n",
       "    .dataframe thead th {\n",
       "        text-align: right;\n",
       "    }\n",
       "</style>\n",
       "<table border=\"1\" class=\"dataframe\">\n",
       "  <thead>\n",
       "    <tr style=\"text-align: right;\">\n",
       "      <th></th>\n",
       "      <th>row_number</th>\n",
       "      <th>customer_id</th>\n",
       "      <th>surname</th>\n",
       "      <th>credit_score</th>\n",
       "      <th>geography</th>\n",
       "      <th>gender</th>\n",
       "      <th>age</th>\n",
       "      <th>tenure</th>\n",
       "      <th>balance</th>\n",
       "      <th>num_of_products</th>\n",
       "      <th>has_cr_card</th>\n",
       "      <th>is_active_member</th>\n",
       "      <th>estimated_salary</th>\n",
       "      <th>exited</th>\n",
       "    </tr>\n",
       "  </thead>\n",
       "  <tbody>\n",
       "    <tr>\n",
       "      <td>0</td>\n",
       "      <td>1</td>\n",
       "      <td>15634602</td>\n",
       "      <td>Hargrave</td>\n",
       "      <td>619</td>\n",
       "      <td>france</td>\n",
       "      <td>female</td>\n",
       "      <td>42</td>\n",
       "      <td>2.0</td>\n",
       "      <td>0.00</td>\n",
       "      <td>1</td>\n",
       "      <td>1</td>\n",
       "      <td>1</td>\n",
       "      <td>101348.88</td>\n",
       "      <td>1</td>\n",
       "    </tr>\n",
       "    <tr>\n",
       "      <td>1</td>\n",
       "      <td>2</td>\n",
       "      <td>15647311</td>\n",
       "      <td>Hill</td>\n",
       "      <td>608</td>\n",
       "      <td>spain</td>\n",
       "      <td>female</td>\n",
       "      <td>41</td>\n",
       "      <td>1.0</td>\n",
       "      <td>83807.86</td>\n",
       "      <td>1</td>\n",
       "      <td>0</td>\n",
       "      <td>1</td>\n",
       "      <td>112542.58</td>\n",
       "      <td>0</td>\n",
       "    </tr>\n",
       "    <tr>\n",
       "      <td>2</td>\n",
       "      <td>3</td>\n",
       "      <td>15619304</td>\n",
       "      <td>Onio</td>\n",
       "      <td>502</td>\n",
       "      <td>france</td>\n",
       "      <td>female</td>\n",
       "      <td>42</td>\n",
       "      <td>8.0</td>\n",
       "      <td>159660.80</td>\n",
       "      <td>3</td>\n",
       "      <td>1</td>\n",
       "      <td>0</td>\n",
       "      <td>113931.57</td>\n",
       "      <td>1</td>\n",
       "    </tr>\n",
       "    <tr>\n",
       "      <td>3</td>\n",
       "      <td>4</td>\n",
       "      <td>15701354</td>\n",
       "      <td>Boni</td>\n",
       "      <td>699</td>\n",
       "      <td>france</td>\n",
       "      <td>female</td>\n",
       "      <td>39</td>\n",
       "      <td>1.0</td>\n",
       "      <td>0.00</td>\n",
       "      <td>2</td>\n",
       "      <td>0</td>\n",
       "      <td>0</td>\n",
       "      <td>93826.63</td>\n",
       "      <td>0</td>\n",
       "    </tr>\n",
       "    <tr>\n",
       "      <td>4</td>\n",
       "      <td>5</td>\n",
       "      <td>15737888</td>\n",
       "      <td>Mitchell</td>\n",
       "      <td>850</td>\n",
       "      <td>spain</td>\n",
       "      <td>female</td>\n",
       "      <td>43</td>\n",
       "      <td>2.0</td>\n",
       "      <td>125510.82</td>\n",
       "      <td>1</td>\n",
       "      <td>1</td>\n",
       "      <td>1</td>\n",
       "      <td>79084.10</td>\n",
       "      <td>0</td>\n",
       "    </tr>\n",
       "  </tbody>\n",
       "</table>\n",
       "</div>"
      ],
      "text/plain": [
       "   row_number  customer_id   surname  credit_score geography  gender  age  \\\n",
       "0  1           15634602     Hargrave  619           france    female  42    \n",
       "1  2           15647311     Hill      608           spain     female  41    \n",
       "2  3           15619304     Onio      502           france    female  42    \n",
       "3  4           15701354     Boni      699           france    female  39    \n",
       "4  5           15737888     Mitchell  850           spain     female  43    \n",
       "\n",
       "   tenure    balance  num_of_products  has_cr_card  is_active_member  \\\n",
       "0  2.0     0.00       1                1            1                  \n",
       "1  1.0     83807.86   1                0            1                  \n",
       "2  8.0     159660.80  3                1            0                  \n",
       "3  1.0     0.00       2                0            0                  \n",
       "4  2.0     125510.82  1                1            1                  \n",
       "\n",
       "   estimated_salary  exited  \n",
       "0  101348.88         1       \n",
       "1  112542.58         0       \n",
       "2  113931.57         1       \n",
       "3  93826.63          0       \n",
       "4  79084.10          0       "
      ]
     },
     "execution_count": 6,
     "metadata": {
     },
     "output_type": "execute_result"
    }
   ],
   "source": [
    "data['geography'] = data['geography'].str.lower()\n",
    "data['gender'] = data['gender'].str.lower()\n",
    "data.head()"
   ]
  },
  {
   "cell_type": "code",
   "execution_count": 7,
   "metadata": {
    "collapsed": false
   },
   "outputs": [
    {
     "data": {
      "text/plain": [
       "909"
      ]
     },
     "execution_count": 7,
     "metadata": {
     },
     "output_type": "execute_result"
    }
   ],
   "source": [
    "#разберемся с пропусками tenure\n",
    "data['tenure'].isnull().sum()"
   ]
  },
  {
   "cell_type": "code",
   "execution_count": 8,
   "metadata": {
    "collapsed": false
   },
   "outputs": [
    {
     "data": {
      "text/plain": [
       "1.0     952\n",
       "2.0     950\n",
       "8.0     933\n",
       "3.0     928\n",
       "5.0     927\n",
       "7.0     925\n",
       "4.0     885\n",
       "9.0     882\n",
       "6.0     881\n",
       "10.0    446\n",
       "0.0     382\n",
       "Name: tenure, dtype: int64"
      ]
     },
     "execution_count": 8,
     "metadata": {
     },
     "output_type": "execute_result"
    }
   ],
   "source": [
    "data['tenure'].value_counts()"
   ]
  },
  {
   "cell_type": "markdown",
   "metadata": {
    "collapsed": false
   },
   "source": [
    "Значения распределены от 1 до 10. Можно заполнить пропуски средним или медианой, а можно 0, посмторим что лучше."
   ]
  },
  {
   "cell_type": "code",
   "execution_count": 9,
   "metadata": {
    "collapsed": false
   },
   "outputs": [
    {
     "name": "stdout",
     "output_type": "stream",
     "text": [
      "Среднее арифметическое: 4.997690023099769\n",
      "Медиана: 5.0\n"
     ]
    }
   ],
   "source": [
    "print('Среднее арифметическое:', data['tenure'].mean())\n",
    "print('Медиана:', data['tenure'].median())"
   ]
  },
  {
   "cell_type": "markdown",
   "metadata": {
    "collapsed": false
   },
   "source": [
    "Среднее и медиана близки друг к другу, но их значения дли признака, который показывает, сколько лет клиент пользуется банком слишком высоки. Это может повлиять на предсказания модели, и не известно как получились пропуски. Возможно клиент оставил эту графу пустой. На мой взгляд, лучший вариант заменить нулями."
   ]
  },
  {
   "cell_type": "code",
   "execution_count": 10,
   "metadata": {
    "collapsed": false
   },
   "outputs": [
    {
     "data": {
      "text/plain": [
       "0     1291\n",
       "1     952 \n",
       "2     950 \n",
       "8     933 \n",
       "3     928 \n",
       "5     927 \n",
       "7     925 \n",
       "4     885 \n",
       "9     882 \n",
       "6     881 \n",
       "10    446 \n",
       "Name: tenure, dtype: int64"
      ]
     },
     "execution_count": 10,
     "metadata": {
     },
     "output_type": "execute_result"
    }
   ],
   "source": [
    "#заменим пропуски и изменим тип данных на целый\n",
    "data['tenure'] = data['tenure'].fillna(0).astype('int')\n",
    "data['tenure'].value_counts()"
   ]
  },
  {
   "cell_type": "code",
   "execution_count": 11,
   "metadata": {
    "collapsed": false,
    "scrolled": true
   },
   "outputs": [
    {
     "data": {
      "text/html": [
       "<div>\n",
       "<style scoped>\n",
       "    .dataframe tbody tr th:only-of-type {\n",
       "        vertical-align: middle;\n",
       "    }\n",
       "\n",
       "    .dataframe tbody tr th {\n",
       "        vertical-align: top;\n",
       "    }\n",
       "\n",
       "    .dataframe thead th {\n",
       "        text-align: right;\n",
       "    }\n",
       "</style>\n",
       "<table border=\"1\" class=\"dataframe\">\n",
       "  <thead>\n",
       "    <tr style=\"text-align: right;\">\n",
       "      <th></th>\n",
       "      <th>credit_score</th>\n",
       "      <th>geography</th>\n",
       "      <th>gender</th>\n",
       "      <th>age</th>\n",
       "      <th>tenure</th>\n",
       "      <th>balance</th>\n",
       "      <th>num_of_products</th>\n",
       "      <th>has_cr_card</th>\n",
       "      <th>is_active_member</th>\n",
       "      <th>estimated_salary</th>\n",
       "      <th>exited</th>\n",
       "    </tr>\n",
       "  </thead>\n",
       "  <tbody>\n",
       "    <tr>\n",
       "      <td>0</td>\n",
       "      <td>619</td>\n",
       "      <td>france</td>\n",
       "      <td>female</td>\n",
       "      <td>42</td>\n",
       "      <td>2</td>\n",
       "      <td>0.00</td>\n",
       "      <td>1</td>\n",
       "      <td>1</td>\n",
       "      <td>1</td>\n",
       "      <td>101348.88</td>\n",
       "      <td>1</td>\n",
       "    </tr>\n",
       "    <tr>\n",
       "      <td>1</td>\n",
       "      <td>608</td>\n",
       "      <td>spain</td>\n",
       "      <td>female</td>\n",
       "      <td>41</td>\n",
       "      <td>1</td>\n",
       "      <td>83807.86</td>\n",
       "      <td>1</td>\n",
       "      <td>0</td>\n",
       "      <td>1</td>\n",
       "      <td>112542.58</td>\n",
       "      <td>0</td>\n",
       "    </tr>\n",
       "    <tr>\n",
       "      <td>2</td>\n",
       "      <td>502</td>\n",
       "      <td>france</td>\n",
       "      <td>female</td>\n",
       "      <td>42</td>\n",
       "      <td>8</td>\n",
       "      <td>159660.80</td>\n",
       "      <td>3</td>\n",
       "      <td>1</td>\n",
       "      <td>0</td>\n",
       "      <td>113931.57</td>\n",
       "      <td>1</td>\n",
       "    </tr>\n",
       "    <tr>\n",
       "      <td>3</td>\n",
       "      <td>699</td>\n",
       "      <td>france</td>\n",
       "      <td>female</td>\n",
       "      <td>39</td>\n",
       "      <td>1</td>\n",
       "      <td>0.00</td>\n",
       "      <td>2</td>\n",
       "      <td>0</td>\n",
       "      <td>0</td>\n",
       "      <td>93826.63</td>\n",
       "      <td>0</td>\n",
       "    </tr>\n",
       "    <tr>\n",
       "      <td>4</td>\n",
       "      <td>850</td>\n",
       "      <td>spain</td>\n",
       "      <td>female</td>\n",
       "      <td>43</td>\n",
       "      <td>2</td>\n",
       "      <td>125510.82</td>\n",
       "      <td>1</td>\n",
       "      <td>1</td>\n",
       "      <td>1</td>\n",
       "      <td>79084.10</td>\n",
       "      <td>0</td>\n",
       "    </tr>\n",
       "  </tbody>\n",
       "</table>\n",
       "</div>"
      ],
      "text/plain": [
       "   credit_score geography  gender  age  tenure    balance  num_of_products  \\\n",
       "0  619           france    female  42   2       0.00       1                 \n",
       "1  608           spain     female  41   1       83807.86   1                 \n",
       "2  502           france    female  42   8       159660.80  3                 \n",
       "3  699           france    female  39   1       0.00       2                 \n",
       "4  850           spain     female  43   2       125510.82  1                 \n",
       "\n",
       "   has_cr_card  is_active_member  estimated_salary  exited  \n",
       "0  1            1                 101348.88         1       \n",
       "1  0            1                 112542.58         0       \n",
       "2  1            0                 113931.57         1       \n",
       "3  0            0                 93826.63          0       \n",
       "4  1            1                 79084.10          0       "
      ]
     },
     "execution_count": 11,
     "metadata": {
     },
     "output_type": "execute_result"
    }
   ],
   "source": [
    "#удалим не нужные признаки\n",
    "df = data.drop(['row_number', 'customer_id', 'surname'], axis=1)\n",
    "df.head()"
   ]
  },
  {
   "cell_type": "markdown",
   "metadata": {
    "collapsed": false
   },
   "source": [
    "Осталось 11 признаков: 2 качественных (geography, gender) и 9 количественных."
   ]
  },
  {
   "cell_type": "code",
   "execution_count": 12,
   "metadata": {
    "collapsed": false
   },
   "outputs": [
    {
     "data": {
      "text/plain": [
       "0"
      ]
     },
     "execution_count": 12,
     "metadata": {
     },
     "output_type": "execute_result"
    }
   ],
   "source": [
    "#проверим дубликаты\n",
    "df.duplicated().sum()"
   ]
  },
  {
   "cell_type": "markdown",
   "metadata": {
    "collapsed": false
   },
   "source": [
    "1.4 Преобразование признаков"
   ]
  },
  {
   "cell_type": "markdown",
   "metadata": {
    "collapsed": false
   },
   "source": [
    "Преобразуем категориальные признаки в численные с помощью get_dummies() с аргументом drop_first, чтобы не создавать фиктивные признаки."
   ]
  },
  {
   "cell_type": "code",
   "execution_count": 13,
   "metadata": {
    "collapsed": false,
    "scrolled": true
   },
   "outputs": [
    {
     "data": {
      "text/html": [
       "<div>\n",
       "<style scoped>\n",
       "    .dataframe tbody tr th:only-of-type {\n",
       "        vertical-align: middle;\n",
       "    }\n",
       "\n",
       "    .dataframe tbody tr th {\n",
       "        vertical-align: top;\n",
       "    }\n",
       "\n",
       "    .dataframe thead th {\n",
       "        text-align: right;\n",
       "    }\n",
       "</style>\n",
       "<table border=\"1\" class=\"dataframe\">\n",
       "  <thead>\n",
       "    <tr style=\"text-align: right;\">\n",
       "      <th></th>\n",
       "      <th>credit_score</th>\n",
       "      <th>age</th>\n",
       "      <th>tenure</th>\n",
       "      <th>balance</th>\n",
       "      <th>num_of_products</th>\n",
       "      <th>has_cr_card</th>\n",
       "      <th>is_active_member</th>\n",
       "      <th>estimated_salary</th>\n",
       "      <th>exited</th>\n",
       "      <th>geography_germany</th>\n",
       "      <th>geography_spain</th>\n",
       "      <th>gender_male</th>\n",
       "    </tr>\n",
       "  </thead>\n",
       "  <tbody>\n",
       "    <tr>\n",
       "      <td>0</td>\n",
       "      <td>619</td>\n",
       "      <td>42</td>\n",
       "      <td>2</td>\n",
       "      <td>0.00</td>\n",
       "      <td>1</td>\n",
       "      <td>1</td>\n",
       "      <td>1</td>\n",
       "      <td>101348.88</td>\n",
       "      <td>1</td>\n",
       "      <td>0</td>\n",
       "      <td>0</td>\n",
       "      <td>0</td>\n",
       "    </tr>\n",
       "    <tr>\n",
       "      <td>1</td>\n",
       "      <td>608</td>\n",
       "      <td>41</td>\n",
       "      <td>1</td>\n",
       "      <td>83807.86</td>\n",
       "      <td>1</td>\n",
       "      <td>0</td>\n",
       "      <td>1</td>\n",
       "      <td>112542.58</td>\n",
       "      <td>0</td>\n",
       "      <td>0</td>\n",
       "      <td>1</td>\n",
       "      <td>0</td>\n",
       "    </tr>\n",
       "    <tr>\n",
       "      <td>2</td>\n",
       "      <td>502</td>\n",
       "      <td>42</td>\n",
       "      <td>8</td>\n",
       "      <td>159660.80</td>\n",
       "      <td>3</td>\n",
       "      <td>1</td>\n",
       "      <td>0</td>\n",
       "      <td>113931.57</td>\n",
       "      <td>1</td>\n",
       "      <td>0</td>\n",
       "      <td>0</td>\n",
       "      <td>0</td>\n",
       "    </tr>\n",
       "    <tr>\n",
       "      <td>3</td>\n",
       "      <td>699</td>\n",
       "      <td>39</td>\n",
       "      <td>1</td>\n",
       "      <td>0.00</td>\n",
       "      <td>2</td>\n",
       "      <td>0</td>\n",
       "      <td>0</td>\n",
       "      <td>93826.63</td>\n",
       "      <td>0</td>\n",
       "      <td>0</td>\n",
       "      <td>0</td>\n",
       "      <td>0</td>\n",
       "    </tr>\n",
       "    <tr>\n",
       "      <td>4</td>\n",
       "      <td>850</td>\n",
       "      <td>43</td>\n",
       "      <td>2</td>\n",
       "      <td>125510.82</td>\n",
       "      <td>1</td>\n",
       "      <td>1</td>\n",
       "      <td>1</td>\n",
       "      <td>79084.10</td>\n",
       "      <td>0</td>\n",
       "      <td>0</td>\n",
       "      <td>1</td>\n",
       "      <td>0</td>\n",
       "    </tr>\n",
       "  </tbody>\n",
       "</table>\n",
       "</div>"
      ],
      "text/plain": [
       "   credit_score  age  tenure    balance  num_of_products  has_cr_card  \\\n",
       "0  619           42   2       0.00       1                1             \n",
       "1  608           41   1       83807.86   1                0             \n",
       "2  502           42   8       159660.80  3                1             \n",
       "3  699           39   1       0.00       2                0             \n",
       "4  850           43   2       125510.82  1                1             \n",
       "\n",
       "   is_active_member  estimated_salary  exited  geography_germany  \\\n",
       "0  1                 101348.88         1       0                   \n",
       "1  1                 112542.58         0       0                   \n",
       "2  0                 113931.57         1       0                   \n",
       "3  0                 93826.63          0       0                   \n",
       "4  1                 79084.10          0       0                   \n",
       "\n",
       "   geography_spain  gender_male  \n",
       "0  0                0            \n",
       "1  1                0            \n",
       "2  0                0            \n",
       "3  0                0            \n",
       "4  1                0            "
      ]
     },
     "execution_count": 13,
     "metadata": {
     },
     "output_type": "execute_result"
    }
   ],
   "source": [
    "df_ohe = pd.get_dummies(df, drop_first=True)\n",
    "df_ohe.head()"
   ]
  },
  {
   "cell_type": "markdown",
   "metadata": {
    "collapsed": false
   },
   "source": [
    "1.5 Разобъем данные на выборки"
   ]
  },
  {
   "cell_type": "markdown",
   "metadata": {
    "collapsed": false
   },
   "source": [
    "Так как спрятанной тестовой выборки у нас нету, разделим исходные данные на три выборки: обучающую, валидационную и тестовую. Так как размеры тестовой и валидационной выборок обычно равны, разделим данные в соотношении 3:1:1.\n",
    "\n",
    "Сначала методом train_test_split разделим исходные данные на обучающую (60%) и валидационную выборку (40%). После этого разделим валидационную выборку пополам — на валидационную и тестовую выборки. Таким образом каждая из этих 2-х выборок составит 20% из всех данных df_ohe."
   ]
  },
  {
   "cell_type": "code",
   "execution_count": 14,
   "metadata": {
    "collapsed": false
   },
   "outputs": [
   ],
   "source": [
    "target = df_ohe['exited']\n",
    "features = df_ohe.drop('exited', axis=1)\n",
    "features_train, features_valid, target_train, target_valid = train_test_split(features, \n",
    "                                                                              target, \n",
    "                                                                              train_size=0.60, \n",
    "                                                                              test_size=0.40, \n",
    "                                                                              random_state=123, \n",
    "                                                                              stratify=target)"
   ]
  },
  {
   "cell_type": "code",
   "execution_count": 15,
   "metadata": {
    "collapsed": false
   },
   "outputs": [
   ],
   "source": [
    "features_valid, features_test, target_valid, target_test = train_test_split(features_valid, \n",
    "                                                                            target_valid, \n",
    "                                                                            train_size=0.50, \n",
    "                                                                            test_size=0.50, \n",
    "                                                                            random_state=123, \n",
    "                                                                            stratify=target_valid)"
   ]
  },
  {
   "cell_type": "markdown",
   "metadata": {
    "collapsed": false
   },
   "source": [
    "Проверим результат"
   ]
  },
  {
   "cell_type": "code",
   "execution_count": 16,
   "metadata": {
    "collapsed": false
   },
   "outputs": [
    {
     "name": "stdout",
     "output_type": "stream",
     "text": [
      "Размер обучающей выборки: (6000, 11)\n",
      "Размер валидационной выборки: (2000, 11)\n",
      "Размер тестовой выборки: (2000, 11)\n"
     ]
    }
   ],
   "source": [
    "samples = {'Размер обучающей выборки' : features_train, \n",
    "          'Размер валидационной выборки': features_valid, \n",
    "          'Размер тестовой выборки': features_test}\n",
    "\n",
    "for key, value in samples.items():\n",
    "    print(key + ':', value.shape)"
   ]
  },
  {
   "cell_type": "markdown",
   "metadata": {
    "collapsed": false
   },
   "source": [
    "1.6 Масштабирование признаков."
   ]
  },
  {
   "cell_type": "code",
   "execution_count": 17,
   "metadata": {
    "collapsed": false
   },
   "outputs": [
    {
     "data": {
      "text/html": [
       "<div>\n",
       "<style scoped>\n",
       "    .dataframe tbody tr th:only-of-type {\n",
       "        vertical-align: middle;\n",
       "    }\n",
       "\n",
       "    .dataframe tbody tr th {\n",
       "        vertical-align: top;\n",
       "    }\n",
       "\n",
       "    .dataframe thead th {\n",
       "        text-align: right;\n",
       "    }\n",
       "</style>\n",
       "<table border=\"1\" class=\"dataframe\">\n",
       "  <thead>\n",
       "    <tr style=\"text-align: right;\">\n",
       "      <th></th>\n",
       "      <th>credit_score</th>\n",
       "      <th>age</th>\n",
       "      <th>tenure</th>\n",
       "      <th>balance</th>\n",
       "      <th>num_of_products</th>\n",
       "      <th>has_cr_card</th>\n",
       "      <th>is_active_member</th>\n",
       "      <th>estimated_salary</th>\n",
       "      <th>exited</th>\n",
       "      <th>geography_germany</th>\n",
       "      <th>geography_spain</th>\n",
       "      <th>gender_male</th>\n",
       "    </tr>\n",
       "  </thead>\n",
       "  <tbody>\n",
       "    <tr>\n",
       "      <td>0</td>\n",
       "      <td>619</td>\n",
       "      <td>42</td>\n",
       "      <td>2</td>\n",
       "      <td>0.00</td>\n",
       "      <td>1</td>\n",
       "      <td>1</td>\n",
       "      <td>1</td>\n",
       "      <td>101348.88</td>\n",
       "      <td>1</td>\n",
       "      <td>0</td>\n",
       "      <td>0</td>\n",
       "      <td>0</td>\n",
       "    </tr>\n",
       "    <tr>\n",
       "      <td>1</td>\n",
       "      <td>608</td>\n",
       "      <td>41</td>\n",
       "      <td>1</td>\n",
       "      <td>83807.86</td>\n",
       "      <td>1</td>\n",
       "      <td>0</td>\n",
       "      <td>1</td>\n",
       "      <td>112542.58</td>\n",
       "      <td>0</td>\n",
       "      <td>0</td>\n",
       "      <td>1</td>\n",
       "      <td>0</td>\n",
       "    </tr>\n",
       "    <tr>\n",
       "      <td>2</td>\n",
       "      <td>502</td>\n",
       "      <td>42</td>\n",
       "      <td>8</td>\n",
       "      <td>159660.80</td>\n",
       "      <td>3</td>\n",
       "      <td>1</td>\n",
       "      <td>0</td>\n",
       "      <td>113931.57</td>\n",
       "      <td>1</td>\n",
       "      <td>0</td>\n",
       "      <td>0</td>\n",
       "      <td>0</td>\n",
       "    </tr>\n",
       "    <tr>\n",
       "      <td>3</td>\n",
       "      <td>699</td>\n",
       "      <td>39</td>\n",
       "      <td>1</td>\n",
       "      <td>0.00</td>\n",
       "      <td>2</td>\n",
       "      <td>0</td>\n",
       "      <td>0</td>\n",
       "      <td>93826.63</td>\n",
       "      <td>0</td>\n",
       "      <td>0</td>\n",
       "      <td>0</td>\n",
       "      <td>0</td>\n",
       "    </tr>\n",
       "    <tr>\n",
       "      <td>4</td>\n",
       "      <td>850</td>\n",
       "      <td>43</td>\n",
       "      <td>2</td>\n",
       "      <td>125510.82</td>\n",
       "      <td>1</td>\n",
       "      <td>1</td>\n",
       "      <td>1</td>\n",
       "      <td>79084.10</td>\n",
       "      <td>0</td>\n",
       "      <td>0</td>\n",
       "      <td>1</td>\n",
       "      <td>0</td>\n",
       "    </tr>\n",
       "  </tbody>\n",
       "</table>\n",
       "</div>"
      ],
      "text/plain": [
       "   credit_score  age  tenure    balance  num_of_products  has_cr_card  \\\n",
       "0  619           42   2       0.00       1                1             \n",
       "1  608           41   1       83807.86   1                0             \n",
       "2  502           42   8       159660.80  3                1             \n",
       "3  699           39   1       0.00       2                0             \n",
       "4  850           43   2       125510.82  1                1             \n",
       "\n",
       "   is_active_member  estimated_salary  exited  geography_germany  \\\n",
       "0  1                 101348.88         1       0                   \n",
       "1  1                 112542.58         0       0                   \n",
       "2  0                 113931.57         1       0                   \n",
       "3  0                 93826.63          0       0                   \n",
       "4  1                 79084.10          0       0                   \n",
       "\n",
       "   geography_spain  gender_male  \n",
       "0  0                0            \n",
       "1  1                0            \n",
       "2  0                0            \n",
       "3  0                0            \n",
       "4  1                0            "
      ]
     },
     "execution_count": 17,
     "metadata": {
     },
     "output_type": "execute_result"
    }
   ],
   "source": [
    "df_ohe.head()"
   ]
  },
  {
   "cell_type": "code",
   "execution_count": 18,
   "metadata": {
    "collapsed": false
   },
   "outputs": [
    {
     "data": {
      "text/html": [
       "<div>\n",
       "<style scoped>\n",
       "    .dataframe tbody tr th:only-of-type {\n",
       "        vertical-align: middle;\n",
       "    }\n",
       "\n",
       "    .dataframe tbody tr th {\n",
       "        vertical-align: top;\n",
       "    }\n",
       "\n",
       "    .dataframe thead th {\n",
       "        text-align: right;\n",
       "    }\n",
       "</style>\n",
       "<table border=\"1\" class=\"dataframe\">\n",
       "  <thead>\n",
       "    <tr style=\"text-align: right;\">\n",
       "      <th></th>\n",
       "      <th>credit_score</th>\n",
       "      <th>age</th>\n",
       "      <th>tenure</th>\n",
       "      <th>balance</th>\n",
       "      <th>num_of_products</th>\n",
       "      <th>has_cr_card</th>\n",
       "      <th>is_active_member</th>\n",
       "      <th>estimated_salary</th>\n",
       "      <th>geography_germany</th>\n",
       "      <th>geography_spain</th>\n",
       "      <th>gender_male</th>\n",
       "    </tr>\n",
       "  </thead>\n",
       "  <tbody>\n",
       "    <tr>\n",
       "      <td>6255</td>\n",
       "      <td>-1.081763</td>\n",
       "      <td>1.561078</td>\n",
       "      <td>-1.463231</td>\n",
       "      <td>0.567612</td>\n",
       "      <td>2.552230</td>\n",
       "      <td>1</td>\n",
       "      <td>0</td>\n",
       "      <td>-1.444757</td>\n",
       "      <td>1</td>\n",
       "      <td>0</td>\n",
       "      <td>1</td>\n",
       "    </tr>\n",
       "    <tr>\n",
       "      <td>7141</td>\n",
       "      <td>1.083241</td>\n",
       "      <td>-0.091611</td>\n",
       "      <td>-1.140673</td>\n",
       "      <td>0.097622</td>\n",
       "      <td>-0.926107</td>\n",
       "      <td>0</td>\n",
       "      <td>1</td>\n",
       "      <td>-1.559126</td>\n",
       "      <td>1</td>\n",
       "      <td>0</td>\n",
       "      <td>0</td>\n",
       "    </tr>\n",
       "    <tr>\n",
       "      <td>3824</td>\n",
       "      <td>0.167278</td>\n",
       "      <td>0.491691</td>\n",
       "      <td>-1.463231</td>\n",
       "      <td>0.751314</td>\n",
       "      <td>-0.926107</td>\n",
       "      <td>0</td>\n",
       "      <td>0</td>\n",
       "      <td>-1.476028</td>\n",
       "      <td>0</td>\n",
       "      <td>0</td>\n",
       "      <td>1</td>\n",
       "    </tr>\n",
       "    <tr>\n",
       "      <td>1901</td>\n",
       "      <td>1.509997</td>\n",
       "      <td>2.727681</td>\n",
       "      <td>0.149559</td>\n",
       "      <td>-1.219982</td>\n",
       "      <td>0.813061</td>\n",
       "      <td>0</td>\n",
       "      <td>1</td>\n",
       "      <td>-0.786010</td>\n",
       "      <td>0</td>\n",
       "      <td>1</td>\n",
       "      <td>1</td>\n",
       "    </tr>\n",
       "    <tr>\n",
       "      <td>2886</td>\n",
       "      <td>-2.101813</td>\n",
       "      <td>-0.188828</td>\n",
       "      <td>0.472117</td>\n",
       "      <td>-1.219982</td>\n",
       "      <td>0.813061</td>\n",
       "      <td>1</td>\n",
       "      <td>0</td>\n",
       "      <td>-0.312019</td>\n",
       "      <td>0</td>\n",
       "      <td>0</td>\n",
       "      <td>0</td>\n",
       "    </tr>\n",
       "  </tbody>\n",
       "</table>\n",
       "</div>"
      ],
      "text/plain": [
       "      credit_score       age    tenure   balance  num_of_products  \\\n",
       "6255 -1.081763      1.561078 -1.463231  0.567612  2.552230          \n",
       "7141  1.083241     -0.091611 -1.140673  0.097622 -0.926107          \n",
       "3824  0.167278      0.491691 -1.463231  0.751314 -0.926107          \n",
       "1901  1.509997      2.727681  0.149559 -1.219982  0.813061          \n",
       "2886 -2.101813     -0.188828  0.472117 -1.219982  0.813061          \n",
       "\n",
       "      has_cr_card  is_active_member  estimated_salary  geography_germany  \\\n",
       "6255  1            0                -1.444757          1                   \n",
       "7141  0            1                -1.559126          1                   \n",
       "3824  0            0                -1.476028          0                   \n",
       "1901  0            1                -0.786010          0                   \n",
       "2886  1            0                -0.312019          0                   \n",
       "\n",
       "      geography_spain  gender_male  \n",
       "6255  0                1            \n",
       "7141  0                0            \n",
       "3824  0                1            \n",
       "1901  1                1            \n",
       "2886  0                0            "
      ]
     },
     "execution_count": 18,
     "metadata": {
     },
     "output_type": "execute_result"
    }
   ],
   "source": [
    "numeric = ['credit_score', 'age', 'tenure', 'balance', 'num_of_products', 'estimated_salary']\n",
    "\n",
    "scaler = StandardScaler()\n",
    "scaler.fit(features_train[numeric])\n",
    "features_train[numeric] = scaler.transform(features_train[numeric])\n",
    "features_valid[numeric] = scaler.transform(features_valid[numeric])\n",
    "features_test[numeric] = scaler.transform(features_test[numeric])\n",
    "\n",
    "features_train.head()"
   ]
  },
  {
   "cell_type": "markdown",
   "metadata": {
    "collapsed": false
   },
   "source": [
    "Привели признаки к одному масштабу."
   ]
  },
  {
   "cell_type": "markdown",
   "metadata": {
    "collapsed": false
   },
   "source": [
    "Результат:\n",
    "- изучили данные и сделали предобработку данных (заменили тип данных и заполнили пропуски для признака tenure, проверили данные на дубликаты и переименовали признаки)\n",
    "- преобразовали категориальные признаки в численные\n",
    "- разделили исходные данные на три выборки: обучающую, валидационную и тестовую в соотношении 3:1:1.\n",
    "- масштабировали признаки."
   ]
  },
  {
   "cell_type": "markdown",
   "metadata": {
    "collapsed": false
   },
   "source": [
    "## Исследование задачи"
   ]
  },
  {
   "cell_type": "markdown",
   "metadata": {
    "collapsed": false
   },
   "source": [
    "В рамках проекта нам предстоит решить задачу бинарной классификации: спрогнозировать, уйдёт клиент из банка в ближайшее время или нет. Но перед тем, как приступить к задаче, необходимо:\n",
    "\n",
    "- исследовать баланс классов\n",
    "- обучить модели без учёта дисбаланса."
   ]
  },
  {
   "cell_type": "code",
   "execution_count": 19,
   "metadata": {
    "collapsed": false
   },
   "outputs": [
    {
     "data": {
      "text/plain": [
       "0    79.63\n",
       "1    20.37\n",
       "Name: exited, dtype: float64"
      ]
     },
     "execution_count": 19,
     "metadata": {
     },
     "output_type": "execute_result"
    }
   ],
   "source": [
    "#посмотрим на баланс классов\n",
    "df_ohe['exited'].value_counts() / len(df_ohe['exited']) * 100"
   ]
  },
  {
   "cell_type": "markdown",
   "metadata": {
    "collapsed": false
   },
   "source": [
    "классы не сбалансированны"
   ]
  },
  {
   "cell_type": "markdown",
   "metadata": {
    "collapsed": false
   },
   "source": [
    "Обучим разные модели без учёта дисбаланса. Так как нам предстоит решить задачу бинарной классификации, рассмотрим следующие модели классификации:\n",
    "\n",
    "- дерево принятия решений (Decision Tree Classifier)\n",
    "- случайный лес (Random Forest Classifier)\n",
    "- логистическая регрессия (Logistic Regression)."
   ]
  },
  {
   "cell_type": "code",
   "execution_count": 20,
   "metadata": {
    "collapsed": false
   },
   "outputs": [
   ],
   "source": [
    "models = [LogisticRegression(random_state=123), \n",
    "          DecisionTreeClassifier(random_state=123), \n",
    "          RandomForestClassifier(random_state=123)]\n",
    "\n",
    "results_imbalanced = []\n",
    "\n",
    "for model in models:\n",
    "    model.fit(features_train, target_train)\n",
    "    predictions_valid = model.predict(features_valid)\n",
    "    probabilities_valid = model.predict_proba(features_valid)\n",
    "    \n",
    "    accuracy = accuracy_score(target_valid, predictions_valid)\n",
    "    f1 = f1_score(target_valid, predictions_valid)\n",
    "    roc_auc = roc_auc_score(target_valid, probabilities_valid[:,1])\n",
    "    \n",
    "    results_imbalanced.append({'Model': model.__class__.__name__, \n",
    "                               'accuracy_imb': accuracy, \n",
    "                               'f1_imb': f1, \n",
    "                               'ROC AUC_imb': roc_auc})"
   ]
  },
  {
   "cell_type": "code",
   "execution_count": 21,
   "metadata": {
    "collapsed": false
   },
   "outputs": [
    {
     "data": {
      "text/html": [
       "<style  type=\"text/css\" >\n",
       "    #T_b1a2b21a_ca72_11eb_ae98_02420a399c71row2_col1 {\n",
       "            background-color:  lightgreen;\n",
       "        }    #T_b1a2b21a_ca72_11eb_ae98_02420a399c71row2_col2 {\n",
       "            background-color:  lightgreen;\n",
       "        }    #T_b1a2b21a_ca72_11eb_ae98_02420a399c71row2_col3 {\n",
       "            background-color:  lightgreen;\n",
       "        }</style><table id=\"T_b1a2b21a_ca72_11eb_ae98_02420a399c71\" ><thead>    <tr>        <th class=\"blank level0\" ></th>        <th class=\"col_heading level0 col0\" >Model</th>        <th class=\"col_heading level0 col1\" >accuracy_imb</th>        <th class=\"col_heading level0 col2\" >f1_imb</th>        <th class=\"col_heading level0 col3\" >ROC AUC_imb</th>    </tr></thead><tbody>\n",
       "                <tr>\n",
       "                        <th id=\"T_b1a2b21a_ca72_11eb_ae98_02420a399c71level0_row0\" class=\"row_heading level0 row0\" >0</th>\n",
       "                        <td id=\"T_b1a2b21a_ca72_11eb_ae98_02420a399c71row0_col0\" class=\"data row0 col0\" >LogisticRegression</td>\n",
       "                        <td id=\"T_b1a2b21a_ca72_11eb_ae98_02420a399c71row0_col1\" class=\"data row0 col1\" >0.804</td>\n",
       "                        <td id=\"T_b1a2b21a_ca72_11eb_ae98_02420a399c71row0_col2\" class=\"data row0 col2\" >0.302491</td>\n",
       "                        <td id=\"T_b1a2b21a_ca72_11eb_ae98_02420a399c71row0_col3\" class=\"data row0 col3\" >0.731555</td>\n",
       "            </tr>\n",
       "            <tr>\n",
       "                        <th id=\"T_b1a2b21a_ca72_11eb_ae98_02420a399c71level0_row1\" class=\"row_heading level0 row1\" >1</th>\n",
       "                        <td id=\"T_b1a2b21a_ca72_11eb_ae98_02420a399c71row1_col0\" class=\"data row1 col0\" >DecisionTreeClassifier</td>\n",
       "                        <td id=\"T_b1a2b21a_ca72_11eb_ae98_02420a399c71row1_col1\" class=\"data row1 col1\" >0.7895</td>\n",
       "                        <td id=\"T_b1a2b21a_ca72_11eb_ae98_02420a399c71row1_col2\" class=\"data row1 col2\" >0.493381</td>\n",
       "                        <td id=\"T_b1a2b21a_ca72_11eb_ae98_02420a399c71row1_col3\" class=\"data row1 col3\" >0.682758</td>\n",
       "            </tr>\n",
       "            <tr>\n",
       "                        <th id=\"T_b1a2b21a_ca72_11eb_ae98_02420a399c71level0_row2\" class=\"row_heading level0 row2\" >2</th>\n",
       "                        <td id=\"T_b1a2b21a_ca72_11eb_ae98_02420a399c71row2_col0\" class=\"data row2 col0\" >RandomForestClassifier</td>\n",
       "                        <td id=\"T_b1a2b21a_ca72_11eb_ae98_02420a399c71row2_col1\" class=\"data row2 col1\" >0.856</td>\n",
       "                        <td id=\"T_b1a2b21a_ca72_11eb_ae98_02420a399c71row2_col2\" class=\"data row2 col2\" >0.556923</td>\n",
       "                        <td id=\"T_b1a2b21a_ca72_11eb_ae98_02420a399c71row2_col3\" class=\"data row2 col3\" >0.84649</td>\n",
       "            </tr>\n",
       "    </tbody></table>"
      ],
      "text/plain": [
       "<pandas.io.formats.style.Styler at 0x7f8146909ed0>"
      ]
     },
     "execution_count": 21,
     "metadata": {
     },
     "output_type": "execute_result"
    }
   ],
   "source": [
    "pd.DataFrame(results_imbalanced).style.highlight_max(color = 'lightgreen', axis = 0)"
   ]
  },
  {
   "cell_type": "markdown",
   "metadata": {
    "collapsed": false
   },
   "source": [
    "Наилучший результат показала модель случайного леса."
   ]
  },
  {
   "cell_type": "markdown",
   "metadata": {
    "collapsed": false
   },
   "source": [
    "Результат:\n",
    "- проверили и сделали визуализацию баланса классов\n",
    "\n",
    "- обучили следующие модели без учёта дисбаланса:  \n",
    "  - дерево принятия решений  \n",
    "  - случайный лес  \n",
    "  - логистическая регрессия.  \n",
    "- для каждой из моделей вывели следующие метрики: accuracy_score, f1_score и roc_auc_score. По всем метрикам наилучший результат по показала модель случайного леса (а1_score = 0.84, f1_score = 0.53 roc_auc_score = 0.83)."
   ]
  },
  {
   "cell_type": "markdown",
   "metadata": {
    "collapsed": false
   },
   "source": [
    "## Борьба с дисбалансом"
   ]
  },
  {
   "cell_type": "markdown",
   "metadata": {
    "collapsed": false
   },
   "source": [
    "Существует несколько способов борьбы с дисбалансом, в рамках этого проекта будем применять следующие:\n",
    "\n",
    "- взвешивание классов (объектам редкого класса придается больший вес)\n",
    "- увеличение выборки (upsampling)\n",
    "- уменьшение выборки (downsampling)."
   ]
  },
  {
   "cell_type": "markdown",
   "metadata": {
    "collapsed": false
   },
   "source": [
    "3.1. Взвешивание классов"
   ]
  },
  {
   "cell_type": "markdown",
   "metadata": {
    "collapsed": false
   },
   "source": [
    "Обучим модели, указывая гиперпараметр class_weight = balanced."
   ]
  },
  {
   "cell_type": "code",
   "execution_count": 22,
   "metadata": {
    "collapsed": false
   },
   "outputs": [
   ],
   "source": [
    "models_balanced = [LogisticRegression(random_state=123, class_weight='balanced'), \n",
    "                   DecisionTreeClassifier(random_state=123, class_weight='balanced'), \n",
    "                   RandomForestClassifier(random_state=123, class_weight='balanced')]\n",
    "\n",
    "results_balanced = []\n",
    "\n",
    "for model in models_balanced:\n",
    "    model.fit(features_train, target_train)\n",
    "    predictions_valid = model.predict(features_valid)\n",
    "    probabilities_valid = model.predict_proba(features_valid)\n",
    "    \n",
    "    accuracy = accuracy_score(target_valid, predictions_valid)\n",
    "    f1 = f1_score(target_valid, predictions_valid)\n",
    "    roc_auc = roc_auc_score(target_valid, probabilities_valid[:,1])\n",
    "    \n",
    "    results_balanced.append({'Model': model.__class__.__name__,\n",
    "                             'accuracy_balanced': accuracy,\n",
    "                             'f1_balanced': f1, \n",
    "                             'ROC AUC score_balanced': roc_auc})"
   ]
  },
  {
   "cell_type": "code",
   "execution_count": 23,
   "metadata": {
    "collapsed": false
   },
   "outputs": [
    {
     "data": {
      "text/html": [
       "<style  type=\"text/css\" >\n",
       "    #T_b2ae7c02_ca72_11eb_ae98_02420a399c71row2_col1 {\n",
       "            background-color:  lightgreen;\n",
       "        }    #T_b2ae7c02_ca72_11eb_ae98_02420a399c71row2_col2 {\n",
       "            background-color:  lightgreen;\n",
       "        }    #T_b2ae7c02_ca72_11eb_ae98_02420a399c71row2_col3 {\n",
       "            background-color:  lightgreen;\n",
       "        }    #T_b2ae7c02_ca72_11eb_ae98_02420a399c71row2_col4 {\n",
       "            background-color:  lightgreen;\n",
       "        }    #T_b2ae7c02_ca72_11eb_ae98_02420a399c71row2_col5 {\n",
       "            background-color:  lightgreen;\n",
       "        }    #T_b2ae7c02_ca72_11eb_ae98_02420a399c71row2_col6 {\n",
       "            background-color:  lightgreen;\n",
       "        }</style><table id=\"T_b2ae7c02_ca72_11eb_ae98_02420a399c71\" ><thead>    <tr>        <th class=\"blank level0\" ></th>        <th class=\"col_heading level0 col0\" >Model</th>        <th class=\"col_heading level0 col1\" >ROC AUC score_balanced</th>        <th class=\"col_heading level0 col2\" >ROC AUC_imb</th>        <th class=\"col_heading level0 col3\" >accuracy_balanced</th>        <th class=\"col_heading level0 col4\" >accuracy_imb</th>        <th class=\"col_heading level0 col5\" >f1_balanced</th>        <th class=\"col_heading level0 col6\" >f1_imb</th>    </tr></thead><tbody>\n",
       "                <tr>\n",
       "                        <th id=\"T_b2ae7c02_ca72_11eb_ae98_02420a399c71level0_row0\" class=\"row_heading level0 row0\" >0</th>\n",
       "                        <td id=\"T_b2ae7c02_ca72_11eb_ae98_02420a399c71row0_col0\" class=\"data row0 col0\" >LogisticRegression</td>\n",
       "                        <td id=\"T_b2ae7c02_ca72_11eb_ae98_02420a399c71row0_col1\" class=\"data row0 col1\" >0.734507</td>\n",
       "                        <td id=\"T_b2ae7c02_ca72_11eb_ae98_02420a399c71row0_col2\" class=\"data row0 col2\" >0.731555</td>\n",
       "                        <td id=\"T_b2ae7c02_ca72_11eb_ae98_02420a399c71row0_col3\" class=\"data row0 col3\" >0.6915</td>\n",
       "                        <td id=\"T_b2ae7c02_ca72_11eb_ae98_02420a399c71row0_col4\" class=\"data row0 col4\" >0.804</td>\n",
       "                        <td id=\"T_b2ae7c02_ca72_11eb_ae98_02420a399c71row0_col5\" class=\"data row0 col5\" >0.460192</td>\n",
       "                        <td id=\"T_b2ae7c02_ca72_11eb_ae98_02420a399c71row0_col6\" class=\"data row0 col6\" >0.302491</td>\n",
       "            </tr>\n",
       "            <tr>\n",
       "                        <th id=\"T_b2ae7c02_ca72_11eb_ae98_02420a399c71level0_row1\" class=\"row_heading level0 row1\" >1</th>\n",
       "                        <td id=\"T_b2ae7c02_ca72_11eb_ae98_02420a399c71row1_col0\" class=\"data row1 col0\" >DecisionTreeClassifier</td>\n",
       "                        <td id=\"T_b2ae7c02_ca72_11eb_ae98_02420a399c71row1_col1\" class=\"data row1 col1\" >0.679581</td>\n",
       "                        <td id=\"T_b2ae7c02_ca72_11eb_ae98_02420a399c71row1_col2\" class=\"data row1 col2\" >0.682758</td>\n",
       "                        <td id=\"T_b2ae7c02_ca72_11eb_ae98_02420a399c71row1_col3\" class=\"data row1 col3\" >0.7975</td>\n",
       "                        <td id=\"T_b2ae7c02_ca72_11eb_ae98_02420a399c71row1_col4\" class=\"data row1 col4\" >0.7895</td>\n",
       "                        <td id=\"T_b2ae7c02_ca72_11eb_ae98_02420a399c71row1_col5\" class=\"data row1 col5\" >0.491844</td>\n",
       "                        <td id=\"T_b2ae7c02_ca72_11eb_ae98_02420a399c71row1_col6\" class=\"data row1 col6\" >0.493381</td>\n",
       "            </tr>\n",
       "            <tr>\n",
       "                        <th id=\"T_b2ae7c02_ca72_11eb_ae98_02420a399c71level0_row2\" class=\"row_heading level0 row2\" >2</th>\n",
       "                        <td id=\"T_b2ae7c02_ca72_11eb_ae98_02420a399c71row2_col0\" class=\"data row2 col0\" >RandomForestClassifier</td>\n",
       "                        <td id=\"T_b2ae7c02_ca72_11eb_ae98_02420a399c71row2_col1\" class=\"data row2 col1\" >0.840879</td>\n",
       "                        <td id=\"T_b2ae7c02_ca72_11eb_ae98_02420a399c71row2_col2\" class=\"data row2 col2\" >0.84649</td>\n",
       "                        <td id=\"T_b2ae7c02_ca72_11eb_ae98_02420a399c71row2_col3\" class=\"data row2 col3\" >0.855</td>\n",
       "                        <td id=\"T_b2ae7c02_ca72_11eb_ae98_02420a399c71row2_col4\" class=\"data row2 col4\" >0.856</td>\n",
       "                        <td id=\"T_b2ae7c02_ca72_11eb_ae98_02420a399c71row2_col5\" class=\"data row2 col5\" >0.544025</td>\n",
       "                        <td id=\"T_b2ae7c02_ca72_11eb_ae98_02420a399c71row2_col6\" class=\"data row2 col6\" >0.556923</td>\n",
       "            </tr>\n",
       "    </tbody></table>"
      ],
      "text/plain": [
       "<pandas.io.formats.style.Styler at 0x7f814693ef50>"
      ]
     },
     "execution_count": 23,
     "metadata": {
     },
     "output_type": "execute_result"
    }
   ],
   "source": [
    "final_results = pd.DataFrame(results_imbalanced).merge(pd.DataFrame(results_balanced), on='Model')\n",
    "final_results = final_results.reindex(sorted(final_results.columns), axis=1)\n",
    "final_results.style.highlight_max(color = 'lightgreen', axis = 0)"
   ]
  },
  {
   "cell_type": "markdown",
   "metadata": {
    "collapsed": false
   },
   "source": [
    "Наилучший результат снова у модели случайного леса"
   ]
  },
  {
   "cell_type": "markdown",
   "metadata": {
    "collapsed": false
   },
   "source": [
    "3.2. Увеличение выборки (upsampling)"
   ]
  },
  {
   "cell_type": "code",
   "execution_count": 24,
   "metadata": {
    "collapsed": false
   },
   "outputs": [
   ],
   "source": [
    "#напишем функцию для увеличения выборки\n",
    "def upsample(features, target, repeat):\n",
    "    features_zeros = features[target == 0]\n",
    "    features_ones = features[target == 1]\n",
    "    target_zeros = target[target == 0]\n",
    "    target_ones = target[target == 1]\n",
    "\n",
    "    features_upsampled = pd.concat([features_zeros] + [features_ones] * repeat)\n",
    "    target_upsampled = pd.concat([target_zeros] + [target_ones] * repeat)\n",
    "    \n",
    "    features_upsampled, target_upsampled = shuffle(features_upsampled, target_upsampled, random_state=123)\n",
    "    \n",
    "    return features_upsampled, target_upsampled\n",
    "\n",
    "features_upsampled, target_upsampled = upsample(features_train, target_train, 4)"
   ]
  },
  {
   "cell_type": "code",
   "execution_count": 25,
   "metadata": {
    "collapsed": false
   },
   "outputs": [
    {
     "name": "stdout",
     "output_type": "stream",
     "text": [
      "(9666, 11)\n",
      "(9666,)\n"
     ]
    }
   ],
   "source": [
    "# проверим размеры выборок\n",
    "print(features_upsampled.shape)\n",
    "print(target_upsampled.shape)"
   ]
  },
  {
   "cell_type": "code",
   "execution_count": 26,
   "metadata": {
    "collapsed": false
   },
   "outputs": [
    {
     "data": {
      "text/plain": [
       "1    50.569005\n",
       "0    49.430995\n",
       "Name: exited, dtype: float64"
      ]
     },
     "execution_count": 26,
     "metadata": {
     },
     "output_type": "execute_result"
    }
   ],
   "source": [
    "target_upsampled.value_counts() / len(target_upsampled) * 100"
   ]
  },
  {
   "cell_type": "markdown",
   "metadata": {
    "collapsed": false
   },
   "source": [
    "Выборка сбалансированна можно обучить модели"
   ]
  },
  {
   "cell_type": "code",
   "execution_count": 27,
   "metadata": {
    "collapsed": false
   },
   "outputs": [
    {
     "data": {
      "text/html": [
       "<style  type=\"text/css\" >\n",
       "    #T_b3f12ace_ca72_11eb_ae98_02420a399c71row2_col1 {\n",
       "            background-color:  lightgreen;\n",
       "        }    #T_b3f12ace_ca72_11eb_ae98_02420a399c71row2_col2 {\n",
       "            background-color:  lightgreen;\n",
       "        }    #T_b3f12ace_ca72_11eb_ae98_02420a399c71row2_col3 {\n",
       "            background-color:  lightgreen;\n",
       "        }    #T_b3f12ace_ca72_11eb_ae98_02420a399c71row2_col4 {\n",
       "            background-color:  lightgreen;\n",
       "        }    #T_b3f12ace_ca72_11eb_ae98_02420a399c71row2_col5 {\n",
       "            background-color:  lightgreen;\n",
       "        }    #T_b3f12ace_ca72_11eb_ae98_02420a399c71row2_col6 {\n",
       "            background-color:  lightgreen;\n",
       "        }    #T_b3f12ace_ca72_11eb_ae98_02420a399c71row2_col7 {\n",
       "            background-color:  lightgreen;\n",
       "        }    #T_b3f12ace_ca72_11eb_ae98_02420a399c71row2_col8 {\n",
       "            background-color:  lightgreen;\n",
       "        }    #T_b3f12ace_ca72_11eb_ae98_02420a399c71row2_col9 {\n",
       "            background-color:  lightgreen;\n",
       "        }</style><table id=\"T_b3f12ace_ca72_11eb_ae98_02420a399c71\" ><thead>    <tr>        <th class=\"blank level0\" ></th>        <th class=\"col_heading level0 col0\" >Model</th>        <th class=\"col_heading level0 col1\" >ROC AUC score_balanced</th>        <th class=\"col_heading level0 col2\" >ROC AUC score_up</th>        <th class=\"col_heading level0 col3\" >ROC AUC_imb</th>        <th class=\"col_heading level0 col4\" >accuracy_balanced</th>        <th class=\"col_heading level0 col5\" >accuracy_imb</th>        <th class=\"col_heading level0 col6\" >accuracy_up</th>        <th class=\"col_heading level0 col7\" >f1_balanced</th>        <th class=\"col_heading level0 col8\" >f1_imb</th>        <th class=\"col_heading level0 col9\" >f1_up</th>    </tr></thead><tbody>\n",
       "                <tr>\n",
       "                        <th id=\"T_b3f12ace_ca72_11eb_ae98_02420a399c71level0_row0\" class=\"row_heading level0 row0\" >0</th>\n",
       "                        <td id=\"T_b3f12ace_ca72_11eb_ae98_02420a399c71row0_col0\" class=\"data row0 col0\" >LogisticRegression</td>\n",
       "                        <td id=\"T_b3f12ace_ca72_11eb_ae98_02420a399c71row0_col1\" class=\"data row0 col1\" >0.734507</td>\n",
       "                        <td id=\"T_b3f12ace_ca72_11eb_ae98_02420a399c71row0_col2\" class=\"data row0 col2\" >0.734518</td>\n",
       "                        <td id=\"T_b3f12ace_ca72_11eb_ae98_02420a399c71row0_col3\" class=\"data row0 col3\" >0.731555</td>\n",
       "                        <td id=\"T_b3f12ace_ca72_11eb_ae98_02420a399c71row0_col4\" class=\"data row0 col4\" >0.6915</td>\n",
       "                        <td id=\"T_b3f12ace_ca72_11eb_ae98_02420a399c71row0_col5\" class=\"data row0 col5\" >0.804</td>\n",
       "                        <td id=\"T_b3f12ace_ca72_11eb_ae98_02420a399c71row0_col6\" class=\"data row0 col6\" >0.6865</td>\n",
       "                        <td id=\"T_b3f12ace_ca72_11eb_ae98_02420a399c71row0_col7\" class=\"data row0 col7\" >0.460192</td>\n",
       "                        <td id=\"T_b3f12ace_ca72_11eb_ae98_02420a399c71row0_col8\" class=\"data row0 col8\" >0.302491</td>\n",
       "                        <td id=\"T_b3f12ace_ca72_11eb_ae98_02420a399c71row0_col9\" class=\"data row0 col9\" >0.458081</td>\n",
       "            </tr>\n",
       "            <tr>\n",
       "                        <th id=\"T_b3f12ace_ca72_11eb_ae98_02420a399c71level0_row1\" class=\"row_heading level0 row1\" >1</th>\n",
       "                        <td id=\"T_b3f12ace_ca72_11eb_ae98_02420a399c71row1_col0\" class=\"data row1 col0\" >DecisionTreeClassifier</td>\n",
       "                        <td id=\"T_b3f12ace_ca72_11eb_ae98_02420a399c71row1_col1\" class=\"data row1 col1\" >0.679581</td>\n",
       "                        <td id=\"T_b3f12ace_ca72_11eb_ae98_02420a399c71row1_col2\" class=\"data row1 col2\" >0.682001</td>\n",
       "                        <td id=\"T_b3f12ace_ca72_11eb_ae98_02420a399c71row1_col3\" class=\"data row1 col3\" >0.682758</td>\n",
       "                        <td id=\"T_b3f12ace_ca72_11eb_ae98_02420a399c71row1_col4\" class=\"data row1 col4\" >0.7975</td>\n",
       "                        <td id=\"T_b3f12ace_ca72_11eb_ae98_02420a399c71row1_col5\" class=\"data row1 col5\" >0.7895</td>\n",
       "                        <td id=\"T_b3f12ace_ca72_11eb_ae98_02420a399c71row1_col6\" class=\"data row1 col6\" >0.797</td>\n",
       "                        <td id=\"T_b3f12ace_ca72_11eb_ae98_02420a399c71row1_col7\" class=\"data row1 col7\" >0.491844</td>\n",
       "                        <td id=\"T_b3f12ace_ca72_11eb_ae98_02420a399c71row1_col8\" class=\"data row1 col8\" >0.493381</td>\n",
       "                        <td id=\"T_b3f12ace_ca72_11eb_ae98_02420a399c71row1_col9\" class=\"data row1 col9\" >0.495025</td>\n",
       "            </tr>\n",
       "            <tr>\n",
       "                        <th id=\"T_b3f12ace_ca72_11eb_ae98_02420a399c71level0_row2\" class=\"row_heading level0 row2\" >2</th>\n",
       "                        <td id=\"T_b3f12ace_ca72_11eb_ae98_02420a399c71row2_col0\" class=\"data row2 col0\" >RandomForestClassifier</td>\n",
       "                        <td id=\"T_b3f12ace_ca72_11eb_ae98_02420a399c71row2_col1\" class=\"data row2 col1\" >0.840879</td>\n",
       "                        <td id=\"T_b3f12ace_ca72_11eb_ae98_02420a399c71row2_col2\" class=\"data row2 col2\" >0.84209</td>\n",
       "                        <td id=\"T_b3f12ace_ca72_11eb_ae98_02420a399c71row2_col3\" class=\"data row2 col3\" >0.84649</td>\n",
       "                        <td id=\"T_b3f12ace_ca72_11eb_ae98_02420a399c71row2_col4\" class=\"data row2 col4\" >0.855</td>\n",
       "                        <td id=\"T_b3f12ace_ca72_11eb_ae98_02420a399c71row2_col5\" class=\"data row2 col5\" >0.856</td>\n",
       "                        <td id=\"T_b3f12ace_ca72_11eb_ae98_02420a399c71row2_col6\" class=\"data row2 col6\" >0.8515</td>\n",
       "                        <td id=\"T_b3f12ace_ca72_11eb_ae98_02420a399c71row2_col7\" class=\"data row2 col7\" >0.544025</td>\n",
       "                        <td id=\"T_b3f12ace_ca72_11eb_ae98_02420a399c71row2_col8\" class=\"data row2 col8\" >0.556923</td>\n",
       "                        <td id=\"T_b3f12ace_ca72_11eb_ae98_02420a399c71row2_col9\" class=\"data row2 col9\" >0.597015</td>\n",
       "            </tr>\n",
       "    </tbody></table>"
      ],
      "text/plain": [
       "<pandas.io.formats.style.Styler at 0x7f81cc70ac90>"
      ]
     },
     "execution_count": 27,
     "metadata": {
     },
     "output_type": "execute_result"
    }
   ],
   "source": [
    "results_upsampling = []\n",
    "\n",
    "for model in models:\n",
    "    model.fit(features_upsampled, target_upsampled)\n",
    "    predictions_valid = model.predict(features_valid)\n",
    "    probabilities_valid = model.predict_proba(features_valid)\n",
    "    \n",
    "    accuracy = accuracy_score(target_valid, predictions_valid)\n",
    "    f1 = f1_score(target_valid, predictions_valid)\n",
    "    roc_auc = roc_auc_score(target_valid, probabilities_valid[:,1])\n",
    "    \n",
    "    results_upsampling.append({'Model': model.__class__.__name__, \n",
    "                               'accuracy_up': accuracy,\n",
    "                               'f1_up': f1, \n",
    "                               'ROC AUC score_up': roc_auc})\n",
    "final_results = final_results.merge(pd.DataFrame(results_upsampling), on='Model')\n",
    "final_results = final_results.reindex(sorted(final_results.columns), axis=1)\n",
    "final_results.style.highlight_max(color = 'lightgreen', axis = 0)"
   ]
  },
  {
   "cell_type": "markdown",
   "metadata": {
    "collapsed": false
   },
   "source": [
    "Видим, что модель случайного леса стала прогнозировать лучше. Сейчас f1-score = 0.57, а roc_auc_score = 0.815 (что ниже, чем на несбалансированной выборке).\n",
    "  \n",
    "Модель логистической регрессии лучше отработала на данных, сбалансированных при помощи гиперпараметра class_weight = balanced. При этом показатель roc_auc_score почти не изменился.\n",
    "  \n",
    "Дерево принятия решений показывает почти одинаковый результат f1_score на данных, сбалансированных при помощи увеличение выборки (0.49) и на несбалансированных данных (0.49)."
   ]
  },
  {
   "cell_type": "markdown",
   "metadata": {
    "collapsed": false
   },
   "source": [
    "3.3. Уменьшение выборки downsampling"
   ]
  },
  {
   "cell_type": "code",
   "execution_count": 28,
   "metadata": {
    "collapsed": false
   },
   "outputs": [
   ],
   "source": [
    "# используем функцию для уменьшения частоты объектов частого класса\n",
    "def downsample(features, target, fraction):\n",
    "    features_zeros = features[target == 0]\n",
    "    features_ones = features[target == 1]\n",
    "    target_zeros = target[target == 0]\n",
    "    target_ones = target[target == 1]\n",
    "\n",
    "    features_downsampled = pd.concat([features_zeros.sample(frac=fraction, random_state=123)] + [features_ones])\n",
    "    target_downsampled = pd.concat([target_zeros.sample(frac=fraction, random_state=123)] + [target_ones])\n",
    "    \n",
    "    features_downsampled, target_downsampled = shuffle(features_downsampled, target_downsampled, random_state=123)\n",
    "    return features_downsampled, target_downsampled\n",
    "\n",
    "features_downsampled, target_downsampled = downsample(features_train, target_train, 0.25)"
   ]
  },
  {
   "cell_type": "code",
   "execution_count": 29,
   "metadata": {
    "collapsed": false
   },
   "outputs": [
    {
     "name": "stdout",
     "output_type": "stream",
     "text": [
      "(2416, 11)\n",
      "(2416,)\n"
     ]
    }
   ],
   "source": [
    "# проверим размеры выборок\n",
    "print(features_downsampled.shape)\n",
    "print(target_downsampled.shape)"
   ]
  },
  {
   "cell_type": "code",
   "execution_count": 30,
   "metadata": {
    "collapsed": false
   },
   "outputs": [
    {
     "data": {
      "text/plain": [
       "1    12.642251\n",
       "0    12.352576\n",
       "Name: exited, dtype: float64"
      ]
     },
     "execution_count": 30,
     "metadata": {
     },
     "output_type": "execute_result"
    }
   ],
   "source": [
    "target_downsampled.value_counts() / len(target_upsampled) * 100"
   ]
  },
  {
   "cell_type": "code",
   "execution_count": 31,
   "metadata": {
    "collapsed": false
   },
   "outputs": [
    {
     "data": {
      "text/html": [
       "<style  type=\"text/css\" >\n",
       "    #T_b4b5f3ea_ca72_11eb_ae98_02420a399c71row2_col1 {\n",
       "            background-color:  lightgreen;\n",
       "        }    #T_b4b5f3ea_ca72_11eb_ae98_02420a399c71row2_col2 {\n",
       "            background-color:  lightgreen;\n",
       "        }    #T_b4b5f3ea_ca72_11eb_ae98_02420a399c71row2_col3 {\n",
       "            background-color:  lightgreen;\n",
       "        }    #T_b4b5f3ea_ca72_11eb_ae98_02420a399c71row2_col4 {\n",
       "            background-color:  lightgreen;\n",
       "        }    #T_b4b5f3ea_ca72_11eb_ae98_02420a399c71row2_col5 {\n",
       "            background-color:  lightgreen;\n",
       "        }    #T_b4b5f3ea_ca72_11eb_ae98_02420a399c71row2_col6 {\n",
       "            background-color:  lightgreen;\n",
       "        }    #T_b4b5f3ea_ca72_11eb_ae98_02420a399c71row2_col7 {\n",
       "            background-color:  lightgreen;\n",
       "        }    #T_b4b5f3ea_ca72_11eb_ae98_02420a399c71row2_col8 {\n",
       "            background-color:  lightgreen;\n",
       "        }    #T_b4b5f3ea_ca72_11eb_ae98_02420a399c71row2_col9 {\n",
       "            background-color:  lightgreen;\n",
       "        }    #T_b4b5f3ea_ca72_11eb_ae98_02420a399c71row2_col10 {\n",
       "            background-color:  lightgreen;\n",
       "        }    #T_b4b5f3ea_ca72_11eb_ae98_02420a399c71row2_col11 {\n",
       "            background-color:  lightgreen;\n",
       "        }    #T_b4b5f3ea_ca72_11eb_ae98_02420a399c71row2_col12 {\n",
       "            background-color:  lightgreen;\n",
       "        }</style><table id=\"T_b4b5f3ea_ca72_11eb_ae98_02420a399c71\" ><thead>    <tr>        <th class=\"blank level0\" ></th>        <th class=\"col_heading level0 col0\" >Model</th>        <th class=\"col_heading level0 col1\" >ROC AUC score_balanced</th>        <th class=\"col_heading level0 col2\" >ROC AUC score_down</th>        <th class=\"col_heading level0 col3\" >ROC AUC score_up</th>        <th class=\"col_heading level0 col4\" >ROC AUC_imb</th>        <th class=\"col_heading level0 col5\" >accuracy_balanced</th>        <th class=\"col_heading level0 col6\" >accuracy_down</th>        <th class=\"col_heading level0 col7\" >accuracy_imb</th>        <th class=\"col_heading level0 col8\" >accuracy_up</th>        <th class=\"col_heading level0 col9\" >f1_balanced</th>        <th class=\"col_heading level0 col10\" >f1_down</th>        <th class=\"col_heading level0 col11\" >f1_imb</th>        <th class=\"col_heading level0 col12\" >f1_up</th>    </tr></thead><tbody>\n",
       "                <tr>\n",
       "                        <th id=\"T_b4b5f3ea_ca72_11eb_ae98_02420a399c71level0_row0\" class=\"row_heading level0 row0\" >0</th>\n",
       "                        <td id=\"T_b4b5f3ea_ca72_11eb_ae98_02420a399c71row0_col0\" class=\"data row0 col0\" >LogisticRegression</td>\n",
       "                        <td id=\"T_b4b5f3ea_ca72_11eb_ae98_02420a399c71row0_col1\" class=\"data row0 col1\" >0.734507</td>\n",
       "                        <td id=\"T_b4b5f3ea_ca72_11eb_ae98_02420a399c71row0_col2\" class=\"data row0 col2\" >0.733288</td>\n",
       "                        <td id=\"T_b4b5f3ea_ca72_11eb_ae98_02420a399c71row0_col3\" class=\"data row0 col3\" >0.734518</td>\n",
       "                        <td id=\"T_b4b5f3ea_ca72_11eb_ae98_02420a399c71row0_col4\" class=\"data row0 col4\" >0.731555</td>\n",
       "                        <td id=\"T_b4b5f3ea_ca72_11eb_ae98_02420a399c71row0_col5\" class=\"data row0 col5\" >0.6915</td>\n",
       "                        <td id=\"T_b4b5f3ea_ca72_11eb_ae98_02420a399c71row0_col6\" class=\"data row0 col6\" >0.682</td>\n",
       "                        <td id=\"T_b4b5f3ea_ca72_11eb_ae98_02420a399c71row0_col7\" class=\"data row0 col7\" >0.804</td>\n",
       "                        <td id=\"T_b4b5f3ea_ca72_11eb_ae98_02420a399c71row0_col8\" class=\"data row0 col8\" >0.6865</td>\n",
       "                        <td id=\"T_b4b5f3ea_ca72_11eb_ae98_02420a399c71row0_col9\" class=\"data row0 col9\" >0.460192</td>\n",
       "                        <td id=\"T_b4b5f3ea_ca72_11eb_ae98_02420a399c71row0_col10\" class=\"data row0 col10\" >0.45641</td>\n",
       "                        <td id=\"T_b4b5f3ea_ca72_11eb_ae98_02420a399c71row0_col11\" class=\"data row0 col11\" >0.302491</td>\n",
       "                        <td id=\"T_b4b5f3ea_ca72_11eb_ae98_02420a399c71row0_col12\" class=\"data row0 col12\" >0.458081</td>\n",
       "            </tr>\n",
       "            <tr>\n",
       "                        <th id=\"T_b4b5f3ea_ca72_11eb_ae98_02420a399c71level0_row1\" class=\"row_heading level0 row1\" >1</th>\n",
       "                        <td id=\"T_b4b5f3ea_ca72_11eb_ae98_02420a399c71row1_col0\" class=\"data row1 col0\" >DecisionTreeClassifier</td>\n",
       "                        <td id=\"T_b4b5f3ea_ca72_11eb_ae98_02420a399c71row1_col1\" class=\"data row1 col1\" >0.679581</td>\n",
       "                        <td id=\"T_b4b5f3ea_ca72_11eb_ae98_02420a399c71row1_col2\" class=\"data row1 col2\" >0.692069</td>\n",
       "                        <td id=\"T_b4b5f3ea_ca72_11eb_ae98_02420a399c71row1_col3\" class=\"data row1 col3\" >0.682001</td>\n",
       "                        <td id=\"T_b4b5f3ea_ca72_11eb_ae98_02420a399c71row1_col4\" class=\"data row1 col4\" >0.682758</td>\n",
       "                        <td id=\"T_b4b5f3ea_ca72_11eb_ae98_02420a399c71row1_col5\" class=\"data row1 col5\" >0.7975</td>\n",
       "                        <td id=\"T_b4b5f3ea_ca72_11eb_ae98_02420a399c71row1_col6\" class=\"data row1 col6\" >0.6955</td>\n",
       "                        <td id=\"T_b4b5f3ea_ca72_11eb_ae98_02420a399c71row1_col7\" class=\"data row1 col7\" >0.7895</td>\n",
       "                        <td id=\"T_b4b5f3ea_ca72_11eb_ae98_02420a399c71row1_col8\" class=\"data row1 col8\" >0.797</td>\n",
       "                        <td id=\"T_b4b5f3ea_ca72_11eb_ae98_02420a399c71row1_col9\" class=\"data row1 col9\" >0.491844</td>\n",
       "                        <td id=\"T_b4b5f3ea_ca72_11eb_ae98_02420a399c71row1_col10\" class=\"data row1 col10\" >0.479042</td>\n",
       "                        <td id=\"T_b4b5f3ea_ca72_11eb_ae98_02420a399c71row1_col11\" class=\"data row1 col11\" >0.493381</td>\n",
       "                        <td id=\"T_b4b5f3ea_ca72_11eb_ae98_02420a399c71row1_col12\" class=\"data row1 col12\" >0.495025</td>\n",
       "            </tr>\n",
       "            <tr>\n",
       "                        <th id=\"T_b4b5f3ea_ca72_11eb_ae98_02420a399c71level0_row2\" class=\"row_heading level0 row2\" >2</th>\n",
       "                        <td id=\"T_b4b5f3ea_ca72_11eb_ae98_02420a399c71row2_col0\" class=\"data row2 col0\" >RandomForestClassifier</td>\n",
       "                        <td id=\"T_b4b5f3ea_ca72_11eb_ae98_02420a399c71row2_col1\" class=\"data row2 col1\" >0.840879</td>\n",
       "                        <td id=\"T_b4b5f3ea_ca72_11eb_ae98_02420a399c71row2_col2\" class=\"data row2 col2\" >0.840597</td>\n",
       "                        <td id=\"T_b4b5f3ea_ca72_11eb_ae98_02420a399c71row2_col3\" class=\"data row2 col3\" >0.84209</td>\n",
       "                        <td id=\"T_b4b5f3ea_ca72_11eb_ae98_02420a399c71row2_col4\" class=\"data row2 col4\" >0.84649</td>\n",
       "                        <td id=\"T_b4b5f3ea_ca72_11eb_ae98_02420a399c71row2_col5\" class=\"data row2 col5\" >0.855</td>\n",
       "                        <td id=\"T_b4b5f3ea_ca72_11eb_ae98_02420a399c71row2_col6\" class=\"data row2 col6\" >0.758</td>\n",
       "                        <td id=\"T_b4b5f3ea_ca72_11eb_ae98_02420a399c71row2_col7\" class=\"data row2 col7\" >0.856</td>\n",
       "                        <td id=\"T_b4b5f3ea_ca72_11eb_ae98_02420a399c71row2_col8\" class=\"data row2 col8\" >0.8515</td>\n",
       "                        <td id=\"T_b4b5f3ea_ca72_11eb_ae98_02420a399c71row2_col9\" class=\"data row2 col9\" >0.544025</td>\n",
       "                        <td id=\"T_b4b5f3ea_ca72_11eb_ae98_02420a399c71row2_col10\" class=\"data row2 col10\" >0.555147</td>\n",
       "                        <td id=\"T_b4b5f3ea_ca72_11eb_ae98_02420a399c71row2_col11\" class=\"data row2 col11\" >0.556923</td>\n",
       "                        <td id=\"T_b4b5f3ea_ca72_11eb_ae98_02420a399c71row2_col12\" class=\"data row2 col12\" >0.597015</td>\n",
       "            </tr>\n",
       "    </tbody></table>"
      ],
      "text/plain": [
       "<pandas.io.formats.style.Styler at 0x7f8146909ad0>"
      ]
     },
     "execution_count": 31,
     "metadata": {
     },
     "output_type": "execute_result"
    }
   ],
   "source": [
    "# обучим модели\n",
    "results_downsampling = []\n",
    "\n",
    "for model in models:\n",
    "    model.fit(features_downsampled, target_downsampled)\n",
    "    predictions_valid = model.predict(features_valid)\n",
    "    probabilities_valid = model.predict_proba(features_valid)\n",
    "    \n",
    "    accuracy = accuracy_score(target_valid, predictions_valid)\n",
    "    f1 = f1_score(target_valid, predictions_valid)\n",
    "    roc_auc = roc_auc_score(target_valid, probabilities_valid[:,1])\n",
    "    \n",
    "    results_downsampling.append({'Model': model.__class__.__name__, \n",
    "                                 'accuracy_down': accuracy, \n",
    "                                 'f1_down': f1, \n",
    "                                 'ROC AUC score_down': roc_auc})\n",
    "final_results = final_results.merge(pd.DataFrame(results_downsampling), on='Model')\n",
    "final_results = final_results.reindex(sorted(final_results.columns), axis=1)\n",
    "final_results.style.highlight_max(color = 'lightgreen', axis = 0)"
   ]
  },
  {
   "cell_type": "markdown",
   "metadata": {
    "collapsed": false
   },
   "source": [
    "И снова побеждает модель случайного леса"
   ]
  },
  {
   "cell_type": "markdown",
   "metadata": {
    "collapsed": false
   },
   "source": [
    "Видим, что модель логистической регрессии лучше работает на данных, сбалансированных при помощи гиперпараметра class_weight = balanced (f1_score = 0.46). Остальные модели лучше работают на данных, преобразованных при помощи увеличение выборки.\n",
    "  \n",
    "На следующем этапе проекта обучим каждую из моделей на тех данных, на которых она показала наилучший результат метрики f1_score. Для каждой модели подберем разные гиперпараметры и попробуем улучшить ее работу."
   ]
  },
  {
   "cell_type": "markdown",
   "metadata": {
    "collapsed": false
   },
   "source": [
    "3.4. Настройка гиперпараметров"
   ]
  },
  {
   "cell_type": "markdown",
   "metadata": {
    "collapsed": false
   },
   "source": [
    "Логистическая регрессия"
   ]
  },
  {
   "cell_type": "code",
   "execution_count": 32,
   "metadata": {
    "collapsed": false
   },
   "outputs": [
    {
     "data": {
      "text/html": [
       "<div>\n",
       "<style scoped>\n",
       "    .dataframe tbody tr th:only-of-type {\n",
       "        vertical-align: middle;\n",
       "    }\n",
       "\n",
       "    .dataframe tbody tr th {\n",
       "        vertical-align: top;\n",
       "    }\n",
       "\n",
       "    .dataframe thead th {\n",
       "        text-align: right;\n",
       "    }\n",
       "</style>\n",
       "<table border=\"1\" class=\"dataframe\">\n",
       "  <thead>\n",
       "    <tr style=\"text-align: right;\">\n",
       "      <th></th>\n",
       "      <th>Model</th>\n",
       "      <th>Hyperparameters</th>\n",
       "      <th>Accuracy</th>\n",
       "      <th>F1 score</th>\n",
       "      <th>ROC AUC score</th>\n",
       "    </tr>\n",
       "  </thead>\n",
       "  <tbody>\n",
       "    <tr>\n",
       "      <td>0</td>\n",
       "      <td>LogisticRegression_l1</td>\n",
       "      <td>{'random_state': 123, 'class_weight': 'balanced', 'solver': 'liblinear', 'penalty': 'l1'}</td>\n",
       "      <td>0.758</td>\n",
       "      <td>0.555147</td>\n",
       "      <td>0.734554</td>\n",
       "    </tr>\n",
       "    <tr>\n",
       "      <td>1</td>\n",
       "      <td>LogisticRegression_l2</td>\n",
       "      <td>{'random_state': 123, 'class_weight': 'balanced', 'solver': 'lbfgs', 'penalty': 'l2'}</td>\n",
       "      <td>0.758</td>\n",
       "      <td>0.555147</td>\n",
       "      <td>0.734507</td>\n",
       "    </tr>\n",
       "  </tbody>\n",
       "</table>\n",
       "</div>"
      ],
      "text/plain": [
       "                   Model  \\\n",
       "0  LogisticRegression_l1   \n",
       "1  LogisticRegression_l2   \n",
       "\n",
       "                                                                             Hyperparameters  \\\n",
       "0  {'random_state': 123, 'class_weight': 'balanced', 'solver': 'liblinear', 'penalty': 'l1'}   \n",
       "1  {'random_state': 123, 'class_weight': 'balanced', 'solver': 'lbfgs', 'penalty': 'l2'}       \n",
       "\n",
       "   Accuracy  F1 score  ROC AUC score  \n",
       "0  0.758     0.555147  0.734554       \n",
       "1  0.758     0.555147  0.734507       "
      ]
     },
     "execution_count": 32,
     "metadata": {
     },
     "output_type": "execute_result"
    }
   ],
   "source": [
    "results_lr = []\n",
    "\n",
    "penalty_l1 = LogisticRegression(random_state=123, class_weight='balanced', solver='liblinear', penalty='l1') \n",
    "penalty_l2 = LogisticRegression(random_state=123, class_weight='balanced', solver='lbfgs', penalty='l2') \n",
    "\n",
    "models_lr = [penalty_l1, penalty_l2]\n",
    "\n",
    "for model in models_lr:\n",
    "    model.fit(features_train, target_train)\n",
    "    predictions = model.predict(features_valid)\n",
    "    probabilities_valid = model.predict_proba(features_valid)\n",
    "\n",
    "    accuracy = accuracy_score(target_valid, predictions_valid)\n",
    "    f1 = f1_score(target_valid, predictions_valid)\n",
    "    roc_auc = roc_auc_score(target_valid, probabilities_valid[:,1])\n",
    "    \n",
    "    results_lr.append({'Model': model.__class__.__name__ + '_' + model.penalty , \n",
    "                       'Hyperparameters': {'random_state': 123, \n",
    "                                          'class_weight': model.class_weight, \n",
    "                                          'solver': model.solver, \n",
    "                                          'penalty': model.penalty},\n",
    "                       'Accuracy': accuracy, \n",
    "                       'F1 score': f1, \n",
    "                       'ROC AUC score': roc_auc})\n",
    "    \n",
    "pd.DataFrame(results_lr)"
   ]
  },
  {
   "cell_type": "markdown",
   "metadata": {
    "collapsed": false
   },
   "source": [
    "Результат почти идентичен, но модель логистической регрессии с гиперпараметром penalty = l1 дает незначительно лучше результат по метрике roc_auc_score. Результат метрики f1_score в обоих случаях = 0.539.\n",
    "  \n",
    "Сохраним результат модель логистической регрессии с гиперпараметром penalty = l1 в переменной best_results."
   ]
  },
  {
   "cell_type": "code",
   "execution_count": 33,
   "metadata": {
    "collapsed": false
   },
   "outputs": [
   ],
   "source": [
    "best_results = []\n",
    "best_results.append(pd.DataFrame(results_lr).loc[0])"
   ]
  },
  {
   "cell_type": "markdown",
   "metadata": {
    "collapsed": false
   },
   "source": [
    "Дерево принятия решений\n",
    "  \n",
    "Помним, что данная модель лучше работала на данных, преобразованных при помощи увеличение выборки. В цикле настроим гиперпараметр max_depth (глубина дерева) и попробуем улучшить работу модели."
   ]
  },
  {
   "cell_type": "code",
   "execution_count": 34,
   "metadata": {
    "collapsed": false
   },
   "outputs": [
    {
     "data": {
      "text/html": [
       "<style  type=\"text/css\" >\n",
       "    #T_b54d3cc8_ca72_11eb_ae98_02420a399c71row4_col4 {\n",
       "            background-color:  lightgreen;\n",
       "        }    #T_b54d3cc8_ca72_11eb_ae98_02420a399c71row5_col3 {\n",
       "            background-color:  lightgreen;\n",
       "        }    #T_b54d3cc8_ca72_11eb_ae98_02420a399c71row6_col2 {\n",
       "            background-color:  lightgreen;\n",
       "        }</style><table id=\"T_b54d3cc8_ca72_11eb_ae98_02420a399c71\" ><thead>    <tr>        <th class=\"blank level0\" ></th>        <th class=\"col_heading level0 col0\" >Model</th>        <th class=\"col_heading level0 col1\" >Hyperparameters</th>        <th class=\"col_heading level0 col2\" >Accuracy</th>        <th class=\"col_heading level0 col3\" >F1 score</th>        <th class=\"col_heading level0 col4\" >ROC AUC score</th>    </tr></thead><tbody>\n",
       "                <tr>\n",
       "                        <th id=\"T_b54d3cc8_ca72_11eb_ae98_02420a399c71level0_row0\" class=\"row_heading level0 row0\" >0</th>\n",
       "                        <td id=\"T_b54d3cc8_ca72_11eb_ae98_02420a399c71row0_col0\" class=\"data row0 col0\" >DecisionTreeClassifier</td>\n",
       "                        <td id=\"T_b54d3cc8_ca72_11eb_ae98_02420a399c71row0_col1\" class=\"data row0 col1\" >{'random_state': 123, 'max_depth': 1}</td>\n",
       "                        <td id=\"T_b54d3cc8_ca72_11eb_ae98_02420a399c71row0_col2\" class=\"data row0 col2\" >0.71</td>\n",
       "                        <td id=\"T_b54d3cc8_ca72_11eb_ae98_02420a399c71row0_col3\" class=\"data row0 col3\" >0.462963</td>\n",
       "                        <td id=\"T_b54d3cc8_ca72_11eb_ae98_02420a399c71row0_col4\" class=\"data row0 col4\" >0.673835</td>\n",
       "            </tr>\n",
       "            <tr>\n",
       "                        <th id=\"T_b54d3cc8_ca72_11eb_ae98_02420a399c71level0_row1\" class=\"row_heading level0 row1\" >1</th>\n",
       "                        <td id=\"T_b54d3cc8_ca72_11eb_ae98_02420a399c71row1_col0\" class=\"data row1 col0\" >DecisionTreeClassifier</td>\n",
       "                        <td id=\"T_b54d3cc8_ca72_11eb_ae98_02420a399c71row1_col1\" class=\"data row1 col1\" >{'random_state': 123, 'max_depth': 2}</td>\n",
       "                        <td id=\"T_b54d3cc8_ca72_11eb_ae98_02420a399c71row1_col2\" class=\"data row1 col2\" >0.72</td>\n",
       "                        <td id=\"T_b54d3cc8_ca72_11eb_ae98_02420a399c71row1_col3\" class=\"data row1 col3\" >0.496403</td>\n",
       "                        <td id=\"T_b54d3cc8_ca72_11eb_ae98_02420a399c71row1_col4\" class=\"data row1 col4\" >0.735933</td>\n",
       "            </tr>\n",
       "            <tr>\n",
       "                        <th id=\"T_b54d3cc8_ca72_11eb_ae98_02420a399c71level0_row2\" class=\"row_heading level0 row2\" >2</th>\n",
       "                        <td id=\"T_b54d3cc8_ca72_11eb_ae98_02420a399c71row2_col0\" class=\"data row2 col0\" >DecisionTreeClassifier</td>\n",
       "                        <td id=\"T_b54d3cc8_ca72_11eb_ae98_02420a399c71row2_col1\" class=\"data row2 col1\" >{'random_state': 123, 'max_depth': 3}</td>\n",
       "                        <td id=\"T_b54d3cc8_ca72_11eb_ae98_02420a399c71row2_col2\" class=\"data row2 col2\" >0.72</td>\n",
       "                        <td id=\"T_b54d3cc8_ca72_11eb_ae98_02420a399c71row2_col3\" class=\"data row2 col3\" >0.496403</td>\n",
       "                        <td id=\"T_b54d3cc8_ca72_11eb_ae98_02420a399c71row2_col4\" class=\"data row2 col4\" >0.785846</td>\n",
       "            </tr>\n",
       "            <tr>\n",
       "                        <th id=\"T_b54d3cc8_ca72_11eb_ae98_02420a399c71level0_row3\" class=\"row_heading level0 row3\" >3</th>\n",
       "                        <td id=\"T_b54d3cc8_ca72_11eb_ae98_02420a399c71row3_col0\" class=\"data row3 col0\" >DecisionTreeClassifier</td>\n",
       "                        <td id=\"T_b54d3cc8_ca72_11eb_ae98_02420a399c71row3_col1\" class=\"data row3 col1\" >{'random_state': 123, 'max_depth': 4}</td>\n",
       "                        <td id=\"T_b54d3cc8_ca72_11eb_ae98_02420a399c71row3_col2\" class=\"data row3 col2\" >0.7485</td>\n",
       "                        <td id=\"T_b54d3cc8_ca72_11eb_ae98_02420a399c71row3_col3\" class=\"data row3 col3\" >0.544796</td>\n",
       "                        <td id=\"T_b54d3cc8_ca72_11eb_ae98_02420a399c71row3_col4\" class=\"data row3 col4\" >0.811886</td>\n",
       "            </tr>\n",
       "            <tr>\n",
       "                        <th id=\"T_b54d3cc8_ca72_11eb_ae98_02420a399c71level0_row4\" class=\"row_heading level0 row4\" >4</th>\n",
       "                        <td id=\"T_b54d3cc8_ca72_11eb_ae98_02420a399c71row4_col0\" class=\"data row4 col0\" >DecisionTreeClassifier</td>\n",
       "                        <td id=\"T_b54d3cc8_ca72_11eb_ae98_02420a399c71row4_col1\" class=\"data row4 col1\" >{'random_state': 123, 'max_depth': 5}</td>\n",
       "                        <td id=\"T_b54d3cc8_ca72_11eb_ae98_02420a399c71row4_col2\" class=\"data row4 col2\" >0.7365</td>\n",
       "                        <td id=\"T_b54d3cc8_ca72_11eb_ae98_02420a399c71row4_col3\" class=\"data row4 col3\" >0.550725</td>\n",
       "                        <td id=\"T_b54d3cc8_ca72_11eb_ae98_02420a399c71row4_col4\" class=\"data row4 col4\" >0.833776</td>\n",
       "            </tr>\n",
       "            <tr>\n",
       "                        <th id=\"T_b54d3cc8_ca72_11eb_ae98_02420a399c71level0_row5\" class=\"row_heading level0 row5\" >5</th>\n",
       "                        <td id=\"T_b54d3cc8_ca72_11eb_ae98_02420a399c71row5_col0\" class=\"data row5 col0\" >DecisionTreeClassifier</td>\n",
       "                        <td id=\"T_b54d3cc8_ca72_11eb_ae98_02420a399c71row5_col1\" class=\"data row5 col1\" >{'random_state': 123, 'max_depth': 6}</td>\n",
       "                        <td id=\"T_b54d3cc8_ca72_11eb_ae98_02420a399c71row5_col2\" class=\"data row5 col2\" >0.7605</td>\n",
       "                        <td id=\"T_b54d3cc8_ca72_11eb_ae98_02420a399c71row5_col3\" class=\"data row5 col3\" >0.559338</td>\n",
       "                        <td id=\"T_b54d3cc8_ca72_11eb_ae98_02420a399c71row5_col4\" class=\"data row5 col4\" >0.826147</td>\n",
       "            </tr>\n",
       "            <tr>\n",
       "                        <th id=\"T_b54d3cc8_ca72_11eb_ae98_02420a399c71level0_row6\" class=\"row_heading level0 row6\" >6</th>\n",
       "                        <td id=\"T_b54d3cc8_ca72_11eb_ae98_02420a399c71row6_col0\" class=\"data row6 col0\" >DecisionTreeClassifier</td>\n",
       "                        <td id=\"T_b54d3cc8_ca72_11eb_ae98_02420a399c71row6_col1\" class=\"data row6 col1\" >{'random_state': 123, 'max_depth': 7}</td>\n",
       "                        <td id=\"T_b54d3cc8_ca72_11eb_ae98_02420a399c71row6_col2\" class=\"data row6 col2\" >0.7625</td>\n",
       "                        <td id=\"T_b54d3cc8_ca72_11eb_ae98_02420a399c71row6_col3\" class=\"data row6 col3\" >0.548908</td>\n",
       "                        <td id=\"T_b54d3cc8_ca72_11eb_ae98_02420a399c71row6_col4\" class=\"data row6 col4\" >0.813561</td>\n",
       "            </tr>\n",
       "            <tr>\n",
       "                        <th id=\"T_b54d3cc8_ca72_11eb_ae98_02420a399c71level0_row7\" class=\"row_heading level0 row7\" >7</th>\n",
       "                        <td id=\"T_b54d3cc8_ca72_11eb_ae98_02420a399c71row7_col0\" class=\"data row7 col0\" >DecisionTreeClassifier</td>\n",
       "                        <td id=\"T_b54d3cc8_ca72_11eb_ae98_02420a399c71row7_col1\" class=\"data row7 col1\" >{'random_state': 123, 'max_depth': 8}</td>\n",
       "                        <td id=\"T_b54d3cc8_ca72_11eb_ae98_02420a399c71row7_col2\" class=\"data row7 col2\" >0.7615</td>\n",
       "                        <td id=\"T_b54d3cc8_ca72_11eb_ae98_02420a399c71row7_col3\" class=\"data row7 col3\" >0.540905</td>\n",
       "                        <td id=\"T_b54d3cc8_ca72_11eb_ae98_02420a399c71row7_col4\" class=\"data row7 col4\" >0.78074</td>\n",
       "            </tr>\n",
       "            <tr>\n",
       "                        <th id=\"T_b54d3cc8_ca72_11eb_ae98_02420a399c71level0_row8\" class=\"row_heading level0 row8\" >8</th>\n",
       "                        <td id=\"T_b54d3cc8_ca72_11eb_ae98_02420a399c71row8_col0\" class=\"data row8 col0\" >DecisionTreeClassifier</td>\n",
       "                        <td id=\"T_b54d3cc8_ca72_11eb_ae98_02420a399c71row8_col1\" class=\"data row8 col1\" >{'random_state': 123, 'max_depth': 9}</td>\n",
       "                        <td id=\"T_b54d3cc8_ca72_11eb_ae98_02420a399c71row8_col2\" class=\"data row8 col2\" >0.758</td>\n",
       "                        <td id=\"T_b54d3cc8_ca72_11eb_ae98_02420a399c71row8_col3\" class=\"data row8 col3\" >0.528265</td>\n",
       "                        <td id=\"T_b54d3cc8_ca72_11eb_ae98_02420a399c71row8_col4\" class=\"data row8 col4\" >0.762914</td>\n",
       "            </tr>\n",
       "            <tr>\n",
       "                        <th id=\"T_b54d3cc8_ca72_11eb_ae98_02420a399c71level0_row9\" class=\"row_heading level0 row9\" >9</th>\n",
       "                        <td id=\"T_b54d3cc8_ca72_11eb_ae98_02420a399c71row9_col0\" class=\"data row9 col0\" >DecisionTreeClassifier</td>\n",
       "                        <td id=\"T_b54d3cc8_ca72_11eb_ae98_02420a399c71row9_col1\" class=\"data row9 col1\" >{'random_state': 123, 'max_depth': 10}</td>\n",
       "                        <td id=\"T_b54d3cc8_ca72_11eb_ae98_02420a399c71row9_col2\" class=\"data row9 col2\" >0.752</td>\n",
       "                        <td id=\"T_b54d3cc8_ca72_11eb_ae98_02420a399c71row9_col3\" class=\"data row9 col3\" >0.510848</td>\n",
       "                        <td id=\"T_b54d3cc8_ca72_11eb_ae98_02420a399c71row9_col4\" class=\"data row9 col4\" >0.735242</td>\n",
       "            </tr>\n",
       "    </tbody></table>"
      ],
      "text/plain": [
       "<pandas.io.formats.style.Styler at 0x7f81bc7f9310>"
      ]
     },
     "execution_count": 34,
     "metadata": {
     },
     "output_type": "execute_result"
    }
   ],
   "source": [
    "results_dtc = []\n",
    "\n",
    "for depth in range(1,11):\n",
    "    model = DecisionTreeClassifier(random_state=123, max_depth=depth)\n",
    "    \n",
    "    model.fit(features_upsampled, target_upsampled)\n",
    "    predictions_valid = model.predict(features_valid)\n",
    "    probabilities_valid = model.predict_proba(features_valid)\n",
    " \n",
    "    accuracy = accuracy_score(target_valid, predictions_valid)        \n",
    "    f1 = f1_score(target_valid, predictions_valid)\n",
    "    roc_auc = roc_auc_score(target_valid, probabilities_valid[:,1])        \n",
    "\n",
    "    results_dtc.append({'Model': 'DecisionTreeClassifier', \n",
    "                        'Hyperparameters': {'random_state': 123, 'max_depth':depth},\n",
    "                        'Accuracy': accuracy, \n",
    "                        'F1 score': f1, \n",
    "                        'ROC AUC score': roc_auc})\n",
    "\n",
    "pd.DataFrame(results_dtc).style.highlight_max(color = 'lightgreen', axis = 0)"
   ]
  },
  {
   "cell_type": "markdown",
   "metadata": {
    "collapsed": false
   },
   "source": [
    "Наилучший результат метрики f1_score модель показывает при глубине дерева 6. Добавим эту модель в переменную best_results."
   ]
  },
  {
   "cell_type": "code",
   "execution_count": 35,
   "metadata": {
    "collapsed": false
   },
   "outputs": [
   ],
   "source": [
    "best_results.append(pd.DataFrame(results_dtc).loc[5])"
   ]
  },
  {
   "cell_type": "markdown",
   "metadata": {
    "collapsed": false
   },
   "source": [
    "Случайный лес\n",
    "  \n",
    "В цикле настроим гиперпараметры max-depth (глубина деревьев) и n_estimators (количество деревьев в лесу). Результат сохраним в переменной results_rfc_up."
   ]
  },
  {
   "cell_type": "code",
   "execution_count": 36,
   "metadata": {
    "collapsed": false
   },
   "outputs": [
    {
     "name": "stdout",
     "output_type": "stream",
     "text": [
      "CPU times: user 1min 15s, sys: 61.2 ms, total: 1min 15s\n",
      "Wall time: 1min 15s\n"
     ]
    }
   ],
   "source": [
    "%%time\n",
    "results_rfc_up = []\n",
    "\n",
    "for depth in range(1,15):\n",
    "    \n",
    "    for estimator in range(10, 101, 10):\n",
    "        \n",
    "        model = RandomForestClassifier(random_state=123, \n",
    "                                       n_estimators=estimator, \n",
    "                                       max_depth=depth) \n",
    "        \n",
    "        model.fit(features_upsampled, target_upsampled)\n",
    "        predictions_valid = model.predict(features_valid)\n",
    "        probabilities_valid = model.predict_proba(features_valid)\n",
    "        \n",
    "        accuracy = accuracy_score(target_valid, predictions_valid)        \n",
    "        f1 = f1_score(target_valid, predictions_valid)\n",
    "        roc_auc = roc_auc_score(target_valid, probabilities_valid[:,1])       \n",
    "    \n",
    "        results_rfc_up.append({'Model': 'RandomForestClassifier', \n",
    "                               'Hyperparameters': {'random_state': 123, \n",
    "                                                   'n_estimators': estimator, \n",
    "                                                   'max_depth':depth}, \n",
    "                               'Accuracy': accuracy,\n",
    "                               'F1 score': f1, \n",
    "                               'ROC AUC score': roc_auc})"
   ]
  },
  {
   "cell_type": "code",
   "execution_count": 37,
   "metadata": {
    "collapsed": false
   },
   "outputs": [
    {
     "data": {
      "text/plain": [
       "dict_keys(['bootstrap', 'ccp_alpha', 'class_weight', 'criterion', 'max_depth', 'max_features', 'max_leaf_nodes', 'max_samples', 'min_impurity_decrease', 'min_impurity_split', 'min_samples_leaf', 'min_samples_split', 'min_weight_fraction_leaf', 'n_estimators', 'n_jobs', 'oob_score', 'random_state', 'verbose', 'warm_start'])"
      ]
     },
     "execution_count": 37,
     "metadata": {
     },
     "output_type": "execute_result"
    }
   ],
   "source": [
    "model = RandomForestClassifier(random_state=123)\n",
    "model.get_params().keys()"
   ]
  },
  {
   "cell_type": "code",
   "execution_count": 38,
   "metadata": {
    "collapsed": false
   },
   "outputs": [
   ],
   "source": [
    "param_grid = {\n",
    "    'max_depth' : range(1,16),\n",
    "    'n_estimators' : range(10,101,10),\n",
    "}"
   ]
  },
  {
   "cell_type": "code",
   "execution_count": 39,
   "metadata": {
    "collapsed": false
   },
   "outputs": [
   ],
   "source": [
    "grid_rfc = GridSearchCV(model, param_grid, scoring='f1')"
   ]
  },
  {
   "cell_type": "code",
   "execution_count": 40,
   "metadata": {
    "collapsed": false
   },
   "outputs": [
    {
     "name": "stdout",
     "output_type": "stream",
     "text": [
      "CPU times: user 5min 28s, sys: 775 ms, total: 5min 29s\n",
      "Wall time: 5min 32s\n"
     ]
    },
    {
     "data": {
      "text/plain": [
       "GridSearchCV(estimator=RandomForestClassifier(random_state=123),\n",
       "             param_grid={'max_depth': range(1, 16),\n",
       "                         'n_estimators': range(10, 101, 10)},\n",
       "             scoring='f1')"
      ]
     },
     "execution_count": 40,
     "metadata": {
     },
     "output_type": "execute_result"
    }
   ],
   "source": [
    "%%time\n",
    "grid_rfc.fit(features_upsampled, target_upsampled)"
   ]
  },
  {
   "cell_type": "code",
   "execution_count": 41,
   "metadata": {
    "collapsed": false
   },
   "outputs": [
    {
     "data": {
      "text/plain": [
       "0.9525643407748406"
      ]
     },
     "execution_count": 41,
     "metadata": {
     },
     "output_type": "execute_result"
    }
   ],
   "source": [
    "grid_rfc.best_score_"
   ]
  },
  {
   "cell_type": "code",
   "execution_count": 42,
   "metadata": {
    "collapsed": false
   },
   "outputs": [
    {
     "data": {
      "text/plain": [
       "{'max_depth': 15, 'n_estimators': 100}"
      ]
     },
     "execution_count": 42,
     "metadata": {
     },
     "output_type": "execute_result"
    }
   ],
   "source": [
    "grid_rfc.best_params_"
   ]
  },
  {
   "cell_type": "markdown",
   "metadata": {
    "collapsed": false
   },
   "source": [
    "Лучший результат дает следующая комбинация гиперпараметров:"
   ]
  },
  {
   "cell_type": "code",
   "execution_count": 43,
   "metadata": {
    "collapsed": false
   },
   "outputs": [
    {
     "data": {
      "text/html": [
       "<div>\n",
       "<style scoped>\n",
       "    .dataframe tbody tr th:only-of-type {\n",
       "        vertical-align: middle;\n",
       "    }\n",
       "\n",
       "    .dataframe tbody tr th {\n",
       "        vertical-align: top;\n",
       "    }\n",
       "\n",
       "    .dataframe thead th {\n",
       "        text-align: right;\n",
       "    }\n",
       "</style>\n",
       "<table border=\"1\" class=\"dataframe\">\n",
       "  <thead>\n",
       "    <tr style=\"text-align: right;\">\n",
       "      <th></th>\n",
       "      <th>Model</th>\n",
       "      <th>Hyperparameters</th>\n",
       "      <th>Accuracy</th>\n",
       "      <th>F1 score</th>\n",
       "      <th>ROC AUC score</th>\n",
       "    </tr>\n",
       "  </thead>\n",
       "  <tbody>\n",
       "    <tr>\n",
       "      <td>91</td>\n",
       "      <td>RandomForestClassifier</td>\n",
       "      <td>{'random_state': 123, 'n_estimators': 20, 'max_depth': 10}</td>\n",
       "      <td>0.818</td>\n",
       "      <td>0.6</td>\n",
       "      <td>0.848249</td>\n",
       "    </tr>\n",
       "  </tbody>\n",
       "</table>\n",
       "</div>"
      ],
      "text/plain": [
       "                     Model  \\\n",
       "91  RandomForestClassifier   \n",
       "\n",
       "                                               Hyperparameters  Accuracy  \\\n",
       "91  {'random_state': 123, 'n_estimators': 20, 'max_depth': 10}  0.818      \n",
       "\n",
       "    F1 score  ROC AUC score  \n",
       "91  0.6       0.848249       "
      ]
     },
     "execution_count": 43,
     "metadata": {
     },
     "output_type": "execute_result"
    }
   ],
   "source": [
    "df_rfc_up = pd.DataFrame.from_dict(results_rfc_up)\n",
    "df_rfc_up[df_rfc_up['F1 score']==df_rfc_up['F1 score'].max()]"
   ]
  },
  {
   "cell_type": "code",
   "execution_count": 44,
   "metadata": {
    "collapsed": false
   },
   "outputs": [
    {
     "data": {
      "text/html": [
       "<style  type=\"text/css\" >\n",
       "    #T_a8aa6512_ca73_11eb_ae98_02420a399c71row2_col2 {\n",
       "            background-color:  lightgreen;\n",
       "        }    #T_a8aa6512_ca73_11eb_ae98_02420a399c71row2_col3 {\n",
       "            background-color:  lightgreen;\n",
       "        }    #T_a8aa6512_ca73_11eb_ae98_02420a399c71row2_col4 {\n",
       "            background-color:  lightgreen;\n",
       "        }</style><table id=\"T_a8aa6512_ca73_11eb_ae98_02420a399c71\" ><thead>    <tr>        <th class=\"blank level0\" ></th>        <th class=\"col_heading level0 col0\" >Model</th>        <th class=\"col_heading level0 col1\" >Hyperparameters</th>        <th class=\"col_heading level0 col2\" >Accuracy</th>        <th class=\"col_heading level0 col3\" >F1 score</th>        <th class=\"col_heading level0 col4\" >ROC AUC score</th>    </tr></thead><tbody>\n",
       "                <tr>\n",
       "                        <th id=\"T_a8aa6512_ca73_11eb_ae98_02420a399c71level0_row0\" class=\"row_heading level0 row0\" >0</th>\n",
       "                        <td id=\"T_a8aa6512_ca73_11eb_ae98_02420a399c71row0_col0\" class=\"data row0 col0\" >LogisticRegression_l1</td>\n",
       "                        <td id=\"T_a8aa6512_ca73_11eb_ae98_02420a399c71row0_col1\" class=\"data row0 col1\" >{'random_state': 123, 'class_weight': 'balanced', 'solver': 'liblinear', 'penalty': 'l1'}</td>\n",
       "                        <td id=\"T_a8aa6512_ca73_11eb_ae98_02420a399c71row0_col2\" class=\"data row0 col2\" >0.758</td>\n",
       "                        <td id=\"T_a8aa6512_ca73_11eb_ae98_02420a399c71row0_col3\" class=\"data row0 col3\" >0.555147</td>\n",
       "                        <td id=\"T_a8aa6512_ca73_11eb_ae98_02420a399c71row0_col4\" class=\"data row0 col4\" >0.734554</td>\n",
       "            </tr>\n",
       "            <tr>\n",
       "                        <th id=\"T_a8aa6512_ca73_11eb_ae98_02420a399c71level0_row1\" class=\"row_heading level0 row1\" >5</th>\n",
       "                        <td id=\"T_a8aa6512_ca73_11eb_ae98_02420a399c71row1_col0\" class=\"data row1 col0\" >DecisionTreeClassifier</td>\n",
       "                        <td id=\"T_a8aa6512_ca73_11eb_ae98_02420a399c71row1_col1\" class=\"data row1 col1\" >{'random_state': 123, 'max_depth': 6}</td>\n",
       "                        <td id=\"T_a8aa6512_ca73_11eb_ae98_02420a399c71row1_col2\" class=\"data row1 col2\" >0.7605</td>\n",
       "                        <td id=\"T_a8aa6512_ca73_11eb_ae98_02420a399c71row1_col3\" class=\"data row1 col3\" >0.559338</td>\n",
       "                        <td id=\"T_a8aa6512_ca73_11eb_ae98_02420a399c71row1_col4\" class=\"data row1 col4\" >0.826147</td>\n",
       "            </tr>\n",
       "            <tr>\n",
       "                        <th id=\"T_a8aa6512_ca73_11eb_ae98_02420a399c71level0_row2\" class=\"row_heading level0 row2\" >91</th>\n",
       "                        <td id=\"T_a8aa6512_ca73_11eb_ae98_02420a399c71row2_col0\" class=\"data row2 col0\" >RandomForestClassifier</td>\n",
       "                        <td id=\"T_a8aa6512_ca73_11eb_ae98_02420a399c71row2_col1\" class=\"data row2 col1\" >{'random_state': 123, 'n_estimators': 20, 'max_depth': 10}</td>\n",
       "                        <td id=\"T_a8aa6512_ca73_11eb_ae98_02420a399c71row2_col2\" class=\"data row2 col2\" >0.818</td>\n",
       "                        <td id=\"T_a8aa6512_ca73_11eb_ae98_02420a399c71row2_col3\" class=\"data row2 col3\" >0.6</td>\n",
       "                        <td id=\"T_a8aa6512_ca73_11eb_ae98_02420a399c71row2_col4\" class=\"data row2 col4\" >0.848249</td>\n",
       "            </tr>\n",
       "    </tbody></table>"
      ],
      "text/plain": [
       "<pandas.io.formats.style.Styler at 0x7f81bc7b1b90>"
      ]
     },
     "execution_count": 44,
     "metadata": {
     },
     "output_type": "execute_result"
    }
   ],
   "source": [
    "best_results.append(pd.DataFrame(df_rfc_up).loc[91])\n",
    "pd.DataFrame(best_results).style.highlight_max(color = 'lightgreen', axis = 0)"
   ]
  },
  {
   "cell_type": "markdown",
   "metadata": {
    "collapsed": false
   },
   "source": [
    "Видим, что и после настройки гиперпараметров наилучший результат показала модель случайного леса. Протестируем работу этой модели на тестовых данных."
   ]
  },
  {
   "cell_type": "markdown",
   "metadata": {
    "collapsed": false
   },
   "source": [
    "Результат:\n",
    "- применили несколько способов борьбы с дисбалансом (взвешивание классов, увеличение выборки, уменьшение выборки ) и проверили, как преобразование данных влияет на способность модели предсказывать уход клиентов.\n",
    "  \n",
    "- выяснили, что наилучший показатель таких метрик как f1_score и roc_auc_score модель случайного леса и модель дерева принятия решений достигается на данных преобразованных при помощи увеличение выборки. До настроики гиперпараметров показатель метрики f1_score следующий:\n",
    "  \n",
    "- случайный лес: 0.576\n",
    "- дерево принятия решений: 0.495\n",
    "- Модель логистической регрессии лучше работает на данных, сбалансированных при помощи гиперпараметра class_weight = balanced (f1_score = 0.46).\n",
    "  \n",
    "Настройка гиперпараметров позволила улучшить показатель метрики f1_score для всех моделей:\n",
    "  \n",
    "- случайный лес: 0.6\n",
    "- дерево принятия решений: 0.559\n",
    "- логистическая регрессия: 0.539.\n",
    "  \n",
    "Протестируем модель случайного леса с гиперпараметрами n_estimators = 20 и max_depth = 10 на тестовой выборке."
   ]
  },
  {
   "cell_type": "markdown",
   "metadata": {
    "collapsed": false
   },
   "source": [
    "## Тестирование модели"
   ]
  },
  {
   "cell_type": "markdown",
   "metadata": {
    "collapsed": false
   },
   "source": [
    "Протестируем работу модели случайного леса со следующей комбинацией гиперпараметров: n_estimators = 20 и max_depth = 10."
   ]
  },
  {
   "cell_type": "code",
   "execution_count": 45,
   "metadata": {
    "collapsed": false
   },
   "outputs": [
    {
     "name": "stdout",
     "output_type": "stream",
     "text": [
      "accuracy 0.8565\n",
      "f1 score 0.6389937106918239\n",
      "roc_auc 0.8612102086678357\n"
     ]
    }
   ],
   "source": [
    "model_final = RandomForestClassifier(random_state=123, n_estimators=100, max_depth=15)\n",
    "\n",
    "model_final.fit(features_upsampled, target_upsampled)  \n",
    "predictions_final = model_final.predict(features_test)\n",
    "probabilities_final = model_final.predict_proba(features_test)\n",
    "\n",
    "accuracy_final = accuracy_score(target_test, predictions_final)\n",
    "f1_final = f1_score(target_test, predictions_final)\n",
    "roc_auc_final = roc_auc_score(target_test, probabilities_final[:,1])\n",
    "\n",
    "print('accuracy', accuracy_final)\n",
    "print('f1 score', f1_final)\n",
    "print('roc_auc', roc_auc_final)"
   ]
  },
  {
   "cell_type": "markdown",
   "metadata": {
    "collapsed": false
   },
   "source": [
    "объединим выборки"
   ]
  },
  {
   "cell_type": "code",
   "execution_count": 46,
   "metadata": {
    "collapsed": false
   },
   "outputs": [
   ],
   "source": [
    "features_combined = pd.concat([features_train, features_valid])\n",
    "target_combined = pd.concat([target_train, target_valid])"
   ]
  },
  {
   "cell_type": "markdown",
   "metadata": {
    "collapsed": false
   },
   "source": [
    "увеличим выборку"
   ]
  },
  {
   "cell_type": "code",
   "execution_count": 47,
   "metadata": {
    "collapsed": false
   },
   "outputs": [
   ],
   "source": [
    "features_upsampled_combined, target_upsampled_combined = upsample(features_combined, target_combined, 4)"
   ]
  },
  {
   "cell_type": "code",
   "execution_count": 48,
   "metadata": {
    "collapsed": false
   },
   "outputs": [
    {
     "name": "stdout",
     "output_type": "stream",
     "text": [
      "(12890, 11)\n",
      "(12890,)\n"
     ]
    }
   ],
   "source": [
    "print(features_upsampled_combined.shape)\n",
    "print(target_upsampled_combined.shape)"
   ]
  },
  {
   "cell_type": "markdown",
   "metadata": {
    "collapsed": false
   },
   "source": [
    "используем полученные выборки при обучении модели случайного леса с гиперпараметрами n_estimators = 20 и max_depth = 10. Протестируем работу модели на тестовой выборке."
   ]
  },
  {
   "cell_type": "code",
   "execution_count": 49,
   "metadata": {
    "collapsed": false
   },
   "outputs": [
    {
     "name": "stdout",
     "output_type": "stream",
     "text": [
      "accuracy 0.8565\n",
      "f1 score 0.6246913580246913\n",
      "roc_auc 0.8665506801100021\n"
     ]
    }
   ],
   "source": [
    "model_combined = RandomForestClassifier(random_state=123, n_estimators=100, max_depth=15) \n",
    "#заменил параметры на предложенные grid'ом выйграли около 0.9% стоит ли оно того?\n",
    "model_combined.fit(features_upsampled_combined, target_upsampled_combined)  \n",
    "\n",
    "predictions_combined = model_combined.predict(features_test)\n",
    "probabilities_combined = model_combined.predict_proba(features_test)\n",
    "\n",
    "accuracy_combined = accuracy_score(target_test, predictions_final)\n",
    "f1_combined = f1_score(target_test, predictions_combined)\n",
    "roc_auc_combined = roc_auc_score(target_test, probabilities_combined[:,1])\n",
    "\n",
    "print('accuracy', accuracy_combined)\n",
    "print('f1 score', f1_combined)\n",
    "print('roc_auc', roc_auc_combined)"
   ]
  },
  {
   "cell_type": "markdown",
   "metadata": {
    "collapsed": false
   },
   "source": [
    "Построим график ROC-кривой"
   ]
  },
  {
   "cell_type": "code",
   "execution_count": 50,
   "metadata": {
    "collapsed": false
   },
   "outputs": [
    {
     "name": "stderr",
     "output_type": "stream",
     "text": [
      "WARNING: 1 intermediate output message was discarded.\n"
     ]
    },
    {
     "data": {
      "application/vnd.plotly.v1+json": {
       "config": {
        "plotlyServerURL": "https://plot.ly"
       },
       "data": [
        {
         "line": {
          "width": 2
         },
         "name": "Случайный лес: 0.8612102086678357",
         "type": "scatter",
         "x": [
          0,
          0,
          0,
          0.0006277463904582549,
          0.0006277463904582549,
          0.0006277463904582549,
          0.0006277463904582549,
          0.0012554927809165098,
          0.0012554927809165098,
          0.0018832391713747645,
          0.0018832391713747645,
          0.0025109855618330196,
          0.0025109855618330196,
          0.003138731952291274,
          0.003138731952291274,
          0.003766478342749529,
          0.003766478342749529,
          0.004394224733207784,
          0.004394224733207784,
          0.005021971123666039,
          0.005021971123666039,
          0.005649717514124294,
          0.005649717514124294,
          0.005649717514124294,
          0.006277463904582548,
          0.006277463904582548,
          0.006905210295040804,
          0.006905210295040804,
          0.007532956685499058,
          0.007532956685499058,
          0.007532956685499058,
          0.008160703075957313,
          0.008160703075957313,
          0.008788449466415568,
          0.008788449466415568,
          0.008788449466415568,
          0.008788449466415568,
          0.009416195856873822,
          0.009416195856873822,
          0.010043942247332079,
          0.010043942247332079,
          0.011299435028248588,
          0.011299435028248588,
          0.011299435028248588,
          0.011927181418706842,
          0.011927181418706842,
          0.012554927809165096,
          0.012554927809165096,
          0.013182674199623353,
          0.013182674199623353,
          0.013810420590081607,
          0.013810420590081607,
          0.015065913370998116,
          0.015065913370998116,
          0.015693659761456372,
          0.015693659761456372,
          0.016321406151914627,
          0.016321406151914627,
          0.016321406151914627,
          0.016321406151914627,
          0.01694915254237288,
          0.01694915254237288,
          0.01820464532328939,
          0.01820464532328939,
          0.021343377275580666,
          0.021343377275580666,
          0.022598870056497175,
          0.022598870056497175,
          0.02322661644695543,
          0.02322661644695543,
          0.023854362837413684,
          0.023854362837413684,
          0.02448210922787194,
          0.02573760200878845,
          0.02573760200878845,
          0.026365348399246705,
          0.026365348399246705,
          0.02699309478970496,
          0.02699309478970496,
          0.027620841180163214,
          0.027620841180163214,
          0.02824858757062147,
          0.02824858757062147,
          0.028876333961079723,
          0.028876333961079723,
          0.030131826741996232,
          0.030131826741996232,
          0.030759573132454487,
          0.031387319522912745,
          0.032015065913371,
          0.032015065913371,
          0.03327055869428751,
          0.03327055869428751,
          0.03389830508474576,
          0.03389830508474576,
          0.03389830508474576,
          0.03389830508474576,
          0.035781544256120526,
          0.035781544256120526,
          0.037037037037037035,
          0.037037037037037035,
          0.0389202762084118,
          0.0389202762084118,
          0.040175768989328314,
          0.040175768989328314,
          0.04080351537978657,
          0.04080351537978657,
          0.04143126177024482,
          0.04143126177024482,
          0.04268675455116133,
          0.04268675455116133,
          0.04519774011299435,
          0.04519774011299435,
          0.04645323289391086,
          0.04645323289391086,
          0.04896421845574388,
          0.04896421845574388,
          0.04959196484620213,
          0.04959196484620213,
          0.0514752040175769,
          0.0514752040175769,
          0.052102950408035156,
          0.052102950408035156,
          0.05524168236032643,
          0.05524168236032643,
          0.05775266792215945,
          0.05775266792215945,
          0.060263653483992465,
          0.060263653483992465,
          0.061519146264908973,
          0.061519146264908973,
          0.064030131826742,
          0.064030131826742,
          0.06528562460765851,
          0.06528562460765851,
          0.06654111738857502,
          0.06654111738857502,
          0.06716886377903326,
          0.06716886377903326,
          0.06842435655994979,
          0.06842435655994979,
          0.06905210295040803,
          0.06905210295040803,
          0.07030759573132454,
          0.07030759573132454,
          0.07219083490269931,
          0.07219083490269931,
          0.07344632768361582,
          0.07344632768361582,
          0.07721280602636535,
          0.07721280602636535,
          0.07846829880728186,
          0.07846829880728186,
          0.07909604519774012,
          0.07909604519774012,
          0.07972379158819837,
          0.07972379158819837,
          0.08035153797865663,
          0.08035153797865663,
          0.08097928436911488,
          0.08097928436911488,
          0.08160703075957314,
          0.08160703075957314,
          0.08223477715003139,
          0.08223477715003139,
          0.08788449466415568,
          0.08788449466415568,
          0.08913998744507219,
          0.08913998744507219,
          0.09667294413057125,
          0.09667294413057125,
          0.09792843691148775,
          0.09792843691148775,
          0.09855618330194602,
          0.09855618330194602,
          0.09918392969240426,
          0.09918392969240426,
          0.10106716886377903,
          0.10106716886377903,
          0.1029504080351538,
          0.1029504080351538,
          0.1098556183301946,
          0.1098556183301946,
          0.11048336472065286,
          0.11048336472065286,
          0.11299435028248588,
          0.11299435028248588,
          0.11487758945386065,
          0.11487758945386065,
          0.11613308223477715,
          0.11613308223477715,
          0.11801632140615191,
          0.11801632140615191,
          0.12115505335844319,
          0.12115505335844319,
          0.12492153170119272,
          0.12492153170119272,
          0.12617702448210924,
          0.12617702448210924,
          0.1349654739485248,
          0.1349654739485248,
          0.1362209667294413,
          0.1362209667294413,
          0.1374764595103578,
          0.1374764595103578,
          0.1418706842435656,
          0.1418706842435656,
          0.14438166980539863,
          0.14438166980539863,
          0.14563716258631512,
          0.14563716258631512,
          0.14940364092906466,
          0.14940364092906466,
          0.15128688010043942,
          0.15128688010043942,
          0.15254237288135594,
          0.15254237288135594,
          0.15317011927181418,
          0.15317011927181418,
          0.1556811048336472,
          0.1556811048336472,
          0.15630885122410546,
          0.15630885122410546,
          0.1613308223477715,
          0.1613308223477715,
          0.162586315128688,
          0.162586315128688,
          0.16321406151914628,
          0.16321406151914628,
          0.1657250470809793,
          0.1657250470809793,
          0.1682360326428123,
          0.1682360326428123,
          0.16886377903327057,
          0.16886377903327057,
          0.17011927181418707,
          0.17011927181418707,
          0.1713747645951036,
          0.17200251098556182,
          0.17325800376647835,
          0.17325800376647835,
          0.1738857501569366,
          0.1738857501569366,
          0.17576898932831136,
          0.17576898932831136,
          0.17827997489014438,
          0.17827997489014438,
          0.18141870684243566,
          0.18141870684243566,
          0.18267419962335216,
          0.18267419962335216,
          0.18330194601381042,
          0.18330194601381042,
          0.18392969240426868,
          0.18392969240426868,
          0.1933458882611425,
          0.1933458882611425,
          0.19836785938480853,
          0.19836785938480853,
          0.20276208411801633,
          0.20276208411801633,
          0.20652856246076584,
          0.20652856246076584,
          0.20841180163214063,
          0.20841180163214063,
          0.21343377275580666,
          0.21343377275580666,
          0.21406151914626492,
          0.21406151914626492,
          0.21531701192718142,
          0.21531701192718142,
          0.21720025109855617,
          0.21720025109855617,
          0.2197112366603892,
          0.2197112366603892,
          0.22159447583176398,
          0.22159447583176398,
          0.22473320778405526,
          0.22473320778405526,
          0.22598870056497175,
          0.22598870056497175,
          0.23038292529817953,
          0.23038292529817953,
          0.2379158819836786,
          0.2379158819836786,
          0.24168236032642812,
          0.24168236032642812,
          0.24858757062146894,
          0.24858757062146894,
          0.25360954174513495,
          0.25360954174513495,
          0.256120527306968,
          0.256120527306968,
          0.25674827369742625,
          0.25674827369742625,
          0.2598870056497175,
          0.2598870056497175,
          0.2617702448210923,
          0.2617702448210923,
          0.26490897677338354,
          0.26490897677338354,
          0.2806026365348399,
          0.2806026365348399,
          0.2812303829252982,
          0.2812303829252982,
          0.28185812931575643,
          0.28185812931575643,
          0.2837413684871312,
          0.2837413684871312,
          0.29441305712492155,
          0.29441305712492155,
          0.29692404268675454,
          0.29692404268675454,
          0.3013182674199623,
          0.3013182674199623,
          0.3019460138104206,
          0.3019460138104206,
          0.30634023854362835,
          0.30634023854362835,
          0.31324544883866917,
          0.31324544883866917,
          0.31763967357187695,
          0.31763967357187695,
          0.32077840552416825,
          0.32077840552416825,
          0.33019460138104206,
          0.33019460138104206,
          0.33270558694287505,
          0.33270558694287505,
          0.34526051475204017,
          0.34526051475204017,
          0.3534212178279975,
          0.3534212178279975,
          0.357187696170747,
          0.357187696170747,
          0.35969868173258,
          0.35969868173258,
          0.3615819209039548,
          0.3615819209039548,
          0.3709981167608286,
          0.3709981167608286,
          0.384180790960452,
          0.384180790960452,
          0.3879472693032015,
          0.3879472693032015,
          0.3992467043314501,
          0.3992467043314501,
          0.4017576898932831,
          0.4017576898932831,
          0.4061519146264909,
          0.4061519146264909,
          0.4124293785310734,
          0.4124293785310734,
          0.4130571249215317,
          0.4130571249215317,
          0.4199623352165725,
          0.4199623352165725,
          0.42247332077840555,
          0.42247332077840555,
          0.43440050219711235,
          0.43440050219711235,
          0.4381669805398619,
          0.4381669805398619,
          0.4406779661016949,
          0.4406779661016949,
          0.44130571249215317,
          0.44130571249215317,
          0.44883866917765225,
          0.44883866917765225,
          0.45260514752040176,
          0.45260514752040176,
          0.4601381042059008,
          0.4601381042059008,
          0.4645323289391086,
          0.4657878217200251,
          0.46641556811048335,
          0.46641556811048335,
          0.4726930320150659,
          0.4726930320150659,
          0.47520401757689895,
          0.47520401757689895,
          0.480225988700565,
          0.480225988700565,
          0.485247959824231,
          0.485247959824231,
          0.49278091650973005,
          0.49466415568110483,
          0.4978028876333961,
          0.4978028876333961,
          0.5078468298807282,
          0.5078468298807282,
          0.5103578154425612,
          0.5103578154425612,
          0.5128688010043942,
          0.5128688010043942,
          0.519774011299435,
          0.5210295040803515,
          0.5304456999372253,
          0.5304456999372253,
          0.5323289391086001,
          0.5323289391086001,
          0.5329566854990584,
          0.5329566854990584,
          0.5373509102322661,
          0.5373509102322661,
          0.5712492153170119,
          0.5712492153170119,
          0.5976145637162587,
          0.5976145637162587,
          0.6070307595731325,
          0.6070307595731325,
          0.6264908976773383,
          0.6264908976773383,
          0.6321406151914627,
          0.6321406151914627,
          0.6484620213433773,
          0.6484620213433773,
          0.6522284996861268,
          0.6522284996861268,
          0.664783427495292,
          0.664783427495292,
          0.6854990583804144,
          0.6854990583804144,
          0.6886377903327056,
          0.6886377903327056,
          0.6917765222849969,
          0.6917765222849969,
          0.7037037037037037,
          0.7055869428750785,
          0.7181418706842435,
          0.7181418706842435,
          0.7394852479598242,
          0.7394852479598242,
          0.7470182046453233,
          0.7482736974262398,
          0.7934714375392341,
          0.7947269303201506,
          0.800376647834275,
          0.800376647834275,
          0.8261142498430634,
          0.8273697426239799,
          0.8279974890144381,
          0.8279974890144381,
          0.8531073446327684,
          0.8531073446327684,
          0.8549905838041432,
          0.8549905838041432,
          0.8681732580037664,
          0.8706842435655995,
          0.8995605775266792,
          0.9008160703075957,
          0.903954802259887,
          0.9052102950408035,
          0.9209039548022598,
          0.9221594475831764,
          0.9322033898305084,
          0.9322033898305084,
          0.9428750784682988,
          0.9441305712492153,
          0.9698681732580038,
          0.9723791588198368,
          0.9849340866290018,
          0.9849340866290018,
          0.9968612680477087,
          0.9981167608286252,
          0.9987445072190835,
          1
         ],
         "y": [
          0,
          0.002457002457002457,
          0.014742014742014743,
          0.014742014742014743,
          0.019656019656019656,
          0.02457002457002457,
          0.04668304668304668,
          0.04668304668304668,
          0.05896805896805897,
          0.05896805896805897,
          0.06633906633906633,
          0.06633906633906633,
          0.11302211302211303,
          0.11302211302211303,
          0.12285012285012285,
          0.12285012285012285,
          0.13022113022113022,
          0.13022113022113022,
          0.16216216216216217,
          0.16216216216216217,
          0.16461916461916462,
          0.16461916461916462,
          0.1769041769041769,
          0.18427518427518427,
          0.18427518427518427,
          0.2113022113022113,
          0.2113022113022113,
          0.22358722358722358,
          0.22358722358722358,
          0.2285012285012285,
          0.23587223587223588,
          0.23587223587223588,
          0.24078624078624078,
          0.24078624078624078,
          0.257985257985258,
          0.2628992628992629,
          0.26535626535626533,
          0.26535626535626533,
          0.2727272727272727,
          0.2727272727272727,
          0.3022113022113022,
          0.3022113022113022,
          0.3071253071253071,
          0.3144963144963145,
          0.3144963144963145,
          0.31695331695331697,
          0.31695331695331697,
          0.32678132678132676,
          0.32678132678132676,
          0.33415233415233414,
          0.33415233415233414,
          0.33906633906633904,
          0.33906633906633904,
          0.3488943488943489,
          0.3488943488943489,
          0.35626535626535627,
          0.35626535626535627,
          0.37346437346437344,
          0.3783783783783784,
          0.3832923832923833,
          0.3832923832923833,
          0.39803439803439805,
          0.39803439803439805,
          0.40294840294840295,
          0.40294840294840295,
          0.40540540540540543,
          0.40540540540540543,
          0.40786240786240785,
          0.40786240786240785,
          0.4152334152334152,
          0.4152334152334152,
          0.4201474201474201,
          0.4226044226044226,
          0.4226044226044226,
          0.4275184275184275,
          0.4275184275184275,
          0.42997542997543,
          0.42997542997543,
          0.43243243243243246,
          0.43243243243243246,
          0.43734643734643736,
          0.43734643734643736,
          0.44717444717444715,
          0.44717444717444715,
          0.44963144963144963,
          0.44963144963144963,
          0.4594594594594595,
          0.4594594594594595,
          0.4619164619164619,
          0.4619164619164619,
          0.4643734643734644,
          0.4643734643734644,
          0.4668304668304668,
          0.4668304668304668,
          0.4692874692874693,
          0.4742014742014742,
          0.47911547911547914,
          0.47911547911547914,
          0.48157248157248156,
          0.48157248157248156,
          0.48402948402948404,
          0.48402948402948404,
          0.4864864864864865,
          0.4864864864864865,
          0.4914004914004914,
          0.4914004914004914,
          0.5012285012285013,
          0.5012285012285013,
          0.5061425061425061,
          0.5061425061425061,
          0.5110565110565111,
          0.5110565110565111,
          0.5135135135135135,
          0.5135135135135135,
          0.5184275184275184,
          0.5184275184275184,
          0.5208845208845209,
          0.5208845208845209,
          0.5233415233415234,
          0.5233415233415234,
          0.5257985257985258,
          0.5257985257985258,
          0.5282555282555282,
          0.5282555282555282,
          0.5331695331695332,
          0.5331695331695332,
          0.5356265356265356,
          0.5356265356265356,
          0.5454545454545454,
          0.5454545454545454,
          0.547911547911548,
          0.547911547911548,
          0.5503685503685504,
          0.5503685503685504,
          0.5552825552825553,
          0.5552825552825553,
          0.5577395577395577,
          0.5577395577395577,
          0.5601965601965602,
          0.5601965601965602,
          0.5700245700245701,
          0.5700245700245701,
          0.5773955773955773,
          0.5773955773955773,
          0.5798525798525799,
          0.5798525798525799,
          0.5847665847665847,
          0.5847665847665847,
          0.5872235872235873,
          0.5872235872235873,
          0.5896805896805897,
          0.5896805896805897,
          0.5921375921375921,
          0.5921375921375921,
          0.5945945945945946,
          0.5945945945945946,
          0.601965601965602,
          0.601965601965602,
          0.6044226044226044,
          0.6044226044226044,
          0.6093366093366094,
          0.6093366093366094,
          0.6191646191646192,
          0.6191646191646192,
          0.6240786240786241,
          0.6240786240786241,
          0.6265356265356266,
          0.6265356265356266,
          0.628992628992629,
          0.628992628992629,
          0.6314496314496314,
          0.6314496314496314,
          0.6339066339066339,
          0.6339066339066339,
          0.6363636363636364,
          0.6363636363636364,
          0.6388206388206388,
          0.6388206388206388,
          0.6412776412776413,
          0.6412776412776413,
          0.6437346437346437,
          0.6437346437346437,
          0.6461916461916462,
          0.6461916461916462,
          0.6486486486486487,
          0.6486486486486487,
          0.6511056511056511,
          0.6511056511056511,
          0.6535626535626535,
          0.6535626535626535,
          0.6584766584766585,
          0.6584766584766585,
          0.6609336609336609,
          0.6609336609336609,
          0.6633906633906634,
          0.6633906633906634,
          0.6658476658476659,
          0.6658476658476659,
          0.6683046683046683,
          0.6683046683046683,
          0.6707616707616708,
          0.6707616707616708,
          0.6732186732186732,
          0.6732186732186732,
          0.6756756756756757,
          0.6756756756756757,
          0.6781326781326781,
          0.6781326781326781,
          0.6805896805896806,
          0.6805896805896806,
          0.687960687960688,
          0.687960687960688,
          0.6904176904176904,
          0.6904176904176904,
          0.6928746928746928,
          0.6928746928746928,
          0.6953316953316954,
          0.6953316953316954,
          0.6977886977886978,
          0.6977886977886978,
          0.7002457002457002,
          0.7002457002457002,
          0.7027027027027027,
          0.7027027027027027,
          0.7051597051597052,
          0.7051597051597052,
          0.7076167076167076,
          0.7076167076167076,
          0.7100737100737101,
          0.7100737100737101,
          0.7125307125307125,
          0.7125307125307125,
          0.714987714987715,
          0.714987714987715,
          0.7174447174447175,
          0.7174447174447175,
          0.7223587223587223,
          0.7223587223587223,
          0.7248157248157249,
          0.7248157248157249,
          0.7272727272727273,
          0.7272727272727273,
          0.7297297297297297,
          0.7297297297297297,
          0.7321867321867321,
          0.7321867321867321,
          0.7346437346437347,
          0.7346437346437347,
          0.7371007371007371,
          0.7371007371007371,
          0.742014742014742,
          0.742014742014742,
          0.7444717444717445,
          0.7444717444717445,
          0.7469287469287469,
          0.7469287469287469,
          0.7518427518427518,
          0.7518427518427518,
          0.7542997542997543,
          0.7542997542997543,
          0.7567567567567568,
          0.7567567567567568,
          0.7592137592137592,
          0.7592137592137592,
          0.769041769041769,
          0.769041769041769,
          0.7714987714987716,
          0.7714987714987716,
          0.773955773955774,
          0.773955773955774,
          0.7764127764127764,
          0.7764127764127764,
          0.7788697788697788,
          0.7788697788697788,
          0.7813267813267813,
          0.7813267813267813,
          0.7837837837837838,
          0.7837837837837838,
          0.7862407862407862,
          0.7862407862407862,
          0.7911547911547911,
          0.7911547911547911,
          0.7936117936117936,
          0.7936117936117936,
          0.7960687960687961,
          0.7960687960687961,
          0.7985257985257985,
          0.7985257985257985,
          0.800982800982801,
          0.800982800982801,
          0.8034398034398035,
          0.8034398034398035,
          0.8058968058968059,
          0.8058968058968059,
          0.8083538083538083,
          0.8083538083538083,
          0.8108108108108109,
          0.8108108108108109,
          0.8132678132678133,
          0.8132678132678133,
          0.8157248157248157,
          0.8157248157248157,
          0.8181818181818182,
          0.8181818181818182,
          0.8206388206388207,
          0.8206388206388207,
          0.8230958230958231,
          0.8230958230958231,
          0.828009828009828,
          0.828009828009828,
          0.8304668304668305,
          0.8304668304668305,
          0.8329238329238329,
          0.8329238329238329,
          0.8353808353808354,
          0.8353808353808354,
          0.8378378378378378,
          0.8378378378378378,
          0.8427518427518428,
          0.8427518427518428,
          0.8452088452088452,
          0.8452088452088452,
          0.8476658476658476,
          0.8476658476658476,
          0.8501228501228502,
          0.8501228501228502,
          0.8525798525798526,
          0.8525798525798526,
          0.855036855036855,
          0.855036855036855,
          0.8574938574938575,
          0.8574938574938575,
          0.85995085995086,
          0.85995085995086,
          0.8624078624078624,
          0.8624078624078624,
          0.8648648648648649,
          0.8648648648648649,
          0.8673218673218673,
          0.8673218673218673,
          0.8697788697788698,
          0.8697788697788698,
          0.8722358722358723,
          0.8722358722358723,
          0.8746928746928747,
          0.8746928746928747,
          0.8771498771498771,
          0.8771498771498771,
          0.8796068796068796,
          0.8796068796068796,
          0.8820638820638821,
          0.8820638820638821,
          0.8845208845208845,
          0.8845208845208845,
          0.8869778869778869,
          0.8869778869778869,
          0.8894348894348895,
          0.8894348894348895,
          0.8943488943488943,
          0.8943488943488943,
          0.8968058968058968,
          0.8968058968058968,
          0.8992628992628993,
          0.8992628992628993,
          0.9017199017199017,
          0.9017199017199017,
          0.9066339066339066,
          0.9066339066339066,
          0.9090909090909091,
          0.9090909090909091,
          0.9115479115479116,
          0.9115479115479116,
          0.914004914004914,
          0.914004914004914,
          0.914004914004914,
          0.914004914004914,
          0.9164619164619164,
          0.9164619164619164,
          0.918918918918919,
          0.918918918918919,
          0.9213759213759214,
          0.9213759213759214,
          0.9238329238329238,
          0.9238329238329238,
          0.9262899262899262,
          0.9262899262899262,
          0.9262899262899262,
          0.9262899262899262,
          0.9287469287469288,
          0.9287469287469288,
          0.9312039312039312,
          0.9312039312039312,
          0.9336609336609336,
          0.9336609336609336,
          0.9361179361179361,
          0.9361179361179361,
          0.9361179361179361,
          0.9361179361179361,
          0.9385749385749386,
          0.9385749385749386,
          0.941031941031941,
          0.941031941031941,
          0.9434889434889435,
          0.9434889434889435,
          0.9459459459459459,
          0.9459459459459459,
          0.9508599508599509,
          0.9508599508599509,
          0.9533169533169533,
          0.9533169533169533,
          0.9557739557739557,
          0.9557739557739557,
          0.9582309582309583,
          0.9582309582309583,
          0.9606879606879607,
          0.9606879606879607,
          0.9631449631449631,
          0.9631449631449631,
          0.9656019656019657,
          0.9656019656019657,
          0.9680589680589681,
          0.9680589680589681,
          0.9705159705159705,
          0.9705159705159705,
          0.972972972972973,
          0.972972972972973,
          0.9754299754299754,
          0.9754299754299754,
          0.9754299754299754,
          0.9754299754299754,
          0.9778869778869779,
          0.9778869778869779,
          0.9803439803439803,
          0.9803439803439803,
          0.9803439803439803,
          0.9803439803439803,
          0.9803439803439803,
          0.9803439803439803,
          0.9828009828009828,
          0.9828009828009828,
          0.9828009828009828,
          0.9828009828009828,
          0.9852579852579852,
          0.9852579852579852,
          0.9877149877149877,
          0.9877149877149877,
          0.9901719901719902,
          0.9901719901719902,
          0.9901719901719902,
          0.9901719901719902,
          0.9901719901719902,
          0.9901719901719902,
          0.9901719901719902,
          0.9901719901719902,
          0.995085995085995,
          0.995085995085995,
          0.9975429975429976,
          0.9975429975429976,
          0.9975429975429976,
          0.9975429975429976,
          0.9975429975429976,
          0.9975429975429976,
          1,
          1,
          1,
          1,
          1
         ]
        },
        {
         "line": {
          "dash": "dot",
          "width": 2
         },
         "name": "Случайная модель",
         "type": "scatter",
         "x": [
          0,
          1
         ],
         "y": [
          0,
          1
         ]
        }
       ],
       "layout": {
        "height": 550,
        "template": {
         "data": {
          "bar": [
           {
            "error_x": {
             "color": "#2a3f5f"
            },
            "error_y": {
             "color": "#2a3f5f"
            },
            "marker": {
             "line": {
              "color": "#E5ECF6",
              "width": 0.5
             }
            },
            "type": "bar"
           }
          ],
          "barpolar": [
           {
            "marker": {
             "line": {
              "color": "#E5ECF6",
              "width": 0.5
             }
            },
            "type": "barpolar"
           }
          ],
          "carpet": [
           {
            "aaxis": {
             "endlinecolor": "#2a3f5f",
             "gridcolor": "white",
             "linecolor": "white",
             "minorgridcolor": "white",
             "startlinecolor": "#2a3f5f"
            },
            "baxis": {
             "endlinecolor": "#2a3f5f",
             "gridcolor": "white",
             "linecolor": "white",
             "minorgridcolor": "white",
             "startlinecolor": "#2a3f5f"
            },
            "type": "carpet"
           }
          ],
          "choropleth": [
           {
            "colorbar": {
             "outlinewidth": 0,
             "ticks": ""
            },
            "type": "choropleth"
           }
          ],
          "contour": [
           {
            "colorbar": {
             "outlinewidth": 0,
             "ticks": ""
            },
            "colorscale": [
             [
              0,
              "#0d0887"
             ],
             [
              0.1111111111111111,
              "#46039f"
             ],
             [
              0.2222222222222222,
              "#7201a8"
             ],
             [
              0.3333333333333333,
              "#9c179e"
             ],
             [
              0.4444444444444444,
              "#bd3786"
             ],
             [
              0.5555555555555556,
              "#d8576b"
             ],
             [
              0.6666666666666666,
              "#ed7953"
             ],
             [
              0.7777777777777778,
              "#fb9f3a"
             ],
             [
              0.8888888888888888,
              "#fdca26"
             ],
             [
              1,
              "#f0f921"
             ]
            ],
            "type": "contour"
           }
          ],
          "contourcarpet": [
           {
            "colorbar": {
             "outlinewidth": 0,
             "ticks": ""
            },
            "type": "contourcarpet"
           }
          ],
          "heatmap": [
           {
            "colorbar": {
             "outlinewidth": 0,
             "ticks": ""
            },
            "colorscale": [
             [
              0,
              "#0d0887"
             ],
             [
              0.1111111111111111,
              "#46039f"
             ],
             [
              0.2222222222222222,
              "#7201a8"
             ],
             [
              0.3333333333333333,
              "#9c179e"
             ],
             [
              0.4444444444444444,
              "#bd3786"
             ],
             [
              0.5555555555555556,
              "#d8576b"
             ],
             [
              0.6666666666666666,
              "#ed7953"
             ],
             [
              0.7777777777777778,
              "#fb9f3a"
             ],
             [
              0.8888888888888888,
              "#fdca26"
             ],
             [
              1,
              "#f0f921"
             ]
            ],
            "type": "heatmap"
           }
          ],
          "heatmapgl": [
           {
            "colorbar": {
             "outlinewidth": 0,
             "ticks": ""
            },
            "colorscale": [
             [
              0,
              "#0d0887"
             ],
             [
              0.1111111111111111,
              "#46039f"
             ],
             [
              0.2222222222222222,
              "#7201a8"
             ],
             [
              0.3333333333333333,
              "#9c179e"
             ],
             [
              0.4444444444444444,
              "#bd3786"
             ],
             [
              0.5555555555555556,
              "#d8576b"
             ],
             [
              0.6666666666666666,
              "#ed7953"
             ],
             [
              0.7777777777777778,
              "#fb9f3a"
             ],
             [
              0.8888888888888888,
              "#fdca26"
             ],
             [
              1,
              "#f0f921"
             ]
            ],
            "type": "heatmapgl"
           }
          ],
          "histogram": [
           {
            "marker": {
             "colorbar": {
              "outlinewidth": 0,
              "ticks": ""
             }
            },
            "type": "histogram"
           }
          ],
          "histogram2d": [
           {
            "colorbar": {
             "outlinewidth": 0,
             "ticks": ""
            },
            "colorscale": [
             [
              0,
              "#0d0887"
             ],
             [
              0.1111111111111111,
              "#46039f"
             ],
             [
              0.2222222222222222,
              "#7201a8"
             ],
             [
              0.3333333333333333,
              "#9c179e"
             ],
             [
              0.4444444444444444,
              "#bd3786"
             ],
             [
              0.5555555555555556,
              "#d8576b"
             ],
             [
              0.6666666666666666,
              "#ed7953"
             ],
             [
              0.7777777777777778,
              "#fb9f3a"
             ],
             [
              0.8888888888888888,
              "#fdca26"
             ],
             [
              1,
              "#f0f921"
             ]
            ],
            "type": "histogram2d"
           }
          ],
          "histogram2dcontour": [
           {
            "colorbar": {
             "outlinewidth": 0,
             "ticks": ""
            },
            "colorscale": [
             [
              0,
              "#0d0887"
             ],
             [
              0.1111111111111111,
              "#46039f"
             ],
             [
              0.2222222222222222,
              "#7201a8"
             ],
             [
              0.3333333333333333,
              "#9c179e"
             ],
             [
              0.4444444444444444,
              "#bd3786"
             ],
             [
              0.5555555555555556,
              "#d8576b"
             ],
             [
              0.6666666666666666,
              "#ed7953"
             ],
             [
              0.7777777777777778,
              "#fb9f3a"
             ],
             [
              0.8888888888888888,
              "#fdca26"
             ],
             [
              1,
              "#f0f921"
             ]
            ],
            "type": "histogram2dcontour"
           }
          ],
          "mesh3d": [
           {
            "colorbar": {
             "outlinewidth": 0,
             "ticks": ""
            },
            "type": "mesh3d"
           }
          ],
          "parcoords": [
           {
            "line": {
             "colorbar": {
              "outlinewidth": 0,
              "ticks": ""
             }
            },
            "type": "parcoords"
           }
          ],
          "scatter": [
           {
            "marker": {
             "colorbar": {
              "outlinewidth": 0,
              "ticks": ""
             }
            },
            "type": "scatter"
           }
          ],
          "scatter3d": [
           {
            "line": {
             "colorbar": {
              "outlinewidth": 0,
              "ticks": ""
             }
            },
            "marker": {
             "colorbar": {
              "outlinewidth": 0,
              "ticks": ""
             }
            },
            "type": "scatter3d"
           }
          ],
          "scattercarpet": [
           {
            "marker": {
             "colorbar": {
              "outlinewidth": 0,
              "ticks": ""
             }
            },
            "type": "scattercarpet"
           }
          ],
          "scattergeo": [
           {
            "marker": {
             "colorbar": {
              "outlinewidth": 0,
              "ticks": ""
             }
            },
            "type": "scattergeo"
           }
          ],
          "scattergl": [
           {
            "marker": {
             "colorbar": {
              "outlinewidth": 0,
              "ticks": ""
             }
            },
            "type": "scattergl"
           }
          ],
          "scattermapbox": [
           {
            "marker": {
             "colorbar": {
              "outlinewidth": 0,
              "ticks": ""
             }
            },
            "type": "scattermapbox"
           }
          ],
          "scatterpolar": [
           {
            "marker": {
             "colorbar": {
              "outlinewidth": 0,
              "ticks": ""
             }
            },
            "type": "scatterpolar"
           }
          ],
          "scatterpolargl": [
           {
            "marker": {
             "colorbar": {
              "outlinewidth": 0,
              "ticks": ""
             }
            },
            "type": "scatterpolargl"
           }
          ],
          "scatterternary": [
           {
            "marker": {
             "colorbar": {
              "outlinewidth": 0,
              "ticks": ""
             }
            },
            "type": "scatterternary"
           }
          ],
          "surface": [
           {
            "colorbar": {
             "outlinewidth": 0,
             "ticks": ""
            },
            "colorscale": [
             [
              0,
              "#0d0887"
             ],
             [
              0.1111111111111111,
              "#46039f"
             ],
             [
              0.2222222222222222,
              "#7201a8"
             ],
             [
              0.3333333333333333,
              "#9c179e"
             ],
             [
              0.4444444444444444,
              "#bd3786"
             ],
             [
              0.5555555555555556,
              "#d8576b"
             ],
             [
              0.6666666666666666,
              "#ed7953"
             ],
             [
              0.7777777777777778,
              "#fb9f3a"
             ],
             [
              0.8888888888888888,
              "#fdca26"
             ],
             [
              1,
              "#f0f921"
             ]
            ],
            "type": "surface"
           }
          ],
          "table": [
           {
            "cells": {
             "fill": {
              "color": "#EBF0F8"
             },
             "line": {
              "color": "white"
             }
            },
            "header": {
             "fill": {
              "color": "#C8D4E3"
             },
             "line": {
              "color": "white"
             }
            },
            "type": "table"
           }
          ]
         },
         "layout": {
          "annotationdefaults": {
           "arrowcolor": "#2a3f5f",
           "arrowhead": 0,
           "arrowwidth": 1
          },
          "colorscale": {
           "diverging": [
            [
             0,
             "#8e0152"
            ],
            [
             0.1,
             "#c51b7d"
            ],
            [
             0.2,
             "#de77ae"
            ],
            [
             0.3,
             "#f1b6da"
            ],
            [
             0.4,
             "#fde0ef"
            ],
            [
             0.5,
             "#f7f7f7"
            ],
            [
             0.6,
             "#e6f5d0"
            ],
            [
             0.7,
             "#b8e186"
            ],
            [
             0.8,
             "#7fbc41"
            ],
            [
             0.9,
             "#4d9221"
            ],
            [
             1,
             "#276419"
            ]
           ],
           "sequential": [
            [
             0,
             "#0d0887"
            ],
            [
             0.1111111111111111,
             "#46039f"
            ],
            [
             0.2222222222222222,
             "#7201a8"
            ],
            [
             0.3333333333333333,
             "#9c179e"
            ],
            [
             0.4444444444444444,
             "#bd3786"
            ],
            [
             0.5555555555555556,
             "#d8576b"
            ],
            [
             0.6666666666666666,
             "#ed7953"
            ],
            [
             0.7777777777777778,
             "#fb9f3a"
            ],
            [
             0.8888888888888888,
             "#fdca26"
            ],
            [
             1,
             "#f0f921"
            ]
           ],
           "sequentialminus": [
            [
             0,
             "#0d0887"
            ],
            [
             0.1111111111111111,
             "#46039f"
            ],
            [
             0.2222222222222222,
             "#7201a8"
            ],
            [
             0.3333333333333333,
             "#9c179e"
            ],
            [
             0.4444444444444444,
             "#bd3786"
            ],
            [
             0.5555555555555556,
             "#d8576b"
            ],
            [
             0.6666666666666666,
             "#ed7953"
            ],
            [
             0.7777777777777778,
             "#fb9f3a"
            ],
            [
             0.8888888888888888,
             "#fdca26"
            ],
            [
             1,
             "#f0f921"
            ]
           ]
          },
          "colorway": [
           "#636efa",
           "#EF553B",
           "#00cc96",
           "#ab63fa",
           "#FFA15A",
           "#19d3f3",
           "#FF6692",
           "#B6E880",
           "#FF97FF",
           "#FECB52"
          ],
          "font": {
           "color": "#2a3f5f"
          },
          "geo": {
           "bgcolor": "white",
           "lakecolor": "white",
           "landcolor": "#E5ECF6",
           "showlakes": true,
           "showland": true,
           "subunitcolor": "white"
          },
          "hoverlabel": {
           "align": "left"
          },
          "hovermode": "closest",
          "mapbox": {
           "style": "light"
          },
          "paper_bgcolor": "white",
          "plot_bgcolor": "#E5ECF6",
          "polar": {
           "angularaxis": {
            "gridcolor": "white",
            "linecolor": "white",
            "ticks": ""
           },
           "bgcolor": "#E5ECF6",
           "radialaxis": {
            "gridcolor": "white",
            "linecolor": "white",
            "ticks": ""
           }
          },
          "scene": {
           "xaxis": {
            "backgroundcolor": "#E5ECF6",
            "gridcolor": "white",
            "gridwidth": 2,
            "linecolor": "white",
            "showbackground": true,
            "ticks": "",
            "zerolinecolor": "white"
           },
           "yaxis": {
            "backgroundcolor": "#E5ECF6",
            "gridcolor": "white",
            "gridwidth": 2,
            "linecolor": "white",
            "showbackground": true,
            "ticks": "",
            "zerolinecolor": "white"
           },
           "zaxis": {
            "backgroundcolor": "#E5ECF6",
            "gridcolor": "white",
            "gridwidth": 2,
            "linecolor": "white",
            "showbackground": true,
            "ticks": "",
            "zerolinecolor": "white"
           }
          },
          "shapedefaults": {
           "line": {
            "color": "#2a3f5f"
           }
          },
          "ternary": {
           "aaxis": {
            "gridcolor": "white",
            "linecolor": "white",
            "ticks": ""
           },
           "baxis": {
            "gridcolor": "white",
            "linecolor": "white",
            "ticks": ""
           },
           "bgcolor": "#E5ECF6",
           "caxis": {
            "gridcolor": "white",
            "linecolor": "white",
            "ticks": ""
           }
          },
          "title": {
           "x": 0.05
          },
          "xaxis": {
           "automargin": true,
           "gridcolor": "white",
           "linecolor": "white",
           "ticks": "",
           "zerolinecolor": "white",
           "zerolinewidth": 2
          },
          "yaxis": {
           "automargin": true,
           "gridcolor": "white",
           "linecolor": "white",
           "ticks": "",
           "zerolinecolor": "white",
           "zerolinewidth": 2
          }
         }
        },
        "title": {
         "text": "ROC-кривая"
        },
        "width": 900,
        "xaxis": {
         "title": {
          "text": "Ложноположительные ответы (False Positive Rate)"
         }
        },
        "yaxis": {
         "title": {
          "text": "Истинно положительные ответы (True Positive Rate)"
         }
        }
       }
      },
      "text/html": [
       "<div>\n",
       "        \n",
       "        \n",
       "            <div id=\"76a5e4be-d670-490d-a31e-34e1a4108650\" class=\"plotly-graph-div\" style=\"height:550px; width:900px;\"></div>\n",
       "            <script type=\"text/javascript\">\n",
       "                require([\"plotly\"], function(Plotly) {\n",
       "                    window.PLOTLYENV=window.PLOTLYENV || {};\n",
       "                    \n",
       "                if (document.getElementById(\"76a5e4be-d670-490d-a31e-34e1a4108650\")) {\n",
       "                    Plotly.newPlot(\n",
       "                        '76a5e4be-d670-490d-a31e-34e1a4108650',\n",
       "                        [{\"line\": {\"width\": 2}, \"name\": \"\\u0421\\u043b\\u0443\\u0447\\u0430\\u0439\\u043d\\u044b\\u0439 \\u043b\\u0435\\u0441: 0.8612102086678357\", \"type\": \"scatter\", \"x\": [0.0, 0.0, 0.0, 0.0006277463904582549, 0.0006277463904582549, 0.0006277463904582549, 0.0006277463904582549, 0.0012554927809165098, 0.0012554927809165098, 0.0018832391713747645, 0.0018832391713747645, 0.0025109855618330196, 0.0025109855618330196, 0.003138731952291274, 0.003138731952291274, 0.003766478342749529, 0.003766478342749529, 0.004394224733207784, 0.004394224733207784, 0.005021971123666039, 0.005021971123666039, 0.005649717514124294, 0.005649717514124294, 0.005649717514124294, 0.006277463904582548, 0.006277463904582548, 0.006905210295040804, 0.006905210295040804, 0.007532956685499058, 0.007532956685499058, 0.007532956685499058, 0.008160703075957313, 0.008160703075957313, 0.008788449466415568, 0.008788449466415568, 0.008788449466415568, 0.008788449466415568, 0.009416195856873822, 0.009416195856873822, 0.010043942247332079, 0.010043942247332079, 0.011299435028248588, 0.011299435028248588, 0.011299435028248588, 0.011927181418706842, 0.011927181418706842, 0.012554927809165096, 0.012554927809165096, 0.013182674199623353, 0.013182674199623353, 0.013810420590081607, 0.013810420590081607, 0.015065913370998116, 0.015065913370998116, 0.015693659761456372, 0.015693659761456372, 0.016321406151914627, 0.016321406151914627, 0.016321406151914627, 0.016321406151914627, 0.01694915254237288, 0.01694915254237288, 0.01820464532328939, 0.01820464532328939, 0.021343377275580666, 0.021343377275580666, 0.022598870056497175, 0.022598870056497175, 0.02322661644695543, 0.02322661644695543, 0.023854362837413684, 0.023854362837413684, 0.02448210922787194, 0.02573760200878845, 0.02573760200878845, 0.026365348399246705, 0.026365348399246705, 0.02699309478970496, 0.02699309478970496, 0.027620841180163214, 0.027620841180163214, 0.02824858757062147, 0.02824858757062147, 0.028876333961079723, 0.028876333961079723, 0.030131826741996232, 0.030131826741996232, 0.030759573132454487, 0.031387319522912745, 0.032015065913371, 0.032015065913371, 0.03327055869428751, 0.03327055869428751, 0.03389830508474576, 0.03389830508474576, 0.03389830508474576, 0.03389830508474576, 0.035781544256120526, 0.035781544256120526, 0.037037037037037035, 0.037037037037037035, 0.0389202762084118, 0.0389202762084118, 0.040175768989328314, 0.040175768989328314, 0.04080351537978657, 0.04080351537978657, 0.04143126177024482, 0.04143126177024482, 0.04268675455116133, 0.04268675455116133, 0.04519774011299435, 0.04519774011299435, 0.04645323289391086, 0.04645323289391086, 0.04896421845574388, 0.04896421845574388, 0.04959196484620213, 0.04959196484620213, 0.0514752040175769, 0.0514752040175769, 0.052102950408035156, 0.052102950408035156, 0.05524168236032643, 0.05524168236032643, 0.05775266792215945, 0.05775266792215945, 0.060263653483992465, 0.060263653483992465, 0.061519146264908973, 0.061519146264908973, 0.064030131826742, 0.064030131826742, 0.06528562460765851, 0.06528562460765851, 0.06654111738857502, 0.06654111738857502, 0.06716886377903326, 0.06716886377903326, 0.06842435655994979, 0.06842435655994979, 0.06905210295040803, 0.06905210295040803, 0.07030759573132454, 0.07030759573132454, 0.07219083490269931, 0.07219083490269931, 0.07344632768361582, 0.07344632768361582, 0.07721280602636535, 0.07721280602636535, 0.07846829880728186, 0.07846829880728186, 0.07909604519774012, 0.07909604519774012, 0.07972379158819837, 0.07972379158819837, 0.08035153797865663, 0.08035153797865663, 0.08097928436911488, 0.08097928436911488, 0.08160703075957314, 0.08160703075957314, 0.08223477715003139, 0.08223477715003139, 0.08788449466415568, 0.08788449466415568, 0.08913998744507219, 0.08913998744507219, 0.09667294413057125, 0.09667294413057125, 0.09792843691148775, 0.09792843691148775, 0.09855618330194602, 0.09855618330194602, 0.09918392969240426, 0.09918392969240426, 0.10106716886377903, 0.10106716886377903, 0.1029504080351538, 0.1029504080351538, 0.1098556183301946, 0.1098556183301946, 0.11048336472065286, 0.11048336472065286, 0.11299435028248588, 0.11299435028248588, 0.11487758945386065, 0.11487758945386065, 0.11613308223477715, 0.11613308223477715, 0.11801632140615191, 0.11801632140615191, 0.12115505335844319, 0.12115505335844319, 0.12492153170119272, 0.12492153170119272, 0.12617702448210924, 0.12617702448210924, 0.1349654739485248, 0.1349654739485248, 0.1362209667294413, 0.1362209667294413, 0.1374764595103578, 0.1374764595103578, 0.1418706842435656, 0.1418706842435656, 0.14438166980539863, 0.14438166980539863, 0.14563716258631512, 0.14563716258631512, 0.14940364092906466, 0.14940364092906466, 0.15128688010043942, 0.15128688010043942, 0.15254237288135594, 0.15254237288135594, 0.15317011927181418, 0.15317011927181418, 0.1556811048336472, 0.1556811048336472, 0.15630885122410546, 0.15630885122410546, 0.1613308223477715, 0.1613308223477715, 0.162586315128688, 0.162586315128688, 0.16321406151914628, 0.16321406151914628, 0.1657250470809793, 0.1657250470809793, 0.1682360326428123, 0.1682360326428123, 0.16886377903327057, 0.16886377903327057, 0.17011927181418707, 0.17011927181418707, 0.1713747645951036, 0.17200251098556182, 0.17325800376647835, 0.17325800376647835, 0.1738857501569366, 0.1738857501569366, 0.17576898932831136, 0.17576898932831136, 0.17827997489014438, 0.17827997489014438, 0.18141870684243566, 0.18141870684243566, 0.18267419962335216, 0.18267419962335216, 0.18330194601381042, 0.18330194601381042, 0.18392969240426868, 0.18392969240426868, 0.1933458882611425, 0.1933458882611425, 0.19836785938480853, 0.19836785938480853, 0.20276208411801633, 0.20276208411801633, 0.20652856246076584, 0.20652856246076584, 0.20841180163214063, 0.20841180163214063, 0.21343377275580666, 0.21343377275580666, 0.21406151914626492, 0.21406151914626492, 0.21531701192718142, 0.21531701192718142, 0.21720025109855617, 0.21720025109855617, 0.2197112366603892, 0.2197112366603892, 0.22159447583176398, 0.22159447583176398, 0.22473320778405526, 0.22473320778405526, 0.22598870056497175, 0.22598870056497175, 0.23038292529817953, 0.23038292529817953, 0.2379158819836786, 0.2379158819836786, 0.24168236032642812, 0.24168236032642812, 0.24858757062146894, 0.24858757062146894, 0.25360954174513495, 0.25360954174513495, 0.256120527306968, 0.256120527306968, 0.25674827369742625, 0.25674827369742625, 0.2598870056497175, 0.2598870056497175, 0.2617702448210923, 0.2617702448210923, 0.26490897677338354, 0.26490897677338354, 0.2806026365348399, 0.2806026365348399, 0.2812303829252982, 0.2812303829252982, 0.28185812931575643, 0.28185812931575643, 0.2837413684871312, 0.2837413684871312, 0.29441305712492155, 0.29441305712492155, 0.29692404268675454, 0.29692404268675454, 0.3013182674199623, 0.3013182674199623, 0.3019460138104206, 0.3019460138104206, 0.30634023854362835, 0.30634023854362835, 0.31324544883866917, 0.31324544883866917, 0.31763967357187695, 0.31763967357187695, 0.32077840552416825, 0.32077840552416825, 0.33019460138104206, 0.33019460138104206, 0.33270558694287505, 0.33270558694287505, 0.34526051475204017, 0.34526051475204017, 0.3534212178279975, 0.3534212178279975, 0.357187696170747, 0.357187696170747, 0.35969868173258, 0.35969868173258, 0.3615819209039548, 0.3615819209039548, 0.3709981167608286, 0.3709981167608286, 0.384180790960452, 0.384180790960452, 0.3879472693032015, 0.3879472693032015, 0.3992467043314501, 0.3992467043314501, 0.4017576898932831, 0.4017576898932831, 0.4061519146264909, 0.4061519146264909, 0.4124293785310734, 0.4124293785310734, 0.4130571249215317, 0.4130571249215317, 0.4199623352165725, 0.4199623352165725, 0.42247332077840555, 0.42247332077840555, 0.43440050219711235, 0.43440050219711235, 0.4381669805398619, 0.4381669805398619, 0.4406779661016949, 0.4406779661016949, 0.44130571249215317, 0.44130571249215317, 0.44883866917765225, 0.44883866917765225, 0.45260514752040176, 0.45260514752040176, 0.4601381042059008, 0.4601381042059008, 0.4645323289391086, 0.4657878217200251, 0.46641556811048335, 0.46641556811048335, 0.4726930320150659, 0.4726930320150659, 0.47520401757689895, 0.47520401757689895, 0.480225988700565, 0.480225988700565, 0.485247959824231, 0.485247959824231, 0.49278091650973005, 0.49466415568110483, 0.4978028876333961, 0.4978028876333961, 0.5078468298807282, 0.5078468298807282, 0.5103578154425612, 0.5103578154425612, 0.5128688010043942, 0.5128688010043942, 0.519774011299435, 0.5210295040803515, 0.5304456999372253, 0.5304456999372253, 0.5323289391086001, 0.5323289391086001, 0.5329566854990584, 0.5329566854990584, 0.5373509102322661, 0.5373509102322661, 0.5712492153170119, 0.5712492153170119, 0.5976145637162587, 0.5976145637162587, 0.6070307595731325, 0.6070307595731325, 0.6264908976773383, 0.6264908976773383, 0.6321406151914627, 0.6321406151914627, 0.6484620213433773, 0.6484620213433773, 0.6522284996861268, 0.6522284996861268, 0.664783427495292, 0.664783427495292, 0.6854990583804144, 0.6854990583804144, 0.6886377903327056, 0.6886377903327056, 0.6917765222849969, 0.6917765222849969, 0.7037037037037037, 0.7055869428750785, 0.7181418706842435, 0.7181418706842435, 0.7394852479598242, 0.7394852479598242, 0.7470182046453233, 0.7482736974262398, 0.7934714375392341, 0.7947269303201506, 0.800376647834275, 0.800376647834275, 0.8261142498430634, 0.8273697426239799, 0.8279974890144381, 0.8279974890144381, 0.8531073446327684, 0.8531073446327684, 0.8549905838041432, 0.8549905838041432, 0.8681732580037664, 0.8706842435655995, 0.8995605775266792, 0.9008160703075957, 0.903954802259887, 0.9052102950408035, 0.9209039548022598, 0.9221594475831764, 0.9322033898305084, 0.9322033898305084, 0.9428750784682988, 0.9441305712492153, 0.9698681732580038, 0.9723791588198368, 0.9849340866290018, 0.9849340866290018, 0.9968612680477087, 0.9981167608286252, 0.9987445072190835, 1.0], \"y\": [0.0, 0.002457002457002457, 0.014742014742014743, 0.014742014742014743, 0.019656019656019656, 0.02457002457002457, 0.04668304668304668, 0.04668304668304668, 0.05896805896805897, 0.05896805896805897, 0.06633906633906633, 0.06633906633906633, 0.11302211302211303, 0.11302211302211303, 0.12285012285012285, 0.12285012285012285, 0.13022113022113022, 0.13022113022113022, 0.16216216216216217, 0.16216216216216217, 0.16461916461916462, 0.16461916461916462, 0.1769041769041769, 0.18427518427518427, 0.18427518427518427, 0.2113022113022113, 0.2113022113022113, 0.22358722358722358, 0.22358722358722358, 0.2285012285012285, 0.23587223587223588, 0.23587223587223588, 0.24078624078624078, 0.24078624078624078, 0.257985257985258, 0.2628992628992629, 0.26535626535626533, 0.26535626535626533, 0.2727272727272727, 0.2727272727272727, 0.3022113022113022, 0.3022113022113022, 0.3071253071253071, 0.3144963144963145, 0.3144963144963145, 0.31695331695331697, 0.31695331695331697, 0.32678132678132676, 0.32678132678132676, 0.33415233415233414, 0.33415233415233414, 0.33906633906633904, 0.33906633906633904, 0.3488943488943489, 0.3488943488943489, 0.35626535626535627, 0.35626535626535627, 0.37346437346437344, 0.3783783783783784, 0.3832923832923833, 0.3832923832923833, 0.39803439803439805, 0.39803439803439805, 0.40294840294840295, 0.40294840294840295, 0.40540540540540543, 0.40540540540540543, 0.40786240786240785, 0.40786240786240785, 0.4152334152334152, 0.4152334152334152, 0.4201474201474201, 0.4226044226044226, 0.4226044226044226, 0.4275184275184275, 0.4275184275184275, 0.42997542997543, 0.42997542997543, 0.43243243243243246, 0.43243243243243246, 0.43734643734643736, 0.43734643734643736, 0.44717444717444715, 0.44717444717444715, 0.44963144963144963, 0.44963144963144963, 0.4594594594594595, 0.4594594594594595, 0.4619164619164619, 0.4619164619164619, 0.4643734643734644, 0.4643734643734644, 0.4668304668304668, 0.4668304668304668, 0.4692874692874693, 0.4742014742014742, 0.47911547911547914, 0.47911547911547914, 0.48157248157248156, 0.48157248157248156, 0.48402948402948404, 0.48402948402948404, 0.4864864864864865, 0.4864864864864865, 0.4914004914004914, 0.4914004914004914, 0.5012285012285013, 0.5012285012285013, 0.5061425061425061, 0.5061425061425061, 0.5110565110565111, 0.5110565110565111, 0.5135135135135135, 0.5135135135135135, 0.5184275184275184, 0.5184275184275184, 0.5208845208845209, 0.5208845208845209, 0.5233415233415234, 0.5233415233415234, 0.5257985257985258, 0.5257985257985258, 0.5282555282555282, 0.5282555282555282, 0.5331695331695332, 0.5331695331695332, 0.5356265356265356, 0.5356265356265356, 0.5454545454545454, 0.5454545454545454, 0.547911547911548, 0.547911547911548, 0.5503685503685504, 0.5503685503685504, 0.5552825552825553, 0.5552825552825553, 0.5577395577395577, 0.5577395577395577, 0.5601965601965602, 0.5601965601965602, 0.5700245700245701, 0.5700245700245701, 0.5773955773955773, 0.5773955773955773, 0.5798525798525799, 0.5798525798525799, 0.5847665847665847, 0.5847665847665847, 0.5872235872235873, 0.5872235872235873, 0.5896805896805897, 0.5896805896805897, 0.5921375921375921, 0.5921375921375921, 0.5945945945945946, 0.5945945945945946, 0.601965601965602, 0.601965601965602, 0.6044226044226044, 0.6044226044226044, 0.6093366093366094, 0.6093366093366094, 0.6191646191646192, 0.6191646191646192, 0.6240786240786241, 0.6240786240786241, 0.6265356265356266, 0.6265356265356266, 0.628992628992629, 0.628992628992629, 0.6314496314496314, 0.6314496314496314, 0.6339066339066339, 0.6339066339066339, 0.6363636363636364, 0.6363636363636364, 0.6388206388206388, 0.6388206388206388, 0.6412776412776413, 0.6412776412776413, 0.6437346437346437, 0.6437346437346437, 0.6461916461916462, 0.6461916461916462, 0.6486486486486487, 0.6486486486486487, 0.6511056511056511, 0.6511056511056511, 0.6535626535626535, 0.6535626535626535, 0.6584766584766585, 0.6584766584766585, 0.6609336609336609, 0.6609336609336609, 0.6633906633906634, 0.6633906633906634, 0.6658476658476659, 0.6658476658476659, 0.6683046683046683, 0.6683046683046683, 0.6707616707616708, 0.6707616707616708, 0.6732186732186732, 0.6732186732186732, 0.6756756756756757, 0.6756756756756757, 0.6781326781326781, 0.6781326781326781, 0.6805896805896806, 0.6805896805896806, 0.687960687960688, 0.687960687960688, 0.6904176904176904, 0.6904176904176904, 0.6928746928746928, 0.6928746928746928, 0.6953316953316954, 0.6953316953316954, 0.6977886977886978, 0.6977886977886978, 0.7002457002457002, 0.7002457002457002, 0.7027027027027027, 0.7027027027027027, 0.7051597051597052, 0.7051597051597052, 0.7076167076167076, 0.7076167076167076, 0.7100737100737101, 0.7100737100737101, 0.7125307125307125, 0.7125307125307125, 0.714987714987715, 0.714987714987715, 0.7174447174447175, 0.7174447174447175, 0.7223587223587223, 0.7223587223587223, 0.7248157248157249, 0.7248157248157249, 0.7272727272727273, 0.7272727272727273, 0.7297297297297297, 0.7297297297297297, 0.7321867321867321, 0.7321867321867321, 0.7346437346437347, 0.7346437346437347, 0.7371007371007371, 0.7371007371007371, 0.742014742014742, 0.742014742014742, 0.7444717444717445, 0.7444717444717445, 0.7469287469287469, 0.7469287469287469, 0.7518427518427518, 0.7518427518427518, 0.7542997542997543, 0.7542997542997543, 0.7567567567567568, 0.7567567567567568, 0.7592137592137592, 0.7592137592137592, 0.769041769041769, 0.769041769041769, 0.7714987714987716, 0.7714987714987716, 0.773955773955774, 0.773955773955774, 0.7764127764127764, 0.7764127764127764, 0.7788697788697788, 0.7788697788697788, 0.7813267813267813, 0.7813267813267813, 0.7837837837837838, 0.7837837837837838, 0.7862407862407862, 0.7862407862407862, 0.7911547911547911, 0.7911547911547911, 0.7936117936117936, 0.7936117936117936, 0.7960687960687961, 0.7960687960687961, 0.7985257985257985, 0.7985257985257985, 0.800982800982801, 0.800982800982801, 0.8034398034398035, 0.8034398034398035, 0.8058968058968059, 0.8058968058968059, 0.8083538083538083, 0.8083538083538083, 0.8108108108108109, 0.8108108108108109, 0.8132678132678133, 0.8132678132678133, 0.8157248157248157, 0.8157248157248157, 0.8181818181818182, 0.8181818181818182, 0.8206388206388207, 0.8206388206388207, 0.8230958230958231, 0.8230958230958231, 0.828009828009828, 0.828009828009828, 0.8304668304668305, 0.8304668304668305, 0.8329238329238329, 0.8329238329238329, 0.8353808353808354, 0.8353808353808354, 0.8378378378378378, 0.8378378378378378, 0.8427518427518428, 0.8427518427518428, 0.8452088452088452, 0.8452088452088452, 0.8476658476658476, 0.8476658476658476, 0.8501228501228502, 0.8501228501228502, 0.8525798525798526, 0.8525798525798526, 0.855036855036855, 0.855036855036855, 0.8574938574938575, 0.8574938574938575, 0.85995085995086, 0.85995085995086, 0.8624078624078624, 0.8624078624078624, 0.8648648648648649, 0.8648648648648649, 0.8673218673218673, 0.8673218673218673, 0.8697788697788698, 0.8697788697788698, 0.8722358722358723, 0.8722358722358723, 0.8746928746928747, 0.8746928746928747, 0.8771498771498771, 0.8771498771498771, 0.8796068796068796, 0.8796068796068796, 0.8820638820638821, 0.8820638820638821, 0.8845208845208845, 0.8845208845208845, 0.8869778869778869, 0.8869778869778869, 0.8894348894348895, 0.8894348894348895, 0.8943488943488943, 0.8943488943488943, 0.8968058968058968, 0.8968058968058968, 0.8992628992628993, 0.8992628992628993, 0.9017199017199017, 0.9017199017199017, 0.9066339066339066, 0.9066339066339066, 0.9090909090909091, 0.9090909090909091, 0.9115479115479116, 0.9115479115479116, 0.914004914004914, 0.914004914004914, 0.914004914004914, 0.914004914004914, 0.9164619164619164, 0.9164619164619164, 0.918918918918919, 0.918918918918919, 0.9213759213759214, 0.9213759213759214, 0.9238329238329238, 0.9238329238329238, 0.9262899262899262, 0.9262899262899262, 0.9262899262899262, 0.9262899262899262, 0.9287469287469288, 0.9287469287469288, 0.9312039312039312, 0.9312039312039312, 0.9336609336609336, 0.9336609336609336, 0.9361179361179361, 0.9361179361179361, 0.9361179361179361, 0.9361179361179361, 0.9385749385749386, 0.9385749385749386, 0.941031941031941, 0.941031941031941, 0.9434889434889435, 0.9434889434889435, 0.9459459459459459, 0.9459459459459459, 0.9508599508599509, 0.9508599508599509, 0.9533169533169533, 0.9533169533169533, 0.9557739557739557, 0.9557739557739557, 0.9582309582309583, 0.9582309582309583, 0.9606879606879607, 0.9606879606879607, 0.9631449631449631, 0.9631449631449631, 0.9656019656019657, 0.9656019656019657, 0.9680589680589681, 0.9680589680589681, 0.9705159705159705, 0.9705159705159705, 0.972972972972973, 0.972972972972973, 0.9754299754299754, 0.9754299754299754, 0.9754299754299754, 0.9754299754299754, 0.9778869778869779, 0.9778869778869779, 0.9803439803439803, 0.9803439803439803, 0.9803439803439803, 0.9803439803439803, 0.9803439803439803, 0.9803439803439803, 0.9828009828009828, 0.9828009828009828, 0.9828009828009828, 0.9828009828009828, 0.9852579852579852, 0.9852579852579852, 0.9877149877149877, 0.9877149877149877, 0.9901719901719902, 0.9901719901719902, 0.9901719901719902, 0.9901719901719902, 0.9901719901719902, 0.9901719901719902, 0.9901719901719902, 0.9901719901719902, 0.995085995085995, 0.995085995085995, 0.9975429975429976, 0.9975429975429976, 0.9975429975429976, 0.9975429975429976, 0.9975429975429976, 0.9975429975429976, 1.0, 1.0, 1.0, 1.0, 1.0]}, {\"line\": {\"dash\": \"dot\", \"width\": 2}, \"name\": \"\\u0421\\u043b\\u0443\\u0447\\u0430\\u0439\\u043d\\u0430\\u044f \\u043c\\u043e\\u0434\\u0435\\u043b\\u044c\", \"type\": \"scatter\", \"x\": [0.0, 1.0], \"y\": [0.0, 1.0]}],\n",
       "                        {\"height\": 550, \"template\": {\"data\": {\"bar\": [{\"error_x\": {\"color\": \"#2a3f5f\"}, \"error_y\": {\"color\": \"#2a3f5f\"}, \"marker\": {\"line\": {\"color\": \"#E5ECF6\", \"width\": 0.5}}, \"type\": \"bar\"}], \"barpolar\": [{\"marker\": {\"line\": {\"color\": \"#E5ECF6\", \"width\": 0.5}}, \"type\": \"barpolar\"}], \"carpet\": [{\"aaxis\": {\"endlinecolor\": \"#2a3f5f\", \"gridcolor\": \"white\", \"linecolor\": \"white\", \"minorgridcolor\": \"white\", \"startlinecolor\": \"#2a3f5f\"}, \"baxis\": {\"endlinecolor\": \"#2a3f5f\", \"gridcolor\": \"white\", \"linecolor\": \"white\", \"minorgridcolor\": \"white\", \"startlinecolor\": \"#2a3f5f\"}, \"type\": \"carpet\"}], \"choropleth\": [{\"colorbar\": {\"outlinewidth\": 0, \"ticks\": \"\"}, \"type\": \"choropleth\"}], \"contour\": [{\"colorbar\": {\"outlinewidth\": 0, \"ticks\": \"\"}, \"colorscale\": [[0.0, \"#0d0887\"], [0.1111111111111111, \"#46039f\"], [0.2222222222222222, \"#7201a8\"], [0.3333333333333333, \"#9c179e\"], [0.4444444444444444, \"#bd3786\"], [0.5555555555555556, \"#d8576b\"], [0.6666666666666666, \"#ed7953\"], [0.7777777777777778, \"#fb9f3a\"], [0.8888888888888888, \"#fdca26\"], [1.0, \"#f0f921\"]], \"type\": \"contour\"}], \"contourcarpet\": [{\"colorbar\": {\"outlinewidth\": 0, \"ticks\": \"\"}, \"type\": \"contourcarpet\"}], \"heatmap\": [{\"colorbar\": {\"outlinewidth\": 0, \"ticks\": \"\"}, \"colorscale\": [[0.0, \"#0d0887\"], [0.1111111111111111, \"#46039f\"], [0.2222222222222222, \"#7201a8\"], [0.3333333333333333, \"#9c179e\"], [0.4444444444444444, \"#bd3786\"], [0.5555555555555556, \"#d8576b\"], [0.6666666666666666, \"#ed7953\"], [0.7777777777777778, \"#fb9f3a\"], [0.8888888888888888, \"#fdca26\"], [1.0, \"#f0f921\"]], \"type\": \"heatmap\"}], \"heatmapgl\": [{\"colorbar\": {\"outlinewidth\": 0, \"ticks\": \"\"}, \"colorscale\": [[0.0, \"#0d0887\"], [0.1111111111111111, \"#46039f\"], [0.2222222222222222, \"#7201a8\"], [0.3333333333333333, \"#9c179e\"], [0.4444444444444444, \"#bd3786\"], [0.5555555555555556, \"#d8576b\"], [0.6666666666666666, \"#ed7953\"], [0.7777777777777778, \"#fb9f3a\"], [0.8888888888888888, \"#fdca26\"], [1.0, \"#f0f921\"]], \"type\": \"heatmapgl\"}], \"histogram\": [{\"marker\": {\"colorbar\": {\"outlinewidth\": 0, \"ticks\": \"\"}}, \"type\": \"histogram\"}], \"histogram2d\": [{\"colorbar\": {\"outlinewidth\": 0, \"ticks\": \"\"}, \"colorscale\": [[0.0, \"#0d0887\"], [0.1111111111111111, \"#46039f\"], [0.2222222222222222, \"#7201a8\"], [0.3333333333333333, \"#9c179e\"], [0.4444444444444444, \"#bd3786\"], [0.5555555555555556, \"#d8576b\"], [0.6666666666666666, \"#ed7953\"], [0.7777777777777778, \"#fb9f3a\"], [0.8888888888888888, \"#fdca26\"], [1.0, \"#f0f921\"]], \"type\": \"histogram2d\"}], \"histogram2dcontour\": [{\"colorbar\": {\"outlinewidth\": 0, \"ticks\": \"\"}, \"colorscale\": [[0.0, \"#0d0887\"], [0.1111111111111111, \"#46039f\"], [0.2222222222222222, \"#7201a8\"], [0.3333333333333333, \"#9c179e\"], [0.4444444444444444, \"#bd3786\"], [0.5555555555555556, \"#d8576b\"], [0.6666666666666666, \"#ed7953\"], [0.7777777777777778, \"#fb9f3a\"], [0.8888888888888888, \"#fdca26\"], [1.0, \"#f0f921\"]], \"type\": \"histogram2dcontour\"}], \"mesh3d\": [{\"colorbar\": {\"outlinewidth\": 0, \"ticks\": \"\"}, \"type\": \"mesh3d\"}], \"parcoords\": [{\"line\": {\"colorbar\": {\"outlinewidth\": 0, \"ticks\": \"\"}}, \"type\": \"parcoords\"}], \"scatter\": [{\"marker\": {\"colorbar\": {\"outlinewidth\": 0, \"ticks\": \"\"}}, \"type\": \"scatter\"}], \"scatter3d\": [{\"line\": {\"colorbar\": {\"outlinewidth\": 0, \"ticks\": \"\"}}, \"marker\": {\"colorbar\": {\"outlinewidth\": 0, \"ticks\": \"\"}}, \"type\": \"scatter3d\"}], \"scattercarpet\": [{\"marker\": {\"colorbar\": {\"outlinewidth\": 0, \"ticks\": \"\"}}, \"type\": \"scattercarpet\"}], \"scattergeo\": [{\"marker\": {\"colorbar\": {\"outlinewidth\": 0, \"ticks\": \"\"}}, \"type\": \"scattergeo\"}], \"scattergl\": [{\"marker\": {\"colorbar\": {\"outlinewidth\": 0, \"ticks\": \"\"}}, \"type\": \"scattergl\"}], \"scattermapbox\": [{\"marker\": {\"colorbar\": {\"outlinewidth\": 0, \"ticks\": \"\"}}, \"type\": \"scattermapbox\"}], \"scatterpolar\": [{\"marker\": {\"colorbar\": {\"outlinewidth\": 0, \"ticks\": \"\"}}, \"type\": \"scatterpolar\"}], \"scatterpolargl\": [{\"marker\": {\"colorbar\": {\"outlinewidth\": 0, \"ticks\": \"\"}}, \"type\": \"scatterpolargl\"}], \"scatterternary\": [{\"marker\": {\"colorbar\": {\"outlinewidth\": 0, \"ticks\": \"\"}}, \"type\": \"scatterternary\"}], \"surface\": [{\"colorbar\": {\"outlinewidth\": 0, \"ticks\": \"\"}, \"colorscale\": [[0.0, \"#0d0887\"], [0.1111111111111111, \"#46039f\"], [0.2222222222222222, \"#7201a8\"], [0.3333333333333333, \"#9c179e\"], [0.4444444444444444, \"#bd3786\"], [0.5555555555555556, \"#d8576b\"], [0.6666666666666666, \"#ed7953\"], [0.7777777777777778, \"#fb9f3a\"], [0.8888888888888888, \"#fdca26\"], [1.0, \"#f0f921\"]], \"type\": \"surface\"}], \"table\": [{\"cells\": {\"fill\": {\"color\": \"#EBF0F8\"}, \"line\": {\"color\": \"white\"}}, \"header\": {\"fill\": {\"color\": \"#C8D4E3\"}, \"line\": {\"color\": \"white\"}}, \"type\": \"table\"}]}, \"layout\": {\"annotationdefaults\": {\"arrowcolor\": \"#2a3f5f\", \"arrowhead\": 0, \"arrowwidth\": 1}, \"colorscale\": {\"diverging\": [[0, \"#8e0152\"], [0.1, \"#c51b7d\"], [0.2, \"#de77ae\"], [0.3, \"#f1b6da\"], [0.4, \"#fde0ef\"], [0.5, \"#f7f7f7\"], [0.6, \"#e6f5d0\"], [0.7, \"#b8e186\"], [0.8, \"#7fbc41\"], [0.9, \"#4d9221\"], [1, \"#276419\"]], \"sequential\": [[0.0, \"#0d0887\"], [0.1111111111111111, \"#46039f\"], [0.2222222222222222, \"#7201a8\"], [0.3333333333333333, \"#9c179e\"], [0.4444444444444444, \"#bd3786\"], [0.5555555555555556, \"#d8576b\"], [0.6666666666666666, \"#ed7953\"], [0.7777777777777778, \"#fb9f3a\"], [0.8888888888888888, \"#fdca26\"], [1.0, \"#f0f921\"]], \"sequentialminus\": [[0.0, \"#0d0887\"], [0.1111111111111111, \"#46039f\"], [0.2222222222222222, \"#7201a8\"], [0.3333333333333333, \"#9c179e\"], [0.4444444444444444, \"#bd3786\"], [0.5555555555555556, \"#d8576b\"], [0.6666666666666666, \"#ed7953\"], [0.7777777777777778, \"#fb9f3a\"], [0.8888888888888888, \"#fdca26\"], [1.0, \"#f0f921\"]]}, \"colorway\": [\"#636efa\", \"#EF553B\", \"#00cc96\", \"#ab63fa\", \"#FFA15A\", \"#19d3f3\", \"#FF6692\", \"#B6E880\", \"#FF97FF\", \"#FECB52\"], \"font\": {\"color\": \"#2a3f5f\"}, \"geo\": {\"bgcolor\": \"white\", \"lakecolor\": \"white\", \"landcolor\": \"#E5ECF6\", \"showlakes\": true, \"showland\": true, \"subunitcolor\": \"white\"}, \"hoverlabel\": {\"align\": \"left\"}, \"hovermode\": \"closest\", \"mapbox\": {\"style\": \"light\"}, \"paper_bgcolor\": \"white\", \"plot_bgcolor\": \"#E5ECF6\", \"polar\": {\"angularaxis\": {\"gridcolor\": \"white\", \"linecolor\": \"white\", \"ticks\": \"\"}, \"bgcolor\": \"#E5ECF6\", \"radialaxis\": {\"gridcolor\": \"white\", \"linecolor\": \"white\", \"ticks\": \"\"}}, \"scene\": {\"xaxis\": {\"backgroundcolor\": \"#E5ECF6\", \"gridcolor\": \"white\", \"gridwidth\": 2, \"linecolor\": \"white\", \"showbackground\": true, \"ticks\": \"\", \"zerolinecolor\": \"white\"}, \"yaxis\": {\"backgroundcolor\": \"#E5ECF6\", \"gridcolor\": \"white\", \"gridwidth\": 2, \"linecolor\": \"white\", \"showbackground\": true, \"ticks\": \"\", \"zerolinecolor\": \"white\"}, \"zaxis\": {\"backgroundcolor\": \"#E5ECF6\", \"gridcolor\": \"white\", \"gridwidth\": 2, \"linecolor\": \"white\", \"showbackground\": true, \"ticks\": \"\", \"zerolinecolor\": \"white\"}}, \"shapedefaults\": {\"line\": {\"color\": \"#2a3f5f\"}}, \"ternary\": {\"aaxis\": {\"gridcolor\": \"white\", \"linecolor\": \"white\", \"ticks\": \"\"}, \"baxis\": {\"gridcolor\": \"white\", \"linecolor\": \"white\", \"ticks\": \"\"}, \"bgcolor\": \"#E5ECF6\", \"caxis\": {\"gridcolor\": \"white\", \"linecolor\": \"white\", \"ticks\": \"\"}}, \"title\": {\"x\": 0.05}, \"xaxis\": {\"automargin\": true, \"gridcolor\": \"white\", \"linecolor\": \"white\", \"ticks\": \"\", \"zerolinecolor\": \"white\", \"zerolinewidth\": 2}, \"yaxis\": {\"automargin\": true, \"gridcolor\": \"white\", \"linecolor\": \"white\", \"ticks\": \"\", \"zerolinecolor\": \"white\", \"zerolinewidth\": 2}}}, \"title\": {\"text\": \"ROC-\\u043a\\u0440\\u0438\\u0432\\u0430\\u044f\"}, \"width\": 900, \"xaxis\": {\"title\": {\"text\": \"\\u041b\\u043e\\u0436\\u043d\\u043e\\u043f\\u043e\\u043b\\u043e\\u0436\\u0438\\u0442\\u0435\\u043b\\u044c\\u043d\\u044b\\u0435 \\u043e\\u0442\\u0432\\u0435\\u0442\\u044b (False Positive Rate)\"}}, \"yaxis\": {\"title\": {\"text\": \"\\u0418\\u0441\\u0442\\u0438\\u043d\\u043d\\u043e \\u043f\\u043e\\u043b\\u043e\\u0436\\u0438\\u0442\\u0435\\u043b\\u044c\\u043d\\u044b\\u0435 \\u043e\\u0442\\u0432\\u0435\\u0442\\u044b (True Positive Rate)\"}}},\n",
       "                        {\"responsive\": true}\n",
       "                    ).then(function(){\n",
       "                            \n",
       "var gd = document.getElementById('76a5e4be-d670-490d-a31e-34e1a4108650');\n",
       "var x = new MutationObserver(function (mutations, observer) {{\n",
       "        var display = window.getComputedStyle(gd).display;\n",
       "        if (!display || display === 'none') {{\n",
       "            console.log([gd, 'removed!']);\n",
       "            Plotly.purge(gd);\n",
       "            observer.disconnect();\n",
       "        }}\n",
       "}});\n",
       "\n",
       "// Listen for the removal of the full notebook cells\n",
       "var notebookContainer = gd.closest('#notebook-container');\n",
       "if (notebookContainer) {{\n",
       "    x.observe(notebookContainer, {childList: true});\n",
       "}}\n",
       "\n",
       "// Listen for the clearing of the current output cell\n",
       "var outputEl = gd.closest('.output');\n",
       "if (outputEl) {{\n",
       "    x.observe(outputEl, {childList: true});\n",
       "}}\n",
       "\n",
       "                        })\n",
       "                };\n",
       "                });\n",
       "            </script>\n",
       "        </div>"
      ]
     },
     "execution_count": 50,
     "metadata": {
     },
     "output_type": "execute_result"
    },
    {
     "name": "stderr",
     "output_type": "stream",
     "text": [
      "WARNING: 1 intermediate output message was discarded.\n"
     ]
    }
   ],
   "source": [
    "fpr, tpr, thresholds = roc_curve(target_test, probabilities_final[:,1])\n",
    "\n",
    "# ROC-кривая случайного леса\n",
    "trace_rf = go.Scatter(x = fpr,y = tpr,\n",
    "                      name = \"Случайный лес: \" + str(roc_auc_final), \n",
    "                      line = dict(width = 2))\n",
    "\n",
    "# ROC-кривая случайной модели\n",
    "trace_random = go.Scatter(x = [0.0, 1.0], y = [0.0, 1.0], \n",
    "                          name = 'Случайная модель',\n",
    "                          line = dict(width = 2, dash = 'dot'))\n",
    "\n",
    "data = [trace_rf, trace_random]\n",
    "layout = go.Layout(dict(title = 'ROC-кривая',\n",
    "                        height = 550, width = 900,\n",
    "                        xaxis = dict(title = \"Ложноположительные ответы (False Positive Rate)\"),\n",
    "                        yaxis = dict(title = \"Истинно положительные ответы (True Positive Rate)\")))\n",
    "\n",
    "fig = go.Figure(data, layout=layout)\n",
    "fig.show()"
   ]
  },
  {
   "cell_type": "markdown",
   "metadata": {
    "collapsed": false
   },
   "source": [
    "Проверим финальную модель на адекватность."
   ]
  },
  {
   "cell_type": "code",
   "execution_count": 51,
   "metadata": {
    "collapsed": false
   },
   "outputs": [
    {
     "data": {
      "text/html": [
       "<style  type=\"text/css\" >\n",
       "    #T_aba31034_ca73_11eb_ae98_02420a399c71row0_col0 {\n",
       "            background-color:  lightgreen;\n",
       "        }    #T_aba31034_ca73_11eb_ae98_02420a399c71row1_col1 {\n",
       "            background-color:  lightgreen;\n",
       "        }    #T_aba31034_ca73_11eb_ae98_02420a399c71row2_col2 {\n",
       "            background-color:  lightgreen;\n",
       "        }</style><table id=\"T_aba31034_ca73_11eb_ae98_02420a399c71\" ><thead>    <tr>        <th class=\"blank level0\" ></th>        <th class=\"col_heading level0 col0\" >stratified</th>        <th class=\"col_heading level0 col1\" >most_frequent</th>        <th class=\"col_heading level0 col2\" >uniform</th>    </tr></thead><tbody>\n",
       "                <tr>\n",
       "                        <th id=\"T_aba31034_ca73_11eb_ae98_02420a399c71level0_row0\" class=\"row_heading level0 row0\" >0</th>\n",
       "                        <td id=\"T_aba31034_ca73_11eb_ae98_02420a399c71row0_col0\" class=\"data row0 col0\" >0.664</td>\n",
       "                        <td id=\"T_aba31034_ca73_11eb_ae98_02420a399c71row0_col1\" class=\"data row0 col1\" >nan</td>\n",
       "                        <td id=\"T_aba31034_ca73_11eb_ae98_02420a399c71row0_col2\" class=\"data row0 col2\" >nan</td>\n",
       "            </tr>\n",
       "            <tr>\n",
       "                        <th id=\"T_aba31034_ca73_11eb_ae98_02420a399c71level0_row1\" class=\"row_heading level0 row1\" >1</th>\n",
       "                        <td id=\"T_aba31034_ca73_11eb_ae98_02420a399c71row1_col0\" class=\"data row1 col0\" >nan</td>\n",
       "                        <td id=\"T_aba31034_ca73_11eb_ae98_02420a399c71row1_col1\" class=\"data row1 col1\" >0.7965</td>\n",
       "                        <td id=\"T_aba31034_ca73_11eb_ae98_02420a399c71row1_col2\" class=\"data row1 col2\" >nan</td>\n",
       "            </tr>\n",
       "            <tr>\n",
       "                        <th id=\"T_aba31034_ca73_11eb_ae98_02420a399c71level0_row2\" class=\"row_heading level0 row2\" >2</th>\n",
       "                        <td id=\"T_aba31034_ca73_11eb_ae98_02420a399c71row2_col0\" class=\"data row2 col0\" >nan</td>\n",
       "                        <td id=\"T_aba31034_ca73_11eb_ae98_02420a399c71row2_col1\" class=\"data row2 col1\" >nan</td>\n",
       "                        <td id=\"T_aba31034_ca73_11eb_ae98_02420a399c71row2_col2\" class=\"data row2 col2\" >0.4925</td>\n",
       "            </tr>\n",
       "    </tbody></table>"
      ],
      "text/plain": [
       "<pandas.io.formats.style.Styler at 0x7f81bc777250>"
      ]
     },
     "execution_count": 51,
     "metadata": {
     },
     "output_type": "execute_result"
    }
   ],
   "source": [
    "strategies = ['stratified', 'most_frequent', 'uniform'] \n",
    "  \n",
    "dummy_results = [] \n",
    "for strategy in strategies: \n",
    "    dc = DummyClassifier(strategy = strategy, random_state = 42)\n",
    "    \n",
    "    dc.fit(features_train, target_train) \n",
    "    result = dc.score(features_test, target_test) \n",
    "    dummy_results.append({strategy: result}) \n",
    "\n",
    "pd.DataFrame(dummy_results).style.highlight_max(color = 'lightgreen', axis = 1)"
   ]
  },
  {
   "cell_type": "markdown",
   "metadata": {
    "collapsed": false
   },
   "source": [
    "Видим, что модель случайного леса с гиперпараметрами n_estimators = 20 и max_depth = 10 работает лучше, чем стратегии случайного прогнозирования классификатора DummyClassifier()."
   ]
  },
  {
   "cell_type": "markdown",
   "metadata": {
    "collapsed": false
   },
   "source": [
    "Вывод.\n",
    "  \n",
    "- Проверка модели на тестовой выборке показывает, что модель работает достаточно хорошо — показатель метрики f1_score удалось достигнуть выше, чем было заявлено в требованиях (минимальное требование к этой метрике было 0.59, наша модель дает результат 0.62).\n",
    "  \n",
    "- Метрика roc_auc_score = 0.858, что является хорошим результатом.\n",
    "  \n",
    "- Модель работает хорошо, цель проекта достигнута."
   ]
  },
  {
   "cell_type": "markdown",
   "metadata": {
    "collapsed": false
   },
   "source": [
    "## Чек-лист готовности проекта"
   ]
  },
  {
   "cell_type": "markdown",
   "metadata": {
    "collapsed": false
   },
   "source": [
    "Поставьте 'x' в выполненных пунктах. Далее нажмите Shift+Enter."
   ]
  },
  {
   "cell_type": "markdown",
   "metadata": {
    "collapsed": false
   },
   "source": [
    "- [x]  Jupyter Notebook открыт\n",
    "- [ ]  Весь код выполняется без ошибок\n",
    "- [ ]  Ячейки с кодом расположены в порядке исполнения\n",
    "- [ ]  Выполнен шаг 1: данные подготовлены\n",
    "- [ ]  Выполнен шаг 2: задача исследована\n",
    "    - [ ]  Исследован баланс классов\n",
    "    - [ ]  Изучены модели без учёта дисбаланса\n",
    "    - [ ]  Написаны выводы по результатам исследования\n",
    "- [ ]  Выполнен шаг 3: учтён дисбаланс\n",
    "    - [ ]  Применено несколько способов борьбы с дисбалансом\n",
    "    - [ ]  Написаны выводы по результатам исследования\n",
    "- [ ]  Выполнен шаг 4: проведено тестирование\n",
    "- [ ]  Удалось достичь *F1*-меры не менее 0.59\n",
    "- [ ]  Исследована метрика *AUC-ROC*"
   ]
  },
  {
   "cell_type": "code",
   "execution_count": 0,
   "metadata": {
    "collapsed": false
   },
   "outputs": [
   ],
   "source": [
   ]
  }
 ],
 "metadata": {
  "ExecuteTimeLog": [
   {
    "duration": 974,
    "start_time": "2021-06-09T17:25:37.839Z"
   },
   {
    "duration": 40,
    "start_time": "2021-06-09T17:25:38.815Z"
   },
   {
    "duration": 7,
    "start_time": "2021-06-09T17:25:38.857Z"
   },
   {
    "duration": 45,
    "start_time": "2021-06-09T17:25:38.866Z"
   },
   {
    "duration": 12,
    "start_time": "2021-06-09T17:25:38.913Z"
   },
   {
    "duration": 19,
    "start_time": "2021-06-09T17:25:38.926Z"
   },
   {
    "duration": 4,
    "start_time": "2021-06-09T17:25:38.947Z"
   },
   {
    "duration": 7,
    "start_time": "2021-06-09T17:25:38.953Z"
   },
   {
    "duration": 26,
    "start_time": "2021-06-09T17:25:38.961Z"
   },
   {
    "duration": 7,
    "start_time": "2021-06-09T17:25:38.989Z"
   },
   {
    "duration": 12,
    "start_time": "2021-06-09T17:25:38.998Z"
   },
   {
    "duration": 9,
    "start_time": "2021-06-09T17:25:39.011Z"
   },
   {
    "duration": 18,
    "start_time": "2021-06-09T17:25:39.021Z"
   },
   {
    "duration": 48,
    "start_time": "2021-06-09T17:25:39.041Z"
   },
   {
    "duration": 7,
    "start_time": "2021-06-09T17:25:39.091Z"
   },
   {
    "duration": 4,
    "start_time": "2021-06-09T17:25:39.099Z"
   },
   {
    "duration": 11,
    "start_time": "2021-06-09T17:25:39.104Z"
   },
   {
    "duration": 30,
    "start_time": "2021-06-09T17:25:39.117Z"
   },
   {
    "duration": 7,
    "start_time": "2021-06-09T17:28:40.990Z"
   },
   {
    "duration": 8,
    "start_time": "2021-06-09T17:29:06.442Z"
   },
   {
    "duration": 6,
    "start_time": "2021-06-09T17:29:22.620Z"
   },
   {
    "duration": 266,
    "start_time": "2021-06-09T17:32:46.442Z"
   },
   {
    "duration": 278,
    "start_time": "2021-06-09T17:33:08.734Z"
   },
   {
    "duration": 311,
    "start_time": "2021-06-09T17:40:13.843Z"
   },
   {
    "duration": 22,
    "start_time": "2021-06-09T17:40:40.758Z"
   },
   {
    "duration": 14,
    "start_time": "2021-06-09T17:44:49.164Z"
   },
   {
    "duration": 4,
    "start_time": "2021-06-09T17:45:22.992Z"
   },
   {
    "duration": 287,
    "start_time": "2021-06-09T17:45:45.602Z"
   },
   {
    "duration": 4604,
    "start_time": "2021-06-09T17:47:31.955Z"
   },
   {
    "duration": 11,
    "start_time": "2021-06-09T17:48:37.971Z"
   },
   {
    "duration": 7,
    "start_time": "2021-06-09T17:49:11.459Z"
   },
   {
    "duration": 7,
    "start_time": "2021-06-09T17:49:49.156Z"
   },
   {
    "duration": 367,
    "start_time": "2021-06-09T17:51:58.358Z"
   },
   {
    "duration": 13,
    "start_time": "2021-06-09T17:58:45.455Z"
   },
   {
    "duration": 4,
    "start_time": "2021-06-09T17:59:02.260Z"
   },
   {
    "duration": 3,
    "start_time": "2021-06-09T17:59:39.301Z"
   },
   {
    "duration": 7,
    "start_time": "2021-06-09T17:59:48.375Z"
   },
   {
    "duration": 263,
    "start_time": "2021-06-09T18:02:02.081Z"
   },
   {
    "duration": 494,
    "start_time": "2021-06-09T18:07:41.093Z"
   },
   {
    "duration": 5,
    "start_time": "2021-06-09T18:09:01.199Z"
   },
   {
    "duration": 43,
    "start_time": "2021-06-09T18:09:01.207Z"
   },
   {
    "duration": 7,
    "start_time": "2021-06-09T18:09:01.252Z"
   },
   {
    "duration": 50,
    "start_time": "2021-06-09T18:09:01.261Z"
   },
   {
    "duration": 13,
    "start_time": "2021-06-09T18:09:01.313Z"
   },
   {
    "duration": 26,
    "start_time": "2021-06-09T18:09:01.328Z"
   },
   {
    "duration": 4,
    "start_time": "2021-06-09T18:09:01.356Z"
   },
   {
    "duration": 24,
    "start_time": "2021-06-09T18:09:01.362Z"
   },
   {
    "duration": 4,
    "start_time": "2021-06-09T18:09:01.388Z"
   },
   {
    "duration": 12,
    "start_time": "2021-06-09T18:09:01.394Z"
   },
   {
    "duration": 13,
    "start_time": "2021-06-09T18:09:01.407Z"
   },
   {
    "duration": 9,
    "start_time": "2021-06-09T18:09:01.422Z"
   },
   {
    "duration": 26,
    "start_time": "2021-06-09T18:09:01.432Z"
   },
   {
    "duration": 13,
    "start_time": "2021-06-09T18:09:01.485Z"
   },
   {
    "duration": 6,
    "start_time": "2021-06-09T18:09:01.500Z"
   },
   {
    "duration": 14,
    "start_time": "2021-06-09T18:09:01.508Z"
   },
   {
    "duration": 21,
    "start_time": "2021-06-09T18:09:01.524Z"
   },
   {
    "duration": 45,
    "start_time": "2021-06-09T18:09:01.547Z"
   },
   {
    "duration": 6,
    "start_time": "2021-06-09T18:09:01.594Z"
   },
   {
    "duration": 273,
    "start_time": "2021-06-09T18:09:01.601Z"
   },
   {
    "duration": 12,
    "start_time": "2021-06-09T18:09:01.885Z"
   },
   {
    "duration": 286,
    "start_time": "2021-06-09T18:09:01.899Z"
   },
   {
    "duration": 21,
    "start_time": "2021-06-09T18:09:02.188Z"
   },
   {
    "duration": 13,
    "start_time": "2021-06-09T18:09:02.212Z"
   },
   {
    "duration": 3,
    "start_time": "2021-06-09T18:09:02.227Z"
   },
   {
    "duration": 13,
    "start_time": "2021-06-09T18:09:02.232Z"
   },
   {
    "duration": 389,
    "start_time": "2021-06-09T18:09:02.247Z"
   },
   {
    "duration": 13,
    "start_time": "2021-06-09T18:09:02.638Z"
   },
   {
    "duration": 3,
    "start_time": "2021-06-09T18:09:02.653Z"
   },
   {
    "duration": 29,
    "start_time": "2021-06-09T18:09:02.658Z"
   },
   {
    "duration": 264,
    "start_time": "2021-06-09T18:09:02.689Z"
   },
   {
    "duration": 430,
    "start_time": "2021-06-09T18:09:02.955Z"
   },
   {
    "duration": 5,
    "start_time": "2021-06-09T18:10:31.195Z"
   },
   {
    "duration": 238,
    "start_time": "2021-06-09T18:26:30.177Z"
   },
   {
    "duration": 4,
    "start_time": "2021-06-09T18:27:31.284Z"
   },
   {
    "duration": 47876,
    "start_time": "2021-06-09T18:29:23.049Z"
   },
   {
    "duration": 11,
    "start_time": "2021-06-09T18:31:30.541Z"
   },
   {
    "duration": 13,
    "start_time": "2021-06-09T18:32:20.271Z"
   },
   {
    "duration": 160,
    "start_time": "2021-06-09T18:35:26.200Z"
   },
   {
    "duration": 24,
    "start_time": "2021-06-09T18:37:49.695Z"
   },
   {
    "duration": 5,
    "start_time": "2021-06-09T18:40:20.219Z"
   },
   {
    "duration": 41,
    "start_time": "2021-06-09T18:40:20.226Z"
   },
   {
    "duration": 7,
    "start_time": "2021-06-09T18:40:20.269Z"
   },
   {
    "duration": 38,
    "start_time": "2021-06-09T18:40:20.278Z"
   },
   {
    "duration": 12,
    "start_time": "2021-06-09T18:40:20.317Z"
   },
   {
    "duration": 20,
    "start_time": "2021-06-09T18:40:20.331Z"
   },
   {
    "duration": 32,
    "start_time": "2021-06-09T18:40:20.353Z"
   },
   {
    "duration": 7,
    "start_time": "2021-06-09T18:40:20.388Z"
   },
   {
    "duration": 5,
    "start_time": "2021-06-09T18:40:20.397Z"
   },
   {
    "duration": 7,
    "start_time": "2021-06-09T18:40:20.404Z"
   },
   {
    "duration": 12,
    "start_time": "2021-06-09T18:40:20.413Z"
   },
   {
    "duration": 10,
    "start_time": "2021-06-09T18:40:20.427Z"
   },
   {
    "duration": 58,
    "start_time": "2021-06-09T18:40:20.439Z"
   },
   {
    "duration": 13,
    "start_time": "2021-06-09T18:40:20.499Z"
   },
   {
    "duration": 8,
    "start_time": "2021-06-09T18:40:20.513Z"
   },
   {
    "duration": 6,
    "start_time": "2021-06-09T18:40:20.522Z"
   },
   {
    "duration": 17,
    "start_time": "2021-06-09T18:40:20.529Z"
   },
   {
    "duration": 56,
    "start_time": "2021-06-09T18:40:20.548Z"
   },
   {
    "duration": 7,
    "start_time": "2021-06-09T18:40:20.606Z"
   },
   {
    "duration": 311,
    "start_time": "2021-06-09T18:40:20.615Z"
   },
   {
    "duration": 14,
    "start_time": "2021-06-09T18:40:20.928Z"
   },
   {
    "duration": 327,
    "start_time": "2021-06-09T18:40:20.944Z"
   },
   {
    "duration": 28,
    "start_time": "2021-06-09T18:40:21.275Z"
   },
   {
    "duration": 12,
    "start_time": "2021-06-09T18:40:21.305Z"
   },
   {
    "duration": 3,
    "start_time": "2021-06-09T18:40:21.319Z"
   },
   {
    "duration": 11,
    "start_time": "2021-06-09T18:40:21.324Z"
   },
   {
    "duration": 400,
    "start_time": "2021-06-09T18:40:21.337Z"
   },
   {
    "duration": 12,
    "start_time": "2021-06-09T18:40:21.738Z"
   },
   {
    "duration": 3,
    "start_time": "2021-06-09T18:40:21.752Z"
   },
   {
    "duration": 14,
    "start_time": "2021-06-09T18:40:21.757Z"
   },
   {
    "duration": 277,
    "start_time": "2021-06-09T18:40:21.773Z"
   },
   {
    "duration": 434,
    "start_time": "2021-06-09T18:40:22.052Z"
   },
   {
    "duration": 4,
    "start_time": "2021-06-09T18:40:22.487Z"
   },
   {
    "duration": 258,
    "start_time": "2021-06-09T18:40:22.493Z"
   },
   {
    "duration": 5,
    "start_time": "2021-06-09T18:40:22.753Z"
   },
   {
    "duration": 47741,
    "start_time": "2021-06-09T18:40:22.760Z"
   },
   {
    "duration": 11,
    "start_time": "2021-06-09T18:41:10.503Z"
   },
   {
    "duration": 15,
    "start_time": "2021-06-09T18:41:10.516Z"
   },
   {
    "duration": 188,
    "start_time": "2021-06-09T18:41:10.533Z"
   },
   {
    "duration": 17,
    "start_time": "2021-06-09T18:41:10.723Z"
   },
   {
    "duration": 332,
    "start_time": "2021-06-09T18:41:52.295Z"
   },
   {
    "duration": 38,
    "start_time": "2021-06-09T18:41:52.629Z"
   },
   {
    "duration": 7,
    "start_time": "2021-06-09T18:41:52.669Z"
   },
   {
    "duration": 41,
    "start_time": "2021-06-09T18:41:52.678Z"
   },
   {
    "duration": 13,
    "start_time": "2021-06-09T18:41:52.721Z"
   },
   {
    "duration": 29,
    "start_time": "2021-06-09T18:41:52.736Z"
   },
   {
    "duration": 19,
    "start_time": "2021-06-09T18:41:52.767Z"
   },
   {
    "duration": 6,
    "start_time": "2021-06-09T18:41:52.789Z"
   },
   {
    "duration": 12,
    "start_time": "2021-06-09T18:41:52.798Z"
   },
   {
    "duration": 7,
    "start_time": "2021-06-09T18:41:52.812Z"
   },
   {
    "duration": 15,
    "start_time": "2021-06-09T18:41:52.821Z"
   },
   {
    "duration": 12,
    "start_time": "2021-06-09T18:41:52.838Z"
   },
   {
    "duration": 57,
    "start_time": "2021-06-09T18:41:52.851Z"
   },
   {
    "duration": 15,
    "start_time": "2021-06-09T18:41:52.910Z"
   },
   {
    "duration": 8,
    "start_time": "2021-06-09T18:41:52.927Z"
   },
   {
    "duration": 4,
    "start_time": "2021-06-09T18:41:52.937Z"
   },
   {
    "duration": 13,
    "start_time": "2021-06-09T18:41:52.943Z"
   },
   {
    "duration": 32,
    "start_time": "2021-06-09T18:41:52.985Z"
   },
   {
    "duration": 6,
    "start_time": "2021-06-09T18:41:53.019Z"
   },
   {
    "duration": 321,
    "start_time": "2021-06-09T18:41:53.027Z"
   },
   {
    "duration": 13,
    "start_time": "2021-06-09T18:41:53.349Z"
   },
   {
    "duration": 324,
    "start_time": "2021-06-09T18:41:53.363Z"
   },
   {
    "duration": 21,
    "start_time": "2021-06-09T18:41:53.691Z"
   },
   {
    "duration": 13,
    "start_time": "2021-06-09T18:41:53.715Z"
   },
   {
    "duration": 4,
    "start_time": "2021-06-09T18:41:53.729Z"
   },
   {
    "duration": 8,
    "start_time": "2021-06-09T18:41:53.735Z"
   },
   {
    "duration": 404,
    "start_time": "2021-06-09T18:41:53.744Z"
   },
   {
    "duration": 14,
    "start_time": "2021-06-09T18:41:54.150Z"
   },
   {
    "duration": 3,
    "start_time": "2021-06-09T18:41:54.166Z"
   },
   {
    "duration": 19,
    "start_time": "2021-06-09T18:41:54.171Z"
   },
   {
    "duration": 245,
    "start_time": "2021-06-09T18:41:54.192Z"
   },
   {
    "duration": 348,
    "start_time": "2021-06-09T18:41:54.439Z"
   },
   {
    "duration": 7,
    "start_time": "2021-06-09T18:41:54.789Z"
   },
   {
    "duration": 331,
    "start_time": "2021-06-09T18:41:54.799Z"
   },
   {
    "duration": 5,
    "start_time": "2021-06-09T18:41:55.132Z"
   },
   {
    "duration": 48505,
    "start_time": "2021-06-09T18:41:55.138Z"
   },
   {
    "duration": 11,
    "start_time": "2021-06-09T18:42:43.645Z"
   },
   {
    "duration": 29,
    "start_time": "2021-06-09T18:42:43.658Z"
   },
   {
    "duration": 175,
    "start_time": "2021-06-09T18:42:43.689Z"
   },
   {
    "duration": 30,
    "start_time": "2021-06-09T18:42:43.866Z"
   },
   {
    "duration": 524,
    "start_time": "2021-06-09T18:43:06.834Z"
   },
   {
    "duration": 61337,
    "start_time": "2021-06-09T19:34:05.600Z"
   },
   {
    "duration": 58,
    "start_time": "2021-06-09T19:35:06.940Z"
   },
   {
    "duration": 13,
    "start_time": "2021-06-09T19:35:07.001Z"
   },
   {
    "duration": 86,
    "start_time": "2021-06-09T19:35:07.018Z"
   },
   {
    "duration": 22,
    "start_time": "2021-06-09T19:35:07.106Z"
   },
   {
    "duration": 38,
    "start_time": "2021-06-09T19:35:07.131Z"
   },
   {
    "duration": 8,
    "start_time": "2021-06-09T19:35:07.171Z"
   },
   {
    "duration": 10,
    "start_time": "2021-06-09T19:35:07.183Z"
   },
   {
    "duration": 6,
    "start_time": "2021-06-09T19:35:07.196Z"
   },
   {
    "duration": 10,
    "start_time": "2021-06-09T19:35:07.204Z"
   },
   {
    "duration": 22,
    "start_time": "2021-06-09T19:35:07.216Z"
   },
   {
    "duration": 25,
    "start_time": "2021-06-09T19:35:07.241Z"
   },
   {
    "duration": 34,
    "start_time": "2021-06-09T19:35:07.269Z"
   },
   {
    "duration": 15,
    "start_time": "2021-06-09T19:35:07.306Z"
   },
   {
    "duration": 8,
    "start_time": "2021-06-09T19:35:07.324Z"
   },
   {
    "duration": 6,
    "start_time": "2021-06-09T19:35:07.334Z"
   },
   {
    "duration": 21,
    "start_time": "2021-06-09T19:35:07.342Z"
   },
   {
    "duration": 62,
    "start_time": "2021-06-09T19:35:07.365Z"
   },
   {
    "duration": 10,
    "start_time": "2021-06-09T19:35:07.429Z"
   },
   {
    "duration": 365,
    "start_time": "2021-06-09T19:35:07.441Z"
   },
   {
    "duration": 218634,
    "start_time": "2021-06-09T19:35:07.808Z"
   },
   {
    "duration": 516,
    "start_time": "2021-06-09T19:38:46.446Z"
   },
   {
    "duration": 52,
    "start_time": "2021-06-09T19:38:46.970Z"
   },
   {
    "duration": 36,
    "start_time": "2021-06-09T19:38:47.026Z"
   },
   {
    "duration": 5,
    "start_time": "2021-06-09T19:38:47.064Z"
   },
   {
    "duration": 14,
    "start_time": "2021-06-09T19:38:47.071Z"
   },
   {
    "duration": 495,
    "start_time": "2021-06-09T19:38:47.087Z"
   },
   {
    "duration": 18,
    "start_time": "2021-06-09T19:38:47.584Z"
   },
   {
    "duration": 58,
    "start_time": "2021-06-09T19:38:47.605Z"
   },
   {
    "duration": 18,
    "start_time": "2021-06-09T19:38:47.666Z"
   },
   {
    "duration": 477,
    "start_time": "2021-06-09T19:38:47.687Z"
   },
   {
    "duration": 409,
    "start_time": "2021-06-09T19:38:48.167Z"
   },
   {
    "duration": 8,
    "start_time": "2021-06-09T19:38:48.663Z"
   },
   {
    "duration": 521,
    "start_time": "2021-06-09T19:38:48.674Z"
   },
   {
    "duration": 5,
    "start_time": "2021-06-09T19:38:49.197Z"
   },
   {
    "duration": 80871,
    "start_time": "2021-06-09T19:38:49.205Z"
   },
   {
    "duration": 16,
    "start_time": "2021-06-09T19:40:10.079Z"
   },
   {
    "duration": 24,
    "start_time": "2021-06-09T19:40:10.098Z"
   },
   {
    "duration": 307,
    "start_time": "2021-06-09T19:40:10.125Z"
   },
   {
    "duration": 938,
    "start_time": "2021-06-09T19:40:10.434Z"
   },
   {
    "duration": 30,
    "start_time": "2021-06-09T19:40:11.374Z"
   },
   {
    "duration": 52179,
    "start_time": "2021-06-10T09:00:46.049Z"
   },
   {
    "duration": 54,
    "start_time": "2021-06-10T09:01:38.231Z"
   },
   {
    "duration": 14,
    "start_time": "2021-06-10T09:01:38.289Z"
   },
   {
    "duration": 90,
    "start_time": "2021-06-10T09:01:38.306Z"
   },
   {
    "duration": 22,
    "start_time": "2021-06-10T09:01:38.399Z"
   },
   {
    "duration": 59,
    "start_time": "2021-06-10T09:01:38.425Z"
   },
   {
    "duration": 8,
    "start_time": "2021-06-10T09:01:38.487Z"
   },
   {
    "duration": 9,
    "start_time": "2021-06-10T09:01:38.501Z"
   },
   {
    "duration": 8,
    "start_time": "2021-06-10T09:01:38.514Z"
   },
   {
    "duration": 59,
    "start_time": "2021-06-10T09:01:38.525Z"
   },
   {
    "duration": 21,
    "start_time": "2021-06-10T09:01:38.587Z"
   },
   {
    "duration": 16,
    "start_time": "2021-06-10T09:01:38.611Z"
   },
   {
    "duration": 74,
    "start_time": "2021-06-10T09:01:38.630Z"
   },
   {
    "duration": 18,
    "start_time": "2021-06-10T09:01:38.707Z"
   },
   {
    "duration": 12,
    "start_time": "2021-06-10T09:01:38.727Z"
   },
   {
    "duration": 6,
    "start_time": "2021-06-10T09:01:38.742Z"
   },
   {
    "duration": 16,
    "start_time": "2021-06-10T09:01:38.784Z"
   },
   {
    "duration": 48,
    "start_time": "2021-06-10T09:01:38.803Z"
   },
   {
    "duration": 14,
    "start_time": "2021-06-10T09:01:38.884Z"
   },
   {
    "duration": 436,
    "start_time": "2021-06-10T09:01:38.901Z"
   },
   {
    "duration": 165053,
    "start_time": "2021-06-10T09:01:39.340Z"
   },
   {
    "duration": 339,
    "start_time": "2021-06-10T09:04:24.396Z"
   },
   {
    "duration": 55,
    "start_time": "2021-06-10T09:04:24.741Z"
   },
   {
    "duration": 27,
    "start_time": "2021-06-10T09:04:24.801Z"
   },
   {
    "duration": 56,
    "start_time": "2021-06-10T09:04:24.830Z"
   },
   {
    "duration": 10,
    "start_time": "2021-06-10T09:04:24.888Z"
   },
   {
    "duration": 489,
    "start_time": "2021-06-10T09:04:24.901Z"
   },
   {
    "duration": 18,
    "start_time": "2021-06-10T09:04:25.392Z"
   },
   {
    "duration": 4,
    "start_time": "2021-06-10T09:04:25.412Z"
   },
   {
    "duration": 11,
    "start_time": "2021-06-10T09:04:25.418Z"
   },
   {
    "duration": 364,
    "start_time": "2021-06-10T09:04:25.431Z"
   },
   {
    "duration": 396,
    "start_time": "2021-06-10T09:04:25.797Z"
   },
   {
    "duration": 7,
    "start_time": "2021-06-10T09:04:26.285Z"
   },
   {
    "duration": 361,
    "start_time": "2021-06-10T09:04:26.295Z"
   },
   {
    "duration": 6,
    "start_time": "2021-06-10T09:04:26.659Z"
   },
   {
    "duration": 74315,
    "start_time": "2021-06-10T09:04:26.684Z"
   },
   {
    "duration": 16,
    "start_time": "2021-06-10T09:05:41.001Z"
   },
   {
    "duration": 22,
    "start_time": "2021-06-10T09:05:41.020Z"
   },
   {
    "duration": 291,
    "start_time": "2021-06-10T09:05:41.045Z"
   },
   {
    "duration": 892,
    "start_time": "2021-06-10T09:05:41.339Z"
   },
   {
    "duration": 64,
    "start_time": "2021-06-10T09:05:42.233Z"
   },
   {
    "duration": 1996,
    "start_time": "2021-06-10T16:54:30.802Z"
   },
   {
    "duration": 53,
    "start_time": "2021-06-10T16:54:32.801Z"
   },
   {
    "duration": 15,
    "start_time": "2021-06-10T16:54:32.857Z"
   },
   {
    "duration": 81,
    "start_time": "2021-06-10T16:54:32.875Z"
   },
   {
    "duration": 23,
    "start_time": "2021-06-10T16:54:32.958Z"
   },
   {
    "duration": 36,
    "start_time": "2021-06-10T16:54:32.984Z"
   },
   {
    "duration": 32,
    "start_time": "2021-06-10T16:54:33.022Z"
   },
   {
    "duration": 14,
    "start_time": "2021-06-10T16:54:33.059Z"
   },
   {
    "duration": 8,
    "start_time": "2021-06-10T16:54:33.077Z"
   },
   {
    "duration": 10,
    "start_time": "2021-06-10T16:54:33.088Z"
   },
   {
    "duration": 56,
    "start_time": "2021-06-10T16:54:33.101Z"
   },
   {
    "duration": 17,
    "start_time": "2021-06-10T16:54:33.161Z"
   },
   {
    "duration": 33,
    "start_time": "2021-06-10T16:54:33.180Z"
   },
   {
    "duration": 48,
    "start_time": "2021-06-10T16:54:33.216Z"
   },
   {
    "duration": 11,
    "start_time": "2021-06-10T16:54:33.268Z"
   },
   {
    "duration": 9,
    "start_time": "2021-06-10T16:54:33.281Z"
   },
   {
    "duration": 19,
    "start_time": "2021-06-10T16:54:33.292Z"
   },
   {
    "duration": 80,
    "start_time": "2021-06-10T16:54:33.313Z"
   },
   {
    "duration": 13,
    "start_time": "2021-06-10T16:54:33.396Z"
   },
   {
    "duration": 399,
    "start_time": "2021-06-10T16:54:33.411Z"
   },
   {
    "duration": 605,
    "start_time": "2021-06-10T16:54:33.812Z"
   },
   {
    "duration": 387,
    "start_time": "2021-06-10T16:54:34.420Z"
   },
   {
    "duration": 48,
    "start_time": "2021-06-10T16:54:34.812Z"
   },
   {
    "duration": 21,
    "start_time": "2021-06-10T16:54:34.864Z"
   },
   {
    "duration": 4,
    "start_time": "2021-06-10T16:54:34.888Z"
   },
   {
    "duration": 13,
    "start_time": "2021-06-10T16:54:34.895Z"
   },
   {
    "duration": 498,
    "start_time": "2021-06-10T16:54:34.910Z"
   },
   {
    "duration": 17,
    "start_time": "2021-06-10T16:54:35.411Z"
   },
   {
    "duration": 10,
    "start_time": "2021-06-10T16:54:35.430Z"
   },
   {
    "duration": 11,
    "start_time": "2021-06-10T16:54:35.454Z"
   },
   {
    "duration": 313,
    "start_time": "2021-06-10T16:54:35.467Z"
   },
   {
    "duration": 478,
    "start_time": "2021-06-10T16:54:35.783Z"
   },
   {
    "duration": 8,
    "start_time": "2021-06-10T16:54:36.264Z"
   },
   {
    "duration": 381,
    "start_time": "2021-06-10T16:54:36.275Z"
   },
   {
    "duration": 6,
    "start_time": "2021-06-10T16:54:36.659Z"
   },
   {
    "duration": 83096,
    "start_time": "2021-06-10T16:54:36.668Z"
   },
   {
    "duration": 22,
    "start_time": "2021-06-10T16:55:59.767Z"
   },
   {
    "duration": 35,
    "start_time": "2021-06-10T16:55:59.792Z"
   },
   {
    "duration": 311,
    "start_time": "2021-06-10T16:55:59.830Z"
   },
   {
    "duration": 19,
    "start_time": "2021-06-10T16:56:00.144Z"
   },
   {
    "duration": 34,
    "start_time": "2021-06-10T16:56:00.168Z"
   },
   {
    "duration": 5,
    "start_time": "2021-06-10T16:56:00.204Z"
   },
   {
    "duration": 375,
    "start_time": "2021-06-10T16:56:00.212Z"
   },
   {
    "duration": 1021,
    "start_time": "2021-06-10T16:56:00.589Z"
   },
   {
    "duration": 55,
    "start_time": "2021-06-10T16:56:01.613Z"
   },
   {
    "duration": 522,
    "start_time": "2021-06-10T17:37:09.855Z"
   },
   {
    "duration": -20,
    "start_time": "2021-06-10T17:37:10.402Z"
   },
   {
    "duration": -26,
    "start_time": "2021-06-10T17:37:10.409Z"
   },
   {
    "duration": -52,
    "start_time": "2021-06-10T17:37:10.437Z"
   },
   {
    "duration": -65,
    "start_time": "2021-06-10T17:37:10.451Z"
   },
   {
    "duration": -70,
    "start_time": "2021-06-10T17:37:10.458Z"
   },
   {
    "duration": -74,
    "start_time": "2021-06-10T17:37:10.463Z"
   },
   {
    "duration": -77,
    "start_time": "2021-06-10T17:37:10.467Z"
   },
   {
    "duration": -82,
    "start_time": "2021-06-10T17:37:10.474Z"
   },
   {
    "duration": -86,
    "start_time": "2021-06-10T17:37:10.479Z"
   },
   {
    "duration": -90,
    "start_time": "2021-06-10T17:37:10.485Z"
   },
   {
    "duration": -94,
    "start_time": "2021-06-10T17:37:10.490Z"
   },
   {
    "duration": -98,
    "start_time": "2021-06-10T17:37:10.496Z"
   },
   {
    "duration": -110,
    "start_time": "2021-06-10T17:37:10.509Z"
   },
   {
    "duration": -113,
    "start_time": "2021-06-10T17:37:10.513Z"
   },
   {
    "duration": -113,
    "start_time": "2021-06-10T17:37:10.518Z"
   },
   {
    "duration": -116,
    "start_time": "2021-06-10T17:37:10.523Z"
   },
   {
    "duration": -118,
    "start_time": "2021-06-10T17:37:10.528Z"
   },
   {
    "duration": -121,
    "start_time": "2021-06-10T17:37:10.533Z"
   },
   {
    "duration": -128,
    "start_time": "2021-06-10T17:37:10.542Z"
   },
   {
    "duration": -132,
    "start_time": "2021-06-10T17:37:10.549Z"
   },
   {
    "duration": -138,
    "start_time": "2021-06-10T17:37:10.556Z"
   },
   {
    "duration": -141,
    "start_time": "2021-06-10T17:37:10.561Z"
   },
   {
    "duration": -112,
    "start_time": "2021-06-10T17:37:10.566Z"
   },
   {
    "duration": -113,
    "start_time": "2021-06-10T17:37:10.570Z"
   },
   {
    "duration": -116,
    "start_time": "2021-06-10T17:37:10.575Z"
   },
   {
    "duration": -118,
    "start_time": "2021-06-10T17:37:10.580Z"
   },
   {
    "duration": -121,
    "start_time": "2021-06-10T17:37:10.585Z"
   },
   {
    "duration": -168,
    "start_time": "2021-06-10T17:37:10.634Z"
   },
   {
    "duration": -171,
    "start_time": "2021-06-10T17:37:10.640Z"
   },
   {
    "duration": -174,
    "start_time": "2021-06-10T17:37:10.645Z"
   },
   {
    "duration": -179,
    "start_time": "2021-06-10T17:37:10.651Z"
   },
   {
    "duration": -181,
    "start_time": "2021-06-10T17:37:10.655Z"
   },
   {
    "duration": -225,
    "start_time": "2021-06-10T17:37:10.700Z"
   },
   {
    "duration": -227,
    "start_time": "2021-06-10T17:37:10.704Z"
   },
   {
    "duration": -237,
    "start_time": "2021-06-10T17:37:10.715Z"
   },
   {
    "duration": -245,
    "start_time": "2021-06-10T17:37:10.724Z"
   },
   {
    "duration": -247,
    "start_time": "2021-06-10T17:37:10.728Z"
   },
   {
    "duration": -249,
    "start_time": "2021-06-10T17:37:10.731Z"
   },
   {
    "duration": -262,
    "start_time": "2021-06-10T17:37:10.746Z"
   },
   {
    "duration": -265,
    "start_time": "2021-06-10T17:37:10.750Z"
   },
   {
    "duration": -268,
    "start_time": "2021-06-10T17:37:10.755Z"
   },
   {
    "duration": -273,
    "start_time": "2021-06-10T17:37:10.761Z"
   },
   {
    "duration": -276,
    "start_time": "2021-06-10T17:37:10.765Z"
   },
   {
    "duration": -289,
    "start_time": "2021-06-10T17:37:10.780Z"
   },
   {
    "duration": 6,
    "start_time": "2021-06-10T17:42:22.677Z"
   },
   {
    "duration": 4,
    "start_time": "2021-06-10T17:53:46.844Z"
   },
   {
    "duration": 11,
    "start_time": "2021-06-10T18:06:46.438Z"
   },
   {
    "duration": 264,
    "start_time": "2021-06-10T18:07:23.461Z"
   },
   {
    "duration": 268,
    "start_time": "2021-06-10T18:07:43.777Z"
   },
   {
    "duration": -35,
    "start_time": "2021-06-10T18:07:44.085Z"
   },
   {
    "duration": -42,
    "start_time": "2021-06-10T18:07:44.093Z"
   },
   {
    "duration": -46,
    "start_time": "2021-06-10T18:07:44.099Z"
   },
   {
    "duration": -52,
    "start_time": "2021-06-10T18:07:44.107Z"
   },
   {
    "duration": -69,
    "start_time": "2021-06-10T18:07:44.126Z"
   },
   {
    "duration": -73,
    "start_time": "2021-06-10T18:07:44.132Z"
   },
   {
    "duration": -76,
    "start_time": "2021-06-10T18:07:44.137Z"
   },
   {
    "duration": -81,
    "start_time": "2021-06-10T18:07:44.144Z"
   },
   {
    "duration": -83,
    "start_time": "2021-06-10T18:07:44.148Z"
   },
   {
    "duration": -87,
    "start_time": "2021-06-10T18:07:44.153Z"
   },
   {
    "duration": -93,
    "start_time": "2021-06-10T18:07:44.161Z"
   },
   {
    "duration": -96,
    "start_time": "2021-06-10T18:07:44.166Z"
   },
   {
    "duration": -99,
    "start_time": "2021-06-10T18:07:44.171Z"
   },
   {
    "duration": -106,
    "start_time": "2021-06-10T18:07:44.180Z"
   },
   {
    "duration": -107,
    "start_time": "2021-06-10T18:07:44.184Z"
   },
   {
    "duration": -114,
    "start_time": "2021-06-10T18:07:44.193Z"
   },
   {
    "duration": -117,
    "start_time": "2021-06-10T18:07:44.197Z"
   },
   {
    "duration": -119,
    "start_time": "2021-06-10T18:07:44.202Z"
   },
   {
    "duration": -132,
    "start_time": "2021-06-10T18:07:44.218Z"
   },
   {
    "duration": -138,
    "start_time": "2021-06-10T18:07:44.226Z"
   },
   {
    "duration": -139,
    "start_time": "2021-06-10T18:07:44.230Z"
   },
   {
    "duration": -143,
    "start_time": "2021-06-10T18:07:44.236Z"
   },
   {
    "duration": -151,
    "start_time": "2021-06-10T18:07:44.246Z"
   },
   {
    "duration": -153,
    "start_time": "2021-06-10T18:07:44.250Z"
   },
   {
    "duration": -146,
    "start_time": "2021-06-10T18:07:44.300Z"
   },
   {
    "duration": -154,
    "start_time": "2021-06-10T18:07:44.311Z"
   },
   {
    "duration": -181,
    "start_time": "2021-06-10T18:07:44.341Z"
   },
   {
    "duration": -184,
    "start_time": "2021-06-10T18:07:44.346Z"
   },
   {
    "duration": -187,
    "start_time": "2021-06-10T18:07:44.350Z"
   },
   {
    "duration": -189,
    "start_time": "2021-06-10T18:07:44.354Z"
   },
   {
    "duration": -209,
    "start_time": "2021-06-10T18:07:44.376Z"
   },
   {
    "duration": -298,
    "start_time": "2021-06-10T18:07:44.467Z"
   },
   {
    "duration": -355,
    "start_time": "2021-06-10T18:07:44.526Z"
   },
   {
    "duration": -385,
    "start_time": "2021-06-10T18:07:44.559Z"
   },
   {
    "duration": -386,
    "start_time": "2021-06-10T18:07:44.563Z"
   },
   {
    "duration": -388,
    "start_time": "2021-06-10T18:07:44.567Z"
   },
   {
    "duration": -390,
    "start_time": "2021-06-10T18:07:44.571Z"
   },
   {
    "duration": -394,
    "start_time": "2021-06-10T18:07:44.577Z"
   },
   {
    "duration": -396,
    "start_time": "2021-06-10T18:07:44.581Z"
   },
   {
    "duration": -400,
    "start_time": "2021-06-10T18:07:44.587Z"
   },
   {
    "duration": -403,
    "start_time": "2021-06-10T18:07:44.592Z"
   },
   {
    "duration": -408,
    "start_time": "2021-06-10T18:07:44.599Z"
   },
   {
    "duration": -411,
    "start_time": "2021-06-10T18:07:44.605Z"
   },
   {
    "duration": -414,
    "start_time": "2021-06-10T18:07:44.610Z"
   },
   {
    "duration": -359,
    "start_time": "2021-06-10T18:07:44.613Z"
   },
   {
    "duration": -361,
    "start_time": "2021-06-10T18:07:44.617Z"
   },
   {
    "duration": -362,
    "start_time": "2021-06-10T18:07:44.621Z"
   },
   {
    "duration": 282,
    "start_time": "2021-06-10T18:08:08.969Z"
   },
   {
    "duration": -26,
    "start_time": "2021-06-10T18:08:09.282Z"
   },
   {
    "duration": -31,
    "start_time": "2021-06-10T18:08:09.288Z"
   },
   {
    "duration": -35,
    "start_time": "2021-06-10T18:08:09.294Z"
   },
   {
    "duration": -44,
    "start_time": "2021-06-10T18:08:09.304Z"
   },
   {
    "duration": -47,
    "start_time": "2021-06-10T18:08:09.308Z"
   },
   {
    "duration": -50,
    "start_time": "2021-06-10T18:08:09.312Z"
   },
   {
    "duration": -54,
    "start_time": "2021-06-10T18:08:09.317Z"
   },
   {
    "duration": -57,
    "start_time": "2021-06-10T18:08:09.321Z"
   },
   {
    "duration": -58,
    "start_time": "2021-06-10T18:08:09.324Z"
   },
   {
    "duration": -61,
    "start_time": "2021-06-10T18:08:09.328Z"
   },
   {
    "duration": -63,
    "start_time": "2021-06-10T18:08:09.331Z"
   },
   {
    "duration": -66,
    "start_time": "2021-06-10T18:08:09.335Z"
   },
   {
    "duration": -69,
    "start_time": "2021-06-10T18:08:09.339Z"
   },
   {
    "duration": -72,
    "start_time": "2021-06-10T18:08:09.343Z"
   },
   {
    "duration": -75,
    "start_time": "2021-06-10T18:08:09.347Z"
   },
   {
    "duration": -78,
    "start_time": "2021-06-10T18:08:09.351Z"
   },
   {
    "duration": -81,
    "start_time": "2021-06-10T18:08:09.355Z"
   },
   {
    "duration": -84,
    "start_time": "2021-06-10T18:08:09.359Z"
   },
   {
    "duration": -93,
    "start_time": "2021-06-10T18:08:09.370Z"
   },
   {
    "duration": -97,
    "start_time": "2021-06-10T18:08:09.375Z"
   },
   {
    "duration": -99,
    "start_time": "2021-06-10T18:08:09.379Z"
   },
   {
    "duration": -104,
    "start_time": "2021-06-10T18:08:09.385Z"
   },
   {
    "duration": -106,
    "start_time": "2021-06-10T18:08:09.389Z"
   },
   {
    "duration": -110,
    "start_time": "2021-06-10T18:08:09.394Z"
   },
   {
    "duration": -113,
    "start_time": "2021-06-10T18:08:09.398Z"
   },
   {
    "duration": -115,
    "start_time": "2021-06-10T18:08:09.402Z"
   },
   {
    "duration": -124,
    "start_time": "2021-06-10T18:08:09.412Z"
   },
   {
    "duration": -127,
    "start_time": "2021-06-10T18:08:09.417Z"
   },
   {
    "duration": -130,
    "start_time": "2021-06-10T18:08:09.421Z"
   },
   {
    "duration": -144,
    "start_time": "2021-06-10T18:08:09.436Z"
   },
   {
    "duration": -145,
    "start_time": "2021-06-10T18:08:09.439Z"
   },
   {
    "duration": -148,
    "start_time": "2021-06-10T18:08:09.444Z"
   },
   {
    "duration": -105,
    "start_time": "2021-06-10T18:08:09.460Z"
   },
   {
    "duration": -109,
    "start_time": "2021-06-10T18:08:09.465Z"
   },
   {
    "duration": -121,
    "start_time": "2021-06-10T18:08:09.479Z"
   },
   {
    "duration": -132,
    "start_time": "2021-06-10T18:08:09.492Z"
   },
   {
    "duration": -134,
    "start_time": "2021-06-10T18:08:09.496Z"
   },
   {
    "duration": -137,
    "start_time": "2021-06-10T18:08:09.502Z"
   },
   {
    "duration": -210,
    "start_time": "2021-06-10T18:08:09.577Z"
   },
   {
    "duration": -262,
    "start_time": "2021-06-10T18:08:09.632Z"
   },
   {
    "duration": -265,
    "start_time": "2021-06-10T18:08:09.637Z"
   },
   {
    "duration": -264,
    "start_time": "2021-06-10T18:08:09.641Z"
   },
   {
    "duration": -277,
    "start_time": "2021-06-10T18:08:09.656Z"
   },
   {
    "duration": -278,
    "start_time": "2021-06-10T18:08:09.660Z"
   },
   {
    "duration": -280,
    "start_time": "2021-06-10T18:08:09.664Z"
   },
   {
    "duration": -283,
    "start_time": "2021-06-10T18:08:09.669Z"
   },
   {
    "duration": -284,
    "start_time": "2021-06-10T18:08:09.673Z"
   },
   {
    "duration": 7,
    "start_time": "2021-06-10T18:11:10.393Z"
   },
   {
    "duration": 65,
    "start_time": "2021-06-10T18:11:10.403Z"
   },
   {
    "duration": 13,
    "start_time": "2021-06-10T18:11:10.471Z"
   },
   {
    "duration": 102,
    "start_time": "2021-06-10T18:11:10.487Z"
   },
   {
    "duration": 22,
    "start_time": "2021-06-10T18:11:10.592Z"
   },
   {
    "duration": 60,
    "start_time": "2021-06-10T18:11:10.617Z"
   },
   {
    "duration": 15,
    "start_time": "2021-06-10T18:11:10.679Z"
   },
   {
    "duration": 9,
    "start_time": "2021-06-10T18:11:10.699Z"
   },
   {
    "duration": 44,
    "start_time": "2021-06-10T18:11:10.711Z"
   },
   {
    "duration": 15,
    "start_time": "2021-06-10T18:11:10.758Z"
   },
   {
    "duration": 20,
    "start_time": "2021-06-10T18:11:10.776Z"
   },
   {
    "duration": 57,
    "start_time": "2021-06-10T18:11:10.798Z"
   },
   {
    "duration": 35,
    "start_time": "2021-06-10T18:11:10.860Z"
   },
   {
    "duration": 16,
    "start_time": "2021-06-10T18:11:10.898Z"
   },
   {
    "duration": 44,
    "start_time": "2021-06-10T18:11:10.917Z"
   },
   {
    "duration": 6,
    "start_time": "2021-06-10T18:11:10.965Z"
   },
   {
    "duration": 18,
    "start_time": "2021-06-10T18:11:10.974Z"
   },
   {
    "duration": 76,
    "start_time": "2021-06-10T18:11:10.994Z"
   },
   {
    "duration": 9,
    "start_time": "2021-06-10T18:11:11.073Z"
   },
   {
    "duration": 416,
    "start_time": "2021-06-10T18:11:11.085Z"
   },
   {
    "duration": 20,
    "start_time": "2021-06-10T18:11:11.503Z"
   },
   {
    "duration": 377,
    "start_time": "2021-06-10T18:11:11.526Z"
   },
   {
    "duration": 34,
    "start_time": "2021-06-10T18:11:11.908Z"
   },
   {
    "duration": 32,
    "start_time": "2021-06-10T18:11:11.945Z"
   },
   {
    "duration": 5,
    "start_time": "2021-06-10T18:11:11.980Z"
   },
   {
    "duration": 15,
    "start_time": "2021-06-10T18:11:11.987Z"
   },
   {
    "duration": 509,
    "start_time": "2021-06-10T18:11:12.005Z"
   },
   {
    "duration": 18,
    "start_time": "2021-06-10T18:11:12.516Z"
   },
   {
    "duration": 4,
    "start_time": "2021-06-10T18:11:12.536Z"
   },
   {
    "duration": 15,
    "start_time": "2021-06-10T18:11:12.555Z"
   },
   {
    "duration": 313,
    "start_time": "2021-06-10T18:11:12.572Z"
   },
   {
    "duration": 576,
    "start_time": "2021-06-10T18:11:12.887Z"
   },
   {
    "duration": 10,
    "start_time": "2021-06-10T18:11:13.556Z"
   },
   {
    "duration": 407,
    "start_time": "2021-06-10T18:11:13.569Z"
   },
   {
    "duration": 6,
    "start_time": "2021-06-10T18:11:13.978Z"
   },
   {
    "duration": 81328,
    "start_time": "2021-06-10T18:11:13.986Z"
   },
   {
    "duration": 6,
    "start_time": "2021-06-10T18:12:35.317Z"
   },
   {
    "duration": 30,
    "start_time": "2021-06-10T18:12:35.326Z"
   },
   {
    "duration": 5,
    "start_time": "2021-06-10T18:12:35.360Z"
   },
   {
    "duration": 23,
    "start_time": "2021-06-10T18:12:35.369Z"
   },
   {
    "duration": 21,
    "start_time": "2021-06-10T18:12:35.395Z"
   },
   {
    "duration": 317,
    "start_time": "2021-06-10T18:12:35.419Z"
   },
   {
    "duration": 19,
    "start_time": "2021-06-10T18:12:35.739Z"
   },
   {
    "duration": 22,
    "start_time": "2021-06-10T18:12:35.762Z"
   },
   {
    "duration": 6,
    "start_time": "2021-06-10T18:12:35.786Z"
   },
   {
    "duration": 373,
    "start_time": "2021-06-10T18:12:35.795Z"
   },
   {
    "duration": 246,
    "start_time": "2021-06-10T18:12:36.171Z"
   },
   {
    "duration": 43,
    "start_time": "2021-06-10T18:12:36.420Z"
   },
   {
    "duration": 186,
    "start_time": "2021-06-10T18:15:26.959Z"
   },
   {
    "duration": 300,
    "start_time": "2021-06-10T18:16:06.864Z"
   },
   {
    "duration": 11,
    "start_time": "2021-06-10T18:16:16.698Z"
   },
   {
    "duration": 3,
    "start_time": "2021-06-10T18:16:19.271Z"
   },
   {
    "duration": 177,
    "start_time": "2021-06-10T18:16:24.542Z"
   },
   {
    "duration": 5,
    "start_time": "2021-06-10T18:18:03.871Z"
   },
   {
    "duration": 191,
    "start_time": "2021-06-10T18:18:09.983Z"
   },
   {
    "duration": 5,
    "start_time": "2021-06-10T18:19:43.808Z"
   },
   {
    "duration": 183,
    "start_time": "2021-06-10T18:19:47.864Z"
   },
   {
    "duration": 263,
    "start_time": "2021-06-10T18:24:29.235Z"
   },
   {
    "duration": 4,
    "start_time": "2021-06-10T18:24:42.697Z"
   },
   {
    "duration": 173,
    "start_time": "2021-06-10T18:24:44.449Z"
   },
   {
    "duration": 4,
    "start_time": "2021-06-10T18:25:00.904Z"
   },
   {
    "duration": 206827,
    "start_time": "2021-06-10T18:25:01.961Z"
   },
   {
    "duration": 244,
    "start_time": "2021-06-10T18:31:03.514Z"
   },
   {
    "duration": 265,
    "start_time": "2021-06-10T18:36:29.830Z"
   },
   {
    "duration": 6,
    "start_time": "2021-06-10T18:37:59.793Z"
   },
   {
    "duration": 65,
    "start_time": "2021-06-10T18:37:59.802Z"
   },
   {
    "duration": 12,
    "start_time": "2021-06-10T18:37:59.871Z"
   },
   {
    "duration": 101,
    "start_time": "2021-06-10T18:37:59.886Z"
   },
   {
    "duration": 22,
    "start_time": "2021-06-10T18:37:59.990Z"
   },
   {
    "duration": 67,
    "start_time": "2021-06-10T18:38:00.015Z"
   },
   {
    "duration": 29,
    "start_time": "2021-06-10T18:38:00.085Z"
   },
   {
    "duration": 13,
    "start_time": "2021-06-10T18:38:00.117Z"
   },
   {
    "duration": 12,
    "start_time": "2021-06-10T18:38:00.133Z"
   },
   {
    "duration": 20,
    "start_time": "2021-06-10T18:38:00.147Z"
   },
   {
    "duration": 19,
    "start_time": "2021-06-10T18:38:00.169Z"
   },
   {
    "duration": 13,
    "start_time": "2021-06-10T18:38:00.191Z"
   },
   {
    "duration": 65,
    "start_time": "2021-06-10T18:38:00.207Z"
   },
   {
    "duration": 17,
    "start_time": "2021-06-10T18:38:00.274Z"
   },
   {
    "duration": 12,
    "start_time": "2021-06-10T18:38:00.293Z"
   },
   {
    "duration": 7,
    "start_time": "2021-06-10T18:38:00.308Z"
   },
   {
    "duration": 50,
    "start_time": "2021-06-10T18:38:00.318Z"
   },
   {
    "duration": 50,
    "start_time": "2021-06-10T18:38:00.371Z"
   },
   {
    "duration": 34,
    "start_time": "2021-06-10T18:38:00.423Z"
   },
   {
    "duration": 359,
    "start_time": "2021-06-10T18:38:00.460Z"
   },
   {
    "duration": 33,
    "start_time": "2021-06-10T18:38:00.822Z"
   },
   {
    "duration": 349,
    "start_time": "2021-06-10T18:38:00.857Z"
   },
   {
    "duration": 33,
    "start_time": "2021-06-10T18:38:01.211Z"
   },
   {
    "duration": 18,
    "start_time": "2021-06-10T18:38:01.256Z"
   },
   {
    "duration": 4,
    "start_time": "2021-06-10T18:38:01.277Z"
   },
   {
    "duration": 31,
    "start_time": "2021-06-10T18:38:01.283Z"
   },
   {
    "duration": 484,
    "start_time": "2021-06-10T18:38:01.316Z"
   },
   {
    "duration": 17,
    "start_time": "2021-06-10T18:38:01.803Z"
   },
   {
    "duration": 12,
    "start_time": "2021-06-10T18:38:01.822Z"
   },
   {
    "duration": 8,
    "start_time": "2021-06-10T18:38:01.855Z"
   },
   {
    "duration": 302,
    "start_time": "2021-06-10T18:38:01.865Z"
   },
   {
    "duration": 587,
    "start_time": "2021-06-10T18:38:02.169Z"
   },
   {
    "duration": 6,
    "start_time": "2021-06-10T18:38:02.758Z"
   },
   {
    "duration": 389,
    "start_time": "2021-06-10T18:38:02.767Z"
   },
   {
    "duration": 6,
    "start_time": "2021-06-10T18:38:03.158Z"
   },
   {
    "duration": 82430,
    "start_time": "2021-06-10T18:38:03.167Z"
   },
   {
    "duration": 15,
    "start_time": "2021-06-10T18:39:25.610Z"
   },
   {
    "duration": 36,
    "start_time": "2021-06-10T18:39:25.633Z"
   },
   {
    "duration": 5,
    "start_time": "2021-06-10T18:39:25.679Z"
   },
   {
    "duration": 211815,
    "start_time": "2021-06-10T18:39:25.688Z"
   },
   {
    "duration": 281,
    "start_time": "2021-06-10T18:42:57.506Z"
   },
   {
    "duration": 2,
    "start_time": "2021-06-10T18:42:57.789Z"
   },
   {
    "duration": 0,
    "start_time": "2021-06-10T18:42:57.793Z"
   },
   {
    "duration": -2,
    "start_time": "2021-06-10T18:42:57.797Z"
   },
   {
    "duration": -20,
    "start_time": "2021-06-10T18:42:57.817Z"
   },
   {
    "duration": -22,
    "start_time": "2021-06-10T18:42:57.821Z"
   },
   {
    "duration": -25,
    "start_time": "2021-06-10T18:42:57.826Z"
   },
   {
    "duration": -26,
    "start_time": "2021-06-10T18:42:57.830Z"
   },
   {
    "duration": -29,
    "start_time": "2021-06-10T18:42:57.835Z"
   },
   {
    "duration": -32,
    "start_time": "2021-06-10T18:42:57.839Z"
   },
   {
    "duration": 84,
    "start_time": "2021-06-10T18:49:48.200Z"
   },
   {
    "duration": 86,
    "start_time": "2021-06-10T18:50:07.103Z"
   },
   {
    "duration": 78,
    "start_time": "2021-06-10T18:50:17.539Z"
   },
   {
    "duration": 4,
    "start_time": "2021-06-10T18:50:39.760Z"
   },
   {
    "duration": 4,
    "start_time": "2021-06-10T18:50:42.520Z"
   },
   {
    "duration": 78069,
    "start_time": "2021-06-10T18:50:43.672Z"
   },
   {
    "duration": 4,
    "start_time": "2021-06-10T18:52:35.375Z"
   },
   {
    "duration": 66228,
    "start_time": "2021-06-10T18:52:36.626Z"
   },
   {
    "duration": 6,
    "start_time": "2021-06-10T18:56:10.800Z"
   },
   {
    "duration": 4,
    "start_time": "2021-06-10T18:57:47.618Z"
   },
   {
    "duration": 68756,
    "start_time": "2021-06-10T18:57:49.354Z"
   },
   {
    "duration": 5,
    "start_time": "2021-06-10T18:59:46.248Z"
   },
   {
    "duration": 68698,
    "start_time": "2021-06-10T19:01:12.797Z"
   },
   {
    "duration": 6,
    "start_time": "2021-06-10T19:02:33.513Z"
   },
   {
    "duration": 5,
    "start_time": "2021-06-10T19:03:11.346Z"
   },
   {
    "duration": 4,
    "start_time": "2021-06-10T19:05:28.339Z"
   },
   {
    "duration": 4,
    "start_time": "2021-06-10T19:05:29.713Z"
   },
   {
    "duration": 186740,
    "start_time": "2021-06-10T19:05:31.698Z"
   },
   {
    "duration": 6,
    "start_time": "2021-06-10T19:08:44.891Z"
   },
   {
    "duration": 5,
    "start_time": "2021-06-10T19:08:48.259Z"
   },
   {
    "duration": 22,
    "start_time": "2021-06-10T19:09:24.530Z"
   },
   {
    "duration": 31,
    "start_time": "2021-06-10T19:10:05.195Z"
   },
   {
    "duration": 2032,
    "start_time": "2021-06-10T19:11:07.322Z"
   },
   {
    "duration": 9,
    "start_time": "2021-06-10T19:11:33.362Z"
   },
   {
    "duration": 53,
    "start_time": "2021-06-10T19:11:33.374Z"
   },
   {
    "duration": 30,
    "start_time": "2021-06-10T19:11:33.430Z"
   },
   {
    "duration": 117,
    "start_time": "2021-06-10T19:11:33.464Z"
   },
   {
    "duration": 28,
    "start_time": "2021-06-10T19:11:33.584Z"
   },
   {
    "duration": 56,
    "start_time": "2021-06-10T19:11:33.615Z"
   },
   {
    "duration": 9,
    "start_time": "2021-06-10T19:11:33.673Z"
   },
   {
    "duration": 9,
    "start_time": "2021-06-10T19:11:33.686Z"
   },
   {
    "duration": 8,
    "start_time": "2021-06-10T19:11:33.698Z"
   },
   {
    "duration": 52,
    "start_time": "2021-06-10T19:11:33.709Z"
   },
   {
    "duration": 19,
    "start_time": "2021-06-10T19:11:33.763Z"
   },
   {
    "duration": 14,
    "start_time": "2021-06-10T19:11:33.784Z"
   },
   {
    "duration": 69,
    "start_time": "2021-06-10T19:11:33.800Z"
   },
   {
    "duration": 17,
    "start_time": "2021-06-10T19:11:33.871Z"
   },
   {
    "duration": 10,
    "start_time": "2021-06-10T19:11:33.890Z"
   },
   {
    "duration": 5,
    "start_time": "2021-06-10T19:11:33.903Z"
   },
   {
    "duration": 52,
    "start_time": "2021-06-10T19:11:33.910Z"
   },
   {
    "duration": 47,
    "start_time": "2021-06-10T19:11:33.965Z"
   },
   {
    "duration": 8,
    "start_time": "2021-06-10T19:11:34.015Z"
   },
   {
    "duration": 374,
    "start_time": "2021-06-10T19:11:34.025Z"
   },
   {
    "duration": 20,
    "start_time": "2021-06-10T19:11:34.402Z"
   },
   {
    "duration": 376,
    "start_time": "2021-06-10T19:11:34.425Z"
   },
   {
    "duration": 34,
    "start_time": "2021-06-10T19:11:34.806Z"
   },
   {
    "duration": 18,
    "start_time": "2021-06-10T19:11:34.855Z"
   },
   {
    "duration": 6,
    "start_time": "2021-06-10T19:11:34.875Z"
   },
   {
    "duration": 11,
    "start_time": "2021-06-10T19:11:34.884Z"
   },
   {
    "duration": 497,
    "start_time": "2021-06-10T19:11:34.897Z"
   },
   {
    "duration": 17,
    "start_time": "2021-06-10T19:11:35.397Z"
   },
   {
    "duration": 5,
    "start_time": "2021-06-10T19:11:35.417Z"
   },
   {
    "duration": 33,
    "start_time": "2021-06-10T19:11:35.425Z"
   },
   {
    "duration": 403,
    "start_time": "2021-06-10T19:11:35.461Z"
   },
   {
    "duration": 398,
    "start_time": "2021-06-10T19:11:35.867Z"
   },
   {
    "duration": 87,
    "start_time": "2021-06-10T19:11:36.268Z"
   },
   {
    "duration": 389,
    "start_time": "2021-06-10T19:11:36.357Z"
   },
   {
    "duration": 7,
    "start_time": "2021-06-10T19:11:36.754Z"
   },
   {
    "duration": 107950,
    "start_time": "2021-06-10T19:11:36.764Z"
   },
   {
    "duration": 7,
    "start_time": "2021-06-10T19:13:24.717Z"
   },
   {
    "duration": 10,
    "start_time": "2021-06-10T19:13:24.726Z"
   },
   {
    "duration": 18,
    "start_time": "2021-06-10T19:13:24.738Z"
   },
   {
    "duration": 247944,
    "start_time": "2021-06-10T19:13:24.759Z"
   },
   {
    "duration": 6,
    "start_time": "2021-06-10T19:17:32.706Z"
   },
   {
    "duration": 7,
    "start_time": "2021-06-10T19:17:32.714Z"
   },
   {
    "duration": 43,
    "start_time": "2021-06-10T19:17:32.723Z"
   },
   {
    "duration": 25,
    "start_time": "2021-06-10T19:17:32.768Z"
   },
   {
    "duration": 1681,
    "start_time": "2021-06-10T19:17:32.795Z"
   },
   {
    "duration": 8,
    "start_time": "2021-06-10T19:17:34.479Z"
   },
   {
    "duration": 25,
    "start_time": "2021-06-10T19:17:34.490Z"
   },
   {
    "duration": 5,
    "start_time": "2021-06-10T19:17:34.518Z"
   },
   {
    "duration": 375,
    "start_time": "2021-06-10T19:17:34.525Z"
   },
   {
    "duration": 235,
    "start_time": "2021-06-10T19:17:34.903Z"
   },
   {
    "duration": 37,
    "start_time": "2021-06-10T19:17:35.140Z"
   },
   {
    "duration": 2065,
    "start_time": "2021-06-10T19:20:36.768Z"
   },
   {
    "duration": 226,
    "start_time": "2021-06-10T19:20:54.473Z"
   },
   {
    "duration": 294,
    "start_time": "2021-06-10T19:21:29.866Z"
   },
   {
    "duration": 1651,
    "start_time": "2021-06-10T19:21:46.574Z"
   },
   {
    "duration": 278,
    "start_time": "2021-06-10T19:22:07.167Z"
   },
   {
    "duration": 1544,
    "start_time": "2021-06-10T19:22:24.021Z"
   },
   {
    "duration": 466,
    "start_time": "2021-06-10T19:24:38.183Z"
   },
   {
    "duration": 1915,
    "start_time": "2021-06-10T19:24:56.414Z"
   },
   {
    "duration": 1984,
    "start_time": "2021-06-10T19:49:21.974Z"
   },
   {
    "duration": 51,
    "start_time": "2021-06-10T19:49:23.962Z"
   },
   {
    "duration": 13,
    "start_time": "2021-06-10T19:49:24.016Z"
   },
   {
    "duration": 87,
    "start_time": "2021-06-10T19:49:24.032Z"
   },
   {
    "duration": 42,
    "start_time": "2021-06-10T19:49:24.121Z"
   },
   {
    "duration": 31,
    "start_time": "2021-06-10T19:49:24.166Z"
   },
   {
    "duration": 6,
    "start_time": "2021-06-10T19:49:24.200Z"
   },
   {
    "duration": 11,
    "start_time": "2021-06-10T19:49:24.210Z"
   },
   {
    "duration": 10,
    "start_time": "2021-06-10T19:49:24.258Z"
   },
   {
    "duration": 10,
    "start_time": "2021-06-10T19:49:24.272Z"
   },
   {
    "duration": 18,
    "start_time": "2021-06-10T19:49:24.285Z"
   },
   {
    "duration": 53,
    "start_time": "2021-06-10T19:49:24.305Z"
   },
   {
    "duration": 37,
    "start_time": "2021-06-10T19:49:24.361Z"
   },
   {
    "duration": 16,
    "start_time": "2021-06-10T19:49:24.400Z"
   },
   {
    "duration": 47,
    "start_time": "2021-06-10T19:49:24.418Z"
   },
   {
    "duration": 7,
    "start_time": "2021-06-10T19:49:24.468Z"
   },
   {
    "duration": 17,
    "start_time": "2021-06-10T19:49:24.478Z"
   },
   {
    "duration": 90,
    "start_time": "2021-06-10T19:49:24.497Z"
   },
   {
    "duration": 14,
    "start_time": "2021-06-10T19:49:24.589Z"
   },
   {
    "duration": 406,
    "start_time": "2021-06-10T19:49:24.605Z"
   },
   {
    "duration": 577,
    "start_time": "2021-06-10T19:49:25.013Z"
   },
   {
    "duration": 398,
    "start_time": "2021-06-10T19:49:25.593Z"
   },
   {
    "duration": 36,
    "start_time": "2021-06-10T19:49:25.997Z"
   },
   {
    "duration": 39,
    "start_time": "2021-06-10T19:49:26.037Z"
   },
   {
    "duration": 19,
    "start_time": "2021-06-10T19:49:26.078Z"
   },
   {
    "duration": 24,
    "start_time": "2021-06-10T19:49:26.100Z"
   },
   {
    "duration": 473,
    "start_time": "2021-06-10T19:49:26.127Z"
   },
   {
    "duration": 21,
    "start_time": "2021-06-10T19:49:26.603Z"
   },
   {
    "duration": 6,
    "start_time": "2021-06-10T19:49:26.626Z"
   },
   {
    "duration": 9,
    "start_time": "2021-06-10T19:49:26.656Z"
   },
   {
    "duration": 406,
    "start_time": "2021-06-10T19:49:26.668Z"
   },
   {
    "duration": 691,
    "start_time": "2021-06-10T19:49:27.076Z"
   },
   {
    "duration": 84,
    "start_time": "2021-06-10T19:49:27.771Z"
   },
   {
    "duration": 417,
    "start_time": "2021-06-10T19:49:27.858Z"
   },
   {
    "duration": 6,
    "start_time": "2021-06-10T19:49:28.277Z"
   },
   {
    "duration": 81697,
    "start_time": "2021-06-10T19:49:28.285Z"
   },
   {
    "duration": 6,
    "start_time": "2021-06-10T19:50:49.984Z"
   },
   {
    "duration": 8,
    "start_time": "2021-06-10T19:50:49.992Z"
   },
   {
    "duration": 10,
    "start_time": "2021-06-10T19:50:50.003Z"
   },
   {
    "duration": 204445,
    "start_time": "2021-06-11T05:02:24.982Z"
   },
   {
    "duration": 53,
    "start_time": "2021-06-11T05:05:49.429Z"
   },
   {
    "duration": 13,
    "start_time": "2021-06-11T05:05:49.486Z"
   },
   {
    "duration": 83,
    "start_time": "2021-06-11T05:05:49.502Z"
   },
   {
    "duration": 20,
    "start_time": "2021-06-11T05:05:49.589Z"
   },
   {
    "duration": 62,
    "start_time": "2021-06-11T05:05:49.612Z"
   },
   {
    "duration": 9,
    "start_time": "2021-06-11T05:05:49.677Z"
   },
   {
    "duration": 9,
    "start_time": "2021-06-11T05:05:49.692Z"
   },
   {
    "duration": 10,
    "start_time": "2021-06-11T05:05:49.705Z"
   },
   {
    "duration": 48,
    "start_time": "2021-06-11T05:05:49.718Z"
   },
   {
    "duration": 21,
    "start_time": "2021-06-11T05:05:49.769Z"
   },
   {
    "duration": 14,
    "start_time": "2021-06-11T05:05:49.792Z"
   },
   {
    "duration": 66,
    "start_time": "2021-06-11T05:05:49.808Z"
   },
   {
    "duration": 16,
    "start_time": "2021-06-11T05:05:49.876Z"
   },
   {
    "duration": 9,
    "start_time": "2021-06-11T05:05:49.895Z"
   },
   {
    "duration": 5,
    "start_time": "2021-06-11T05:05:49.907Z"
   },
   {
    "duration": 55,
    "start_time": "2021-06-11T05:05:49.914Z"
   },
   {
    "duration": 51,
    "start_time": "2021-06-11T05:05:49.972Z"
   },
   {
    "duration": 136,
    "start_time": "2021-06-11T05:05:50.026Z"
   },
   {
    "duration": 1770,
    "start_time": "2021-06-11T05:05:50.164Z"
   },
   {
    "duration": 95,
    "start_time": "2021-06-11T05:05:51.936Z"
   },
   {
    "duration": 1709,
    "start_time": "2021-06-11T05:05:52.033Z"
   },
   {
    "duration": 36,
    "start_time": "2021-06-11T05:05:53.748Z"
   },
   {
    "duration": 19,
    "start_time": "2021-06-11T05:05:53.788Z"
   },
   {
    "duration": 4,
    "start_time": "2021-06-11T05:05:53.809Z"
   },
   {
    "duration": 44,
    "start_time": "2021-06-11T05:05:53.816Z"
   },
   {
    "duration": 2037,
    "start_time": "2021-06-11T05:05:53.863Z"
   },
   {
    "duration": 17,
    "start_time": "2021-06-11T05:05:55.903Z"
   },
   {
    "duration": 5,
    "start_time": "2021-06-11T05:05:55.922Z"
   },
   {
    "duration": 32,
    "start_time": "2021-06-11T05:05:55.929Z"
   },
   {
    "duration": 1229,
    "start_time": "2021-06-11T05:05:55.964Z"
   },
   {
    "duration": 467,
    "start_time": "2021-06-11T05:05:57.196Z"
   },
   {
    "duration": 91,
    "start_time": "2021-06-11T05:05:57.665Z"
   },
   {
    "duration": 424,
    "start_time": "2021-06-11T05:05:57.758Z"
   },
   {
    "duration": 5,
    "start_time": "2021-06-11T05:05:58.184Z"
   },
   {
    "duration": 75792,
    "start_time": "2021-06-11T05:05:58.192Z"
   },
   {
    "duration": 7,
    "start_time": "2021-06-11T05:07:13.986Z"
   },
   {
    "duration": 11,
    "start_time": "2021-06-11T05:07:13.995Z"
   },
   {
    "duration": 14,
    "start_time": "2021-06-11T05:07:14.008Z"
   },
   {
    "duration": 332358,
    "start_time": "2021-06-11T05:07:14.025Z"
   },
   {
    "duration": 5,
    "start_time": "2021-06-11T05:12:46.385Z"
   },
   {
    "duration": 7,
    "start_time": "2021-06-11T05:12:46.392Z"
   },
   {
    "duration": 16,
    "start_time": "2021-06-11T05:12:46.402Z"
   },
   {
    "duration": 23,
    "start_time": "2021-06-11T05:12:46.455Z"
   },
   {
    "duration": 2021,
    "start_time": "2021-06-11T05:12:46.481Z"
   },
   {
    "duration": 8,
    "start_time": "2021-06-11T05:12:48.505Z"
   },
   {
    "duration": 41,
    "start_time": "2021-06-11T05:12:48.515Z"
   },
   {
    "duration": 5,
    "start_time": "2021-06-11T05:12:48.559Z"
   },
   {
    "duration": 2033,
    "start_time": "2021-06-11T05:12:48.566Z"
   },
   {
    "duration": 785,
    "start_time": "2021-06-11T05:12:50.601Z"
   },
   {
    "duration": 73,
    "start_time": "2021-06-11T05:12:51.388Z"
   }
  ],
  "kernelspec": {
   "display_name": "Python 3 (system-wide)",
   "language": "python",
   "metadata": {
    "cocalc": {
     "description": "Python 3 programming language",
     "priority": 100,
     "url": "https://www.python.org/"
    }
   },
   "name": "python3",
   "resource_dir": "/ext/jupyter/kernels/python3"
  },
  "language_info": {
   "codemirror_mode": {
    "name": "ipython",
    "version": 3
   },
   "file_extension": ".py",
   "mimetype": "text/x-python",
   "name": "python",
   "nbconvert_exporter": "python",
   "pygments_lexer": "ipython3",
   "version": "3.7.8"
  },
  "toc": {
   "base_numbering": 1,
   "nav_menu": {
   },
   "number_sections": true,
   "sideBar": true,
   "skip_h1_title": true,
   "title_cell": "Содержание",
   "title_sidebar": "Contents",
   "toc_cell": true,
   "toc_position": {
   },
   "toc_section_display": true,
   "toc_window_display": false
  }
 },
 "nbformat": 4,
 "nbformat_minor": 4
}