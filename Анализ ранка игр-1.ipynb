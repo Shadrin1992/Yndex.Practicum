{
 "cells": [
  {
   "cell_type": "markdown",
   "metadata": {
    "collapsed": false
   },
   "source": [
    "# Сборный проект 1\n",
    "\n",
    "Вы работаете в интернет-магазине «Стримчик», который продаёт по всему миру компьютерные игры. Из открытых источников доступны исторические данные о продажах игр, оценки пользователей и экспертов, жанры и платформы (например, Xbox или PlayStation). Вам нужно выявить определяющие успешность игры закономерности. Это позволит сделать ставку на потенциально популярный продукт и спланировать рекламные кампании.\n",
    "Перед вами данные до 2016 года. Представим, что сейчас декабрь 2016 г., и вы планируете кампанию на 2017-й. Нужно отработать принцип работы с данными. Неважно, прогнозируете ли вы продажи на 2017 год по данным 2016-го или же 2027-й — по данным 2026 года.\n",
    "В наборе данных попадается аббревиатура ESRB (Entertainment Software Rating Board) — это ассоциация, определяющая возрастной рейтинг компьютерных игр. ESRB оценивает игровой контент и присваивает ему подходящую возрастную категорию, например, «Для взрослых», «Для детей младшего возраста» или «Для подростков»."
   ]
  },
  {
   "cell_type": "markdown",
   "metadata": {
    "collapsed": false
   },
   "source": [
    "# [1. Откройте файл с данными и изучите общую информацию](#stage_1)"
   ]
  },
  {
   "cell_type": "markdown",
   "metadata": {
    "collapsed": false
   },
   "source": [
    "Путь к файлу: /datasets/games.csv."
   ]
  },
  {
   "cell_type": "markdown",
   "metadata": {
    "collapsed": false
   },
   "source": [
    "# [2. Подготовьте данные](#stage_2)"
   ]
  },
  {
   "cell_type": "markdown",
   "metadata": {
    "collapsed": false
   },
   "source": [
    "- Замените названия столбцов (приведите к нижнему регистру);\n",
    "- Преобразуйте данные в нужные типы. Опишите, в каких столбцах заменили тип данных и почему;\n",
    "- Обработайте пропуски при необходимости:\n",
    "    - Объясните, почему заполнили пропуски определённым образом или почему не стали это делать;\n",
    "    - Опишите причины, которые могли привести к пропускам;\n",
    "    - Обратите внимание на аббревиатуру 'tbd' в столбцах с рейтингом. Отдельно разберите это значение и опишите, как его обработать;\n",
    "- Посчитайте суммарные продажи во всех регионах и запишите их в отдельный столбец."
   ]
  },
  {
   "cell_type": "markdown",
   "metadata": {
    "collapsed": false
   },
   "source": [
    "# [3. Проведите исследовательский анализ данных](#stage_3)"
   ]
  },
  {
   "cell_type": "markdown",
   "metadata": {
    "collapsed": false
   },
   "source": [
    "- Посмотрите, сколько игр выпускалось в разные годы. Важны ли данные за все периоды?\n",
    "- Посмотрите, как менялись продажи по платформам. Выберите платформы с наибольшими суммарными продажами и постройте распределение по годам. За какой характерный срок появляются новые и исчезают старые платформы?\n",
    "- Возьмите данные за соответствующий актуальный период. Актуальный период определите самостоятельно в результате исследования предыдущих вопросов. Основной фактор — эти данные помогут построить прогноз на 2017 год.\n",
    "- Не учитывайте в работе данные за предыдущие годы.\n",
    "- Какие платформы лидируют по продажам, растут или падают? Выберите несколько потенциально прибыльных платформ.\n",
    "- Постройте график «ящик с усами» по глобальным продажам игр в разбивке по платформам. Опишите результат.\n",
    "- Посмотрите, как влияют на продажи внутри одной популярной платформы отзывы пользователей и критиков. Постройте диаграмму рассеяния и посчитайте корреляцию между отзывами и продажами. Сформулируйте выводы.\n",
    "- Соотнесите выводы с продажами игр на других платформах.\n",
    "- Посмотрите на общее распределение игр по жанрам. Что можно сказать о самых прибыльных жанрах? Выделяются ли жанры с высокими и низкими продажами?"
   ]
  },
  {
   "cell_type": "markdown",
   "metadata": {
    "collapsed": false
   },
   "source": [
    "# [4. Составьте портрет пользователя для каждого региона](#stage_4)"
   ]
  },
  {
   "cell_type": "markdown",
   "metadata": {
    "collapsed": false
   },
   "source": [
    "Определите для пользователя каждого региона (NA, EU, RU):\n",
    "- Самые популярные платформы (топ-5). Опишите различия в долях продаж.\n",
    "- Самые популярные жанры (топ-5). Поясните разницу.\n",
    "- Влияет ли рейтинг ESRB на продажи в отдельном регионе?"
   ]
  },
  {
   "cell_type": "markdown",
   "metadata": {
    "collapsed": false
   },
   "source": [
    "# [5. Проверьте гипотезы](#stage_5)"
   ]
  },
  {
   "cell_type": "markdown",
   "metadata": {
    "collapsed": false
   },
   "source": [
    "- Средние пользовательские рейтинги платформ Xbox One и PC одинаковые;\n",
    "- Средние пользовательские рейтинги жанров Action (англ. «действие», экшен-игры) и Sports (англ. «спортивные соревнования») разные.  \n",
    "  \n",
    "Задайте самостоятельно пороговое значение alpha.  \n",
    "  \n",
    "Поясните:\n",
    "- Как вы сформулировали нулевую и альтернативную гипотезы;\n",
    "- Какой критерий применили для проверки гипотез и почему."
   ]
  },
  {
   "cell_type": "markdown",
   "metadata": {
    "collapsed": false
   },
   "source": [
    "# [6. Напишите общий вывод](#stage_6)"
   ]
  },
  {
   "cell_type": "markdown",
   "metadata": {
    "collapsed": false
   },
   "source": [
    "# Описание данных:"
   ]
  },
  {
   "cell_type": "markdown",
   "metadata": {
    "collapsed": false
   },
   "source": [
    "- Name — название игры\n",
    "- Platform — платформа\n",
    "- Year_of_Release — год выпуска\n",
    "- Genre — жанр игры\n",
    "- NA_sales — продажи в Северной Америке (миллионы проданных копий)\n",
    "- EU_sales — продажи в Европе (миллионы проданных копий)\n",
    "- RU_sales — продажи в России (миллионы проданных копий)\n",
    "- Other_sales — продажи в других странах (миллионы проданных копий)\n",
    "- Critic_Score — оценка критиков (максимум 100)\n",
    "- User_Score — оценка пользователей (максимум 10)\n",
    "- Rating — рейтинг от организации ESRB (англ. Entertainment Software Rating Board). Эта ассоциация определяет рейтинг компьютерных игр и присваивает им подходящую возрастную категорию. \n",
    "  \n",
    "Данные за 2016 год могут быть неполными."
   ]
  },
  {
   "cell_type": "markdown",
   "metadata": {
    "collapsed": false
   },
   "source": [
    "# Этап 1. Откроем файлы, импортируем библиотеки"
   ]
  },
  {
   "cell_type": "markdown",
   "metadata": {
    "collapsed": false
   },
   "source": [
    "- Изучим общую информацию\n",
    "- Посмотрим на оформление"
   ]
  },
  {
   "cell_type": "code",
   "execution_count": 1,
   "metadata": {
    "collapsed": false
   },
   "outputs": [
   ],
   "source": [
    "import pandas as pd\n",
    "import numpy as np\n",
    "import matplotlib.pyplot as plt\n",
    "import seaborn as sns\n",
    "\n",
    "from scipy import stats as st"
   ]
  },
  {
   "cell_type": "code",
   "execution_count": 2,
   "metadata": {
    "collapsed": false
   },
   "outputs": [
   ],
   "source": [
    "pd.set_option('display.max_columns', None)\n",
    "pd.options.display.float_format = '{:,.2f}'.format"
   ]
  },
  {
   "cell_type": "code",
   "execution_count": 3,
   "metadata": {
    "collapsed": false
   },
   "outputs": [
    {
     "name": "stdout",
     "output_type": "stream",
     "text": [
      "<class 'pandas.core.frame.DataFrame'>\n",
      "RangeIndex: 16715 entries, 0 to 16714\n",
      "Data columns (total 11 columns):\n",
      "Name               16713 non-null object\n",
      "Platform           16715 non-null object\n",
      "Year_of_Release    16446 non-null float64\n",
      "Genre              16713 non-null object\n",
      "NA_sales           16715 non-null float64\n",
      "EU_sales           16715 non-null float64\n",
      "JP_sales           16715 non-null float64\n",
      "Other_sales        16715 non-null float64\n",
      "Critic_Score       8137 non-null float64\n",
      "User_Score         10014 non-null object\n",
      "Rating             9949 non-null object\n",
      "dtypes: float64(6), object(5)\n",
      "memory usage: 1.4+ MB\n"
     ]
    }
   ],
   "source": [
    "df = pd.read_csv('/datasets/games.csv')\n",
    "df.info()"
   ]
  },
  {
   "cell_type": "code",
   "execution_count": 4,
   "metadata": {
    "collapsed": false
   },
   "outputs": [
    {
     "data": {
      "text/html": [
       "<div>\n",
       "<style scoped>\n",
       "    .dataframe tbody tr th:only-of-type {\n",
       "        vertical-align: middle;\n",
       "    }\n",
       "\n",
       "    .dataframe tbody tr th {\n",
       "        vertical-align: top;\n",
       "    }\n",
       "\n",
       "    .dataframe thead th {\n",
       "        text-align: right;\n",
       "    }\n",
       "</style>\n",
       "<table border=\"1\" class=\"dataframe\">\n",
       "  <thead>\n",
       "    <tr style=\"text-align: right;\">\n",
       "      <th></th>\n",
       "      <th>Name</th>\n",
       "      <th>Platform</th>\n",
       "      <th>Year_of_Release</th>\n",
       "      <th>Genre</th>\n",
       "      <th>NA_sales</th>\n",
       "      <th>EU_sales</th>\n",
       "      <th>JP_sales</th>\n",
       "      <th>Other_sales</th>\n",
       "      <th>Critic_Score</th>\n",
       "      <th>User_Score</th>\n",
       "      <th>Rating</th>\n",
       "    </tr>\n",
       "  </thead>\n",
       "  <tbody>\n",
       "    <tr>\n",
       "      <td>0</td>\n",
       "      <td>Wii Sports</td>\n",
       "      <td>Wii</td>\n",
       "      <td>2,006.00</td>\n",
       "      <td>Sports</td>\n",
       "      <td>41.36</td>\n",
       "      <td>28.96</td>\n",
       "      <td>3.77</td>\n",
       "      <td>8.45</td>\n",
       "      <td>76.00</td>\n",
       "      <td>8</td>\n",
       "      <td>E</td>\n",
       "    </tr>\n",
       "    <tr>\n",
       "      <td>1</td>\n",
       "      <td>Super Mario Bros.</td>\n",
       "      <td>NES</td>\n",
       "      <td>1,985.00</td>\n",
       "      <td>Platform</td>\n",
       "      <td>29.08</td>\n",
       "      <td>3.58</td>\n",
       "      <td>6.81</td>\n",
       "      <td>0.77</td>\n",
       "      <td>nan</td>\n",
       "      <td>NaN</td>\n",
       "      <td>NaN</td>\n",
       "    </tr>\n",
       "    <tr>\n",
       "      <td>2</td>\n",
       "      <td>Mario Kart Wii</td>\n",
       "      <td>Wii</td>\n",
       "      <td>2,008.00</td>\n",
       "      <td>Racing</td>\n",
       "      <td>15.68</td>\n",
       "      <td>12.76</td>\n",
       "      <td>3.79</td>\n",
       "      <td>3.29</td>\n",
       "      <td>82.00</td>\n",
       "      <td>8.3</td>\n",
       "      <td>E</td>\n",
       "    </tr>\n",
       "    <tr>\n",
       "      <td>3</td>\n",
       "      <td>Wii Sports Resort</td>\n",
       "      <td>Wii</td>\n",
       "      <td>2,009.00</td>\n",
       "      <td>Sports</td>\n",
       "      <td>15.61</td>\n",
       "      <td>10.93</td>\n",
       "      <td>3.28</td>\n",
       "      <td>2.95</td>\n",
       "      <td>80.00</td>\n",
       "      <td>8</td>\n",
       "      <td>E</td>\n",
       "    </tr>\n",
       "    <tr>\n",
       "      <td>4</td>\n",
       "      <td>Pokemon Red/Pokemon Blue</td>\n",
       "      <td>GB</td>\n",
       "      <td>1,996.00</td>\n",
       "      <td>Role-Playing</td>\n",
       "      <td>11.27</td>\n",
       "      <td>8.89</td>\n",
       "      <td>10.22</td>\n",
       "      <td>1.00</td>\n",
       "      <td>nan</td>\n",
       "      <td>NaN</td>\n",
       "      <td>NaN</td>\n",
       "    </tr>\n",
       "  </tbody>\n",
       "</table>\n",
       "</div>"
      ],
      "text/plain": [
       "                       Name Platform  Year_of_Release         Genre  NA_sales  \\\n",
       "0                Wii Sports      Wii         2,006.00        Sports     41.36   \n",
       "1         Super Mario Bros.      NES         1,985.00      Platform     29.08   \n",
       "2            Mario Kart Wii      Wii         2,008.00        Racing     15.68   \n",
       "3         Wii Sports Resort      Wii         2,009.00        Sports     15.61   \n",
       "4  Pokemon Red/Pokemon Blue       GB         1,996.00  Role-Playing     11.27   \n",
       "\n",
       "   EU_sales  JP_sales  Other_sales  Critic_Score User_Score Rating  \n",
       "0     28.96      3.77         8.45         76.00          8      E  \n",
       "1      3.58      6.81         0.77           nan        NaN    NaN  \n",
       "2     12.76      3.79         3.29         82.00        8.3      E  \n",
       "3     10.93      3.28         2.95         80.00          8      E  \n",
       "4      8.89     10.22         1.00           nan        NaN    NaN  "
      ]
     },
     "execution_count": 4,
     "metadata": {
     },
     "output_type": "execute_result"
    }
   ],
   "source": [
    "df.head()"
   ]
  },
  {
   "cell_type": "code",
   "execution_count": 5,
   "metadata": {
    "collapsed": false
   },
   "outputs": [
    {
     "data": {
      "text/html": [
       "<div>\n",
       "<style scoped>\n",
       "    .dataframe tbody tr th:only-of-type {\n",
       "        vertical-align: middle;\n",
       "    }\n",
       "\n",
       "    .dataframe tbody tr th {\n",
       "        vertical-align: top;\n",
       "    }\n",
       "\n",
       "    .dataframe thead th {\n",
       "        text-align: right;\n",
       "    }\n",
       "</style>\n",
       "<table border=\"1\" class=\"dataframe\">\n",
       "  <thead>\n",
       "    <tr style=\"text-align: right;\">\n",
       "      <th></th>\n",
       "      <th>Year_of_Release</th>\n",
       "      <th>NA_sales</th>\n",
       "      <th>EU_sales</th>\n",
       "      <th>JP_sales</th>\n",
       "      <th>Other_sales</th>\n",
       "      <th>Critic_Score</th>\n",
       "    </tr>\n",
       "  </thead>\n",
       "  <tbody>\n",
       "    <tr>\n",
       "      <td>count</td>\n",
       "      <td>16,446.00</td>\n",
       "      <td>16,715.00</td>\n",
       "      <td>16,715.00</td>\n",
       "      <td>16,715.00</td>\n",
       "      <td>16,715.00</td>\n",
       "      <td>8,137.00</td>\n",
       "    </tr>\n",
       "    <tr>\n",
       "      <td>mean</td>\n",
       "      <td>2,006.48</td>\n",
       "      <td>0.26</td>\n",
       "      <td>0.15</td>\n",
       "      <td>0.08</td>\n",
       "      <td>0.05</td>\n",
       "      <td>68.97</td>\n",
       "    </tr>\n",
       "    <tr>\n",
       "      <td>std</td>\n",
       "      <td>5.88</td>\n",
       "      <td>0.81</td>\n",
       "      <td>0.50</td>\n",
       "      <td>0.31</td>\n",
       "      <td>0.19</td>\n",
       "      <td>13.94</td>\n",
       "    </tr>\n",
       "    <tr>\n",
       "      <td>min</td>\n",
       "      <td>1,980.00</td>\n",
       "      <td>0.00</td>\n",
       "      <td>0.00</td>\n",
       "      <td>0.00</td>\n",
       "      <td>0.00</td>\n",
       "      <td>13.00</td>\n",
       "    </tr>\n",
       "    <tr>\n",
       "      <td>25%</td>\n",
       "      <td>2,003.00</td>\n",
       "      <td>0.00</td>\n",
       "      <td>0.00</td>\n",
       "      <td>0.00</td>\n",
       "      <td>0.00</td>\n",
       "      <td>60.00</td>\n",
       "    </tr>\n",
       "    <tr>\n",
       "      <td>50%</td>\n",
       "      <td>2,007.00</td>\n",
       "      <td>0.08</td>\n",
       "      <td>0.02</td>\n",
       "      <td>0.00</td>\n",
       "      <td>0.01</td>\n",
       "      <td>71.00</td>\n",
       "    </tr>\n",
       "    <tr>\n",
       "      <td>75%</td>\n",
       "      <td>2,010.00</td>\n",
       "      <td>0.24</td>\n",
       "      <td>0.11</td>\n",
       "      <td>0.04</td>\n",
       "      <td>0.03</td>\n",
       "      <td>79.00</td>\n",
       "    </tr>\n",
       "    <tr>\n",
       "      <td>max</td>\n",
       "      <td>2,016.00</td>\n",
       "      <td>41.36</td>\n",
       "      <td>28.96</td>\n",
       "      <td>10.22</td>\n",
       "      <td>10.57</td>\n",
       "      <td>98.00</td>\n",
       "    </tr>\n",
       "  </tbody>\n",
       "</table>\n",
       "</div>"
      ],
      "text/plain": [
       "       Year_of_Release  NA_sales  EU_sales  JP_sales  Other_sales  \\\n",
       "count        16,446.00 16,715.00 16,715.00 16,715.00    16,715.00   \n",
       "mean          2,006.48      0.26      0.15      0.08         0.05   \n",
       "std               5.88      0.81      0.50      0.31         0.19   \n",
       "min           1,980.00      0.00      0.00      0.00         0.00   \n",
       "25%           2,003.00      0.00      0.00      0.00         0.00   \n",
       "50%           2,007.00      0.08      0.02      0.00         0.01   \n",
       "75%           2,010.00      0.24      0.11      0.04         0.03   \n",
       "max           2,016.00     41.36     28.96     10.22        10.57   \n",
       "\n",
       "       Critic_Score  \n",
       "count      8,137.00  \n",
       "mean          68.97  \n",
       "std           13.94  \n",
       "min           13.00  \n",
       "25%           60.00  \n",
       "50%           71.00  \n",
       "75%           79.00  \n",
       "max           98.00  "
      ]
     },
     "execution_count": 5,
     "metadata": {
     },
     "output_type": "execute_result"
    }
   ],
   "source": [
    "df.describe()"
   ]
  },
  {
   "cell_type": "markdown",
   "metadata": {
    "collapsed": false
   },
   "source": [
    "Есть пропущенные значения и некорректные типы данных. Нужна предобработка. "
   ]
  },
  {
   "cell_type": "markdown",
   "metadata": {
    "collapsed": false
   },
   "source": [
    "# Этап 2. Подготовка данных"
   ]
  },
  {
   "cell_type": "markdown",
   "metadata": {
    "collapsed": false
   },
   "source": [
    "- Замените названия столбцов (приведите к нижнему регистру);\n",
    "- Преобразуйте данные в нужные типы. Опишите, в каких столбцах заменили тип данных и почему;  \n",
    "\n",
    "- Обработайте пропуски при необходимости:  \n",
    "  \n",
    "    - Объясните, почему заполнили пропуски определённым образом или почему не стали это делать;\n",
    "    - Опишите причины, которые могли привести к пропускам;\n",
    "    - Обратите внимание на аббревиатуру 'tbd' в столбцах с рейтингом. Отдельно разберите это значение и опишите, как его обработать;\n",
    "    \n",
    "- Посчитайте суммарные продажи во всех регионах и запишите их в отдельный столбец."
   ]
  },
  {
   "cell_type": "code",
   "execution_count": 6,
   "metadata": {
    "collapsed": false
   },
   "outputs": [
   ],
   "source": [
    "#Приведем названия столбцов к нижнему регистру\n",
    "cols = ['game_name',\n",
    "        'platform',\n",
    "        'year_of_release',\n",
    "        'genre',\n",
    "        'na_sales',\n",
    "        'eu_sales',\n",
    "        'ru_sales',\n",
    "        'other_sales',\n",
    "        'critic_score',\n",
    "        'user_score',\n",
    "        'rating_type']\n",
    "df.set_axis(cols, axis='columns', inplace=True)"
   ]
  },
  {
   "cell_type": "code",
   "execution_count": 7,
   "metadata": {
    "collapsed": false
   },
   "outputs": [
    {
     "data": {
      "text/plain": [
       "array([2006., 1985., 2008., 2009., 1996., 1989., 1984., 2005., 1999.,\n",
       "       2007., 2010., 2013., 2004., 1990., 1988., 2002., 2001., 2011.,\n",
       "       1998., 2015., 2012., 2014., 1992., 1997., 1993., 1994., 1982.,\n",
       "       2016., 2003., 1986., 2000.,   nan, 1995., 1991., 1981., 1987.,\n",
       "       1980., 1983.])"
      ]
     },
     "execution_count": 7,
     "metadata": {
     },
     "output_type": "execute_result"
    }
   ],
   "source": [
    "#в данных по годам есть пропущенные значения\n",
    "df['year_of_release'].unique()"
   ]
  },
  {
   "cell_type": "markdown",
   "metadata": {
    "collapsed": false
   },
   "source": [
    "Поставим метку по которым можно определить пустые значения. Заполнять какой-то датой не имеет смысла так как может отразится на результатах. В качестве метки выберем 9999."
   ]
  },
  {
   "cell_type": "code",
   "execution_count": 8,
   "metadata": {
    "collapsed": false
   },
   "outputs": [
   ],
   "source": [
    "df['year_of_release'] = df['year_of_release'].fillna(9999)\n",
    "df['year_of_release'] = df['year_of_release'].astype('int')"
   ]
  },
  {
   "cell_type": "code",
   "execution_count": 9,
   "metadata": {
    "collapsed": false
   },
   "outputs": [
    {
     "data": {
      "text/plain": [
       "array(['8', nan, '8.3', '8.5', '6.6', '8.4', '8.6', '7.7', '6.3', '7.4',\n",
       "       '8.2', '9', '7.9', '8.1', '8.7', '7.1', '3.4', '5.3', '4.8', '3.2',\n",
       "       '8.9', '6.4', '7.8', '7.5', '2.6', '7.2', '9.2', '7', '7.3', '4.3',\n",
       "       '7.6', '5.7', '5', '9.1', '6.5', 'tbd', '8.8', '6.9', '9.4', '6.8',\n",
       "       '6.1', '6.7', '5.4', '4', '4.9', '4.5', '9.3', '6.2', '4.2', '6',\n",
       "       '3.7', '4.1', '5.8', '5.6', '5.5', '4.4', '4.6', '5.9', '3.9',\n",
       "       '3.1', '2.9', '5.2', '3.3', '4.7', '5.1', '3.5', '2.5', '1.9', '3',\n",
       "       '2.7', '2.2', '2', '9.5', '2.1', '3.6', '2.8', '1.8', '3.8', '0',\n",
       "       '1.6', '9.6', '2.4', '1.7', '1.1', '0.3', '1.5', '0.7', '1.2',\n",
       "       '2.3', '0.5', '1.3', '0.2', '0.6', '1.4', '0.9', '1', '9.7'],\n",
       "      dtype=object)"
      ]
     },
     "execution_count": 9,
     "metadata": {
     },
     "output_type": "execute_result"
    }
   ],
   "source": [
    "#Посмотрим на столбец с рейтингом пользователей\n",
    "df['user_score'].unique()"
   ]
  },
  {
   "cell_type": "markdown",
   "metadata": {
    "collapsed": false
   },
   "source": [
    "Есть значение tbd, не знаю что оно означает, но перевести в вещественный тип не даст. Заменю на nan, 0 ипользовать нельзя т.к есть пользовательская оценка 0. Заменим nan на -1, тоже не имеет смысла, потому что не знаю откуда он появился возможн пользователи или критики решили не давать свою оценку этой игре. Переведем в вещественный тип."
   ]
  },
  {
   "cell_type": "code",
   "execution_count": 10,
   "metadata": {
    "collapsed": false
   },
   "outputs": [
    {
     "data": {
      "text/plain": [
       "2424"
      ]
     },
     "execution_count": 10,
     "metadata": {
     },
     "output_type": "execute_result"
    }
   ],
   "source": [
    "df[df['user_score'] == 'tbd']['user_score'].count()"
   ]
  },
  {
   "cell_type": "code",
   "execution_count": 11,
   "metadata": {
    "collapsed": false
   },
   "outputs": [
    {
     "name": "stdout",
     "output_type": "stream",
     "text": [
      "<class 'pandas.core.frame.DataFrame'>\n",
      "RangeIndex: 16715 entries, 0 to 16714\n",
      "Data columns (total 11 columns):\n",
      "game_name          16713 non-null object\n",
      "platform           16715 non-null object\n",
      "year_of_release    16715 non-null int64\n",
      "genre              16713 non-null object\n",
      "na_sales           16715 non-null float64\n",
      "eu_sales           16715 non-null float64\n",
      "ru_sales           16715 non-null float64\n",
      "other_sales        16715 non-null float64\n",
      "critic_score       8137 non-null float64\n",
      "user_score         7590 non-null float64\n",
      "rating_type        9949 non-null object\n",
      "dtypes: float64(6), int64(1), object(4)\n",
      "memory usage: 1.4+ MB\n"
     ]
    }
   ],
   "source": [
    "df.loc[df['user_score'] == 'tbd','user_score'] = np.nan\n",
    "df['user_score'] = df['user_score'].astype('float')\n",
    "df.info()"
   ]
  },
  {
   "cell_type": "code",
   "execution_count": 12,
   "metadata": {
    "collapsed": false
   },
   "outputs": [
   ],
   "source": [
    "#Приведем к нижнему регистру столбцы объектного типа\n",
    "df['game_name'] = df['game_name'].str.lower()\n",
    "df['platform'] = df['platform'].str.lower()\n",
    "df['genre'] = df['genre'].str.lower()\n",
    "df['rating_type'] = df['rating_type'].str.lower()"
   ]
  },
  {
   "cell_type": "code",
   "execution_count": 13,
   "metadata": {
    "collapsed": false
   },
   "outputs": [
   ],
   "source": [
    "#Игры без имени и без жанра заполним no_name и no_genre\n",
    "df['user_score'] = df['user_score'].fillna(-1)\n",
    "df['critic_score'] = df['critic_score'].fillna(-1)\n",
    "df['game_name'] = df['game_name'].fillna('no_name')\n",
    "df['genre'] = df['genre'].fillna('no_genre')"
   ]
  },
  {
   "cell_type": "markdown",
   "metadata": {
    "collapsed": false
   },
   "source": [
    "Удалять из не нужно, т.к. есть данные по продажам"
   ]
  },
  {
   "cell_type": "code",
   "execution_count": 14,
   "metadata": {
    "collapsed": false
   },
   "outputs": [
    {
     "data": {
      "text/plain": [
       "array(['e', nan, 'm', 't', 'e10+', 'k-a', 'ao', 'ec', 'rp'], dtype=object)"
      ]
     },
     "execution_count": 14,
     "metadata": {
     },
     "output_type": "execute_result"
    }
   ],
   "source": [
    "#посмотрим на пропуске в типе рейтинга\n",
    "df['rating_type'].unique()"
   ]
  },
  {
   "cell_type": "markdown",
   "metadata": {
    "collapsed": false
   },
   "source": [
    "Пропущенные значения заменим на out_of_rating, т.к. контент для разных платформ может быть разный, соответственно рейтинг может меняться, другой более достойной альтернативы нет."
   ]
  },
  {
   "cell_type": "code",
   "execution_count": 15,
   "metadata": {
    "collapsed": false
   },
   "outputs": [
   ],
   "source": [
    "df['rating_type'] = df['rating_type'].fillna('out of rating')"
   ]
  },
  {
   "cell_type": "code",
   "execution_count": 16,
   "metadata": {
    "collapsed": false
   },
   "outputs": [
    {
     "data": {
      "text/plain": [
       "rating_type       0.00\n",
       "user_score        0.00\n",
       "critic_score      0.00\n",
       "other_sales       0.00\n",
       "ru_sales          0.00\n",
       "eu_sales          0.00\n",
       "na_sales          0.00\n",
       "genre             0.00\n",
       "year_of_release   0.00\n",
       "platform          0.00\n",
       "game_name         0.00\n",
       "dtype: float64"
      ]
     },
     "execution_count": 16,
     "metadata": {
     },
     "output_type": "execute_result"
    }
   ],
   "source": [
    "df.isnull().sum().sort_values(ascending = False) / df.shape[0] * 100"
   ]
  },
  {
   "cell_type": "code",
   "execution_count": 17,
   "metadata": {
    "collapsed": false
   },
   "outputs": [
    {
     "data": {
      "text/plain": [
       "0"
      ]
     },
     "execution_count": 17,
     "metadata": {
     },
     "output_type": "execute_result"
    }
   ],
   "source": [
    "#Посмотрим дубликаты\n",
    "df.duplicated().sum()"
   ]
  },
  {
   "cell_type": "markdown",
   "metadata": {
    "collapsed": false
   },
   "source": [
    "Посчитаем продажи во всех регионах"
   ]
  },
  {
   "cell_type": "code",
   "execution_count": 18,
   "metadata": {
    "collapsed": false
   },
   "outputs": [
    {
     "data": {
      "text/html": [
       "<div>\n",
       "<style scoped>\n",
       "    .dataframe tbody tr th:only-of-type {\n",
       "        vertical-align: middle;\n",
       "    }\n",
       "\n",
       "    .dataframe tbody tr th {\n",
       "        vertical-align: top;\n",
       "    }\n",
       "\n",
       "    .dataframe thead th {\n",
       "        text-align: right;\n",
       "    }\n",
       "</style>\n",
       "<table border=\"1\" class=\"dataframe\">\n",
       "  <thead>\n",
       "    <tr style=\"text-align: right;\">\n",
       "      <th></th>\n",
       "      <th>game_name</th>\n",
       "      <th>platform</th>\n",
       "      <th>year_of_release</th>\n",
       "      <th>genre</th>\n",
       "      <th>na_sales</th>\n",
       "      <th>eu_sales</th>\n",
       "      <th>ru_sales</th>\n",
       "      <th>other_sales</th>\n",
       "      <th>critic_score</th>\n",
       "      <th>user_score</th>\n",
       "      <th>rating_type</th>\n",
       "      <th>total_sales</th>\n",
       "    </tr>\n",
       "  </thead>\n",
       "  <tbody>\n",
       "    <tr>\n",
       "      <td>0</td>\n",
       "      <td>wii sports</td>\n",
       "      <td>wii</td>\n",
       "      <td>2006</td>\n",
       "      <td>sports</td>\n",
       "      <td>41.36</td>\n",
       "      <td>28.96</td>\n",
       "      <td>3.77</td>\n",
       "      <td>8.45</td>\n",
       "      <td>76.00</td>\n",
       "      <td>8.00</td>\n",
       "      <td>e</td>\n",
       "      <td>82.54</td>\n",
       "    </tr>\n",
       "    <tr>\n",
       "      <td>1</td>\n",
       "      <td>super mario bros.</td>\n",
       "      <td>nes</td>\n",
       "      <td>1985</td>\n",
       "      <td>platform</td>\n",
       "      <td>29.08</td>\n",
       "      <td>3.58</td>\n",
       "      <td>6.81</td>\n",
       "      <td>0.77</td>\n",
       "      <td>-1.00</td>\n",
       "      <td>-1.00</td>\n",
       "      <td>out of rating</td>\n",
       "      <td>40.24</td>\n",
       "    </tr>\n",
       "    <tr>\n",
       "      <td>2</td>\n",
       "      <td>mario kart wii</td>\n",
       "      <td>wii</td>\n",
       "      <td>2008</td>\n",
       "      <td>racing</td>\n",
       "      <td>15.68</td>\n",
       "      <td>12.76</td>\n",
       "      <td>3.79</td>\n",
       "      <td>3.29</td>\n",
       "      <td>82.00</td>\n",
       "      <td>8.30</td>\n",
       "      <td>e</td>\n",
       "      <td>35.52</td>\n",
       "    </tr>\n",
       "    <tr>\n",
       "      <td>3</td>\n",
       "      <td>wii sports resort</td>\n",
       "      <td>wii</td>\n",
       "      <td>2009</td>\n",
       "      <td>sports</td>\n",
       "      <td>15.61</td>\n",
       "      <td>10.93</td>\n",
       "      <td>3.28</td>\n",
       "      <td>2.95</td>\n",
       "      <td>80.00</td>\n",
       "      <td>8.00</td>\n",
       "      <td>e</td>\n",
       "      <td>32.77</td>\n",
       "    </tr>\n",
       "    <tr>\n",
       "      <td>4</td>\n",
       "      <td>pokemon red/pokemon blue</td>\n",
       "      <td>gb</td>\n",
       "      <td>1996</td>\n",
       "      <td>role-playing</td>\n",
       "      <td>11.27</td>\n",
       "      <td>8.89</td>\n",
       "      <td>10.22</td>\n",
       "      <td>1.00</td>\n",
       "      <td>-1.00</td>\n",
       "      <td>-1.00</td>\n",
       "      <td>out of rating</td>\n",
       "      <td>31.38</td>\n",
       "    </tr>\n",
       "  </tbody>\n",
       "</table>\n",
       "</div>"
      ],
      "text/plain": [
       "                  game_name platform  year_of_release         genre  na_sales  \\\n",
       "0                wii sports      wii             2006        sports     41.36   \n",
       "1         super mario bros.      nes             1985      platform     29.08   \n",
       "2            mario kart wii      wii             2008        racing     15.68   \n",
       "3         wii sports resort      wii             2009        sports     15.61   \n",
       "4  pokemon red/pokemon blue       gb             1996  role-playing     11.27   \n",
       "\n",
       "   eu_sales  ru_sales  other_sales  critic_score  user_score    rating_type  \\\n",
       "0     28.96      3.77         8.45         76.00        8.00              e   \n",
       "1      3.58      6.81         0.77         -1.00       -1.00  out of rating   \n",
       "2     12.76      3.79         3.29         82.00        8.30              e   \n",
       "3     10.93      3.28         2.95         80.00        8.00              e   \n",
       "4      8.89     10.22         1.00         -1.00       -1.00  out of rating   \n",
       "\n",
       "   total_sales  \n",
       "0        82.54  \n",
       "1        40.24  \n",
       "2        35.52  \n",
       "3        32.77  \n",
       "4        31.38  "
      ]
     },
     "execution_count": 18,
     "metadata": {
     },
     "output_type": "execute_result"
    }
   ],
   "source": [
    "df['total_sales'] = df['na_sales'] + df['eu_sales'] + df['ru_sales'] + df['other_sales']\n",
    "df.head()"
   ]
  },
  {
   "cell_type": "markdown",
   "metadata": {
    "collapsed": false
   },
   "source": [
    "Чтож данные причесаны, продажи посчитаны, идем дальше"
   ]
  },
  {
   "cell_type": "markdown",
   "metadata": {
    "collapsed": false
   },
   "source": [
    "# Этап 3. Исследовательский анализ данных"
   ]
  },
  {
   "cell_type": "markdown",
   "metadata": {
    "collapsed": false
   },
   "source": [
    "- Посмотрите, сколько игр выпускалось в разные годы. Важны ли данные за все периоды?\n",
    "- Посмотрите, как менялись продажи по платформам. Выберите платформы с наибольшими суммарными продажами и постройте распределение по годам. За какой характерный срок появляются новые и исчезают старые платформы?\n",
    "- Возьмите данные за соответствующий актуальный период. Актуальный период определите самостоятельно в результате исследования предыдущих вопросов. Основной фактор — эти данные помогут построить прогноз на 2017 год.\n",
    "- Не учитывайте в работе данные за предыдущие годы.\n",
    "- Какие платформы лидируют по продажам, растут или падают? Выберите несколько потенциально прибыльных платформ.\n",
    "- Постройте график «ящик с усами» по глобальным продажам игр в разбивке по платформам. Опишите результат.\n",
    "- Посмотрите, как влияют на продажи внутри одной популярной платформы отзывы пользователей и критиков. Постройте диаграмму рассеяния и посчитайте корреляцию между отзывами и продажами. Сформулируйте выводы.\n",
    "- Соотнесите выводы с продажами игр на других платформах.\n",
    "- Посмотрите на общее распределение игр по жанрам. Что можно сказать о самых прибыльных жанрах? Выделяются ли жанры с высокими и низкими продажами?"
   ]
  },
  {
   "cell_type": "markdown",
   "metadata": {
    "collapsed": false
   },
   "source": [
    "# Посмотрим сколько игр выпускалось в разные годы"
   ]
  },
  {
   "cell_type": "code",
   "execution_count": 19,
   "metadata": {
    "collapsed": false
   },
   "outputs": [
    {
     "data": {
      "image/png": "[encoded data removed]",
      "text/plain": [
       "<Figure size 432x288 with 1 Axes>"
      ]
     },
     "execution_count": 19,
     "metadata": {
      "needs_background": "light"
     },
     "output_type": "execute_result"
    }
   ],
   "source": [
    "ax = df[df['year_of_release'] != 9999]['year_of_release'].plot(kind='hist', bins=40).legend()\n",
    "plt.title('Распределение по годам релиза')\n",
    "plt.show()"
   ]
  },
  {
   "cell_type": "markdown",
   "metadata": {
    "collapsed": false
   },
   "source": [
    "Игры начали выпускаться в 80-х в небольшом количестве. Затем с развитием тех.прогресса с 1993г количество игр начало расти. Пик приходиться на 2008 год, затем начинается спад, скорее всего связано с развитием сегмента мобильных игр и эрой смартфонов."
   ]
  },
  {
   "cell_type": "markdown",
   "metadata": {
    "collapsed": false
   },
   "source": [
    "# Посмотрим как менялись продажи по платформам"
   ]
  },
  {
   "cell_type": "code",
   "execution_count": 20,
   "metadata": {
    "collapsed": false
   },
   "outputs": [
    {
     "data": {
      "text/html": [
       "<div>\n",
       "<style scoped>\n",
       "    .dataframe tbody tr th:only-of-type {\n",
       "        vertical-align: middle;\n",
       "    }\n",
       "\n",
       "    .dataframe tbody tr th {\n",
       "        vertical-align: top;\n",
       "    }\n",
       "\n",
       "    .dataframe thead th {\n",
       "        text-align: right;\n",
       "    }\n",
       "</style>\n",
       "<table border=\"1\" class=\"dataframe\">\n",
       "  <thead>\n",
       "    <tr style=\"text-align: right;\">\n",
       "      <th></th>\n",
       "      <th>total_sales</th>\n",
       "    </tr>\n",
       "    <tr>\n",
       "      <th>platform</th>\n",
       "      <th></th>\n",
       "    </tr>\n",
       "  </thead>\n",
       "  <tbody>\n",
       "    <tr>\n",
       "      <td>ps2</td>\n",
       "      <td>1,255.77</td>\n",
       "    </tr>\n",
       "    <tr>\n",
       "      <td>x360</td>\n",
       "      <td>971.42</td>\n",
       "    </tr>\n",
       "    <tr>\n",
       "      <td>ps3</td>\n",
       "      <td>939.65</td>\n",
       "    </tr>\n",
       "    <tr>\n",
       "      <td>wii</td>\n",
       "      <td>907.51</td>\n",
       "    </tr>\n",
       "    <tr>\n",
       "      <td>ds</td>\n",
       "      <td>806.12</td>\n",
       "    </tr>\n",
       "    <tr>\n",
       "      <td>ps</td>\n",
       "      <td>730.86</td>\n",
       "    </tr>\n",
       "    <tr>\n",
       "      <td>gba</td>\n",
       "      <td>317.85</td>\n",
       "    </tr>\n",
       "    <tr>\n",
       "      <td>ps4</td>\n",
       "      <td>314.14</td>\n",
       "    </tr>\n",
       "    <tr>\n",
       "      <td>psp</td>\n",
       "      <td>294.05</td>\n",
       "    </tr>\n",
       "    <tr>\n",
       "      <td>pc</td>\n",
       "      <td>259.52</td>\n",
       "    </tr>\n",
       "  </tbody>\n",
       "</table>\n",
       "</div>"
      ],
      "text/plain": [
       "          total_sales\n",
       "platform             \n",
       "ps2          1,255.77\n",
       "x360           971.42\n",
       "ps3            939.65\n",
       "wii            907.51\n",
       "ds             806.12\n",
       "ps             730.86\n",
       "gba            317.85\n",
       "ps4            314.14\n",
       "psp            294.05\n",
       "pc             259.52"
      ]
     },
     "execution_count": 20,
     "metadata": {
     },
     "output_type": "execute_result"
    }
   ],
   "source": [
    "df.groupby('platform').agg({'total_sales':'sum'}).sort_values(by='total_sales', ascending=False).head(10)"
   ]
  },
  {
   "cell_type": "markdown",
   "metadata": {
    "collapsed": false
   },
   "source": [
    "Чтож лидер по продажам PS2, затем х360 и далее по убыванию PS3, wii, DS и PS."
   ]
  },
  {
   "cell_type": "code",
   "execution_count": 21,
   "metadata": {
    "collapsed": false
   },
   "outputs": [
    {
     "data": {
      "image/png": "[encoded data removed]",
      "text/plain": [
       "<Figure size 432x288 with 1 Axes>"
      ]
     },
     "execution_count": 21,
     "metadata": {
      "needs_background": "light"
     },
     "output_type": "execute_result"
    }
   ],
   "source": [
    "df[(df['year_of_release'] != 9999) & (df['platform'] == 'ps2')]['year_of_release'].plot(kind='hist', bins=30).legend()\n",
    "plt.title('Распределение по годам релиза и платформе PS2')\n",
    "plt.show()"
   ]
  },
  {
   "cell_type": "code",
   "execution_count": 22,
   "metadata": {
    "collapsed": false
   },
   "outputs": [
    {
     "data": {
      "image/png": "[encoded data removed]",
      "text/plain": [
       "<Figure size 432x288 with 1 Axes>"
      ]
     },
     "execution_count": 22,
     "metadata": {
      "needs_background": "light"
     },
     "output_type": "execute_result"
    }
   ],
   "source": [
    "df[(df['year_of_release'] != 9999) & (df['platform'] == 'x360')]['year_of_release'].plot(kind='hist', bins=30).legend()\n",
    "plt.title('Распределение по годам релиза и платформе x360')\n",
    "plt.show()"
   ]
  },
  {
   "cell_type": "code",
   "execution_count": 23,
   "metadata": {
    "collapsed": false
   },
   "outputs": [
    {
     "data": {
      "image/png": "[encoded data removed]",
      "text/plain": [
       "<Figure size 432x288 with 1 Axes>"
      ]
     },
     "execution_count": 23,
     "metadata": {
      "needs_background": "light"
     },
     "output_type": "execute_result"
    }
   ],
   "source": [
    "df[(df['year_of_release'] != 9999) & (df['platform'] == 'ps3')]['year_of_release'].plot(kind='hist', bins=30).legend()\n",
    "plt.title('Распределение по годам релиза и платформе ps3')\n",
    "plt.show()"
   ]
  },
  {
   "cell_type": "code",
   "execution_count": 24,
   "metadata": {
    "collapsed": false
   },
   "outputs": [
    {
     "data": {
      "image/png": "[encoded data removed]",
      "text/plain": [
       "<Figure size 432x288 with 1 Axes>"
      ]
     },
     "execution_count": 24,
     "metadata": {
      "needs_background": "light"
     },
     "output_type": "execute_result"
    }
   ],
   "source": [
    "df[(df['year_of_release'] != 9999) & (df['platform'] == 'wii')]['year_of_release'].plot(kind='hist', bins=30).legend()\n",
    "plt.title('Распределение по годам релиза и платформе wii')\n",
    "plt.show()"
   ]
  },
  {
   "cell_type": "code",
   "execution_count": 25,
   "metadata": {
    "collapsed": false
   },
   "outputs": [
    {
     "data": {
      "image/png": "[encoded data removed]",
      "text/plain": [
       "<Figure size 432x288 with 1 Axes>"
      ]
     },
     "execution_count": 25,
     "metadata": {
      "needs_background": "light"
     },
     "output_type": "execute_result"
    }
   ],
   "source": [
    "df[(df['year_of_release'] != 9999) & (df['platform'] == 'ds')]['year_of_release'].plot(kind='hist', bins=40).legend()\n",
    "plt.title('Распределение по годам релиза и платформе ds')\n",
    "plt.show()"
   ]
  },
  {
   "cell_type": "code",
   "execution_count": 26,
   "metadata": {
    "collapsed": false
   },
   "outputs": [
    {
     "data": {
      "image/png": "[encoded data removed]",
      "text/plain": [
       "<Figure size 432x288 with 1 Axes>"
      ]
     },
     "execution_count": 26,
     "metadata": {
      "needs_background": "light"
     },
     "output_type": "execute_result"
    }
   ],
   "source": [
    "df[(df['year_of_release'] != 9999) & (df['platform'] == 'ps')]['year_of_release'].plot(kind='hist', bins=30).legend()\n",
    "plt.title('Распределение по годам релиза и платформе ps')\n",
    "plt.show()"
   ]
  },
  {
   "cell_type": "markdown",
   "metadata": {
    "collapsed": false
   },
   "source": [
    "Исходя из распределений, средний срок жизни платформы 10 лет. Обозначим его Актуальным периодом."
   ]
  },
  {
   "cell_type": "markdown",
   "metadata": {
    "collapsed": false
   },
   "source": [
    "# Посмотрим на лидеров продаж за последние 10 лет"
   ]
  },
  {
   "cell_type": "code",
   "execution_count": 27,
   "metadata": {
    "collapsed": false
   },
   "outputs": [
    {
     "data": {
      "text/html": [
       "<div>\n",
       "<style scoped>\n",
       "    .dataframe tbody tr th:only-of-type {\n",
       "        vertical-align: middle;\n",
       "    }\n",
       "\n",
       "    .dataframe tbody tr th {\n",
       "        vertical-align: top;\n",
       "    }\n",
       "\n",
       "    .dataframe thead th {\n",
       "        text-align: right;\n",
       "    }\n",
       "</style>\n",
       "<table border=\"1\" class=\"dataframe\">\n",
       "  <thead>\n",
       "    <tr style=\"text-align: right;\">\n",
       "      <th></th>\n",
       "      <th>total_sales</th>\n",
       "    </tr>\n",
       "    <tr>\n",
       "      <th>platform</th>\n",
       "      <th></th>\n",
       "    </tr>\n",
       "  </thead>\n",
       "  <tbody>\n",
       "    <tr>\n",
       "      <td>x360</td>\n",
       "      <td>952.99</td>\n",
       "    </tr>\n",
       "    <tr>\n",
       "      <td>ps3</td>\n",
       "      <td>931.34</td>\n",
       "    </tr>\n",
       "    <tr>\n",
       "      <td>wii</td>\n",
       "      <td>891.18</td>\n",
       "    </tr>\n",
       "    <tr>\n",
       "      <td>ds</td>\n",
       "      <td>655.35</td>\n",
       "    </tr>\n",
       "    <tr>\n",
       "      <td>ps4</td>\n",
       "      <td>314.14</td>\n",
       "    </tr>\n",
       "  </tbody>\n",
       "</table>\n",
       "</div>"
      ],
      "text/plain": [
       "          total_sales\n",
       "platform             \n",
       "x360           952.99\n",
       "ps3            931.34\n",
       "wii            891.18\n",
       "ds             655.35\n",
       "ps4            314.14"
      ]
     },
     "execution_count": 27,
     "metadata": {
     },
     "output_type": "execute_result"
    }
   ],
   "source": [
    "df[(df['year_of_release'] != 9999) & (df['year_of_release'] >= 2006)]\\\n",
    "    .groupby('platform')\\\n",
    "    .agg({'total_sales':'sum'})\\\n",
    "    .sort_values(by='total_sales', ascending=False)\\\n",
    "    .head()"
   ]
  },
  {
   "cell_type": "code",
   "execution_count": 28,
   "metadata": {
    "collapsed": false
   },
   "outputs": [
    {
     "data": {
      "image/png": "[encoded data removed]",
      "text/plain": [
       "<Figure size 432x288 with 1 Axes>"
      ]
     },
     "execution_count": 28,
     "metadata": {
      "needs_background": "light"
     },
     "output_type": "execute_result"
    }
   ],
   "source": [
    "df[(df['year_of_release'] != 9999) & (df['year_of_release'] >= 2006)]\\\n",
    "    .groupby('year_of_release')\\\n",
    "    .agg({'total_sales':'sum'})\\\n",
    "    .plot()\n",
    "plt.title('Выручка по годам релиза')\n",
    "plt.show()"
   ]
  },
  {
   "cell_type": "markdown",
   "metadata": {
    "collapsed": false
   },
   "source": [
    "Наблюдается снижение выручки на платформах, начиная с 2008 года"
   ]
  },
  {
   "cell_type": "code",
   "execution_count": 29,
   "metadata": {
    "collapsed": false
   },
   "outputs": [
    {
     "data": {
      "image/png": "[encoded data removed]",
      "text/plain": [
       "<Figure size 432x288 with 1 Axes>"
      ]
     },
     "execution_count": 29,
     "metadata": {
      "needs_background": "light"
     },
     "output_type": "execute_result"
    }
   ],
   "source": [
    "df[(df['year_of_release'] != 9999) & (df['year_of_release'] >= 2006) & (df['platform'] == 'x360')]\\\n",
    "    .groupby('year_of_release')\\\n",
    "    .agg({'total_sales':'sum'})\\\n",
    "    .plot()\n",
    "plt.title('Выручка по годам для x360')\n",
    "plt.show()"
   ]
  },
  {
   "cell_type": "code",
   "execution_count": 30,
   "metadata": {
    "collapsed": false
   },
   "outputs": [
    {
     "data": {
      "image/png": "[encoded data removed]",
      "text/plain": [
       "<Figure size 432x288 with 1 Axes>"
      ]
     },
     "execution_count": 30,
     "metadata": {
      "needs_background": "light"
     },
     "output_type": "execute_result"
    }
   ],
   "source": [
    "df[(df['year_of_release'] != 9999) & (df['year_of_release'] >= 2006) & (df['platform'] == 'ps3')]\\\n",
    "    .groupby('year_of_release')\\\n",
    "    .agg({'total_sales':'sum'})\\\n",
    "    .plot()\n",
    "plt.title('Выручка по годам для ps3')\n",
    "plt.show()"
   ]
  },
  {
   "cell_type": "code",
   "execution_count": 31,
   "metadata": {
    "collapsed": false
   },
   "outputs": [
    {
     "data": {
      "image/png": "[encoded data removed]",
      "text/plain": [
       "<Figure size 432x288 with 1 Axes>"
      ]
     },
     "execution_count": 31,
     "metadata": {
      "needs_background": "light"
     },
     "output_type": "execute_result"
    }
   ],
   "source": [
    "df[(df['year_of_release'] != 9999) & (df['year_of_release'] >= 2006) & (df['platform'] == 'wii')]\\\n",
    "    .groupby('year_of_release')\\\n",
    "    .agg({'total_sales':'sum'})\\\n",
    "    .plot()\n",
    "plt.title('Выручка по годам для wii')\n",
    "plt.show()"
   ]
  },
  {
   "cell_type": "code",
   "execution_count": 32,
   "metadata": {
    "collapsed": false
   },
   "outputs": [
    {
     "data": {
      "image/png": "[encoded data removed]",
      "text/plain": [
       "<Figure size 432x288 with 1 Axes>"
      ]
     },
     "execution_count": 32,
     "metadata": {
      "needs_background": "light"
     },
     "output_type": "execute_result"
    }
   ],
   "source": [
    "df[(df['year_of_release'] != 9999) & (df['year_of_release'] >= 2006) & (df['platform'] == 'ds')]\\\n",
    "    .groupby('year_of_release')\\\n",
    "    .agg({'total_sales':'sum'})\\\n",
    "    .plot()\n",
    "plt.title('Выручка по годам для ds')\n",
    "plt.show()"
   ]
  },
  {
   "cell_type": "code",
   "execution_count": 33,
   "metadata": {
    "collapsed": false
   },
   "outputs": [
    {
     "data": {
      "image/png": "[encoded data removed]",
      "text/plain": [
       "<Figure size 432x288 with 1 Axes>"
      ]
     },
     "execution_count": 33,
     "metadata": {
      "needs_background": "light"
     },
     "output_type": "execute_result"
    }
   ],
   "source": [
    "df[(df['year_of_release'] != 9999) & (df['year_of_release'] >= 2006) & (df['platform'] == 'ps4')]\\\n",
    "    .groupby('year_of_release')\\\n",
    "    .agg({'total_sales':'sum'})\\\n",
    "    .plot()\n",
    "plt.title('Выручка по годам для ps4')\n",
    "plt.show()"
   ]
  },
  {
   "cell_type": "markdown",
   "metadata": {
    "collapsed": false
   },
   "source": [
    "Снижение выручки характерно для всех платформ-лидеров"
   ]
  },
  {
   "cell_type": "markdown",
   "metadata": {
    "collapsed": false
   },
   "source": [
    "# Построим график «ящик с усами» по глобальным продажам игр в разбивке по платформам."
   ]
  },
  {
   "cell_type": "code",
   "execution_count": 34,
   "metadata": {
    "collapsed": false
   },
   "outputs": [
    {
     "name": "stderr",
     "output_type": "stream",
     "text": [
      "/opt/conda/lib/python3.7/site-packages/numpy/core/_asarray.py:83: VisibleDeprecationWarning: Creating an ndarray from ragged nested sequences (which is a list-or-tuple of lists-or-tuples-or ndarrays with different lengths or shapes) is deprecated. If you meant to do this, you must specify 'dtype=object' when creating the ndarray\n",
      "  return array(a, dtype, copy=False, order=order)\n"
     ]
    },
    {
     "data": {
      "image/png": "[encoded data removed]",
      "text/plain": [
       "<Figure size 1080x864 with 1 Axes>"
      ]
     },
     "execution_count": 34,
     "metadata": {
      "needs_background": "light"
     },
     "output_type": "execute_result"
    }
   ],
   "source": [
    "df.boxplot('total_sales', by='platform', figsize=(15, 12)).set_ylim(0, 8)\n",
    "plt.title('Продажи игр по платформам')\n",
    "plt.xlabel('Платформа')\n",
    "plt.ylabel('Выручка')\n",
    "plt.show()"
   ]
  },
  {
   "cell_type": "markdown",
   "metadata": {
    "collapsed": false
   },
   "source": [
    "Стандартно для рынка игр, выпустить игру и заработать, а может и уйти в минус. Выбросы объясняются наличием игр ААА класса от крупных компаний."
   ]
  },
  {
   "cell_type": "markdown",
   "metadata": {
    "collapsed": false
   },
   "source": [
    "# Посмотрим как влияют на продажи внутри одной популярной платформы отзывы пользователей и критиков."
   ]
  },
  {
   "cell_type": "code",
   "execution_count": 35,
   "metadata": {
    "collapsed": false
   },
   "outputs": [
    {
     "data": {
      "image/png": "[encoded data removed]",
      "text/plain": [
       "<Figure size 432x288 with 1 Axes>"
      ]
     },
     "execution_count": 35,
     "metadata": {
      "needs_background": "light"
     },
     "output_type": "execute_result"
    }
   ],
   "source": [
    "critics_ps2 = df[(df['critic_score'] != -1) & (df['platform'] == 'ps2')]\n",
    "critics_ps2.pivot_table(index='critic_score', values='total_sales').plot()\n",
    "plt.title('Зависимость выручки от оценки критиков для платформы ps2')\n",
    "plt.show()"
   ]
  },
  {
   "cell_type": "code",
   "execution_count": 36,
   "metadata": {
    "collapsed": false
   },
   "outputs": [
    {
     "data": {
      "image/png": "[encoded data removed]",
      "text/plain": [
       "<Figure size 432x288 with 1 Axes>"
      ]
     },
     "execution_count": 36,
     "metadata": {
      "needs_background": "light"
     },
     "output_type": "execute_result"
    }
   ],
   "source": [
    "users_ps2 = df[(df['user_score'] != -1) & (df['platform'] == 'ps2')]\n",
    "users_ps2.pivot_table(index='critic_score', values='total_sales').plot()\n",
    "plt.title('Зависимость выручки от оценки пользователей для платформы ps2')\n",
    "plt.show()"
   ]
  },
  {
   "cell_type": "markdown",
   "metadata": {
    "collapsed": false
   },
   "source": [
    "Чем выше оценка критиков и пользователей, тем больше выручка от релиза. Выручка от продаж растет если оценка выше 80. Графики пости идентичные, связано скорее всего с тем, что критики стараются приблизиться к мнению пользователей и нооборот некоторые пользователи слушают критиков."
   ]
  },
  {
   "cell_type": "code",
   "execution_count": 37,
   "metadata": {
    "collapsed": false
   },
   "outputs": [
    {
     "data": {
      "text/html": [
       "<div>\n",
       "<style scoped>\n",
       "    .dataframe tbody tr th:only-of-type {\n",
       "        vertical-align: middle;\n",
       "    }\n",
       "\n",
       "    .dataframe tbody tr th {\n",
       "        vertical-align: top;\n",
       "    }\n",
       "\n",
       "    .dataframe thead th {\n",
       "        text-align: right;\n",
       "    }\n",
       "</style>\n",
       "<table border=\"1\" class=\"dataframe\">\n",
       "  <thead>\n",
       "    <tr style=\"text-align: right;\">\n",
       "      <th></th>\n",
       "      <th>critic_score</th>\n",
       "      <th>user_score</th>\n",
       "      <th>total_sales</th>\n",
       "    </tr>\n",
       "  </thead>\n",
       "  <tbody>\n",
       "    <tr>\n",
       "      <td>critic_score</td>\n",
       "      <td>1.00</td>\n",
       "      <td>0.58</td>\n",
       "      <td>0.24</td>\n",
       "    </tr>\n",
       "    <tr>\n",
       "      <td>user_score</td>\n",
       "      <td>0.58</td>\n",
       "      <td>1.00</td>\n",
       "      <td>0.09</td>\n",
       "    </tr>\n",
       "    <tr>\n",
       "      <td>total_sales</td>\n",
       "      <td>0.24</td>\n",
       "      <td>0.09</td>\n",
       "      <td>1.00</td>\n",
       "    </tr>\n",
       "  </tbody>\n",
       "</table>\n",
       "</div>"
      ],
      "text/plain": [
       "              critic_score  user_score  total_sales\n",
       "critic_score          1.00        0.58         0.24\n",
       "user_score            0.58        1.00         0.09\n",
       "total_sales           0.24        0.09         1.00"
      ]
     },
     "execution_count": 37,
     "metadata": {
     },
     "output_type": "execute_result"
    }
   ],
   "source": [
    "#Посмотрим корреляцию между оценками и выручкой\n",
    "score = df[(df['critic_score'] != -1) & (df['user_score'] != -1)]\n",
    "df1 = score[['critic_score', 'user_score', 'total_sales']]\n",
    "df1.corr(method='pearson')"
   ]
  },
  {
   "cell_type": "markdown",
   "metadata": {
    "collapsed": false
   },
   "source": [
    "Если исходить из корреляции, то выручка находится в слабой зависимсти от оценки критиков - 24% и от оценки пользователей на 9%"
   ]
  },
  {
   "cell_type": "markdown",
   "metadata": {
    "collapsed": false
   },
   "source": [
    "# Посмотрите на общее распределение игр по жанрам."
   ]
  },
  {
   "cell_type": "code",
   "execution_count": 38,
   "metadata": {
    "collapsed": false
   },
   "outputs": [
    {
     "data": {
      "image/png": "[encoded data removed]",
      "text/plain": [
       "<Figure size 432x288 with 1 Axes>"
      ]
     },
     "execution_count": 38,
     "metadata": {
      "needs_background": "light"
     },
     "output_type": "execute_result"
    }
   ],
   "source": [
    "genre = df[(df['genre'] != 'no_genre')]\n",
    "genre.pivot_table(index='genre', values='total_sales').plot(kind='bar')\n",
    "plt.title('Распределение игр по жанрам')\n",
    "plt.xlabel('Жанр')\n",
    "plt.show()"
   ]
  },
  {
   "cell_type": "markdown",
   "metadata": {
    "collapsed": false
   },
   "source": [
    "Самые прибыльные жанры это платформеры, шутеры и ролевые игры. Внизу списка пазлы, стратегии и квесты."
   ]
  },
  {
   "cell_type": "markdown",
   "metadata": {
    "collapsed": false
   },
   "source": [
    "Выводы:\n",
    "- Пик выпуска игр приходиться на 2008 год, далее выпуск снижается. \n",
    "- По прадажам лидируют ps2, x360 и ps3. \n",
    "- Средний срок жизни платформы около 10 лет, выбрали этот срок за актуальный период. \n",
    "- При анализе ps2 ушла на покой, и лидером стал x360. \n",
    "- Что касается выручки по топ-5 платформам за 10 лет, то они демонстрируют тенденцию к снижению, как и весь рынок в целом, скорее всего связано с ростом рынка мобильных игр. \n",
    "- Игры с высокими оценками пользователей и критиков приносят больше прибыли, но сильной взаимосвязи между этими показателями не наблюдается 24 и 9 % соответственно, скорее всего большую роль играют бюджеты рекламных компаний от крупных издателей. \n",
    "- Ну и самые прибыльные жанры это платформеры, шутеры и ролевые игры."
   ]
  },
  {
   "cell_type": "markdown",
   "metadata": {
    "collapsed": false
   },
   "source": [
    "# Этап 4. Составим портрет пользователя для каждого региона"
   ]
  },
  {
   "cell_type": "markdown",
   "metadata": {
    "collapsed": false
   },
   "source": [
    "Определите для пользователя каждого региона (NA, EU, RU):\n",
    "\n",
    "- Самые популярные платформы (топ-5). Опишите различия в долях продаж.\n",
    "- Самые популярные жанры (топ-5). Поясните разницу.\n",
    "- Влияет ли рейтинг ESRB на продажи в отдельном регионе?"
   ]
  },
  {
   "cell_type": "markdown",
   "metadata": {
    "collapsed": false
   },
   "source": [
    "# Самые популярные платформы(топ-5)."
   ]
  },
  {
   "cell_type": "code",
   "execution_count": 39,
   "metadata": {
    "collapsed": false
   },
   "outputs": [
    {
     "data": {
      "image/png": "[encoded data removed]",
      "text/plain": [
       "<Figure size 432x288 with 1 Axes>"
      ]
     },
     "execution_count": 39,
     "metadata": {
      "needs_background": "light"
     },
     "output_type": "execute_result"
    },
    {
     "data": {
      "image/png": "[encoded data removed]",
      "text/plain": [
       "<Figure size 432x288 with 1 Axes>"
      ]
     },
     "execution_count": 39,
     "metadata": {
      "needs_background": "light"
     },
     "output_type": "execute_result"
    },
    {
     "data": {
      "image/png": "[encoded data removed]",
      "text/plain": [
       "<Figure size 432x288 with 1 Axes>"
      ]
     },
     "execution_count": 39,
     "metadata": {
      "needs_background": "light"
     },
     "output_type": "execute_result"
    }
   ],
   "source": [
    "df.groupby(by='platform').agg({'ru_sales':'sum'}).sort_values(by='ru_sales', ascending=False).head(5).plot(kind='bar')\n",
    "plt.title('Популярные платформы в России')\n",
    "plt.xlabel('Название платформы')\n",
    "df.groupby(by='platform').agg({'eu_sales':'sum'}).sort_values(by='eu_sales', ascending=False).head(5).plot(kind='bar')\n",
    "plt.title('Популярные платформы в Европе')\n",
    "plt.xlabel('Название платформы')\n",
    "df.groupby(by='platform').agg({'na_sales':'sum'}).sort_values(by='na_sales', ascending=False).head(5).plot(kind='bar')\n",
    "plt.title('Популярные платформы в США')\n",
    "plt.xlabel('Название платформы')\n",
    "plt.show()"
   ]
  },
  {
   "cell_type": "markdown",
   "metadata": {
    "collapsed": false
   },
   "source": [
    "В России популярна Денди, в Европе - PS2, в США - x360. "
   ]
  },
  {
   "cell_type": "markdown",
   "metadata": {
    "collapsed": false
   },
   "source": [
    "# Самые популярные жанры(топ-5)."
   ]
  },
  {
   "cell_type": "code",
   "execution_count": 40,
   "metadata": {
    "collapsed": false
   },
   "outputs": [
    {
     "data": {
      "image/png": "[encoded data removed]",
      "text/plain": [
       "<Figure size 432x288 with 1 Axes>"
      ]
     },
     "execution_count": 40,
     "metadata": {
      "needs_background": "light"
     },
     "output_type": "execute_result"
    },
    {
     "data": {
      "image/png": "[encoded data removed]",
      "text/plain": [
       "<Figure size 432x288 with 1 Axes>"
      ]
     },
     "execution_count": 40,
     "metadata": {
      "needs_background": "light"
     },
     "output_type": "execute_result"
    },
    {
     "data": {
      "image/png": "[encoded data removed]",
      "text/plain": [
       "<Figure size 432x288 with 1 Axes>"
      ]
     },
     "execution_count": 40,
     "metadata": {
      "needs_background": "light"
     },
     "output_type": "execute_result"
    }
   ],
   "source": [
    "df.groupby(by='genre').agg({'ru_sales':'sum'}).sort_values(by='ru_sales', ascending=False).head(5).plot(kind='bar')\n",
    "plt.title('Популярные жанры в России')\n",
    "plt.xlabel('Название жанра')\n",
    "df.groupby(by='genre').agg({'eu_sales':'sum'}).sort_values(by='eu_sales', ascending=False).head(5).plot(kind='bar')\n",
    "plt.title('Популярные жанры в Европе')\n",
    "plt.xlabel('Название жанра')\n",
    "df.groupby(by='genre').agg({'na_sales':'sum'}).sort_values(by='na_sales', ascending=False).head(5).plot(kind='bar')\n",
    "plt.title('Популярные жанры в США')\n",
    "plt.xlabel('Название жанра')\n",
    "plt.show()"
   ]
  },
  {
   "cell_type": "markdown",
   "metadata": {
    "collapsed": false
   },
   "source": [
    "Среди жанров в РФ популярны ролевые игры. В США и Европе экшены."
   ]
  },
  {
   "cell_type": "code",
   "execution_count": 41,
   "metadata": {
    "collapsed": false
   },
   "outputs": [
    {
     "data": {
      "image/png": "[encoded data removed]",
      "text/plain": [
       "<Figure size 432x288 with 1 Axes>"
      ]
     },
     "execution_count": 41,
     "metadata": {
      "needs_background": "light"
     },
     "output_type": "execute_result"
    },
    {
     "data": {
      "image/png": "[encoded data removed]",
      "text/plain": [
       "<Figure size 432x288 with 1 Axes>"
      ]
     },
     "execution_count": 41,
     "metadata": {
      "needs_background": "light"
     },
     "output_type": "execute_result"
    },
    {
     "data": {
      "image/png": "[encoded data removed]",
      "text/plain": [
       "<Figure size 432x288 with 1 Axes>"
      ]
     },
     "execution_count": 41,
     "metadata": {
      "needs_background": "light"
     },
     "output_type": "execute_result"
    }
   ],
   "source": [
    "rating_type = df[(df['rating_type'] != 'out of rating')]\n",
    "rating_type.groupby(by='rating_type').agg({'ru_sales':'sum'}).sort_values(by='ru_sales', ascending=False).head(5).plot(kind='bar')\n",
    "plt.title('Популярные рейтинги в России')\n",
    "plt.xlabel('Тип рейтинга')\n",
    "rating_type.groupby(by='rating_type').agg({'eu_sales':'sum'}).sort_values(by='eu_sales', ascending=False).head(5).plot(kind='bar')\n",
    "plt.title('Популярные рейтинги в Европе')\n",
    "plt.xlabel('Тип рейтинга')\n",
    "rating_type.groupby(by='rating_type').agg({'na_sales':'sum'}).sort_values(by='na_sales', ascending=False).head(5).plot(kind='bar')\n",
    "plt.title('Популярные рейтинги в США')\n",
    "plt.xlabel('Тип рейтинга')\n",
    "plt.show()"
   ]
  },
  {
   "cell_type": "markdown",
   "metadata": {
    "collapsed": false
   },
   "source": [
    "Самым популярным рейтингом, является рейтинг для всех \"е\", объясняется большим охватом аудитории. Далее в России и США популярен рейтинг от 13-19 лет, затем от 17 лет. В Европе предпочтения меняются от 17 лет, затем от 13-19."
   ]
  },
  {
   "cell_type": "markdown",
   "metadata": {
    "collapsed": false
   },
   "source": [
    "# Этап 5. Проверьте гипотезы"
   ]
  },
  {
   "cell_type": "markdown",
   "metadata": {
    "collapsed": false
   },
   "source": [
    "- Средние пользовательские рейтинги платформ Xbox One и PC одинаковые;\n",
    "- Средние пользовательские рейтинги жанров Action (англ. «действие», экшен-игры) и Sports (англ. «спортивные соревнования») разные. \n",
    "  \n",
    "Задайте самостоятельно пороговое значение alpha.\n",
    "\n",
    "Поясните:\n",
    "\n",
    "- Как вы сформулировали нулевую и альтернативную гипотезы;\n",
    "- Какой критерий применили для проверки гипотез и почему."
   ]
  },
  {
   "cell_type": "markdown",
   "metadata": {
    "collapsed": false
   },
   "source": [
    "Будем использовать t-критерий Стьюдента, так как сравниваемые выборки независимы между собой."
   ]
  },
  {
   "cell_type": "markdown",
   "metadata": {
    "collapsed": false
   },
   "source": [
    "Гипотезы:\n",
    "- H0: средний пользовательский рейтинг платформ Xbox One и PC одинаковый\n",
    "- H1: средний пользовательский рейтинг платформ Xbox One и PC различается"
   ]
  },
  {
   "cell_type": "code",
   "execution_count": 42,
   "metadata": {
    "collapsed": false
   },
   "outputs": [
   ],
   "source": [
    "alpha = 0.05"
   ]
  },
  {
   "cell_type": "code",
   "execution_count": 43,
   "metadata": {
    "collapsed": false
   },
   "outputs": [
   ],
   "source": [
    "xone = df[(df['platform'] == 'xone') & (df['user_score'] > 0)]['user_score']\n",
    "pc = df[(df['platform'] == 'pc') & (df['user_score'] > 0)]['user_score']"
   ]
  },
  {
   "cell_type": "code",
   "execution_count": 44,
   "metadata": {
    "collapsed": false
   },
   "outputs": [
   ],
   "source": [
    "results = st.ttest_ind(xone, pc)"
   ]
  },
  {
   "cell_type": "code",
   "execution_count": 45,
   "metadata": {
    "collapsed": false
   },
   "outputs": [
    {
     "name": "stdout",
     "output_type": "stream",
     "text": [
      "p-значение: 1.3896435533548819e-05\n",
      "Отвергаем нулевую гипотезу\n"
     ]
    }
   ],
   "source": [
    "print('p-значение:', results.pvalue)\n",
    "\n",
    "if (results.pvalue < alpha):\n",
    "    print(\"Отвергаем нулевую гипотезу\")\n",
    "else:\n",
    "    print(\"Не получилось отвергнуть нулевую гипотезу\")"
   ]
  },
  {
   "cell_type": "markdown",
   "metadata": {
    "collapsed": false
   },
   "source": [
    "Средний пользовательский рейтинг платформ Xbox One и PC различается"
   ]
  },
  {
   "cell_type": "markdown",
   "metadata": {
    "collapsed": false
   },
   "source": [
    "Гипотезы:\n",
    "- H0: средние пользовательские рейтинги жанров Action (англ. «действие», экшен-игры) и Sports (англ. «спортивные соревнования») одинаковые\n",
    "- H1: средние пользовательские рейтинги жанров Action (англ. «действие», экшен-игры) и Sports (англ. «спортивные соревнования») разные"
   ]
  },
  {
   "cell_type": "code",
   "execution_count": 46,
   "metadata": {
    "collapsed": false
   },
   "outputs": [
   ],
   "source": [
    "alpha = 0.05"
   ]
  },
  {
   "cell_type": "code",
   "execution_count": 47,
   "metadata": {
    "collapsed": false
   },
   "outputs": [
   ],
   "source": [
    "action = df[(df['genre'] == 'action') & (df['user_score'] > 0)]['user_score']\n",
    "sports = df[(df['genre'] == 'sports') & (df['user_score'] > 0)]['user_score']"
   ]
  },
  {
   "cell_type": "code",
   "execution_count": 48,
   "metadata": {
    "collapsed": false
   },
   "outputs": [
   ],
   "source": [
    "results = st.ttest_ind(action, sports)"
   ]
  },
  {
   "cell_type": "code",
   "execution_count": 49,
   "metadata": {
    "collapsed": false
   },
   "outputs": [
    {
     "name": "stdout",
     "output_type": "stream",
     "text": [
      "p-значение: 0.10406951359049141\n",
      "Не получилось отвергнуть нулевую гипотезу\n"
     ]
    }
   ],
   "source": [
    "print('p-значение:', results.pvalue)\n",
    "\n",
    "if (results.pvalue < alpha):\n",
    "    print(\"Отвергаем нулевую гипотезу\")\n",
    "else:\n",
    "    print(\"Не получилось отвергнуть нулевую гипотезу\")"
   ]
  },
  {
   "cell_type": "markdown",
   "metadata": {
    "collapsed": false
   },
   "source": [
    "Средние пользовательские рейтинги жанров экшен и спорт одинаковые"
   ]
  },
  {
   "cell_type": "markdown",
   "metadata": {
    "collapsed": false
   },
   "source": [
    "# Этап 6. Общий вывод"
   ]
  },
  {
   "cell_type": "markdown",
   "metadata": {
    "collapsed": false
   },
   "source": [
    "Чтож Стримчику стоит обратить внимание на следующие факторы при планировании продаж на 2017 год:\n",
    "- Учесть тенденцию к спаду рынка игр;\n",
    "- Сделать упор на игры популярных жанров;\n",
    "- Предпочтительный рейтинг для всех;\n",
    "- Настроить предложения игр в магазине в соответствии с регионами, в которых находятся пользователи;\n",
    "- Выбирать игры с высоким рейтингом от критиков и пользователей;"
   ]
  },
  {
   "cell_type": "code",
   "execution_count": 0,
   "metadata": {
    "collapsed": false
   },
   "outputs": [
   ],
   "source": [
   ]
  }
 ],
 "metadata": {
  "ExecuteTimeLog": [
   {
    "duration": 1448,
    "start_time": "2021-12-15T11:53:46.185Z"
   },
   {
    "duration": 3,
    "start_time": "2021-12-15T11:53:47.636Z"
   },
   {
    "duration": 62,
    "start_time": "2021-12-15T11:53:47.642Z"
   },
   {
    "duration": 20,
    "start_time": "2021-12-15T11:53:47.707Z"
   },
   {
    "duration": 57,
    "start_time": "2021-12-15T11:53:47.730Z"
   },
   {
    "duration": 5,
    "start_time": "2021-12-15T11:53:47.789Z"
   },
   {
    "duration": 10,
    "start_time": "2021-12-15T11:53:47.796Z"
   },
   {
    "duration": 6,
    "start_time": "2021-12-15T11:53:47.810Z"
   },
   {
    "duration": 41,
    "start_time": "2021-12-15T11:53:47.819Z"
   },
   {
    "duration": 10,
    "start_time": "2021-12-15T11:53:47.862Z"
   },
   {
    "duration": 22,
    "start_time": "2021-12-15T11:53:47.875Z"
   },
   {
    "duration": 69,
    "start_time": "2021-12-15T11:53:47.900Z"
   },
   {
    "duration": 10,
    "start_time": "2021-12-15T11:53:47.972Z"
   },
   {
    "duration": 7,
    "start_time": "2021-12-15T11:53:47.985Z"
   },
   {
    "duration": 6,
    "start_time": "2021-12-15T11:53:47.995Z"
   },
   {
    "duration": 66,
    "start_time": "2021-12-15T11:53:48.003Z"
   },
   {
    "duration": 22,
    "start_time": "2021-12-15T11:53:48.071Z"
   },
   {
    "duration": 20,
    "start_time": "2021-12-15T11:53:48.095Z"
   },
   {
    "duration": 491,
    "start_time": "2021-12-15T11:53:48.117Z"
   },
   {
    "duration": 14,
    "start_time": "2021-12-15T11:53:48.611Z"
   },
   {
    "duration": 654,
    "start_time": "2021-12-15T11:53:48.628Z"
   },
   {
    "duration": 480,
    "start_time": "2021-12-15T11:53:49.285Z"
   },
   {
    "duration": 447,
    "start_time": "2021-12-15T11:53:49.771Z"
   },
   {
    "duration": 409,
    "start_time": "2021-12-15T11:53:50.222Z"
   },
   {
    "duration": 474,
    "start_time": "2021-12-15T11:53:50.634Z"
   },
   {
    "duration": 690,
    "start_time": "2021-12-15T11:53:51.112Z"
   },
   {
    "duration": 25,
    "start_time": "2021-12-15T11:53:51.805Z"
   },
   {
    "duration": 338,
    "start_time": "2021-12-15T11:53:51.832Z"
   },
   {
    "duration": 356,
    "start_time": "2021-12-15T11:53:52.172Z"
   },
   {
    "duration": 340,
    "start_time": "2021-12-15T11:53:52.530Z"
   },
   {
    "duration": 323,
    "start_time": "2021-12-15T11:53:52.874Z"
   },
   {
    "duration": 392,
    "start_time": "2021-12-15T11:53:53.200Z"
   },
   {
    "duration": 370,
    "start_time": "2021-12-15T11:53:53.595Z"
   },
   {
    "duration": 1505,
    "start_time": "2021-12-15T11:53:53.968Z"
   },
   {
    "duration": 446,
    "start_time": "2021-12-15T11:53:55.476Z"
   },
   {
    "duration": 560,
    "start_time": "2021-12-15T11:53:55.925Z"
   },
   {
    "duration": 17,
    "start_time": "2021-12-15T11:53:56.488Z"
   },
   {
    "duration": 406,
    "start_time": "2021-12-15T11:53:56.508Z"
   },
   {
    "duration": 915,
    "start_time": "2021-12-15T11:53:56.917Z"
   },
   {
    "duration": 856,
    "start_time": "2021-12-15T11:53:57.836Z"
   },
   {
    "duration": 782,
    "start_time": "2021-12-15T11:53:58.694Z"
   },
   {
    "duration": 4,
    "start_time": "2021-12-15T11:53:59.479Z"
   },
   {
    "duration": 14,
    "start_time": "2021-12-15T11:53:59.486Z"
   },
   {
    "duration": 6,
    "start_time": "2021-12-15T11:53:59.502Z"
   },
   {
    "duration": 6,
    "start_time": "2021-12-15T11:53:59.511Z"
   },
   {
    "duration": 43,
    "start_time": "2021-12-15T11:53:59.519Z"
   },
   {
    "duration": 12,
    "start_time": "2021-12-15T11:53:59.565Z"
   },
   {
    "duration": 6,
    "start_time": "2021-12-15T11:53:59.579Z"
   },
   {
    "duration": 6,
    "start_time": "2021-12-15T11:53:59.587Z"
   }
  ],
  "kernelspec": {
   "display_name": "Python 3 (system-wide)",
   "language": "python",
   "metadata": {
    "cocalc": {
     "description": "Python 3 programming language",
     "priority": 100,
     "url": "https://www.python.org/"
    }
   },
   "name": "python3",
   "resource_dir": "/ext/jupyter/kernels/python3"
  },
  "language_info": {
   "codemirror_mode": {
    "name": "ipython",
    "version": 3
   },
   "file_extension": ".py",
   "mimetype": "text/x-python",
   "name": "python",
   "nbconvert_exporter": "python",
   "pygments_lexer": "ipython3",
   "version": "3.7.8"
  },
  "toc": {
   "base_numbering": 1,
   "nav_menu": {
   },
   "number_sections": true,
   "sideBar": true,
   "skip_h1_title": true,
   "title_cell": "Table of Contents",
   "title_sidebar": "Contents",
   "toc_cell": false,
   "toc_position": {
   },
   "toc_section_display": true,
   "toc_window_display": false
  }
 },
 "nbformat": 4,
 "nbformat_minor": 4
}