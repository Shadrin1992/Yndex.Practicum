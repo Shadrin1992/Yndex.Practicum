{
 "cells": [
  {
   "cell_type": "markdown",
   "metadata": {
    "collapsed": false
   },
   "source": [
    "# Проект для «Викишоп»"
   ]
  },
  {
   "cell_type": "markdown",
   "metadata": {
    "collapsed": false
   },
   "source": [
    "Интернет-магазин «Викишоп» запускает новый сервис. Теперь пользователи могут редактировать и дополнять описания товаров, как в вики-сообществах. То есть клиенты предлагают свои правки и комментируют изменения других. Магазину нужен инструмент, который будет искать токсичные комментарии и отправлять их на модерацию. \n",
    "\n",
    "Обучите модель классифицировать комментарии на позитивные и негативные. В вашем распоряжении набор данных с разметкой о токсичности правок.\n",
    "\n",
    "Постройте модель со значением метрики качества *F1* не меньше 0.75. \n",
    "\n",
    "**Инструкция по выполнению проекта**\n",
    "\n",
    "1. Загрузите и подготовьте данные.\n",
    "2. Обучите разные модели. \n",
    "3. Сделайте выводы.\n",
    "\n",
    "Для выполнения проекта применять *BERT* необязательно, но вы можете попробовать.\n",
    "\n",
    "**Описание данных**\n",
    "\n",
    "Данные находятся в файле `toxic_comments.csv`. Столбец *text* в нём содержит текст комментария, а *toxic* — целевой признак."
   ]
  },
  {
   "cell_type": "markdown",
   "metadata": {
    "collapsed": false
   },
   "source": [
    "## Подготовка"
   ]
  },
  {
   "cell_type": "markdown",
   "metadata": {
    "collapsed": false
   },
   "source": [
    "**Импортируем библиотеки**"
   ]
  },
  {
   "cell_type": "code",
   "execution_count": 1,
   "metadata": {
    "collapsed": false
   },
   "outputs": [
    {
     "name": "stdout",
     "output_type": "stream",
     "text": [
      "Defaulting to user installation because normal site-packages is not writeable\n",
      "Requirement already satisfied: nltk in /opt/conda/lib/python3.7/site-packages (3.4.1)\n",
      "Requirement already satisfied: six in /opt/conda/lib/python3.7/site-packages (from nltk) (1.15.0)\n"
     ]
    }
   ],
   "source": [
    "! pip install nltk"
   ]
  },
  {
   "cell_type": "code",
   "execution_count": 2,
   "metadata": {
    "collapsed": false
   },
   "outputs": [
   ],
   "source": [
    "import pandas as pd\n",
    "import numpy as np\n",
    "import matplotlib.pyplot as plt\n",
    "import re\n",
    "import nltk\n",
    "\n",
    "from nltk.corpus import stopwords as stopwords_nltk\n",
    "from nltk.stem import WordNetLemmatizer\n",
    "from nltk.tokenize import word_tokenize\n",
    "\n",
    "from sklearn.feature_extraction.text import TfidfVectorizer\n",
    "from sklearn.linear_model import LogisticRegression, SGDClassifier\n",
    "from sklearn.ensemble import RandomForestClassifier\n",
    "from sklearn.metrics import f1_score\n",
    "from sklearn.model_selection import train_test_split, GridSearchCV\n",
    "from sklearn.tree import DecisionTreeClassifier\n",
    "\n",
    "import warnings\n",
    "warnings.filterwarnings(\"ignore\")\n",
    "\n",
    "pd.set_option('display.max_colwidth', -1)"
   ]
  },
  {
   "cell_type": "markdown",
   "metadata": {
    "collapsed": false
   },
   "source": [
    "**Загрузим и изучим данные**"
   ]
  },
  {
   "cell_type": "code",
   "execution_count": 3,
   "metadata": {
    "collapsed": false
   },
   "outputs": [
    {
     "name": "stdout",
     "output_type": "stream",
     "text": [
      "<class 'pandas.core.frame.DataFrame'>\n",
      "RangeIndex: 159571 entries, 0 to 159570\n",
      "Data columns (total 2 columns):\n",
      "text     159571 non-null object\n",
      "toxic    159571 non-null int64\n",
      "dtypes: int64(1), object(1)\n",
      "memory usage: 2.4+ MB\n"
     ]
    },
    {
     "data": {
      "text/plain": [
       "None"
      ]
     },
     "execution_count": 3,
     "metadata": {
     },
     "output_type": "execute_result"
    },
    {
     "data": {
      "text/html": [
       "<div>\n",
       "<style scoped>\n",
       "    .dataframe tbody tr th:only-of-type {\n",
       "        vertical-align: middle;\n",
       "    }\n",
       "\n",
       "    .dataframe tbody tr th {\n",
       "        vertical-align: top;\n",
       "    }\n",
       "\n",
       "    .dataframe thead th {\n",
       "        text-align: right;\n",
       "    }\n",
       "</style>\n",
       "<table border=\"1\" class=\"dataframe\">\n",
       "  <thead>\n",
       "    <tr style=\"text-align: right;\">\n",
       "      <th></th>\n",
       "      <th>text</th>\n",
       "      <th>toxic</th>\n",
       "    </tr>\n",
       "  </thead>\n",
       "  <tbody>\n",
       "    <tr>\n",
       "      <td>0</td>\n",
       "      <td>Explanation\\nWhy the edits made under my username Hardcore Metallica Fan were reverted? They weren't vandalisms, just closure on some GAs after I voted at New York Dolls FAC. And please don't remove the template from the talk page since I'm retired now.89.205.38.27</td>\n",
       "      <td>0</td>\n",
       "    </tr>\n",
       "    <tr>\n",
       "      <td>1</td>\n",
       "      <td>D'aww! He matches this background colour I'm seemingly stuck with. Thanks.  (talk) 21:51, January 11, 2016 (UTC)</td>\n",
       "      <td>0</td>\n",
       "    </tr>\n",
       "    <tr>\n",
       "      <td>2</td>\n",
       "      <td>Hey man, I'm really not trying to edit war. It's just that this guy is constantly removing relevant information and talking to me through edits instead of my talk page. He seems to care more about the formatting than the actual info.</td>\n",
       "      <td>0</td>\n",
       "    </tr>\n",
       "    <tr>\n",
       "      <td>3</td>\n",
       "      <td>\"\\nMore\\nI can't make any real suggestions on improvement - I wondered if the section statistics should be later on, or a subsection of \"\"types of accidents\"\"  -I think the references may need tidying so that they are all in the exact same format ie date format etc. I can do that later on, if no-one else does first - if you have any preferences for formatting style on references or want to do it yourself please let me know.\\n\\nThere appears to be a backlog on articles for review so I guess there may be a delay until a reviewer turns up. It's listed in the relevant form eg Wikipedia:Good_article_nominations#Transport  \"</td>\n",
       "      <td>0</td>\n",
       "    </tr>\n",
       "    <tr>\n",
       "      <td>4</td>\n",
       "      <td>You, sir, are my hero. Any chance you remember what page that's on?</td>\n",
       "      <td>0</td>\n",
       "    </tr>\n",
       "  </tbody>\n",
       "</table>\n",
       "</div>"
      ],
      "text/plain": [
       "                                                                                                                                                                                                                                                                                                                                                                                                                                                                                                                                                                                                                                                 text  \\\n",
       "0  Explanation\\nWhy the edits made under my username Hardcore Metallica Fan were reverted? They weren't vandalisms, just closure on some GAs after I voted at New York Dolls FAC. And please don't remove the template from the talk page since I'm retired now.89.205.38.27                                                                                                                                                                                                                                                                                                                                                                            \n",
       "1  D'aww! He matches this background colour I'm seemingly stuck with. Thanks.  (talk) 21:51, January 11, 2016 (UTC)                                                                                                                                                                                                                                                                                                                                                                                                                                                                                                                                     \n",
       "2  Hey man, I'm really not trying to edit war. It's just that this guy is constantly removing relevant information and talking to me through edits instead of my talk page. He seems to care more about the formatting than the actual info.                                                                                                                                                                                                                                                                                                                                                                                                            \n",
       "3  \"\\nMore\\nI can't make any real suggestions on improvement - I wondered if the section statistics should be later on, or a subsection of \"\"types of accidents\"\"  -I think the references may need tidying so that they are all in the exact same format ie date format etc. I can do that later on, if no-one else does first - if you have any preferences for formatting style on references or want to do it yourself please let me know.\\n\\nThere appears to be a backlog on articles for review so I guess there may be a delay until a reviewer turns up. It's listed in the relevant form eg Wikipedia:Good_article_nominations#Transport  \"   \n",
       "4  You, sir, are my hero. Any chance you remember what page that's on?                                                                                                                                                                                                                                                                                                                                                                                                                                                                                                                                                                                  \n",
       "\n",
       "   toxic  \n",
       "0  0      \n",
       "1  0      \n",
       "2  0      \n",
       "3  0      \n",
       "4  0      "
      ]
     },
     "execution_count": 3,
     "metadata": {
     },
     "output_type": "execute_result"
    },
    {
     "data": {
      "text/html": [
       "<div>\n",
       "<style scoped>\n",
       "    .dataframe tbody tr th:only-of-type {\n",
       "        vertical-align: middle;\n",
       "    }\n",
       "\n",
       "    .dataframe tbody tr th {\n",
       "        vertical-align: top;\n",
       "    }\n",
       "\n",
       "    .dataframe thead th {\n",
       "        text-align: right;\n",
       "    }\n",
       "</style>\n",
       "<table border=\"1\" class=\"dataframe\">\n",
       "  <thead>\n",
       "    <tr style=\"text-align: right;\">\n",
       "      <th></th>\n",
       "      <th>text</th>\n",
       "      <th>toxic</th>\n",
       "    </tr>\n",
       "  </thead>\n",
       "  <tbody>\n",
       "    <tr>\n",
       "      <td>159566</td>\n",
       "      <td>\":::::And for the second time of asking, when your view completely contradicts the coverage in reliable sources, why should anyone care what you feel? You can't even give a consistent argument - is the opening only supposed to mention significant aspects, or the \"\"most significant\"\" ones?   \\n\\n\"</td>\n",
       "      <td>0</td>\n",
       "    </tr>\n",
       "    <tr>\n",
       "      <td>159567</td>\n",
       "      <td>You should be ashamed of yourself \\n\\nThat is a horrible thing you put on my talk page.  128.61.19.93</td>\n",
       "      <td>0</td>\n",
       "    </tr>\n",
       "    <tr>\n",
       "      <td>159568</td>\n",
       "      <td>Spitzer \\n\\nUmm, theres no actual article for prostitution ring.  - Crunch Captain.</td>\n",
       "      <td>0</td>\n",
       "    </tr>\n",
       "    <tr>\n",
       "      <td>159569</td>\n",
       "      <td>And it looks like it was actually you who put on the speedy to have the first version deleted now that I look at it.</td>\n",
       "      <td>0</td>\n",
       "    </tr>\n",
       "    <tr>\n",
       "      <td>159570</td>\n",
       "      <td>\"\\nAnd ... I really don't think you understand.  I came here and my idea was bad right away.  What kind of community goes \"\"you have bad ideas\"\" go away, instead of helping rewrite them.   \"</td>\n",
       "      <td>0</td>\n",
       "    </tr>\n",
       "  </tbody>\n",
       "</table>\n",
       "</div>"
      ],
      "text/plain": [
       "                                                                                                                                                                                                                                                                                                             text  \\\n",
       "159566  \":::::And for the second time of asking, when your view completely contradicts the coverage in reliable sources, why should anyone care what you feel? You can't even give a consistent argument - is the opening only supposed to mention significant aspects, or the \"\"most significant\"\" ones?   \\n\\n\"   \n",
       "159567  You should be ashamed of yourself \\n\\nThat is a horrible thing you put on my talk page.  128.61.19.93                                                                                                                                                                                                       \n",
       "159568  Spitzer \\n\\nUmm, theres no actual article for prostitution ring.  - Crunch Captain.                                                                                                                                                                                                                         \n",
       "159569  And it looks like it was actually you who put on the speedy to have the first version deleted now that I look at it.                                                                                                                                                                                        \n",
       "159570  \"\\nAnd ... I really don't think you understand.  I came here and my idea was bad right away.  What kind of community goes \"\"you have bad ideas\"\" go away, instead of helping rewrite them.   \"                                                                                                              \n",
       "\n",
       "        toxic  \n",
       "159566  0      \n",
       "159567  0      \n",
       "159568  0      \n",
       "159569  0      \n",
       "159570  0      "
      ]
     },
     "execution_count": 3,
     "metadata": {
     },
     "output_type": "execute_result"
    }
   ],
   "source": [
    "df = pd.read_csv('/datasets/toxic_comments.csv')\n",
    "display(df.info())\n",
    "display(df.head())\n",
    "display(df.tail())"
   ]
  },
  {
   "cell_type": "code",
   "execution_count": 4,
   "metadata": {
    "collapsed": false
   },
   "outputs": [
    {
     "data": {
      "text/plain": [
       "<function matplotlib.pyplot.show(*args, **kw)>"
      ]
     },
     "execution_count": 4,
     "metadata": {
     },
     "output_type": "execute_result"
    },
    {
     "data": {
      "image/png": "[encoded data removed]",
      "text/plain": [
       "<Figure size 432x288 with 1 Axes>"
      ]
     },
     "execution_count": 4,
     "metadata": {
      "needs_background": "light"
     },
     "output_type": "execute_result"
    }
   ],
   "source": [
    "df['toxic'].value_counts().plot(kind='bar')\n",
    "plt.title('Баланс целевого признака')\n",
    "plt.show"
   ]
  },
  {
   "cell_type": "markdown",
   "metadata": {
    "collapsed": false
   },
   "source": [
    "Вывод:\n",
    "  - пропусков нет\n",
    "  - английский текст\n",
    "  - лишние символы в тексте\n",
    "  - есть дисбаланс классов"
   ]
  },
  {
   "cell_type": "markdown",
   "metadata": {
    "collapsed": false
   },
   "source": [
    "**Подготовка данных**"
   ]
  },
  {
   "cell_type": "code",
   "execution_count": 5,
   "metadata": {
    "collapsed": false
   },
   "outputs": [
    {
     "data": {
      "text/html": [
       "<div>\n",
       "<style scoped>\n",
       "    .dataframe tbody tr th:only-of-type {\n",
       "        vertical-align: middle;\n",
       "    }\n",
       "\n",
       "    .dataframe tbody tr th {\n",
       "        vertical-align: top;\n",
       "    }\n",
       "\n",
       "    .dataframe thead th {\n",
       "        text-align: right;\n",
       "    }\n",
       "</style>\n",
       "<table border=\"1\" class=\"dataframe\">\n",
       "  <thead>\n",
       "    <tr style=\"text-align: right;\">\n",
       "      <th></th>\n",
       "      <th>text</th>\n",
       "      <th>toxic</th>\n",
       "      <th>punctuation_free</th>\n",
       "    </tr>\n",
       "  </thead>\n",
       "  <tbody>\n",
       "    <tr>\n",
       "      <td>0</td>\n",
       "      <td>Explanation\\nWhy the edits made under my username Hardcore Metallica Fan were reverted? They weren't vandalisms, just closure on some GAs after I voted at New York Dolls FAC. And please don't remove the template from the talk page since I'm retired now.89.205.38.27</td>\n",
       "      <td>0</td>\n",
       "      <td>explanation why the edits made under my username hardcore metallica fan were reverted  they weren t vandalisms  just closure on some gas after i voted at new york dolls fac  and please don t remove the template from the talk page since i m retired now</td>\n",
       "    </tr>\n",
       "    <tr>\n",
       "      <td>1</td>\n",
       "      <td>D'aww! He matches this background colour I'm seemingly stuck with. Thanks.  (talk) 21:51, January 11, 2016 (UTC)</td>\n",
       "      <td>0</td>\n",
       "      <td>d aww  he matches this background colour i m seemingly stuck with  thanks    talk         january           utc</td>\n",
       "    </tr>\n",
       "    <tr>\n",
       "      <td>2</td>\n",
       "      <td>Hey man, I'm really not trying to edit war. It's just that this guy is constantly removing relevant information and talking to me through edits instead of my talk page. He seems to care more about the formatting than the actual info.</td>\n",
       "      <td>0</td>\n",
       "      <td>hey man  i m really not trying to edit war  it s just that this guy is constantly removing relevant information and talking to me through edits instead of my talk page  he seems to care more about the formatting than the actual info</td>\n",
       "    </tr>\n",
       "  </tbody>\n",
       "</table>\n",
       "</div>"
      ],
      "text/plain": [
       "                                                                                                                                                                                                                                                                        text  \\\n",
       "0  Explanation\\nWhy the edits made under my username Hardcore Metallica Fan were reverted? They weren't vandalisms, just closure on some GAs after I voted at New York Dolls FAC. And please don't remove the template from the talk page since I'm retired now.89.205.38.27   \n",
       "1  D'aww! He matches this background colour I'm seemingly stuck with. Thanks.  (talk) 21:51, January 11, 2016 (UTC)                                                                                                                                                            \n",
       "2  Hey man, I'm really not trying to edit war. It's just that this guy is constantly removing relevant information and talking to me through edits instead of my talk page. He seems to care more about the formatting than the actual info.                                   \n",
       "\n",
       "   toxic  \\\n",
       "0  0       \n",
       "1  0       \n",
       "2  0       \n",
       "\n",
       "                                                                                                                                                                                                                                                           punctuation_free  \n",
       "0  explanation why the edits made under my username hardcore metallica fan were reverted  they weren t vandalisms  just closure on some gas after i voted at new york dolls fac  and please don t remove the template from the talk page since i m retired now               \n",
       "1  d aww  he matches this background colour i m seemingly stuck with  thanks    talk         january           utc                                                                                                                                                           \n",
       "2  hey man  i m really not trying to edit war  it s just that this guy is constantly removing relevant information and talking to me through edits instead of my talk page  he seems to care more about the formatting than the actual info                                  "
      ]
     },
     "execution_count": 5,
     "metadata": {
     },
     "output_type": "execute_result"
    }
   ],
   "source": [
    "#очистим от лишних символов и приведем к нижнему регистру\n",
    "\n",
    "def remove_punctuation(text):\n",
    "    clean_text = re.sub(r'[^a-zA-Z ]', ' ', text)\n",
    "    return clean_text\n",
    "\n",
    "df['punctuation_free'] = df['text'].apply(lambda x: remove_punctuation(x.lower()))\n",
    "df.head(3)"
   ]
  },
  {
   "cell_type": "code",
   "execution_count": 6,
   "metadata": {
    "collapsed": false
   },
   "outputs": [
    {
     "data": {
      "text/html": [
       "<div>\n",
       "<style scoped>\n",
       "    .dataframe tbody tr th:only-of-type {\n",
       "        vertical-align: middle;\n",
       "    }\n",
       "\n",
       "    .dataframe tbody tr th {\n",
       "        vertical-align: top;\n",
       "    }\n",
       "\n",
       "    .dataframe thead th {\n",
       "        text-align: right;\n",
       "    }\n",
       "</style>\n",
       "<table border=\"1\" class=\"dataframe\">\n",
       "  <thead>\n",
       "    <tr style=\"text-align: right;\">\n",
       "      <th></th>\n",
       "      <th>text</th>\n",
       "      <th>toxic</th>\n",
       "      <th>punctuation_free</th>\n",
       "      <th>stopwords_free</th>\n",
       "    </tr>\n",
       "  </thead>\n",
       "  <tbody>\n",
       "    <tr>\n",
       "      <td>0</td>\n",
       "      <td>Explanation\\nWhy the edits made under my username Hardcore Metallica Fan were reverted? They weren't vandalisms, just closure on some GAs after I voted at New York Dolls FAC. And please don't remove the template from the talk page since I'm retired now.89.205.38.27</td>\n",
       "      <td>0</td>\n",
       "      <td>explanation why the edits made under my username hardcore metallica fan were reverted  they weren t vandalisms  just closure on some gas after i voted at new york dolls fac  and please don t remove the template from the talk page since i m retired now</td>\n",
       "      <td>[explanation, edits, made, username, hardcore, metallica, fan, reverted, vandalisms, closure, gas, voted, new, york, dolls, fac, please, remove, template, talk, page, since, retired]</td>\n",
       "    </tr>\n",
       "    <tr>\n",
       "      <td>1</td>\n",
       "      <td>D'aww! He matches this background colour I'm seemingly stuck with. Thanks.  (talk) 21:51, January 11, 2016 (UTC)</td>\n",
       "      <td>0</td>\n",
       "      <td>d aww  he matches this background colour i m seemingly stuck with  thanks    talk         january           utc</td>\n",
       "      <td>[aww, matches, background, colour, seemingly, stuck, thanks, talk, january, utc]</td>\n",
       "    </tr>\n",
       "    <tr>\n",
       "      <td>2</td>\n",
       "      <td>Hey man, I'm really not trying to edit war. It's just that this guy is constantly removing relevant information and talking to me through edits instead of my talk page. He seems to care more about the formatting than the actual info.</td>\n",
       "      <td>0</td>\n",
       "      <td>hey man  i m really not trying to edit war  it s just that this guy is constantly removing relevant information and talking to me through edits instead of my talk page  he seems to care more about the formatting than the actual info</td>\n",
       "      <td>[hey, man, really, trying, edit, war, guy, constantly, removing, relevant, information, talking, edits, instead, talk, page, seems, care, formatting, actual, info]</td>\n",
       "    </tr>\n",
       "  </tbody>\n",
       "</table>\n",
       "</div>"
      ],
      "text/plain": [
       "                                                                                                                                                                                                                                                                        text  \\\n",
       "0  Explanation\\nWhy the edits made under my username Hardcore Metallica Fan were reverted? They weren't vandalisms, just closure on some GAs after I voted at New York Dolls FAC. And please don't remove the template from the talk page since I'm retired now.89.205.38.27   \n",
       "1  D'aww! He matches this background colour I'm seemingly stuck with. Thanks.  (talk) 21:51, January 11, 2016 (UTC)                                                                                                                                                            \n",
       "2  Hey man, I'm really not trying to edit war. It's just that this guy is constantly removing relevant information and talking to me through edits instead of my talk page. He seems to care more about the formatting than the actual info.                                   \n",
       "\n",
       "   toxic  \\\n",
       "0  0       \n",
       "1  0       \n",
       "2  0       \n",
       "\n",
       "                                                                                                                                                                                                                                                           punctuation_free  \\\n",
       "0  explanation why the edits made under my username hardcore metallica fan were reverted  they weren t vandalisms  just closure on some gas after i voted at new york dolls fac  and please don t remove the template from the talk page since i m retired now                \n",
       "1  d aww  he matches this background colour i m seemingly stuck with  thanks    talk         january           utc                                                                                                                                                            \n",
       "2  hey man  i m really not trying to edit war  it s just that this guy is constantly removing relevant information and talking to me through edits instead of my talk page  he seems to care more about the formatting than the actual info                                   \n",
       "\n",
       "                                                                                                                                                                           stopwords_free  \n",
       "0  [explanation, edits, made, username, hardcore, metallica, fan, reverted, vandalisms, closure, gas, voted, new, york, dolls, fac, please, remove, template, talk, page, since, retired]  \n",
       "1  [aww, matches, background, colour, seemingly, stuck, thanks, talk, january, utc]                                                                                                        \n",
       "2  [hey, man, really, trying, edit, war, guy, constantly, removing, relevant, information, talking, edits, instead, talk, page, seems, care, formatting, actual, info]                     "
      ]
     },
     "execution_count": 6,
     "metadata": {
     },
     "output_type": "execute_result"
    }
   ],
   "source": [
    "#удалим стоп-слова\n",
    "\n",
    "stop_words = set(stopwords_nltk.words('english'))  \n",
    "\n",
    "def remove_stopwords(text):\n",
    "    clean_text = [w for w in text.split() if not w in stop_words]  \n",
    "    return clean_text\n",
    "\n",
    "df['stopwords_free'] = df['punctuation_free'].apply(lambda x: remove_stopwords(x))\n",
    "df.head(3)"
   ]
  },
  {
   "cell_type": "code",
   "execution_count": 7,
   "metadata": {
    "collapsed": false
   },
   "outputs": [
    {
     "data": {
      "text/html": [
       "<div>\n",
       "<style scoped>\n",
       "    .dataframe tbody tr th:only-of-type {\n",
       "        vertical-align: middle;\n",
       "    }\n",
       "\n",
       "    .dataframe tbody tr th {\n",
       "        vertical-align: top;\n",
       "    }\n",
       "\n",
       "    .dataframe thead th {\n",
       "        text-align: right;\n",
       "    }\n",
       "</style>\n",
       "<table border=\"1\" class=\"dataframe\">\n",
       "  <thead>\n",
       "    <tr style=\"text-align: right;\">\n",
       "      <th></th>\n",
       "      <th>text</th>\n",
       "      <th>toxic</th>\n",
       "      <th>punctuation_free</th>\n",
       "      <th>stopwords_free</th>\n",
       "      <th>lemmas</th>\n",
       "    </tr>\n",
       "  </thead>\n",
       "  <tbody>\n",
       "    <tr>\n",
       "      <td>0</td>\n",
       "      <td>Explanation\\nWhy the edits made under my username Hardcore Metallica Fan were reverted? They weren't vandalisms, just closure on some GAs after I voted at New York Dolls FAC. And please don't remove the template from the talk page since I'm retired now.89.205.38.27</td>\n",
       "      <td>0</td>\n",
       "      <td>explanation why the edits made under my username hardcore metallica fan were reverted  they weren t vandalisms  just closure on some gas after i voted at new york dolls fac  and please don t remove the template from the talk page since i m retired now</td>\n",
       "      <td>[explanation, edits, made, username, hardcore, metallica, fan, reverted, vandalisms, closure, gas, voted, new, york, dolls, fac, please, remove, template, talk, page, since, retired]</td>\n",
       "      <td>explanation edits made username hardcore metallica fan reverted vandalism closure gas voted new york doll fac please remove template talk page since retired</td>\n",
       "    </tr>\n",
       "    <tr>\n",
       "      <td>1</td>\n",
       "      <td>D'aww! He matches this background colour I'm seemingly stuck with. Thanks.  (talk) 21:51, January 11, 2016 (UTC)</td>\n",
       "      <td>0</td>\n",
       "      <td>d aww  he matches this background colour i m seemingly stuck with  thanks    talk         january           utc</td>\n",
       "      <td>[aww, matches, background, colour, seemingly, stuck, thanks, talk, january, utc]</td>\n",
       "      <td>aww match background colour seemingly stuck thanks talk january utc</td>\n",
       "    </tr>\n",
       "    <tr>\n",
       "      <td>2</td>\n",
       "      <td>Hey man, I'm really not trying to edit war. It's just that this guy is constantly removing relevant information and talking to me through edits instead of my talk page. He seems to care more about the formatting than the actual info.</td>\n",
       "      <td>0</td>\n",
       "      <td>hey man  i m really not trying to edit war  it s just that this guy is constantly removing relevant information and talking to me through edits instead of my talk page  he seems to care more about the formatting than the actual info</td>\n",
       "      <td>[hey, man, really, trying, edit, war, guy, constantly, removing, relevant, information, talking, edits, instead, talk, page, seems, care, formatting, actual, info]</td>\n",
       "      <td>hey man really trying edit war guy constantly removing relevant information talking edits instead talk page seems care formatting actual info</td>\n",
       "    </tr>\n",
       "  </tbody>\n",
       "</table>\n",
       "</div>"
      ],
      "text/plain": [
       "                                                                                                                                                                                                                                                                        text  \\\n",
       "0  Explanation\\nWhy the edits made under my username Hardcore Metallica Fan were reverted? They weren't vandalisms, just closure on some GAs after I voted at New York Dolls FAC. And please don't remove the template from the talk page since I'm retired now.89.205.38.27   \n",
       "1  D'aww! He matches this background colour I'm seemingly stuck with. Thanks.  (talk) 21:51, January 11, 2016 (UTC)                                                                                                                                                            \n",
       "2  Hey man, I'm really not trying to edit war. It's just that this guy is constantly removing relevant information and talking to me through edits instead of my talk page. He seems to care more about the formatting than the actual info.                                   \n",
       "\n",
       "   toxic  \\\n",
       "0  0       \n",
       "1  0       \n",
       "2  0       \n",
       "\n",
       "                                                                                                                                                                                                                                                           punctuation_free  \\\n",
       "0  explanation why the edits made under my username hardcore metallica fan were reverted  they weren t vandalisms  just closure on some gas after i voted at new york dolls fac  and please don t remove the template from the talk page since i m retired now                \n",
       "1  d aww  he matches this background colour i m seemingly stuck with  thanks    talk         january           utc                                                                                                                                                            \n",
       "2  hey man  i m really not trying to edit war  it s just that this guy is constantly removing relevant information and talking to me through edits instead of my talk page  he seems to care more about the formatting than the actual info                                   \n",
       "\n",
       "                                                                                                                                                                           stopwords_free  \\\n",
       "0  [explanation, edits, made, username, hardcore, metallica, fan, reverted, vandalisms, closure, gas, voted, new, york, dolls, fac, please, remove, template, talk, page, since, retired]   \n",
       "1  [aww, matches, background, colour, seemingly, stuck, thanks, talk, january, utc]                                                                                                         \n",
       "2  [hey, man, really, trying, edit, war, guy, constantly, removing, relevant, information, talking, edits, instead, talk, page, seems, care, formatting, actual, info]                      \n",
       "\n",
       "                                                                                                                                                         lemmas  \n",
       "0  explanation edits made username hardcore metallica fan reverted vandalism closure gas voted new york doll fac please remove template talk page since retired  \n",
       "1  aww match background colour seemingly stuck thanks talk january utc                                                                                           \n",
       "2  hey man really trying edit war guy constantly removing relevant information talking edits instead talk page seems care formatting actual info                 "
      ]
     },
     "execution_count": 7,
     "metadata": {
     },
     "output_type": "execute_result"
    }
   ],
   "source": [
    "#проведем лемматизацию\n",
    "\n",
    "lemmatizer = nltk.WordNetLemmatizer()\n",
    "\n",
    "def lemmatize_text(text):\n",
    "    clean_text = [lemmatizer.lemmatize(word) for word in text]\n",
    "    return \" \".join(clean_text)\n",
    "\n",
    "df['lemmas'] = df['stopwords_free'].apply(lambda x: lemmatize_text(x))\n",
    "df.head(3)"
   ]
  },
  {
   "cell_type": "code",
   "execution_count": 8,
   "metadata": {
    "collapsed": false
   },
   "outputs": [
    {
     "name": "stdout",
     "output_type": "stream",
     "text": [
      "Целевой признак: (159571,)\n",
      "Признаки: (159571, 4)\n"
     ]
    }
   ],
   "source": [
    "#выделим целевой признак и признаки\n",
    "\n",
    "target = df['toxic']\n",
    "features = df.drop('toxic', axis = 1)\n",
    "\n",
    "print('Целевой признак:', target.shape)\n",
    "print('Признаки:', features.shape)"
   ]
  },
  {
   "cell_type": "code",
   "execution_count": 9,
   "metadata": {
    "collapsed": false
   },
   "outputs": [
   ],
   "source": [
    "#разделим данные в соотношении 80/20\n",
    "\n",
    "features_train, features_test, target_train, target_test = train_test_split(features, \n",
    "                                                                            target, \n",
    "                                                                            train_size=0.80, \n",
    "                                                                            test_size=0.20, \n",
    "                                                                            random_state=123)"
   ]
  },
  {
   "cell_type": "code",
   "execution_count": 10,
   "metadata": {
    "collapsed": false
   },
   "outputs": [
    {
     "name": "stdout",
     "output_type": "stream",
     "text": [
      "Размер обучающей выборки: (127656, 4)\n",
      "Размер тестовой выборки: (31915, 4)\n"
     ]
    }
   ],
   "source": [
    "#проверим размер выборки\n",
    "\n",
    "print('Размер обучающей выборки:', features_train.shape)\n",
    "print('Размер тестовой выборки:', features_test.shape)"
   ]
  },
  {
   "cell_type": "code",
   "execution_count": 11,
   "metadata": {
    "collapsed": false
   },
   "outputs": [
   ],
   "source": [
    "corpus_train = features_train['stopwords_free'].astype('U')\n",
    "corpus_test = features_test['stopwords_free'].astype('U')"
   ]
  },
  {
   "cell_type": "code",
   "execution_count": 12,
   "metadata": {
    "collapsed": false
   },
   "outputs": [
   ],
   "source": [
    "#вычислим TF-IDF для корпуса текстов\n",
    "\n",
    "count_tf_idf = TfidfVectorizer(stop_words=stop_words)\n",
    "tf_idf = count_tf_idf.fit(corpus_train)"
   ]
  },
  {
   "cell_type": "code",
   "execution_count": 13,
   "metadata": {
    "collapsed": false
   },
   "outputs": [
   ],
   "source": [
    "train_X = tf_idf.transform(corpus_train)\n",
    "test_X = tf_idf.transform(corpus_test)"
   ]
  },
  {
   "cell_type": "markdown",
   "metadata": {
    "collapsed": false
   },
   "source": [
    "Данные подготовили переходим к обучению"
   ]
  },
  {
   "cell_type": "markdown",
   "metadata": {
    "collapsed": false
   },
   "source": [
    "## Обучение"
   ]
  },
  {
   "cell_type": "markdown",
   "metadata": {
    "collapsed": false
   },
   "source": [
    "Обучим следующие модели:\n",
    "\n",
    "  - LogisticRegression\n",
    "  - RandomForestClassifier\n",
    "  - DecisionTreeClassifier\n",
    "  - Stochastic Gradient Descent Classifier"
   ]
  },
  {
   "cell_type": "markdown",
   "metadata": {
    "collapsed": false
   },
   "source": [
    "**LogisticRegression**"
   ]
  },
  {
   "cell_type": "code",
   "execution_count": 14,
   "metadata": {
    "collapsed": false
   },
   "outputs": [
    {
     "name": "stdout",
     "output_type": "stream",
     "text": [
      "LogisticRegression: 0.7507632528448515\n"
     ]
    }
   ],
   "source": [
    "model = LogisticRegression(random_state=123, class_weight='balanced', solver='liblinear') \n",
    "model.fit(train_X, target_train)\n",
    "predictions = model.predict(test_X)\n",
    "\n",
    "f1 = f1_score(target_test, predictions)\n",
    "print('LogisticRegression:', f1)"
   ]
  },
  {
   "cell_type": "markdown",
   "metadata": {
    "collapsed": false
   },
   "source": [
    "Хорошо"
   ]
  },
  {
   "cell_type": "markdown",
   "metadata": {
    "collapsed": false
   },
   "source": [
    "**RandomForestClassifier**"
   ]
  },
  {
   "cell_type": "code",
   "execution_count": 15,
   "metadata": {
    "collapsed": false
   },
   "outputs": [
    {
     "name": "stdout",
     "output_type": "stream",
     "text": [
      "CPU times: user 1min 21s, sys: 79.6 ms, total: 1min 21s\n",
      "Wall time: 1min 22s\n"
     ]
    }
   ],
   "source": [
    "%%time\n",
    "results_rfc = []\n",
    "\n",
    "for depth in range(1,11):\n",
    "    \n",
    "    for estimator in range(10, 51, 10):\n",
    "        \n",
    "        model = RandomForestClassifier(random_state=123, \n",
    "                                       class_weight = 'balanced', \n",
    "                                       n_estimators=estimator, \n",
    "                                      max_depth=depth) \n",
    "        \n",
    "        model.fit(train_X, target_train)\n",
    "        predictions = model.predict(test_X)\n",
    "\n",
    "        f1 = f1_score(target_test, predictions)\n",
    "        results_rfc.append({'Model': 'RandomForestClassifier', \n",
    "                            'Hyperparameters': {'random_state': 123, \n",
    "                                                'class_weight': 'balanced',\n",
    "                                                'n_estimators': estimator, \n",
    "                                                'max_depth':depth}, \n",
    "                            'F1 score': f1})"
   ]
  },
  {
   "cell_type": "code",
   "execution_count": 16,
   "metadata": {
    "collapsed": false
   },
   "outputs": [
    {
     "data": {
      "text/html": [
       "<style  type=\"text/css\" >\n",
       "    #T_b4833ecc_08cb_11ec_b317_02420a395b13row49_col2 {\n",
       "            background-color:  lightgreen;\n",
       "        }</style><table id=\"T_b4833ecc_08cb_11ec_b317_02420a395b13\" ><thead>    <tr>        <th class=\"blank level0\" ></th>        <th class=\"col_heading level0 col0\" >Model</th>        <th class=\"col_heading level0 col1\" >Hyperparameters</th>        <th class=\"col_heading level0 col2\" >F1 score</th>    </tr></thead><tbody>\n",
       "                <tr>\n",
       "                        <th id=\"T_b4833ecc_08cb_11ec_b317_02420a395b13level0_row0\" class=\"row_heading level0 row0\" >0</th>\n",
       "                        <td id=\"T_b4833ecc_08cb_11ec_b317_02420a395b13row0_col0\" class=\"data row0 col0\" >RandomForestClassifier</td>\n",
       "                        <td id=\"T_b4833ecc_08cb_11ec_b317_02420a395b13row0_col1\" class=\"data row0 col1\" >{'random_state': 123, 'class_weight': 'balanced', 'n_estimators': 10, 'max_depth': 1}</td>\n",
       "                        <td id=\"T_b4833ecc_08cb_11ec_b317_02420a395b13row0_col2\" class=\"data row0 col2\" >0.198324</td>\n",
       "            </tr>\n",
       "            <tr>\n",
       "                        <th id=\"T_b4833ecc_08cb_11ec_b317_02420a395b13level0_row1\" class=\"row_heading level0 row1\" >1</th>\n",
       "                        <td id=\"T_b4833ecc_08cb_11ec_b317_02420a395b13row1_col0\" class=\"data row1 col0\" >RandomForestClassifier</td>\n",
       "                        <td id=\"T_b4833ecc_08cb_11ec_b317_02420a395b13row1_col1\" class=\"data row1 col1\" >{'random_state': 123, 'class_weight': 'balanced', 'n_estimators': 20, 'max_depth': 1}</td>\n",
       "                        <td id=\"T_b4833ecc_08cb_11ec_b317_02420a395b13row1_col2\" class=\"data row1 col2\" >0.209658</td>\n",
       "            </tr>\n",
       "            <tr>\n",
       "                        <th id=\"T_b4833ecc_08cb_11ec_b317_02420a395b13level0_row2\" class=\"row_heading level0 row2\" >2</th>\n",
       "                        <td id=\"T_b4833ecc_08cb_11ec_b317_02420a395b13row2_col0\" class=\"data row2 col0\" >RandomForestClassifier</td>\n",
       "                        <td id=\"T_b4833ecc_08cb_11ec_b317_02420a395b13row2_col1\" class=\"data row2 col1\" >{'random_state': 123, 'class_weight': 'balanced', 'n_estimators': 30, 'max_depth': 1}</td>\n",
       "                        <td id=\"T_b4833ecc_08cb_11ec_b317_02420a395b13row2_col2\" class=\"data row2 col2\" >0.227435</td>\n",
       "            </tr>\n",
       "            <tr>\n",
       "                        <th id=\"T_b4833ecc_08cb_11ec_b317_02420a395b13level0_row3\" class=\"row_heading level0 row3\" >3</th>\n",
       "                        <td id=\"T_b4833ecc_08cb_11ec_b317_02420a395b13row3_col0\" class=\"data row3 col0\" >RandomForestClassifier</td>\n",
       "                        <td id=\"T_b4833ecc_08cb_11ec_b317_02420a395b13row3_col1\" class=\"data row3 col1\" >{'random_state': 123, 'class_weight': 'balanced', 'n_estimators': 40, 'max_depth': 1}</td>\n",
       "                        <td id=\"T_b4833ecc_08cb_11ec_b317_02420a395b13row3_col2\" class=\"data row3 col2\" >0.235362</td>\n",
       "            </tr>\n",
       "            <tr>\n",
       "                        <th id=\"T_b4833ecc_08cb_11ec_b317_02420a395b13level0_row4\" class=\"row_heading level0 row4\" >4</th>\n",
       "                        <td id=\"T_b4833ecc_08cb_11ec_b317_02420a395b13row4_col0\" class=\"data row4 col0\" >RandomForestClassifier</td>\n",
       "                        <td id=\"T_b4833ecc_08cb_11ec_b317_02420a395b13row4_col1\" class=\"data row4 col1\" >{'random_state': 123, 'class_weight': 'balanced', 'n_estimators': 50, 'max_depth': 1}</td>\n",
       "                        <td id=\"T_b4833ecc_08cb_11ec_b317_02420a395b13row4_col2\" class=\"data row4 col2\" >0.248481</td>\n",
       "            </tr>\n",
       "            <tr>\n",
       "                        <th id=\"T_b4833ecc_08cb_11ec_b317_02420a395b13level0_row5\" class=\"row_heading level0 row5\" >5</th>\n",
       "                        <td id=\"T_b4833ecc_08cb_11ec_b317_02420a395b13row5_col0\" class=\"data row5 col0\" >RandomForestClassifier</td>\n",
       "                        <td id=\"T_b4833ecc_08cb_11ec_b317_02420a395b13row5_col1\" class=\"data row5 col1\" >{'random_state': 123, 'class_weight': 'balanced', 'n_estimators': 10, 'max_depth': 2}</td>\n",
       "                        <td id=\"T_b4833ecc_08cb_11ec_b317_02420a395b13row5_col2\" class=\"data row5 col2\" >0.223658</td>\n",
       "            </tr>\n",
       "            <tr>\n",
       "                        <th id=\"T_b4833ecc_08cb_11ec_b317_02420a395b13level0_row6\" class=\"row_heading level0 row6\" >6</th>\n",
       "                        <td id=\"T_b4833ecc_08cb_11ec_b317_02420a395b13row6_col0\" class=\"data row6 col0\" >RandomForestClassifier</td>\n",
       "                        <td id=\"T_b4833ecc_08cb_11ec_b317_02420a395b13row6_col1\" class=\"data row6 col1\" >{'random_state': 123, 'class_weight': 'balanced', 'n_estimators': 20, 'max_depth': 2}</td>\n",
       "                        <td id=\"T_b4833ecc_08cb_11ec_b317_02420a395b13row6_col2\" class=\"data row6 col2\" >0.243474</td>\n",
       "            </tr>\n",
       "            <tr>\n",
       "                        <th id=\"T_b4833ecc_08cb_11ec_b317_02420a395b13level0_row7\" class=\"row_heading level0 row7\" >7</th>\n",
       "                        <td id=\"T_b4833ecc_08cb_11ec_b317_02420a395b13row7_col0\" class=\"data row7 col0\" >RandomForestClassifier</td>\n",
       "                        <td id=\"T_b4833ecc_08cb_11ec_b317_02420a395b13row7_col1\" class=\"data row7 col1\" >{'random_state': 123, 'class_weight': 'balanced', 'n_estimators': 30, 'max_depth': 2}</td>\n",
       "                        <td id=\"T_b4833ecc_08cb_11ec_b317_02420a395b13row7_col2\" class=\"data row7 col2\" >0.248766</td>\n",
       "            </tr>\n",
       "            <tr>\n",
       "                        <th id=\"T_b4833ecc_08cb_11ec_b317_02420a395b13level0_row8\" class=\"row_heading level0 row8\" >8</th>\n",
       "                        <td id=\"T_b4833ecc_08cb_11ec_b317_02420a395b13row8_col0\" class=\"data row8 col0\" >RandomForestClassifier</td>\n",
       "                        <td id=\"T_b4833ecc_08cb_11ec_b317_02420a395b13row8_col1\" class=\"data row8 col1\" >{'random_state': 123, 'class_weight': 'balanced', 'n_estimators': 40, 'max_depth': 2}</td>\n",
       "                        <td id=\"T_b4833ecc_08cb_11ec_b317_02420a395b13row8_col2\" class=\"data row8 col2\" >0.254417</td>\n",
       "            </tr>\n",
       "            <tr>\n",
       "                        <th id=\"T_b4833ecc_08cb_11ec_b317_02420a395b13level0_row9\" class=\"row_heading level0 row9\" >9</th>\n",
       "                        <td id=\"T_b4833ecc_08cb_11ec_b317_02420a395b13row9_col0\" class=\"data row9 col0\" >RandomForestClassifier</td>\n",
       "                        <td id=\"T_b4833ecc_08cb_11ec_b317_02420a395b13row9_col1\" class=\"data row9 col1\" >{'random_state': 123, 'class_weight': 'balanced', 'n_estimators': 50, 'max_depth': 2}</td>\n",
       "                        <td id=\"T_b4833ecc_08cb_11ec_b317_02420a395b13row9_col2\" class=\"data row9 col2\" >0.260591</td>\n",
       "            </tr>\n",
       "            <tr>\n",
       "                        <th id=\"T_b4833ecc_08cb_11ec_b317_02420a395b13level0_row10\" class=\"row_heading level0 row10\" >10</th>\n",
       "                        <td id=\"T_b4833ecc_08cb_11ec_b317_02420a395b13row10_col0\" class=\"data row10 col0\" >RandomForestClassifier</td>\n",
       "                        <td id=\"T_b4833ecc_08cb_11ec_b317_02420a395b13row10_col1\" class=\"data row10 col1\" >{'random_state': 123, 'class_weight': 'balanced', 'n_estimators': 10, 'max_depth': 3}</td>\n",
       "                        <td id=\"T_b4833ecc_08cb_11ec_b317_02420a395b13row10_col2\" class=\"data row10 col2\" >0.252097</td>\n",
       "            </tr>\n",
       "            <tr>\n",
       "                        <th id=\"T_b4833ecc_08cb_11ec_b317_02420a395b13level0_row11\" class=\"row_heading level0 row11\" >11</th>\n",
       "                        <td id=\"T_b4833ecc_08cb_11ec_b317_02420a395b13row11_col0\" class=\"data row11 col0\" >RandomForestClassifier</td>\n",
       "                        <td id=\"T_b4833ecc_08cb_11ec_b317_02420a395b13row11_col1\" class=\"data row11 col1\" >{'random_state': 123, 'class_weight': 'balanced', 'n_estimators': 20, 'max_depth': 3}</td>\n",
       "                        <td id=\"T_b4833ecc_08cb_11ec_b317_02420a395b13row11_col2\" class=\"data row11 col2\" >0.267932</td>\n",
       "            </tr>\n",
       "            <tr>\n",
       "                        <th id=\"T_b4833ecc_08cb_11ec_b317_02420a395b13level0_row12\" class=\"row_heading level0 row12\" >12</th>\n",
       "                        <td id=\"T_b4833ecc_08cb_11ec_b317_02420a395b13row12_col0\" class=\"data row12 col0\" >RandomForestClassifier</td>\n",
       "                        <td id=\"T_b4833ecc_08cb_11ec_b317_02420a395b13row12_col1\" class=\"data row12 col1\" >{'random_state': 123, 'class_weight': 'balanced', 'n_estimators': 30, 'max_depth': 3}</td>\n",
       "                        <td id=\"T_b4833ecc_08cb_11ec_b317_02420a395b13row12_col2\" class=\"data row12 col2\" >0.278309</td>\n",
       "            </tr>\n",
       "            <tr>\n",
       "                        <th id=\"T_b4833ecc_08cb_11ec_b317_02420a395b13level0_row13\" class=\"row_heading level0 row13\" >13</th>\n",
       "                        <td id=\"T_b4833ecc_08cb_11ec_b317_02420a395b13row13_col0\" class=\"data row13 col0\" >RandomForestClassifier</td>\n",
       "                        <td id=\"T_b4833ecc_08cb_11ec_b317_02420a395b13row13_col1\" class=\"data row13 col1\" >{'random_state': 123, 'class_weight': 'balanced', 'n_estimators': 40, 'max_depth': 3}</td>\n",
       "                        <td id=\"T_b4833ecc_08cb_11ec_b317_02420a395b13row13_col2\" class=\"data row13 col2\" >0.286129</td>\n",
       "            </tr>\n",
       "            <tr>\n",
       "                        <th id=\"T_b4833ecc_08cb_11ec_b317_02420a395b13level0_row14\" class=\"row_heading level0 row14\" >14</th>\n",
       "                        <td id=\"T_b4833ecc_08cb_11ec_b317_02420a395b13row14_col0\" class=\"data row14 col0\" >RandomForestClassifier</td>\n",
       "                        <td id=\"T_b4833ecc_08cb_11ec_b317_02420a395b13row14_col1\" class=\"data row14 col1\" >{'random_state': 123, 'class_weight': 'balanced', 'n_estimators': 50, 'max_depth': 3}</td>\n",
       "                        <td id=\"T_b4833ecc_08cb_11ec_b317_02420a395b13row14_col2\" class=\"data row14 col2\" >0.276774</td>\n",
       "            </tr>\n",
       "            <tr>\n",
       "                        <th id=\"T_b4833ecc_08cb_11ec_b317_02420a395b13level0_row15\" class=\"row_heading level0 row15\" >15</th>\n",
       "                        <td id=\"T_b4833ecc_08cb_11ec_b317_02420a395b13row15_col0\" class=\"data row15 col0\" >RandomForestClassifier</td>\n",
       "                        <td id=\"T_b4833ecc_08cb_11ec_b317_02420a395b13row15_col1\" class=\"data row15 col1\" >{'random_state': 123, 'class_weight': 'balanced', 'n_estimators': 10, 'max_depth': 4}</td>\n",
       "                        <td id=\"T_b4833ecc_08cb_11ec_b317_02420a395b13row15_col2\" class=\"data row15 col2\" >0.26377</td>\n",
       "            </tr>\n",
       "            <tr>\n",
       "                        <th id=\"T_b4833ecc_08cb_11ec_b317_02420a395b13level0_row16\" class=\"row_heading level0 row16\" >16</th>\n",
       "                        <td id=\"T_b4833ecc_08cb_11ec_b317_02420a395b13row16_col0\" class=\"data row16 col0\" >RandomForestClassifier</td>\n",
       "                        <td id=\"T_b4833ecc_08cb_11ec_b317_02420a395b13row16_col1\" class=\"data row16 col1\" >{'random_state': 123, 'class_weight': 'balanced', 'n_estimators': 20, 'max_depth': 4}</td>\n",
       "                        <td id=\"T_b4833ecc_08cb_11ec_b317_02420a395b13row16_col2\" class=\"data row16 col2\" >0.2777</td>\n",
       "            </tr>\n",
       "            <tr>\n",
       "                        <th id=\"T_b4833ecc_08cb_11ec_b317_02420a395b13level0_row17\" class=\"row_heading level0 row17\" >17</th>\n",
       "                        <td id=\"T_b4833ecc_08cb_11ec_b317_02420a395b13row17_col0\" class=\"data row17 col0\" >RandomForestClassifier</td>\n",
       "                        <td id=\"T_b4833ecc_08cb_11ec_b317_02420a395b13row17_col1\" class=\"data row17 col1\" >{'random_state': 123, 'class_weight': 'balanced', 'n_estimators': 30, 'max_depth': 4}</td>\n",
       "                        <td id=\"T_b4833ecc_08cb_11ec_b317_02420a395b13row17_col2\" class=\"data row17 col2\" >0.291065</td>\n",
       "            </tr>\n",
       "            <tr>\n",
       "                        <th id=\"T_b4833ecc_08cb_11ec_b317_02420a395b13level0_row18\" class=\"row_heading level0 row18\" >18</th>\n",
       "                        <td id=\"T_b4833ecc_08cb_11ec_b317_02420a395b13row18_col0\" class=\"data row18 col0\" >RandomForestClassifier</td>\n",
       "                        <td id=\"T_b4833ecc_08cb_11ec_b317_02420a395b13row18_col1\" class=\"data row18 col1\" >{'random_state': 123, 'class_weight': 'balanced', 'n_estimators': 40, 'max_depth': 4}</td>\n",
       "                        <td id=\"T_b4833ecc_08cb_11ec_b317_02420a395b13row18_col2\" class=\"data row18 col2\" >0.285139</td>\n",
       "            </tr>\n",
       "            <tr>\n",
       "                        <th id=\"T_b4833ecc_08cb_11ec_b317_02420a395b13level0_row19\" class=\"row_heading level0 row19\" >19</th>\n",
       "                        <td id=\"T_b4833ecc_08cb_11ec_b317_02420a395b13row19_col0\" class=\"data row19 col0\" >RandomForestClassifier</td>\n",
       "                        <td id=\"T_b4833ecc_08cb_11ec_b317_02420a395b13row19_col1\" class=\"data row19 col1\" >{'random_state': 123, 'class_weight': 'balanced', 'n_estimators': 50, 'max_depth': 4}</td>\n",
       "                        <td id=\"T_b4833ecc_08cb_11ec_b317_02420a395b13row19_col2\" class=\"data row19 col2\" >0.286682</td>\n",
       "            </tr>\n",
       "            <tr>\n",
       "                        <th id=\"T_b4833ecc_08cb_11ec_b317_02420a395b13level0_row20\" class=\"row_heading level0 row20\" >20</th>\n",
       "                        <td id=\"T_b4833ecc_08cb_11ec_b317_02420a395b13row20_col0\" class=\"data row20 col0\" >RandomForestClassifier</td>\n",
       "                        <td id=\"T_b4833ecc_08cb_11ec_b317_02420a395b13row20_col1\" class=\"data row20 col1\" >{'random_state': 123, 'class_weight': 'balanced', 'n_estimators': 10, 'max_depth': 5}</td>\n",
       "                        <td id=\"T_b4833ecc_08cb_11ec_b317_02420a395b13row20_col2\" class=\"data row20 col2\" >0.268264</td>\n",
       "            </tr>\n",
       "            <tr>\n",
       "                        <th id=\"T_b4833ecc_08cb_11ec_b317_02420a395b13level0_row21\" class=\"row_heading level0 row21\" >21</th>\n",
       "                        <td id=\"T_b4833ecc_08cb_11ec_b317_02420a395b13row21_col0\" class=\"data row21 col0\" >RandomForestClassifier</td>\n",
       "                        <td id=\"T_b4833ecc_08cb_11ec_b317_02420a395b13row21_col1\" class=\"data row21 col1\" >{'random_state': 123, 'class_weight': 'balanced', 'n_estimators': 20, 'max_depth': 5}</td>\n",
       "                        <td id=\"T_b4833ecc_08cb_11ec_b317_02420a395b13row21_col2\" class=\"data row21 col2\" >0.29392</td>\n",
       "            </tr>\n",
       "            <tr>\n",
       "                        <th id=\"T_b4833ecc_08cb_11ec_b317_02420a395b13level0_row22\" class=\"row_heading level0 row22\" >22</th>\n",
       "                        <td id=\"T_b4833ecc_08cb_11ec_b317_02420a395b13row22_col0\" class=\"data row22 col0\" >RandomForestClassifier</td>\n",
       "                        <td id=\"T_b4833ecc_08cb_11ec_b317_02420a395b13row22_col1\" class=\"data row22 col1\" >{'random_state': 123, 'class_weight': 'balanced', 'n_estimators': 30, 'max_depth': 5}</td>\n",
       "                        <td id=\"T_b4833ecc_08cb_11ec_b317_02420a395b13row22_col2\" class=\"data row22 col2\" >0.284761</td>\n",
       "            </tr>\n",
       "            <tr>\n",
       "                        <th id=\"T_b4833ecc_08cb_11ec_b317_02420a395b13level0_row23\" class=\"row_heading level0 row23\" >23</th>\n",
       "                        <td id=\"T_b4833ecc_08cb_11ec_b317_02420a395b13row23_col0\" class=\"data row23 col0\" >RandomForestClassifier</td>\n",
       "                        <td id=\"T_b4833ecc_08cb_11ec_b317_02420a395b13row23_col1\" class=\"data row23 col1\" >{'random_state': 123, 'class_weight': 'balanced', 'n_estimators': 40, 'max_depth': 5}</td>\n",
       "                        <td id=\"T_b4833ecc_08cb_11ec_b317_02420a395b13row23_col2\" class=\"data row23 col2\" >0.293709</td>\n",
       "            </tr>\n",
       "            <tr>\n",
       "                        <th id=\"T_b4833ecc_08cb_11ec_b317_02420a395b13level0_row24\" class=\"row_heading level0 row24\" >24</th>\n",
       "                        <td id=\"T_b4833ecc_08cb_11ec_b317_02420a395b13row24_col0\" class=\"data row24 col0\" >RandomForestClassifier</td>\n",
       "                        <td id=\"T_b4833ecc_08cb_11ec_b317_02420a395b13row24_col1\" class=\"data row24 col1\" >{'random_state': 123, 'class_weight': 'balanced', 'n_estimators': 50, 'max_depth': 5}</td>\n",
       "                        <td id=\"T_b4833ecc_08cb_11ec_b317_02420a395b13row24_col2\" class=\"data row24 col2\" >0.302198</td>\n",
       "            </tr>\n",
       "            <tr>\n",
       "                        <th id=\"T_b4833ecc_08cb_11ec_b317_02420a395b13level0_row25\" class=\"row_heading level0 row25\" >25</th>\n",
       "                        <td id=\"T_b4833ecc_08cb_11ec_b317_02420a395b13row25_col0\" class=\"data row25 col0\" >RandomForestClassifier</td>\n",
       "                        <td id=\"T_b4833ecc_08cb_11ec_b317_02420a395b13row25_col1\" class=\"data row25 col1\" >{'random_state': 123, 'class_weight': 'balanced', 'n_estimators': 10, 'max_depth': 6}</td>\n",
       "                        <td id=\"T_b4833ecc_08cb_11ec_b317_02420a395b13row25_col2\" class=\"data row25 col2\" >0.277765</td>\n",
       "            </tr>\n",
       "            <tr>\n",
       "                        <th id=\"T_b4833ecc_08cb_11ec_b317_02420a395b13level0_row26\" class=\"row_heading level0 row26\" >26</th>\n",
       "                        <td id=\"T_b4833ecc_08cb_11ec_b317_02420a395b13row26_col0\" class=\"data row26 col0\" >RandomForestClassifier</td>\n",
       "                        <td id=\"T_b4833ecc_08cb_11ec_b317_02420a395b13row26_col1\" class=\"data row26 col1\" >{'random_state': 123, 'class_weight': 'balanced', 'n_estimators': 20, 'max_depth': 6}</td>\n",
       "                        <td id=\"T_b4833ecc_08cb_11ec_b317_02420a395b13row26_col2\" class=\"data row26 col2\" >0.306724</td>\n",
       "            </tr>\n",
       "            <tr>\n",
       "                        <th id=\"T_b4833ecc_08cb_11ec_b317_02420a395b13level0_row27\" class=\"row_heading level0 row27\" >27</th>\n",
       "                        <td id=\"T_b4833ecc_08cb_11ec_b317_02420a395b13row27_col0\" class=\"data row27 col0\" >RandomForestClassifier</td>\n",
       "                        <td id=\"T_b4833ecc_08cb_11ec_b317_02420a395b13row27_col1\" class=\"data row27 col1\" >{'random_state': 123, 'class_weight': 'balanced', 'n_estimators': 30, 'max_depth': 6}</td>\n",
       "                        <td id=\"T_b4833ecc_08cb_11ec_b317_02420a395b13row27_col2\" class=\"data row27 col2\" >0.296162</td>\n",
       "            </tr>\n",
       "            <tr>\n",
       "                        <th id=\"T_b4833ecc_08cb_11ec_b317_02420a395b13level0_row28\" class=\"row_heading level0 row28\" >28</th>\n",
       "                        <td id=\"T_b4833ecc_08cb_11ec_b317_02420a395b13row28_col0\" class=\"data row28 col0\" >RandomForestClassifier</td>\n",
       "                        <td id=\"T_b4833ecc_08cb_11ec_b317_02420a395b13row28_col1\" class=\"data row28 col1\" >{'random_state': 123, 'class_weight': 'balanced', 'n_estimators': 40, 'max_depth': 6}</td>\n",
       "                        <td id=\"T_b4833ecc_08cb_11ec_b317_02420a395b13row28_col2\" class=\"data row28 col2\" >0.301544</td>\n",
       "            </tr>\n",
       "            <tr>\n",
       "                        <th id=\"T_b4833ecc_08cb_11ec_b317_02420a395b13level0_row29\" class=\"row_heading level0 row29\" >29</th>\n",
       "                        <td id=\"T_b4833ecc_08cb_11ec_b317_02420a395b13row29_col0\" class=\"data row29 col0\" >RandomForestClassifier</td>\n",
       "                        <td id=\"T_b4833ecc_08cb_11ec_b317_02420a395b13row29_col1\" class=\"data row29 col1\" >{'random_state': 123, 'class_weight': 'balanced', 'n_estimators': 50, 'max_depth': 6}</td>\n",
       "                        <td id=\"T_b4833ecc_08cb_11ec_b317_02420a395b13row29_col2\" class=\"data row29 col2\" >0.312251</td>\n",
       "            </tr>\n",
       "            <tr>\n",
       "                        <th id=\"T_b4833ecc_08cb_11ec_b317_02420a395b13level0_row30\" class=\"row_heading level0 row30\" >30</th>\n",
       "                        <td id=\"T_b4833ecc_08cb_11ec_b317_02420a395b13row30_col0\" class=\"data row30 col0\" >RandomForestClassifier</td>\n",
       "                        <td id=\"T_b4833ecc_08cb_11ec_b317_02420a395b13row30_col1\" class=\"data row30 col1\" >{'random_state': 123, 'class_weight': 'balanced', 'n_estimators': 10, 'max_depth': 7}</td>\n",
       "                        <td id=\"T_b4833ecc_08cb_11ec_b317_02420a395b13row30_col2\" class=\"data row30 col2\" >0.282728</td>\n",
       "            </tr>\n",
       "            <tr>\n",
       "                        <th id=\"T_b4833ecc_08cb_11ec_b317_02420a395b13level0_row31\" class=\"row_heading level0 row31\" >31</th>\n",
       "                        <td id=\"T_b4833ecc_08cb_11ec_b317_02420a395b13row31_col0\" class=\"data row31 col0\" >RandomForestClassifier</td>\n",
       "                        <td id=\"T_b4833ecc_08cb_11ec_b317_02420a395b13row31_col1\" class=\"data row31 col1\" >{'random_state': 123, 'class_weight': 'balanced', 'n_estimators': 20, 'max_depth': 7}</td>\n",
       "                        <td id=\"T_b4833ecc_08cb_11ec_b317_02420a395b13row31_col2\" class=\"data row31 col2\" >0.306612</td>\n",
       "            </tr>\n",
       "            <tr>\n",
       "                        <th id=\"T_b4833ecc_08cb_11ec_b317_02420a395b13level0_row32\" class=\"row_heading level0 row32\" >32</th>\n",
       "                        <td id=\"T_b4833ecc_08cb_11ec_b317_02420a395b13row32_col0\" class=\"data row32 col0\" >RandomForestClassifier</td>\n",
       "                        <td id=\"T_b4833ecc_08cb_11ec_b317_02420a395b13row32_col1\" class=\"data row32 col1\" >{'random_state': 123, 'class_weight': 'balanced', 'n_estimators': 30, 'max_depth': 7}</td>\n",
       "                        <td id=\"T_b4833ecc_08cb_11ec_b317_02420a395b13row32_col2\" class=\"data row32 col2\" >0.303784</td>\n",
       "            </tr>\n",
       "            <tr>\n",
       "                        <th id=\"T_b4833ecc_08cb_11ec_b317_02420a395b13level0_row33\" class=\"row_heading level0 row33\" >33</th>\n",
       "                        <td id=\"T_b4833ecc_08cb_11ec_b317_02420a395b13row33_col0\" class=\"data row33 col0\" >RandomForestClassifier</td>\n",
       "                        <td id=\"T_b4833ecc_08cb_11ec_b317_02420a395b13row33_col1\" class=\"data row33 col1\" >{'random_state': 123, 'class_weight': 'balanced', 'n_estimators': 40, 'max_depth': 7}</td>\n",
       "                        <td id=\"T_b4833ecc_08cb_11ec_b317_02420a395b13row33_col2\" class=\"data row33 col2\" >0.306496</td>\n",
       "            </tr>\n",
       "            <tr>\n",
       "                        <th id=\"T_b4833ecc_08cb_11ec_b317_02420a395b13level0_row34\" class=\"row_heading level0 row34\" >34</th>\n",
       "                        <td id=\"T_b4833ecc_08cb_11ec_b317_02420a395b13row34_col0\" class=\"data row34 col0\" >RandomForestClassifier</td>\n",
       "                        <td id=\"T_b4833ecc_08cb_11ec_b317_02420a395b13row34_col1\" class=\"data row34 col1\" >{'random_state': 123, 'class_weight': 'balanced', 'n_estimators': 50, 'max_depth': 7}</td>\n",
       "                        <td id=\"T_b4833ecc_08cb_11ec_b317_02420a395b13row34_col2\" class=\"data row34 col2\" >0.308218</td>\n",
       "            </tr>\n",
       "            <tr>\n",
       "                        <th id=\"T_b4833ecc_08cb_11ec_b317_02420a395b13level0_row35\" class=\"row_heading level0 row35\" >35</th>\n",
       "                        <td id=\"T_b4833ecc_08cb_11ec_b317_02420a395b13row35_col0\" class=\"data row35 col0\" >RandomForestClassifier</td>\n",
       "                        <td id=\"T_b4833ecc_08cb_11ec_b317_02420a395b13row35_col1\" class=\"data row35 col1\" >{'random_state': 123, 'class_weight': 'balanced', 'n_estimators': 10, 'max_depth': 8}</td>\n",
       "                        <td id=\"T_b4833ecc_08cb_11ec_b317_02420a395b13row35_col2\" class=\"data row35 col2\" >0.287704</td>\n",
       "            </tr>\n",
       "            <tr>\n",
       "                        <th id=\"T_b4833ecc_08cb_11ec_b317_02420a395b13level0_row36\" class=\"row_heading level0 row36\" >36</th>\n",
       "                        <td id=\"T_b4833ecc_08cb_11ec_b317_02420a395b13row36_col0\" class=\"data row36 col0\" >RandomForestClassifier</td>\n",
       "                        <td id=\"T_b4833ecc_08cb_11ec_b317_02420a395b13row36_col1\" class=\"data row36 col1\" >{'random_state': 123, 'class_weight': 'balanced', 'n_estimators': 20, 'max_depth': 8}</td>\n",
       "                        <td id=\"T_b4833ecc_08cb_11ec_b317_02420a395b13row36_col2\" class=\"data row36 col2\" >0.300052</td>\n",
       "            </tr>\n",
       "            <tr>\n",
       "                        <th id=\"T_b4833ecc_08cb_11ec_b317_02420a395b13level0_row37\" class=\"row_heading level0 row37\" >37</th>\n",
       "                        <td id=\"T_b4833ecc_08cb_11ec_b317_02420a395b13row37_col0\" class=\"data row37 col0\" >RandomForestClassifier</td>\n",
       "                        <td id=\"T_b4833ecc_08cb_11ec_b317_02420a395b13row37_col1\" class=\"data row37 col1\" >{'random_state': 123, 'class_weight': 'balanced', 'n_estimators': 30, 'max_depth': 8}</td>\n",
       "                        <td id=\"T_b4833ecc_08cb_11ec_b317_02420a395b13row37_col2\" class=\"data row37 col2\" >0.312973</td>\n",
       "            </tr>\n",
       "            <tr>\n",
       "                        <th id=\"T_b4833ecc_08cb_11ec_b317_02420a395b13level0_row38\" class=\"row_heading level0 row38\" >38</th>\n",
       "                        <td id=\"T_b4833ecc_08cb_11ec_b317_02420a395b13row38_col0\" class=\"data row38 col0\" >RandomForestClassifier</td>\n",
       "                        <td id=\"T_b4833ecc_08cb_11ec_b317_02420a395b13row38_col1\" class=\"data row38 col1\" >{'random_state': 123, 'class_weight': 'balanced', 'n_estimators': 40, 'max_depth': 8}</td>\n",
       "                        <td id=\"T_b4833ecc_08cb_11ec_b317_02420a395b13row38_col2\" class=\"data row38 col2\" >0.317203</td>\n",
       "            </tr>\n",
       "            <tr>\n",
       "                        <th id=\"T_b4833ecc_08cb_11ec_b317_02420a395b13level0_row39\" class=\"row_heading level0 row39\" >39</th>\n",
       "                        <td id=\"T_b4833ecc_08cb_11ec_b317_02420a395b13row39_col0\" class=\"data row39 col0\" >RandomForestClassifier</td>\n",
       "                        <td id=\"T_b4833ecc_08cb_11ec_b317_02420a395b13row39_col1\" class=\"data row39 col1\" >{'random_state': 123, 'class_weight': 'balanced', 'n_estimators': 50, 'max_depth': 8}</td>\n",
       "                        <td id=\"T_b4833ecc_08cb_11ec_b317_02420a395b13row39_col2\" class=\"data row39 col2\" >0.314723</td>\n",
       "            </tr>\n",
       "            <tr>\n",
       "                        <th id=\"T_b4833ecc_08cb_11ec_b317_02420a395b13level0_row40\" class=\"row_heading level0 row40\" >40</th>\n",
       "                        <td id=\"T_b4833ecc_08cb_11ec_b317_02420a395b13row40_col0\" class=\"data row40 col0\" >RandomForestClassifier</td>\n",
       "                        <td id=\"T_b4833ecc_08cb_11ec_b317_02420a395b13row40_col1\" class=\"data row40 col1\" >{'random_state': 123, 'class_weight': 'balanced', 'n_estimators': 10, 'max_depth': 9}</td>\n",
       "                        <td id=\"T_b4833ecc_08cb_11ec_b317_02420a395b13row40_col2\" class=\"data row40 col2\" >0.290248</td>\n",
       "            </tr>\n",
       "            <tr>\n",
       "                        <th id=\"T_b4833ecc_08cb_11ec_b317_02420a395b13level0_row41\" class=\"row_heading level0 row41\" >41</th>\n",
       "                        <td id=\"T_b4833ecc_08cb_11ec_b317_02420a395b13row41_col0\" class=\"data row41 col0\" >RandomForestClassifier</td>\n",
       "                        <td id=\"T_b4833ecc_08cb_11ec_b317_02420a395b13row41_col1\" class=\"data row41 col1\" >{'random_state': 123, 'class_weight': 'balanced', 'n_estimators': 20, 'max_depth': 9}</td>\n",
       "                        <td id=\"T_b4833ecc_08cb_11ec_b317_02420a395b13row41_col2\" class=\"data row41 col2\" >0.31091</td>\n",
       "            </tr>\n",
       "            <tr>\n",
       "                        <th id=\"T_b4833ecc_08cb_11ec_b317_02420a395b13level0_row42\" class=\"row_heading level0 row42\" >42</th>\n",
       "                        <td id=\"T_b4833ecc_08cb_11ec_b317_02420a395b13row42_col0\" class=\"data row42 col0\" >RandomForestClassifier</td>\n",
       "                        <td id=\"T_b4833ecc_08cb_11ec_b317_02420a395b13row42_col1\" class=\"data row42 col1\" >{'random_state': 123, 'class_weight': 'balanced', 'n_estimators': 30, 'max_depth': 9}</td>\n",
       "                        <td id=\"T_b4833ecc_08cb_11ec_b317_02420a395b13row42_col2\" class=\"data row42 col2\" >0.319848</td>\n",
       "            </tr>\n",
       "            <tr>\n",
       "                        <th id=\"T_b4833ecc_08cb_11ec_b317_02420a395b13level0_row43\" class=\"row_heading level0 row43\" >43</th>\n",
       "                        <td id=\"T_b4833ecc_08cb_11ec_b317_02420a395b13row43_col0\" class=\"data row43 col0\" >RandomForestClassifier</td>\n",
       "                        <td id=\"T_b4833ecc_08cb_11ec_b317_02420a395b13row43_col1\" class=\"data row43 col1\" >{'random_state': 123, 'class_weight': 'balanced', 'n_estimators': 40, 'max_depth': 9}</td>\n",
       "                        <td id=\"T_b4833ecc_08cb_11ec_b317_02420a395b13row43_col2\" class=\"data row43 col2\" >0.316351</td>\n",
       "            </tr>\n",
       "            <tr>\n",
       "                        <th id=\"T_b4833ecc_08cb_11ec_b317_02420a395b13level0_row44\" class=\"row_heading level0 row44\" >44</th>\n",
       "                        <td id=\"T_b4833ecc_08cb_11ec_b317_02420a395b13row44_col0\" class=\"data row44 col0\" >RandomForestClassifier</td>\n",
       "                        <td id=\"T_b4833ecc_08cb_11ec_b317_02420a395b13row44_col1\" class=\"data row44 col1\" >{'random_state': 123, 'class_weight': 'balanced', 'n_estimators': 50, 'max_depth': 9}</td>\n",
       "                        <td id=\"T_b4833ecc_08cb_11ec_b317_02420a395b13row44_col2\" class=\"data row44 col2\" >0.323326</td>\n",
       "            </tr>\n",
       "            <tr>\n",
       "                        <th id=\"T_b4833ecc_08cb_11ec_b317_02420a395b13level0_row45\" class=\"row_heading level0 row45\" >45</th>\n",
       "                        <td id=\"T_b4833ecc_08cb_11ec_b317_02420a395b13row45_col0\" class=\"data row45 col0\" >RandomForestClassifier</td>\n",
       "                        <td id=\"T_b4833ecc_08cb_11ec_b317_02420a395b13row45_col1\" class=\"data row45 col1\" >{'random_state': 123, 'class_weight': 'balanced', 'n_estimators': 10, 'max_depth': 10}</td>\n",
       "                        <td id=\"T_b4833ecc_08cb_11ec_b317_02420a395b13row45_col2\" class=\"data row45 col2\" >0.287754</td>\n",
       "            </tr>\n",
       "            <tr>\n",
       "                        <th id=\"T_b4833ecc_08cb_11ec_b317_02420a395b13level0_row46\" class=\"row_heading level0 row46\" >46</th>\n",
       "                        <td id=\"T_b4833ecc_08cb_11ec_b317_02420a395b13row46_col0\" class=\"data row46 col0\" >RandomForestClassifier</td>\n",
       "                        <td id=\"T_b4833ecc_08cb_11ec_b317_02420a395b13row46_col1\" class=\"data row46 col1\" >{'random_state': 123, 'class_weight': 'balanced', 'n_estimators': 20, 'max_depth': 10}</td>\n",
       "                        <td id=\"T_b4833ecc_08cb_11ec_b317_02420a395b13row46_col2\" class=\"data row46 col2\" >0.312709</td>\n",
       "            </tr>\n",
       "            <tr>\n",
       "                        <th id=\"T_b4833ecc_08cb_11ec_b317_02420a395b13level0_row47\" class=\"row_heading level0 row47\" >47</th>\n",
       "                        <td id=\"T_b4833ecc_08cb_11ec_b317_02420a395b13row47_col0\" class=\"data row47 col0\" >RandomForestClassifier</td>\n",
       "                        <td id=\"T_b4833ecc_08cb_11ec_b317_02420a395b13row47_col1\" class=\"data row47 col1\" >{'random_state': 123, 'class_weight': 'balanced', 'n_estimators': 30, 'max_depth': 10}</td>\n",
       "                        <td id=\"T_b4833ecc_08cb_11ec_b317_02420a395b13row47_col2\" class=\"data row47 col2\" >0.325073</td>\n",
       "            </tr>\n",
       "            <tr>\n",
       "                        <th id=\"T_b4833ecc_08cb_11ec_b317_02420a395b13level0_row48\" class=\"row_heading level0 row48\" >48</th>\n",
       "                        <td id=\"T_b4833ecc_08cb_11ec_b317_02420a395b13row48_col0\" class=\"data row48 col0\" >RandomForestClassifier</td>\n",
       "                        <td id=\"T_b4833ecc_08cb_11ec_b317_02420a395b13row48_col1\" class=\"data row48 col1\" >{'random_state': 123, 'class_weight': 'balanced', 'n_estimators': 40, 'max_depth': 10}</td>\n",
       "                        <td id=\"T_b4833ecc_08cb_11ec_b317_02420a395b13row48_col2\" class=\"data row48 col2\" >0.320861</td>\n",
       "            </tr>\n",
       "            <tr>\n",
       "                        <th id=\"T_b4833ecc_08cb_11ec_b317_02420a395b13level0_row49\" class=\"row_heading level0 row49\" >49</th>\n",
       "                        <td id=\"T_b4833ecc_08cb_11ec_b317_02420a395b13row49_col0\" class=\"data row49 col0\" >RandomForestClassifier</td>\n",
       "                        <td id=\"T_b4833ecc_08cb_11ec_b317_02420a395b13row49_col1\" class=\"data row49 col1\" >{'random_state': 123, 'class_weight': 'balanced', 'n_estimators': 50, 'max_depth': 10}</td>\n",
       "                        <td id=\"T_b4833ecc_08cb_11ec_b317_02420a395b13row49_col2\" class=\"data row49 col2\" >0.326053</td>\n",
       "            </tr>\n",
       "    </tbody></table>"
      ],
      "text/plain": [
       "<pandas.io.formats.style.Styler at 0x7f60fc2ac110>"
      ]
     },
     "execution_count": 16,
     "metadata": {
     },
     "output_type": "execute_result"
    }
   ],
   "source": [
    "pd.DataFrame(results_rfc).style.highlight_max(color = 'lightgreen', axis = 0)"
   ]
  },
  {
   "cell_type": "code",
   "execution_count": 17,
   "metadata": {
    "collapsed": false
   },
   "outputs": [
   ],
   "source": [
    "def grid(model, params, feat, targ):\n",
    "    \n",
    "    search = GridSearchCV(model, params, cv=5, n_jobs=-1, scoring='f1')\n",
    "    search.fit(feat, targ)\n",
    "    \n",
    "    print('Best score = ', search.best_score_)\n",
    "    print(search.best_params_)"
   ]
  },
  {
   "cell_type": "code",
   "execution_count": 18,
   "metadata": {
    "collapsed": false
   },
   "outputs": [
   ],
   "source": [
    "params = dict(class_weight = ['balanced'], \n",
    "              n_estimators=range(10,51,10),\n",
    "              max_depth=range(1,11))\n",
    "\n",
    "model = RandomForestClassifier(random_state=123)"
   ]
  },
  {
   "cell_type": "code",
   "execution_count": 19,
   "metadata": {
    "collapsed": false
   },
   "outputs": [
    {
     "name": "stdout",
     "output_type": "stream",
     "text": [
      "Best score =  0.33748062756786357\n",
      "{'class_weight': 'balanced', 'max_depth': 10, 'n_estimators': 50}\n",
      "CPU times: user 21min 6s, sys: 5.92 s, total: 21min 12s\n",
      "Wall time: 21min 28s\n"
     ]
    }
   ],
   "source": [
    "%%time\n",
    "grid(model, params, train_X, target_train)"
   ]
  },
  {
   "cell_type": "markdown",
   "metadata": {
    "collapsed": false
   },
   "source": [
    "**DecisionTreeClassifier**"
   ]
  },
  {
   "cell_type": "code",
   "execution_count": 20,
   "metadata": {
    "collapsed": false
   },
   "outputs": [
   ],
   "source": [
    "results_dtc = []\n",
    "\n",
    "for depth in range(1,11):\n",
    "    model = DecisionTreeClassifier(random_state=123, max_depth=depth, class_weight = 'balanced')\n",
    "    model.fit(train_X, target_train)\n",
    "    predictions = model.predict(test_X)\n",
    "\n",
    "    f1 = f1_score(target_test, predictions)\n",
    "\n",
    "    results_dtc.append({'Model': 'DecisionTreeClassifier', \n",
    "                        'Hyperparameters': {'random_state': 123, \n",
    "                                            'class_weight': 'balanced', \n",
    "                                            'max_depth': depth},\n",
    "                        'F1 score': f1})"
   ]
  },
  {
   "cell_type": "code",
   "execution_count": 21,
   "metadata": {
    "collapsed": false,
    "scrolled": true
   },
   "outputs": [
    {
     "data": {
      "text/html": [
       "<style  type=\"text/css\" >\n",
       "    #T_d49f45a4_08ce_11ec_b317_02420a395b13row8_col2 {\n",
       "            background-color:  lightgreen;\n",
       "        }</style><table id=\"T_d49f45a4_08ce_11ec_b317_02420a395b13\" ><thead>    <tr>        <th class=\"blank level0\" ></th>        <th class=\"col_heading level0 col0\" >Model</th>        <th class=\"col_heading level0 col1\" >Hyperparameters</th>        <th class=\"col_heading level0 col2\" >F1 score</th>    </tr></thead><tbody>\n",
       "                <tr>\n",
       "                        <th id=\"T_d49f45a4_08ce_11ec_b317_02420a395b13level0_row0\" class=\"row_heading level0 row0\" >0</th>\n",
       "                        <td id=\"T_d49f45a4_08ce_11ec_b317_02420a395b13row0_col0\" class=\"data row0 col0\" >DecisionTreeClassifier</td>\n",
       "                        <td id=\"T_d49f45a4_08ce_11ec_b317_02420a395b13row0_col1\" class=\"data row0 col1\" >{'random_state': 123, 'class_weight': 'balanced', 'max_depth': 1}</td>\n",
       "                        <td id=\"T_d49f45a4_08ce_11ec_b317_02420a395b13row0_col2\" class=\"data row0 col2\" >0.28378</td>\n",
       "            </tr>\n",
       "            <tr>\n",
       "                        <th id=\"T_d49f45a4_08ce_11ec_b317_02420a395b13level0_row1\" class=\"row_heading level0 row1\" >1</th>\n",
       "                        <td id=\"T_d49f45a4_08ce_11ec_b317_02420a395b13row1_col0\" class=\"data row1 col0\" >DecisionTreeClassifier</td>\n",
       "                        <td id=\"T_d49f45a4_08ce_11ec_b317_02420a395b13row1_col1\" class=\"data row1 col1\" >{'random_state': 123, 'class_weight': 'balanced', 'max_depth': 2}</td>\n",
       "                        <td id=\"T_d49f45a4_08ce_11ec_b317_02420a395b13row1_col2\" class=\"data row1 col2\" >0.372474</td>\n",
       "            </tr>\n",
       "            <tr>\n",
       "                        <th id=\"T_d49f45a4_08ce_11ec_b317_02420a395b13level0_row2\" class=\"row_heading level0 row2\" >2</th>\n",
       "                        <td id=\"T_d49f45a4_08ce_11ec_b317_02420a395b13row2_col0\" class=\"data row2 col0\" >DecisionTreeClassifier</td>\n",
       "                        <td id=\"T_d49f45a4_08ce_11ec_b317_02420a395b13row2_col1\" class=\"data row2 col1\" >{'random_state': 123, 'class_weight': 'balanced', 'max_depth': 3}</td>\n",
       "                        <td id=\"T_d49f45a4_08ce_11ec_b317_02420a395b13row2_col2\" class=\"data row2 col2\" >0.372474</td>\n",
       "            </tr>\n",
       "            <tr>\n",
       "                        <th id=\"T_d49f45a4_08ce_11ec_b317_02420a395b13level0_row3\" class=\"row_heading level0 row3\" >3</th>\n",
       "                        <td id=\"T_d49f45a4_08ce_11ec_b317_02420a395b13row3_col0\" class=\"data row3 col0\" >DecisionTreeClassifier</td>\n",
       "                        <td id=\"T_d49f45a4_08ce_11ec_b317_02420a395b13row3_col1\" class=\"data row3 col1\" >{'random_state': 123, 'class_weight': 'balanced', 'max_depth': 4}</td>\n",
       "                        <td id=\"T_d49f45a4_08ce_11ec_b317_02420a395b13row3_col2\" class=\"data row3 col2\" >0.430859</td>\n",
       "            </tr>\n",
       "            <tr>\n",
       "                        <th id=\"T_d49f45a4_08ce_11ec_b317_02420a395b13level0_row4\" class=\"row_heading level0 row4\" >4</th>\n",
       "                        <td id=\"T_d49f45a4_08ce_11ec_b317_02420a395b13row4_col0\" class=\"data row4 col0\" >DecisionTreeClassifier</td>\n",
       "                        <td id=\"T_d49f45a4_08ce_11ec_b317_02420a395b13row4_col1\" class=\"data row4 col1\" >{'random_state': 123, 'class_weight': 'balanced', 'max_depth': 5}</td>\n",
       "                        <td id=\"T_d49f45a4_08ce_11ec_b317_02420a395b13row4_col2\" class=\"data row4 col2\" >0.434067</td>\n",
       "            </tr>\n",
       "            <tr>\n",
       "                        <th id=\"T_d49f45a4_08ce_11ec_b317_02420a395b13level0_row5\" class=\"row_heading level0 row5\" >5</th>\n",
       "                        <td id=\"T_d49f45a4_08ce_11ec_b317_02420a395b13row5_col0\" class=\"data row5 col0\" >DecisionTreeClassifier</td>\n",
       "                        <td id=\"T_d49f45a4_08ce_11ec_b317_02420a395b13row5_col1\" class=\"data row5 col1\" >{'random_state': 123, 'class_weight': 'balanced', 'max_depth': 6}</td>\n",
       "                        <td id=\"T_d49f45a4_08ce_11ec_b317_02420a395b13row5_col2\" class=\"data row5 col2\" >0.474584</td>\n",
       "            </tr>\n",
       "            <tr>\n",
       "                        <th id=\"T_d49f45a4_08ce_11ec_b317_02420a395b13level0_row6\" class=\"row_heading level0 row6\" >6</th>\n",
       "                        <td id=\"T_d49f45a4_08ce_11ec_b317_02420a395b13row6_col0\" class=\"data row6 col0\" >DecisionTreeClassifier</td>\n",
       "                        <td id=\"T_d49f45a4_08ce_11ec_b317_02420a395b13row6_col1\" class=\"data row6 col1\" >{'random_state': 123, 'class_weight': 'balanced', 'max_depth': 7}</td>\n",
       "                        <td id=\"T_d49f45a4_08ce_11ec_b317_02420a395b13row6_col2\" class=\"data row6 col2\" >0.507188</td>\n",
       "            </tr>\n",
       "            <tr>\n",
       "                        <th id=\"T_d49f45a4_08ce_11ec_b317_02420a395b13level0_row7\" class=\"row_heading level0 row7\" >7</th>\n",
       "                        <td id=\"T_d49f45a4_08ce_11ec_b317_02420a395b13row7_col0\" class=\"data row7 col0\" >DecisionTreeClassifier</td>\n",
       "                        <td id=\"T_d49f45a4_08ce_11ec_b317_02420a395b13row7_col1\" class=\"data row7 col1\" >{'random_state': 123, 'class_weight': 'balanced', 'max_depth': 8}</td>\n",
       "                        <td id=\"T_d49f45a4_08ce_11ec_b317_02420a395b13row7_col2\" class=\"data row7 col2\" >0.536114</td>\n",
       "            </tr>\n",
       "            <tr>\n",
       "                        <th id=\"T_d49f45a4_08ce_11ec_b317_02420a395b13level0_row8\" class=\"row_heading level0 row8\" >8</th>\n",
       "                        <td id=\"T_d49f45a4_08ce_11ec_b317_02420a395b13row8_col0\" class=\"data row8 col0\" >DecisionTreeClassifier</td>\n",
       "                        <td id=\"T_d49f45a4_08ce_11ec_b317_02420a395b13row8_col1\" class=\"data row8 col1\" >{'random_state': 123, 'class_weight': 'balanced', 'max_depth': 9}</td>\n",
       "                        <td id=\"T_d49f45a4_08ce_11ec_b317_02420a395b13row8_col2\" class=\"data row8 col2\" >0.557738</td>\n",
       "            </tr>\n",
       "            <tr>\n",
       "                        <th id=\"T_d49f45a4_08ce_11ec_b317_02420a395b13level0_row9\" class=\"row_heading level0 row9\" >9</th>\n",
       "                        <td id=\"T_d49f45a4_08ce_11ec_b317_02420a395b13row9_col0\" class=\"data row9 col0\" >DecisionTreeClassifier</td>\n",
       "                        <td id=\"T_d49f45a4_08ce_11ec_b317_02420a395b13row9_col1\" class=\"data row9 col1\" >{'random_state': 123, 'class_weight': 'balanced', 'max_depth': 10}</td>\n",
       "                        <td id=\"T_d49f45a4_08ce_11ec_b317_02420a395b13row9_col2\" class=\"data row9 col2\" >0.554817</td>\n",
       "            </tr>\n",
       "    </tbody></table>"
      ],
      "text/plain": [
       "<pandas.io.formats.style.Styler at 0x7f60fbf43150>"
      ]
     },
     "execution_count": 21,
     "metadata": {
     },
     "output_type": "execute_result"
    }
   ],
   "source": [
    "pd.DataFrame(results_dtc).style.highlight_max(color = 'lightgreen', axis = 0)"
   ]
  },
  {
   "cell_type": "markdown",
   "metadata": {
    "collapsed": false
   },
   "source": [
    "Лучше чем отстой"
   ]
  },
  {
   "cell_type": "markdown",
   "metadata": {
    "collapsed": false
   },
   "source": [
    "**Stochastic Gradient Descent Classifier**"
   ]
  },
  {
   "cell_type": "code",
   "execution_count": 22,
   "metadata": {
    "collapsed": false
   },
   "outputs": [
    {
     "name": "stdout",
     "output_type": "stream",
     "text": [
      "Stochastic Gradient Descent Classifier: 0.7842086459449803\n"
     ]
    }
   ],
   "source": [
    "model = SGDClassifier(alpha=1e-05, penalty='l1', random_state=123) \n",
    "model.fit(train_X, target_train)\n",
    "predictions = model.predict(test_X)\n",
    "\n",
    "f1 = f1_score(target_test, predictions)\n",
    "print('Stochastic Gradient Descent Classifier:', f1)"
   ]
  },
  {
   "cell_type": "markdown",
   "metadata": {
    "collapsed": false
   },
   "source": [
    "## Выводы"
   ]
  },
  {
   "cell_type": "markdown",
   "metadata": {
    "collapsed": false
   },
   "source": [
    "Во время проекта:\n",
    "\n",
    "1) изучили и подготовили данные:\n",
    "\n",
    " - посмотрели общую информацию о данных\n",
    " - убедились, что пропуски отсутствуют\n",
    " - провели предобработку текста (удалили лишние символы, убрали стоп-слова)\n",
    "\n",
    "2) обучили следующие модели: LogisticRegression, RandomForestClassifier, DecisionTreeClassifier и Stochastic Gradient Descent Classifier. Только модель LogisticRegression и Stochastic Gradient Descent Classifier справилась с поставленной задачей - достичь метрику качества F1 не меньше 0.75.\n",
    "\n",
    "Интересно, что такие модели как RandomForestClassifier и DecisionTreeClassifier в этой задаче показали гораздo хуже результат нежели LogisticRegression и Stochastic Gradient Descent Classifier. К тому же, настройка гиперпараметров значительно ухудшила работу этих моделей. Также стоит отметить, что эти модели обучаются гораздо дольше.\n",
    "\n",
    "Результат: как наилучшую модель для классификации комментариев можно рекомендовать модель Stochastic Gradient Descent Classifier с гиперпараметрами alpha=1e-05, penalty='l1', которая дает результат F1 = 0.78."
   ]
  },
  {
   "cell_type": "markdown",
   "metadata": {
    "collapsed": false
   },
   "source": [
    "## Чек-лист проверки"
   ]
  },
  {
   "cell_type": "markdown",
   "metadata": {
    "collapsed": false
   },
   "source": [
    "- [x]  Jupyter Notebook открыт\n",
    "- [ ]  Весь код выполняется без ошибок\n",
    "- [ ]  Ячейки с кодом расположены в порядке исполнения\n",
    "- [ ]  Данные загружены и подготовлены\n",
    "- [ ]  Модели обучены\n",
    "- [ ]  Значение метрики *F1* не меньше 0.75\n",
    "- [ ]  Выводы написаны"
   ]
  }
 ],
 "metadata": {
  "ExecuteTimeLog": [
   {
    "duration": 3396,
    "start_time": "2021-08-27T12:56:29.869Z"
   },
   {
    "duration": 1636,
    "start_time": "2021-08-27T13:02:16.472Z"
   },
   {
    "duration": 798,
    "start_time": "2021-08-27T13:04:36.401Z"
   },
   {
    "duration": 822,
    "start_time": "2021-08-27T13:05:47.123Z"
   },
   {
    "duration": 214,
    "start_time": "2021-08-27T13:12:19.719Z"
   },
   {
    "duration": 227,
    "start_time": "2021-08-27T13:12:42.665Z"
   },
   {
    "duration": 278,
    "start_time": "2021-08-27T13:12:50.204Z"
   },
   {
    "duration": 203,
    "start_time": "2021-08-27T13:13:04.184Z"
   },
   {
    "duration": 216,
    "start_time": "2021-08-27T13:13:24.006Z"
   },
   {
    "duration": 1843,
    "start_time": "2021-08-27T13:27:51.662Z"
   },
   {
    "duration": 2929,
    "start_time": "2021-08-27T13:30:11.897Z"
   },
   {
    "duration": 33967,
    "start_time": "2021-08-27T13:39:23.303Z"
   },
   {
    "duration": 51228,
    "start_time": "2021-08-27T13:44:16.261Z"
   },
   {
    "duration": 6,
    "start_time": "2021-08-27T13:50:29.287Z"
   },
   {
    "duration": 33,
    "start_time": "2021-08-27T13:54:20.155Z"
   },
   {
    "duration": 5,
    "start_time": "2021-08-27T13:55:57.052Z"
   },
   {
    "duration": 5845,
    "start_time": "2021-08-27T14:00:32.117Z"
   },
   {
    "duration": 7584,
    "start_time": "2021-08-27T14:00:39.485Z"
   },
   {
    "duration": 14188,
    "start_time": "2021-08-27T14:11:21.556Z"
   },
   {
    "duration": 14252,
    "start_time": "2021-08-27T14:12:31.190Z"
   },
   {
    "duration": 14370,
    "start_time": "2021-08-27T14:15:16.078Z"
   },
   {
    "duration": 9505,
    "start_time": "2021-08-27T14:16:46.245Z"
   },
   {
    "duration": 67,
    "start_time": "2021-08-27T14:19:13.110Z"
   },
   {
    "duration": 63,
    "start_time": "2021-08-27T14:19:14.648Z"
   },
   {
    "duration": 5,
    "start_time": "2021-08-27T14:19:16.915Z"
   },
   {
    "duration": 28,
    "start_time": "2021-08-27T14:19:20.650Z"
   },
   {
    "duration": 5,
    "start_time": "2021-08-27T14:19:21.919Z"
   },
   {
    "duration": 445,
    "start_time": "2021-08-27T14:19:28.651Z"
   },
   {
    "duration": 35,
    "start_time": "2021-08-27T14:20:51.026Z"
   },
   {
    "duration": 82,
    "start_time": "2021-08-27T14:20:51.738Z"
   },
   {
    "duration": 5,
    "start_time": "2021-08-27T14:20:52.394Z"
   },
   {
    "duration": 1130,
    "start_time": "2021-08-27T14:20:54.053Z"
   },
   {
    "duration": 6213,
    "start_time": "2021-08-27T14:20:56.949Z"
   },
   {
    "duration": 12376,
    "start_time": "2021-08-27T14:21:09.009Z"
   },
   {
    "duration": 14440,
    "start_time": "2021-08-27T14:21:26.322Z"
   },
   {
    "duration": 3016,
    "start_time": "2021-08-27T14:22:41.790Z"
   },
   {
    "duration": 1500,
    "start_time": "2021-08-27T14:22:44.809Z"
   },
   {
    "duration": 760,
    "start_time": "2021-08-27T14:22:46.313Z"
   },
   {
    "duration": 237,
    "start_time": "2021-08-27T14:22:47.076Z"
   },
   {
    "duration": 1850,
    "start_time": "2021-08-27T14:22:47.316Z"
   },
   {
    "duration": 3042,
    "start_time": "2021-08-27T14:22:49.169Z"
   },
   {
    "duration": 32932,
    "start_time": "2021-08-27T14:22:52.213Z"
   },
   {
    "duration": 94,
    "start_time": "2021-08-27T14:23:25.150Z"
   },
   {
    "duration": 77,
    "start_time": "2021-08-27T14:23:25.246Z"
   },
   {
    "duration": 4,
    "start_time": "2021-08-27T14:23:25.326Z"
   },
   {
    "duration": 1093,
    "start_time": "2021-08-27T14:23:25.333Z"
   },
   {
    "duration": 6539,
    "start_time": "2021-08-27T14:23:26.429Z"
   },
   {
    "duration": 7943,
    "start_time": "2021-08-27T14:23:32.970Z"
   },
   {
    "duration": 14039,
    "start_time": "2021-08-27T14:23:40.915Z"
   },
   {
    "duration": 77524,
    "start_time": "2021-08-27T14:25:47.100Z"
   },
   {
    "duration": 909,
    "start_time": "2021-08-27T14:27:53.480Z"
   },
   {
    "duration": 49310,
    "start_time": "2021-08-27T14:29:06.124Z"
   },
   {
    "duration": 22,
    "start_time": "2021-08-27T14:31:48.370Z"
   },
   {
    "duration": 2945,
    "start_time": "2021-08-27T14:37:36.508Z"
   },
   {
    "duration": 1743,
    "start_time": "2021-08-27T14:37:39.456Z"
   },
   {
    "duration": 779,
    "start_time": "2021-08-27T14:37:41.205Z"
   },
   {
    "duration": 241,
    "start_time": "2021-08-27T14:37:41.987Z"
   },
   {
    "duration": 1903,
    "start_time": "2021-08-27T14:37:42.232Z"
   },
   {
    "duration": 2972,
    "start_time": "2021-08-27T14:37:44.138Z"
   },
   {
    "duration": 33193,
    "start_time": "2021-08-27T14:37:47.116Z"
   },
   {
    "duration": 110,
    "start_time": "2021-08-27T14:38:20.312Z"
   },
   {
    "duration": 79,
    "start_time": "2021-08-27T14:38:20.426Z"
   },
   {
    "duration": 7,
    "start_time": "2021-08-27T14:38:20.508Z"
   },
   {
    "duration": 1246,
    "start_time": "2021-08-27T14:38:20.517Z"
   },
   {
    "duration": 6389,
    "start_time": "2021-08-27T14:38:21.765Z"
   },
   {
    "duration": 7989,
    "start_time": "2021-08-27T14:38:28.156Z"
   },
   {
    "duration": 14117,
    "start_time": "2021-08-27T14:38:36.147Z"
   },
   {
    "duration": 76444,
    "start_time": "2021-08-27T14:38:50.266Z"
   },
   {
    "duration": 951,
    "start_time": "2021-08-27T14:40:06.713Z"
   },
   {
    "duration": 53895,
    "start_time": "2021-08-27T14:40:07.667Z"
   },
   {
    "duration": 23,
    "start_time": "2021-08-27T14:41:01.564Z"
   },
   {
    "duration": 1055,
    "start_time": "2021-08-27T14:41:01.590Z"
   },
   {
    "duration": 450,
    "start_time": "2021-08-27T14:42:16.914Z"
   },
   {
    "duration": 74,
    "start_time": "2021-08-27T14:42:47.100Z"
   },
   {
    "duration": 3097,
    "start_time": "2021-08-28T16:40:26.364Z"
   },
   {
    "duration": 1503,
    "start_time": "2021-08-28T16:40:29.463Z"
   },
   {
    "duration": 780,
    "start_time": "2021-08-28T16:40:30.969Z"
   },
   {
    "duration": 183,
    "start_time": "2021-08-28T16:40:31.752Z"
   },
   {
    "duration": 1596,
    "start_time": "2021-08-28T16:40:31.941Z"
   },
   {
    "duration": 2593,
    "start_time": "2021-08-28T16:40:33.540Z"
   },
   {
    "duration": 24589,
    "start_time": "2021-08-28T16:40:36.140Z"
   },
   {
    "duration": 92,
    "start_time": "2021-08-28T16:41:00.732Z"
   },
   {
    "duration": 90,
    "start_time": "2021-08-28T16:41:00.827Z"
   },
   {
    "duration": 5,
    "start_time": "2021-08-28T16:41:00.919Z"
   },
   {
    "duration": 58,
    "start_time": "2021-08-28T16:41:00.942Z"
   },
   {
    "duration": 5105,
    "start_time": "2021-08-28T16:41:01.002Z"
   },
   {
    "duration": 6594,
    "start_time": "2021-08-28T16:41:06.109Z"
   },
   {
    "duration": 14422,
    "start_time": "2021-08-28T16:41:12.706Z"
   },
   {
    "duration": 66496,
    "start_time": "2021-08-28T16:41:27.130Z"
   },
   {
    "duration": 748,
    "start_time": "2021-08-28T16:42:33.629Z"
   },
   {
    "duration": 45341,
    "start_time": "2021-08-28T16:42:34.380Z"
   },
   {
    "duration": 20,
    "start_time": "2021-08-28T16:43:19.723Z"
   },
   {
    "duration": 1095,
    "start_time": "2021-08-28T16:43:19.747Z"
   },
   {
    "duration": 2849,
    "start_time": "2021-08-28T16:44:00.267Z"
   },
   {
    "duration": 1558,
    "start_time": "2021-08-28T16:44:03.119Z"
   },
   {
    "duration": 877,
    "start_time": "2021-08-28T16:44:04.680Z"
   },
   {
    "duration": 196,
    "start_time": "2021-08-28T16:44:05.560Z"
   },
   {
    "duration": 1640,
    "start_time": "2021-08-28T16:44:05.758Z"
   },
   {
    "duration": 2644,
    "start_time": "2021-08-28T16:44:07.400Z"
   },
   {
    "duration": 25336,
    "start_time": "2021-08-28T16:44:10.047Z"
   },
   {
    "duration": 100,
    "start_time": "2021-08-28T16:44:35.386Z"
   },
   {
    "duration": 85,
    "start_time": "2021-08-28T16:44:35.489Z"
   },
   {
    "duration": 6,
    "start_time": "2021-08-28T16:44:35.576Z"
   },
   {
    "duration": 1127,
    "start_time": "2021-08-28T16:44:35.585Z"
   },
   {
    "duration": 6391,
    "start_time": "2021-08-28T16:44:36.714Z"
   },
   {
    "duration": 7360,
    "start_time": "2021-08-28T16:44:43.108Z"
   },
   {
    "duration": 14083,
    "start_time": "2021-08-28T16:44:50.470Z"
   },
   {
    "duration": 78022,
    "start_time": "2021-08-28T16:45:04.556Z"
   },
   {
    "duration": 723,
    "start_time": "2021-08-28T16:46:22.581Z"
   },
   {
    "duration": 47083,
    "start_time": "2021-08-28T16:46:23.308Z"
   },
   {
    "duration": 18,
    "start_time": "2021-08-28T16:47:10.393Z"
   },
   {
    "duration": 1107,
    "start_time": "2021-08-28T16:47:10.413Z"
   },
   {
    "duration": 4036,
    "start_time": "2021-08-29T12:42:09.266Z"
   },
   {
    "duration": 2090,
    "start_time": "2021-08-29T12:42:13.305Z"
   },
   {
    "duration": 835,
    "start_time": "2021-08-29T12:42:15.399Z"
   },
   {
    "duration": 266,
    "start_time": "2021-08-29T12:42:16.237Z"
   },
   {
    "duration": 2051,
    "start_time": "2021-08-29T12:42:16.506Z"
   },
   {
    "duration": 3175,
    "start_time": "2021-08-29T12:42:18.559Z"
   },
   {
    "duration": 35037,
    "start_time": "2021-08-29T12:42:21.737Z"
   },
   {
    "duration": 96,
    "start_time": "2021-08-29T12:42:56.778Z"
   },
   {
    "duration": 62,
    "start_time": "2021-08-29T12:42:56.877Z"
   },
   {
    "duration": 26,
    "start_time": "2021-08-29T12:42:56.942Z"
   },
   {
    "duration": 1084,
    "start_time": "2021-08-29T12:42:56.971Z"
   },
   {
    "duration": 6889,
    "start_time": "2021-08-29T12:42:58.057Z"
   },
   {
    "duration": 8726,
    "start_time": "2021-08-29T12:43:04.949Z"
   },
   {
    "duration": 16416,
    "start_time": "2021-08-29T12:43:13.677Z"
   },
   {
    "duration": 4,
    "start_time": "2021-08-29T12:43:30.096Z"
   },
   {
    "duration": 13,
    "start_time": "2021-08-29T12:43:30.103Z"
   },
   {
    "duration": 14,
    "start_time": "2021-08-29T12:43:30.119Z"
   },
   {
    "duration": 693,
    "start_time": "2021-08-29T12:43:30.135Z"
   },
   {
    "duration": 3,
    "start_time": "2021-08-29T12:43:30.830Z"
   },
   {
    "duration": 53252,
    "start_time": "2021-08-29T12:43:30.836Z"
   },
   {
    "duration": 695,
    "start_time": "2021-08-29T12:44:24.091Z"
   },
   {
    "duration": 1040,
    "start_time": "2021-08-29T12:44:24.789Z"
   },
   {
    "duration": 5,
    "start_time": "2021-08-29T12:45:30.672Z"
   },
   {
    "duration": 532,
    "start_time": "2021-08-29T12:45:33.467Z"
   },
   {
    "duration": 4,
    "start_time": "2021-08-29T12:46:00.665Z"
   },
   {
    "duration": 677,
    "start_time": "2021-08-29T12:46:02.057Z"
   },
   {
    "duration": 5,
    "start_time": "2021-08-29T12:46:17.080Z"
   },
   {
    "duration": 4,
    "start_time": "2021-08-29T12:46:18.632Z"
   },
   {
    "duration": 1283896,
    "start_time": "2021-08-29T12:46:19.719Z"
   },
   {
    "duration": 3368,
    "start_time": "2021-08-29T13:12:06.602Z"
   },
   {
    "duration": 1670,
    "start_time": "2021-08-29T13:12:09.978Z"
   },
   {
    "duration": 867,
    "start_time": "2021-08-29T13:12:11.651Z"
   },
   {
    "duration": 267,
    "start_time": "2021-08-29T13:12:12.521Z"
   },
   {
    "duration": 2140,
    "start_time": "2021-08-29T13:12:12.792Z"
   },
   {
    "duration": 3514,
    "start_time": "2021-08-29T13:12:14.935Z"
   },
   {
    "duration": 36231,
    "start_time": "2021-08-29T13:12:18.451Z"
   },
   {
    "duration": 107,
    "start_time": "2021-08-29T13:12:54.688Z"
   },
   {
    "duration": 80,
    "start_time": "2021-08-29T13:12:54.799Z"
   },
   {
    "duration": 5,
    "start_time": "2021-08-29T13:12:54.883Z"
   },
   {
    "duration": 1152,
    "start_time": "2021-08-29T13:12:54.891Z"
   },
   {
    "duration": 7247,
    "start_time": "2021-08-29T13:12:56.045Z"
   },
   {
    "duration": 9034,
    "start_time": "2021-08-29T13:13:03.294Z"
   },
   {
    "duration": 14036,
    "start_time": "2021-08-29T13:13:12.330Z"
   },
   {
    "duration": 83735,
    "start_time": "2021-08-29T13:13:26.369Z"
   },
   {
    "duration": 3,
    "start_time": "2021-08-29T13:14:50.107Z"
   },
   {
    "duration": 8,
    "start_time": "2021-08-29T13:14:50.112Z"
   },
   {
    "duration": 7,
    "start_time": "2021-08-29T13:14:50.122Z"
   },
   {
    "duration": 3369,
    "start_time": "2021-08-29T13:16:29.562Z"
   },
   {
    "duration": 1710,
    "start_time": "2021-08-29T13:16:32.934Z"
   },
   {
    "duration": 878,
    "start_time": "2021-08-29T13:16:34.650Z"
   },
   {
    "duration": 245,
    "start_time": "2021-08-29T13:16:35.530Z"
   },
   {
    "duration": 2179,
    "start_time": "2021-08-29T13:16:35.778Z"
   },
   {
    "duration": 3326,
    "start_time": "2021-08-29T13:16:37.967Z"
   },
   {
    "duration": 36457,
    "start_time": "2021-08-29T13:16:41.297Z"
   },
   {
    "duration": 97,
    "start_time": "2021-08-29T13:17:17.757Z"
   },
   {
    "duration": 66,
    "start_time": "2021-08-29T13:17:17.867Z"
   },
   {
    "duration": 4,
    "start_time": "2021-08-29T13:17:17.936Z"
   },
   {
    "duration": 1152,
    "start_time": "2021-08-29T13:17:17.968Z"
   },
   {
    "duration": 7560,
    "start_time": "2021-08-29T13:17:19.122Z"
   },
   {
    "duration": 9437,
    "start_time": "2021-08-29T13:17:26.685Z"
   },
   {
    "duration": 14555,
    "start_time": "2021-08-29T13:17:36.124Z"
   },
   {
    "duration": 82724,
    "start_time": "2021-08-29T13:17:50.681Z"
   },
   {
    "duration": 764,
    "start_time": "2021-08-29T13:19:13.407Z"
   },
   {
    "duration": 6,
    "start_time": "2021-08-29T13:19:14.173Z"
   },
   {
    "duration": 9,
    "start_time": "2021-08-29T13:19:14.182Z"
   },
   {
    "duration": 1288388,
    "start_time": "2021-08-29T13:19:14.193Z"
   },
   {
    "duration": 53910,
    "start_time": "2021-08-29T13:40:42.584Z"
   },
   {
    "duration": 25,
    "start_time": "2021-08-29T13:41:36.496Z"
   },
   {
    "duration": 992,
    "start_time": "2021-08-29T13:41:36.525Z"
   }
  ],
  "kernelspec": {
   "display_name": "Python 3 (system-wide)",
   "language": "python",
   "metadata": {
    "cocalc": {
     "description": "Python 3 programming language",
     "priority": 100,
     "url": "https://www.python.org/"
    }
   },
   "name": "python3",
   "resource_dir": "/ext/jupyter/kernels/python3"
  },
  "language_info": {
   "codemirror_mode": {
    "name": "ipython",
    "version": 3
   },
   "file_extension": ".py",
   "mimetype": "text/x-python",
   "name": "python",
   "nbconvert_exporter": "python",
   "pygments_lexer": "ipython3",
   "version": "3.7.8"
  },
  "toc": {
   "base_numbering": 1,
   "nav_menu": {
   },
   "number_sections": true,
   "sideBar": true,
   "skip_h1_title": true,
   "title_cell": "Содержание",
   "title_sidebar": "Contents",
   "toc_cell": true,
   "toc_position": {
    "height": "calc(100% - 180px)",
    "left": "10px",
    "top": "150px",
    "width": "302.391px"
   },
   "toc_section_display": true,
   "toc_window_display": false
  }
 },
 "nbformat": 4,
 "nbformat_minor": 4
}