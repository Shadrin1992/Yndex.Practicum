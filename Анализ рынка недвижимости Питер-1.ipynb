{
 "cells": [
  {
   "cell_type": "markdown",
   "metadata": {
    "collapsed": false,
    "toc": true
   },
   "source": [
    "<h1>Содержание<span class=\"tocSkip\"></span></h1>\n",
    "<div class=\"toc\"><ul class=\"toc-item\"><li><span><a href=\"#Изучение-данных-из-файла\" data-toc-modified-id=\"Изучение-данных-из-файла-1\"><span class=\"toc-item-num\">1&nbsp;&nbsp;</span>Изучение данных из файла</a></span><ul class=\"toc-item\"><li><span><a href=\"#Вывод\" data-toc-modified-id=\"Вывод-1.1\"><span class=\"toc-item-num\">1.1&nbsp;&nbsp;</span>Вывод</a></span></li></ul></li><li><span><a href=\"#Предобработка-данных\" data-toc-modified-id=\"Предобработка-данных-2\"><span class=\"toc-item-num\">2&nbsp;&nbsp;</span>Предобработка данных</a></span></li><li><span><a href=\"#Рассчёты-и-добавление-результатов-в-таблицу\" data-toc-modified-id=\"Рассчёты-и-добавление-результатов-в-таблицу-3\"><span class=\"toc-item-num\">3&nbsp;&nbsp;</span>Рассчёты и добавление результатов в таблицу</a></span></li><li><span><a href=\"#Исследовательский-анализ-данных\" data-toc-modified-id=\"Исследовательский-анализ-данных-4\"><span class=\"toc-item-num\">4&nbsp;&nbsp;</span>Исследовательский анализ данных</a></span></li><li><span><a href=\"#Общий-вывод\" data-toc-modified-id=\"Общий-вывод-5\"><span class=\"toc-item-num\">5&nbsp;&nbsp;</span>Общий вывод</a></span></li><li><span><a href=\"#Чек-лист-готовности-проекта\" data-toc-modified-id=\"Чек-лист-готовности-проекта-6\"><span class=\"toc-item-num\">6&nbsp;&nbsp;</span>Чек-лист готовности проекта</a></span></li></ul></div>"
   ]
  },
  {
   "cell_type": "markdown",
   "metadata": {
    "collapsed": false
   },
   "source": [
    "# Исследование объявлений о продаже квартир\n",
    "\n",
    "В вашем распоряжении данные сервиса Яндекс.Недвижимость — архив объявлений о продаже квартир в Санкт-Петербурге и соседних населённых пунктах за несколько лет. Нужно научиться определять рыночную стоимость объектов недвижимости. Ваша задача — установить параметры. Это позволит построить автоматизированную систему: она отследит аномалии и мошенническую деятельность. \n",
    "\n",
    "По каждой квартире на продажу доступны два вида данных. Первые вписаны пользователем, вторые получены автоматически на основе картографических данных. Например, расстояние до центра, аэропорта, ближайшего парка и водоёма. "
   ]
  },
  {
   "cell_type": "markdown",
   "metadata": {
    "collapsed": false
   },
   "source": [
    "## Изучение данных из файла"
   ]
  },
  {
   "cell_type": "markdown",
   "metadata": {
    "collapsed": false
   },
   "source": [
    "<font size=\"4\"> A) Импортируем библиотеки</font>"
   ]
  },
  {
   "cell_type": "code",
   "execution_count": 1,
   "metadata": {
    "collapsed": false,
    "trusted": true
   },
   "outputs": [
   ],
   "source": [
    "import pandas as pd\n",
    "import numpy as np\n",
    "import matplotlib.pyplot as plt\n",
    "from datetime import datetime"
   ]
  },
  {
   "cell_type": "markdown",
   "metadata": {
    "collapsed": false
   },
   "source": [
    "<font size=\"4\"> B) Прочитаем датасет и выведем общую информацию</font>"
   ]
  },
  {
   "cell_type": "code",
   "execution_count": 2,
   "metadata": {
    "collapsed": false,
    "trusted": true
   },
   "outputs": [
    {
     "name": "stdout",
     "output_type": "stream",
     "text": [
      "<class 'pandas.core.frame.DataFrame'>\n",
      "RangeIndex: 23699 entries, 0 to 23698\n",
      "Data columns (total 22 columns):\n",
      "total_images            23699 non-null int64\n",
      "last_price              23699 non-null float64\n",
      "total_area              23699 non-null float64\n",
      "first_day_exposition    23699 non-null object\n",
      "rooms                   23699 non-null int64\n",
      "ceiling_height          14504 non-null float64\n",
      "floors_total            23613 non-null float64\n",
      "living_area             21796 non-null float64\n",
      "floor                   23699 non-null int64\n",
      "is_apartment            2775 non-null object\n",
      "studio                  23699 non-null bool\n",
      "open_plan               23699 non-null bool\n",
      "kitchen_area            21421 non-null float64\n",
      "balcony                 12180 non-null float64\n",
      "locality_name           23650 non-null object\n",
      "airports_nearest        18157 non-null float64\n",
      "cityCenters_nearest     18180 non-null float64\n",
      "parks_around3000        18181 non-null float64\n",
      "parks_nearest           8079 non-null float64\n",
      "ponds_around3000        18181 non-null float64\n",
      "ponds_nearest           9110 non-null float64\n",
      "days_exposition         20518 non-null float64\n",
      "dtypes: bool(2), float64(14), int64(3), object(3)\n",
      "memory usage: 3.7+ MB\n"
     ]
    }
   ],
   "source": [
    "pd.set_option('display.max_columns', None)\n",
    "pd.options.display.float_format = '{:,.2f}'.format\n",
    "df = pd.read_csv('/datasets/real_estate_data.csv', sep='\\t')\n",
    "df.info()"
   ]
  },
  {
   "cell_type": "markdown",
   "metadata": {
    "collapsed": false
   },
   "source": [
    "<font size=\"4\"> C) Посмотрим на таблицу и выведем статистику </font>"
   ]
  },
  {
   "cell_type": "code",
   "execution_count": 3,
   "metadata": {
    "collapsed": false,
    "scrolled": true,
    "trusted": true
   },
   "outputs": [
    {
     "data": {
      "text/html": [
       "<div>\n",
       "<style scoped>\n",
       "    .dataframe tbody tr th:only-of-type {\n",
       "        vertical-align: middle;\n",
       "    }\n",
       "\n",
       "    .dataframe tbody tr th {\n",
       "        vertical-align: top;\n",
       "    }\n",
       "\n",
       "    .dataframe thead th {\n",
       "        text-align: right;\n",
       "    }\n",
       "</style>\n",
       "<table border=\"1\" class=\"dataframe\">\n",
       "  <thead>\n",
       "    <tr style=\"text-align: right;\">\n",
       "      <th></th>\n",
       "      <th>total_images</th>\n",
       "      <th>last_price</th>\n",
       "      <th>total_area</th>\n",
       "      <th>first_day_exposition</th>\n",
       "      <th>rooms</th>\n",
       "      <th>ceiling_height</th>\n",
       "      <th>floors_total</th>\n",
       "      <th>living_area</th>\n",
       "      <th>floor</th>\n",
       "      <th>is_apartment</th>\n",
       "      <th>studio</th>\n",
       "      <th>open_plan</th>\n",
       "      <th>kitchen_area</th>\n",
       "      <th>balcony</th>\n",
       "      <th>locality_name</th>\n",
       "      <th>airports_nearest</th>\n",
       "      <th>cityCenters_nearest</th>\n",
       "      <th>parks_around3000</th>\n",
       "      <th>parks_nearest</th>\n",
       "      <th>ponds_around3000</th>\n",
       "      <th>ponds_nearest</th>\n",
       "      <th>days_exposition</th>\n",
       "    </tr>\n",
       "  </thead>\n",
       "  <tbody>\n",
       "    <tr>\n",
       "      <td>16558</td>\n",
       "      <td>6</td>\n",
       "      <td>2,200,000.00</td>\n",
       "      <td>73.00</td>\n",
       "      <td>2018-12-28T00:00:00</td>\n",
       "      <td>3</td>\n",
       "      <td>2.65</td>\n",
       "      <td>5.00</td>\n",
       "      <td>47.00</td>\n",
       "      <td>1</td>\n",
       "      <td>NaN</td>\n",
       "      <td>False</td>\n",
       "      <td>False</td>\n",
       "      <td>8.40</td>\n",
       "      <td>nan</td>\n",
       "      <td>поселок Котельский</td>\n",
       "      <td>nan</td>\n",
       "      <td>nan</td>\n",
       "      <td>nan</td>\n",
       "      <td>nan</td>\n",
       "      <td>nan</td>\n",
       "      <td>nan</td>\n",
       "      <td>nan</td>\n",
       "    </tr>\n",
       "    <tr>\n",
       "      <td>21051</td>\n",
       "      <td>1</td>\n",
       "      <td>4,178,000.00</td>\n",
       "      <td>49.00</td>\n",
       "      <td>2017-08-07T00:00:00</td>\n",
       "      <td>4</td>\n",
       "      <td>2.50</td>\n",
       "      <td>5.00</td>\n",
       "      <td>38.00</td>\n",
       "      <td>1</td>\n",
       "      <td>NaN</td>\n",
       "      <td>False</td>\n",
       "      <td>False</td>\n",
       "      <td>6.40</td>\n",
       "      <td>nan</td>\n",
       "      <td>Санкт-Петербург</td>\n",
       "      <td>11,455.00</td>\n",
       "      <td>15,821.00</td>\n",
       "      <td>0.00</td>\n",
       "      <td>nan</td>\n",
       "      <td>0.00</td>\n",
       "      <td>nan</td>\n",
       "      <td>169.00</td>\n",
       "    </tr>\n",
       "    <tr>\n",
       "      <td>6347</td>\n",
       "      <td>13</td>\n",
       "      <td>19,980,000.00</td>\n",
       "      <td>88.30</td>\n",
       "      <td>2018-08-31T00:00:00</td>\n",
       "      <td>3</td>\n",
       "      <td>2.80</td>\n",
       "      <td>24.00</td>\n",
       "      <td>53.40</td>\n",
       "      <td>5</td>\n",
       "      <td>NaN</td>\n",
       "      <td>False</td>\n",
       "      <td>False</td>\n",
       "      <td>13.10</td>\n",
       "      <td>nan</td>\n",
       "      <td>Санкт-Петербург</td>\n",
       "      <td>10,663.00</td>\n",
       "      <td>12,738.00</td>\n",
       "      <td>0.00</td>\n",
       "      <td>nan</td>\n",
       "      <td>0.00</td>\n",
       "      <td>nan</td>\n",
       "      <td>140.00</td>\n",
       "    </tr>\n",
       "    <tr>\n",
       "      <td>455</td>\n",
       "      <td>20</td>\n",
       "      <td>8,500,000.00</td>\n",
       "      <td>65.00</td>\n",
       "      <td>2019-04-24T00:00:00</td>\n",
       "      <td>3</td>\n",
       "      <td>2.55</td>\n",
       "      <td>7.00</td>\n",
       "      <td>43.00</td>\n",
       "      <td>2</td>\n",
       "      <td>NaN</td>\n",
       "      <td>False</td>\n",
       "      <td>False</td>\n",
       "      <td>7.50</td>\n",
       "      <td>nan</td>\n",
       "      <td>Санкт-Петербург</td>\n",
       "      <td>28,927.00</td>\n",
       "      <td>7,866.00</td>\n",
       "      <td>2.00</td>\n",
       "      <td>15.00</td>\n",
       "      <td>3.00</td>\n",
       "      <td>293.00</td>\n",
       "      <td>nan</td>\n",
       "    </tr>\n",
       "    <tr>\n",
       "      <td>15253</td>\n",
       "      <td>3</td>\n",
       "      <td>3,200,000.00</td>\n",
       "      <td>45.00</td>\n",
       "      <td>2017-06-21T00:00:00</td>\n",
       "      <td>2</td>\n",
       "      <td>2.50</td>\n",
       "      <td>5.00</td>\n",
       "      <td>28.00</td>\n",
       "      <td>4</td>\n",
       "      <td>NaN</td>\n",
       "      <td>False</td>\n",
       "      <td>False</td>\n",
       "      <td>6.00</td>\n",
       "      <td>1.00</td>\n",
       "      <td>Санкт-Петербург</td>\n",
       "      <td>42,523.00</td>\n",
       "      <td>8,973.00</td>\n",
       "      <td>2.00</td>\n",
       "      <td>511.00</td>\n",
       "      <td>0.00</td>\n",
       "      <td>nan</td>\n",
       "      <td>34.00</td>\n",
       "    </tr>\n",
       "    <tr>\n",
       "      <td>3475</td>\n",
       "      <td>8</td>\n",
       "      <td>5,800,000.00</td>\n",
       "      <td>46.80</td>\n",
       "      <td>2017-11-24T00:00:00</td>\n",
       "      <td>2</td>\n",
       "      <td>2.90</td>\n",
       "      <td>7.00</td>\n",
       "      <td>29.40</td>\n",
       "      <td>2</td>\n",
       "      <td>NaN</td>\n",
       "      <td>False</td>\n",
       "      <td>False</td>\n",
       "      <td>8.00</td>\n",
       "      <td>nan</td>\n",
       "      <td>Санкт-Петербург</td>\n",
       "      <td>28,474.00</td>\n",
       "      <td>7,413.00</td>\n",
       "      <td>1.00</td>\n",
       "      <td>287.00</td>\n",
       "      <td>2.00</td>\n",
       "      <td>656.00</td>\n",
       "      <td>89.00</td>\n",
       "    </tr>\n",
       "    <tr>\n",
       "      <td>955</td>\n",
       "      <td>12</td>\n",
       "      <td>11,100,000.00</td>\n",
       "      <td>95.00</td>\n",
       "      <td>2018-04-20T00:00:00</td>\n",
       "      <td>3</td>\n",
       "      <td>nan</td>\n",
       "      <td>10.00</td>\n",
       "      <td>53.00</td>\n",
       "      <td>6</td>\n",
       "      <td>NaN</td>\n",
       "      <td>False</td>\n",
       "      <td>False</td>\n",
       "      <td>13.00</td>\n",
       "      <td>nan</td>\n",
       "      <td>Санкт-Петербург</td>\n",
       "      <td>30,894.00</td>\n",
       "      <td>4,087.00</td>\n",
       "      <td>1.00</td>\n",
       "      <td>696.00</td>\n",
       "      <td>1.00</td>\n",
       "      <td>223.00</td>\n",
       "      <td>90.00</td>\n",
       "    </tr>\n",
       "    <tr>\n",
       "      <td>18864</td>\n",
       "      <td>15</td>\n",
       "      <td>5,350,000.00</td>\n",
       "      <td>77.60</td>\n",
       "      <td>2017-11-10T00:00:00</td>\n",
       "      <td>2</td>\n",
       "      <td>nan</td>\n",
       "      <td>3.00</td>\n",
       "      <td>50.80</td>\n",
       "      <td>2</td>\n",
       "      <td>NaN</td>\n",
       "      <td>False</td>\n",
       "      <td>False</td>\n",
       "      <td>8.40</td>\n",
       "      <td>nan</td>\n",
       "      <td>Кронштадт</td>\n",
       "      <td>68,338.00</td>\n",
       "      <td>50,064.00</td>\n",
       "      <td>1.00</td>\n",
       "      <td>228.00</td>\n",
       "      <td>3.00</td>\n",
       "      <td>184.00</td>\n",
       "      <td>35.00</td>\n",
       "    </tr>\n",
       "    <tr>\n",
       "      <td>22689</td>\n",
       "      <td>2</td>\n",
       "      <td>3,253,000.00</td>\n",
       "      <td>40.30</td>\n",
       "      <td>2018-08-09T00:00:00</td>\n",
       "      <td>1</td>\n",
       "      <td>nan</td>\n",
       "      <td>25.00</td>\n",
       "      <td>14.91</td>\n",
       "      <td>6</td>\n",
       "      <td>NaN</td>\n",
       "      <td>False</td>\n",
       "      <td>False</td>\n",
       "      <td>12.96</td>\n",
       "      <td>nan</td>\n",
       "      <td>Кудрово</td>\n",
       "      <td>nan</td>\n",
       "      <td>nan</td>\n",
       "      <td>nan</td>\n",
       "      <td>nan</td>\n",
       "      <td>nan</td>\n",
       "      <td>nan</td>\n",
       "      <td>27.00</td>\n",
       "    </tr>\n",
       "    <tr>\n",
       "      <td>20816</td>\n",
       "      <td>6</td>\n",
       "      <td>2,600,000.00</td>\n",
       "      <td>43.00</td>\n",
       "      <td>2018-03-26T00:00:00</td>\n",
       "      <td>1</td>\n",
       "      <td>2.85</td>\n",
       "      <td>11.00</td>\n",
       "      <td>18.00</td>\n",
       "      <td>8</td>\n",
       "      <td>NaN</td>\n",
       "      <td>False</td>\n",
       "      <td>False</td>\n",
       "      <td>11.00</td>\n",
       "      <td>2.00</td>\n",
       "      <td>поселок Романовка</td>\n",
       "      <td>nan</td>\n",
       "      <td>nan</td>\n",
       "      <td>nan</td>\n",
       "      <td>nan</td>\n",
       "      <td>nan</td>\n",
       "      <td>nan</td>\n",
       "      <td>198.00</td>\n",
       "    </tr>\n",
       "  </tbody>\n",
       "</table>\n",
       "</div>"
      ],
      "text/plain": [
       "       total_images    last_price  total_area first_day_exposition  rooms  \\\n",
       "16558             6  2,200,000.00       73.00  2018-12-28T00:00:00      3   \n",
       "21051             1  4,178,000.00       49.00  2017-08-07T00:00:00      4   \n",
       "6347             13 19,980,000.00       88.30  2018-08-31T00:00:00      3   \n",
       "455              20  8,500,000.00       65.00  2019-04-24T00:00:00      3   \n",
       "15253             3  3,200,000.00       45.00  2017-06-21T00:00:00      2   \n",
       "3475              8  5,800,000.00       46.80  2017-11-24T00:00:00      2   \n",
       "955              12 11,100,000.00       95.00  2018-04-20T00:00:00      3   \n",
       "18864            15  5,350,000.00       77.60  2017-11-10T00:00:00      2   \n",
       "22689             2  3,253,000.00       40.30  2018-08-09T00:00:00      1   \n",
       "20816             6  2,600,000.00       43.00  2018-03-26T00:00:00      1   \n",
       "\n",
       "       ceiling_height  floors_total  living_area  floor is_apartment  studio  \\\n",
       "16558            2.65          5.00        47.00      1          NaN   False   \n",
       "21051            2.50          5.00        38.00      1          NaN   False   \n",
       "6347             2.80         24.00        53.40      5          NaN   False   \n",
       "455              2.55          7.00        43.00      2          NaN   False   \n",
       "15253            2.50          5.00        28.00      4          NaN   False   \n",
       "3475             2.90          7.00        29.40      2          NaN   False   \n",
       "955               nan         10.00        53.00      6          NaN   False   \n",
       "18864             nan          3.00        50.80      2          NaN   False   \n",
       "22689             nan         25.00        14.91      6          NaN   False   \n",
       "20816            2.85         11.00        18.00      8          NaN   False   \n",
       "\n",
       "       open_plan  kitchen_area  balcony       locality_name  airports_nearest  \\\n",
       "16558      False          8.40      nan  поселок Котельский               nan   \n",
       "21051      False          6.40      nan     Санкт-Петербург         11,455.00   \n",
       "6347       False         13.10      nan     Санкт-Петербург         10,663.00   \n",
       "455        False          7.50      nan     Санкт-Петербург         28,927.00   \n",
       "15253      False          6.00     1.00     Санкт-Петербург         42,523.00   \n",
       "3475       False          8.00      nan     Санкт-Петербург         28,474.00   \n",
       "955        False         13.00      nan     Санкт-Петербург         30,894.00   \n",
       "18864      False          8.40      nan           Кронштадт         68,338.00   \n",
       "22689      False         12.96      nan             Кудрово               nan   \n",
       "20816      False         11.00     2.00   поселок Романовка               nan   \n",
       "\n",
       "       cityCenters_nearest  parks_around3000  parks_nearest  ponds_around3000  \\\n",
       "16558                  nan               nan            nan               nan   \n",
       "21051            15,821.00              0.00            nan              0.00   \n",
       "6347             12,738.00              0.00            nan              0.00   \n",
       "455               7,866.00              2.00          15.00              3.00   \n",
       "15253             8,973.00              2.00         511.00              0.00   \n",
       "3475              7,413.00              1.00         287.00              2.00   \n",
       "955               4,087.00              1.00         696.00              1.00   \n",
       "18864            50,064.00              1.00         228.00              3.00   \n",
       "22689                  nan               nan            nan               nan   \n",
       "20816                  nan               nan            nan               nan   \n",
       "\n",
       "       ponds_nearest  days_exposition  \n",
       "16558            nan              nan  \n",
       "21051            nan           169.00  \n",
       "6347             nan           140.00  \n",
       "455           293.00              nan  \n",
       "15253            nan            34.00  \n",
       "3475          656.00            89.00  \n",
       "955           223.00            90.00  \n",
       "18864         184.00            35.00  \n",
       "22689            nan            27.00  \n",
       "20816            nan           198.00  "
      ]
     },
     "execution_count": 3,
     "metadata": {
     },
     "output_type": "execute_result"
    }
   ],
   "source": [
    "df.sample(10)"
   ]
  },
  {
   "cell_type": "code",
   "execution_count": 4,
   "metadata": {
    "collapsed": false,
    "trusted": true
   },
   "outputs": [
    {
     "data": {
      "text/html": [
       "<div>\n",
       "<style scoped>\n",
       "    .dataframe tbody tr th:only-of-type {\n",
       "        vertical-align: middle;\n",
       "    }\n",
       "\n",
       "    .dataframe tbody tr th {\n",
       "        vertical-align: top;\n",
       "    }\n",
       "\n",
       "    .dataframe thead th {\n",
       "        text-align: right;\n",
       "    }\n",
       "</style>\n",
       "<table border=\"1\" class=\"dataframe\">\n",
       "  <thead>\n",
       "    <tr style=\"text-align: right;\">\n",
       "      <th></th>\n",
       "      <th>total_images</th>\n",
       "      <th>last_price</th>\n",
       "      <th>total_area</th>\n",
       "      <th>rooms</th>\n",
       "      <th>ceiling_height</th>\n",
       "      <th>floors_total</th>\n",
       "      <th>living_area</th>\n",
       "      <th>floor</th>\n",
       "      <th>kitchen_area</th>\n",
       "      <th>balcony</th>\n",
       "      <th>airports_nearest</th>\n",
       "      <th>cityCenters_nearest</th>\n",
       "      <th>parks_around3000</th>\n",
       "      <th>parks_nearest</th>\n",
       "      <th>ponds_around3000</th>\n",
       "      <th>ponds_nearest</th>\n",
       "      <th>days_exposition</th>\n",
       "    </tr>\n",
       "  </thead>\n",
       "  <tbody>\n",
       "    <tr>\n",
       "      <td>count</td>\n",
       "      <td>23,699.00</td>\n",
       "      <td>23,699.00</td>\n",
       "      <td>23,699.00</td>\n",
       "      <td>23,699.00</td>\n",
       "      <td>14,504.00</td>\n",
       "      <td>23,613.00</td>\n",
       "      <td>21,796.00</td>\n",
       "      <td>23,699.00</td>\n",
       "      <td>21,421.00</td>\n",
       "      <td>12,180.00</td>\n",
       "      <td>18,157.00</td>\n",
       "      <td>18,180.00</td>\n",
       "      <td>18,181.00</td>\n",
       "      <td>8,079.00</td>\n",
       "      <td>18,181.00</td>\n",
       "      <td>9,110.00</td>\n",
       "      <td>20,518.00</td>\n",
       "    </tr>\n",
       "    <tr>\n",
       "      <td>mean</td>\n",
       "      <td>9.86</td>\n",
       "      <td>6,541,548.77</td>\n",
       "      <td>60.35</td>\n",
       "      <td>2.07</td>\n",
       "      <td>2.77</td>\n",
       "      <td>10.67</td>\n",
       "      <td>34.46</td>\n",
       "      <td>5.89</td>\n",
       "      <td>10.57</td>\n",
       "      <td>1.15</td>\n",
       "      <td>28,793.67</td>\n",
       "      <td>14,191.28</td>\n",
       "      <td>0.61</td>\n",
       "      <td>490.80</td>\n",
       "      <td>0.77</td>\n",
       "      <td>517.98</td>\n",
       "      <td>180.89</td>\n",
       "    </tr>\n",
       "    <tr>\n",
       "      <td>std</td>\n",
       "      <td>5.68</td>\n",
       "      <td>10,887,013.27</td>\n",
       "      <td>35.65</td>\n",
       "      <td>1.08</td>\n",
       "      <td>1.26</td>\n",
       "      <td>6.60</td>\n",
       "      <td>22.03</td>\n",
       "      <td>4.89</td>\n",
       "      <td>5.91</td>\n",
       "      <td>1.07</td>\n",
       "      <td>12,630.88</td>\n",
       "      <td>8,608.39</td>\n",
       "      <td>0.80</td>\n",
       "      <td>342.32</td>\n",
       "      <td>0.94</td>\n",
       "      <td>277.72</td>\n",
       "      <td>219.73</td>\n",
       "    </tr>\n",
       "    <tr>\n",
       "      <td>min</td>\n",
       "      <td>0.00</td>\n",
       "      <td>12,190.00</td>\n",
       "      <td>12.00</td>\n",
       "      <td>0.00</td>\n",
       "      <td>1.00</td>\n",
       "      <td>1.00</td>\n",
       "      <td>2.00</td>\n",
       "      <td>1.00</td>\n",
       "      <td>1.30</td>\n",
       "      <td>0.00</td>\n",
       "      <td>0.00</td>\n",
       "      <td>181.00</td>\n",
       "      <td>0.00</td>\n",
       "      <td>1.00</td>\n",
       "      <td>0.00</td>\n",
       "      <td>13.00</td>\n",
       "      <td>1.00</td>\n",
       "    </tr>\n",
       "    <tr>\n",
       "      <td>25%</td>\n",
       "      <td>6.00</td>\n",
       "      <td>3,400,000.00</td>\n",
       "      <td>40.00</td>\n",
       "      <td>1.00</td>\n",
       "      <td>2.52</td>\n",
       "      <td>5.00</td>\n",
       "      <td>18.60</td>\n",
       "      <td>2.00</td>\n",
       "      <td>7.00</td>\n",
       "      <td>0.00</td>\n",
       "      <td>18,585.00</td>\n",
       "      <td>9,238.00</td>\n",
       "      <td>0.00</td>\n",
       "      <td>288.00</td>\n",
       "      <td>0.00</td>\n",
       "      <td>294.00</td>\n",
       "      <td>45.00</td>\n",
       "    </tr>\n",
       "    <tr>\n",
       "      <td>50%</td>\n",
       "      <td>9.00</td>\n",
       "      <td>4,650,000.00</td>\n",
       "      <td>52.00</td>\n",
       "      <td>2.00</td>\n",
       "      <td>2.65</td>\n",
       "      <td>9.00</td>\n",
       "      <td>30.00</td>\n",
       "      <td>4.00</td>\n",
       "      <td>9.10</td>\n",
       "      <td>1.00</td>\n",
       "      <td>26,726.00</td>\n",
       "      <td>13,098.50</td>\n",
       "      <td>0.00</td>\n",
       "      <td>455.00</td>\n",
       "      <td>1.00</td>\n",
       "      <td>502.00</td>\n",
       "      <td>95.00</td>\n",
       "    </tr>\n",
       "    <tr>\n",
       "      <td>75%</td>\n",
       "      <td>14.00</td>\n",
       "      <td>6,800,000.00</td>\n",
       "      <td>69.90</td>\n",
       "      <td>3.00</td>\n",
       "      <td>2.80</td>\n",
       "      <td>16.00</td>\n",
       "      <td>42.30</td>\n",
       "      <td>8.00</td>\n",
       "      <td>12.00</td>\n",
       "      <td>2.00</td>\n",
       "      <td>37,273.00</td>\n",
       "      <td>16,293.00</td>\n",
       "      <td>1.00</td>\n",
       "      <td>612.00</td>\n",
       "      <td>1.00</td>\n",
       "      <td>729.00</td>\n",
       "      <td>232.00</td>\n",
       "    </tr>\n",
       "    <tr>\n",
       "      <td>max</td>\n",
       "      <td>50.00</td>\n",
       "      <td>763,000,000.00</td>\n",
       "      <td>900.00</td>\n",
       "      <td>19.00</td>\n",
       "      <td>100.00</td>\n",
       "      <td>60.00</td>\n",
       "      <td>409.70</td>\n",
       "      <td>33.00</td>\n",
       "      <td>112.00</td>\n",
       "      <td>5.00</td>\n",
       "      <td>84,869.00</td>\n",
       "      <td>65,968.00</td>\n",
       "      <td>3.00</td>\n",
       "      <td>3,190.00</td>\n",
       "      <td>3.00</td>\n",
       "      <td>1,344.00</td>\n",
       "      <td>1,580.00</td>\n",
       "    </tr>\n",
       "  </tbody>\n",
       "</table>\n",
       "</div>"
      ],
      "text/plain": [
       "       total_images     last_price  total_area     rooms  ceiling_height  \\\n",
       "count     23,699.00      23,699.00   23,699.00 23,699.00       14,504.00   \n",
       "mean           9.86   6,541,548.77       60.35      2.07            2.77   \n",
       "std            5.68  10,887,013.27       35.65      1.08            1.26   \n",
       "min            0.00      12,190.00       12.00      0.00            1.00   \n",
       "25%            6.00   3,400,000.00       40.00      1.00            2.52   \n",
       "50%            9.00   4,650,000.00       52.00      2.00            2.65   \n",
       "75%           14.00   6,800,000.00       69.90      3.00            2.80   \n",
       "max           50.00 763,000,000.00      900.00     19.00          100.00   \n",
       "\n",
       "       floors_total  living_area     floor  kitchen_area   balcony  \\\n",
       "count     23,613.00    21,796.00 23,699.00     21,421.00 12,180.00   \n",
       "mean          10.67        34.46      5.89         10.57      1.15   \n",
       "std            6.60        22.03      4.89          5.91      1.07   \n",
       "min            1.00         2.00      1.00          1.30      0.00   \n",
       "25%            5.00        18.60      2.00          7.00      0.00   \n",
       "50%            9.00        30.00      4.00          9.10      1.00   \n",
       "75%           16.00        42.30      8.00         12.00      2.00   \n",
       "max           60.00       409.70     33.00        112.00      5.00   \n",
       "\n",
       "       airports_nearest  cityCenters_nearest  parks_around3000  parks_nearest  \\\n",
       "count         18,157.00            18,180.00         18,181.00       8,079.00   \n",
       "mean          28,793.67            14,191.28              0.61         490.80   \n",
       "std           12,630.88             8,608.39              0.80         342.32   \n",
       "min                0.00               181.00              0.00           1.00   \n",
       "25%           18,585.00             9,238.00              0.00         288.00   \n",
       "50%           26,726.00            13,098.50              0.00         455.00   \n",
       "75%           37,273.00            16,293.00              1.00         612.00   \n",
       "max           84,869.00            65,968.00              3.00       3,190.00   \n",
       "\n",
       "       ponds_around3000  ponds_nearest  days_exposition  \n",
       "count         18,181.00       9,110.00        20,518.00  \n",
       "mean               0.77         517.98           180.89  \n",
       "std                0.94         277.72           219.73  \n",
       "min                0.00          13.00             1.00  \n",
       "25%                0.00         294.00            45.00  \n",
       "50%                1.00         502.00            95.00  \n",
       "75%                1.00         729.00           232.00  \n",
       "max                3.00       1,344.00         1,580.00  "
      ]
     },
     "execution_count": 4,
     "metadata": {
     },
     "output_type": "execute_result"
    }
   ],
   "source": [
    "df.describe()"
   ]
  },
  {
   "cell_type": "markdown",
   "metadata": {
    "collapsed": false
   },
   "source": [
    "### Вывод"
   ]
  },
  {
   "cell_type": "markdown",
   "metadata": {
    "collapsed": false
   },
   "source": [
    "<font size=\"3\"> 1) Очень много пропущенных значений;  \n",
    "    2) Наименования столбцов неинформативны и различаются по регистру;  \n",
    "    3) Группировка столбцов - кошмар, не удобно смотреть;  \n",
    "    4) Не верные типы данных</font>"
   ]
  },
  {
   "cell_type": "markdown",
   "metadata": {
    "collapsed": false
   },
   "source": [
    "## Предобработка данных"
   ]
  },
  {
   "cell_type": "code",
   "execution_count": 5,
   "metadata": {
    "collapsed": false,
    "trusted": true
   },
   "outputs": [
    {
     "data": {
      "text/plain": [
       "Index(['total_images', 'last_price', 'total_area_m2', 'first_day_exposition',\n",
       "       'rooms_count', 'ceiling_height', 'floors_count', 'living_area_m2',\n",
       "       'floor_number', 'is_apartment', 'is_studio', 'is_open_plan',\n",
       "       'kitchen_area_m2', 'balconies_count', 'town_name', 'airports_nearest',\n",
       "       'city_centers_nearest', 'parks_around_3km', 'parks_nearest',\n",
       "       'ponds_around_3km', 'ponds_nearest', 'days_exposition'],\n",
       "      dtype='object')"
      ]
     },
     "execution_count": 5,
     "metadata": {
     },
     "output_type": "execute_result"
    }
   ],
   "source": [
    "#переименуем названия столбцов и уберем заглавные буквы\n",
    "new_columns = ['total_images',\n",
    "              'last_price',\n",
    "              'total_area_m2',\n",
    "              'first_day_exposition',\n",
    "              'rooms_count',\n",
    "              'ceiling_height',\n",
    "              'floors_count',\n",
    "              'living_area_m2',\n",
    "              'floor_number',\n",
    "              'is_apartment',\n",
    "              'is_studio',\n",
    "              'is_open_plan',\n",
    "              'kitchen_area_m2',\n",
    "              'balconies_count',\n",
    "              'town_name',\n",
    "              'airports_nearest',\n",
    "              'city_centers_nearest',\n",
    "              'parks_around_3km',\n",
    "              'parks_nearest',\n",
    "              'ponds_around_3km',\n",
    "              'ponds_nearest',\n",
    "              'days_exposition'\n",
    "              ]\n",
    "df.set_axis(new_columns, axis='columns', inplace=True)\n",
    "df.columns"
   ]
  },
  {
   "cell_type": "code",
   "execution_count": 6,
   "metadata": {
    "collapsed": false,
    "scrolled": true,
    "trusted": true
   },
   "outputs": [
    {
     "data": {
      "text/html": [
       "<div>\n",
       "<style scoped>\n",
       "    .dataframe tbody tr th:only-of-type {\n",
       "        vertical-align: middle;\n",
       "    }\n",
       "\n",
       "    .dataframe tbody tr th {\n",
       "        vertical-align: top;\n",
       "    }\n",
       "\n",
       "    .dataframe thead th {\n",
       "        text-align: right;\n",
       "    }\n",
       "</style>\n",
       "<table border=\"1\" class=\"dataframe\">\n",
       "  <thead>\n",
       "    <tr style=\"text-align: right;\">\n",
       "      <th></th>\n",
       "      <th>town_name</th>\n",
       "      <th>total_area_m2</th>\n",
       "      <th>living_area_m2</th>\n",
       "      <th>kitchen_area_m2</th>\n",
       "      <th>ceiling_height</th>\n",
       "      <th>rooms_count</th>\n",
       "      <th>balconies_count</th>\n",
       "      <th>floor_number</th>\n",
       "      <th>floors_count</th>\n",
       "      <th>is_apartment</th>\n",
       "      <th>is_studio</th>\n",
       "      <th>is_open_plan</th>\n",
       "      <th>total_images</th>\n",
       "      <th>last_price</th>\n",
       "      <th>first_day_exposition</th>\n",
       "      <th>days_exposition</th>\n",
       "      <th>city_centers_nearest</th>\n",
       "      <th>airports_nearest</th>\n",
       "      <th>parks_around_3km</th>\n",
       "      <th>parks_nearest</th>\n",
       "      <th>ponds_around_3km</th>\n",
       "      <th>ponds_nearest</th>\n",
       "    </tr>\n",
       "  </thead>\n",
       "  <tbody>\n",
       "    <tr>\n",
       "      <td>0</td>\n",
       "      <td>Санкт-Петербург</td>\n",
       "      <td>108.00</td>\n",
       "      <td>51.00</td>\n",
       "      <td>25.00</td>\n",
       "      <td>2.70</td>\n",
       "      <td>3</td>\n",
       "      <td>nan</td>\n",
       "      <td>8</td>\n",
       "      <td>16.00</td>\n",
       "      <td>NaN</td>\n",
       "      <td>False</td>\n",
       "      <td>False</td>\n",
       "      <td>20</td>\n",
       "      <td>13,000,000.00</td>\n",
       "      <td>2019-03-07T00:00:00</td>\n",
       "      <td>nan</td>\n",
       "      <td>16,028.00</td>\n",
       "      <td>18,863.00</td>\n",
       "      <td>1.00</td>\n",
       "      <td>482.00</td>\n",
       "      <td>2.00</td>\n",
       "      <td>755.00</td>\n",
       "    </tr>\n",
       "    <tr>\n",
       "      <td>1</td>\n",
       "      <td>посёлок Шушары</td>\n",
       "      <td>40.40</td>\n",
       "      <td>18.60</td>\n",
       "      <td>11.00</td>\n",
       "      <td>nan</td>\n",
       "      <td>1</td>\n",
       "      <td>2.00</td>\n",
       "      <td>1</td>\n",
       "      <td>11.00</td>\n",
       "      <td>NaN</td>\n",
       "      <td>False</td>\n",
       "      <td>False</td>\n",
       "      <td>7</td>\n",
       "      <td>3,350,000.00</td>\n",
       "      <td>2018-12-04T00:00:00</td>\n",
       "      <td>81.00</td>\n",
       "      <td>18,603.00</td>\n",
       "      <td>12,817.00</td>\n",
       "      <td>0.00</td>\n",
       "      <td>nan</td>\n",
       "      <td>0.00</td>\n",
       "      <td>nan</td>\n",
       "    </tr>\n",
       "    <tr>\n",
       "      <td>2</td>\n",
       "      <td>Санкт-Петербург</td>\n",
       "      <td>56.00</td>\n",
       "      <td>34.30</td>\n",
       "      <td>8.30</td>\n",
       "      <td>nan</td>\n",
       "      <td>2</td>\n",
       "      <td>0.00</td>\n",
       "      <td>4</td>\n",
       "      <td>5.00</td>\n",
       "      <td>NaN</td>\n",
       "      <td>False</td>\n",
       "      <td>False</td>\n",
       "      <td>10</td>\n",
       "      <td>5,196,000.00</td>\n",
       "      <td>2015-08-20T00:00:00</td>\n",
       "      <td>558.00</td>\n",
       "      <td>13,933.00</td>\n",
       "      <td>21,741.00</td>\n",
       "      <td>1.00</td>\n",
       "      <td>90.00</td>\n",
       "      <td>2.00</td>\n",
       "      <td>574.00</td>\n",
       "    </tr>\n",
       "    <tr>\n",
       "      <td>3</td>\n",
       "      <td>Санкт-Петербург</td>\n",
       "      <td>159.00</td>\n",
       "      <td>nan</td>\n",
       "      <td>nan</td>\n",
       "      <td>nan</td>\n",
       "      <td>3</td>\n",
       "      <td>0.00</td>\n",
       "      <td>9</td>\n",
       "      <td>14.00</td>\n",
       "      <td>NaN</td>\n",
       "      <td>False</td>\n",
       "      <td>False</td>\n",
       "      <td>0</td>\n",
       "      <td>64,900,000.00</td>\n",
       "      <td>2015-07-24T00:00:00</td>\n",
       "      <td>424.00</td>\n",
       "      <td>6,800.00</td>\n",
       "      <td>28,098.00</td>\n",
       "      <td>2.00</td>\n",
       "      <td>84.00</td>\n",
       "      <td>3.00</td>\n",
       "      <td>234.00</td>\n",
       "    </tr>\n",
       "    <tr>\n",
       "      <td>4</td>\n",
       "      <td>Санкт-Петербург</td>\n",
       "      <td>100.00</td>\n",
       "      <td>32.00</td>\n",
       "      <td>41.00</td>\n",
       "      <td>3.03</td>\n",
       "      <td>2</td>\n",
       "      <td>nan</td>\n",
       "      <td>13</td>\n",
       "      <td>14.00</td>\n",
       "      <td>NaN</td>\n",
       "      <td>False</td>\n",
       "      <td>False</td>\n",
       "      <td>2</td>\n",
       "      <td>10,000,000.00</td>\n",
       "      <td>2018-06-19T00:00:00</td>\n",
       "      <td>121.00</td>\n",
       "      <td>8,098.00</td>\n",
       "      <td>31,856.00</td>\n",
       "      <td>2.00</td>\n",
       "      <td>112.00</td>\n",
       "      <td>1.00</td>\n",
       "      <td>48.00</td>\n",
       "    </tr>\n",
       "  </tbody>\n",
       "</table>\n",
       "</div>"
      ],
      "text/plain": [
       "         town_name  total_area_m2  living_area_m2  kitchen_area_m2  \\\n",
       "0  Санкт-Петербург         108.00           51.00            25.00   \n",
       "1   посёлок Шушары          40.40           18.60            11.00   \n",
       "2  Санкт-Петербург          56.00           34.30             8.30   \n",
       "3  Санкт-Петербург         159.00             nan              nan   \n",
       "4  Санкт-Петербург         100.00           32.00            41.00   \n",
       "\n",
       "   ceiling_height  rooms_count  balconies_count  floor_number  floors_count  \\\n",
       "0            2.70            3              nan             8         16.00   \n",
       "1             nan            1             2.00             1         11.00   \n",
       "2             nan            2             0.00             4          5.00   \n",
       "3             nan            3             0.00             9         14.00   \n",
       "4            3.03            2              nan            13         14.00   \n",
       "\n",
       "  is_apartment  is_studio  is_open_plan  total_images    last_price  \\\n",
       "0          NaN      False         False            20 13,000,000.00   \n",
       "1          NaN      False         False             7  3,350,000.00   \n",
       "2          NaN      False         False            10  5,196,000.00   \n",
       "3          NaN      False         False             0 64,900,000.00   \n",
       "4          NaN      False         False             2 10,000,000.00   \n",
       "\n",
       "  first_day_exposition  days_exposition  city_centers_nearest  \\\n",
       "0  2019-03-07T00:00:00              nan             16,028.00   \n",
       "1  2018-12-04T00:00:00            81.00             18,603.00   \n",
       "2  2015-08-20T00:00:00           558.00             13,933.00   \n",
       "3  2015-07-24T00:00:00           424.00              6,800.00   \n",
       "4  2018-06-19T00:00:00           121.00              8,098.00   \n",
       "\n",
       "   airports_nearest  parks_around_3km  parks_nearest  ponds_around_3km  \\\n",
       "0         18,863.00              1.00         482.00              2.00   \n",
       "1         12,817.00              0.00            nan              0.00   \n",
       "2         21,741.00              1.00          90.00              2.00   \n",
       "3         28,098.00              2.00          84.00              3.00   \n",
       "4         31,856.00              2.00         112.00              1.00   \n",
       "\n",
       "   ponds_nearest  \n",
       "0         755.00  \n",
       "1            nan  \n",
       "2         574.00  \n",
       "3         234.00  \n",
       "4          48.00  "
      ]
     },
     "execution_count": 6,
     "metadata": {
     },
     "output_type": "execute_result"
    }
   ],
   "source": [
    "#выстроим столбцы в логическом порядке\n",
    "df = df[[\n",
    " 'town_name',  \n",
    " 'total_area_m2',\n",
    " 'living_area_m2',\n",
    " 'kitchen_area_m2',\n",
    " 'ceiling_height',\n",
    " 'rooms_count',\n",
    " 'balconies_count',\n",
    " 'floor_number',\n",
    " 'floors_count',\n",
    " 'is_apartment',\n",
    " 'is_studio',\n",
    " 'is_open_plan',  \n",
    " 'total_images',\n",
    " 'last_price',\n",
    " 'first_day_exposition',\n",
    " 'days_exposition',\n",
    " 'city_centers_nearest',\n",
    " 'airports_nearest',\n",
    " 'parks_around_3km',\n",
    " 'parks_nearest',\n",
    " 'ponds_around_3km',\n",
    " 'ponds_nearest'\n",
    "]]\n",
    "df.head()"
   ]
  },
  {
   "cell_type": "code",
   "execution_count": 7,
   "metadata": {
    "collapsed": false,
    "trusted": true
   },
   "outputs": [
    {
     "data": {
      "text/plain": [
       "365"
      ]
     },
     "execution_count": 7,
     "metadata": {
     },
     "output_type": "execute_result"
    }
   ],
   "source": [
    "#посмотрим количество значений в столбце с названием города\n",
    "len(df['town_name'].unique())"
   ]
  },
  {
   "cell_type": "code",
   "execution_count": 8,
   "metadata": {
    "collapsed": false,
    "trusted": true
   },
   "outputs": [
   ],
   "source": [
    "#приведем названия городов к нижнему регистру и заменим букву \"ё\" на \"е\"\n",
    "df['town_name'] = df['town_name'].str.lower()\n",
    "df['town_name'] = df['town_name'].str.replace('ё', 'е', regex=True)"
   ]
  },
  {
   "cell_type": "code",
   "execution_count": 9,
   "metadata": {
    "collapsed": false,
    "trusted": true
   },
   "outputs": [
    {
     "data": {
      "text/plain": [
       "331"
      ]
     },
     "execution_count": 9,
     "metadata": {
     },
     "output_type": "execute_result"
    }
   ],
   "source": [
    "#проверим количество значений после изменения\n",
    "len(df['town_name'].unique())"
   ]
  },
  {
   "cell_type": "code",
   "execution_count": 10,
   "metadata": {
    "collapsed": false,
    "trusted": true
   },
   "outputs": [
   ],
   "source": [
    "#убрали 34 дубля"
   ]
  },
  {
   "cell_type": "code",
   "execution_count": 11,
   "metadata": {
    "collapsed": false,
    "trusted": true
   },
   "outputs": [
    {
     "data": {
      "text/plain": [
       "49"
      ]
     },
     "execution_count": 11,
     "metadata": {
     },
     "output_type": "execute_result"
    }
   ],
   "source": [
    "#посмотрим пустые значения\n",
    "df['town_name'].isna().sum()"
   ]
  },
  {
   "cell_type": "code",
   "execution_count": 12,
   "metadata": {
    "collapsed": false,
    "trusted": true
   },
   "outputs": [
    {
     "data": {
      "text/plain": [
       "0"
      ]
     },
     "execution_count": 12,
     "metadata": {
     },
     "output_type": "execute_result"
    }
   ],
   "source": [
    "#удалим строки без названия города, т.к не известно где находиться квартира, такие объекты будут мешать\n",
    "#анализу, пользы для покупателей они не несут. Затем проверим удалились ли строки.\n",
    "df = df.dropna(subset=['town_name'])\n",
    "df['town_name'].isna().sum()"
   ]
  },
  {
   "cell_type": "code",
   "execution_count": 13,
   "metadata": {
    "collapsed": false,
    "trusted": true
   },
   "outputs": [
    {
     "data": {
      "text/plain": [
       "array([nan, False, True], dtype=object)"
      ]
     },
     "execution_count": 13,
     "metadata": {
     },
     "output_type": "execute_result"
    }
   ],
   "source": [
    "#посмотрим на столбец 'is_apartment'\n",
    "df['is_apartment'].unique()"
   ]
  },
  {
   "cell_type": "code",
   "execution_count": 14,
   "metadata": {
    "collapsed": false,
    "trusted": true
   },
   "outputs": [
    {
     "data": {
      "text/plain": [
       "array([False,  True])"
      ]
     },
     "execution_count": 14,
     "metadata": {
     },
     "output_type": "execute_result"
    }
   ],
   "source": [
    "#заменим пустые значения на False, т.к относятся к объектам жилого фонда\n",
    "df['is_apartment'] = df['is_apartment'].fillna(False)\n",
    "df['is_apartment'].unique()"
   ]
  },
  {
   "cell_type": "code",
   "execution_count": 15,
   "metadata": {
    "collapsed": false,
    "trusted": true
   },
   "outputs": [
    {
     "data": {
      "text/plain": [
       "array([False,  True])"
      ]
     },
     "execution_count": 15,
     "metadata": {
     },
     "output_type": "execute_result"
    }
   ],
   "source": [
    "#проверим столбец 'is_studio'\n",
    "df['is_studio'].unique()"
   ]
  },
  {
   "cell_type": "code",
   "execution_count": 16,
   "metadata": {
    "collapsed": false,
    "trusted": true
   },
   "outputs": [
    {
     "data": {
      "text/plain": [
       "array([False,  True])"
      ]
     },
     "execution_count": 16,
     "metadata": {
     },
     "output_type": "execute_result"
    }
   ],
   "source": [
    "#проверим столбец 'is_open_plan'\n",
    "df['is_open_plan'].unique()"
   ]
  },
  {
   "cell_type": "code",
   "execution_count": 17,
   "metadata": {
    "collapsed": false,
    "trusted": true
   },
   "outputs": [
    {
     "data": {
      "text/html": [
       "<div>\n",
       "<style scoped>\n",
       "    .dataframe tbody tr th:only-of-type {\n",
       "        vertical-align: middle;\n",
       "    }\n",
       "\n",
       "    .dataframe tbody tr th {\n",
       "        vertical-align: top;\n",
       "    }\n",
       "\n",
       "    .dataframe thead th {\n",
       "        text-align: right;\n",
       "    }\n",
       "</style>\n",
       "<table border=\"1\" class=\"dataframe\">\n",
       "  <thead>\n",
       "    <tr style=\"text-align: right;\">\n",
       "      <th></th>\n",
       "      <th>town_name</th>\n",
       "      <th>total_area_m2</th>\n",
       "      <th>living_area_m2</th>\n",
       "      <th>kitchen_area_m2</th>\n",
       "      <th>ceiling_height</th>\n",
       "      <th>rooms_count</th>\n",
       "      <th>balconies_count</th>\n",
       "      <th>floor_number</th>\n",
       "      <th>floors_count</th>\n",
       "      <th>is_apartment</th>\n",
       "      <th>is_studio</th>\n",
       "      <th>is_open_plan</th>\n",
       "      <th>total_images</th>\n",
       "      <th>last_price</th>\n",
       "      <th>first_day_exposition</th>\n",
       "      <th>days_exposition</th>\n",
       "      <th>city_centers_nearest</th>\n",
       "      <th>airports_nearest</th>\n",
       "      <th>parks_around_3km</th>\n",
       "      <th>parks_nearest</th>\n",
       "      <th>ponds_around_3km</th>\n",
       "      <th>ponds_nearest</th>\n",
       "    </tr>\n",
       "  </thead>\n",
       "  <tbody>\n",
       "    <tr>\n",
       "      <td>0</td>\n",
       "      <td>санкт-петербург</td>\n",
       "      <td>108.00</td>\n",
       "      <td>51.00</td>\n",
       "      <td>25.00</td>\n",
       "      <td>2.70</td>\n",
       "      <td>3</td>\n",
       "      <td>0</td>\n",
       "      <td>8</td>\n",
       "      <td>16.00</td>\n",
       "      <td>False</td>\n",
       "      <td>False</td>\n",
       "      <td>False</td>\n",
       "      <td>20</td>\n",
       "      <td>13000000</td>\n",
       "      <td>2019-03-07T00:00:00</td>\n",
       "      <td>nan</td>\n",
       "      <td>16,028.00</td>\n",
       "      <td>18,863.00</td>\n",
       "      <td>1.00</td>\n",
       "      <td>482.00</td>\n",
       "      <td>2.00</td>\n",
       "      <td>755.00</td>\n",
       "    </tr>\n",
       "    <tr>\n",
       "      <td>1</td>\n",
       "      <td>поселок шушары</td>\n",
       "      <td>40.40</td>\n",
       "      <td>18.60</td>\n",
       "      <td>11.00</td>\n",
       "      <td>nan</td>\n",
       "      <td>1</td>\n",
       "      <td>2</td>\n",
       "      <td>1</td>\n",
       "      <td>11.00</td>\n",
       "      <td>False</td>\n",
       "      <td>False</td>\n",
       "      <td>False</td>\n",
       "      <td>7</td>\n",
       "      <td>3350000</td>\n",
       "      <td>2018-12-04T00:00:00</td>\n",
       "      <td>81.00</td>\n",
       "      <td>18,603.00</td>\n",
       "      <td>12,817.00</td>\n",
       "      <td>0.00</td>\n",
       "      <td>nan</td>\n",
       "      <td>0.00</td>\n",
       "      <td>nan</td>\n",
       "    </tr>\n",
       "    <tr>\n",
       "      <td>2</td>\n",
       "      <td>санкт-петербург</td>\n",
       "      <td>56.00</td>\n",
       "      <td>34.30</td>\n",
       "      <td>8.30</td>\n",
       "      <td>nan</td>\n",
       "      <td>2</td>\n",
       "      <td>0</td>\n",
       "      <td>4</td>\n",
       "      <td>5.00</td>\n",
       "      <td>False</td>\n",
       "      <td>False</td>\n",
       "      <td>False</td>\n",
       "      <td>10</td>\n",
       "      <td>5196000</td>\n",
       "      <td>2015-08-20T00:00:00</td>\n",
       "      <td>558.00</td>\n",
       "      <td>13,933.00</td>\n",
       "      <td>21,741.00</td>\n",
       "      <td>1.00</td>\n",
       "      <td>90.00</td>\n",
       "      <td>2.00</td>\n",
       "      <td>574.00</td>\n",
       "    </tr>\n",
       "    <tr>\n",
       "      <td>3</td>\n",
       "      <td>санкт-петербург</td>\n",
       "      <td>159.00</td>\n",
       "      <td>nan</td>\n",
       "      <td>nan</td>\n",
       "      <td>nan</td>\n",
       "      <td>3</td>\n",
       "      <td>0</td>\n",
       "      <td>9</td>\n",
       "      <td>14.00</td>\n",
       "      <td>False</td>\n",
       "      <td>False</td>\n",
       "      <td>False</td>\n",
       "      <td>0</td>\n",
       "      <td>64900000</td>\n",
       "      <td>2015-07-24T00:00:00</td>\n",
       "      <td>424.00</td>\n",
       "      <td>6,800.00</td>\n",
       "      <td>28,098.00</td>\n",
       "      <td>2.00</td>\n",
       "      <td>84.00</td>\n",
       "      <td>3.00</td>\n",
       "      <td>234.00</td>\n",
       "    </tr>\n",
       "    <tr>\n",
       "      <td>4</td>\n",
       "      <td>санкт-петербург</td>\n",
       "      <td>100.00</td>\n",
       "      <td>32.00</td>\n",
       "      <td>41.00</td>\n",
       "      <td>3.03</td>\n",
       "      <td>2</td>\n",
       "      <td>0</td>\n",
       "      <td>13</td>\n",
       "      <td>14.00</td>\n",
       "      <td>False</td>\n",
       "      <td>False</td>\n",
       "      <td>False</td>\n",
       "      <td>2</td>\n",
       "      <td>10000000</td>\n",
       "      <td>2018-06-19T00:00:00</td>\n",
       "      <td>121.00</td>\n",
       "      <td>8,098.00</td>\n",
       "      <td>31,856.00</td>\n",
       "      <td>2.00</td>\n",
       "      <td>112.00</td>\n",
       "      <td>1.00</td>\n",
       "      <td>48.00</td>\n",
       "    </tr>\n",
       "  </tbody>\n",
       "</table>\n",
       "</div>"
      ],
      "text/plain": [
       "         town_name  total_area_m2  living_area_m2  kitchen_area_m2  \\\n",
       "0  санкт-петербург         108.00           51.00            25.00   \n",
       "1   поселок шушары          40.40           18.60            11.00   \n",
       "2  санкт-петербург          56.00           34.30             8.30   \n",
       "3  санкт-петербург         159.00             nan              nan   \n",
       "4  санкт-петербург         100.00           32.00            41.00   \n",
       "\n",
       "   ceiling_height  rooms_count  balconies_count  floor_number  floors_count  \\\n",
       "0            2.70            3                0             8         16.00   \n",
       "1             nan            1                2             1         11.00   \n",
       "2             nan            2                0             4          5.00   \n",
       "3             nan            3                0             9         14.00   \n",
       "4            3.03            2                0            13         14.00   \n",
       "\n",
       "   is_apartment  is_studio  is_open_plan  total_images  last_price  \\\n",
       "0         False      False         False            20    13000000   \n",
       "1         False      False         False             7     3350000   \n",
       "2         False      False         False            10     5196000   \n",
       "3         False      False         False             0    64900000   \n",
       "4         False      False         False             2    10000000   \n",
       "\n",
       "  first_day_exposition  days_exposition  city_centers_nearest  \\\n",
       "0  2019-03-07T00:00:00              nan             16,028.00   \n",
       "1  2018-12-04T00:00:00            81.00             18,603.00   \n",
       "2  2015-08-20T00:00:00           558.00             13,933.00   \n",
       "3  2015-07-24T00:00:00           424.00              6,800.00   \n",
       "4  2018-06-19T00:00:00           121.00              8,098.00   \n",
       "\n",
       "   airports_nearest  parks_around_3km  parks_nearest  ponds_around_3km  \\\n",
       "0         18,863.00              1.00         482.00              2.00   \n",
       "1         12,817.00              0.00            nan              0.00   \n",
       "2         21,741.00              1.00          90.00              2.00   \n",
       "3         28,098.00              2.00          84.00              3.00   \n",
       "4         31,856.00              2.00         112.00              1.00   \n",
       "\n",
       "   ponds_nearest  \n",
       "0         755.00  \n",
       "1            nan  \n",
       "2         574.00  \n",
       "3         234.00  \n",
       "4          48.00  "
      ]
     },
     "execution_count": 17,
     "metadata": {
     },
     "output_type": "execute_result"
    }
   ],
   "source": [
    "#разберемся  с балконами. Скорее всего пустые значения появились, потому что пользователь не стал указывать то чего нет.\n",
    "#заменим пустые значения на \"0\".\n",
    "df['balconies_count'] = df['balconies_count'].fillna(0)\n",
    "#сразу изменим тип данных с вещественного на целочисленный, исходя из бытовой логики.\n",
    "df['balconies_count'] = df['balconies_count'].astype('int')\n",
    "df['last_price'] = df['last_price'].astype('int')\n",
    "df.head()"
   ]
  },
  {
   "cell_type": "code",
   "execution_count": 18,
   "metadata": {
    "collapsed": false,
    "trusted": true
   },
   "outputs": [
    {
     "data": {
      "text/html": [
       "<div>\n",
       "<style scoped>\n",
       "    .dataframe tbody tr th:only-of-type {\n",
       "        vertical-align: middle;\n",
       "    }\n",
       "\n",
       "    .dataframe tbody tr th {\n",
       "        vertical-align: top;\n",
       "    }\n",
       "\n",
       "    .dataframe thead th {\n",
       "        text-align: right;\n",
       "    }\n",
       "</style>\n",
       "<table border=\"1\" class=\"dataframe\">\n",
       "  <thead>\n",
       "    <tr style=\"text-align: right;\">\n",
       "      <th></th>\n",
       "      <th>town_name</th>\n",
       "      <th>total_area_m2</th>\n",
       "      <th>living_area_m2</th>\n",
       "      <th>kitchen_area_m2</th>\n",
       "      <th>ceiling_height</th>\n",
       "      <th>rooms_count</th>\n",
       "      <th>balconies_count</th>\n",
       "      <th>floor_number</th>\n",
       "      <th>floors_count</th>\n",
       "      <th>is_apartment</th>\n",
       "      <th>is_studio</th>\n",
       "      <th>is_open_plan</th>\n",
       "      <th>total_images</th>\n",
       "      <th>last_price</th>\n",
       "      <th>first_day_exposition</th>\n",
       "      <th>days_exposition</th>\n",
       "      <th>city_centers_nearest</th>\n",
       "      <th>airports_nearest</th>\n",
       "      <th>parks_around_3km</th>\n",
       "      <th>parks_nearest</th>\n",
       "      <th>ponds_around_3km</th>\n",
       "      <th>ponds_nearest</th>\n",
       "    </tr>\n",
       "  </thead>\n",
       "  <tbody>\n",
       "    <tr>\n",
       "      <td>0</td>\n",
       "      <td>санкт-петербург</td>\n",
       "      <td>108.00</td>\n",
       "      <td>51.00</td>\n",
       "      <td>25.00</td>\n",
       "      <td>2.70</td>\n",
       "      <td>3</td>\n",
       "      <td>0</td>\n",
       "      <td>8</td>\n",
       "      <td>16.00</td>\n",
       "      <td>False</td>\n",
       "      <td>False</td>\n",
       "      <td>False</td>\n",
       "      <td>20</td>\n",
       "      <td>13000000</td>\n",
       "      <td>2019-03-07</td>\n",
       "      <td>nan</td>\n",
       "      <td>16,028.00</td>\n",
       "      <td>18,863.00</td>\n",
       "      <td>1.00</td>\n",
       "      <td>482.00</td>\n",
       "      <td>2.00</td>\n",
       "      <td>755.00</td>\n",
       "    </tr>\n",
       "    <tr>\n",
       "      <td>1</td>\n",
       "      <td>поселок шушары</td>\n",
       "      <td>40.40</td>\n",
       "      <td>18.60</td>\n",
       "      <td>11.00</td>\n",
       "      <td>nan</td>\n",
       "      <td>1</td>\n",
       "      <td>2</td>\n",
       "      <td>1</td>\n",
       "      <td>11.00</td>\n",
       "      <td>False</td>\n",
       "      <td>False</td>\n",
       "      <td>False</td>\n",
       "      <td>7</td>\n",
       "      <td>3350000</td>\n",
       "      <td>2018-12-04</td>\n",
       "      <td>81.00</td>\n",
       "      <td>18,603.00</td>\n",
       "      <td>12,817.00</td>\n",
       "      <td>0.00</td>\n",
       "      <td>nan</td>\n",
       "      <td>0.00</td>\n",
       "      <td>nan</td>\n",
       "    </tr>\n",
       "    <tr>\n",
       "      <td>2</td>\n",
       "      <td>санкт-петербург</td>\n",
       "      <td>56.00</td>\n",
       "      <td>34.30</td>\n",
       "      <td>8.30</td>\n",
       "      <td>nan</td>\n",
       "      <td>2</td>\n",
       "      <td>0</td>\n",
       "      <td>4</td>\n",
       "      <td>5.00</td>\n",
       "      <td>False</td>\n",
       "      <td>False</td>\n",
       "      <td>False</td>\n",
       "      <td>10</td>\n",
       "      <td>5196000</td>\n",
       "      <td>2015-08-20</td>\n",
       "      <td>558.00</td>\n",
       "      <td>13,933.00</td>\n",
       "      <td>21,741.00</td>\n",
       "      <td>1.00</td>\n",
       "      <td>90.00</td>\n",
       "      <td>2.00</td>\n",
       "      <td>574.00</td>\n",
       "    </tr>\n",
       "    <tr>\n",
       "      <td>3</td>\n",
       "      <td>санкт-петербург</td>\n",
       "      <td>159.00</td>\n",
       "      <td>nan</td>\n",
       "      <td>nan</td>\n",
       "      <td>nan</td>\n",
       "      <td>3</td>\n",
       "      <td>0</td>\n",
       "      <td>9</td>\n",
       "      <td>14.00</td>\n",
       "      <td>False</td>\n",
       "      <td>False</td>\n",
       "      <td>False</td>\n",
       "      <td>0</td>\n",
       "      <td>64900000</td>\n",
       "      <td>2015-07-24</td>\n",
       "      <td>424.00</td>\n",
       "      <td>6,800.00</td>\n",
       "      <td>28,098.00</td>\n",
       "      <td>2.00</td>\n",
       "      <td>84.00</td>\n",
       "      <td>3.00</td>\n",
       "      <td>234.00</td>\n",
       "    </tr>\n",
       "    <tr>\n",
       "      <td>4</td>\n",
       "      <td>санкт-петербург</td>\n",
       "      <td>100.00</td>\n",
       "      <td>32.00</td>\n",
       "      <td>41.00</td>\n",
       "      <td>3.03</td>\n",
       "      <td>2</td>\n",
       "      <td>0</td>\n",
       "      <td>13</td>\n",
       "      <td>14.00</td>\n",
       "      <td>False</td>\n",
       "      <td>False</td>\n",
       "      <td>False</td>\n",
       "      <td>2</td>\n",
       "      <td>10000000</td>\n",
       "      <td>2018-06-19</td>\n",
       "      <td>121.00</td>\n",
       "      <td>8,098.00</td>\n",
       "      <td>31,856.00</td>\n",
       "      <td>2.00</td>\n",
       "      <td>112.00</td>\n",
       "      <td>1.00</td>\n",
       "      <td>48.00</td>\n",
       "    </tr>\n",
       "  </tbody>\n",
       "</table>\n",
       "</div>"
      ],
      "text/plain": [
       "         town_name  total_area_m2  living_area_m2  kitchen_area_m2  \\\n",
       "0  санкт-петербург         108.00           51.00            25.00   \n",
       "1   поселок шушары          40.40           18.60            11.00   \n",
       "2  санкт-петербург          56.00           34.30             8.30   \n",
       "3  санкт-петербург         159.00             nan              nan   \n",
       "4  санкт-петербург         100.00           32.00            41.00   \n",
       "\n",
       "   ceiling_height  rooms_count  balconies_count  floor_number  floors_count  \\\n",
       "0            2.70            3                0             8         16.00   \n",
       "1             nan            1                2             1         11.00   \n",
       "2             nan            2                0             4          5.00   \n",
       "3             nan            3                0             9         14.00   \n",
       "4            3.03            2                0            13         14.00   \n",
       "\n",
       "   is_apartment  is_studio  is_open_plan  total_images  last_price  \\\n",
       "0         False      False         False            20    13000000   \n",
       "1         False      False         False             7     3350000   \n",
       "2         False      False         False            10     5196000   \n",
       "3         False      False         False             0    64900000   \n",
       "4         False      False         False             2    10000000   \n",
       "\n",
       "  first_day_exposition  days_exposition  city_centers_nearest  \\\n",
       "0           2019-03-07              nan             16,028.00   \n",
       "1           2018-12-04            81.00             18,603.00   \n",
       "2           2015-08-20           558.00             13,933.00   \n",
       "3           2015-07-24           424.00              6,800.00   \n",
       "4           2018-06-19           121.00              8,098.00   \n",
       "\n",
       "   airports_nearest  parks_around_3km  parks_nearest  ponds_around_3km  \\\n",
       "0         18,863.00              1.00         482.00              2.00   \n",
       "1         12,817.00              0.00            nan              0.00   \n",
       "2         21,741.00              1.00          90.00              2.00   \n",
       "3         28,098.00              2.00          84.00              3.00   \n",
       "4         31,856.00              2.00         112.00              1.00   \n",
       "\n",
       "   ponds_nearest  \n",
       "0         755.00  \n",
       "1            nan  \n",
       "2         574.00  \n",
       "3         234.00  \n",
       "4          48.00  "
      ]
     },
     "execution_count": 18,
     "metadata": {
     },
     "output_type": "execute_result"
    }
   ],
   "source": [
    "#изменим тип данных для столбца 'first_day_exposition'\n",
    "df['first_day_exposition'] = pd.to_datetime(df['first_day_exposition'], format=\"%Y-%m-%dT%H:%M:%S\")\n",
    "df.head()"
   ]
  },
  {
   "cell_type": "code",
   "execution_count": 19,
   "metadata": {
    "collapsed": false,
    "trusted": true
   },
   "outputs": [
    {
     "data": {
      "text/plain": [
       "3180"
      ]
     },
     "execution_count": 19,
     "metadata": {
     },
     "output_type": "execute_result"
    }
   ],
   "source": [
    "#в столбце с количеством дней размещения объявления есть пустые значения, возможно из-за того, что пользователь выложил \n",
    "#объявление и затем в течение суток передумал и удалил его. \n",
    "#найдем сумму пустых значений, заменим на нули и переведем в целочисленный вид\n",
    "df['days_exposition'].isna().sum()"
   ]
  },
  {
   "cell_type": "code",
   "execution_count": 20,
   "metadata": {
    "collapsed": false,
    "trusted": true
   },
   "outputs": [
   ],
   "source": [
    "#не так уж и много, заменяем и переводим\n",
    "df['days_exposition'] = df['days_exposition'].fillna(0)\n",
    "df['days_exposition'] = df['days_exposition'].astype('int')"
   ]
  },
  {
   "cell_type": "code",
   "execution_count": 21,
   "metadata": {
    "collapsed": false,
    "trusted": true
   },
   "outputs": [
    {
     "name": "stdout",
     "output_type": "stream",
     "text": [
      "<class 'pandas.core.frame.DataFrame'>\n",
      "Int64Index: 23650 entries, 0 to 23698\n",
      "Data columns (total 22 columns):\n",
      "town_name               23650 non-null object\n",
      "total_area_m2           23650 non-null float64\n",
      "living_area_m2          21752 non-null float64\n",
      "kitchen_area_m2         21381 non-null float64\n",
      "ceiling_height          14490 non-null float64\n",
      "rooms_count             23650 non-null int64\n",
      "balconies_count         23650 non-null int64\n",
      "floor_number            23650 non-null int64\n",
      "floors_count            23565 non-null float64\n",
      "is_apartment            23650 non-null bool\n",
      "is_studio               23650 non-null bool\n",
      "is_open_plan            23650 non-null bool\n",
      "total_images            23650 non-null int64\n",
      "last_price              23650 non-null int64\n",
      "first_day_exposition    23650 non-null datetime64[ns]\n",
      "days_exposition         23650 non-null int64\n",
      "city_centers_nearest    18139 non-null float64\n",
      "airports_nearest        18116 non-null float64\n",
      "parks_around_3km        18140 non-null float64\n",
      "parks_nearest           8064 non-null float64\n",
      "ponds_around_3km        18140 non-null float64\n",
      "ponds_nearest           9085 non-null float64\n",
      "dtypes: bool(3), datetime64[ns](1), float64(11), int64(6), object(1)\n",
      "memory usage: 3.7+ MB\n"
     ]
    }
   ],
   "source": [
    "df.info()"
   ]
  },
  {
   "cell_type": "markdown",
   "metadata": {
    "collapsed": false
   },
   "source": [
    "<font size=\"3\"> Заменили пустые значения и изменили тип данных, где это возможно. Для пропусков в данных, которые зависят от пользователя сложно подобрать адекватные значения, медиана или среднее могут исказить итоговый результат. Среди причин возникновения пропусков, самыми объективными являются: человеческая лень, либо незнание требуемых величин </font>"
   ]
  },
  {
   "cell_type": "markdown",
   "metadata": {
    "collapsed": false
   },
   "source": [
    "## Рассчёты и добавление результатов в таблицу"
   ]
  },
  {
   "cell_type": "code",
   "execution_count": 22,
   "metadata": {
    "collapsed": false,
    "trusted": true
   },
   "outputs": [
   ],
   "source": [
    "# добавим цену квадратного метра\n",
    "df['price_per_meter'] = df['last_price'] / df['total_area_m2']\n",
    "df['price_per_meter'] = df['price_per_meter'].round(decimals=2)"
   ]
  },
  {
   "cell_type": "code",
   "execution_count": 23,
   "metadata": {
    "collapsed": false,
    "trusted": true
   },
   "outputs": [
    {
     "data": {
      "text/html": [
       "<div>\n",
       "<style scoped>\n",
       "    .dataframe tbody tr th:only-of-type {\n",
       "        vertical-align: middle;\n",
       "    }\n",
       "\n",
       "    .dataframe tbody tr th {\n",
       "        vertical-align: top;\n",
       "    }\n",
       "\n",
       "    .dataframe thead th {\n",
       "        text-align: right;\n",
       "    }\n",
       "</style>\n",
       "<table border=\"1\" class=\"dataframe\">\n",
       "  <thead>\n",
       "    <tr style=\"text-align: right;\">\n",
       "      <th></th>\n",
       "      <th>town_name</th>\n",
       "      <th>total_area_m2</th>\n",
       "      <th>living_area_m2</th>\n",
       "      <th>kitchen_area_m2</th>\n",
       "      <th>ceiling_height</th>\n",
       "      <th>rooms_count</th>\n",
       "      <th>balconies_count</th>\n",
       "      <th>floor_number</th>\n",
       "      <th>floors_count</th>\n",
       "      <th>is_apartment</th>\n",
       "      <th>is_studio</th>\n",
       "      <th>is_open_plan</th>\n",
       "      <th>total_images</th>\n",
       "      <th>last_price</th>\n",
       "      <th>first_day_exposition</th>\n",
       "      <th>days_exposition</th>\n",
       "      <th>city_centers_nearest</th>\n",
       "      <th>airports_nearest</th>\n",
       "      <th>parks_around_3km</th>\n",
       "      <th>parks_nearest</th>\n",
       "      <th>ponds_around_3km</th>\n",
       "      <th>ponds_nearest</th>\n",
       "      <th>price_per_meter</th>\n",
       "      <th>day_of_week_exposition</th>\n",
       "      <th>month_exposition</th>\n",
       "      <th>year_exposition</th>\n",
       "    </tr>\n",
       "  </thead>\n",
       "  <tbody>\n",
       "    <tr>\n",
       "      <td>0</td>\n",
       "      <td>санкт-петербург</td>\n",
       "      <td>108.00</td>\n",
       "      <td>51.00</td>\n",
       "      <td>25.00</td>\n",
       "      <td>2.70</td>\n",
       "      <td>3</td>\n",
       "      <td>0</td>\n",
       "      <td>8</td>\n",
       "      <td>16.00</td>\n",
       "      <td>False</td>\n",
       "      <td>False</td>\n",
       "      <td>False</td>\n",
       "      <td>20</td>\n",
       "      <td>13000000</td>\n",
       "      <td>2019-03-07</td>\n",
       "      <td>0</td>\n",
       "      <td>16,028.00</td>\n",
       "      <td>18,863.00</td>\n",
       "      <td>1.00</td>\n",
       "      <td>482.00</td>\n",
       "      <td>2.00</td>\n",
       "      <td>755.00</td>\n",
       "      <td>120,370.37</td>\n",
       "      <td>Thursday</td>\n",
       "      <td>March</td>\n",
       "      <td>2019</td>\n",
       "    </tr>\n",
       "    <tr>\n",
       "      <td>1</td>\n",
       "      <td>поселок шушары</td>\n",
       "      <td>40.40</td>\n",
       "      <td>18.60</td>\n",
       "      <td>11.00</td>\n",
       "      <td>nan</td>\n",
       "      <td>1</td>\n",
       "      <td>2</td>\n",
       "      <td>1</td>\n",
       "      <td>11.00</td>\n",
       "      <td>False</td>\n",
       "      <td>False</td>\n",
       "      <td>False</td>\n",
       "      <td>7</td>\n",
       "      <td>3350000</td>\n",
       "      <td>2018-12-04</td>\n",
       "      <td>81</td>\n",
       "      <td>18,603.00</td>\n",
       "      <td>12,817.00</td>\n",
       "      <td>0.00</td>\n",
       "      <td>nan</td>\n",
       "      <td>0.00</td>\n",
       "      <td>nan</td>\n",
       "      <td>82,920.79</td>\n",
       "      <td>Tuesday</td>\n",
       "      <td>December</td>\n",
       "      <td>2018</td>\n",
       "    </tr>\n",
       "    <tr>\n",
       "      <td>2</td>\n",
       "      <td>санкт-петербург</td>\n",
       "      <td>56.00</td>\n",
       "      <td>34.30</td>\n",
       "      <td>8.30</td>\n",
       "      <td>nan</td>\n",
       "      <td>2</td>\n",
       "      <td>0</td>\n",
       "      <td>4</td>\n",
       "      <td>5.00</td>\n",
       "      <td>False</td>\n",
       "      <td>False</td>\n",
       "      <td>False</td>\n",
       "      <td>10</td>\n",
       "      <td>5196000</td>\n",
       "      <td>2015-08-20</td>\n",
       "      <td>558</td>\n",
       "      <td>13,933.00</td>\n",
       "      <td>21,741.00</td>\n",
       "      <td>1.00</td>\n",
       "      <td>90.00</td>\n",
       "      <td>2.00</td>\n",
       "      <td>574.00</td>\n",
       "      <td>92,785.71</td>\n",
       "      <td>Thursday</td>\n",
       "      <td>August</td>\n",
       "      <td>2015</td>\n",
       "    </tr>\n",
       "    <tr>\n",
       "      <td>3</td>\n",
       "      <td>санкт-петербург</td>\n",
       "      <td>159.00</td>\n",
       "      <td>nan</td>\n",
       "      <td>nan</td>\n",
       "      <td>nan</td>\n",
       "      <td>3</td>\n",
       "      <td>0</td>\n",
       "      <td>9</td>\n",
       "      <td>14.00</td>\n",
       "      <td>False</td>\n",
       "      <td>False</td>\n",
       "      <td>False</td>\n",
       "      <td>0</td>\n",
       "      <td>64900000</td>\n",
       "      <td>2015-07-24</td>\n",
       "      <td>424</td>\n",
       "      <td>6,800.00</td>\n",
       "      <td>28,098.00</td>\n",
       "      <td>2.00</td>\n",
       "      <td>84.00</td>\n",
       "      <td>3.00</td>\n",
       "      <td>234.00</td>\n",
       "      <td>408,176.10</td>\n",
       "      <td>Friday</td>\n",
       "      <td>July</td>\n",
       "      <td>2015</td>\n",
       "    </tr>\n",
       "    <tr>\n",
       "      <td>4</td>\n",
       "      <td>санкт-петербург</td>\n",
       "      <td>100.00</td>\n",
       "      <td>32.00</td>\n",
       "      <td>41.00</td>\n",
       "      <td>3.03</td>\n",
       "      <td>2</td>\n",
       "      <td>0</td>\n",
       "      <td>13</td>\n",
       "      <td>14.00</td>\n",
       "      <td>False</td>\n",
       "      <td>False</td>\n",
       "      <td>False</td>\n",
       "      <td>2</td>\n",
       "      <td>10000000</td>\n",
       "      <td>2018-06-19</td>\n",
       "      <td>121</td>\n",
       "      <td>8,098.00</td>\n",
       "      <td>31,856.00</td>\n",
       "      <td>2.00</td>\n",
       "      <td>112.00</td>\n",
       "      <td>1.00</td>\n",
       "      <td>48.00</td>\n",
       "      <td>100,000.00</td>\n",
       "      <td>Tuesday</td>\n",
       "      <td>June</td>\n",
       "      <td>2018</td>\n",
       "    </tr>\n",
       "  </tbody>\n",
       "</table>\n",
       "</div>"
      ],
      "text/plain": [
       "         town_name  total_area_m2  living_area_m2  kitchen_area_m2  \\\n",
       "0  санкт-петербург         108.00           51.00            25.00   \n",
       "1   поселок шушары          40.40           18.60            11.00   \n",
       "2  санкт-петербург          56.00           34.30             8.30   \n",
       "3  санкт-петербург         159.00             nan              nan   \n",
       "4  санкт-петербург         100.00           32.00            41.00   \n",
       "\n",
       "   ceiling_height  rooms_count  balconies_count  floor_number  floors_count  \\\n",
       "0            2.70            3                0             8         16.00   \n",
       "1             nan            1                2             1         11.00   \n",
       "2             nan            2                0             4          5.00   \n",
       "3             nan            3                0             9         14.00   \n",
       "4            3.03            2                0            13         14.00   \n",
       "\n",
       "   is_apartment  is_studio  is_open_plan  total_images  last_price  \\\n",
       "0         False      False         False            20    13000000   \n",
       "1         False      False         False             7     3350000   \n",
       "2         False      False         False            10     5196000   \n",
       "3         False      False         False             0    64900000   \n",
       "4         False      False         False             2    10000000   \n",
       "\n",
       "  first_day_exposition  days_exposition  city_centers_nearest  \\\n",
       "0           2019-03-07                0             16,028.00   \n",
       "1           2018-12-04               81             18,603.00   \n",
       "2           2015-08-20              558             13,933.00   \n",
       "3           2015-07-24              424              6,800.00   \n",
       "4           2018-06-19              121              8,098.00   \n",
       "\n",
       "   airports_nearest  parks_around_3km  parks_nearest  ponds_around_3km  \\\n",
       "0         18,863.00              1.00         482.00              2.00   \n",
       "1         12,817.00              0.00            nan              0.00   \n",
       "2         21,741.00              1.00          90.00              2.00   \n",
       "3         28,098.00              2.00          84.00              3.00   \n",
       "4         31,856.00              2.00         112.00              1.00   \n",
       "\n",
       "   ponds_nearest  price_per_meter day_of_week_exposition month_exposition  \\\n",
       "0         755.00       120,370.37               Thursday            March   \n",
       "1            nan        82,920.79                Tuesday         December   \n",
       "2         574.00        92,785.71               Thursday           August   \n",
       "3         234.00       408,176.10                 Friday             July   \n",
       "4          48.00       100,000.00                Tuesday             June   \n",
       "\n",
       "   year_exposition  \n",
       "0             2019  \n",
       "1             2018  \n",
       "2             2015  \n",
       "3             2015  \n",
       "4             2018  "
      ]
     },
     "execution_count": 23,
     "metadata": {
     },
     "output_type": "execute_result"
    }
   ],
   "source": [
    "#добавим день недели, месяц и год публикации\n",
    "df['day_of_week_exposition'] = df['first_day_exposition'].dt.day_name()\n",
    "df['month_exposition'] = df['first_day_exposition'].dt.month_name()\n",
    "df['year_exposition'] = df['first_day_exposition'].dt.year\n",
    "df.head()"
   ]
  },
  {
   "cell_type": "code",
   "execution_count": 24,
   "metadata": {
    "collapsed": false,
    "scrolled": true,
    "trusted": true
   },
   "outputs": [
    {
     "data": {
      "text/html": [
       "<div>\n",
       "<style scoped>\n",
       "    .dataframe tbody tr th:only-of-type {\n",
       "        vertical-align: middle;\n",
       "    }\n",
       "\n",
       "    .dataframe tbody tr th {\n",
       "        vertical-align: top;\n",
       "    }\n",
       "\n",
       "    .dataframe thead th {\n",
       "        text-align: right;\n",
       "    }\n",
       "</style>\n",
       "<table border=\"1\" class=\"dataframe\">\n",
       "  <thead>\n",
       "    <tr style=\"text-align: right;\">\n",
       "      <th></th>\n",
       "      <th>town_name</th>\n",
       "      <th>total_area_m2</th>\n",
       "      <th>living_area_m2</th>\n",
       "      <th>kitchen_area_m2</th>\n",
       "      <th>ceiling_height</th>\n",
       "      <th>rooms_count</th>\n",
       "      <th>balconies_count</th>\n",
       "      <th>floor_number</th>\n",
       "      <th>floors_count</th>\n",
       "      <th>is_apartment</th>\n",
       "      <th>is_studio</th>\n",
       "      <th>is_open_plan</th>\n",
       "      <th>total_images</th>\n",
       "      <th>last_price</th>\n",
       "      <th>first_day_exposition</th>\n",
       "      <th>days_exposition</th>\n",
       "      <th>city_centers_nearest</th>\n",
       "      <th>airports_nearest</th>\n",
       "      <th>parks_around_3km</th>\n",
       "      <th>parks_nearest</th>\n",
       "      <th>ponds_around_3km</th>\n",
       "      <th>ponds_nearest</th>\n",
       "      <th>price_per_meter</th>\n",
       "      <th>day_of_week_exposition</th>\n",
       "      <th>month_exposition</th>\n",
       "      <th>year_exposition</th>\n",
       "      <th>floor_status</th>\n",
       "    </tr>\n",
       "  </thead>\n",
       "  <tbody>\n",
       "    <tr>\n",
       "      <td>0</td>\n",
       "      <td>санкт-петербург</td>\n",
       "      <td>108.00</td>\n",
       "      <td>51.00</td>\n",
       "      <td>25.00</td>\n",
       "      <td>2.70</td>\n",
       "      <td>3</td>\n",
       "      <td>0</td>\n",
       "      <td>8</td>\n",
       "      <td>16.00</td>\n",
       "      <td>False</td>\n",
       "      <td>False</td>\n",
       "      <td>False</td>\n",
       "      <td>20</td>\n",
       "      <td>13000000</td>\n",
       "      <td>2019-03-07</td>\n",
       "      <td>0</td>\n",
       "      <td>16,028.00</td>\n",
       "      <td>18,863.00</td>\n",
       "      <td>1.00</td>\n",
       "      <td>482.00</td>\n",
       "      <td>2.00</td>\n",
       "      <td>755.00</td>\n",
       "      <td>120,370.37</td>\n",
       "      <td>Thursday</td>\n",
       "      <td>March</td>\n",
       "      <td>2019</td>\n",
       "      <td>другой</td>\n",
       "    </tr>\n",
       "    <tr>\n",
       "      <td>1</td>\n",
       "      <td>поселок шушары</td>\n",
       "      <td>40.40</td>\n",
       "      <td>18.60</td>\n",
       "      <td>11.00</td>\n",
       "      <td>nan</td>\n",
       "      <td>1</td>\n",
       "      <td>2</td>\n",
       "      <td>1</td>\n",
       "      <td>11.00</td>\n",
       "      <td>False</td>\n",
       "      <td>False</td>\n",
       "      <td>False</td>\n",
       "      <td>7</td>\n",
       "      <td>3350000</td>\n",
       "      <td>2018-12-04</td>\n",
       "      <td>81</td>\n",
       "      <td>18,603.00</td>\n",
       "      <td>12,817.00</td>\n",
       "      <td>0.00</td>\n",
       "      <td>nan</td>\n",
       "      <td>0.00</td>\n",
       "      <td>nan</td>\n",
       "      <td>82,920.79</td>\n",
       "      <td>Tuesday</td>\n",
       "      <td>December</td>\n",
       "      <td>2018</td>\n",
       "      <td>первый</td>\n",
       "    </tr>\n",
       "    <tr>\n",
       "      <td>2</td>\n",
       "      <td>санкт-петербург</td>\n",
       "      <td>56.00</td>\n",
       "      <td>34.30</td>\n",
       "      <td>8.30</td>\n",
       "      <td>nan</td>\n",
       "      <td>2</td>\n",
       "      <td>0</td>\n",
       "      <td>4</td>\n",
       "      <td>5.00</td>\n",
       "      <td>False</td>\n",
       "      <td>False</td>\n",
       "      <td>False</td>\n",
       "      <td>10</td>\n",
       "      <td>5196000</td>\n",
       "      <td>2015-08-20</td>\n",
       "      <td>558</td>\n",
       "      <td>13,933.00</td>\n",
       "      <td>21,741.00</td>\n",
       "      <td>1.00</td>\n",
       "      <td>90.00</td>\n",
       "      <td>2.00</td>\n",
       "      <td>574.00</td>\n",
       "      <td>92,785.71</td>\n",
       "      <td>Thursday</td>\n",
       "      <td>August</td>\n",
       "      <td>2015</td>\n",
       "      <td>другой</td>\n",
       "    </tr>\n",
       "    <tr>\n",
       "      <td>3</td>\n",
       "      <td>санкт-петербург</td>\n",
       "      <td>159.00</td>\n",
       "      <td>nan</td>\n",
       "      <td>nan</td>\n",
       "      <td>nan</td>\n",
       "      <td>3</td>\n",
       "      <td>0</td>\n",
       "      <td>9</td>\n",
       "      <td>14.00</td>\n",
       "      <td>False</td>\n",
       "      <td>False</td>\n",
       "      <td>False</td>\n",
       "      <td>0</td>\n",
       "      <td>64900000</td>\n",
       "      <td>2015-07-24</td>\n",
       "      <td>424</td>\n",
       "      <td>6,800.00</td>\n",
       "      <td>28,098.00</td>\n",
       "      <td>2.00</td>\n",
       "      <td>84.00</td>\n",
       "      <td>3.00</td>\n",
       "      <td>234.00</td>\n",
       "      <td>408,176.10</td>\n",
       "      <td>Friday</td>\n",
       "      <td>July</td>\n",
       "      <td>2015</td>\n",
       "      <td>другой</td>\n",
       "    </tr>\n",
       "    <tr>\n",
       "      <td>4</td>\n",
       "      <td>санкт-петербург</td>\n",
       "      <td>100.00</td>\n",
       "      <td>32.00</td>\n",
       "      <td>41.00</td>\n",
       "      <td>3.03</td>\n",
       "      <td>2</td>\n",
       "      <td>0</td>\n",
       "      <td>13</td>\n",
       "      <td>14.00</td>\n",
       "      <td>False</td>\n",
       "      <td>False</td>\n",
       "      <td>False</td>\n",
       "      <td>2</td>\n",
       "      <td>10000000</td>\n",
       "      <td>2018-06-19</td>\n",
       "      <td>121</td>\n",
       "      <td>8,098.00</td>\n",
       "      <td>31,856.00</td>\n",
       "      <td>2.00</td>\n",
       "      <td>112.00</td>\n",
       "      <td>1.00</td>\n",
       "      <td>48.00</td>\n",
       "      <td>100,000.00</td>\n",
       "      <td>Tuesday</td>\n",
       "      <td>June</td>\n",
       "      <td>2018</td>\n",
       "      <td>другой</td>\n",
       "    </tr>\n",
       "  </tbody>\n",
       "</table>\n",
       "</div>"
      ],
      "text/plain": [
       "         town_name  total_area_m2  living_area_m2  kitchen_area_m2  \\\n",
       "0  санкт-петербург         108.00           51.00            25.00   \n",
       "1   поселок шушары          40.40           18.60            11.00   \n",
       "2  санкт-петербург          56.00           34.30             8.30   \n",
       "3  санкт-петербург         159.00             nan              nan   \n",
       "4  санкт-петербург         100.00           32.00            41.00   \n",
       "\n",
       "   ceiling_height  rooms_count  balconies_count  floor_number  floors_count  \\\n",
       "0            2.70            3                0             8         16.00   \n",
       "1             nan            1                2             1         11.00   \n",
       "2             nan            2                0             4          5.00   \n",
       "3             nan            3                0             9         14.00   \n",
       "4            3.03            2                0            13         14.00   \n",
       "\n",
       "   is_apartment  is_studio  is_open_plan  total_images  last_price  \\\n",
       "0         False      False         False            20    13000000   \n",
       "1         False      False         False             7     3350000   \n",
       "2         False      False         False            10     5196000   \n",
       "3         False      False         False             0    64900000   \n",
       "4         False      False         False             2    10000000   \n",
       "\n",
       "  first_day_exposition  days_exposition  city_centers_nearest  \\\n",
       "0           2019-03-07                0             16,028.00   \n",
       "1           2018-12-04               81             18,603.00   \n",
       "2           2015-08-20              558             13,933.00   \n",
       "3           2015-07-24              424              6,800.00   \n",
       "4           2018-06-19              121              8,098.00   \n",
       "\n",
       "   airports_nearest  parks_around_3km  parks_nearest  ponds_around_3km  \\\n",
       "0         18,863.00              1.00         482.00              2.00   \n",
       "1         12,817.00              0.00            nan              0.00   \n",
       "2         21,741.00              1.00          90.00              2.00   \n",
       "3         28,098.00              2.00          84.00              3.00   \n",
       "4         31,856.00              2.00         112.00              1.00   \n",
       "\n",
       "   ponds_nearest  price_per_meter day_of_week_exposition month_exposition  \\\n",
       "0         755.00       120,370.37               Thursday            March   \n",
       "1            nan        82,920.79                Tuesday         December   \n",
       "2         574.00        92,785.71               Thursday           August   \n",
       "3         234.00       408,176.10                 Friday             July   \n",
       "4          48.00       100,000.00                Tuesday             June   \n",
       "\n",
       "   year_exposition floor_status  \n",
       "0             2019       другой  \n",
       "1             2018       первый  \n",
       "2             2015       другой  \n",
       "3             2015       другой  \n",
       "4             2018       другой  "
      ]
     },
     "execution_count": 24,
     "metadata": {
     },
     "output_type": "execute_result"
    }
   ],
   "source": [
    "#добавим этажи\n",
    "def floor_status(row):\n",
    "    if row['floor_number'] == 1:\n",
    "        return 'первый'\n",
    "    elif row['floor_number'] == row['floors_count']:\n",
    "        return 'последний'\n",
    "    else:\n",
    "        return 'другой'\n",
    "df['floor_status'] = df.apply(floor_status, axis=1)\n",
    "df.head()"
   ]
  },
  {
   "cell_type": "code",
   "execution_count": 25,
   "metadata": {
    "collapsed": false,
    "scrolled": true,
    "trusted": true
   },
   "outputs": [
    {
     "data": {
      "text/html": [
       "<div>\n",
       "<style scoped>\n",
       "    .dataframe tbody tr th:only-of-type {\n",
       "        vertical-align: middle;\n",
       "    }\n",
       "\n",
       "    .dataframe tbody tr th {\n",
       "        vertical-align: top;\n",
       "    }\n",
       "\n",
       "    .dataframe thead th {\n",
       "        text-align: right;\n",
       "    }\n",
       "</style>\n",
       "<table border=\"1\" class=\"dataframe\">\n",
       "  <thead>\n",
       "    <tr style=\"text-align: right;\">\n",
       "      <th></th>\n",
       "      <th>town_name</th>\n",
       "      <th>total_area_m2</th>\n",
       "      <th>living_area_m2</th>\n",
       "      <th>kitchen_area_m2</th>\n",
       "      <th>ceiling_height</th>\n",
       "      <th>rooms_count</th>\n",
       "      <th>balconies_count</th>\n",
       "      <th>floor_number</th>\n",
       "      <th>floors_count</th>\n",
       "      <th>is_apartment</th>\n",
       "      <th>is_studio</th>\n",
       "      <th>is_open_plan</th>\n",
       "      <th>total_images</th>\n",
       "      <th>last_price</th>\n",
       "      <th>first_day_exposition</th>\n",
       "      <th>days_exposition</th>\n",
       "      <th>city_centers_nearest</th>\n",
       "      <th>airports_nearest</th>\n",
       "      <th>parks_around_3km</th>\n",
       "      <th>parks_nearest</th>\n",
       "      <th>ponds_around_3km</th>\n",
       "      <th>ponds_nearest</th>\n",
       "      <th>price_per_meter</th>\n",
       "      <th>day_of_week_exposition</th>\n",
       "      <th>month_exposition</th>\n",
       "      <th>year_exposition</th>\n",
       "      <th>floor_status</th>\n",
       "      <th>total_living_area_ratio</th>\n",
       "      <th>total_kitchen_area_ratio</th>\n",
       "    </tr>\n",
       "  </thead>\n",
       "  <tbody>\n",
       "    <tr>\n",
       "      <td>0</td>\n",
       "      <td>санкт-петербург</td>\n",
       "      <td>108.00</td>\n",
       "      <td>51.00</td>\n",
       "      <td>25.00</td>\n",
       "      <td>2.70</td>\n",
       "      <td>3</td>\n",
       "      <td>0</td>\n",
       "      <td>8</td>\n",
       "      <td>16.00</td>\n",
       "      <td>False</td>\n",
       "      <td>False</td>\n",
       "      <td>False</td>\n",
       "      <td>20</td>\n",
       "      <td>13000000</td>\n",
       "      <td>2019-03-07</td>\n",
       "      <td>0</td>\n",
       "      <td>16,028.00</td>\n",
       "      <td>18,863.00</td>\n",
       "      <td>1.00</td>\n",
       "      <td>482.00</td>\n",
       "      <td>2.00</td>\n",
       "      <td>755.00</td>\n",
       "      <td>120,370.37</td>\n",
       "      <td>Thursday</td>\n",
       "      <td>March</td>\n",
       "      <td>2019</td>\n",
       "      <td>другой</td>\n",
       "      <td>0.47</td>\n",
       "      <td>0.23</td>\n",
       "    </tr>\n",
       "    <tr>\n",
       "      <td>1</td>\n",
       "      <td>поселок шушары</td>\n",
       "      <td>40.40</td>\n",
       "      <td>18.60</td>\n",
       "      <td>11.00</td>\n",
       "      <td>nan</td>\n",
       "      <td>1</td>\n",
       "      <td>2</td>\n",
       "      <td>1</td>\n",
       "      <td>11.00</td>\n",
       "      <td>False</td>\n",
       "      <td>False</td>\n",
       "      <td>False</td>\n",
       "      <td>7</td>\n",
       "      <td>3350000</td>\n",
       "      <td>2018-12-04</td>\n",
       "      <td>81</td>\n",
       "      <td>18,603.00</td>\n",
       "      <td>12,817.00</td>\n",
       "      <td>0.00</td>\n",
       "      <td>nan</td>\n",
       "      <td>0.00</td>\n",
       "      <td>nan</td>\n",
       "      <td>82,920.79</td>\n",
       "      <td>Tuesday</td>\n",
       "      <td>December</td>\n",
       "      <td>2018</td>\n",
       "      <td>первый</td>\n",
       "      <td>0.46</td>\n",
       "      <td>0.27</td>\n",
       "    </tr>\n",
       "    <tr>\n",
       "      <td>2</td>\n",
       "      <td>санкт-петербург</td>\n",
       "      <td>56.00</td>\n",
       "      <td>34.30</td>\n",
       "      <td>8.30</td>\n",
       "      <td>nan</td>\n",
       "      <td>2</td>\n",
       "      <td>0</td>\n",
       "      <td>4</td>\n",
       "      <td>5.00</td>\n",
       "      <td>False</td>\n",
       "      <td>False</td>\n",
       "      <td>False</td>\n",
       "      <td>10</td>\n",
       "      <td>5196000</td>\n",
       "      <td>2015-08-20</td>\n",
       "      <td>558</td>\n",
       "      <td>13,933.00</td>\n",
       "      <td>21,741.00</td>\n",
       "      <td>1.00</td>\n",
       "      <td>90.00</td>\n",
       "      <td>2.00</td>\n",
       "      <td>574.00</td>\n",
       "      <td>92,785.71</td>\n",
       "      <td>Thursday</td>\n",
       "      <td>August</td>\n",
       "      <td>2015</td>\n",
       "      <td>другой</td>\n",
       "      <td>0.61</td>\n",
       "      <td>0.15</td>\n",
       "    </tr>\n",
       "    <tr>\n",
       "      <td>3</td>\n",
       "      <td>санкт-петербург</td>\n",
       "      <td>159.00</td>\n",
       "      <td>nan</td>\n",
       "      <td>nan</td>\n",
       "      <td>nan</td>\n",
       "      <td>3</td>\n",
       "      <td>0</td>\n",
       "      <td>9</td>\n",
       "      <td>14.00</td>\n",
       "      <td>False</td>\n",
       "      <td>False</td>\n",
       "      <td>False</td>\n",
       "      <td>0</td>\n",
       "      <td>64900000</td>\n",
       "      <td>2015-07-24</td>\n",
       "      <td>424</td>\n",
       "      <td>6,800.00</td>\n",
       "      <td>28,098.00</td>\n",
       "      <td>2.00</td>\n",
       "      <td>84.00</td>\n",
       "      <td>3.00</td>\n",
       "      <td>234.00</td>\n",
       "      <td>408,176.10</td>\n",
       "      <td>Friday</td>\n",
       "      <td>July</td>\n",
       "      <td>2015</td>\n",
       "      <td>другой</td>\n",
       "      <td>nan</td>\n",
       "      <td>nan</td>\n",
       "    </tr>\n",
       "    <tr>\n",
       "      <td>4</td>\n",
       "      <td>санкт-петербург</td>\n",
       "      <td>100.00</td>\n",
       "      <td>32.00</td>\n",
       "      <td>41.00</td>\n",
       "      <td>3.03</td>\n",
       "      <td>2</td>\n",
       "      <td>0</td>\n",
       "      <td>13</td>\n",
       "      <td>14.00</td>\n",
       "      <td>False</td>\n",
       "      <td>False</td>\n",
       "      <td>False</td>\n",
       "      <td>2</td>\n",
       "      <td>10000000</td>\n",
       "      <td>2018-06-19</td>\n",
       "      <td>121</td>\n",
       "      <td>8,098.00</td>\n",
       "      <td>31,856.00</td>\n",
       "      <td>2.00</td>\n",
       "      <td>112.00</td>\n",
       "      <td>1.00</td>\n",
       "      <td>48.00</td>\n",
       "      <td>100,000.00</td>\n",
       "      <td>Tuesday</td>\n",
       "      <td>June</td>\n",
       "      <td>2018</td>\n",
       "      <td>другой</td>\n",
       "      <td>0.32</td>\n",
       "      <td>0.41</td>\n",
       "    </tr>\n",
       "  </tbody>\n",
       "</table>\n",
       "</div>"
      ],
      "text/plain": [
       "         town_name  total_area_m2  living_area_m2  kitchen_area_m2  \\\n",
       "0  санкт-петербург         108.00           51.00            25.00   \n",
       "1   поселок шушары          40.40           18.60            11.00   \n",
       "2  санкт-петербург          56.00           34.30             8.30   \n",
       "3  санкт-петербург         159.00             nan              nan   \n",
       "4  санкт-петербург         100.00           32.00            41.00   \n",
       "\n",
       "   ceiling_height  rooms_count  balconies_count  floor_number  floors_count  \\\n",
       "0            2.70            3                0             8         16.00   \n",
       "1             nan            1                2             1         11.00   \n",
       "2             nan            2                0             4          5.00   \n",
       "3             nan            3                0             9         14.00   \n",
       "4            3.03            2                0            13         14.00   \n",
       "\n",
       "   is_apartment  is_studio  is_open_plan  total_images  last_price  \\\n",
       "0         False      False         False            20    13000000   \n",
       "1         False      False         False             7     3350000   \n",
       "2         False      False         False            10     5196000   \n",
       "3         False      False         False             0    64900000   \n",
       "4         False      False         False             2    10000000   \n",
       "\n",
       "  first_day_exposition  days_exposition  city_centers_nearest  \\\n",
       "0           2019-03-07                0             16,028.00   \n",
       "1           2018-12-04               81             18,603.00   \n",
       "2           2015-08-20              558             13,933.00   \n",
       "3           2015-07-24              424              6,800.00   \n",
       "4           2018-06-19              121              8,098.00   \n",
       "\n",
       "   airports_nearest  parks_around_3km  parks_nearest  ponds_around_3km  \\\n",
       "0         18,863.00              1.00         482.00              2.00   \n",
       "1         12,817.00              0.00            nan              0.00   \n",
       "2         21,741.00              1.00          90.00              2.00   \n",
       "3         28,098.00              2.00          84.00              3.00   \n",
       "4         31,856.00              2.00         112.00              1.00   \n",
       "\n",
       "   ponds_nearest  price_per_meter day_of_week_exposition month_exposition  \\\n",
       "0         755.00       120,370.37               Thursday            March   \n",
       "1            nan        82,920.79                Tuesday         December   \n",
       "2         574.00        92,785.71               Thursday           August   \n",
       "3         234.00       408,176.10                 Friday             July   \n",
       "4          48.00       100,000.00                Tuesday             June   \n",
       "\n",
       "   year_exposition floor_status  total_living_area_ratio  \\\n",
       "0             2019       другой                     0.47   \n",
       "1             2018       первый                     0.46   \n",
       "2             2015       другой                     0.61   \n",
       "3             2015       другой                      nan   \n",
       "4             2018       другой                     0.32   \n",
       "\n",
       "   total_kitchen_area_ratio  \n",
       "0                      0.23  \n",
       "1                      0.27  \n",
       "2                      0.15  \n",
       "3                       nan  \n",
       "4                      0.41  "
      ]
     },
     "execution_count": 25,
     "metadata": {
     },
     "output_type": "execute_result"
    }
   ],
   "source": [
    "#найдем соотношение жилой и общей площади, а также отношение площади кухни к общей.\n",
    "df['total_living_area_ratio'] = df['living_area_m2'] / df['total_area_m2']\n",
    "df['total_kitchen_area_ratio'] = df['kitchen_area_m2'] / df['total_area_m2']\n",
    "df.head()"
   ]
  },
  {
   "cell_type": "markdown",
   "metadata": {
    "collapsed": false
   },
   "source": [
    "## Исследовательский анализ данных"
   ]
  },
  {
   "cell_type": "markdown",
   "metadata": {
    "collapsed": false
   },
   "source": [
    "<font size=\"4\"> 4.1 Построим гистограммы параметров </font>"
   ]
  },
  {
   "cell_type": "code",
   "execution_count": 26,
   "metadata": {
    "collapsed": false,
    "scrolled": true,
    "trusted": true
   },
   "outputs": [
    {
     "data": {
      "text/plain": [
       "count   23,650.00\n",
       "mean        60.33\n",
       "std         35.66\n",
       "min         12.00\n",
       "25%         40.00\n",
       "50%         52.00\n",
       "75%         69.70\n",
       "max        900.00\n",
       "Name: total_area_m2, dtype: float64"
      ]
     },
     "execution_count": 26,
     "metadata": {
     },
     "output_type": "execute_result"
    },
    {
     "data": {
      "image/png": "[encoded data removed]",
      "text/plain": [
       "<Figure size 432x288 with 1 Axes>"
      ]
     },
     "execution_count": 26,
     "metadata": {
      "needs_background": "light"
     },
     "output_type": "execute_result"
    }
   ],
   "source": [
    "#построим гистограмму общей площади\n",
    "df['total_area_m2'].hist(bins=150, range=(0, 900))\n",
    "df['total_area_m2'].describe()"
   ]
  },
  {
   "cell_type": "code",
   "execution_count": 27,
   "metadata": {
    "collapsed": false,
    "scrolled": true,
    "trusted": true
   },
   "outputs": [
    {
     "data": {
      "text/plain": [
       "count        23,650.00\n",
       "mean      6,541,126.90\n",
       "std      10,896,399.18\n",
       "min          12,190.00\n",
       "25%       3,400,000.00\n",
       "50%       4,650,000.00\n",
       "75%       6,799,000.00\n",
       "max     763,000,000.00\n",
       "Name: last_price, dtype: float64"
      ]
     },
     "execution_count": 27,
     "metadata": {
     },
     "output_type": "execute_result"
    },
    {
     "data": {
      "image/png": "[encoded data removed]",
      "text/plain": [
       "<Figure size 432x288 with 1 Axes>"
      ]
     },
     "execution_count": 27,
     "metadata": {
      "needs_background": "light"
     },
     "output_type": "execute_result"
    }
   ],
   "source": [
    "#построим гистограмму цены \n",
    "df['last_price'].hist(bins=100, range=(0, 13000000))\n",
    "df['last_price'].describe()"
   ]
  },
  {
   "cell_type": "code",
   "execution_count": 28,
   "metadata": {
    "collapsed": false,
    "scrolled": true,
    "trusted": true
   },
   "outputs": [
    {
     "data": {
      "text/plain": [
       "count   23,650.00\n",
       "mean         2.07\n",
       "std          1.08\n",
       "min          0.00\n",
       "25%          1.00\n",
       "50%          2.00\n",
       "75%          3.00\n",
       "max         19.00\n",
       "Name: rooms_count, dtype: float64"
      ]
     },
     "execution_count": 28,
     "metadata": {
     },
     "output_type": "execute_result"
    },
    {
     "data": {
      "image/png": "[encoded data removed]",
      "text/plain": [
       "<Figure size 432x288 with 1 Axes>"
      ]
     },
     "execution_count": 28,
     "metadata": {
      "needs_background": "light"
     },
     "output_type": "execute_result"
    }
   ],
   "source": [
    "#построим гистограмму числа комнат\n",
    "df['rooms_count'].hist(bins=30, range=(0, 19))\n",
    "df['rooms_count'].describe()"
   ]
  },
  {
   "cell_type": "code",
   "execution_count": 29,
   "metadata": {
    "collapsed": false,
    "scrolled": true,
    "trusted": true
   },
   "outputs": [
    {
     "data": {
      "text/plain": [
       "count   14,490.00\n",
       "mean         2.77\n",
       "std          1.26\n",
       "min          1.00\n",
       "25%          2.52\n",
       "50%          2.65\n",
       "75%          2.80\n",
       "max        100.00\n",
       "Name: ceiling_height, dtype: float64"
      ]
     },
     "execution_count": 29,
     "metadata": {
     },
     "output_type": "execute_result"
    },
    {
     "data": {
      "image/png": "[encoded data removed]",
      "text/plain": [
       "<Figure size 432x288 with 1 Axes>"
      ]
     },
     "execution_count": 29,
     "metadata": {
      "needs_background": "light"
     },
     "output_type": "execute_result"
    }
   ],
   "source": [
    "#посмотрим на высоту потолков\n",
    "df['ceiling_height'].hist(bins=50, range=(0, 6))\n",
    "df['ceiling_height'].describe()\n"
   ]
  },
  {
   "cell_type": "markdown",
   "metadata": {
    "collapsed": false
   },
   "source": [
    "<font size=\"3\"> Ох, лол. Странностей очень много.  Площади в 12 и 900 квадратов, цены на квартиры от 12190 рублей до 763 млн рублей, отличный разброс.  Количество комнат от 0 до 19 штук и мое любимое, высота потолков от 1 до 100 метров.  Я думаю что такие значения вызваны человеческим фактором: лишние нули при заполнении или забыли добавить ноль, лень было писать и просто поставили рандомное число, хотели пошутить. </font>"
   ]
  },
  {
   "cell_type": "markdown",
   "metadata": {
    "collapsed": false
   },
   "source": [
    "<font size=\"4\"> 4.2 Изучим время продажи квартир </font>"
   ]
  },
  {
   "cell_type": "code",
   "execution_count": 30,
   "metadata": {
    "collapsed": false,
    "scrolled": true,
    "trusted": true
   },
   "outputs": [
    {
     "data": {
      "text/plain": [
       "count   23,650.00\n",
       "mean       156.45\n",
       "std        213.56\n",
       "min          0.00\n",
       "25%         22.00\n",
       "50%         73.00\n",
       "75%        198.00\n",
       "max      1,580.00\n",
       "Name: days_exposition, dtype: float64"
      ]
     },
     "execution_count": 30,
     "metadata": {
     },
     "output_type": "execute_result"
    },
    {
     "data": {
      "image/png": "[encoded data removed]",
      "text/plain": [
       "<Figure size 432x288 with 1 Axes>"
      ]
     },
     "execution_count": 30,
     "metadata": {
      "needs_background": "light"
     },
     "output_type": "execute_result"
    }
   ],
   "source": [
    "#будем считать временем продажи квартир столбец 'days_exposition', время с момента публикации, до его снятия.\n",
    "#посмотрим на высоту потолков\n",
    "df['days_exposition'].hist(bins=100, range=(0, 1000))\n",
    "df['days_exposition'].describe()\n",
    "#средннее 156.45, медиана 73, обычно продажа занимает 73 дня, все что меньше 22 дней - очень быстро,все что больше 198 дней\n",
    "#очень долго"
   ]
  },
  {
   "cell_type": "markdown",
   "metadata": {
    "collapsed": false
   },
   "source": [
    "<font size=\"4\"> 4.3 Убираем редкие и выбивающиеся значения </font>"
   ]
  },
  {
   "cell_type": "code",
   "execution_count": 31,
   "metadata": {
    "collapsed": false,
    "trusted": true
   },
   "outputs": [
   ],
   "source": [
    "# Напишем функцию для удаления выбросов\n",
    "\n",
    "def deletizer(df, column):\n",
    "    q1 = df[column].quantile(0.25)                 \n",
    "    q3 = df[column].quantile(0.75)\n",
    "    iqr = q3 - q1\n",
    "    interval = (df[column] >= (q1 - 1.5*iqr)) & (df[column] <= (q3 + 1.5*iqr))\n",
    "    return df.loc[interval]"
   ]
  },
  {
   "cell_type": "code",
   "execution_count": 32,
   "metadata": {
    "collapsed": false,
    "trusted": true
   },
   "outputs": [
    {
     "data": {
      "text/plain": [
       "total_area_m2            60.33\n",
       "last_price        6,541,126.90\n",
       "days_exposition         156.45\n",
       "rooms_count               2.07\n",
       "ceiling_height            2.77\n",
       "dtype: float64"
      ]
     },
     "execution_count": 32,
     "metadata": {
     },
     "output_type": "execute_result"
    }
   ],
   "source": [
    "#создадим таблицу с данными до обработки и посчитаем среднее значение\n",
    "bad_data = df[['total_area_m2', 'last_price', 'days_exposition', 'rooms_count','ceiling_height']].mean()\n",
    "bad_data"
   ]
  },
  {
   "cell_type": "code",
   "execution_count": 33,
   "metadata": {
    "collapsed": false,
    "trusted": true
   },
   "outputs": [
    {
     "data": {
      "text/plain": [
       "54.33"
      ]
     },
     "execution_count": 33,
     "metadata": {
     },
     "output_type": "execute_result"
    }
   ],
   "source": [
    "#проедемся по столбцам deletizer'ом\n",
    "deletizer(df, 'total_area_m2')['total_area_m2'].mean().round(decimals=2)"
   ]
  },
  {
   "cell_type": "code",
   "execution_count": 34,
   "metadata": {
    "collapsed": false,
    "trusted": true
   },
   "outputs": [
    {
     "data": {
      "text/plain": [
       "4838942.09"
      ]
     },
     "execution_count": 34,
     "metadata": {
     },
     "output_type": "execute_result"
    }
   ],
   "source": [
    "deletizer(df, 'last_price')['last_price'].mean().round(decimals=2)"
   ]
  },
  {
   "cell_type": "code",
   "execution_count": 35,
   "metadata": {
    "collapsed": false,
    "trusted": true
   },
   "outputs": [
    {
     "data": {
      "text/plain": [
       "103.71"
      ]
     },
     "execution_count": 35,
     "metadata": {
     },
     "output_type": "execute_result"
    }
   ],
   "source": [
    "deletizer(df, 'days_exposition')['days_exposition'].mean().round(decimals=2)"
   ]
  },
  {
   "cell_type": "code",
   "execution_count": 36,
   "metadata": {
    "collapsed": false,
    "trusted": true
   },
   "outputs": [
    {
     "data": {
      "text/plain": [
       "2.05"
      ]
     },
     "execution_count": 36,
     "metadata": {
     },
     "output_type": "execute_result"
    }
   ],
   "source": [
    "deletizer(df, 'rooms_count')['rooms_count'].mean().round(decimals=2)"
   ]
  },
  {
   "cell_type": "code",
   "execution_count": 37,
   "metadata": {
    "collapsed": false,
    "trusted": true
   },
   "outputs": [
    {
     "data": {
      "text/plain": [
       "2.68"
      ]
     },
     "execution_count": 37,
     "metadata": {
     },
     "output_type": "execute_result"
    }
   ],
   "source": [
    "deletizer(df, 'ceiling_height')['ceiling_height'].mean().round(decimals=2)"
   ]
  },
  {
   "cell_type": "markdown",
   "metadata": {
    "collapsed": false
   },
   "source": [
    "<font size=\"3\"> Средние значения снизились </font>"
   ]
  },
  {
   "cell_type": "markdown",
   "metadata": {
    "collapsed": false
   },
   "source": [
    "<font size=\"4\"> 4.4 Какие факторы больше всего влияют на стоимость квартиры? Изучите, зависит ли цена от площади, числа комнат, удалённости от центра. Изучите зависимость цены от того, на каком этаже расположена квартира: первом, последнем или другом. Также изучите зависимость от даты размещения: дня недели, месяца и года. </font>"
   ]
  },
  {
   "cell_type": "code",
   "execution_count": 38,
   "metadata": {
    "collapsed": false,
    "scrolled": true,
    "trusted": true
   },
   "outputs": [
    {
     "data": {
      "text/html": [
       "<div>\n",
       "<style scoped>\n",
       "    .dataframe tbody tr th:only-of-type {\n",
       "        vertical-align: middle;\n",
       "    }\n",
       "\n",
       "    .dataframe tbody tr th {\n",
       "        vertical-align: top;\n",
       "    }\n",
       "\n",
       "    .dataframe thead th {\n",
       "        text-align: right;\n",
       "    }\n",
       "</style>\n",
       "<table border=\"1\" class=\"dataframe\">\n",
       "  <thead>\n",
       "    <tr style=\"text-align: right;\">\n",
       "      <th></th>\n",
       "      <th>town_name</th>\n",
       "      <th>total_area_m2</th>\n",
       "      <th>living_area_m2</th>\n",
       "      <th>kitchen_area_m2</th>\n",
       "      <th>ceiling_height</th>\n",
       "      <th>rooms_count</th>\n",
       "      <th>balconies_count</th>\n",
       "      <th>floor_number</th>\n",
       "      <th>floors_count</th>\n",
       "      <th>is_apartment</th>\n",
       "      <th>is_studio</th>\n",
       "      <th>is_open_plan</th>\n",
       "      <th>total_images</th>\n",
       "      <th>last_price</th>\n",
       "      <th>first_day_exposition</th>\n",
       "      <th>days_exposition</th>\n",
       "      <th>city_centers_nearest</th>\n",
       "      <th>airports_nearest</th>\n",
       "      <th>parks_around_3km</th>\n",
       "      <th>parks_nearest</th>\n",
       "      <th>ponds_around_3km</th>\n",
       "      <th>ponds_nearest</th>\n",
       "      <th>price_per_meter</th>\n",
       "      <th>day_of_week_exposition</th>\n",
       "      <th>month_exposition</th>\n",
       "      <th>year_exposition</th>\n",
       "      <th>floor_status</th>\n",
       "      <th>total_living_area_ratio</th>\n",
       "      <th>total_kitchen_area_ratio</th>\n",
       "    </tr>\n",
       "  </thead>\n",
       "  <tbody>\n",
       "    <tr>\n",
       "      <td>0</td>\n",
       "      <td>санкт-петербург</td>\n",
       "      <td>108.00</td>\n",
       "      <td>51.00</td>\n",
       "      <td>25.00</td>\n",
       "      <td>2.70</td>\n",
       "      <td>3</td>\n",
       "      <td>0</td>\n",
       "      <td>8</td>\n",
       "      <td>16.00</td>\n",
       "      <td>False</td>\n",
       "      <td>False</td>\n",
       "      <td>False</td>\n",
       "      <td>20</td>\n",
       "      <td>13000000</td>\n",
       "      <td>2019-03-07</td>\n",
       "      <td>0</td>\n",
       "      <td>16,028.00</td>\n",
       "      <td>18,863.00</td>\n",
       "      <td>1.00</td>\n",
       "      <td>482.00</td>\n",
       "      <td>2.00</td>\n",
       "      <td>755.00</td>\n",
       "      <td>120,370.37</td>\n",
       "      <td>Thursday</td>\n",
       "      <td>March</td>\n",
       "      <td>2019</td>\n",
       "      <td>другой</td>\n",
       "      <td>0.47</td>\n",
       "      <td>0.23</td>\n",
       "    </tr>\n",
       "    <tr>\n",
       "      <td>1</td>\n",
       "      <td>поселок шушары</td>\n",
       "      <td>40.40</td>\n",
       "      <td>18.60</td>\n",
       "      <td>11.00</td>\n",
       "      <td>nan</td>\n",
       "      <td>1</td>\n",
       "      <td>2</td>\n",
       "      <td>1</td>\n",
       "      <td>11.00</td>\n",
       "      <td>False</td>\n",
       "      <td>False</td>\n",
       "      <td>False</td>\n",
       "      <td>7</td>\n",
       "      <td>3350000</td>\n",
       "      <td>2018-12-04</td>\n",
       "      <td>81</td>\n",
       "      <td>18,603.00</td>\n",
       "      <td>12,817.00</td>\n",
       "      <td>0.00</td>\n",
       "      <td>nan</td>\n",
       "      <td>0.00</td>\n",
       "      <td>nan</td>\n",
       "      <td>82,920.79</td>\n",
       "      <td>Tuesday</td>\n",
       "      <td>December</td>\n",
       "      <td>2018</td>\n",
       "      <td>первый</td>\n",
       "      <td>0.46</td>\n",
       "      <td>0.27</td>\n",
       "    </tr>\n",
       "    <tr>\n",
       "      <td>2</td>\n",
       "      <td>санкт-петербург</td>\n",
       "      <td>56.00</td>\n",
       "      <td>34.30</td>\n",
       "      <td>8.30</td>\n",
       "      <td>nan</td>\n",
       "      <td>2</td>\n",
       "      <td>0</td>\n",
       "      <td>4</td>\n",
       "      <td>5.00</td>\n",
       "      <td>False</td>\n",
       "      <td>False</td>\n",
       "      <td>False</td>\n",
       "      <td>10</td>\n",
       "      <td>5196000</td>\n",
       "      <td>2015-08-20</td>\n",
       "      <td>558</td>\n",
       "      <td>13,933.00</td>\n",
       "      <td>21,741.00</td>\n",
       "      <td>1.00</td>\n",
       "      <td>90.00</td>\n",
       "      <td>2.00</td>\n",
       "      <td>574.00</td>\n",
       "      <td>92,785.71</td>\n",
       "      <td>Thursday</td>\n",
       "      <td>August</td>\n",
       "      <td>2015</td>\n",
       "      <td>другой</td>\n",
       "      <td>0.61</td>\n",
       "      <td>0.15</td>\n",
       "    </tr>\n",
       "    <tr>\n",
       "      <td>3</td>\n",
       "      <td>санкт-петербург</td>\n",
       "      <td>159.00</td>\n",
       "      <td>nan</td>\n",
       "      <td>nan</td>\n",
       "      <td>nan</td>\n",
       "      <td>3</td>\n",
       "      <td>0</td>\n",
       "      <td>9</td>\n",
       "      <td>14.00</td>\n",
       "      <td>False</td>\n",
       "      <td>False</td>\n",
       "      <td>False</td>\n",
       "      <td>0</td>\n",
       "      <td>64900000</td>\n",
       "      <td>2015-07-24</td>\n",
       "      <td>424</td>\n",
       "      <td>6,800.00</td>\n",
       "      <td>28,098.00</td>\n",
       "      <td>2.00</td>\n",
       "      <td>84.00</td>\n",
       "      <td>3.00</td>\n",
       "      <td>234.00</td>\n",
       "      <td>408,176.10</td>\n",
       "      <td>Friday</td>\n",
       "      <td>July</td>\n",
       "      <td>2015</td>\n",
       "      <td>другой</td>\n",
       "      <td>nan</td>\n",
       "      <td>nan</td>\n",
       "    </tr>\n",
       "    <tr>\n",
       "      <td>4</td>\n",
       "      <td>санкт-петербург</td>\n",
       "      <td>100.00</td>\n",
       "      <td>32.00</td>\n",
       "      <td>41.00</td>\n",
       "      <td>3.03</td>\n",
       "      <td>2</td>\n",
       "      <td>0</td>\n",
       "      <td>13</td>\n",
       "      <td>14.00</td>\n",
       "      <td>False</td>\n",
       "      <td>False</td>\n",
       "      <td>False</td>\n",
       "      <td>2</td>\n",
       "      <td>10000000</td>\n",
       "      <td>2018-06-19</td>\n",
       "      <td>121</td>\n",
       "      <td>8,098.00</td>\n",
       "      <td>31,856.00</td>\n",
       "      <td>2.00</td>\n",
       "      <td>112.00</td>\n",
       "      <td>1.00</td>\n",
       "      <td>48.00</td>\n",
       "      <td>100,000.00</td>\n",
       "      <td>Tuesday</td>\n",
       "      <td>June</td>\n",
       "      <td>2018</td>\n",
       "      <td>другой</td>\n",
       "      <td>0.32</td>\n",
       "      <td>0.41</td>\n",
       "    </tr>\n",
       "  </tbody>\n",
       "</table>\n",
       "</div>"
      ],
      "text/plain": [
       "         town_name  total_area_m2  living_area_m2  kitchen_area_m2  \\\n",
       "0  санкт-петербург         108.00           51.00            25.00   \n",
       "1   поселок шушары          40.40           18.60            11.00   \n",
       "2  санкт-петербург          56.00           34.30             8.30   \n",
       "3  санкт-петербург         159.00             nan              nan   \n",
       "4  санкт-петербург         100.00           32.00            41.00   \n",
       "\n",
       "   ceiling_height  rooms_count  balconies_count  floor_number  floors_count  \\\n",
       "0            2.70            3                0             8         16.00   \n",
       "1             nan            1                2             1         11.00   \n",
       "2             nan            2                0             4          5.00   \n",
       "3             nan            3                0             9         14.00   \n",
       "4            3.03            2                0            13         14.00   \n",
       "\n",
       "   is_apartment  is_studio  is_open_plan  total_images  last_price  \\\n",
       "0         False      False         False            20    13000000   \n",
       "1         False      False         False             7     3350000   \n",
       "2         False      False         False            10     5196000   \n",
       "3         False      False         False             0    64900000   \n",
       "4         False      False         False             2    10000000   \n",
       "\n",
       "  first_day_exposition  days_exposition  city_centers_nearest  \\\n",
       "0           2019-03-07                0             16,028.00   \n",
       "1           2018-12-04               81             18,603.00   \n",
       "2           2015-08-20              558             13,933.00   \n",
       "3           2015-07-24              424              6,800.00   \n",
       "4           2018-06-19              121              8,098.00   \n",
       "\n",
       "   airports_nearest  parks_around_3km  parks_nearest  ponds_around_3km  \\\n",
       "0         18,863.00              1.00         482.00              2.00   \n",
       "1         12,817.00              0.00            nan              0.00   \n",
       "2         21,741.00              1.00          90.00              2.00   \n",
       "3         28,098.00              2.00          84.00              3.00   \n",
       "4         31,856.00              2.00         112.00              1.00   \n",
       "\n",
       "   ponds_nearest  price_per_meter day_of_week_exposition month_exposition  \\\n",
       "0         755.00       120,370.37               Thursday            March   \n",
       "1            nan        82,920.79                Tuesday         December   \n",
       "2         574.00        92,785.71               Thursday           August   \n",
       "3         234.00       408,176.10                 Friday             July   \n",
       "4          48.00       100,000.00                Tuesday             June   \n",
       "\n",
       "   year_exposition floor_status  total_living_area_ratio  \\\n",
       "0             2019       другой                     0.47   \n",
       "1             2018       первый                     0.46   \n",
       "2             2015       другой                     0.61   \n",
       "3             2015       другой                      nan   \n",
       "4             2018       другой                     0.32   \n",
       "\n",
       "   total_kitchen_area_ratio  \n",
       "0                      0.23  \n",
       "1                      0.27  \n",
       "2                      0.15  \n",
       "3                       nan  \n",
       "4                      0.41  "
      ]
     },
     "execution_count": 38,
     "metadata": {
     },
     "output_type": "execute_result"
    }
   ],
   "source": [
    "df.head()"
   ]
  },
  {
   "cell_type": "code",
   "execution_count": 39,
   "metadata": {
    "collapsed": false,
    "scrolled": true,
    "trusted": true
   },
   "outputs": [
    {
     "data": {
      "text/html": [
       "<style  type=\"text/css\" >\n",
       "    #T_17e30b2c_9e01_11eb_8647_02420a39004erow0_col0 {\n",
       "            background-color:  #b40426;\n",
       "            color:  #f1f1f1;\n",
       "        }    #T_17e30b2c_9e01_11eb_8647_02420a39004erow0_col1 {\n",
       "            background-color:  #cad8ef;\n",
       "            color:  #000000;\n",
       "        }    #T_17e30b2c_9e01_11eb_8647_02420a39004erow0_col2 {\n",
       "            background-color:  #3b4cc0;\n",
       "            color:  #f1f1f1;\n",
       "        }    #T_17e30b2c_9e01_11eb_8647_02420a39004erow0_col3 {\n",
       "            background-color:  #7da0f9;\n",
       "            color:  #000000;\n",
       "        }    #T_17e30b2c_9e01_11eb_8647_02420a39004erow1_col0 {\n",
       "            background-color:  #d5dbe5;\n",
       "            color:  #000000;\n",
       "        }    #T_17e30b2c_9e01_11eb_8647_02420a39004erow1_col1 {\n",
       "            background-color:  #b40426;\n",
       "            color:  #f1f1f1;\n",
       "        }    #T_17e30b2c_9e01_11eb_8647_02420a39004erow1_col2 {\n",
       "            background-color:  #4f69d9;\n",
       "            color:  #000000;\n",
       "        }    #T_17e30b2c_9e01_11eb_8647_02420a39004erow1_col3 {\n",
       "            background-color:  #ee8669;\n",
       "            color:  #000000;\n",
       "        }    #T_17e30b2c_9e01_11eb_8647_02420a39004erow2_col0 {\n",
       "            background-color:  #3b4cc0;\n",
       "            color:  #f1f1f1;\n",
       "        }    #T_17e30b2c_9e01_11eb_8647_02420a39004erow2_col1 {\n",
       "            background-color:  #3b4cc0;\n",
       "            color:  #f1f1f1;\n",
       "        }    #T_17e30b2c_9e01_11eb_8647_02420a39004erow2_col2 {\n",
       "            background-color:  #b40426;\n",
       "            color:  #f1f1f1;\n",
       "        }    #T_17e30b2c_9e01_11eb_8647_02420a39004erow2_col3 {\n",
       "            background-color:  #3b4cc0;\n",
       "            color:  #f1f1f1;\n",
       "        }    #T_17e30b2c_9e01_11eb_8647_02420a39004erow3_col0 {\n",
       "            background-color:  #9abbff;\n",
       "            color:  #000000;\n",
       "        }    #T_17e30b2c_9e01_11eb_8647_02420a39004erow3_col1 {\n",
       "            background-color:  #ec8165;\n",
       "            color:  #000000;\n",
       "        }    #T_17e30b2c_9e01_11eb_8647_02420a39004erow3_col2 {\n",
       "            background-color:  #5b7ae5;\n",
       "            color:  #000000;\n",
       "        }    #T_17e30b2c_9e01_11eb_8647_02420a39004erow3_col3 {\n",
       "            background-color:  #b40426;\n",
       "            color:  #f1f1f1;\n",
       "        }</style><table id=\"T_17e30b2c_9e01_11eb_8647_02420a39004e\" ><thead>    <tr>        <th class=\"blank level0\" ></th>        <th class=\"col_heading level0 col0\" >price_per_meter</th>        <th class=\"col_heading level0 col1\" >total_area_m2</th>        <th class=\"col_heading level0 col2\" >city_centers_nearest</th>        <th class=\"col_heading level0 col3\" >rooms_count</th>    </tr></thead><tbody>\n",
       "                <tr>\n",
       "                        <th id=\"T_17e30b2c_9e01_11eb_8647_02420a39004elevel0_row0\" class=\"row_heading level0 row0\" >price_per_meter</th>\n",
       "                        <td id=\"T_17e30b2c_9e01_11eb_8647_02420a39004erow0_col0\" class=\"data row0 col0\" >1</td>\n",
       "                        <td id=\"T_17e30b2c_9e01_11eb_8647_02420a39004erow0_col1\" class=\"data row0 col1\" >0.3</td>\n",
       "                        <td id=\"T_17e30b2c_9e01_11eb_8647_02420a39004erow0_col2\" class=\"data row0 col2\" >-0.32</td>\n",
       "                        <td id=\"T_17e30b2c_9e01_11eb_8647_02420a39004erow0_col3\" class=\"data row0 col3\" >0.06</td>\n",
       "            </tr>\n",
       "            <tr>\n",
       "                        <th id=\"T_17e30b2c_9e01_11eb_8647_02420a39004elevel0_row1\" class=\"row_heading level0 row1\" >total_area_m2</th>\n",
       "                        <td id=\"T_17e30b2c_9e01_11eb_8647_02420a39004erow1_col0\" class=\"data row1 col0\" >0.3</td>\n",
       "                        <td id=\"T_17e30b2c_9e01_11eb_8647_02420a39004erow1_col1\" class=\"data row1 col1\" >1</td>\n",
       "                        <td id=\"T_17e30b2c_9e01_11eb_8647_02420a39004erow1_col2\" class=\"data row1 col2\" >-0.23</td>\n",
       "                        <td id=\"T_17e30b2c_9e01_11eb_8647_02420a39004erow1_col3\" class=\"data row1 col3\" >0.76</td>\n",
       "            </tr>\n",
       "            <tr>\n",
       "                        <th id=\"T_17e30b2c_9e01_11eb_8647_02420a39004elevel0_row2\" class=\"row_heading level0 row2\" >city_centers_nearest</th>\n",
       "                        <td id=\"T_17e30b2c_9e01_11eb_8647_02420a39004erow2_col0\" class=\"data row2 col0\" >-0.32</td>\n",
       "                        <td id=\"T_17e30b2c_9e01_11eb_8647_02420a39004erow2_col1\" class=\"data row2 col1\" >-0.23</td>\n",
       "                        <td id=\"T_17e30b2c_9e01_11eb_8647_02420a39004erow2_col2\" class=\"data row2 col2\" >1</td>\n",
       "                        <td id=\"T_17e30b2c_9e01_11eb_8647_02420a39004erow2_col3\" class=\"data row2 col3\" >-0.18</td>\n",
       "            </tr>\n",
       "            <tr>\n",
       "                        <th id=\"T_17e30b2c_9e01_11eb_8647_02420a39004elevel0_row3\" class=\"row_heading level0 row3\" >rooms_count</th>\n",
       "                        <td id=\"T_17e30b2c_9e01_11eb_8647_02420a39004erow3_col0\" class=\"data row3 col0\" >0.06</td>\n",
       "                        <td id=\"T_17e30b2c_9e01_11eb_8647_02420a39004erow3_col1\" class=\"data row3 col1\" >0.76</td>\n",
       "                        <td id=\"T_17e30b2c_9e01_11eb_8647_02420a39004erow3_col2\" class=\"data row3 col2\" >-0.18</td>\n",
       "                        <td id=\"T_17e30b2c_9e01_11eb_8647_02420a39004erow3_col3\" class=\"data row3 col3\" >1</td>\n",
       "            </tr>\n",
       "    </tbody></table>"
      ],
      "text/plain": [
       "<pandas.io.formats.style.Styler at 0x7fe294d95b10>"
      ]
     },
     "execution_count": 39,
     "metadata": {
     },
     "output_type": "execute_result"
    }
   ],
   "source": [
    "corr = df[['price_per_meter',\\\n",
    "           'total_area_m2',\\\n",
    "           'city_centers_nearest',\\\n",
    "           'rooms_count']].corr().round(decimals=2)\n",
    "corr.style.background_gradient(cmap='coolwarm')"
   ]
  },
  {
   "cell_type": "markdown",
   "metadata": {
    "collapsed": false
   },
   "source": [
    "<font size=\"3\"> Цена в большей степени зависит от количества комнат, чем от общей площади. Расстояние до центра показывает отрицательную корреляцию, но что-то я сомневаюсь. </font>"
   ]
  },
  {
   "cell_type": "code",
   "execution_count": 40,
   "metadata": {
    "collapsed": false,
    "trusted": true
   },
   "outputs": [
    {
     "name": "stderr",
     "output_type": "stream",
     "text": [
      "/opt/conda/lib/python3.7/site-packages/numpy/core/_asarray.py:83: VisibleDeprecationWarning: Creating an ndarray from ragged nested sequences (which is a list-or-tuple of lists-or-tuples-or ndarrays with different lengths or shapes) is deprecated. If you meant to do this, you must specify 'dtype=object' when creating the ndarray\n",
      "  return array(a, dtype, copy=False, order=order)\n"
     ]
    },
    {
     "data": {
      "image/png": "[encoded data removed]",
      "text/plain": [
       "<Figure size 720x720 with 1 Axes>"
      ]
     },
     "execution_count": 40,
     "metadata": {
      "needs_background": "light"
     },
     "output_type": "execute_result"
    }
   ],
   "source": [
    "#посмотрим на зависимость цены от расположения на этажах\n",
    "plot = df.boxplot('price_per_meter', by='floor_status',figsize=(10,10)).set_ylim(0,200000)"
   ]
  },
  {
   "cell_type": "markdown",
   "metadata": {
    "collapsed": false
   },
   "source": [
    "<font size=\"3\"> Квартиры на первом этаже дешевле чем остальные. </font>"
   ]
  },
  {
   "cell_type": "code",
   "execution_count": 41,
   "metadata": {
    "collapsed": false,
    "scrolled": true,
    "trusted": true
   },
   "outputs": [
    {
     "name": "stderr",
     "output_type": "stream",
     "text": [
      "/opt/conda/lib/python3.7/site-packages/numpy/core/_asarray.py:83: VisibleDeprecationWarning: Creating an ndarray from ragged nested sequences (which is a list-or-tuple of lists-or-tuples-or ndarrays with different lengths or shapes) is deprecated. If you meant to do this, you must specify 'dtype=object' when creating the ndarray\n",
      "  return array(a, dtype, copy=False, order=order)\n"
     ]
    },
    {
     "data": {
      "image/png": "[encoded data removed]",
      "text/plain": [
       "<Figure size 720x720 with 1 Axes>"
      ]
     },
     "execution_count": 41,
     "metadata": {
      "needs_background": "light"
     },
     "output_type": "execute_result"
    }
   ],
   "source": [
    "#посмотрим на зависимость цены от дня размещения заявления\n",
    "plot = df.boxplot('price_per_meter', by='day_of_week_exposition',figsize=(10,10)).set_ylim(0,200000)"
   ]
  },
  {
   "cell_type": "markdown",
   "metadata": {
    "collapsed": false
   },
   "source": [
    "<font size=\"3\"> От дня выгрузки заявления, цена не так уж и меняется. </font>"
   ]
  },
  {
   "cell_type": "code",
   "execution_count": 42,
   "metadata": {
    "collapsed": false,
    "scrolled": true,
    "trusted": true
   },
   "outputs": [
    {
     "name": "stderr",
     "output_type": "stream",
     "text": [
      "/opt/conda/lib/python3.7/site-packages/numpy/core/_asarray.py:83: VisibleDeprecationWarning: Creating an ndarray from ragged nested sequences (which is a list-or-tuple of lists-or-tuples-or ndarrays with different lengths or shapes) is deprecated. If you meant to do this, you must specify 'dtype=object' when creating the ndarray\n",
      "  return array(a, dtype, copy=False, order=order)\n"
     ]
    },
    {
     "data": {
      "image/png": "[encoded data removed]",
      "text/plain": [
       "<Figure size 720x720 with 1 Axes>"
      ]
     },
     "execution_count": 42,
     "metadata": {
      "needs_background": "light"
     },
     "output_type": "execute_result"
    }
   ],
   "source": [
    "#посмотрим на зависимость цены от месяца размещения заявления\n",
    "plot = df.boxplot('price_per_meter', by='month_exposition',figsize=(10,10)).set_ylim(0,200000)"
   ]
  },
  {
   "cell_type": "markdown",
   "metadata": {
    "collapsed": false
   },
   "source": [
    "<font size=\"3\"> От месяца выгрузки заявления, цена практически не меняется. Думаю с годами будет интереснее. </font>"
   ]
  },
  {
   "cell_type": "code",
   "execution_count": 43,
   "metadata": {
    "collapsed": false,
    "trusted": true
   },
   "outputs": [
    {
     "name": "stderr",
     "output_type": "stream",
     "text": [
      "/opt/conda/lib/python3.7/site-packages/numpy/core/_asarray.py:83: VisibleDeprecationWarning: Creating an ndarray from ragged nested sequences (which is a list-or-tuple of lists-or-tuples-or ndarrays with different lengths or shapes) is deprecated. If you meant to do this, you must specify 'dtype=object' when creating the ndarray\n",
      "  return array(a, dtype, copy=False, order=order)\n"
     ]
    },
    {
     "data": {
      "image/png": "[encoded data removed]",
      "text/plain": [
       "<Figure size 720x720 with 1 Axes>"
      ]
     },
     "execution_count": 43,
     "metadata": {
      "needs_background": "light"
     },
     "output_type": "execute_result"
    }
   ],
   "source": [
    "#посмотрим на зависимость цены от года размещения заявления\n",
    "plot = df.boxplot('price_per_meter', by='year_exposition',figsize=(10,10)).set_ylim(0,200000)"
   ]
  },
  {
   "cell_type": "markdown",
   "metadata": {
    "collapsed": false
   },
   "source": [
    "<font size=\"3\"> Куда-то улетел 2014 год. Попробуем исправить и удалим аномальные значения </font>"
   ]
  },
  {
   "cell_type": "code",
   "execution_count": 44,
   "metadata": {
    "collapsed": false,
    "scrolled": true,
    "trusted": true
   },
   "outputs": [
    {
     "name": "stderr",
     "output_type": "stream",
     "text": [
      "/opt/conda/lib/python3.7/site-packages/numpy/core/_asarray.py:83: VisibleDeprecationWarning: Creating an ndarray from ragged nested sequences (which is a list-or-tuple of lists-or-tuples-or ndarrays with different lengths or shapes) is deprecated. If you meant to do this, you must specify 'dtype=object' when creating the ndarray\n",
      "  return array(a, dtype, copy=False, order=order)\n"
     ]
    },
    {
     "data": {
      "text/plain": [
       "(0, 200000)"
      ]
     },
     "execution_count": 44,
     "metadata": {
     },
     "output_type": "execute_result"
    },
    {
     "data": {
      "image/png": "[encoded data removed]",
      "text/plain": [
       "<Figure size 720x720 with 1 Axes>"
      ]
     },
     "execution_count": 44,
     "metadata": {
      "needs_background": "light"
     },
     "output_type": "execute_result"
    }
   ],
   "source": [
    "deletizer(df, 'price_per_meter').boxplot('price_per_meter', by='year_exposition',figsize=(10,10)).set_ylim(0,200000)"
   ]
  },
  {
   "cell_type": "markdown",
   "metadata": {
    "collapsed": false
   },
   "source": [
    "<font size=\"3\"> Видим что с 2014-2016 год стоимость квартир снижалась, с 2017 и по 2019 стоимость начала расти, рост продолжается до сих пор. </font>"
   ]
  },
  {
   "cell_type": "markdown",
   "metadata": {
    "collapsed": false
   },
   "source": [
    "<font size=\"4\"> 4.5 Выберите 10 населённых пунктов с наибольшим числом объявлений. Посчитайте среднюю цену квадратного метра в этих населённых пунктах. Выделите среди них населённые пункты с самой высокой и низкой стоимостью жилья. Эти данные можно найти по имени в столбце 'locality_name'. </font>"
   ]
  },
  {
   "cell_type": "code",
   "execution_count": 45,
   "metadata": {
    "collapsed": false,
    "trusted": true
   },
   "outputs": [
    {
     "data": {
      "text/plain": [
       "санкт-петербург      15721\n",
       "поселок мурино         556\n",
       "поселок шушары         440\n",
       "всеволожск             398\n",
       "пушкин                 369\n",
       "колпино                338\n",
       "поселок парголово      327\n",
       "гатчина                307\n",
       "деревня кудрово        299\n",
       "выборг                 237\n",
       "Name: town_name, dtype: int64"
      ]
     },
     "execution_count": 45,
     "metadata": {
     },
     "output_type": "execute_result"
    }
   ],
   "source": [
    "#посмотрим на количество объявлений по городам и выведем топ-10 по количеству объявлений\n",
    "df['town_name'].value_counts().head(10)"
   ]
  },
  {
   "cell_type": "code",
   "execution_count": 46,
   "metadata": {
    "collapsed": false,
    "scrolled": true,
    "trusted": true
   },
   "outputs": [
    {
     "data": {
      "text/html": [
       "<div>\n",
       "<style scoped>\n",
       "    .dataframe tbody tr th:only-of-type {\n",
       "        vertical-align: middle;\n",
       "    }\n",
       "\n",
       "    .dataframe tbody tr th {\n",
       "        vertical-align: top;\n",
       "    }\n",
       "\n",
       "    .dataframe thead th {\n",
       "        text-align: right;\n",
       "    }\n",
       "</style>\n",
       "<table border=\"1\" class=\"dataframe\">\n",
       "  <thead>\n",
       "    <tr style=\"text-align: right;\">\n",
       "      <th></th>\n",
       "      <th>price_per_meter</th>\n",
       "    </tr>\n",
       "    <tr>\n",
       "      <th>town_name</th>\n",
       "      <th></th>\n",
       "    </tr>\n",
       "  </thead>\n",
       "  <tbody>\n",
       "    <tr>\n",
       "      <td>зеленогорск</td>\n",
       "      <td>115,122.80</td>\n",
       "    </tr>\n",
       "    <tr>\n",
       "      <td>санкт-петербург</td>\n",
       "      <td>114,849.01</td>\n",
       "    </tr>\n",
       "    <tr>\n",
       "      <td>поселок репино</td>\n",
       "      <td>104,238.61</td>\n",
       "    </tr>\n",
       "    <tr>\n",
       "      <td>пушкин</td>\n",
       "      <td>103,125.82</td>\n",
       "    </tr>\n",
       "    <tr>\n",
       "      <td>сестрорецк</td>\n",
       "      <td>101,757.62</td>\n",
       "    </tr>\n",
       "    <tr>\n",
       "      <td>поселок лисий нос</td>\n",
       "      <td>100,660.82</td>\n",
       "    </tr>\n",
       "    <tr>\n",
       "      <td>кудрово</td>\n",
       "      <td>100,253.04</td>\n",
       "    </tr>\n",
       "    <tr>\n",
       "      <td>деревня мистолово</td>\n",
       "      <td>98,549.98</td>\n",
       "    </tr>\n",
       "    <tr>\n",
       "      <td>поселок левашово</td>\n",
       "      <td>96,997.69</td>\n",
       "    </tr>\n",
       "    <tr>\n",
       "      <td>мурино</td>\n",
       "      <td>92,722.71</td>\n",
       "    </tr>\n",
       "  </tbody>\n",
       "</table>\n",
       "</div>"
      ],
      "text/plain": [
       "                   price_per_meter\n",
       "town_name                         \n",
       "зеленогорск             115,122.80\n",
       "санкт-петербург         114,849.01\n",
       "поселок репино          104,238.61\n",
       "пушкин                  103,125.82\n",
       "сестрорецк              101,757.62\n",
       "поселок лисий нос       100,660.82\n",
       "кудрово                 100,253.04\n",
       "деревня мистолово        98,549.98\n",
       "поселок левашово         96,997.69\n",
       "мурино                   92,722.71"
      ]
     },
     "execution_count": 46,
     "metadata": {
     },
     "output_type": "execute_result"
    }
   ],
   "source": [
    "#найдем среднее значение цены за квадратный метр и выведем топ-10 самых дорогих\n",
    "town_rate = df.pivot_table(index = 'town_name', values='price_per_meter', aggfunc='mean')\n",
    "town_rate.sort_values(by='price_per_meter', ascending=False).head(10)"
   ]
  },
  {
   "cell_type": "code",
   "execution_count": 47,
   "metadata": {
    "collapsed": false,
    "scrolled": true,
    "trusted": true
   },
   "outputs": [
    {
     "data": {
      "text/html": [
       "<div>\n",
       "<style scoped>\n",
       "    .dataframe tbody tr th:only-of-type {\n",
       "        vertical-align: middle;\n",
       "    }\n",
       "\n",
       "    .dataframe tbody tr th {\n",
       "        vertical-align: top;\n",
       "    }\n",
       "\n",
       "    .dataframe thead th {\n",
       "        text-align: right;\n",
       "    }\n",
       "</style>\n",
       "<table border=\"1\" class=\"dataframe\">\n",
       "  <thead>\n",
       "    <tr style=\"text-align: right;\">\n",
       "      <th></th>\n",
       "      <th>price_per_meter</th>\n",
       "    </tr>\n",
       "    <tr>\n",
       "      <th>town_name</th>\n",
       "      <th></th>\n",
       "    </tr>\n",
       "  </thead>\n",
       "  <tbody>\n",
       "    <tr>\n",
       "      <td>деревня старополье</td>\n",
       "      <td>11,206.22</td>\n",
       "    </tr>\n",
       "    <tr>\n",
       "      <td>поселок станции свирь</td>\n",
       "      <td>11,481.48</td>\n",
       "    </tr>\n",
       "    <tr>\n",
       "      <td>деревня вахнова кара</td>\n",
       "      <td>11,688.31</td>\n",
       "    </tr>\n",
       "    <tr>\n",
       "      <td>деревня выскатка</td>\n",
       "      <td>12,335.48</td>\n",
       "    </tr>\n",
       "    <tr>\n",
       "      <td>поселок совхозный</td>\n",
       "      <td>12,629.13</td>\n",
       "    </tr>\n",
       "    <tr>\n",
       "      <td>деревня малая романовка</td>\n",
       "      <td>12,724.55</td>\n",
       "    </tr>\n",
       "    <tr>\n",
       "      <td>поселок тесово-4</td>\n",
       "      <td>12,931.03</td>\n",
       "    </tr>\n",
       "    <tr>\n",
       "      <td>деревня сижно</td>\n",
       "      <td>13,709.68</td>\n",
       "    </tr>\n",
       "    <tr>\n",
       "      <td>деревня ям-тесово</td>\n",
       "      <td>13,711.56</td>\n",
       "    </tr>\n",
       "    <tr>\n",
       "      <td>поселок житково</td>\n",
       "      <td>14,956.28</td>\n",
       "    </tr>\n",
       "  </tbody>\n",
       "</table>\n",
       "</div>"
      ],
      "text/plain": [
       "                         price_per_meter\n",
       "town_name                               \n",
       "деревня старополье             11,206.22\n",
       "поселок станции свирь          11,481.48\n",
       "деревня вахнова кара           11,688.31\n",
       "деревня выскатка               12,335.48\n",
       "поселок совхозный              12,629.13\n",
       "деревня малая романовка        12,724.55\n",
       "поселок тесово-4               12,931.03\n",
       "деревня сижно                  13,709.68\n",
       "деревня ям-тесово              13,711.56\n",
       "поселок житково                14,956.28"
      ]
     },
     "execution_count": 47,
     "metadata": {
     },
     "output_type": "execute_result"
    }
   ],
   "source": [
    "#выведем топ-10 самых дешевых\n",
    "town_rate.sort_values(by='price_per_meter', ascending=True).head(10)\n"
   ]
  },
  {
   "cell_type": "markdown",
   "metadata": {
    "collapsed": false
   },
   "source": [
    "<font size=\"3\"> Чтож, чем дальше в лес, тем дешевле квадратные метры. </font>"
   ]
  },
  {
   "cell_type": "markdown",
   "metadata": {
    "collapsed": false
   },
   "source": [
    "<font size=\"4\"> 4.6 Изучите предложения квартир: для каждой квартиры есть информация о расстоянии до центра. Выделите квартиры в Санкт-Петербурге ('locality_name'). Ваша задача — выяснить, какая область входит в центр. Создайте столбец с расстоянием до центра в километрах: округлите до целых значений. После этого посчитайте среднюю цену для каждого километра. Постройте график: он должен показывать, как цена зависит от удалённости от центра. Определите границу, где график сильно меняется — это и будет центральная зона. </font>"
   ]
  },
  {
   "cell_type": "code",
   "execution_count": 48,
   "metadata": {
    "collapsed": false,
    "trusted": true
   },
   "outputs": [
    {
     "name": "stderr",
     "output_type": "stream",
     "text": [
      "/opt/conda/lib/python3.7/site-packages/ipykernel_launcher.py:4: SettingWithCopyWarning: \n",
      "A value is trying to be set on a copy of a slice from a DataFrame.\n",
      "Try using .loc[row_indexer,col_indexer] = value instead\n",
      "\n",
      "See the caveats in the documentation: http://pandas.pydata.org/pandas-docs/stable/user_guide/indexing.html#returning-a-view-versus-a-copy\n",
      "  after removing the cwd from sys.path.\n"
     ]
    },
    {
     "data": {
      "text/html": [
       "<div>\n",
       "<style scoped>\n",
       "    .dataframe tbody tr th:only-of-type {\n",
       "        vertical-align: middle;\n",
       "    }\n",
       "\n",
       "    .dataframe tbody tr th {\n",
       "        vertical-align: top;\n",
       "    }\n",
       "\n",
       "    .dataframe thead th {\n",
       "        text-align: right;\n",
       "    }\n",
       "</style>\n",
       "<table border=\"1\" class=\"dataframe\">\n",
       "  <thead>\n",
       "    <tr style=\"text-align: right;\">\n",
       "      <th></th>\n",
       "      <th>town_name</th>\n",
       "      <th>total_area_m2</th>\n",
       "      <th>living_area_m2</th>\n",
       "      <th>kitchen_area_m2</th>\n",
       "      <th>ceiling_height</th>\n",
       "      <th>rooms_count</th>\n",
       "      <th>balconies_count</th>\n",
       "      <th>floor_number</th>\n",
       "      <th>floors_count</th>\n",
       "      <th>is_apartment</th>\n",
       "      <th>is_studio</th>\n",
       "      <th>is_open_plan</th>\n",
       "      <th>total_images</th>\n",
       "      <th>last_price</th>\n",
       "      <th>first_day_exposition</th>\n",
       "      <th>days_exposition</th>\n",
       "      <th>city_centers_nearest</th>\n",
       "      <th>airports_nearest</th>\n",
       "      <th>parks_around_3km</th>\n",
       "      <th>parks_nearest</th>\n",
       "      <th>ponds_around_3km</th>\n",
       "      <th>ponds_nearest</th>\n",
       "      <th>price_per_meter</th>\n",
       "      <th>day_of_week_exposition</th>\n",
       "      <th>month_exposition</th>\n",
       "      <th>year_exposition</th>\n",
       "      <th>floor_status</th>\n",
       "      <th>total_living_area_ratio</th>\n",
       "      <th>total_kitchen_area_ratio</th>\n",
       "      <th>city_centers_nearest_km</th>\n",
       "    </tr>\n",
       "  </thead>\n",
       "  <tbody>\n",
       "    <tr>\n",
       "      <td>0</td>\n",
       "      <td>санкт-петербург</td>\n",
       "      <td>108.00</td>\n",
       "      <td>51.00</td>\n",
       "      <td>25.00</td>\n",
       "      <td>2.70</td>\n",
       "      <td>3</td>\n",
       "      <td>0</td>\n",
       "      <td>8</td>\n",
       "      <td>16.00</td>\n",
       "      <td>False</td>\n",
       "      <td>False</td>\n",
       "      <td>False</td>\n",
       "      <td>20</td>\n",
       "      <td>13000000</td>\n",
       "      <td>2019-03-07</td>\n",
       "      <td>0</td>\n",
       "      <td>16,028.00</td>\n",
       "      <td>18,863.00</td>\n",
       "      <td>1.00</td>\n",
       "      <td>482.00</td>\n",
       "      <td>2.00</td>\n",
       "      <td>755.00</td>\n",
       "      <td>120,370.37</td>\n",
       "      <td>Thursday</td>\n",
       "      <td>March</td>\n",
       "      <td>2019</td>\n",
       "      <td>другой</td>\n",
       "      <td>0.47</td>\n",
       "      <td>0.23</td>\n",
       "      <td>16.00</td>\n",
       "    </tr>\n",
       "    <tr>\n",
       "      <td>2</td>\n",
       "      <td>санкт-петербург</td>\n",
       "      <td>56.00</td>\n",
       "      <td>34.30</td>\n",
       "      <td>8.30</td>\n",
       "      <td>nan</td>\n",
       "      <td>2</td>\n",
       "      <td>0</td>\n",
       "      <td>4</td>\n",
       "      <td>5.00</td>\n",
       "      <td>False</td>\n",
       "      <td>False</td>\n",
       "      <td>False</td>\n",
       "      <td>10</td>\n",
       "      <td>5196000</td>\n",
       "      <td>2015-08-20</td>\n",
       "      <td>558</td>\n",
       "      <td>13,933.00</td>\n",
       "      <td>21,741.00</td>\n",
       "      <td>1.00</td>\n",
       "      <td>90.00</td>\n",
       "      <td>2.00</td>\n",
       "      <td>574.00</td>\n",
       "      <td>92,785.71</td>\n",
       "      <td>Thursday</td>\n",
       "      <td>August</td>\n",
       "      <td>2015</td>\n",
       "      <td>другой</td>\n",
       "      <td>0.61</td>\n",
       "      <td>0.15</td>\n",
       "      <td>14.00</td>\n",
       "    </tr>\n",
       "    <tr>\n",
       "      <td>3</td>\n",
       "      <td>санкт-петербург</td>\n",
       "      <td>159.00</td>\n",
       "      <td>nan</td>\n",
       "      <td>nan</td>\n",
       "      <td>nan</td>\n",
       "      <td>3</td>\n",
       "      <td>0</td>\n",
       "      <td>9</td>\n",
       "      <td>14.00</td>\n",
       "      <td>False</td>\n",
       "      <td>False</td>\n",
       "      <td>False</td>\n",
       "      <td>0</td>\n",
       "      <td>64900000</td>\n",
       "      <td>2015-07-24</td>\n",
       "      <td>424</td>\n",
       "      <td>6,800.00</td>\n",
       "      <td>28,098.00</td>\n",
       "      <td>2.00</td>\n",
       "      <td>84.00</td>\n",
       "      <td>3.00</td>\n",
       "      <td>234.00</td>\n",
       "      <td>408,176.10</td>\n",
       "      <td>Friday</td>\n",
       "      <td>July</td>\n",
       "      <td>2015</td>\n",
       "      <td>другой</td>\n",
       "      <td>nan</td>\n",
       "      <td>nan</td>\n",
       "      <td>7.00</td>\n",
       "    </tr>\n",
       "    <tr>\n",
       "      <td>4</td>\n",
       "      <td>санкт-петербург</td>\n",
       "      <td>100.00</td>\n",
       "      <td>32.00</td>\n",
       "      <td>41.00</td>\n",
       "      <td>3.03</td>\n",
       "      <td>2</td>\n",
       "      <td>0</td>\n",
       "      <td>13</td>\n",
       "      <td>14.00</td>\n",
       "      <td>False</td>\n",
       "      <td>False</td>\n",
       "      <td>False</td>\n",
       "      <td>2</td>\n",
       "      <td>10000000</td>\n",
       "      <td>2018-06-19</td>\n",
       "      <td>121</td>\n",
       "      <td>8,098.00</td>\n",
       "      <td>31,856.00</td>\n",
       "      <td>2.00</td>\n",
       "      <td>112.00</td>\n",
       "      <td>1.00</td>\n",
       "      <td>48.00</td>\n",
       "      <td>100,000.00</td>\n",
       "      <td>Tuesday</td>\n",
       "      <td>June</td>\n",
       "      <td>2018</td>\n",
       "      <td>другой</td>\n",
       "      <td>0.32</td>\n",
       "      <td>0.41</td>\n",
       "      <td>8.00</td>\n",
       "    </tr>\n",
       "    <tr>\n",
       "      <td>7</td>\n",
       "      <td>санкт-петербург</td>\n",
       "      <td>71.60</td>\n",
       "      <td>nan</td>\n",
       "      <td>18.90</td>\n",
       "      <td>nan</td>\n",
       "      <td>2</td>\n",
       "      <td>2</td>\n",
       "      <td>22</td>\n",
       "      <td>24.00</td>\n",
       "      <td>False</td>\n",
       "      <td>False</td>\n",
       "      <td>False</td>\n",
       "      <td>5</td>\n",
       "      <td>7915000</td>\n",
       "      <td>2019-04-18</td>\n",
       "      <td>0</td>\n",
       "      <td>11,634.00</td>\n",
       "      <td>23,982.00</td>\n",
       "      <td>0.00</td>\n",
       "      <td>nan</td>\n",
       "      <td>0.00</td>\n",
       "      <td>nan</td>\n",
       "      <td>110,544.69</td>\n",
       "      <td>Thursday</td>\n",
       "      <td>April</td>\n",
       "      <td>2019</td>\n",
       "      <td>другой</td>\n",
       "      <td>nan</td>\n",
       "      <td>0.26</td>\n",
       "      <td>12.00</td>\n",
       "    </tr>\n",
       "  </tbody>\n",
       "</table>\n",
       "</div>"
      ],
      "text/plain": [
       "         town_name  total_area_m2  living_area_m2  kitchen_area_m2  \\\n",
       "0  санкт-петербург         108.00           51.00            25.00   \n",
       "2  санкт-петербург          56.00           34.30             8.30   \n",
       "3  санкт-петербург         159.00             nan              nan   \n",
       "4  санкт-петербург         100.00           32.00            41.00   \n",
       "7  санкт-петербург          71.60             nan            18.90   \n",
       "\n",
       "   ceiling_height  rooms_count  balconies_count  floor_number  floors_count  \\\n",
       "0            2.70            3                0             8         16.00   \n",
       "2             nan            2                0             4          5.00   \n",
       "3             nan            3                0             9         14.00   \n",
       "4            3.03            2                0            13         14.00   \n",
       "7             nan            2                2            22         24.00   \n",
       "\n",
       "   is_apartment  is_studio  is_open_plan  total_images  last_price  \\\n",
       "0         False      False         False            20    13000000   \n",
       "2         False      False         False            10     5196000   \n",
       "3         False      False         False             0    64900000   \n",
       "4         False      False         False             2    10000000   \n",
       "7         False      False         False             5     7915000   \n",
       "\n",
       "  first_day_exposition  days_exposition  city_centers_nearest  \\\n",
       "0           2019-03-07                0             16,028.00   \n",
       "2           2015-08-20              558             13,933.00   \n",
       "3           2015-07-24              424              6,800.00   \n",
       "4           2018-06-19              121              8,098.00   \n",
       "7           2019-04-18                0             11,634.00   \n",
       "\n",
       "   airports_nearest  parks_around_3km  parks_nearest  ponds_around_3km  \\\n",
       "0         18,863.00              1.00         482.00              2.00   \n",
       "2         21,741.00              1.00          90.00              2.00   \n",
       "3         28,098.00              2.00          84.00              3.00   \n",
       "4         31,856.00              2.00         112.00              1.00   \n",
       "7         23,982.00              0.00            nan              0.00   \n",
       "\n",
       "   ponds_nearest  price_per_meter day_of_week_exposition month_exposition  \\\n",
       "0         755.00       120,370.37               Thursday            March   \n",
       "2         574.00        92,785.71               Thursday           August   \n",
       "3         234.00       408,176.10                 Friday             July   \n",
       "4          48.00       100,000.00                Tuesday             June   \n",
       "7            nan       110,544.69               Thursday            April   \n",
       "\n",
       "   year_exposition floor_status  total_living_area_ratio  \\\n",
       "0             2019       другой                     0.47   \n",
       "2             2015       другой                     0.61   \n",
       "3             2015       другой                      nan   \n",
       "4             2018       другой                     0.32   \n",
       "7             2019       другой                      nan   \n",
       "\n",
       "   total_kitchen_area_ratio  city_centers_nearest_km  \n",
       "0                      0.23                    16.00  \n",
       "2                      0.15                    14.00  \n",
       "3                       nan                     7.00  \n",
       "4                      0.41                     8.00  \n",
       "7                      0.26                    12.00  "
      ]
     },
     "execution_count": 48,
     "metadata": {
     },
     "output_type": "execute_result"
    }
   ],
   "source": [
    "#выделим квартиры которые находятся в Санкт-Петербурге\n",
    "piter = df.query('town_name == \"санкт-петербург\"')\n",
    "#создадим столюец с расстоянием до центра в км.\n",
    "piter['city_centers_nearest_km'] = (piter['city_centers_nearest'] / 1000).round()\n",
    "piter.head()"
   ]
  },
  {
   "cell_type": "code",
   "execution_count": 49,
   "metadata": {
    "collapsed": false,
    "scrolled": true,
    "trusted": true
   },
   "outputs": [
    {
     "data": {
      "text/html": [
       "<div>\n",
       "<style scoped>\n",
       "    .dataframe tbody tr th:only-of-type {\n",
       "        vertical-align: middle;\n",
       "    }\n",
       "\n",
       "    .dataframe tbody tr th {\n",
       "        vertical-align: top;\n",
       "    }\n",
       "\n",
       "    .dataframe thead th {\n",
       "        text-align: right;\n",
       "    }\n",
       "</style>\n",
       "<table border=\"1\" class=\"dataframe\">\n",
       "  <thead>\n",
       "    <tr style=\"text-align: right;\">\n",
       "      <th></th>\n",
       "      <th>last_price</th>\n",
       "    </tr>\n",
       "    <tr>\n",
       "      <th>city_centers_nearest_km</th>\n",
       "      <th></th>\n",
       "    </tr>\n",
       "  </thead>\n",
       "  <tbody>\n",
       "    <tr>\n",
       "      <td>0.00</td>\n",
       "      <td>31,449,115.85</td>\n",
       "    </tr>\n",
       "    <tr>\n",
       "      <td>1.00</td>\n",
       "      <td>21,206,720.83</td>\n",
       "    </tr>\n",
       "    <tr>\n",
       "      <td>2.00</td>\n",
       "      <td>17,788,319.61</td>\n",
       "    </tr>\n",
       "    <tr>\n",
       "      <td>3.00</td>\n",
       "      <td>11,126,581.00</td>\n",
       "    </tr>\n",
       "    <tr>\n",
       "      <td>4.00</td>\n",
       "      <td>13,304,279.53</td>\n",
       "    </tr>\n",
       "    <tr>\n",
       "      <td>5.00</td>\n",
       "      <td>14,499,121.06</td>\n",
       "    </tr>\n",
       "    <tr>\n",
       "      <td>6.00</td>\n",
       "      <td>15,338,418.39</td>\n",
       "    </tr>\n",
       "    <tr>\n",
       "      <td>7.00</td>\n",
       "      <td>14,775,152.59</td>\n",
       "    </tr>\n",
       "    <tr>\n",
       "      <td>8.00</td>\n",
       "      <td>9,957,716.83</td>\n",
       "    </tr>\n",
       "    <tr>\n",
       "      <td>9.00</td>\n",
       "      <td>6,950,658.58</td>\n",
       "    </tr>\n",
       "  </tbody>\n",
       "</table>\n",
       "</div>"
      ],
      "text/plain": [
       "                           last_price\n",
       "city_centers_nearest_km              \n",
       "0.00                    31,449,115.85\n",
       "1.00                    21,206,720.83\n",
       "2.00                    17,788,319.61\n",
       "3.00                    11,126,581.00\n",
       "4.00                    13,304,279.53\n",
       "5.00                    14,499,121.06\n",
       "6.00                    15,338,418.39\n",
       "7.00                    14,775,152.59\n",
       "8.00                     9,957,716.83\n",
       "9.00                     6,950,658.58"
      ]
     },
     "execution_count": 49,
     "metadata": {
     },
     "output_type": "execute_result"
    }
   ],
   "source": [
    "#создадим сводную таблицу с ценой и расстоянием до центра и найдем среднюю\n",
    "piter_price_for_km = piter.pivot_table(index='city_centers_nearest_km', values='last_price', aggfunc='mean')\n",
    "piter_price_for_km.head(10)"
   ]
  },
  {
   "cell_type": "code",
   "execution_count": 50,
   "metadata": {
    "collapsed": false,
    "scrolled": true,
    "trusted": true
   },
   "outputs": [
    {
     "data": {
      "text/plain": [
       "<matplotlib.axes._subplots.AxesSubplot at 0x7fe2950dd950>"
      ]
     },
     "execution_count": 50,
     "metadata": {
     },
     "output_type": "execute_result"
    },
    {
     "data": {
      "image/png": "[encoded data removed]",
      "text/plain": [
       "<Figure size 864x432 with 1 Axes>"
      ]
     },
     "execution_count": 50,
     "metadata": {
      "needs_background": "light"
     },
     "output_type": "execute_result"
    }
   ],
   "source": [
    "piter_price_for_km.plot(style='o-', grid=True, figsize=(12, 6))"
   ]
  },
  {
   "cell_type": "markdown",
   "metadata": {
    "collapsed": false
   },
   "source": [
    "<font size=\"3\"> Цена сильно меняется в пределах 0-10 км, далее изменение цены не значительное. </font>"
   ]
  },
  {
   "cell_type": "markdown",
   "metadata": {
    "collapsed": false
   },
   "source": [
    "<font size=\"4\"> 4.7 Выделите сегмент квартир в центре. Проанализируйте эту территорию и изучите следующие параметры: площадь, цена, число комнат, высота потолков. Также выделите факторы, которые влияют на стоимость квартиры (число комнат, этаж, удалённость от центра, дата размещения объявления). Сделайте выводы. Отличаются ли они от общих выводов по всему городу? </font>"
   ]
  },
  {
   "cell_type": "code",
   "execution_count": 51,
   "metadata": {
    "collapsed": false,
    "scrolled": true,
    "trusted": true
   },
   "outputs": [
    {
     "data": {
      "text/html": [
       "<div>\n",
       "<style scoped>\n",
       "    .dataframe tbody tr th:only-of-type {\n",
       "        vertical-align: middle;\n",
       "    }\n",
       "\n",
       "    .dataframe tbody tr th {\n",
       "        vertical-align: top;\n",
       "    }\n",
       "\n",
       "    .dataframe thead th {\n",
       "        text-align: right;\n",
       "    }\n",
       "</style>\n",
       "<table border=\"1\" class=\"dataframe\">\n",
       "  <thead>\n",
       "    <tr style=\"text-align: right;\">\n",
       "      <th></th>\n",
       "      <th>ceiling_height</th>\n",
       "      <th>price_per_meter</th>\n",
       "      <th>rooms_count</th>\n",
       "      <th>total_area_m2</th>\n",
       "    </tr>\n",
       "    <tr>\n",
       "      <th>town_name</th>\n",
       "      <th></th>\n",
       "      <th></th>\n",
       "      <th></th>\n",
       "      <th></th>\n",
       "    </tr>\n",
       "  </thead>\n",
       "  <tbody>\n",
       "    <tr>\n",
       "      <td>санкт-петербург</td>\n",
       "      <td>3.09</td>\n",
       "      <td>138,715.03</td>\n",
       "      <td>2.67</td>\n",
       "      <td>86.44</td>\n",
       "    </tr>\n",
       "  </tbody>\n",
       "</table>\n",
       "</div>"
      ],
      "text/plain": [
       "                 ceiling_height  price_per_meter  rooms_count  total_area_m2\n",
       "town_name                                                                   \n",
       "санкт-петербург            3.09       138,715.03         2.67          86.44"
      ]
     },
     "execution_count": 51,
     "metadata": {
     },
     "output_type": "execute_result"
    }
   ],
   "source": [
    "#выделим сегмент квартир в центре и посмотрим на средние показатели\n",
    "city_centr_df = piter.query('city_centers_nearest_km < 10').pivot_table(\n",
    "    index='town_name', \n",
    "    values=['total_area_m2', \n",
    "            'price_per_meter',\n",
    "            'rooms_count', \n",
    "            'ceiling_height'])\n",
    "city_centr_df"
   ]
  },
  {
   "cell_type": "code",
   "execution_count": 52,
   "metadata": {
    "collapsed": false,
    "trusted": true
   },
   "outputs": [
    {
     "data": {
      "text/html": [
       "<div>\n",
       "<style scoped>\n",
       "    .dataframe tbody tr th:only-of-type {\n",
       "        vertical-align: middle;\n",
       "    }\n",
       "\n",
       "    .dataframe tbody tr th {\n",
       "        vertical-align: top;\n",
       "    }\n",
       "\n",
       "    .dataframe thead th {\n",
       "        text-align: right;\n",
       "    }\n",
       "</style>\n",
       "<table border=\"1\" class=\"dataframe\">\n",
       "  <thead>\n",
       "    <tr style=\"text-align: right;\">\n",
       "      <th></th>\n",
       "      <th>ceiling_height</th>\n",
       "      <th>price_per_meter</th>\n",
       "      <th>rooms_count</th>\n",
       "      <th>total_area_m2</th>\n",
       "    </tr>\n",
       "    <tr>\n",
       "      <th>town_name</th>\n",
       "      <th></th>\n",
       "      <th></th>\n",
       "      <th></th>\n",
       "      <th></th>\n",
       "    </tr>\n",
       "  </thead>\n",
       "  <tbody>\n",
       "    <tr>\n",
       "      <td>санкт-петербург</td>\n",
       "      <td>2.80</td>\n",
       "      <td>114,849.01</td>\n",
       "      <td>2.17</td>\n",
       "      <td>64.75</td>\n",
       "    </tr>\n",
       "  </tbody>\n",
       "</table>\n",
       "</div>"
      ],
      "text/plain": [
       "                 ceiling_height  price_per_meter  rooms_count  total_area_m2\n",
       "town_name                                                                   \n",
       "санкт-петербург            2.80       114,849.01         2.17          64.75"
      ]
     },
     "execution_count": 52,
     "metadata": {
     },
     "output_type": "execute_result"
    }
   ],
   "source": [
    "#посмотрим показатели по всему городу\n",
    "city_all = piter.pivot_table(\n",
    "    index='town_name', \n",
    "    values=['total_area_m2', \n",
    "            'price_per_meter',\n",
    "            'rooms_count', \n",
    "            'ceiling_height'])\n",
    "city_all"
   ]
  },
  {
   "cell_type": "code",
   "execution_count": 53,
   "metadata": {
    "collapsed": false,
    "scrolled": true,
    "trusted": true
   },
   "outputs": [
    {
     "data": {
      "text/html": [
       "<style  type=\"text/css\" >\n",
       "    #T_1a03a61e_9e01_11eb_8647_02420a39004erow0_col1 {\n",
       "            background-color:  #b40426;\n",
       "            color:  #f1f1f1;\n",
       "        }    #T_1a03a61e_9e01_11eb_8647_02420a39004erow1_col1 {\n",
       "            background-color:  #ed8366;\n",
       "            color:  #000000;\n",
       "        }    #T_1a03a61e_9e01_11eb_8647_02420a39004erow2_col1 {\n",
       "            background-color:  #f7b396;\n",
       "            color:  #000000;\n",
       "        }    #T_1a03a61e_9e01_11eb_8647_02420a39004erow3_col1 {\n",
       "            background-color:  #f2cbb7;\n",
       "            color:  #000000;\n",
       "        }    #T_1a03a61e_9e01_11eb_8647_02420a39004erow4_col1 {\n",
       "            background-color:  #ecd3c5;\n",
       "            color:  #000000;\n",
       "        }    #T_1a03a61e_9e01_11eb_8647_02420a39004erow5_col1 {\n",
       "            background-color:  #c7d7f0;\n",
       "            color:  #000000;\n",
       "        }    #T_1a03a61e_9e01_11eb_8647_02420a39004erow6_col1 {\n",
       "            background-color:  #85a8fc;\n",
       "            color:  #000000;\n",
       "        }    #T_1a03a61e_9e01_11eb_8647_02420a39004erow7_col1 {\n",
       "            background-color:  #84a7fc;\n",
       "            color:  #000000;\n",
       "        }    #T_1a03a61e_9e01_11eb_8647_02420a39004erow8_col1 {\n",
       "            background-color:  #81a4fb;\n",
       "            color:  #000000;\n",
       "        }    #T_1a03a61e_9e01_11eb_8647_02420a39004erow9_col1 {\n",
       "            background-color:  #779af7;\n",
       "            color:  #000000;\n",
       "        }    #T_1a03a61e_9e01_11eb_8647_02420a39004erow10_col1 {\n",
       "            background-color:  #6b8df0;\n",
       "            color:  #000000;\n",
       "        }    #T_1a03a61e_9e01_11eb_8647_02420a39004erow11_col1 {\n",
       "            background-color:  #6a8bef;\n",
       "            color:  #000000;\n",
       "        }    #T_1a03a61e_9e01_11eb_8647_02420a39004erow12_col1 {\n",
       "            background-color:  #6a8bef;\n",
       "            color:  #000000;\n",
       "        }    #T_1a03a61e_9e01_11eb_8647_02420a39004erow13_col1 {\n",
       "            background-color:  #6788ee;\n",
       "            color:  #000000;\n",
       "        }    #T_1a03a61e_9e01_11eb_8647_02420a39004erow14_col1 {\n",
       "            background-color:  #5f7fe8;\n",
       "            color:  #000000;\n",
       "        }    #T_1a03a61e_9e01_11eb_8647_02420a39004erow15_col1 {\n",
       "            background-color:  #5f7fe8;\n",
       "            color:  #000000;\n",
       "        }    #T_1a03a61e_9e01_11eb_8647_02420a39004erow16_col1 {\n",
       "            background-color:  #5d7ce6;\n",
       "            color:  #000000;\n",
       "        }    #T_1a03a61e_9e01_11eb_8647_02420a39004erow17_col1 {\n",
       "            background-color:  #5977e3;\n",
       "            color:  #000000;\n",
       "        }    #T_1a03a61e_9e01_11eb_8647_02420a39004erow18_col1 {\n",
       "            background-color:  #5673e0;\n",
       "            color:  #000000;\n",
       "        }    #T_1a03a61e_9e01_11eb_8647_02420a39004erow19_col1 {\n",
       "            background-color:  #536edd;\n",
       "            color:  #000000;\n",
       "        }    #T_1a03a61e_9e01_11eb_8647_02420a39004erow20_col1 {\n",
       "            background-color:  #4e68d8;\n",
       "            color:  #000000;\n",
       "        }    #T_1a03a61e_9e01_11eb_8647_02420a39004erow21_col1 {\n",
       "            background-color:  #465ecf;\n",
       "            color:  #f1f1f1;\n",
       "        }    #T_1a03a61e_9e01_11eb_8647_02420a39004erow22_col1 {\n",
       "            background-color:  #4358cb;\n",
       "            color:  #f1f1f1;\n",
       "        }    #T_1a03a61e_9e01_11eb_8647_02420a39004erow23_col1 {\n",
       "            background-color:  #3b4cc0;\n",
       "            color:  #f1f1f1;\n",
       "        }    #T_1a03a61e_9e01_11eb_8647_02420a39004erow24_col1 {\n",
       "            background-color:  #3b4cc0;\n",
       "            color:  #f1f1f1;\n",
       "        }</style><table id=\"T_1a03a61e_9e01_11eb_8647_02420a39004e\" ><thead>    <tr>        <th class=\"blank level0\" ></th>        <th class=\"col_heading level0 col0\" >index</th>        <th class=\"col_heading level0 col1\" >last_price</th>    </tr></thead><tbody>\n",
       "                <tr>\n",
       "                        <th id=\"T_1a03a61e_9e01_11eb_8647_02420a39004elevel0_row0\" class=\"row_heading level0 row0\" >0</th>\n",
       "                        <td id=\"T_1a03a61e_9e01_11eb_8647_02420a39004erow0_col0\" class=\"data row0 col0\" >last_price</td>\n",
       "                        <td id=\"T_1a03a61e_9e01_11eb_8647_02420a39004erow0_col1\" class=\"data row0 col1\" >1</td>\n",
       "            </tr>\n",
       "            <tr>\n",
       "                        <th id=\"T_1a03a61e_9e01_11eb_8647_02420a39004elevel0_row1\" class=\"row_heading level0 row1\" >1</th>\n",
       "                        <td id=\"T_1a03a61e_9e01_11eb_8647_02420a39004erow1_col0\" class=\"data row1 col0\" >price_per_meter</td>\n",
       "                        <td id=\"T_1a03a61e_9e01_11eb_8647_02420a39004erow1_col1\" class=\"data row1 col1\" >0.777451</td>\n",
       "            </tr>\n",
       "            <tr>\n",
       "                        <th id=\"T_1a03a61e_9e01_11eb_8647_02420a39004elevel0_row2\" class=\"row_heading level0 row2\" >2</th>\n",
       "                        <td id=\"T_1a03a61e_9e01_11eb_8647_02420a39004erow2_col0\" class=\"data row2 col0\" >total_area_m2</td>\n",
       "                        <td id=\"T_1a03a61e_9e01_11eb_8647_02420a39004erow2_col1\" class=\"data row2 col1\" >0.643813</td>\n",
       "            </tr>\n",
       "            <tr>\n",
       "                        <th id=\"T_1a03a61e_9e01_11eb_8647_02420a39004elevel0_row3\" class=\"row_heading level0 row3\" >3</th>\n",
       "                        <td id=\"T_1a03a61e_9e01_11eb_8647_02420a39004erow3_col0\" class=\"data row3 col0\" >living_area_m2</td>\n",
       "                        <td id=\"T_1a03a61e_9e01_11eb_8647_02420a39004erow3_col1\" class=\"data row3 col1\" >0.549097</td>\n",
       "            </tr>\n",
       "            <tr>\n",
       "                        <th id=\"T_1a03a61e_9e01_11eb_8647_02420a39004elevel0_row4\" class=\"row_heading level0 row4\" >4</th>\n",
       "                        <td id=\"T_1a03a61e_9e01_11eb_8647_02420a39004erow4_col0\" class=\"data row4 col0\" >kitchen_area_m2</td>\n",
       "                        <td id=\"T_1a03a61e_9e01_11eb_8647_02420a39004erow4_col1\" class=\"data row4 col1\" >0.508427</td>\n",
       "            </tr>\n",
       "            <tr>\n",
       "                        <th id=\"T_1a03a61e_9e01_11eb_8647_02420a39004elevel0_row5\" class=\"row_heading level0 row5\" >5</th>\n",
       "                        <td id=\"T_1a03a61e_9e01_11eb_8647_02420a39004erow5_col0\" class=\"data row5 col0\" >rooms_count</td>\n",
       "                        <td id=\"T_1a03a61e_9e01_11eb_8647_02420a39004erow5_col1\" class=\"data row5 col1\" >0.351014</td>\n",
       "            </tr>\n",
       "            <tr>\n",
       "                        <th id=\"T_1a03a61e_9e01_11eb_8647_02420a39004elevel0_row6\" class=\"row_heading level0 row6\" >6</th>\n",
       "                        <td id=\"T_1a03a61e_9e01_11eb_8647_02420a39004erow6_col0\" class=\"data row6 col0\" >total_images</td>\n",
       "                        <td id=\"T_1a03a61e_9e01_11eb_8647_02420a39004erow6_col1\" class=\"data row6 col1\" >0.133267</td>\n",
       "            </tr>\n",
       "            <tr>\n",
       "                        <th id=\"T_1a03a61e_9e01_11eb_8647_02420a39004elevel0_row7\" class=\"row_heading level0 row7\" >7</th>\n",
       "                        <td id=\"T_1a03a61e_9e01_11eb_8647_02420a39004erow7_col0\" class=\"data row7 col0\" >ponds_around_3km</td>\n",
       "                        <td id=\"T_1a03a61e_9e01_11eb_8647_02420a39004erow7_col1\" class=\"data row7 col1\" >0.126835</td>\n",
       "            </tr>\n",
       "            <tr>\n",
       "                        <th id=\"T_1a03a61e_9e01_11eb_8647_02420a39004elevel0_row8\" class=\"row_heading level0 row8\" >8</th>\n",
       "                        <td id=\"T_1a03a61e_9e01_11eb_8647_02420a39004erow8_col0\" class=\"data row8 col0\" >parks_around_3km</td>\n",
       "                        <td id=\"T_1a03a61e_9e01_11eb_8647_02420a39004erow8_col1\" class=\"data row8 col1\" >0.116525</td>\n",
       "            </tr>\n",
       "            <tr>\n",
       "                        <th id=\"T_1a03a61e_9e01_11eb_8647_02420a39004elevel0_row9\" class=\"row_heading level0 row9\" >9</th>\n",
       "                        <td id=\"T_1a03a61e_9e01_11eb_8647_02420a39004erow9_col0\" class=\"data row9 col0\" >floor_number</td>\n",
       "                        <td id=\"T_1a03a61e_9e01_11eb_8647_02420a39004erow9_col1\" class=\"data row9 col1\" >0.0877579</td>\n",
       "            </tr>\n",
       "            <tr>\n",
       "                        <th id=\"T_1a03a61e_9e01_11eb_8647_02420a39004elevel0_row10\" class=\"row_heading level0 row10\" >10</th>\n",
       "                        <td id=\"T_1a03a61e_9e01_11eb_8647_02420a39004erow10_col0\" class=\"data row10 col0\" >ceiling_height</td>\n",
       "                        <td id=\"T_1a03a61e_9e01_11eb_8647_02420a39004erow10_col1\" class=\"data row10 col1\" >0.0475125</td>\n",
       "            </tr>\n",
       "            <tr>\n",
       "                        <th id=\"T_1a03a61e_9e01_11eb_8647_02420a39004elevel0_row11\" class=\"row_heading level0 row11\" >11</th>\n",
       "                        <td id=\"T_1a03a61e_9e01_11eb_8647_02420a39004erow11_col0\" class=\"data row11 col0\" >balconies_count</td>\n",
       "                        <td id=\"T_1a03a61e_9e01_11eb_8647_02420a39004erow11_col1\" class=\"data row11 col1\" >0.0451942</td>\n",
       "            </tr>\n",
       "            <tr>\n",
       "                        <th id=\"T_1a03a61e_9e01_11eb_8647_02420a39004elevel0_row12\" class=\"row_heading level0 row12\" >12</th>\n",
       "                        <td id=\"T_1a03a61e_9e01_11eb_8647_02420a39004erow12_col0\" class=\"data row12 col0\" >days_exposition</td>\n",
       "                        <td id=\"T_1a03a61e_9e01_11eb_8647_02420a39004erow12_col1\" class=\"data row12 col1\" >0.0423756</td>\n",
       "            </tr>\n",
       "            <tr>\n",
       "                        <th id=\"T_1a03a61e_9e01_11eb_8647_02420a39004elevel0_row13\" class=\"row_heading level0 row13\" >13</th>\n",
       "                        <td id=\"T_1a03a61e_9e01_11eb_8647_02420a39004erow13_col0\" class=\"data row13 col0\" >is_apartment</td>\n",
       "                        <td id=\"T_1a03a61e_9e01_11eb_8647_02420a39004erow13_col1\" class=\"data row13 col1\" >0.0349956</td>\n",
       "            </tr>\n",
       "            <tr>\n",
       "                        <th id=\"T_1a03a61e_9e01_11eb_8647_02420a39004elevel0_row14\" class=\"row_heading level0 row14\" >14</th>\n",
       "                        <td id=\"T_1a03a61e_9e01_11eb_8647_02420a39004erow14_col0\" class=\"data row14 col0\" >is_open_plan</td>\n",
       "                        <td id=\"T_1a03a61e_9e01_11eb_8647_02420a39004erow14_col1\" class=\"data row14 col1\" >0.00758788</td>\n",
       "            </tr>\n",
       "            <tr>\n",
       "                        <th id=\"T_1a03a61e_9e01_11eb_8647_02420a39004elevel0_row15\" class=\"row_heading level0 row15\" >15</th>\n",
       "                        <td id=\"T_1a03a61e_9e01_11eb_8647_02420a39004erow15_col0\" class=\"data row15 col0\" >floors_count</td>\n",
       "                        <td id=\"T_1a03a61e_9e01_11eb_8647_02420a39004erow15_col1\" class=\"data row15 col1\" >0.0074163</td>\n",
       "            </tr>\n",
       "            <tr>\n",
       "                        <th id=\"T_1a03a61e_9e01_11eb_8647_02420a39004elevel0_row16\" class=\"row_heading level0 row16\" >16</th>\n",
       "                        <td id=\"T_1a03a61e_9e01_11eb_8647_02420a39004erow16_col0\" class=\"data row16 col0\" >airports_nearest</td>\n",
       "                        <td id=\"T_1a03a61e_9e01_11eb_8647_02420a39004erow16_col1\" class=\"data row16 col1\" >0.00162006</td>\n",
       "            </tr>\n",
       "            <tr>\n",
       "                        <th id=\"T_1a03a61e_9e01_11eb_8647_02420a39004elevel0_row17\" class=\"row_heading level0 row17\" >17</th>\n",
       "                        <td id=\"T_1a03a61e_9e01_11eb_8647_02420a39004erow17_col0\" class=\"data row17 col0\" >total_living_area_ratio</td>\n",
       "                        <td id=\"T_1a03a61e_9e01_11eb_8647_02420a39004erow17_col1\" class=\"data row17 col1\" >-0.0137199</td>\n",
       "            </tr>\n",
       "            <tr>\n",
       "                        <th id=\"T_1a03a61e_9e01_11eb_8647_02420a39004elevel0_row18\" class=\"row_heading level0 row18\" >18</th>\n",
       "                        <td id=\"T_1a03a61e_9e01_11eb_8647_02420a39004erow18_col0\" class=\"data row18 col0\" >is_studio</td>\n",
       "                        <td id=\"T_1a03a61e_9e01_11eb_8647_02420a39004erow18_col1\" class=\"data row18 col1\" >-0.0241557</td>\n",
       "            </tr>\n",
       "            <tr>\n",
       "                        <th id=\"T_1a03a61e_9e01_11eb_8647_02420a39004elevel0_row19\" class=\"row_heading level0 row19\" >19</th>\n",
       "                        <td id=\"T_1a03a61e_9e01_11eb_8647_02420a39004erow19_col0\" class=\"data row19 col0\" >parks_nearest</td>\n",
       "                        <td id=\"T_1a03a61e_9e01_11eb_8647_02420a39004erow19_col1\" class=\"data row19 col1\" >-0.0358591</td>\n",
       "            </tr>\n",
       "            <tr>\n",
       "                        <th id=\"T_1a03a61e_9e01_11eb_8647_02420a39004elevel0_row20\" class=\"row_heading level0 row20\" >20</th>\n",
       "                        <td id=\"T_1a03a61e_9e01_11eb_8647_02420a39004erow20_col0\" class=\"data row20 col0\" >year_exposition</td>\n",
       "                        <td id=\"T_1a03a61e_9e01_11eb_8647_02420a39004erow20_col1\" class=\"data row20 col1\" >-0.0524304</td>\n",
       "            </tr>\n",
       "            <tr>\n",
       "                        <th id=\"T_1a03a61e_9e01_11eb_8647_02420a39004elevel0_row21\" class=\"row_heading level0 row21\" >21</th>\n",
       "                        <td id=\"T_1a03a61e_9e01_11eb_8647_02420a39004erow21_col0\" class=\"data row21 col0\" >ponds_nearest</td>\n",
       "                        <td id=\"T_1a03a61e_9e01_11eb_8647_02420a39004erow21_col1\" class=\"data row21 col1\" >-0.0801506</td>\n",
       "            </tr>\n",
       "            <tr>\n",
       "                        <th id=\"T_1a03a61e_9e01_11eb_8647_02420a39004elevel0_row22\" class=\"row_heading level0 row22\" >22</th>\n",
       "                        <td id=\"T_1a03a61e_9e01_11eb_8647_02420a39004erow22_col0\" class=\"data row22 col0\" >total_kitchen_area_ratio</td>\n",
       "                        <td id=\"T_1a03a61e_9e01_11eb_8647_02420a39004erow22_col1\" class=\"data row22 col1\" >-0.09088</td>\n",
       "            </tr>\n",
       "            <tr>\n",
       "                        <th id=\"T_1a03a61e_9e01_11eb_8647_02420a39004elevel0_row23\" class=\"row_heading level0 row23\" >23</th>\n",
       "                        <td id=\"T_1a03a61e_9e01_11eb_8647_02420a39004erow23_col0\" class=\"data row23 col0\" >city_centers_nearest_km</td>\n",
       "                        <td id=\"T_1a03a61e_9e01_11eb_8647_02420a39004erow23_col1\" class=\"data row23 col1\" >-0.1239</td>\n",
       "            </tr>\n",
       "            <tr>\n",
       "                        <th id=\"T_1a03a61e_9e01_11eb_8647_02420a39004elevel0_row24\" class=\"row_heading level0 row24\" >24</th>\n",
       "                        <td id=\"T_1a03a61e_9e01_11eb_8647_02420a39004erow24_col0\" class=\"data row24 col0\" >city_centers_nearest</td>\n",
       "                        <td id=\"T_1a03a61e_9e01_11eb_8647_02420a39004erow24_col1\" class=\"data row24 col1\" >-0.125607</td>\n",
       "            </tr>\n",
       "    </tbody></table>"
      ],
      "text/plain": [
       "<pandas.io.formats.style.Styler at 0x7fe2953a2e90>"
      ]
     },
     "execution_count": 53,
     "metadata": {
     },
     "output_type": "execute_result"
    }
   ],
   "source": [
    "#выделим факторы которые влияют на стоимость квартиры в центре.\n",
    "cor_in_center = piter.query('city_centers_nearest_km < 10').corr()\\\n",
    "        .sort_values('last_price', ascending=False)\\\n",
    "        .filter(items = ['last_price'])\\\n",
    "        .reset_index()\n",
    "cor_in_center.style.background_gradient('coolwarm')\n"
   ]
  },
  {
   "cell_type": "markdown",
   "metadata": {
    "collapsed": false
   },
   "source": [
    "<font size=\"3\"> Выявили средние показатели для квартир в центре, там все больше и дороже. На стоимость квартиры в центре влияют \n",
    "    1. Цена за кв.м  \n",
    "    2. Общая площадь  \n",
    "    3. Соотношение площадей  \n",
    "    4. Количество комнат  \n",
    "    5. Картинки и расположение до прудов и парков. </font>"
   ]
  },
  {
   "cell_type": "markdown",
   "metadata": {
    "collapsed": false
   },
   "source": [
    "## Общий вывод"
   ]
  },
  {
   "cell_type": "markdown",
   "metadata": {
    "collapsed": false
   },
   "source": [
    "1. Уделить внимание данным которые поступают с сервера, очень много пустых значений\n",
    "2. По максимому автоматизировать процесс заполнения данных по расстаяниям: до парков, водоемов, аэропортов\n",
    "3. Считать расстояния в км, и целых числах\n",
    "4. Ну и в ходе исследования выяснили, что цены на недвижимость в Питере зависят от расположения, чем ближе к центру тем дороже, к переферии дешевле. \n",
    "5. На стоимость влияют цена за квадрат, общая площадь и соотношение площадей, количество комнат. Остальное не так уж и важно.\n"
   ]
  },
  {
   "cell_type": "markdown",
   "metadata": {
    "collapsed": false
   },
   "source": [
    "## Чек-лист готовности проекта\n",
    "\n",
    "Поставьте 'x' в выполненных пунктах. Далее нажмите Shift+Enter."
   ]
  },
  {
   "cell_type": "markdown",
   "metadata": {
    "collapsed": false
   },
   "source": [
    "- [x]  открыт файл\n",
    "- [ ]  файлы изучены (выведены первые строки, метод info())\n",
    "- [ ]  определены пропущенные значения\n",
    "- [ ]  заполнены пропущенные значения\n",
    "- [ ]  есть пояснение, какие пропущенные значения обнаружены\n",
    "- [ ]  изменены типы данных\n",
    "- [ ]  есть пояснение, в каких столбцах изменены типы и почему\n",
    "- [ ]  посчитано и добавлено в таблицу: цена квадратного метра\n",
    "- [ ]  посчитано и добавлено в таблицу: день недели, месяц и год публикации объявления\n",
    "- [ ]  посчитано и добавлено в таблицу: этаж квартиры; варианты — первый, последний, другой\n",
    "- [ ]  посчитано и добавлено в таблицу: соотношение жилой и общей площади, а также отношение площади кухни к общей\n",
    "- [ ]  изучены следующие параметры: площадь, цена, число комнат, высота потолков\n",
    "- [ ]  построены гистограммы для каждого параметра\n",
    "- [ ]  выполнено задание: \"Изучите время продажи квартиры. Постройте гистограмму. Посчитайте среднее и медиану. Опишите, сколько обычно занимает продажа. Когда можно считать, что продажи прошли очень быстро, а когда необычно долго?\"\n",
    "- [ ]  выполнено задание: \"Уберите редкие и выбивающиеся значения. Опишите, какие особенности обнаружили.\"\n",
    "- [ ]  выполнено задание: \"Какие факторы больше всего влияют на стоимость квартиры? Изучите, зависит ли цена от квадратного метра, числа комнат, этажа (первого или последнего), удалённости от центра. Также изучите зависимость от даты размещения: дня недели, месяца и года. \"Выберите 10 населённых пунктов с наибольшим числом объявлений. Посчитайте среднюю цену квадратного метра в этих населённых пунктах. Выделите населённые пункты с самой высокой и низкой стоимостью жилья. Эти данные можно найти по имени в столбце '*locality_name'*. \"\n",
    "- [ ]  выполнено задание: \"Изучите предложения квартир: для каждой квартиры есть информация о расстоянии до центра. Выделите квартиры в Санкт-Петербурге (*'locality_name'*). Ваша задача — выяснить, какая область входит в центр. Создайте столбец с расстоянием до центра в километрах: округлите до целых значений. После этого посчитайте среднюю цену для каждого километра. Постройте график: он должен показывать, как цена зависит от удалённости от центра. Определите границу, где график сильно меняется — это и будет центральная зона. \"\n",
    "- [ ]  выполнено задание: \"Выделите сегмент квартир в центре. Проанализируйте эту территорию и изучите следующие параметры: площадь, цена, число комнат, высота потолков. Также выделите факторы, которые влияют на стоимость квартиры (число комнат, этаж, удалённость от центра, дата размещения объявления). Сделайте выводы. Отличаются ли они от общих выводов по всему городу?\"\n",
    "- [ ]  в каждом этапе есть выводы\n",
    "- [ ]  есть общий вывод"
   ]
  }
 ],
 "metadata": {
  "kernelspec": {
   "display_name": "Python 3 (system-wide)",
   "language": "python",
   "metadata": {
    "cocalc": {
     "description": "Python 3 programming language",
     "priority": 100,
     "url": "https://www.python.org/"
    }
   },
   "name": "python3",
   "resource_dir": "/ext/jupyter/kernels/python3"
  },
  "language_info": {
   "codemirror_mode": {
    "name": "ipython",
    "version": 3
   },
   "file_extension": ".py",
   "mimetype": "text/x-python",
   "name": "python",
   "nbconvert_exporter": "python",
   "pygments_lexer": "ipython3",
   "version": "3.7.8"
  },
  "toc": {
   "base_numbering": 1,
   "nav_menu": {
   },
   "number_sections": true,
   "sideBar": true,
   "skip_h1_title": true,
   "title_cell": "Содержание",
   "title_sidebar": "Contents",
   "toc_cell": true,
   "toc_position": {
   },
   "toc_section_display": true,
   "toc_window_display": false
  }
 },
 "nbformat": 4,
 "nbformat_minor": 4
}