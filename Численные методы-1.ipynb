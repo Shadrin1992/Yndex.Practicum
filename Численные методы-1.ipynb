{
 "cells": [
  {
   "cell_type": "markdown",
   "metadata": {
    "collapsed": false
   },
   "source": [
    "# Определение стоимости автомобилей"
   ]
  },
  {
   "cell_type": "markdown",
   "metadata": {
    "collapsed": false
   },
   "source": [
    "Сервис по продаже автомобилей с пробегом «Не бит, не крашен» разрабатывает приложение для привлечения новых клиентов. В нём можно быстро узнать рыночную стоимость своего автомобиля. В вашем распоряжении исторические данные: технические характеристики, комплектации и цены автомобилей. Вам нужно построить модель для определения стоимости. \n",
    "\n",
    "Заказчику важны:\n",
    "\n",
    "- качество предсказания;\n",
    "- скорость предсказания;\n",
    "- время обучения."
   ]
  },
  {
   "cell_type": "markdown",
   "metadata": {
    "collapsed": false
   },
   "source": [
    "## Подготовка данных"
   ]
  },
  {
   "cell_type": "code",
   "execution_count": 1,
   "metadata": {
    "collapsed": false
   },
   "outputs": [
   ],
   "source": [
    "import os\n",
    "import time\n",
    "\n",
    "import pandas as pd\n",
    "import numpy as np\n",
    "import matplotlib.pyplot as plt\n",
    "from collections import defaultdict\n",
    "\n",
    "from sklearn.model_selection import train_test_split, GridSearchCV, KFold\n",
    "from sklearn.linear_model import Lasso, Ridge\n",
    "from sklearn.pipeline import Pipeline\n",
    "from sklearn.preprocessing import OneHotEncoder, StandardScaler, LabelEncoder\n",
    "from sklearn.base import BaseEstimator\n",
    "from sklearn.metrics import mean_squared_error as mse\n",
    "\n",
    "from catboost import CatBoostRegressor\n",
    "from lightgbm import LGBMRegressor\n",
    "import lightgbm as lgb\n",
    "\n",
    "from IPython.display import display, HTML, Image\n",
    "pd.set_option('display.max_columns', 100)\n",
    "pd.set_option('display.max_colwidth', -1)\n",
    "\n",
    "PATH = '/datasets/'\n",
    "SEED = 21"
   ]
  },
  {
   "cell_type": "code",
   "execution_count": 2,
   "metadata": {
    "collapsed": false
   },
   "outputs": [
    {
     "name": "stdout",
     "output_type": "stream",
     "text": [
      "Defaulting to user installation because normal site-packages is not writeable\n",
      "Requirement already satisfied: seaborn==0.11.0 in /home/jovyan/.local/lib/python3.7/site-packages (0.11.0)\n",
      "Requirement already satisfied: pandas>=0.23 in /opt/conda/lib/python3.7/site-packages (from seaborn==0.11.0) (0.25.1)\n",
      "Requirement already satisfied: numpy>=1.15 in /opt/conda/lib/python3.7/site-packages (from seaborn==0.11.0) (1.19.5)\n",
      "Requirement already satisfied: scipy>=1.0 in /opt/conda/lib/python3.7/site-packages (from seaborn==0.11.0) (1.4.1)\n",
      "Requirement already satisfied: matplotlib>=2.2 in /opt/conda/lib/python3.7/site-packages (from seaborn==0.11.0) (3.1.0)\n",
      "Requirement already satisfied: pytz>=2017.2 in /opt/conda/lib/python3.7/site-packages (from pandas>=0.23->seaborn==0.11.0) (2021.1)\n",
      "Requirement already satisfied: python-dateutil>=2.6.1 in /opt/conda/lib/python3.7/site-packages (from pandas>=0.23->seaborn==0.11.0) (2.8.1)\n",
      "Requirement already satisfied: kiwisolver>=1.0.1 in /opt/conda/lib/python3.7/site-packages (from matplotlib>=2.2->seaborn==0.11.0) (1.3.1)\n",
      "Requirement already satisfied: pyparsing!=2.0.4,!=2.1.2,!=2.1.6,>=2.0.1 in /opt/conda/lib/python3.7/site-packages (from matplotlib>=2.2->seaborn==0.11.0) (2.4.7)\n",
      "Requirement already satisfied: cycler>=0.10 in /opt/conda/lib/python3.7/site-packages (from matplotlib>=2.2->seaborn==0.11.0) (0.10.0)\n",
      "Requirement already satisfied: six>=1.5 in /opt/conda/lib/python3.7/site-packages (from python-dateutil>=2.6.1->pandas>=0.23->seaborn==0.11.0) (1.15.0)\n"
     ]
    }
   ],
   "source": [
    "!pip install seaborn==0.11.0\n",
    "import seaborn as sns\n",
    "sns.set_style('darkgrid')"
   ]
  },
  {
   "cell_type": "code",
   "execution_count": 3,
   "metadata": {
    "collapsed": false
   },
   "outputs": [
    {
     "name": "stdout",
     "output_type": "stream",
     "text": [
      "<class 'pandas.core.frame.DataFrame'>\n",
      "RangeIndex: 354369 entries, 0 to 354368\n",
      "Data columns (total 16 columns):\n",
      "DateCrawled          354369 non-null datetime64[ns]\n",
      "Price                354369 non-null int64\n",
      "VehicleType          316879 non-null object\n",
      "RegistrationYear     354369 non-null int64\n",
      "Gearbox              334536 non-null object\n",
      "Power                354369 non-null int64\n",
      "Model                334664 non-null object\n",
      "Kilometer            354369 non-null int64\n",
      "RegistrationMonth    354369 non-null int64\n",
      "FuelType             321474 non-null object\n",
      "Brand                354369 non-null object\n",
      "NotRepaired          283215 non-null object\n",
      "DateCreated          354369 non-null datetime64[ns]\n",
      "NumberOfPictures     354369 non-null int64\n",
      "PostalCode           354369 non-null int64\n",
      "LastSeen             354369 non-null datetime64[ns]\n",
      "dtypes: datetime64[ns](3), int64(7), object(6)\n",
      "memory usage: 43.3+ MB\n"
     ]
    },
    {
     "data": {
      "text/html": [
       "<div>\n",
       "<style scoped>\n",
       "    .dataframe tbody tr th:only-of-type {\n",
       "        vertical-align: middle;\n",
       "    }\n",
       "\n",
       "    .dataframe tbody tr th {\n",
       "        vertical-align: top;\n",
       "    }\n",
       "\n",
       "    .dataframe thead th {\n",
       "        text-align: right;\n",
       "    }\n",
       "</style>\n",
       "<table border=\"1\" class=\"dataframe\">\n",
       "  <thead>\n",
       "    <tr style=\"text-align: right;\">\n",
       "      <th></th>\n",
       "      <th>DateCrawled</th>\n",
       "      <th>Price</th>\n",
       "      <th>VehicleType</th>\n",
       "      <th>RegistrationYear</th>\n",
       "      <th>Gearbox</th>\n",
       "      <th>Power</th>\n",
       "      <th>Model</th>\n",
       "      <th>Kilometer</th>\n",
       "      <th>RegistrationMonth</th>\n",
       "      <th>FuelType</th>\n",
       "      <th>Brand</th>\n",
       "      <th>NotRepaired</th>\n",
       "      <th>DateCreated</th>\n",
       "      <th>NumberOfPictures</th>\n",
       "      <th>PostalCode</th>\n",
       "      <th>LastSeen</th>\n",
       "    </tr>\n",
       "  </thead>\n",
       "  <tbody>\n",
       "    <tr>\n",
       "      <td>330755</td>\n",
       "      <td>2016-03-30 17:57:47</td>\n",
       "      <td>2900</td>\n",
       "      <td>wagon</td>\n",
       "      <td>2001</td>\n",
       "      <td>manual</td>\n",
       "      <td>143</td>\n",
       "      <td>3er</td>\n",
       "      <td>150000</td>\n",
       "      <td>7</td>\n",
       "      <td>petrol</td>\n",
       "      <td>bmw</td>\n",
       "      <td>NaN</td>\n",
       "      <td>2016-03-30</td>\n",
       "      <td>0</td>\n",
       "      <td>49152</td>\n",
       "      <td>2016-04-03 09:15:26</td>\n",
       "    </tr>\n",
       "    <tr>\n",
       "      <td>353341</td>\n",
       "      <td>2016-03-08 16:38:55</td>\n",
       "      <td>169</td>\n",
       "      <td>sedan</td>\n",
       "      <td>1998</td>\n",
       "      <td>manual</td>\n",
       "      <td>74</td>\n",
       "      <td>vectra</td>\n",
       "      <td>150000</td>\n",
       "      <td>8</td>\n",
       "      <td>petrol</td>\n",
       "      <td>opel</td>\n",
       "      <td>no</td>\n",
       "      <td>2016-03-08</td>\n",
       "      <td>0</td>\n",
       "      <td>4319</td>\n",
       "      <td>2016-03-14 06:18:07</td>\n",
       "    </tr>\n",
       "    <tr>\n",
       "      <td>161985</td>\n",
       "      <td>2016-04-06 21:25:34</td>\n",
       "      <td>1200</td>\n",
       "      <td>small</td>\n",
       "      <td>1998</td>\n",
       "      <td>manual</td>\n",
       "      <td>0</td>\n",
       "      <td>corsa</td>\n",
       "      <td>150000</td>\n",
       "      <td>2</td>\n",
       "      <td>NaN</td>\n",
       "      <td>opel</td>\n",
       "      <td>no</td>\n",
       "      <td>2016-04-06</td>\n",
       "      <td>0</td>\n",
       "      <td>56564</td>\n",
       "      <td>2016-04-06 21:25:34</td>\n",
       "    </tr>\n",
       "  </tbody>\n",
       "</table>\n",
       "</div>"
      ],
      "text/plain": [
       "               DateCrawled  Price VehicleType  RegistrationYear Gearbox  \\\n",
       "330755 2016-03-30 17:57:47  2900   wagon       2001              manual   \n",
       "353341 2016-03-08 16:38:55  169    sedan       1998              manual   \n",
       "161985 2016-04-06 21:25:34  1200   small       1998              manual   \n",
       "\n",
       "        Power   Model  Kilometer  RegistrationMonth FuelType Brand  \\\n",
       "330755  143    3er     150000     7                  petrol   bmw    \n",
       "353341  74     vectra  150000     8                  petrol   opel   \n",
       "161985  0      corsa   150000     2                  NaN      opel   \n",
       "\n",
       "       NotRepaired DateCreated  NumberOfPictures  PostalCode  \\\n",
       "330755  NaN        2016-03-30   0                 49152        \n",
       "353341  no         2016-03-08   0                 4319         \n",
       "161985  no         2016-04-06   0                 56564        \n",
       "\n",
       "                  LastSeen  \n",
       "330755 2016-04-03 09:15:26  \n",
       "353341 2016-03-14 06:18:07  \n",
       "161985 2016-04-06 21:25:34  "
      ]
     },
     "execution_count": 3,
     "metadata": {
     },
     "output_type": "execute_result"
    }
   ],
   "source": [
    "data = pd.read_csv(os.path.join(PATH, 'autos.csv'),\n",
    "                   parse_dates=['DateCrawled', 'LastSeen', 'DateCreated'])\n",
    "data.info()\n",
    "data.sample(3)"
   ]
  },
  {
   "cell_type": "code",
   "execution_count": 4,
   "metadata": {
    "collapsed": false,
    "scrolled": true
   },
   "outputs": [
    {
     "data": {
      "text/html": [
       "<div>\n",
       "<style scoped>\n",
       "    .dataframe tbody tr th:only-of-type {\n",
       "        vertical-align: middle;\n",
       "    }\n",
       "\n",
       "    .dataframe tbody tr th {\n",
       "        vertical-align: top;\n",
       "    }\n",
       "\n",
       "    .dataframe thead th {\n",
       "        text-align: right;\n",
       "    }\n",
       "</style>\n",
       "<table border=\"1\" class=\"dataframe\">\n",
       "  <thead>\n",
       "    <tr style=\"text-align: right;\">\n",
       "      <th></th>\n",
       "      <th>Price</th>\n",
       "      <th>RegistrationYear</th>\n",
       "      <th>Power</th>\n",
       "      <th>Kilometer</th>\n",
       "      <th>RegistrationMonth</th>\n",
       "      <th>NumberOfPictures</th>\n",
       "      <th>PostalCode</th>\n",
       "    </tr>\n",
       "  </thead>\n",
       "  <tbody>\n",
       "    <tr>\n",
       "      <td>count</td>\n",
       "      <td>354369.000000</td>\n",
       "      <td>354369.000000</td>\n",
       "      <td>354369.000000</td>\n",
       "      <td>354369.000000</td>\n",
       "      <td>354369.000000</td>\n",
       "      <td>354369.0</td>\n",
       "      <td>354369.000000</td>\n",
       "    </tr>\n",
       "    <tr>\n",
       "      <td>mean</td>\n",
       "      <td>4416.656776</td>\n",
       "      <td>2004.234448</td>\n",
       "      <td>110.094337</td>\n",
       "      <td>128211.172535</td>\n",
       "      <td>5.714645</td>\n",
       "      <td>0.0</td>\n",
       "      <td>50508.689087</td>\n",
       "    </tr>\n",
       "    <tr>\n",
       "      <td>std</td>\n",
       "      <td>4514.158514</td>\n",
       "      <td>90.227958</td>\n",
       "      <td>189.850405</td>\n",
       "      <td>37905.341530</td>\n",
       "      <td>3.726421</td>\n",
       "      <td>0.0</td>\n",
       "      <td>25783.096248</td>\n",
       "    </tr>\n",
       "    <tr>\n",
       "      <td>min</td>\n",
       "      <td>0.000000</td>\n",
       "      <td>1000.000000</td>\n",
       "      <td>0.000000</td>\n",
       "      <td>5000.000000</td>\n",
       "      <td>0.000000</td>\n",
       "      <td>0.0</td>\n",
       "      <td>1067.000000</td>\n",
       "    </tr>\n",
       "    <tr>\n",
       "      <td>25%</td>\n",
       "      <td>1050.000000</td>\n",
       "      <td>1999.000000</td>\n",
       "      <td>69.000000</td>\n",
       "      <td>125000.000000</td>\n",
       "      <td>3.000000</td>\n",
       "      <td>0.0</td>\n",
       "      <td>30165.000000</td>\n",
       "    </tr>\n",
       "    <tr>\n",
       "      <td>50%</td>\n",
       "      <td>2700.000000</td>\n",
       "      <td>2003.000000</td>\n",
       "      <td>105.000000</td>\n",
       "      <td>150000.000000</td>\n",
       "      <td>6.000000</td>\n",
       "      <td>0.0</td>\n",
       "      <td>49413.000000</td>\n",
       "    </tr>\n",
       "    <tr>\n",
       "      <td>75%</td>\n",
       "      <td>6400.000000</td>\n",
       "      <td>2008.000000</td>\n",
       "      <td>143.000000</td>\n",
       "      <td>150000.000000</td>\n",
       "      <td>9.000000</td>\n",
       "      <td>0.0</td>\n",
       "      <td>71083.000000</td>\n",
       "    </tr>\n",
       "    <tr>\n",
       "      <td>max</td>\n",
       "      <td>20000.000000</td>\n",
       "      <td>9999.000000</td>\n",
       "      <td>20000.000000</td>\n",
       "      <td>150000.000000</td>\n",
       "      <td>12.000000</td>\n",
       "      <td>0.0</td>\n",
       "      <td>99998.000000</td>\n",
       "    </tr>\n",
       "  </tbody>\n",
       "</table>\n",
       "</div>"
      ],
      "text/plain": [
       "               Price  RegistrationYear          Power      Kilometer  \\\n",
       "count  354369.000000  354369.000000     354369.000000  354369.000000   \n",
       "mean   4416.656776    2004.234448       110.094337     128211.172535   \n",
       "std    4514.158514    90.227958         189.850405     37905.341530    \n",
       "min    0.000000       1000.000000       0.000000       5000.000000     \n",
       "25%    1050.000000    1999.000000       69.000000      125000.000000   \n",
       "50%    2700.000000    2003.000000       105.000000     150000.000000   \n",
       "75%    6400.000000    2008.000000       143.000000     150000.000000   \n",
       "max    20000.000000   9999.000000       20000.000000   150000.000000   \n",
       "\n",
       "       RegistrationMonth  NumberOfPictures     PostalCode  \n",
       "count  354369.000000      354369.0          354369.000000  \n",
       "mean   5.714645           0.0               50508.689087   \n",
       "std    3.726421           0.0               25783.096248   \n",
       "min    0.000000           0.0               1067.000000    \n",
       "25%    3.000000           0.0               30165.000000   \n",
       "50%    6.000000           0.0               49413.000000   \n",
       "75%    9.000000           0.0               71083.000000   \n",
       "max    12.000000          0.0               99998.000000   "
      ]
     },
     "execution_count": 4,
     "metadata": {
     },
     "output_type": "execute_result"
    }
   ],
   "source": [
    "data.describe()"
   ]
  },
  {
   "cell_type": "markdown",
   "metadata": {
    "collapsed": false
   },
   "source": [
    "Удалим колонки которые явно не имеют смысла для предсказания цены:\n",
    "  \n",
    "- DateCrawled - дата получения объявления из базы\n",
    "- DateCreated - дата создания объявления\n",
    "- LastSeen - последняя активность пользователя\n",
    "- NumberOfPictures - количество фото, оно везде равно 0\n",
    "  \n",
    "Дополнительно выделим категориальные колонки"
   ]
  },
  {
   "cell_type": "code",
   "execution_count": 5,
   "metadata": {
    "collapsed": false
   },
   "outputs": [
   ],
   "source": [
    "col_to_drop = ['DateCrawled', 'LastSeen', 'DateCreated', 'NumberOfPictures']\n",
    "data = data.drop(columns=col_to_drop)\n",
    "\n",
    "cat_col = ['VehicleType', 'Gearbox', 'Model', 'FuelType',\n",
    "           'Brand', 'RegistrationMonth', 'NotRepaired']"
   ]
  },
  {
   "cell_type": "markdown",
   "metadata": {
    "collapsed": false
   },
   "source": [
    "Посмотрим пропуски в оставшихся колонках"
   ]
  },
  {
   "cell_type": "code",
   "execution_count": 6,
   "metadata": {
    "collapsed": false
   },
   "outputs": [
    {
     "data": {
      "text/html": [
       "<div>\n",
       "<style scoped>\n",
       "    .dataframe tbody tr th:only-of-type {\n",
       "        vertical-align: middle;\n",
       "    }\n",
       "\n",
       "    .dataframe tbody tr th {\n",
       "        vertical-align: top;\n",
       "    }\n",
       "\n",
       "    .dataframe thead th {\n",
       "        text-align: right;\n",
       "    }\n",
       "</style>\n",
       "<table border=\"1\" class=\"dataframe\">\n",
       "  <thead>\n",
       "    <tr style=\"text-align: right;\">\n",
       "      <th></th>\n",
       "      <th>percent</th>\n",
       "      <th>abs</th>\n",
       "    </tr>\n",
       "  </thead>\n",
       "  <tbody>\n",
       "    <tr>\n",
       "      <td>NotRepaired</td>\n",
       "      <td>0.200791</td>\n",
       "      <td>71154</td>\n",
       "    </tr>\n",
       "    <tr>\n",
       "      <td>VehicleType</td>\n",
       "      <td>0.105794</td>\n",
       "      <td>37490</td>\n",
       "    </tr>\n",
       "    <tr>\n",
       "      <td>FuelType</td>\n",
       "      <td>0.092827</td>\n",
       "      <td>32895</td>\n",
       "    </tr>\n",
       "    <tr>\n",
       "      <td>Gearbox</td>\n",
       "      <td>0.055967</td>\n",
       "      <td>19833</td>\n",
       "    </tr>\n",
       "    <tr>\n",
       "      <td>Model</td>\n",
       "      <td>0.055606</td>\n",
       "      <td>19705</td>\n",
       "    </tr>\n",
       "    <tr>\n",
       "      <td>Price</td>\n",
       "      <td>0.000000</td>\n",
       "      <td>0</td>\n",
       "    </tr>\n",
       "    <tr>\n",
       "      <td>RegistrationYear</td>\n",
       "      <td>0.000000</td>\n",
       "      <td>0</td>\n",
       "    </tr>\n",
       "    <tr>\n",
       "      <td>Power</td>\n",
       "      <td>0.000000</td>\n",
       "      <td>0</td>\n",
       "    </tr>\n",
       "    <tr>\n",
       "      <td>Kilometer</td>\n",
       "      <td>0.000000</td>\n",
       "      <td>0</td>\n",
       "    </tr>\n",
       "    <tr>\n",
       "      <td>RegistrationMonth</td>\n",
       "      <td>0.000000</td>\n",
       "      <td>0</td>\n",
       "    </tr>\n",
       "    <tr>\n",
       "      <td>Brand</td>\n",
       "      <td>0.000000</td>\n",
       "      <td>0</td>\n",
       "    </tr>\n",
       "    <tr>\n",
       "      <td>PostalCode</td>\n",
       "      <td>0.000000</td>\n",
       "      <td>0</td>\n",
       "    </tr>\n",
       "  </tbody>\n",
       "</table>\n",
       "</div>"
      ],
      "text/plain": [
       "                    percent    abs\n",
       "NotRepaired        0.200791  71154\n",
       "VehicleType        0.105794  37490\n",
       "FuelType           0.092827  32895\n",
       "Gearbox            0.055967  19833\n",
       "Model              0.055606  19705\n",
       "Price              0.000000  0    \n",
       "RegistrationYear   0.000000  0    \n",
       "Power              0.000000  0    \n",
       "Kilometer          0.000000  0    \n",
       "RegistrationMonth  0.000000  0    \n",
       "Brand              0.000000  0    \n",
       "PostalCode         0.000000  0    "
      ]
     },
     "execution_count": 6,
     "metadata": {
     },
     "output_type": "execute_result"
    }
   ],
   "source": [
    "def show_na(df):\n",
    "    data_info = (df.isna() | df.isnull()).sum()\n",
    "    res = (pd.concat([data_info / df.shape[0], data_info], axis=1,  keys=['percent', 'abs'])\n",
    "           .sort_values('percent', ascending=False))\n",
    "    return res\n",
    "\n",
    "show_na(data)"
   ]
  },
  {
   "cell_type": "markdown",
   "metadata": {
    "collapsed": false
   },
   "source": [
    "Заполним пропуски в категориальных фичах текстом 'Nan'"
   ]
  },
  {
   "cell_type": "code",
   "execution_count": 7,
   "metadata": {
    "collapsed": false
   },
   "outputs": [
   ],
   "source": [
    "data[cat_col] = data[cat_col].fillna('Nan')"
   ]
  },
  {
   "cell_type": "markdown",
   "metadata": {
    "collapsed": false
   },
   "source": [
    "Для признаков Price, Power и RegistrationYear построим графики распределение."
   ]
  },
  {
   "cell_type": "code",
   "execution_count": 8,
   "metadata": {
    "collapsed": false
   },
   "outputs": [
   ],
   "source": [
    "def viz_distribution(col, col_name):\n",
    "    \n",
    "    '''\n",
    "    Функция как аргумент принимает признак и его название. \n",
    "    Функция возвращает информацию о распределении признака.  \n",
    "    '''\n",
    "    sns.displot(x = col, legend=True, kde=True, height=5.7, aspect=1.5, bins=100)\n",
    "    plt.title('Распределение значений признака ' + str(col_name).title(), fontsize=16)\n",
    "\n",
    "    plt.figure(figsize=(9.7, 6))\n",
    "    sns.boxplot(y=col)"
   ]
  },
  {
   "cell_type": "code",
   "execution_count": 9,
   "metadata": {
    "collapsed": false
   },
   "outputs": [
    {
     "data": {
      "image/png": "[encoded data removed]",
      "text/plain": [
       "<Figure size 615.6x410.4 with 1 Axes>"
      ]
     },
     "execution_count": 9,
     "metadata": {
     },
     "output_type": "execute_result"
    },
    {
     "data": {
      "image/png": "[encoded data removed]",
      "text/plain": [
       "<Figure size 698.4x432 with 1 Axes>"
      ]
     },
     "execution_count": 9,
     "metadata": {
     },
     "output_type": "execute_result"
    }
   ],
   "source": [
    "viz_distribution(data['Price'], 'Price')"
   ]
  },
  {
   "cell_type": "markdown",
   "metadata": {
    "collapsed": false
   },
   "source": [
    "Аномальными можно считать объекты с ценой меньше 200 денежных единиц и выше ~15к денежных единиц. Как видим, таких данных почти 10%, что достаточно много."
   ]
  },
  {
   "cell_type": "code",
   "execution_count": 10,
   "metadata": {
    "collapsed": false
   },
   "outputs": [
    {
     "name": "stdout",
     "output_type": "stream",
     "text": [
      "Доля аномалий: 9.908880291447614\n"
     ]
    }
   ],
   "source": [
    "print('Доля аномалий:', len(data.query('Price < 200 or Price >14600')) / len(data) *100)"
   ]
  },
  {
   "cell_type": "markdown",
   "metadata": {
    "collapsed": false
   },
   "source": [
    "Удалим аномальные объекты из датафрейма и сохраним результат в переменной clean_data."
   ]
  },
  {
   "cell_type": "code",
   "execution_count": 11,
   "metadata": {
    "collapsed": false
   },
   "outputs": [
   ],
   "source": [
    "clean_data = data.query('Price >= 200 or Price <=15000')"
   ]
  },
  {
   "cell_type": "markdown",
   "metadata": {
    "collapsed": false
   },
   "source": [
    "Исследуем признак Power."
   ]
  },
  {
   "cell_type": "code",
   "execution_count": 12,
   "metadata": {
    "collapsed": false
   },
   "outputs": [
    {
     "data": {
      "text/plain": [
       "(-10, 1000)"
      ]
     },
     "execution_count": 12,
     "metadata": {
     },
     "output_type": "execute_result"
    },
    {
     "data": {
      "image/png": "[encoded data removed]",
      "text/plain": [
       "<Figure size 615.6x410.4 with 1 Axes>"
      ]
     },
     "execution_count": 12,
     "metadata": {
     },
     "output_type": "execute_result"
    },
    {
     "data": {
      "image/png": "[encoded data removed]",
      "text/plain": [
       "<Figure size 698.4x432 with 1 Axes>"
      ]
     },
     "execution_count": 12,
     "metadata": {
     },
     "output_type": "execute_result"
    }
   ],
   "source": [
    "viz_distribution(data['Power'], 'Power')\n",
    "plt.ylim(-10, 1000)"
   ]
  },
  {
   "cell_type": "markdown",
   "metadata": {
    "collapsed": false
   },
   "source": [
    "Видим, что аномальными можно считать объекты с мощностью больше 218 л.с. Также важно отметить, что этот признак содержит большое количество объектов со значением 0. Скорее всего, владелец автомобиля, при заполнинии анкеты, посто не указал мощность своего автомобиля, поэтому эти 0 можно воспринимать как пропуски и заменить на медиану, в зависимости от таких признаков как Brand, Model и FuelType."
   ]
  },
  {
   "cell_type": "code",
   "execution_count": 13,
   "metadata": {
    "collapsed": false
   },
   "outputs": [
   ],
   "source": [
    "clean_data['Power'] = clean_data['Power'].replace(0, np.nan)\n",
    "median = clean_data.groupby(['Brand', 'Model', 'FuelType'])['Power'].transform('median')\n",
    "clean_data['Power'] = clean_data['Power'].fillna(median)"
   ]
  },
  {
   "cell_type": "markdown",
   "metadata": {
    "collapsed": false
   },
   "source": [
    "Проверим к-во объектов без информации о мощности автомобиля."
   ]
  },
  {
   "cell_type": "code",
   "execution_count": 14,
   "metadata": {
    "collapsed": false
   },
   "outputs": [
    {
     "name": "stdout",
     "output_type": "stream",
     "text": [
      "К-во пропусков: 100\n"
     ]
    }
   ],
   "source": [
    "print('К-во пропусков:', clean_data['Power'].isnull().sum())"
   ]
  },
  {
   "cell_type": "markdown",
   "metadata": {
    "collapsed": false
   },
   "source": [
    "Удалим эти строки."
   ]
  },
  {
   "cell_type": "code",
   "execution_count": 15,
   "metadata": {
    "collapsed": false
   },
   "outputs": [
    {
     "data": {
      "text/plain": [
       "Price                0\n",
       "VehicleType          0\n",
       "RegistrationYear     0\n",
       "Gearbox              0\n",
       "Power                0\n",
       "Model                0\n",
       "Kilometer            0\n",
       "RegistrationMonth    0\n",
       "FuelType             0\n",
       "Brand                0\n",
       "NotRepaired          0\n",
       "PostalCode           0\n",
       "dtype: int64"
      ]
     },
     "execution_count": 15,
     "metadata": {
     },
     "output_type": "execute_result"
    }
   ],
   "source": [
    "clean_data.dropna(inplace=True)\n",
    "clean_data.isnull().sum()"
   ]
  },
  {
   "cell_type": "markdown",
   "metadata": {
    "collapsed": false
   },
   "source": [
    "Исследуем более подробно признак RegistrationYear."
   ]
  },
  {
   "cell_type": "code",
   "execution_count": 16,
   "metadata": {
    "collapsed": false
   },
   "outputs": [
    {
     "data": {
      "image/png": "[encoded data removed]",
      "text/plain": [
       "<Figure size 615.6x410.4 with 1 Axes>"
      ]
     },
     "execution_count": 16,
     "metadata": {
     },
     "output_type": "execute_result"
    },
    {
     "data": {
      "image/png": "[encoded data removed]",
      "text/plain": [
       "<Figure size 698.4x432 with 1 Axes>"
      ]
     },
     "execution_count": 16,
     "metadata": {
     },
     "output_type": "execute_result"
    }
   ],
   "source": [
    "viz_distribution(data['RegistrationYear'], 'RegistrationYear')"
   ]
  },
  {
   "cell_type": "markdown",
   "metadata": {
    "collapsed": false
   },
   "source": [
    "С признаком RegistrationYear будем поступать следующим образом: так как нам неизвестно, о какой стране предоставлены данные и мы не можем узнать год, когда был зарегистрирован первый автомобиль в этой стране, будем считать, что год регистрации автомобиля не может быть меньше 1768 (если верить Википедии, то история первого автомобиля началась в 1768 году вместе с созданием паросиловых машин, способных перевозить человека) и больше 2020."
   ]
  },
  {
   "cell_type": "code",
   "execution_count": 17,
   "metadata": {
    "collapsed": false
   },
   "outputs": [
    {
     "data": {
      "text/plain": [
       "354208"
      ]
     },
     "execution_count": 17,
     "metadata": {
     },
     "output_type": "execute_result"
    }
   ],
   "source": [
    "clean_data = clean_data.query('RegistrationYear > 1768')\n",
    "len(clean_data)"
   ]
  },
  {
   "cell_type": "markdown",
   "metadata": {
    "collapsed": false
   },
   "source": [
    "Выделим целевое значение и признаки\n",
    "  \n",
    "Разобьем данные на train и test, в соотношении 4 к 1\n",
    "  \n",
    "Train дополнительно разобьем на train_valid и valid, так же в соотношении 4 к 1"
   ]
  },
  {
   "cell_type": "code",
   "execution_count": 18,
   "metadata": {
    "collapsed": false,
    "scrolled": true
   },
   "outputs": [
    {
     "name": "stdout",
     "output_type": "stream",
     "text": [
      "Valid shapes:\n",
      "(226692, 11) (56674, 11) (226692,) (56674,)\n",
      "Train/test shapes:\n",
      "(283366, 11) (70842, 11) (283366,) (70842,)\n"
     ]
    }
   ],
   "source": [
    "X = clean_data.drop(columns='Price')\n",
    "y = clean_data['Price']\n",
    "\n",
    "X_train, X_test, y_train, y_test = train_test_split(X, y, test_size=0.2, random_state=SEED)\n",
    "X_train_valid, X_valid, y_train_valid, y_valid = train_test_split(X_train, y_train, test_size=0.2, random_state=SEED)\n",
    "\n",
    "print('Valid shapes:')\n",
    "print(X_train_valid.shape, X_valid.shape, y_train_valid.shape, y_valid.shape)\n",
    "print('Train/test shapes:')\n",
    "print(X_train.shape, X_test.shape, y_train.shape, y_test.shape)"
   ]
  },
  {
   "cell_type": "markdown",
   "metadata": {
    "collapsed": false
   },
   "source": [
    "## Обучение моделей"
   ]
  },
  {
   "cell_type": "markdown",
   "metadata": {
    "collapsed": false
   },
   "source": [
    "Действовать будем по следующему плану:\n",
    "  \n",
    "- Напишем функцию которой на вход будут подаваться модель и датасеты и она будет возвращать время обучения, время предсказания и rmse\n",
    "- Проверим 3 модели: Ridge, CatBoost, LightGBM.\n",
    "- Для каждой моделии найдем лучшие гиперпараметры, и измерим время обучения на train\n",
    "- Сведем данные по всем моделям в 1 таблицу"
   ]
  },
  {
   "cell_type": "code",
   "execution_count": 19,
   "metadata": {
    "collapsed": false
   },
   "outputs": [
   ],
   "source": [
    "def model_eval(model, X_train, y_train, X_test, y_test):\n",
    "    \n",
    "    start = time.time()    \n",
    "    model.fit(X_train, y_train)\n",
    "    training_time = time.time() - start\n",
    "    \n",
    "    start = time.time()  \n",
    "    y_pred = model.predict(X_test)\n",
    "    predict_time = time.time() - start\n",
    "\n",
    "    return training_time, predict_time, mse(y_test, y_pred)**0.5"
   ]
  },
  {
   "cell_type": "markdown",
   "metadata": {
    "collapsed": false
   },
   "source": [
    "**Ridge**\n",
    "- Подготовим пайплайн: OHE -> scaler -> ridge\n",
    "- На кросс валидации найдем лучшие параметры модели\n",
    "- Измерим время обучения и запишем результаты на тесте."
   ]
  },
  {
   "cell_type": "code",
   "execution_count": 20,
   "metadata": {
    "collapsed": false
   },
   "outputs": [
   ],
   "source": [
    "res = []"
   ]
  },
  {
   "cell_type": "code",
   "execution_count": 21,
   "metadata": {
    "collapsed": false
   },
   "outputs": [
   ],
   "source": [
    "pipe = Pipeline([\n",
    "    ('ohe', OneHotEncoder(handle_unknown='ignore')),\n",
    "    ('scaler', StandardScaler(with_mean=False)),\n",
    "    ('model', Ridge(random_state=SEED))\n",
    "])\n",
    "\n",
    "params = [\n",
    "    {\n",
    "        'model__alpha': np.logspace(-2, 2, 20)\n",
    "    } \n",
    "]"
   ]
  },
  {
   "cell_type": "code",
   "execution_count": 22,
   "metadata": {
    "collapsed": false
   },
   "outputs": [
   ],
   "source": [
    "cv = KFold(n_splits=3, shuffle=True, random_state=SEED)\n",
    "\n",
    "grid = GridSearchCV(pipe,\n",
    "                    param_grid=params,\n",
    "                    cv=cv,\n",
    "                    scoring='neg_mean_squared_error',\n",
    "                    n_jobs=-1,\n",
    "                    verbose=False)"
   ]
  },
  {
   "cell_type": "code",
   "execution_count": 23,
   "metadata": {
    "collapsed": false
   },
   "outputs": [
    {
     "name": "stdout",
     "output_type": "stream",
     "text": [
      "CPU times: user 6min 39s, sys: 3.6 s, total: 6min 43s\n",
      "Wall time: 6min 44s\n"
     ]
    },
    {
     "data": {
      "text/plain": [
       "GridSearchCV(cv=KFold(n_splits=3, random_state=21, shuffle=True),\n",
       "             error_score='raise-deprecating',\n",
       "             estimator=Pipeline(memory=None,\n",
       "                                steps=[('ohe',\n",
       "                                        OneHotEncoder(categorical_features=None,\n",
       "                                                      categories=None,\n",
       "                                                      drop=None,\n",
       "                                                      dtype=<class 'numpy.float64'>,\n",
       "                                                      handle_unknown='ignore',\n",
       "                                                      n_values=None,\n",
       "                                                      sparse=True)),\n",
       "                                       ('scaler',\n",
       "                                        StandardScaler(copy=True,\n",
       "                                                       with_mean=False,\n",
       "                                                       with_std=Tru...\n",
       "       6.95192796e-02, 1.12883789e-01, 1.83298071e-01, 2.97635144e-01,\n",
       "       4.83293024e-01, 7.84759970e-01, 1.27427499e+00, 2.06913808e+00,\n",
       "       3.35981829e+00, 5.45559478e+00, 8.85866790e+00, 1.43844989e+01,\n",
       "       2.33572147e+01, 3.79269019e+01, 6.15848211e+01, 1.00000000e+02])}],\n",
       "             pre_dispatch='2*n_jobs', refit=True, return_train_score=False,\n",
       "             scoring='neg_mean_squared_error', verbose=False)"
      ]
     },
     "execution_count": 23,
     "metadata": {
     },
     "output_type": "execute_result"
    }
   ],
   "source": [
    "%%time\n",
    "grid.fit(X_train_valid, y_train_valid);"
   ]
  },
  {
   "cell_type": "code",
   "execution_count": 24,
   "metadata": {
    "collapsed": false
   },
   "outputs": [
    {
     "data": {
      "text/plain": [
       "{'model__alpha': 100.0}"
      ]
     },
     "execution_count": 24,
     "metadata": {
     },
     "output_type": "execute_result"
    }
   ],
   "source": [
    "grid.best_params_"
   ]
  },
  {
   "cell_type": "code",
   "execution_count": 25,
   "metadata": {
    "collapsed": false
   },
   "outputs": [
   ],
   "source": [
    "res.append(model_eval(grid.best_estimator_, X_train_valid, y_train_valid, X_valid, y_valid))"
   ]
  },
  {
   "cell_type": "markdown",
   "metadata": {
    "collapsed": false
   },
   "source": [
    "**LightGBM**\n",
    "- Готовим категориальные признаки через Label Encoder\n",
    "- Ищем лучшие параметры по сетке используя Scikit-learn API\n",
    "- Обучаем модель на всей train выборке и замеряем время и RMSE"
   ]
  },
  {
   "cell_type": "code",
   "execution_count": 26,
   "metadata": {
    "collapsed": false
   },
   "outputs": [
   ],
   "source": [
    "encoder = LabelEncoder()\n",
    "\n",
    "lgb_train = X_train_valid.copy()\n",
    "lgb_test = X_valid.copy()\n",
    "lgb_full_train = X_train.copy()\n",
    "lgb_full_test = X_test.copy()\n",
    "\n",
    "\n",
    "cat_col_num = []\n",
    "\n",
    "for col in cat_col:\n",
    "    lgb_train[col] = encoder.fit_transform(lgb_train[col])\n",
    "    lgb_test[col] = encoder.transform(lgb_test[col])\n",
    "    lgb_full_train[col] = encoder.fit_transform(lgb_full_train[col])\n",
    "    lgb_full_test[col] = encoder.transform(lgb_full_test[col])\n",
    "    cat_col_num.append(data.columns.to_list().index(col))\n",
    "\n",
    "gbm = lgb.LGBMRegressor(boosting_type='gbdt', verbose=0, seed=SEED)\n",
    "\n",
    "\n",
    "params = {\n",
    "    'learning_rate': np.logspace(-3, 0, 5),\n",
    "    'n_estimators': [40, 60],\n",
    "    'num_leaves': [21, 31, 41],\n",
    "}\n",
    "\n",
    "grid_gbm = GridSearchCV(gbm,\n",
    "                        params,\n",
    "                        cv=cv,\n",
    "                        scoring='neg_mean_squared_error',\n",
    "                        verbose=True)"
   ]
  },
  {
   "cell_type": "code",
   "execution_count": 27,
   "metadata": {
    "collapsed": false
   },
   "outputs": [
    {
     "name": "stdout",
     "output_type": "stream",
     "text": [
      "Fitting 3 folds for each of 30 candidates, totalling 90 fits\n"
     ]
    },
    {
     "name": "stderr",
     "output_type": "stream",
     "text": [
      "[Parallel(n_jobs=1)]: Using backend SequentialBackend with 1 concurrent workers.\n",
      "[Parallel(n_jobs=1)]: Done  90 out of  90 | elapsed: 312.5min finished\n"
     ]
    },
    {
     "name": "stdout",
     "output_type": "stream",
     "text": [
      "CPU times: user 5h 14min 51s, sys: 2min 7s, total: 5h 16min 59s\n",
      "Wall time: 5h 18min 47s\n"
     ]
    },
    {
     "data": {
      "text/plain": [
       "GridSearchCV(cv=KFold(n_splits=3, random_state=21, shuffle=True),\n",
       "             error_score='raise-deprecating',\n",
       "             estimator=LGBMRegressor(boosting_type='gbdt', class_weight=None,\n",
       "                                     colsample_bytree=1.0,\n",
       "                                     importance_type='split', learning_rate=0.1,\n",
       "                                     max_depth=-1, min_child_samples=20,\n",
       "                                     min_child_weight=0.001, min_split_gain=0.0,\n",
       "                                     n_estimators=100, n_jobs=-1, num_leaves=31,\n",
       "                                     objective=No...\n",
       "                                     reg_alpha=0.0, reg_lambda=0.0, seed=21,\n",
       "                                     silent=True, subsample=1.0,\n",
       "                                     subsample_for_bin=200000, subsample_freq=0,\n",
       "                                     verbose=0),\n",
       "             iid='warn', n_jobs=None,\n",
       "             param_grid={'learning_rate': array([0.001     , 0.00562341, 0.03162278, 0.17782794, 1.        ]),\n",
       "                         'n_estimators': [40, 60], 'num_leaves': [21, 31, 41]},\n",
       "             pre_dispatch='2*n_jobs', refit=True, return_train_score=False,\n",
       "             scoring='neg_mean_squared_error', verbose=True)"
      ]
     },
     "execution_count": 27,
     "metadata": {
     },
     "output_type": "execute_result"
    }
   ],
   "source": [
    "%%time\n",
    "grid_gbm.fit(lgb_train, y_train_valid);"
   ]
  },
  {
   "cell_type": "code",
   "execution_count": 28,
   "metadata": {
    "collapsed": false
   },
   "outputs": [
    {
     "data": {
      "text/plain": [
       "{'learning_rate': 0.1778279410038923, 'n_estimators': 60, 'num_leaves': 41}"
      ]
     },
     "execution_count": 28,
     "metadata": {
     },
     "output_type": "execute_result"
    }
   ],
   "source": [
    "grid_gbm.best_params_"
   ]
  },
  {
   "cell_type": "code",
   "execution_count": 29,
   "metadata": {
    "collapsed": false
   },
   "outputs": [
   ],
   "source": [
    "res.append(model_eval(grid_gbm.best_estimator_, lgb_train, y_train_valid, lgb_test, y_valid))"
   ]
  },
  {
   "cell_type": "markdown",
   "metadata": {
    "collapsed": false
   },
   "source": [
    "**CatBoost**\n",
    "- Все тоже самое что и для прошлых моделей"
   ]
  },
  {
   "cell_type": "code",
   "execution_count": 30,
   "metadata": {
    "collapsed": false
   },
   "outputs": [
   ],
   "source": [
    "cbr = CatBoostRegressor(random_seed=SEED,\n",
    "                        loss_function='RMSE',\n",
    "                        silent=True,\n",
    "                        cat_features=cat_col)\n",
    "\n",
    "params = {\n",
    "    'learning_rate': np.logspace(-3, 0, 5),\n",
    "    'iterations': [40, 60],\n",
    "    'depth': [6, 8, 10],\n",
    "}\n",
    "\n",
    "grid_cbr = GridSearchCV(cbr,\n",
    "                        params,\n",
    "                        cv=cv,\n",
    "                        scoring='neg_mean_squared_error',\n",
    "                        verbose=False)"
   ]
  },
  {
   "cell_type": "code",
   "execution_count": 31,
   "metadata": {
    "collapsed": false
   },
   "outputs": [
    {
     "name": "stdout",
     "output_type": "stream",
     "text": [
      "CPU times: user 26min 46s, sys: 4min, total: 30min 46s\n",
      "Wall time: 33min 14s\n"
     ]
    },
    {
     "data": {
      "text/plain": [
       "GridSearchCV(cv=KFold(n_splits=3, random_state=21, shuffle=True),\n",
       "             error_score='raise-deprecating',\n",
       "             estimator=<catboost.core.CatBoostRegressor object at 0x7f61fffb5190>,\n",
       "             iid='warn', n_jobs=None,\n",
       "             param_grid={'depth': [6, 8, 10], 'iterations': [40, 60],\n",
       "                         'learning_rate': array([0.001     , 0.00562341, 0.03162278, 0.17782794, 1.        ])},\n",
       "             pre_dispatch='2*n_jobs', refit=True, return_train_score=False,\n",
       "             scoring='neg_mean_squared_error', verbose=False)"
      ]
     },
     "execution_count": 31,
     "metadata": {
     },
     "output_type": "execute_result"
    }
   ],
   "source": [
    "%%time\n",
    "grid_cbr.fit(X_train_valid, y_train_valid);"
   ]
  },
  {
   "cell_type": "code",
   "execution_count": 32,
   "metadata": {
    "collapsed": false
   },
   "outputs": [
    {
     "data": {
      "text/plain": [
       "{'depth': 10, 'iterations': 60, 'learning_rate': 0.1778279410038923}"
      ]
     },
     "execution_count": 32,
     "metadata": {
     },
     "output_type": "execute_result"
    }
   ],
   "source": [
    "grid_cbr.best_params_"
   ]
  },
  {
   "cell_type": "code",
   "execution_count": 33,
   "metadata": {
    "collapsed": false
   },
   "outputs": [
   ],
   "source": [
    "res.append(model_eval(grid_cbr.best_estimator_, X_train_valid, y_train_valid, X_valid, y_valid))"
   ]
  },
  {
   "cell_type": "markdown",
   "metadata": {
    "collapsed": false
   },
   "source": [
    "## Анализ моделей"
   ]
  },
  {
   "cell_type": "markdown",
   "metadata": {
    "collapsed": false
   },
   "source": [
    "Сведем все данные в один датафрейм и посмотрим результаты на валидационной выборке\n",
    "  \n",
    "Для выбранной модели посмотрим результат на тесте"
   ]
  },
  {
   "cell_type": "code",
   "execution_count": 34,
   "metadata": {
    "collapsed": false
   },
   "outputs": [
    {
     "data": {
      "text/html": [
       "<div>\n",
       "<style scoped>\n",
       "    .dataframe tbody tr th:only-of-type {\n",
       "        vertical-align: middle;\n",
       "    }\n",
       "\n",
       "    .dataframe tbody tr th {\n",
       "        vertical-align: top;\n",
       "    }\n",
       "\n",
       "    .dataframe thead th {\n",
       "        text-align: right;\n",
       "    }\n",
       "</style>\n",
       "<table border=\"1\" class=\"dataframe\">\n",
       "  <thead>\n",
       "    <tr style=\"text-align: right;\">\n",
       "      <th></th>\n",
       "      <th>trainig_time</th>\n",
       "      <th>predic_time</th>\n",
       "      <th>score</th>\n",
       "    </tr>\n",
       "  </thead>\n",
       "  <tbody>\n",
       "    <tr>\n",
       "      <td>Ridge</td>\n",
       "      <td>10.457880</td>\n",
       "      <td>0.182212</td>\n",
       "      <td>2145.323482</td>\n",
       "    </tr>\n",
       "    <tr>\n",
       "      <td>LightGBM</td>\n",
       "      <td>360.294771</td>\n",
       "      <td>0.501560</td>\n",
       "      <td>1805.812249</td>\n",
       "    </tr>\n",
       "    <tr>\n",
       "      <td>CatBoost</td>\n",
       "      <td>41.380523</td>\n",
       "      <td>0.251308</td>\n",
       "      <td>1804.239898</td>\n",
       "    </tr>\n",
       "  </tbody>\n",
       "</table>\n",
       "</div>"
      ],
      "text/plain": [
       "          trainig_time  predic_time        score\n",
       "Ridge     10.457880     0.182212     2145.323482\n",
       "LightGBM  360.294771    0.501560     1805.812249\n",
       "CatBoost  41.380523     0.251308     1804.239898"
      ]
     },
     "execution_count": 34,
     "metadata": {
     },
     "output_type": "execute_result"
    }
   ],
   "source": [
    "pd.DataFrame(data=res,\n",
    "             index=['Ridge', 'LightGBM', 'CatBoost'],\n",
    "             columns=['trainig_time', 'predic_time', 'score'])"
   ]
  },
  {
   "cell_type": "markdown",
   "metadata": {
    "collapsed": false
   },
   "source": [
    "В данном случае наиболее подходящей моделью, с оптимальным качеством и быстродействием оказался: LightGBM\n",
    "  \n",
    "Проверим метрику на тесте"
   ]
  },
  {
   "cell_type": "code",
   "execution_count": 35,
   "metadata": {
    "collapsed": false
   },
   "outputs": [
    {
     "data": {
      "text/plain": [
       "1810.4806796777282"
      ]
     },
     "execution_count": 35,
     "metadata": {
     },
     "output_type": "execute_result"
    }
   ],
   "source": [
    "model = LGBMRegressor(boosting_type='gbdt', verbose=0, seed=SEED, learning_rate=0.1778279410038923, n_estimators=60, num_leaves=41)\n",
    "model.fit(lgb_full_train, y_train)\n",
    "mse(y_test, model.predict(lgb_full_test))**0.5"
   ]
  },
  {
   "cell_type": "markdown",
   "metadata": {
    "collapsed": false
   },
   "source": [
    "**Вывод**\n",
    "    \n",
    "По требованиям задания больше всего подходит Лайт. Быстрее всех обучается, по качеству отдает соизмеримые значения с Котом. 2 из 3. Кот хорош и по скорости предсказаний и по качеству, ну уж очень долгий(возможно связано со спицификой данных).\n",
    "\n",
    "Не стал перезапускать тетрадь, для обновления ячеек с кодом, уж очень долго будут выполнятся."
   ]
  },
  {
   "cell_type": "markdown",
   "metadata": {
    "collapsed": false
   },
   "source": [
    "После очистки данных от выбросов и заполнения пропусков подбор параметров у Лайта стал намного дольше, Кот вырвался на первое место, если судить по целям проекта. Забавно, что ошибка увеличилась по сравнению с необработанными данными."
   ]
  },
  {
   "cell_type": "markdown",
   "metadata": {
    "collapsed": false
   },
   "source": [
    "## Чек-лист проверки"
   ]
  },
  {
   "cell_type": "markdown",
   "metadata": {
    "collapsed": false
   },
   "source": [
    "Поставьте 'x' в выполненных пунктах. Далее нажмите Shift+Enter."
   ]
  },
  {
   "cell_type": "markdown",
   "metadata": {
    "collapsed": false
   },
   "source": [
    "- [x]  Jupyter Notebook открыт\n",
    "- [ ]  Весь код выполняется без ошибок\n",
    "- [ ]  Ячейки с кодом расположены в порядке исполнения\n",
    "- [ ]  Выполнена загрузка и подготовка данных\n",
    "- [ ]  Выполнено обучение моделей\n",
    "- [ ]  Есть анализ скорости работы и качества моделей"
   ]
  },
  {
   "cell_type": "code",
   "execution_count": 0,
   "metadata": {
    "collapsed": false
   },
   "outputs": [
   ],
   "source": [
   ]
  }
 ],
 "metadata": {
  "ExecuteTimeLog": [
   {
    "duration": 1618,
    "start_time": "2021-08-01T18:38:00.738Z"
   },
   {
    "duration": 1481,
    "start_time": "2021-08-01T18:38:02.359Z"
   },
   {
    "duration": 140,
    "start_time": "2021-08-01T18:38:03.844Z"
   },
   {
    "duration": 45,
    "start_time": "2021-08-01T18:38:03.987Z"
   },
   {
    "duration": 229,
    "start_time": "2021-08-01T18:38:04.035Z"
   },
   {
    "duration": 273,
    "start_time": "2021-08-01T18:38:04.267Z"
   },
   {
    "duration": 398,
    "start_time": "2021-08-01T18:38:04.542Z"
   },
   {
    "duration": 5,
    "start_time": "2021-08-01T18:38:04.943Z"
   },
   {
    "duration": 3,
    "start_time": "2021-08-01T18:38:04.967Z"
   },
   {
    "duration": 7,
    "start_time": "2021-08-01T18:38:04.973Z"
   },
   {
    "duration": 7,
    "start_time": "2021-08-01T18:38:04.982Z"
   },
   {
    "duration": 346849,
    "start_time": "2021-08-01T18:38:04.992Z"
   },
   {
    "duration": 5,
    "start_time": "2021-08-01T18:43:51.844Z"
   },
   {
    "duration": 8756,
    "start_time": "2021-08-01T18:43:51.851Z"
   },
   {
    "duration": 1164,
    "start_time": "2021-08-01T18:44:00.609Z"
   },
   {
    "duration": 378103,
    "start_time": "2021-08-01T18:44:01.777Z"
   },
   {
    "duration": 6,
    "start_time": "2021-08-01T18:50:19.882Z"
   },
   {
    "duration": 6088,
    "start_time": "2021-08-01T18:50:19.891Z"
   },
   {
    "duration": 6,
    "start_time": "2021-08-01T18:50:25.982Z"
   },
   {
    "duration": 1787690,
    "start_time": "2021-08-01T18:50:25.991Z"
   },
   {
    "duration": 5,
    "start_time": "2021-08-01T19:20:13.684Z"
   },
   {
    "duration": 37588,
    "start_time": "2021-08-01T19:20:13.692Z"
   },
   {
    "duration": 12,
    "start_time": "2021-08-01T19:20:51.285Z"
   },
   {
    "duration": 360,
    "start_time": "2021-08-01T19:20:51.367Z"
   },
   {
    "duration": 250,
    "start_time": "2021-08-01T19:25:44.581Z"
   },
   {
    "duration": 261,
    "start_time": "2021-08-01T19:25:54.867Z"
   },
   {
    "duration": 208,
    "start_time": "2021-08-01T19:27:04.802Z"
   },
   {
    "duration": 241,
    "start_time": "2021-08-01T19:28:30.883Z"
   },
   {
    "duration": 191,
    "start_time": "2021-08-01T19:28:38.757Z"
   },
   {
    "duration": 4,
    "start_time": "2021-08-01T19:33:59.262Z"
   },
   {
    "duration": 10992,
    "start_time": "2021-08-01T19:35:34.285Z"
   },
   {
    "duration": 7359,
    "start_time": "2021-08-01T19:42:11.010Z"
   },
   {
    "duration": 1645,
    "start_time": "2021-08-07T12:28:22.083Z"
   },
   {
    "duration": 1826,
    "start_time": "2021-08-07T12:28:23.730Z"
   },
   {
    "duration": 143,
    "start_time": "2021-08-07T12:28:25.559Z"
   },
   {
    "duration": 52,
    "start_time": "2021-08-07T12:28:25.705Z"
   },
   {
    "duration": 270,
    "start_time": "2021-08-07T12:28:25.760Z"
   },
   {
    "duration": 293,
    "start_time": "2021-08-07T12:28:26.033Z"
   },
   {
    "duration": 6,
    "start_time": "2021-08-07T12:28:26.328Z"
   },
   {
    "duration": 921,
    "start_time": "2021-08-07T12:28:26.337Z"
   },
   {
    "duration": -958,
    "start_time": "2021-08-07T12:28:28.221Z"
   },
   {
    "duration": -1017,
    "start_time": "2021-08-07T12:28:28.281Z"
   },
   {
    "duration": -1020,
    "start_time": "2021-08-07T12:28:28.285Z"
   },
   {
    "duration": -1032,
    "start_time": "2021-08-07T12:28:28.299Z"
   },
   {
    "duration": -1034,
    "start_time": "2021-08-07T12:28:28.302Z"
   },
   {
    "duration": -1045,
    "start_time": "2021-08-07T12:28:28.315Z"
   },
   {
    "duration": -1048,
    "start_time": "2021-08-07T12:28:28.319Z"
   },
   {
    "duration": -1059,
    "start_time": "2021-08-07T12:28:28.332Z"
   },
   {
    "duration": -1106,
    "start_time": "2021-08-07T12:28:28.380Z"
   },
   {
    "duration": -1108,
    "start_time": "2021-08-07T12:28:28.383Z"
   },
   {
    "duration": -1109,
    "start_time": "2021-08-07T12:28:28.386Z"
   },
   {
    "duration": -1120,
    "start_time": "2021-08-07T12:28:28.399Z"
   },
   {
    "duration": -1126,
    "start_time": "2021-08-07T12:28:28.406Z"
   },
   {
    "duration": -1139,
    "start_time": "2021-08-07T12:28:28.421Z"
   },
   {
    "duration": -1154,
    "start_time": "2021-08-07T12:28:28.437Z"
   },
   {
    "duration": -1263,
    "start_time": "2021-08-07T12:28:28.554Z"
   },
   {
    "duration": -1270,
    "start_time": "2021-08-07T12:28:28.563Z"
   },
   {
    "duration": -1265,
    "start_time": "2021-08-07T12:28:28.566Z"
   },
   {
    "duration": -1265,
    "start_time": "2021-08-07T12:28:28.568Z"
   },
   {
    "duration": -1267,
    "start_time": "2021-08-07T12:28:28.572Z"
   },
   {
    "duration": -1269,
    "start_time": "2021-08-07T12:28:28.575Z"
   },
   {
    "duration": -1269,
    "start_time": "2021-08-07T12:28:28.577Z"
   },
   {
    "duration": -1270,
    "start_time": "2021-08-07T12:28:28.580Z"
   },
   {
    "duration": -1270,
    "start_time": "2021-08-07T12:28:28.582Z"
   },
   {
    "duration": -1272,
    "start_time": "2021-08-07T12:28:28.585Z"
   },
   {
    "duration": -1273,
    "start_time": "2021-08-07T12:28:28.588Z"
   },
   {
    "duration": 180,
    "start_time": "2021-08-07T12:29:36.548Z"
   },
   {
    "duration": 1724,
    "start_time": "2021-08-07T12:29:36.731Z"
   },
   {
    "duration": 139,
    "start_time": "2021-08-07T12:29:38.459Z"
   },
   {
    "duration": 48,
    "start_time": "2021-08-07T12:29:38.601Z"
   },
   {
    "duration": 260,
    "start_time": "2021-08-07T12:29:38.652Z"
   },
   {
    "duration": 315,
    "start_time": "2021-08-07T12:29:38.915Z"
   },
   {
    "duration": 6,
    "start_time": "2021-08-07T12:29:39.233Z"
   },
   {
    "duration": 880,
    "start_time": "2021-08-07T12:29:39.245Z"
   },
   {
    "duration": -1065,
    "start_time": "2021-08-07T12:29:41.196Z"
   },
   {
    "duration": -1063,
    "start_time": "2021-08-07T12:29:41.198Z"
   },
   {
    "duration": -1064,
    "start_time": "2021-08-07T12:29:41.201Z"
   },
   {
    "duration": -1068,
    "start_time": "2021-08-07T12:29:41.207Z"
   },
   {
    "duration": -1068,
    "start_time": "2021-08-07T12:29:41.209Z"
   },
   {
    "duration": -1068,
    "start_time": "2021-08-07T12:29:41.211Z"
   },
   {
    "duration": -1070,
    "start_time": "2021-08-07T12:29:41.214Z"
   },
   {
    "duration": -1071,
    "start_time": "2021-08-07T12:29:41.217Z"
   },
   {
    "duration": -1073,
    "start_time": "2021-08-07T12:29:41.221Z"
   },
   {
    "duration": -1081,
    "start_time": "2021-08-07T12:29:41.231Z"
   },
   {
    "duration": -1097,
    "start_time": "2021-08-07T12:29:41.248Z"
   },
   {
    "duration": -1102,
    "start_time": "2021-08-07T12:29:41.255Z"
   },
   {
    "duration": -1111,
    "start_time": "2021-08-07T12:29:41.266Z"
   },
   {
    "duration": -1115,
    "start_time": "2021-08-07T12:29:41.271Z"
   },
   {
    "duration": -1124,
    "start_time": "2021-08-07T12:29:41.282Z"
   },
   {
    "duration": -1129,
    "start_time": "2021-08-07T12:29:41.288Z"
   },
   {
    "duration": -1138,
    "start_time": "2021-08-07T12:29:41.299Z"
   },
   {
    "duration": -1142,
    "start_time": "2021-08-07T12:29:41.305Z"
   },
   {
    "duration": -1151,
    "start_time": "2021-08-07T12:29:41.316Z"
   },
   {
    "duration": -1159,
    "start_time": "2021-08-07T12:29:41.325Z"
   },
   {
    "duration": -1216,
    "start_time": "2021-08-07T12:29:41.383Z"
   },
   {
    "duration": -1219,
    "start_time": "2021-08-07T12:29:41.388Z"
   },
   {
    "duration": -1209,
    "start_time": "2021-08-07T12:29:41.398Z"
   },
   {
    "duration": -1207,
    "start_time": "2021-08-07T12:29:41.401Z"
   },
   {
    "duration": -1223,
    "start_time": "2021-08-07T12:29:41.419Z"
   },
   {
    "duration": -1224,
    "start_time": "2021-08-07T12:29:41.425Z"
   },
   {
    "duration": 6,
    "start_time": "2021-08-07T12:31:43.566Z"
   },
   {
    "duration": 6167,
    "start_time": "2021-08-07T12:31:43.575Z"
   },
   {
    "duration": 1763,
    "start_time": "2021-08-07T12:31:49.746Z"
   },
   {
    "duration": 153,
    "start_time": "2021-08-07T12:31:51.513Z"
   },
   {
    "duration": 47,
    "start_time": "2021-08-07T12:31:51.669Z"
   },
   {
    "duration": 252,
    "start_time": "2021-08-07T12:31:51.719Z"
   },
   {
    "duration": 277,
    "start_time": "2021-08-07T12:31:51.973Z"
   },
   {
    "duration": 6,
    "start_time": "2021-08-07T12:31:52.253Z"
   },
   {
    "duration": 768,
    "start_time": "2021-08-07T12:31:52.262Z"
   },
   {
    "duration": -956,
    "start_time": "2021-08-07T12:31:53.989Z"
   },
   {
    "duration": -1038,
    "start_time": "2021-08-07T12:31:54.073Z"
   },
   {
    "duration": -1045,
    "start_time": "2021-08-07T12:31:54.081Z"
   },
   {
    "duration": -1048,
    "start_time": "2021-08-07T12:31:54.085Z"
   },
   {
    "duration": -1050,
    "start_time": "2021-08-07T12:31:54.089Z"
   },
   {
    "duration": -1056,
    "start_time": "2021-08-07T12:31:54.096Z"
   },
   {
    "duration": -1057,
    "start_time": "2021-08-07T12:31:54.098Z"
   },
   {
    "duration": -1059,
    "start_time": "2021-08-07T12:31:54.101Z"
   },
   {
    "duration": -1084,
    "start_time": "2021-08-07T12:31:54.128Z"
   },
   {
    "duration": -1086,
    "start_time": "2021-08-07T12:31:54.131Z"
   },
   {
    "duration": -1125,
    "start_time": "2021-08-07T12:31:54.172Z"
   },
   {
    "duration": -1136,
    "start_time": "2021-08-07T12:31:54.184Z"
   },
   {
    "duration": -1139,
    "start_time": "2021-08-07T12:31:54.188Z"
   },
   {
    "duration": -1152,
    "start_time": "2021-08-07T12:31:54.203Z"
   },
   {
    "duration": -1155,
    "start_time": "2021-08-07T12:31:54.207Z"
   },
   {
    "duration": -1161,
    "start_time": "2021-08-07T12:31:54.214Z"
   },
   {
    "duration": -1162,
    "start_time": "2021-08-07T12:31:54.217Z"
   },
   {
    "duration": -1484,
    "start_time": "2021-08-07T12:31:54.540Z"
   },
   {
    "duration": -1489,
    "start_time": "2021-08-07T12:31:54.547Z"
   },
   {
    "duration": -1491,
    "start_time": "2021-08-07T12:31:54.550Z"
   },
   {
    "duration": -1493,
    "start_time": "2021-08-07T12:31:54.553Z"
   },
   {
    "duration": -1495,
    "start_time": "2021-08-07T12:31:54.556Z"
   },
   {
    "duration": -1495,
    "start_time": "2021-08-07T12:31:54.558Z"
   },
   {
    "duration": -1497,
    "start_time": "2021-08-07T12:31:54.561Z"
   },
   {
    "duration": -1499,
    "start_time": "2021-08-07T12:31:54.564Z"
   },
   {
    "duration": -1500,
    "start_time": "2021-08-07T12:31:54.566Z"
   },
   {
    "duration": 6,
    "start_time": "2021-08-07T12:33:59.932Z"
   },
   {
    "duration": 5075,
    "start_time": "2021-08-07T12:33:59.941Z"
   },
   {
    "duration": 1711,
    "start_time": "2021-08-07T12:34:05.019Z"
   },
   {
    "duration": 170,
    "start_time": "2021-08-07T12:34:06.733Z"
   },
   {
    "duration": 40,
    "start_time": "2021-08-07T12:34:06.906Z"
   },
   {
    "duration": 244,
    "start_time": "2021-08-07T12:34:06.949Z"
   },
   {
    "duration": 242,
    "start_time": "2021-08-07T12:34:07.196Z"
   },
   {
    "duration": 6,
    "start_time": "2021-08-07T12:34:07.441Z"
   },
   {
    "duration": 812,
    "start_time": "2021-08-07T12:34:07.450Z"
   },
   {
    "duration": -933,
    "start_time": "2021-08-07T12:34:09.200Z"
   },
   {
    "duration": -1013,
    "start_time": "2021-08-07T12:34:09.281Z"
   },
   {
    "duration": -1015,
    "start_time": "2021-08-07T12:34:09.284Z"
   },
   {
    "duration": -1019,
    "start_time": "2021-08-07T12:34:09.290Z"
   },
   {
    "duration": -1027,
    "start_time": "2021-08-07T12:34:09.299Z"
   },
   {
    "duration": -1030,
    "start_time": "2021-08-07T12:34:09.303Z"
   },
   {
    "duration": -1040,
    "start_time": "2021-08-07T12:34:09.315Z"
   },
   {
    "duration": -1042,
    "start_time": "2021-08-07T12:34:09.318Z"
   },
   {
    "duration": -1046,
    "start_time": "2021-08-07T12:34:09.324Z"
   },
   {
    "duration": -1048,
    "start_time": "2021-08-07T12:34:09.327Z"
   },
   {
    "duration": -1050,
    "start_time": "2021-08-07T12:34:09.330Z"
   },
   {
    "duration": -1113,
    "start_time": "2021-08-07T12:34:09.395Z"
   },
   {
    "duration": -1124,
    "start_time": "2021-08-07T12:34:09.407Z"
   },
   {
    "duration": -1125,
    "start_time": "2021-08-07T12:34:09.409Z"
   },
   {
    "duration": -1126,
    "start_time": "2021-08-07T12:34:09.412Z"
   },
   {
    "duration": -1127,
    "start_time": "2021-08-07T12:34:09.414Z"
   },
   {
    "duration": -1130,
    "start_time": "2021-08-07T12:34:09.418Z"
   },
   {
    "duration": -1131,
    "start_time": "2021-08-07T12:34:09.420Z"
   },
   {
    "duration": -1131,
    "start_time": "2021-08-07T12:34:09.423Z"
   },
   {
    "duration": -1132,
    "start_time": "2021-08-07T12:34:09.426Z"
   },
   {
    "duration": -1132,
    "start_time": "2021-08-07T12:34:09.428Z"
   },
   {
    "duration": -1201,
    "start_time": "2021-08-07T12:34:09.498Z"
   },
   {
    "duration": -1205,
    "start_time": "2021-08-07T12:34:09.505Z"
   },
   {
    "duration": -1206,
    "start_time": "2021-08-07T12:34:09.508Z"
   },
   {
    "duration": -1208,
    "start_time": "2021-08-07T12:34:09.511Z"
   },
   {
    "duration": -1208,
    "start_time": "2021-08-07T12:34:09.513Z"
   },
   {
    "duration": 17,
    "start_time": "2021-08-07T12:35:38.293Z"
   },
   {
    "duration": 3841,
    "start_time": "2021-08-07T12:35:38.314Z"
   },
   {
    "duration": 1785,
    "start_time": "2021-08-07T12:35:42.158Z"
   },
   {
    "duration": 154,
    "start_time": "2021-08-07T12:35:43.946Z"
   },
   {
    "duration": 41,
    "start_time": "2021-08-07T12:35:44.104Z"
   },
   {
    "duration": 247,
    "start_time": "2021-08-07T12:35:44.147Z"
   },
   {
    "duration": 220,
    "start_time": "2021-08-07T12:35:44.398Z"
   },
   {
    "duration": 5,
    "start_time": "2021-08-07T12:35:44.622Z"
   },
   {
    "duration": 937,
    "start_time": "2021-08-07T12:35:44.630Z"
   },
   {
    "duration": -941,
    "start_time": "2021-08-07T12:35:46.512Z"
   },
   {
    "duration": -996,
    "start_time": "2021-08-07T12:35:46.568Z"
   },
   {
    "duration": -997,
    "start_time": "2021-08-07T12:35:46.571Z"
   },
   {
    "duration": -998,
    "start_time": "2021-08-07T12:35:46.573Z"
   },
   {
    "duration": -1013,
    "start_time": "2021-08-07T12:35:46.590Z"
   },
   {
    "duration": -1014,
    "start_time": "2021-08-07T12:35:46.593Z"
   },
   {
    "duration": -1015,
    "start_time": "2021-08-07T12:35:46.596Z"
   },
   {
    "duration": -1015,
    "start_time": "2021-08-07T12:35:46.599Z"
   },
   {
    "duration": -1016,
    "start_time": "2021-08-07T12:35:46.602Z"
   },
   {
    "duration": -1072,
    "start_time": "2021-08-07T12:35:46.659Z"
   },
   {
    "duration": -1069,
    "start_time": "2021-08-07T12:35:46.661Z"
   },
   {
    "duration": -1066,
    "start_time": "2021-08-07T12:35:46.664Z"
   },
   {
    "duration": -1067,
    "start_time": "2021-08-07T12:35:46.667Z"
   },
   {
    "duration": -1066,
    "start_time": "2021-08-07T12:35:46.669Z"
   },
   {
    "duration": -1067,
    "start_time": "2021-08-07T12:35:46.672Z"
   },
   {
    "duration": -1085,
    "start_time": "2021-08-07T12:35:46.692Z"
   },
   {
    "duration": -1092,
    "start_time": "2021-08-07T12:35:46.703Z"
   },
   {
    "duration": -1092,
    "start_time": "2021-08-07T12:35:46.705Z"
   },
   {
    "duration": -1094,
    "start_time": "2021-08-07T12:35:46.708Z"
   },
   {
    "duration": -1095,
    "start_time": "2021-08-07T12:35:46.711Z"
   },
   {
    "duration": -1097,
    "start_time": "2021-08-07T12:35:46.714Z"
   },
   {
    "duration": -1102,
    "start_time": "2021-08-07T12:35:46.721Z"
   },
   {
    "duration": -1108,
    "start_time": "2021-08-07T12:35:46.728Z"
   },
   {
    "duration": -1154,
    "start_time": "2021-08-07T12:35:46.776Z"
   },
   {
    "duration": -1177,
    "start_time": "2021-08-07T12:35:46.801Z"
   },
   {
    "duration": -1178,
    "start_time": "2021-08-07T12:35:46.804Z"
   },
   {
    "duration": 13,
    "start_time": "2021-08-07T12:36:05.393Z"
   },
   {
    "duration": 979,
    "start_time": "2021-08-07T12:36:07.277Z"
   },
   {
    "duration": 7,
    "start_time": "2021-08-07T12:38:57.368Z"
   },
   {
    "duration": 4786,
    "start_time": "2021-08-07T12:38:57.379Z"
   },
   {
    "duration": 1666,
    "start_time": "2021-08-07T12:39:02.168Z"
   },
   {
    "duration": 140,
    "start_time": "2021-08-07T12:39:03.837Z"
   },
   {
    "duration": 56,
    "start_time": "2021-08-07T12:39:03.979Z"
   },
   {
    "duration": 265,
    "start_time": "2021-08-07T12:39:04.037Z"
   },
   {
    "duration": 315,
    "start_time": "2021-08-07T12:39:04.306Z"
   },
   {
    "duration": 6,
    "start_time": "2021-08-07T12:39:04.626Z"
   },
   {
    "duration": 861,
    "start_time": "2021-08-07T12:39:04.636Z"
   },
   {
    "duration": -930,
    "start_time": "2021-08-07T12:39:06.432Z"
   },
   {
    "duration": -989,
    "start_time": "2021-08-07T12:39:06.493Z"
   },
   {
    "duration": -989,
    "start_time": "2021-08-07T12:39:06.496Z"
   },
   {
    "duration": -1010,
    "start_time": "2021-08-07T12:39:06.520Z"
   },
   {
    "duration": -1010,
    "start_time": "2021-08-07T12:39:06.523Z"
   },
   {
    "duration": -1011,
    "start_time": "2021-08-07T12:39:06.526Z"
   },
   {
    "duration": -1013,
    "start_time": "2021-08-07T12:39:06.529Z"
   },
   {
    "duration": -1015,
    "start_time": "2021-08-07T12:39:06.533Z"
   },
   {
    "duration": -1016,
    "start_time": "2021-08-07T12:39:06.536Z"
   },
   {
    "duration": -1019,
    "start_time": "2021-08-07T12:39:06.540Z"
   },
   {
    "duration": -1076,
    "start_time": "2021-08-07T12:39:06.599Z"
   },
   {
    "duration": -1086,
    "start_time": "2021-08-07T12:39:06.610Z"
   },
   {
    "duration": -1087,
    "start_time": "2021-08-07T12:39:06.613Z"
   },
   {
    "duration": -1104,
    "start_time": "2021-08-07T12:39:06.631Z"
   },
   {
    "duration": -1117,
    "start_time": "2021-08-07T12:39:06.646Z"
   },
   {
    "duration": -1138,
    "start_time": "2021-08-07T12:39:06.668Z"
   },
   {
    "duration": -1140,
    "start_time": "2021-08-07T12:39:06.671Z"
   },
   {
    "duration": -1141,
    "start_time": "2021-08-07T12:39:06.674Z"
   },
   {
    "duration": -1142,
    "start_time": "2021-08-07T12:39:06.676Z"
   },
   {
    "duration": -1143,
    "start_time": "2021-08-07T12:39:06.679Z"
   },
   {
    "duration": -1145,
    "start_time": "2021-08-07T12:39:06.682Z"
   },
   {
    "duration": -1187,
    "start_time": "2021-08-07T12:39:06.725Z"
   },
   {
    "duration": -1187,
    "start_time": "2021-08-07T12:39:06.727Z"
   },
   {
    "duration": -1216,
    "start_time": "2021-08-07T12:39:06.757Z"
   },
   {
    "duration": -1174,
    "start_time": "2021-08-07T12:39:06.760Z"
   },
   {
    "duration": -1175,
    "start_time": "2021-08-07T12:39:06.764Z"
   },
   {
    "duration": 5,
    "start_time": "2021-08-07T12:39:39.577Z"
   },
   {
    "duration": 774,
    "start_time": "2021-08-07T12:39:40.858Z"
   },
   {
    "duration": 6,
    "start_time": "2021-08-07T12:39:49.935Z"
   },
   {
    "duration": 917,
    "start_time": "2021-08-07T12:39:50.613Z"
   },
   {
    "duration": 8,
    "start_time": "2021-08-07T12:42:01.203Z"
   },
   {
    "duration": 907,
    "start_time": "2021-08-07T12:42:02.095Z"
   },
   {
    "duration": 11,
    "start_time": "2021-08-07T12:42:28.793Z"
   },
   {
    "duration": 805,
    "start_time": "2021-08-07T12:42:30.211Z"
   },
   {
    "duration": 8,
    "start_time": "2021-08-07T12:42:46.414Z"
   },
   {
    "duration": 783,
    "start_time": "2021-08-07T12:42:47.353Z"
   },
   {
    "duration": 6,
    "start_time": "2021-08-07T12:44:20.635Z"
   },
   {
    "duration": 763,
    "start_time": "2021-08-07T12:44:21.200Z"
   },
   {
    "duration": 5,
    "start_time": "2021-08-07T12:50:50.935Z"
   },
   {
    "duration": 972,
    "start_time": "2021-08-07T12:50:52.275Z"
   },
   {
    "duration": 6,
    "start_time": "2021-08-07T12:51:23.016Z"
   },
   {
    "duration": 769,
    "start_time": "2021-08-07T12:51:41.822Z"
   },
   {
    "duration": 9019,
    "start_time": "2021-08-07T12:52:17.735Z"
   },
   {
    "duration": 832,
    "start_time": "2021-08-07T12:53:20.306Z"
   },
   {
    "duration": 6,
    "start_time": "2021-08-07T12:55:53.631Z"
   },
   {
    "duration": 1148,
    "start_time": "2021-08-07T12:55:54.792Z"
   },
   {
    "duration": 6,
    "start_time": "2021-08-07T12:56:24.122Z"
   },
   {
    "duration": 872,
    "start_time": "2021-08-07T12:56:25.581Z"
   },
   {
    "duration": 7,
    "start_time": "2021-08-07T12:58:05.611Z"
   },
   {
    "duration": 3850,
    "start_time": "2021-08-07T12:58:05.621Z"
   },
   {
    "duration": 1887,
    "start_time": "2021-08-07T12:58:09.475Z"
   },
   {
    "duration": 165,
    "start_time": "2021-08-07T12:58:11.365Z"
   },
   {
    "duration": 57,
    "start_time": "2021-08-07T12:58:11.533Z"
   },
   {
    "duration": 249,
    "start_time": "2021-08-07T12:58:11.593Z"
   },
   {
    "duration": 333,
    "start_time": "2021-08-07T12:58:11.845Z"
   },
   {
    "duration": 10,
    "start_time": "2021-08-07T12:58:12.181Z"
   },
   {
    "duration": 845,
    "start_time": "2021-08-07T12:58:12.197Z"
   },
   {
    "duration": -1323,
    "start_time": "2021-08-07T12:58:14.370Z"
   },
   {
    "duration": -1324,
    "start_time": "2021-08-07T12:58:14.373Z"
   },
   {
    "duration": -1323,
    "start_time": "2021-08-07T12:58:14.375Z"
   },
   {
    "duration": -1379,
    "start_time": "2021-08-07T12:58:14.433Z"
   },
   {
    "duration": -1385,
    "start_time": "2021-08-07T12:58:14.441Z"
   },
   {
    "duration": -1386,
    "start_time": "2021-08-07T12:58:14.444Z"
   },
   {
    "duration": -1386,
    "start_time": "2021-08-07T12:58:14.446Z"
   },
   {
    "duration": -1419,
    "start_time": "2021-08-07T12:58:14.481Z"
   },
   {
    "duration": -1419,
    "start_time": "2021-08-07T12:58:14.484Z"
   },
   {
    "duration": -1420,
    "start_time": "2021-08-07T12:58:14.487Z"
   },
   {
    "duration": -1431,
    "start_time": "2021-08-07T12:58:14.500Z"
   },
   {
    "duration": -1487,
    "start_time": "2021-08-07T12:58:14.558Z"
   },
   {
    "duration": -1487,
    "start_time": "2021-08-07T12:58:14.561Z"
   },
   {
    "duration": -1489,
    "start_time": "2021-08-07T12:58:14.564Z"
   },
   {
    "duration": -1490,
    "start_time": "2021-08-07T12:58:14.567Z"
   },
   {
    "duration": -1487,
    "start_time": "2021-08-07T12:58:14.572Z"
   },
   {
    "duration": -1487,
    "start_time": "2021-08-07T12:58:14.574Z"
   },
   {
    "duration": -1508,
    "start_time": "2021-08-07T12:58:14.596Z"
   },
   {
    "duration": -1509,
    "start_time": "2021-08-07T12:58:14.599Z"
   },
   {
    "duration": -1510,
    "start_time": "2021-08-07T12:58:14.602Z"
   },
   {
    "duration": -1511,
    "start_time": "2021-08-07T12:58:14.605Z"
   },
   {
    "duration": -1554,
    "start_time": "2021-08-07T12:58:14.651Z"
   },
   {
    "duration": -1555,
    "start_time": "2021-08-07T12:58:14.654Z"
   },
   {
    "duration": -1555,
    "start_time": "2021-08-07T12:58:14.656Z"
   },
   {
    "duration": -1555,
    "start_time": "2021-08-07T12:58:14.659Z"
   },
   {
    "duration": -1556,
    "start_time": "2021-08-07T12:58:14.662Z"
   },
   {
    "duration": 5,
    "start_time": "2021-08-07T12:58:34.867Z"
   },
   {
    "duration": 790,
    "start_time": "2021-08-07T12:58:35.787Z"
   },
   {
    "duration": 7,
    "start_time": "2021-08-07T13:00:51.225Z"
   },
   {
    "duration": 3722,
    "start_time": "2021-08-07T13:00:51.235Z"
   },
   {
    "duration": 1743,
    "start_time": "2021-08-07T13:00:54.961Z"
   },
   {
    "duration": 152,
    "start_time": "2021-08-07T13:00:56.708Z"
   },
   {
    "duration": 70,
    "start_time": "2021-08-07T13:00:56.862Z"
   },
   {
    "duration": 230,
    "start_time": "2021-08-07T13:00:56.934Z"
   },
   {
    "duration": 309,
    "start_time": "2021-08-07T13:00:57.167Z"
   },
   {
    "duration": 14,
    "start_time": "2021-08-07T13:00:57.479Z"
   },
   {
    "duration": 1048,
    "start_time": "2021-08-07T13:00:57.498Z"
   },
   {
    "duration": -940,
    "start_time": "2021-08-07T13:00:59.489Z"
   },
   {
    "duration": -996,
    "start_time": "2021-08-07T13:00:59.547Z"
   },
   {
    "duration": -998,
    "start_time": "2021-08-07T13:00:59.550Z"
   },
   {
    "duration": -1020,
    "start_time": "2021-08-07T13:00:59.573Z"
   },
   {
    "duration": -1022,
    "start_time": "2021-08-07T13:00:59.577Z"
   },
   {
    "duration": -1023,
    "start_time": "2021-08-07T13:00:59.580Z"
   },
   {
    "duration": -1024,
    "start_time": "2021-08-07T13:00:59.583Z"
   },
   {
    "duration": -1026,
    "start_time": "2021-08-07T13:00:59.587Z"
   },
   {
    "duration": -1026,
    "start_time": "2021-08-07T13:00:59.589Z"
   },
   {
    "duration": -1096,
    "start_time": "2021-08-07T13:00:59.660Z"
   },
   {
    "duration": -1097,
    "start_time": "2021-08-07T13:00:59.663Z"
   },
   {
    "duration": -1098,
    "start_time": "2021-08-07T13:00:59.666Z"
   },
   {
    "duration": -1100,
    "start_time": "2021-08-07T13:00:59.669Z"
   },
   {
    "duration": -1101,
    "start_time": "2021-08-07T13:00:59.671Z"
   },
   {
    "duration": -1120,
    "start_time": "2021-08-07T13:00:59.691Z"
   },
   {
    "duration": -1141,
    "start_time": "2021-08-07T13:00:59.714Z"
   },
   {
    "duration": -1143,
    "start_time": "2021-08-07T13:00:59.717Z"
   },
   {
    "duration": -1144,
    "start_time": "2021-08-07T13:00:59.720Z"
   },
   {
    "duration": -1147,
    "start_time": "2021-08-07T13:00:59.724Z"
   },
   {
    "duration": -1149,
    "start_time": "2021-08-07T13:00:59.727Z"
   },
   {
    "duration": -1155,
    "start_time": "2021-08-07T13:00:59.735Z"
   },
   {
    "duration": -1156,
    "start_time": "2021-08-07T13:00:59.737Z"
   },
   {
    "duration": -1158,
    "start_time": "2021-08-07T13:00:59.740Z"
   },
   {
    "duration": -1210,
    "start_time": "2021-08-07T13:00:59.794Z"
   },
   {
    "duration": -1216,
    "start_time": "2021-08-07T13:00:59.802Z"
   },
   {
    "duration": -1218,
    "start_time": "2021-08-07T13:00:59.807Z"
   },
   {
    "duration": 1701,
    "start_time": "2021-08-07T13:02:08.421Z"
   },
   {
    "duration": 3607,
    "start_time": "2021-08-07T13:02:10.125Z"
   },
   {
    "duration": 1704,
    "start_time": "2021-08-07T13:02:13.735Z"
   },
   {
    "duration": 142,
    "start_time": "2021-08-07T13:02:15.441Z"
   },
   {
    "duration": 51,
    "start_time": "2021-08-07T13:02:15.585Z"
   },
   {
    "duration": 253,
    "start_time": "2021-08-07T13:02:15.639Z"
   },
   {
    "duration": 296,
    "start_time": "2021-08-07T13:02:15.895Z"
   },
   {
    "duration": 10,
    "start_time": "2021-08-07T13:02:16.194Z"
   },
   {
    "duration": 4504,
    "start_time": "2021-08-07T13:02:16.212Z"
   },
   {
    "duration": 21,
    "start_time": "2021-08-07T13:02:20.720Z"
   },
   {
    "duration": 82,
    "start_time": "2021-08-07T13:02:20.744Z"
   },
   {
    "duration": 4259,
    "start_time": "2021-08-07T13:02:20.829Z"
   },
   {
    "duration": 171,
    "start_time": "2021-08-07T13:02:25.091Z"
   },
   {
    "duration": 6,
    "start_time": "2021-08-07T13:02:25.265Z"
   },
   {
    "duration": 285,
    "start_time": "2021-08-07T13:02:25.286Z"
   },
   {
    "duration": 583,
    "start_time": "2021-08-07T13:02:25.574Z"
   },
   {
    "duration": -953,
    "start_time": "2021-08-07T13:02:27.113Z"
   },
   {
    "duration": -955,
    "start_time": "2021-08-07T13:02:27.117Z"
   },
   {
    "duration": -957,
    "start_time": "2021-08-07T13:02:27.120Z"
   },
   {
    "duration": -1037,
    "start_time": "2021-08-07T13:02:27.202Z"
   },
   {
    "duration": -1048,
    "start_time": "2021-08-07T13:02:27.214Z"
   },
   {
    "duration": -1050,
    "start_time": "2021-08-07T13:02:27.217Z"
   },
   {
    "duration": -1051,
    "start_time": "2021-08-07T13:02:27.220Z"
   },
   {
    "duration": -1053,
    "start_time": "2021-08-07T13:02:27.223Z"
   },
   {
    "duration": -1054,
    "start_time": "2021-08-07T13:02:27.225Z"
   },
   {
    "duration": -1063,
    "start_time": "2021-08-07T13:02:27.236Z"
   },
   {
    "duration": -1065,
    "start_time": "2021-08-07T13:02:27.239Z"
   },
   {
    "duration": -1068,
    "start_time": "2021-08-07T13:02:27.243Z"
   },
   {
    "duration": -1069,
    "start_time": "2021-08-07T13:02:27.246Z"
   },
   {
    "duration": -1071,
    "start_time": "2021-08-07T13:02:27.249Z"
   },
   {
    "duration": -1072,
    "start_time": "2021-08-07T13:02:27.252Z"
   },
   {
    "duration": -1074,
    "start_time": "2021-08-07T13:02:27.255Z"
   },
   {
    "duration": -1098,
    "start_time": "2021-08-07T13:02:27.281Z"
   },
   {
    "duration": -1100,
    "start_time": "2021-08-07T13:02:27.284Z"
   },
   {
    "duration": -1096,
    "start_time": "2021-08-07T13:02:27.286Z"
   },
   {
    "duration": 4196,
    "start_time": "2021-08-07T13:03:23.932Z"
   },
   {
    "duration": 1679,
    "start_time": "2021-08-07T13:05:37.445Z"
   },
   {
    "duration": 3848,
    "start_time": "2021-08-07T13:05:39.126Z"
   },
   {
    "duration": 2459,
    "start_time": "2021-08-07T13:05:42.977Z"
   },
   {
    "duration": 149,
    "start_time": "2021-08-07T13:05:45.439Z"
   },
   {
    "duration": 54,
    "start_time": "2021-08-07T13:05:45.591Z"
   },
   {
    "duration": 270,
    "start_time": "2021-08-07T13:05:45.650Z"
   },
   {
    "duration": 302,
    "start_time": "2021-08-07T13:05:45.923Z"
   },
   {
    "duration": 7,
    "start_time": "2021-08-07T13:05:46.231Z"
   },
   {
    "duration": 4683,
    "start_time": "2021-08-07T13:05:46.241Z"
   },
   {
    "duration": 31,
    "start_time": "2021-08-07T13:05:50.928Z"
   },
   {
    "duration": 92,
    "start_time": "2021-08-07T13:05:50.962Z"
   },
   {
    "duration": 4420,
    "start_time": "2021-08-07T13:05:51.057Z"
   },
   {
    "duration": 154,
    "start_time": "2021-08-07T13:05:55.479Z"
   },
   {
    "duration": 6,
    "start_time": "2021-08-07T13:05:55.636Z"
   },
   {
    "duration": 305,
    "start_time": "2021-08-07T13:05:55.645Z"
   },
   {
    "duration": 4168,
    "start_time": "2021-08-07T13:05:55.952Z"
   },
   {
    "duration": 85,
    "start_time": "2021-08-07T13:06:00.124Z"
   },
   {
    "duration": 456,
    "start_time": "2021-08-07T13:06:00.212Z"
   },
   {
    "duration": 5,
    "start_time": "2021-08-07T13:06:00.671Z"
   },
   {
    "duration": 18,
    "start_time": "2021-08-07T13:06:00.686Z"
   },
   {
    "duration": 18,
    "start_time": "2021-08-07T13:06:00.709Z"
   },
   {
    "duration": 10,
    "start_time": "2021-08-07T13:06:00.729Z"
   },
   {
    "duration": 404192,
    "start_time": "2021-08-07T13:06:00.744Z"
   },
   {
    "duration": 7,
    "start_time": "2021-08-07T13:12:44.940Z"
   },
   {
    "duration": 10657,
    "start_time": "2021-08-07T13:12:44.950Z"
   },
   {
    "duration": 1151,
    "start_time": "2021-08-07T13:12:55.610Z"
   },
   {
    "duration": 19127456,
    "start_time": "2021-08-07T13:12:56.764Z"
   },
   {
    "duration": 69,
    "start_time": "2021-08-07T18:31:44.224Z"
   },
   {
    "duration": 360807,
    "start_time": "2021-08-07T18:31:44.302Z"
   },
   {
    "duration": 8,
    "start_time": "2021-08-07T18:37:45.112Z"
   },
   {
    "duration": 1994946,
    "start_time": "2021-08-07T18:37:45.123Z"
   },
   {
    "duration": 6,
    "start_time": "2021-08-07T19:11:00.071Z"
   },
   {
    "duration": 41641,
    "start_time": "2021-08-07T19:11:00.080Z"
   },
   {
    "duration": 72,
    "start_time": "2021-08-07T19:11:41.724Z"
   },
   {
    "duration": 316827,
    "start_time": "2021-08-07T19:11:41.800Z"
   }
  ],
  "kernelspec": {
   "display_name": "Python 3 (system-wide)",
   "language": "python",
   "metadata": {
    "cocalc": {
     "description": "Python 3 programming language",
     "priority": 100,
     "url": "https://www.python.org/"
    }
   },
   "name": "python3",
   "resource_dir": "/ext/jupyter/kernels/python3"
  },
  "language_info": {
   "codemirror_mode": {
    "name": "ipython",
    "version": 3
   },
   "file_extension": ".py",
   "mimetype": "text/x-python",
   "name": "python",
   "nbconvert_exporter": "python",
   "pygments_lexer": "ipython3",
   "version": "3.7.5"
  },
  "toc": {
   "base_numbering": 1,
   "nav_menu": {
   },
   "number_sections": true,
   "sideBar": true,
   "skip_h1_title": true,
   "title_cell": "Table of Contents",
   "title_sidebar": "Contents",
   "toc_cell": false,
   "toc_position": {
   },
   "toc_section_display": true,
   "toc_window_display": false
  }
 },
 "nbformat": 4,
 "nbformat_minor": 4
}