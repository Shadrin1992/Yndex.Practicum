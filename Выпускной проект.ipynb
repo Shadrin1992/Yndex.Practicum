{
 "cells": [
  {
   "cell_type": "markdown",
   "metadata": {
    "collapsed": false
   },
   "source": [
    "### Задача  \n",
    "Проведите исследовательский анализ данных. В конце Jupyter Notebook напишите:\n",
    "- Список уточняющих вопросов.\n",
    "- Примерный план решения задачи. Пропишите 3–5 основных шагов, каждый поясните не более двумя предложениями. \n",
    "  \n",
    "### Описание данных\n",
    "\n",
    "Данные состоят из файлов, полученных из разных источников:\n",
    "\n",
    "- `contract.csv` — информация о договоре;\n",
    "- `personal.csv` — персональные данные клиента;\n",
    "- `internet.csv` — информация об интернет-услугах;\n",
    "- `phone.csv` — информация об услугах телефонии.\n",
    "\n",
    "Во всех файлах столбец `customerID` содержит код клиента.\n",
    "\n",
    "Информация о договорах актуальна на 1 февраля 2020.\n",
    "  \n",
    "Данные также находятся в тренажёре, в папке `/datasets/final_provider/`."
   ]
  },
  {
   "cell_type": "markdown",
   "metadata": {
    "collapsed": false
   },
   "source": [
    "**1. Импортируем библиотеки и изучим данные**"
   ]
  },
  {
   "cell_type": "code",
   "execution_count": 1,
   "metadata": {
    "collapsed": false
   },
   "outputs": [
   ],
   "source": [
    "import pandas as pd\n",
    "import numpy as np\n",
    "import seaborn as sn\n",
    "\n",
    "import matplotlib.pyplot as plt\n",
    "import matplotlib.style\n",
    "import matplotlib as mpl\n",
    "plt.style.use('seaborn')\n",
    "\n",
    "from plotly.subplots import make_subplots\n",
    "import plotly.graph_objects as go\n",
    "\n",
    "from sklearn.metrics import SCORERS\n",
    "from sklearn.metrics import roc_auc_score, accuracy_score\n",
    "from sklearn.model_selection import train_test_split, cross_val_score, GridSearchCV, KFold\n",
    "from sklearn.preprocessing import StandardScaler, MinMaxScaler, OneHotEncoder, PolynomialFeatures\n",
    "from sklearn.utils import shuffle, resample\n",
    "from sklearn.dummy import DummyClassifier\n",
    "from sklearn.linear_model import LogisticRegression\n",
    "from sklearn.ensemble import RandomForestClassifier\n",
    "\n",
    "from catboost import CatBoostClassifier\n",
    "\n",
    "import warnings\n",
    "warnings.filterwarnings(\"ignore\")\n",
    "\n",
    "pd.set_option('display.max_colwidth', -1)"
   ]
  },
  {
   "cell_type": "code",
   "execution_count": 2,
   "metadata": {
    "collapsed": false
   },
   "outputs": [
   ],
   "source": [
    "df_contract = pd.read_csv('/datasets/final_provider/contract.csv')\n",
    "df_personal = pd.read_csv('/datasets/final_provider/personal.csv')\n",
    "df_internet = pd.read_csv('/datasets/final_provider/internet.csv')\n",
    "df_phone = pd.read_csv('/datasets/final_provider/phone.csv')"
   ]
  },
  {
   "cell_type": "markdown",
   "metadata": {
    "collapsed": false
   },
   "source": [
    "**1.1 Объединим данные в одну таблицу**"
   ]
  },
  {
   "cell_type": "code",
   "execution_count": 3,
   "metadata": {
    "collapsed": false
   },
   "outputs": [
   ],
   "source": [
    "df=pd.merge(left=df_contract, right=df_personal, left_on='customerID', right_on='customerID', how='outer')\n",
    "df=pd.merge(left=df, right=df_internet, left_on='customerID', right_on='customerID', how='outer')\n",
    "df=pd.merge(left=df, right=df_phone, left_on='customerID', right_on='customerID', how='outer')"
   ]
  },
  {
   "cell_type": "code",
   "execution_count": 4,
   "metadata": {
    "collapsed": false
   },
   "outputs": [
    {
     "name": "stdout",
     "output_type": "stream",
     "text": [
      "<class 'pandas.core.frame.DataFrame'>\n",
      "Int64Index: 7043 entries, 0 to 7042\n",
      "Data columns (total 20 columns):\n",
      "customerID          7043 non-null object\n",
      "BeginDate           7043 non-null object\n",
      "EndDate             7043 non-null object\n",
      "Type                7043 non-null object\n",
      "PaperlessBilling    7043 non-null object\n",
      "PaymentMethod       7043 non-null object\n",
      "MonthlyCharges      7043 non-null float64\n",
      "TotalCharges        7043 non-null object\n",
      "gender              7043 non-null object\n",
      "SeniorCitizen       7043 non-null int64\n",
      "Partner             7043 non-null object\n",
      "Dependents          7043 non-null object\n",
      "InternetService     5517 non-null object\n",
      "OnlineSecurity      5517 non-null object\n",
      "OnlineBackup        5517 non-null object\n",
      "DeviceProtection    5517 non-null object\n",
      "TechSupport         5517 non-null object\n",
      "StreamingTV         5517 non-null object\n",
      "StreamingMovies     5517 non-null object\n",
      "MultipleLines       6361 non-null object\n",
      "dtypes: float64(1), int64(1), object(18)\n",
      "memory usage: 1.1+ MB\n"
     ]
    }
   ],
   "source": [
    "df.info()"
   ]
  },
  {
   "cell_type": "code",
   "execution_count": 5,
   "metadata": {
    "collapsed": false
   },
   "outputs": [
    {
     "data": {
      "text/html": [
       "<div>\n",
       "<style scoped>\n",
       "    .dataframe tbody tr th:only-of-type {\n",
       "        vertical-align: middle;\n",
       "    }\n",
       "\n",
       "    .dataframe tbody tr th {\n",
       "        vertical-align: top;\n",
       "    }\n",
       "\n",
       "    .dataframe thead th {\n",
       "        text-align: right;\n",
       "    }\n",
       "</style>\n",
       "<table border=\"1\" class=\"dataframe\">\n",
       "  <thead>\n",
       "    <tr style=\"text-align: right;\">\n",
       "      <th></th>\n",
       "      <th>customerID</th>\n",
       "      <th>BeginDate</th>\n",
       "      <th>EndDate</th>\n",
       "      <th>Type</th>\n",
       "      <th>PaperlessBilling</th>\n",
       "      <th>PaymentMethod</th>\n",
       "      <th>MonthlyCharges</th>\n",
       "      <th>TotalCharges</th>\n",
       "      <th>gender</th>\n",
       "      <th>SeniorCitizen</th>\n",
       "      <th>Partner</th>\n",
       "      <th>Dependents</th>\n",
       "      <th>InternetService</th>\n",
       "      <th>OnlineSecurity</th>\n",
       "      <th>OnlineBackup</th>\n",
       "      <th>DeviceProtection</th>\n",
       "      <th>TechSupport</th>\n",
       "      <th>StreamingTV</th>\n",
       "      <th>StreamingMovies</th>\n",
       "      <th>MultipleLines</th>\n",
       "    </tr>\n",
       "  </thead>\n",
       "  <tbody>\n",
       "    <tr>\n",
       "      <td>0</td>\n",
       "      <td>7590-VHVEG</td>\n",
       "      <td>2020-01-01</td>\n",
       "      <td>No</td>\n",
       "      <td>Month-to-month</td>\n",
       "      <td>Yes</td>\n",
       "      <td>Electronic check</td>\n",
       "      <td>29.85</td>\n",
       "      <td>29.85</td>\n",
       "      <td>Female</td>\n",
       "      <td>0</td>\n",
       "      <td>Yes</td>\n",
       "      <td>No</td>\n",
       "      <td>DSL</td>\n",
       "      <td>No</td>\n",
       "      <td>Yes</td>\n",
       "      <td>No</td>\n",
       "      <td>No</td>\n",
       "      <td>No</td>\n",
       "      <td>No</td>\n",
       "      <td>NaN</td>\n",
       "    </tr>\n",
       "    <tr>\n",
       "      <td>1</td>\n",
       "      <td>5575-GNVDE</td>\n",
       "      <td>2017-04-01</td>\n",
       "      <td>No</td>\n",
       "      <td>One year</td>\n",
       "      <td>No</td>\n",
       "      <td>Mailed check</td>\n",
       "      <td>56.95</td>\n",
       "      <td>1889.5</td>\n",
       "      <td>Male</td>\n",
       "      <td>0</td>\n",
       "      <td>No</td>\n",
       "      <td>No</td>\n",
       "      <td>DSL</td>\n",
       "      <td>Yes</td>\n",
       "      <td>No</td>\n",
       "      <td>Yes</td>\n",
       "      <td>No</td>\n",
       "      <td>No</td>\n",
       "      <td>No</td>\n",
       "      <td>No</td>\n",
       "    </tr>\n",
       "    <tr>\n",
       "      <td>2</td>\n",
       "      <td>3668-QPYBK</td>\n",
       "      <td>2019-10-01</td>\n",
       "      <td>2019-12-01 00:00:00</td>\n",
       "      <td>Month-to-month</td>\n",
       "      <td>Yes</td>\n",
       "      <td>Mailed check</td>\n",
       "      <td>53.85</td>\n",
       "      <td>108.15</td>\n",
       "      <td>Male</td>\n",
       "      <td>0</td>\n",
       "      <td>No</td>\n",
       "      <td>No</td>\n",
       "      <td>DSL</td>\n",
       "      <td>Yes</td>\n",
       "      <td>Yes</td>\n",
       "      <td>No</td>\n",
       "      <td>No</td>\n",
       "      <td>No</td>\n",
       "      <td>No</td>\n",
       "      <td>No</td>\n",
       "    </tr>\n",
       "    <tr>\n",
       "      <td>3</td>\n",
       "      <td>7795-CFOCW</td>\n",
       "      <td>2016-05-01</td>\n",
       "      <td>No</td>\n",
       "      <td>One year</td>\n",
       "      <td>No</td>\n",
       "      <td>Bank transfer (automatic)</td>\n",
       "      <td>42.30</td>\n",
       "      <td>1840.75</td>\n",
       "      <td>Male</td>\n",
       "      <td>0</td>\n",
       "      <td>No</td>\n",
       "      <td>No</td>\n",
       "      <td>DSL</td>\n",
       "      <td>Yes</td>\n",
       "      <td>No</td>\n",
       "      <td>Yes</td>\n",
       "      <td>Yes</td>\n",
       "      <td>No</td>\n",
       "      <td>No</td>\n",
       "      <td>NaN</td>\n",
       "    </tr>\n",
       "    <tr>\n",
       "      <td>4</td>\n",
       "      <td>9237-HQITU</td>\n",
       "      <td>2019-09-01</td>\n",
       "      <td>2019-11-01 00:00:00</td>\n",
       "      <td>Month-to-month</td>\n",
       "      <td>Yes</td>\n",
       "      <td>Electronic check</td>\n",
       "      <td>70.70</td>\n",
       "      <td>151.65</td>\n",
       "      <td>Female</td>\n",
       "      <td>0</td>\n",
       "      <td>No</td>\n",
       "      <td>No</td>\n",
       "      <td>Fiber optic</td>\n",
       "      <td>No</td>\n",
       "      <td>No</td>\n",
       "      <td>No</td>\n",
       "      <td>No</td>\n",
       "      <td>No</td>\n",
       "      <td>No</td>\n",
       "      <td>No</td>\n",
       "    </tr>\n",
       "  </tbody>\n",
       "</table>\n",
       "</div>"
      ],
      "text/plain": [
       "   customerID   BeginDate              EndDate            Type  \\\n",
       "0  7590-VHVEG  2020-01-01  No                   Month-to-month   \n",
       "1  5575-GNVDE  2017-04-01  No                   One year         \n",
       "2  3668-QPYBK  2019-10-01  2019-12-01 00:00:00  Month-to-month   \n",
       "3  7795-CFOCW  2016-05-01  No                   One year         \n",
       "4  9237-HQITU  2019-09-01  2019-11-01 00:00:00  Month-to-month   \n",
       "\n",
       "  PaperlessBilling              PaymentMethod  MonthlyCharges TotalCharges  \\\n",
       "0  Yes              Electronic check           29.85           29.85         \n",
       "1  No               Mailed check               56.95           1889.5        \n",
       "2  Yes              Mailed check               53.85           108.15        \n",
       "3  No               Bank transfer (automatic)  42.30           1840.75       \n",
       "4  Yes              Electronic check           70.70           151.65        \n",
       "\n",
       "   gender  SeniorCitizen Partner Dependents InternetService OnlineSecurity  \\\n",
       "0  Female  0              Yes     No         DSL             No              \n",
       "1  Male    0              No      No         DSL             Yes             \n",
       "2  Male    0              No      No         DSL             Yes             \n",
       "3  Male    0              No      No         DSL             Yes             \n",
       "4  Female  0              No      No         Fiber optic     No              \n",
       "\n",
       "  OnlineBackup DeviceProtection TechSupport StreamingTV StreamingMovies  \\\n",
       "0  Yes          No               No          No          No               \n",
       "1  No           Yes              No          No          No               \n",
       "2  Yes          No               No          No          No               \n",
       "3  No           Yes              Yes         No          No               \n",
       "4  No           No               No          No          No               \n",
       "\n",
       "  MultipleLines  \n",
       "0  NaN           \n",
       "1  No            \n",
       "2  No            \n",
       "3  NaN           \n",
       "4  No            "
      ]
     },
     "execution_count": 5,
     "metadata": {
     },
     "output_type": "execute_result"
    }
   ],
   "source": [
    "df.head()"
   ]
  },
  {
   "cell_type": "markdown",
   "metadata": {
    "collapsed": false
   },
   "source": [
    "- В данных есть пропуски, нужно изучить более подробно и по возможности исправить.\n",
    "- В таблице есть столбцы со значениями ДА и НЕТ, нужно перевести в бинарный вид.  \n",
    "- Названия столбцов нужно привести в стандартный вид.  \n",
    "- Привести типы данных в порядок."
   ]
  },
  {
   "cell_type": "markdown",
   "metadata": {
    "collapsed": false
   },
   "source": [
    "**1.2 Предварительная обработка данных.**"
   ]
  },
  {
   "cell_type": "code",
   "execution_count": 6,
   "metadata": {
    "collapsed": false
   },
   "outputs": [
   ],
   "source": [
    "df.set_axis(['customer_id','begin_date','end_date','contract_type','paperless_billing',\n",
    "                      'payment_method','monthly_charges','total_charges', 'gender', 'senior_citizen', 'partner',\n",
    "                      'dependents', 'internet_service', 'online_security', 'online_backup', 'device_protection',\n",
    "                      'tech_support', 'streaming_tv', 'streaming_movies', 'multiple_lines'], \n",
    "                     axis='columns', inplace=True)"
   ]
  },
  {
   "cell_type": "code",
   "execution_count": 7,
   "metadata": {
    "collapsed": false,
    "scrolled": true
   },
   "outputs": [
    {
     "data": {
      "text/html": [
       "<div>\n",
       "<style scoped>\n",
       "    .dataframe tbody tr th:only-of-type {\n",
       "        vertical-align: middle;\n",
       "    }\n",
       "\n",
       "    .dataframe tbody tr th {\n",
       "        vertical-align: top;\n",
       "    }\n",
       "\n",
       "    .dataframe thead th {\n",
       "        text-align: right;\n",
       "    }\n",
       "</style>\n",
       "<table border=\"1\" class=\"dataframe\">\n",
       "  <thead>\n",
       "    <tr style=\"text-align: right;\">\n",
       "      <th></th>\n",
       "      <th>customer_id</th>\n",
       "      <th>begin_date</th>\n",
       "      <th>end_date</th>\n",
       "      <th>contract_type</th>\n",
       "      <th>paperless_billing</th>\n",
       "      <th>payment_method</th>\n",
       "      <th>monthly_charges</th>\n",
       "      <th>total_charges</th>\n",
       "      <th>gender</th>\n",
       "      <th>senior_citizen</th>\n",
       "      <th>partner</th>\n",
       "      <th>dependents</th>\n",
       "      <th>internet_service</th>\n",
       "      <th>online_security</th>\n",
       "      <th>online_backup</th>\n",
       "      <th>device_protection</th>\n",
       "      <th>tech_support</th>\n",
       "      <th>streaming_tv</th>\n",
       "      <th>streaming_movies</th>\n",
       "      <th>multiple_lines</th>\n",
       "    </tr>\n",
       "  </thead>\n",
       "  <tbody>\n",
       "    <tr>\n",
       "      <td>0</td>\n",
       "      <td>7590-VHVEG</td>\n",
       "      <td>2020-01-01</td>\n",
       "      <td>No</td>\n",
       "      <td>Month-to-month</td>\n",
       "      <td>Yes</td>\n",
       "      <td>Electronic check</td>\n",
       "      <td>29.85</td>\n",
       "      <td>29.85</td>\n",
       "      <td>Female</td>\n",
       "      <td>0</td>\n",
       "      <td>Yes</td>\n",
       "      <td>No</td>\n",
       "      <td>DSL</td>\n",
       "      <td>No</td>\n",
       "      <td>Yes</td>\n",
       "      <td>No</td>\n",
       "      <td>No</td>\n",
       "      <td>No</td>\n",
       "      <td>No</td>\n",
       "      <td>NaN</td>\n",
       "    </tr>\n",
       "  </tbody>\n",
       "</table>\n",
       "</div>"
      ],
      "text/plain": [
       "  customer_id  begin_date end_date   contract_type paperless_billing  \\\n",
       "0  7590-VHVEG  2020-01-01  No       Month-to-month  Yes                \n",
       "\n",
       "     payment_method  monthly_charges total_charges  gender  senior_citizen  \\\n",
       "0  Electronic check  29.85            29.85         Female  0                \n",
       "\n",
       "  partner dependents internet_service online_security online_backup  \\\n",
       "0  Yes     No         DSL              No              Yes            \n",
       "\n",
       "  device_protection tech_support streaming_tv streaming_movies multiple_lines  \n",
       "0  No                No           No           No               NaN            "
      ]
     },
     "execution_count": 7,
     "metadata": {
     },
     "output_type": "execute_result"
    }
   ],
   "source": [
    "df.head(1)"
   ]
  },
  {
   "cell_type": "markdown",
   "metadata": {
    "collapsed": false
   },
   "source": [
    "Приведем значения Да\\Нет в столбцах к 0\\1."
   ]
  },
  {
   "cell_type": "code",
   "execution_count": 8,
   "metadata": {
    "collapsed": false
   },
   "outputs": [
   ],
   "source": [
    "def transform(df):\n",
    "    for i in df.columns:\n",
    "        df.loc[(df[i] == 'Yes'), i] = 1\n",
    "        df.loc[(df[i] == 'No'), i] = 0\n",
    "    return df"
   ]
  },
  {
   "cell_type": "code",
   "execution_count": 9,
   "metadata": {
    "collapsed": false
   },
   "outputs": [
    {
     "data": {
      "text/html": [
       "<div>\n",
       "<style scoped>\n",
       "    .dataframe tbody tr th:only-of-type {\n",
       "        vertical-align: middle;\n",
       "    }\n",
       "\n",
       "    .dataframe tbody tr th {\n",
       "        vertical-align: top;\n",
       "    }\n",
       "\n",
       "    .dataframe thead th {\n",
       "        text-align: right;\n",
       "    }\n",
       "</style>\n",
       "<table border=\"1\" class=\"dataframe\">\n",
       "  <thead>\n",
       "    <tr style=\"text-align: right;\">\n",
       "      <th></th>\n",
       "      <th>customer_id</th>\n",
       "      <th>begin_date</th>\n",
       "      <th>end_date</th>\n",
       "      <th>contract_type</th>\n",
       "      <th>paperless_billing</th>\n",
       "      <th>payment_method</th>\n",
       "      <th>monthly_charges</th>\n",
       "      <th>total_charges</th>\n",
       "      <th>gender</th>\n",
       "      <th>senior_citizen</th>\n",
       "      <th>partner</th>\n",
       "      <th>dependents</th>\n",
       "      <th>internet_service</th>\n",
       "      <th>online_security</th>\n",
       "      <th>online_backup</th>\n",
       "      <th>device_protection</th>\n",
       "      <th>tech_support</th>\n",
       "      <th>streaming_tv</th>\n",
       "      <th>streaming_movies</th>\n",
       "      <th>multiple_lines</th>\n",
       "    </tr>\n",
       "  </thead>\n",
       "  <tbody>\n",
       "    <tr>\n",
       "      <td>0</td>\n",
       "      <td>7590-VHVEG</td>\n",
       "      <td>2020-01-01</td>\n",
       "      <td>0</td>\n",
       "      <td>Month-to-month</td>\n",
       "      <td>1</td>\n",
       "      <td>Electronic check</td>\n",
       "      <td>29.85</td>\n",
       "      <td>29.85</td>\n",
       "      <td>Female</td>\n",
       "      <td>0</td>\n",
       "      <td>1</td>\n",
       "      <td>0</td>\n",
       "      <td>DSL</td>\n",
       "      <td>0</td>\n",
       "      <td>1</td>\n",
       "      <td>0</td>\n",
       "      <td>0</td>\n",
       "      <td>0</td>\n",
       "      <td>0</td>\n",
       "      <td>NaN</td>\n",
       "    </tr>\n",
       "    <tr>\n",
       "      <td>1</td>\n",
       "      <td>5575-GNVDE</td>\n",
       "      <td>2017-04-01</td>\n",
       "      <td>0</td>\n",
       "      <td>One year</td>\n",
       "      <td>0</td>\n",
       "      <td>Mailed check</td>\n",
       "      <td>56.95</td>\n",
       "      <td>1889.5</td>\n",
       "      <td>Male</td>\n",
       "      <td>0</td>\n",
       "      <td>0</td>\n",
       "      <td>0</td>\n",
       "      <td>DSL</td>\n",
       "      <td>1</td>\n",
       "      <td>0</td>\n",
       "      <td>1</td>\n",
       "      <td>0</td>\n",
       "      <td>0</td>\n",
       "      <td>0</td>\n",
       "      <td>0</td>\n",
       "    </tr>\n",
       "    <tr>\n",
       "      <td>2</td>\n",
       "      <td>3668-QPYBK</td>\n",
       "      <td>2019-10-01</td>\n",
       "      <td>2019-12-01 00:00:00</td>\n",
       "      <td>Month-to-month</td>\n",
       "      <td>1</td>\n",
       "      <td>Mailed check</td>\n",
       "      <td>53.85</td>\n",
       "      <td>108.15</td>\n",
       "      <td>Male</td>\n",
       "      <td>0</td>\n",
       "      <td>0</td>\n",
       "      <td>0</td>\n",
       "      <td>DSL</td>\n",
       "      <td>1</td>\n",
       "      <td>1</td>\n",
       "      <td>0</td>\n",
       "      <td>0</td>\n",
       "      <td>0</td>\n",
       "      <td>0</td>\n",
       "      <td>0</td>\n",
       "    </tr>\n",
       "    <tr>\n",
       "      <td>3</td>\n",
       "      <td>7795-CFOCW</td>\n",
       "      <td>2016-05-01</td>\n",
       "      <td>0</td>\n",
       "      <td>One year</td>\n",
       "      <td>0</td>\n",
       "      <td>Bank transfer (automatic)</td>\n",
       "      <td>42.30</td>\n",
       "      <td>1840.75</td>\n",
       "      <td>Male</td>\n",
       "      <td>0</td>\n",
       "      <td>0</td>\n",
       "      <td>0</td>\n",
       "      <td>DSL</td>\n",
       "      <td>1</td>\n",
       "      <td>0</td>\n",
       "      <td>1</td>\n",
       "      <td>1</td>\n",
       "      <td>0</td>\n",
       "      <td>0</td>\n",
       "      <td>NaN</td>\n",
       "    </tr>\n",
       "    <tr>\n",
       "      <td>4</td>\n",
       "      <td>9237-HQITU</td>\n",
       "      <td>2019-09-01</td>\n",
       "      <td>2019-11-01 00:00:00</td>\n",
       "      <td>Month-to-month</td>\n",
       "      <td>1</td>\n",
       "      <td>Electronic check</td>\n",
       "      <td>70.70</td>\n",
       "      <td>151.65</td>\n",
       "      <td>Female</td>\n",
       "      <td>0</td>\n",
       "      <td>0</td>\n",
       "      <td>0</td>\n",
       "      <td>Fiber optic</td>\n",
       "      <td>0</td>\n",
       "      <td>0</td>\n",
       "      <td>0</td>\n",
       "      <td>0</td>\n",
       "      <td>0</td>\n",
       "      <td>0</td>\n",
       "      <td>0</td>\n",
       "    </tr>\n",
       "  </tbody>\n",
       "</table>\n",
       "</div>"
      ],
      "text/plain": [
       "  customer_id  begin_date             end_date   contract_type  \\\n",
       "0  7590-VHVEG  2020-01-01  0                    Month-to-month   \n",
       "1  5575-GNVDE  2017-04-01  0                    One year         \n",
       "2  3668-QPYBK  2019-10-01  2019-12-01 00:00:00  Month-to-month   \n",
       "3  7795-CFOCW  2016-05-01  0                    One year         \n",
       "4  9237-HQITU  2019-09-01  2019-11-01 00:00:00  Month-to-month   \n",
       "\n",
       "   paperless_billing             payment_method  monthly_charges  \\\n",
       "0  1                  Electronic check           29.85             \n",
       "1  0                  Mailed check               56.95             \n",
       "2  1                  Mailed check               53.85             \n",
       "3  0                  Bank transfer (automatic)  42.30             \n",
       "4  1                  Electronic check           70.70             \n",
       "\n",
       "  total_charges  gender  senior_citizen  partner  dependents internet_service  \\\n",
       "0  29.85         Female  0               1        0           DSL               \n",
       "1  1889.5        Male    0               0        0           DSL               \n",
       "2  108.15        Male    0               0        0           DSL               \n",
       "3  1840.75       Male    0               0        0           DSL               \n",
       "4  151.65        Female  0               0        0           Fiber optic       \n",
       "\n",
       "  online_security online_backup device_protection tech_support streaming_tv  \\\n",
       "0  0               1             0                 0            0             \n",
       "1  1               0             1                 0            0             \n",
       "2  1               1             0                 0            0             \n",
       "3  1               0             1                 1            0             \n",
       "4  0               0             0                 0            0             \n",
       "\n",
       "  streaming_movies multiple_lines  \n",
       "0  0                NaN            \n",
       "1  0                0              \n",
       "2  0                0              \n",
       "3  0                NaN            \n",
       "4  0                0              "
      ]
     },
     "execution_count": 9,
     "metadata": {
     },
     "output_type": "execute_result"
    }
   ],
   "source": [
    "transform(df)\n",
    "df.head()"
   ]
  },
  {
   "cell_type": "markdown",
   "metadata": {
    "collapsed": false
   },
   "source": [
    "Замечательно, теперь разберемся со стобцами begin_data, end_data и total_charges.\n",
    "  \n",
    "Поскольку у нас данные до 1 февраля 2020 года, то 0 в end_date можно заполнить этой датой. В дальнейшем это понадобится для разметки целевого признака - ушел клиент или нет."
   ]
  },
  {
   "cell_type": "code",
   "execution_count": 10,
   "metadata": {
    "collapsed": false
   },
   "outputs": [
    {
     "name": "stdout",
     "output_type": "stream",
     "text": [
      "<class 'pandas.core.frame.DataFrame'>\n",
      "Int64Index: 7043 entries, 0 to 7042\n",
      "Data columns (total 20 columns):\n",
      "customer_id          7043 non-null object\n",
      "begin_date           7043 non-null datetime64[ns]\n",
      "end_date             7043 non-null datetime64[ns]\n",
      "contract_type        7043 non-null object\n",
      "paperless_billing    7043 non-null int64\n",
      "payment_method       7043 non-null object\n",
      "monthly_charges      7043 non-null float64\n",
      "total_charges        7043 non-null object\n",
      "gender               7043 non-null object\n",
      "senior_citizen       7043 non-null int64\n",
      "partner              7043 non-null int64\n",
      "dependents           7043 non-null int64\n",
      "internet_service     5517 non-null object\n",
      "online_security      5517 non-null object\n",
      "online_backup        5517 non-null object\n",
      "device_protection    5517 non-null object\n",
      "tech_support         5517 non-null object\n",
      "streaming_tv         5517 non-null object\n",
      "streaming_movies     5517 non-null object\n",
      "multiple_lines       6361 non-null object\n",
      "dtypes: datetime64[ns](2), float64(1), int64(4), object(13)\n",
      "memory usage: 1.1+ MB\n"
     ]
    }
   ],
   "source": [
    "df.loc[(df['end_date'] == 0), 'end_date'] = '2020-02-01'\n",
    "df['end_date']=pd.to_datetime(df['end_date'], format='%Y.%m.%d')\n",
    "df['begin_date']=pd.to_datetime(df['begin_date'], format='%Y.%m.%d')\n",
    "df.info()"
   ]
  },
  {
   "cell_type": "code",
   "execution_count": 11,
   "metadata": {
    "collapsed": false
   },
   "outputs": [
   ],
   "source": [
    "df.insert(df.columns.get_loc('end_date') + 1, column='month', value='')"
   ]
  },
  {
   "cell_type": "code",
   "execution_count": 12,
   "metadata": {
    "collapsed": false
   },
   "outputs": [
    {
     "data": {
      "text/html": [
       "<div>\n",
       "<style scoped>\n",
       "    .dataframe tbody tr th:only-of-type {\n",
       "        vertical-align: middle;\n",
       "    }\n",
       "\n",
       "    .dataframe tbody tr th {\n",
       "        vertical-align: top;\n",
       "    }\n",
       "\n",
       "    .dataframe thead th {\n",
       "        text-align: right;\n",
       "    }\n",
       "</style>\n",
       "<table border=\"1\" class=\"dataframe\">\n",
       "  <thead>\n",
       "    <tr style=\"text-align: right;\">\n",
       "      <th></th>\n",
       "      <th>customer_id</th>\n",
       "      <th>begin_date</th>\n",
       "      <th>end_date</th>\n",
       "      <th>month</th>\n",
       "      <th>contract_type</th>\n",
       "      <th>paperless_billing</th>\n",
       "      <th>payment_method</th>\n",
       "      <th>monthly_charges</th>\n",
       "      <th>total_charges</th>\n",
       "      <th>gender</th>\n",
       "      <th>...</th>\n",
       "      <th>partner</th>\n",
       "      <th>dependents</th>\n",
       "      <th>internet_service</th>\n",
       "      <th>online_security</th>\n",
       "      <th>online_backup</th>\n",
       "      <th>device_protection</th>\n",
       "      <th>tech_support</th>\n",
       "      <th>streaming_tv</th>\n",
       "      <th>streaming_movies</th>\n",
       "      <th>multiple_lines</th>\n",
       "    </tr>\n",
       "  </thead>\n",
       "  <tbody>\n",
       "    <tr>\n",
       "      <td>0</td>\n",
       "      <td>7590-VHVEG</td>\n",
       "      <td>2020-01-01</td>\n",
       "      <td>2020-02-01</td>\n",
       "      <td>1</td>\n",
       "      <td>Month-to-month</td>\n",
       "      <td>1</td>\n",
       "      <td>Electronic check</td>\n",
       "      <td>29.85</td>\n",
       "      <td>29.85</td>\n",
       "      <td>Female</td>\n",
       "      <td>...</td>\n",
       "      <td>1</td>\n",
       "      <td>0</td>\n",
       "      <td>DSL</td>\n",
       "      <td>0</td>\n",
       "      <td>1</td>\n",
       "      <td>0</td>\n",
       "      <td>0</td>\n",
       "      <td>0</td>\n",
       "      <td>0</td>\n",
       "      <td>NaN</td>\n",
       "    </tr>\n",
       "    <tr>\n",
       "      <td>1</td>\n",
       "      <td>5575-GNVDE</td>\n",
       "      <td>2017-04-01</td>\n",
       "      <td>2020-02-01</td>\n",
       "      <td>34</td>\n",
       "      <td>One year</td>\n",
       "      <td>0</td>\n",
       "      <td>Mailed check</td>\n",
       "      <td>56.95</td>\n",
       "      <td>1889.5</td>\n",
       "      <td>Male</td>\n",
       "      <td>...</td>\n",
       "      <td>0</td>\n",
       "      <td>0</td>\n",
       "      <td>DSL</td>\n",
       "      <td>1</td>\n",
       "      <td>0</td>\n",
       "      <td>1</td>\n",
       "      <td>0</td>\n",
       "      <td>0</td>\n",
       "      <td>0</td>\n",
       "      <td>0</td>\n",
       "    </tr>\n",
       "    <tr>\n",
       "      <td>2</td>\n",
       "      <td>3668-QPYBK</td>\n",
       "      <td>2019-10-01</td>\n",
       "      <td>2019-12-01</td>\n",
       "      <td>2</td>\n",
       "      <td>Month-to-month</td>\n",
       "      <td>1</td>\n",
       "      <td>Mailed check</td>\n",
       "      <td>53.85</td>\n",
       "      <td>108.15</td>\n",
       "      <td>Male</td>\n",
       "      <td>...</td>\n",
       "      <td>0</td>\n",
       "      <td>0</td>\n",
       "      <td>DSL</td>\n",
       "      <td>1</td>\n",
       "      <td>1</td>\n",
       "      <td>0</td>\n",
       "      <td>0</td>\n",
       "      <td>0</td>\n",
       "      <td>0</td>\n",
       "      <td>0</td>\n",
       "    </tr>\n",
       "    <tr>\n",
       "      <td>3</td>\n",
       "      <td>7795-CFOCW</td>\n",
       "      <td>2016-05-01</td>\n",
       "      <td>2020-02-01</td>\n",
       "      <td>45</td>\n",
       "      <td>One year</td>\n",
       "      <td>0</td>\n",
       "      <td>Bank transfer (automatic)</td>\n",
       "      <td>42.30</td>\n",
       "      <td>1840.75</td>\n",
       "      <td>Male</td>\n",
       "      <td>...</td>\n",
       "      <td>0</td>\n",
       "      <td>0</td>\n",
       "      <td>DSL</td>\n",
       "      <td>1</td>\n",
       "      <td>0</td>\n",
       "      <td>1</td>\n",
       "      <td>1</td>\n",
       "      <td>0</td>\n",
       "      <td>0</td>\n",
       "      <td>NaN</td>\n",
       "    </tr>\n",
       "    <tr>\n",
       "      <td>4</td>\n",
       "      <td>9237-HQITU</td>\n",
       "      <td>2019-09-01</td>\n",
       "      <td>2019-11-01</td>\n",
       "      <td>2</td>\n",
       "      <td>Month-to-month</td>\n",
       "      <td>1</td>\n",
       "      <td>Electronic check</td>\n",
       "      <td>70.70</td>\n",
       "      <td>151.65</td>\n",
       "      <td>Female</td>\n",
       "      <td>...</td>\n",
       "      <td>0</td>\n",
       "      <td>0</td>\n",
       "      <td>Fiber optic</td>\n",
       "      <td>0</td>\n",
       "      <td>0</td>\n",
       "      <td>0</td>\n",
       "      <td>0</td>\n",
       "      <td>0</td>\n",
       "      <td>0</td>\n",
       "      <td>0</td>\n",
       "    </tr>\n",
       "  </tbody>\n",
       "</table>\n",
       "<p>5 rows × 21 columns</p>\n",
       "</div>"
      ],
      "text/plain": [
       "  customer_id begin_date   end_date  month   contract_type  paperless_billing  \\\n",
       "0  7590-VHVEG 2020-01-01 2020-02-01  1      Month-to-month  1                   \n",
       "1  5575-GNVDE 2017-04-01 2020-02-01  34     One year        0                   \n",
       "2  3668-QPYBK 2019-10-01 2019-12-01  2      Month-to-month  1                   \n",
       "3  7795-CFOCW 2016-05-01 2020-02-01  45     One year        0                   \n",
       "4  9237-HQITU 2019-09-01 2019-11-01  2      Month-to-month  1                   \n",
       "\n",
       "              payment_method  monthly_charges total_charges  gender  ...  \\\n",
       "0  Electronic check           29.85            29.85         Female  ...   \n",
       "1  Mailed check               56.95            1889.5        Male    ...   \n",
       "2  Mailed check               53.85            108.15        Male    ...   \n",
       "3  Bank transfer (automatic)  42.30            1840.75       Male    ...   \n",
       "4  Electronic check           70.70            151.65        Female  ...   \n",
       "\n",
       "   partner  dependents  internet_service online_security online_backup  \\\n",
       "0  1        0           DSL               0               1              \n",
       "1  0        0           DSL               1               0              \n",
       "2  0        0           DSL               1               1              \n",
       "3  0        0           DSL               1               0              \n",
       "4  0        0           Fiber optic       0               0              \n",
       "\n",
       "  device_protection tech_support streaming_tv streaming_movies multiple_lines  \n",
       "0  0                 0            0            0                NaN            \n",
       "1  1                 0            0            0                0              \n",
       "2  0                 0            0            0                0              \n",
       "3  1                 1            0            0                NaN            \n",
       "4  0                 0            0            0                0              \n",
       "\n",
       "[5 rows x 21 columns]"
      ]
     },
     "execution_count": 12,
     "metadata": {
     },
     "output_type": "execute_result"
    }
   ],
   "source": [
    "df['month'] = ((df['end_date'] - df['begin_date'])/np.timedelta64(1, 'M')).astype('int')\n",
    "df.head()"
   ]
  },
  {
   "cell_type": "code",
   "execution_count": 13,
   "metadata": {
    "collapsed": false
   },
   "outputs": [
   ],
   "source": [
    "df['total_charges'] = pd.to_numeric(df['total_charges'], errors='coerce')"
   ]
  },
  {
   "cell_type": "code",
   "execution_count": 14,
   "metadata": {
    "collapsed": false
   },
   "outputs": [
    {
     "data": {
      "text/plain": [
       "customer_id          0   \n",
       "begin_date           0   \n",
       "end_date             0   \n",
       "month                0   \n",
       "contract_type        0   \n",
       "paperless_billing    0   \n",
       "payment_method       0   \n",
       "monthly_charges      0   \n",
       "total_charges        11  \n",
       "gender               0   \n",
       "senior_citizen       0   \n",
       "partner              0   \n",
       "dependents           0   \n",
       "internet_service     1526\n",
       "online_security      1526\n",
       "online_backup        1526\n",
       "device_protection    1526\n",
       "tech_support         1526\n",
       "streaming_tv         1526\n",
       "streaming_movies     1526\n",
       "multiple_lines       682 \n",
       "dtype: int64"
      ]
     },
     "execution_count": 14,
     "metadata": {
     },
     "output_type": "execute_result"
    }
   ],
   "source": [
    "df.isna().sum()"
   ]
  },
  {
   "cell_type": "code",
   "execution_count": 15,
   "metadata": {
    "collapsed": false
   },
   "outputs": [
    {
     "data": {
      "text/html": [
       "<div>\n",
       "<style scoped>\n",
       "    .dataframe tbody tr th:only-of-type {\n",
       "        vertical-align: middle;\n",
       "    }\n",
       "\n",
       "    .dataframe tbody tr th {\n",
       "        vertical-align: top;\n",
       "    }\n",
       "\n",
       "    .dataframe thead th {\n",
       "        text-align: right;\n",
       "    }\n",
       "</style>\n",
       "<table border=\"1\" class=\"dataframe\">\n",
       "  <thead>\n",
       "    <tr style=\"text-align: right;\">\n",
       "      <th></th>\n",
       "      <th>customer_id</th>\n",
       "      <th>begin_date</th>\n",
       "      <th>end_date</th>\n",
       "      <th>month</th>\n",
       "      <th>contract_type</th>\n",
       "      <th>paperless_billing</th>\n",
       "      <th>payment_method</th>\n",
       "      <th>monthly_charges</th>\n",
       "      <th>total_charges</th>\n",
       "      <th>gender</th>\n",
       "      <th>...</th>\n",
       "      <th>partner</th>\n",
       "      <th>dependents</th>\n",
       "      <th>internet_service</th>\n",
       "      <th>online_security</th>\n",
       "      <th>online_backup</th>\n",
       "      <th>device_protection</th>\n",
       "      <th>tech_support</th>\n",
       "      <th>streaming_tv</th>\n",
       "      <th>streaming_movies</th>\n",
       "      <th>multiple_lines</th>\n",
       "    </tr>\n",
       "  </thead>\n",
       "  <tbody>\n",
       "    <tr>\n",
       "      <td>488</td>\n",
       "      <td>4472-LVYGI</td>\n",
       "      <td>2020-02-01</td>\n",
       "      <td>2020-02-01</td>\n",
       "      <td>0</td>\n",
       "      <td>Two year</td>\n",
       "      <td>1</td>\n",
       "      <td>Bank transfer (automatic)</td>\n",
       "      <td>52.55</td>\n",
       "      <td>NaN</td>\n",
       "      <td>Female</td>\n",
       "      <td>...</td>\n",
       "      <td>1</td>\n",
       "      <td>1</td>\n",
       "      <td>DSL</td>\n",
       "      <td>1</td>\n",
       "      <td>0</td>\n",
       "      <td>1</td>\n",
       "      <td>1</td>\n",
       "      <td>1</td>\n",
       "      <td>0</td>\n",
       "      <td>NaN</td>\n",
       "    </tr>\n",
       "    <tr>\n",
       "      <td>753</td>\n",
       "      <td>3115-CZMZD</td>\n",
       "      <td>2020-02-01</td>\n",
       "      <td>2020-02-01</td>\n",
       "      <td>0</td>\n",
       "      <td>Two year</td>\n",
       "      <td>0</td>\n",
       "      <td>Mailed check</td>\n",
       "      <td>20.25</td>\n",
       "      <td>NaN</td>\n",
       "      <td>Male</td>\n",
       "      <td>...</td>\n",
       "      <td>0</td>\n",
       "      <td>1</td>\n",
       "      <td>NaN</td>\n",
       "      <td>NaN</td>\n",
       "      <td>NaN</td>\n",
       "      <td>NaN</td>\n",
       "      <td>NaN</td>\n",
       "      <td>NaN</td>\n",
       "      <td>NaN</td>\n",
       "      <td>0</td>\n",
       "    </tr>\n",
       "    <tr>\n",
       "      <td>936</td>\n",
       "      <td>5709-LVOEQ</td>\n",
       "      <td>2020-02-01</td>\n",
       "      <td>2020-02-01</td>\n",
       "      <td>0</td>\n",
       "      <td>Two year</td>\n",
       "      <td>0</td>\n",
       "      <td>Mailed check</td>\n",
       "      <td>80.85</td>\n",
       "      <td>NaN</td>\n",
       "      <td>Female</td>\n",
       "      <td>...</td>\n",
       "      <td>1</td>\n",
       "      <td>1</td>\n",
       "      <td>DSL</td>\n",
       "      <td>1</td>\n",
       "      <td>1</td>\n",
       "      <td>1</td>\n",
       "      <td>0</td>\n",
       "      <td>1</td>\n",
       "      <td>1</td>\n",
       "      <td>0</td>\n",
       "    </tr>\n",
       "    <tr>\n",
       "      <td>1082</td>\n",
       "      <td>4367-NUYAO</td>\n",
       "      <td>2020-02-01</td>\n",
       "      <td>2020-02-01</td>\n",
       "      <td>0</td>\n",
       "      <td>Two year</td>\n",
       "      <td>0</td>\n",
       "      <td>Mailed check</td>\n",
       "      <td>25.75</td>\n",
       "      <td>NaN</td>\n",
       "      <td>Male</td>\n",
       "      <td>...</td>\n",
       "      <td>1</td>\n",
       "      <td>1</td>\n",
       "      <td>NaN</td>\n",
       "      <td>NaN</td>\n",
       "      <td>NaN</td>\n",
       "      <td>NaN</td>\n",
       "      <td>NaN</td>\n",
       "      <td>NaN</td>\n",
       "      <td>NaN</td>\n",
       "      <td>1</td>\n",
       "    </tr>\n",
       "    <tr>\n",
       "      <td>1340</td>\n",
       "      <td>1371-DWPAZ</td>\n",
       "      <td>2020-02-01</td>\n",
       "      <td>2020-02-01</td>\n",
       "      <td>0</td>\n",
       "      <td>Two year</td>\n",
       "      <td>0</td>\n",
       "      <td>Credit card (automatic)</td>\n",
       "      <td>56.05</td>\n",
       "      <td>NaN</td>\n",
       "      <td>Female</td>\n",
       "      <td>...</td>\n",
       "      <td>1</td>\n",
       "      <td>1</td>\n",
       "      <td>DSL</td>\n",
       "      <td>1</td>\n",
       "      <td>1</td>\n",
       "      <td>1</td>\n",
       "      <td>1</td>\n",
       "      <td>1</td>\n",
       "      <td>0</td>\n",
       "      <td>NaN</td>\n",
       "    </tr>\n",
       "    <tr>\n",
       "      <td>3331</td>\n",
       "      <td>7644-OMVMY</td>\n",
       "      <td>2020-02-01</td>\n",
       "      <td>2020-02-01</td>\n",
       "      <td>0</td>\n",
       "      <td>Two year</td>\n",
       "      <td>0</td>\n",
       "      <td>Mailed check</td>\n",
       "      <td>19.85</td>\n",
       "      <td>NaN</td>\n",
       "      <td>Male</td>\n",
       "      <td>...</td>\n",
       "      <td>1</td>\n",
       "      <td>1</td>\n",
       "      <td>NaN</td>\n",
       "      <td>NaN</td>\n",
       "      <td>NaN</td>\n",
       "      <td>NaN</td>\n",
       "      <td>NaN</td>\n",
       "      <td>NaN</td>\n",
       "      <td>NaN</td>\n",
       "      <td>0</td>\n",
       "    </tr>\n",
       "    <tr>\n",
       "      <td>3826</td>\n",
       "      <td>3213-VVOLG</td>\n",
       "      <td>2020-02-01</td>\n",
       "      <td>2020-02-01</td>\n",
       "      <td>0</td>\n",
       "      <td>Two year</td>\n",
       "      <td>0</td>\n",
       "      <td>Mailed check</td>\n",
       "      <td>25.35</td>\n",
       "      <td>NaN</td>\n",
       "      <td>Male</td>\n",
       "      <td>...</td>\n",
       "      <td>1</td>\n",
       "      <td>1</td>\n",
       "      <td>NaN</td>\n",
       "      <td>NaN</td>\n",
       "      <td>NaN</td>\n",
       "      <td>NaN</td>\n",
       "      <td>NaN</td>\n",
       "      <td>NaN</td>\n",
       "      <td>NaN</td>\n",
       "      <td>1</td>\n",
       "    </tr>\n",
       "    <tr>\n",
       "      <td>4380</td>\n",
       "      <td>2520-SGTTA</td>\n",
       "      <td>2020-02-01</td>\n",
       "      <td>2020-02-01</td>\n",
       "      <td>0</td>\n",
       "      <td>Two year</td>\n",
       "      <td>0</td>\n",
       "      <td>Mailed check</td>\n",
       "      <td>20.00</td>\n",
       "      <td>NaN</td>\n",
       "      <td>Female</td>\n",
       "      <td>...</td>\n",
       "      <td>1</td>\n",
       "      <td>1</td>\n",
       "      <td>NaN</td>\n",
       "      <td>NaN</td>\n",
       "      <td>NaN</td>\n",
       "      <td>NaN</td>\n",
       "      <td>NaN</td>\n",
       "      <td>NaN</td>\n",
       "      <td>NaN</td>\n",
       "      <td>0</td>\n",
       "    </tr>\n",
       "    <tr>\n",
       "      <td>5218</td>\n",
       "      <td>2923-ARZLG</td>\n",
       "      <td>2020-02-01</td>\n",
       "      <td>2020-02-01</td>\n",
       "      <td>0</td>\n",
       "      <td>One year</td>\n",
       "      <td>1</td>\n",
       "      <td>Mailed check</td>\n",
       "      <td>19.70</td>\n",
       "      <td>NaN</td>\n",
       "      <td>Male</td>\n",
       "      <td>...</td>\n",
       "      <td>1</td>\n",
       "      <td>1</td>\n",
       "      <td>NaN</td>\n",
       "      <td>NaN</td>\n",
       "      <td>NaN</td>\n",
       "      <td>NaN</td>\n",
       "      <td>NaN</td>\n",
       "      <td>NaN</td>\n",
       "      <td>NaN</td>\n",
       "      <td>0</td>\n",
       "    </tr>\n",
       "    <tr>\n",
       "      <td>6670</td>\n",
       "      <td>4075-WKNIU</td>\n",
       "      <td>2020-02-01</td>\n",
       "      <td>2020-02-01</td>\n",
       "      <td>0</td>\n",
       "      <td>Two year</td>\n",
       "      <td>0</td>\n",
       "      <td>Mailed check</td>\n",
       "      <td>73.35</td>\n",
       "      <td>NaN</td>\n",
       "      <td>Female</td>\n",
       "      <td>...</td>\n",
       "      <td>1</td>\n",
       "      <td>1</td>\n",
       "      <td>DSL</td>\n",
       "      <td>0</td>\n",
       "      <td>1</td>\n",
       "      <td>1</td>\n",
       "      <td>1</td>\n",
       "      <td>1</td>\n",
       "      <td>0</td>\n",
       "      <td>1</td>\n",
       "    </tr>\n",
       "    <tr>\n",
       "      <td>6754</td>\n",
       "      <td>2775-SEFEE</td>\n",
       "      <td>2020-02-01</td>\n",
       "      <td>2020-02-01</td>\n",
       "      <td>0</td>\n",
       "      <td>Two year</td>\n",
       "      <td>1</td>\n",
       "      <td>Bank transfer (automatic)</td>\n",
       "      <td>61.90</td>\n",
       "      <td>NaN</td>\n",
       "      <td>Male</td>\n",
       "      <td>...</td>\n",
       "      <td>0</td>\n",
       "      <td>1</td>\n",
       "      <td>DSL</td>\n",
       "      <td>1</td>\n",
       "      <td>1</td>\n",
       "      <td>0</td>\n",
       "      <td>1</td>\n",
       "      <td>0</td>\n",
       "      <td>0</td>\n",
       "      <td>1</td>\n",
       "    </tr>\n",
       "  </tbody>\n",
       "</table>\n",
       "<p>11 rows × 21 columns</p>\n",
       "</div>"
      ],
      "text/plain": [
       "     customer_id begin_date   end_date  month contract_type  \\\n",
       "488   4472-LVYGI 2020-02-01 2020-02-01  0      Two year       \n",
       "753   3115-CZMZD 2020-02-01 2020-02-01  0      Two year       \n",
       "936   5709-LVOEQ 2020-02-01 2020-02-01  0      Two year       \n",
       "1082  4367-NUYAO 2020-02-01 2020-02-01  0      Two year       \n",
       "1340  1371-DWPAZ 2020-02-01 2020-02-01  0      Two year       \n",
       "3331  7644-OMVMY 2020-02-01 2020-02-01  0      Two year       \n",
       "3826  3213-VVOLG 2020-02-01 2020-02-01  0      Two year       \n",
       "4380  2520-SGTTA 2020-02-01 2020-02-01  0      Two year       \n",
       "5218  2923-ARZLG 2020-02-01 2020-02-01  0      One year       \n",
       "6670  4075-WKNIU 2020-02-01 2020-02-01  0      Two year       \n",
       "6754  2775-SEFEE 2020-02-01 2020-02-01  0      Two year       \n",
       "\n",
       "      paperless_billing             payment_method  monthly_charges  \\\n",
       "488   1                  Bank transfer (automatic)  52.55             \n",
       "753   0                  Mailed check               20.25             \n",
       "936   0                  Mailed check               80.85             \n",
       "1082  0                  Mailed check               25.75             \n",
       "1340  0                  Credit card (automatic)    56.05             \n",
       "3331  0                  Mailed check               19.85             \n",
       "3826  0                  Mailed check               25.35             \n",
       "4380  0                  Mailed check               20.00             \n",
       "5218  1                  Mailed check               19.70             \n",
       "6670  0                  Mailed check               73.35             \n",
       "6754  1                  Bank transfer (automatic)  61.90             \n",
       "\n",
       "      total_charges  gender  ...  partner  dependents  internet_service  \\\n",
       "488  NaN             Female  ...  1        1           DSL                \n",
       "753  NaN             Male    ...  0        1           NaN                \n",
       "936  NaN             Female  ...  1        1           DSL                \n",
       "1082 NaN             Male    ...  1        1           NaN                \n",
       "1340 NaN             Female  ...  1        1           DSL                \n",
       "3331 NaN             Male    ...  1        1           NaN                \n",
       "3826 NaN             Male    ...  1        1           NaN                \n",
       "4380 NaN             Female  ...  1        1           NaN                \n",
       "5218 NaN             Male    ...  1        1           NaN                \n",
       "6670 NaN             Female  ...  1        1           DSL                \n",
       "6754 NaN             Male    ...  0        1           DSL                \n",
       "\n",
       "     online_security online_backup device_protection tech_support  \\\n",
       "488   1               0             1                 1             \n",
       "753   NaN             NaN           NaN               NaN           \n",
       "936   1               1             1                 0             \n",
       "1082  NaN             NaN           NaN               NaN           \n",
       "1340  1               1             1                 1             \n",
       "3331  NaN             NaN           NaN               NaN           \n",
       "3826  NaN             NaN           NaN               NaN           \n",
       "4380  NaN             NaN           NaN               NaN           \n",
       "5218  NaN             NaN           NaN               NaN           \n",
       "6670  0               1             1                 1             \n",
       "6754  1               1             0                 1             \n",
       "\n",
       "     streaming_tv streaming_movies multiple_lines  \n",
       "488   1            0                NaN            \n",
       "753   NaN          NaN              0              \n",
       "936   1            1                0              \n",
       "1082  NaN          NaN              1              \n",
       "1340  1            0                NaN            \n",
       "3331  NaN          NaN              0              \n",
       "3826  NaN          NaN              1              \n",
       "4380  NaN          NaN              0              \n",
       "5218  NaN          NaN              0              \n",
       "6670  1            0                1              \n",
       "6754  0            0                1              \n",
       "\n",
       "[11 rows x 21 columns]"
      ]
     },
     "execution_count": 15,
     "metadata": {
     },
     "output_type": "execute_result"
    }
   ],
   "source": [
    "df.query('total_charges == \"nan\"')"
   ]
  },
  {
   "cell_type": "markdown",
   "metadata": {
    "collapsed": false
   },
   "source": [
    "Все пропуски образовавшиеся после замены типа данных в total_charges можно удалить, т.к эти пользователи добавились 1 февраля 2020 года и внесли плату только за первый месяц. Удаление 11 значений не повлияет на обучение модели в дальнейшем."
   ]
  },
  {
   "cell_type": "code",
   "execution_count": 16,
   "metadata": {
    "collapsed": false
   },
   "outputs": [
   ],
   "source": [
    "df.dropna(subset=['total_charges'], inplace=True)"
   ]
  },
  {
   "cell_type": "code",
   "execution_count": 17,
   "metadata": {
    "collapsed": false
   },
   "outputs": [
    {
     "name": "stdout",
     "output_type": "stream",
     "text": [
      "<class 'pandas.core.frame.DataFrame'>\n",
      "Int64Index: 7032 entries, 0 to 7042\n",
      "Data columns (total 21 columns):\n",
      "customer_id          7032 non-null object\n",
      "begin_date           7032 non-null datetime64[ns]\n",
      "end_date             7032 non-null datetime64[ns]\n",
      "month                7032 non-null int64\n",
      "contract_type        7032 non-null object\n",
      "paperless_billing    7032 non-null int64\n",
      "payment_method       7032 non-null object\n",
      "monthly_charges      7032 non-null float64\n",
      "total_charges        7032 non-null float64\n",
      "gender               7032 non-null object\n",
      "senior_citizen       7032 non-null int64\n",
      "partner              7032 non-null int64\n",
      "dependents           7032 non-null int64\n",
      "internet_service     5512 non-null object\n",
      "online_security      5512 non-null object\n",
      "online_backup        5512 non-null object\n",
      "device_protection    5512 non-null object\n",
      "tech_support         5512 non-null object\n",
      "streaming_tv         5512 non-null object\n",
      "streaming_movies     5512 non-null object\n",
      "multiple_lines       6352 non-null object\n",
      "dtypes: datetime64[ns](2), float64(2), int64(5), object(12)\n",
      "memory usage: 1.2+ MB\n"
     ]
    }
   ],
   "source": [
    "df.info()"
   ]
  },
  {
   "cell_type": "markdown",
   "metadata": {
    "collapsed": false
   },
   "source": [
    "Теперь разберемся с пропусками в столбцах с интернет соединениями."
   ]
  },
  {
   "cell_type": "code",
   "execution_count": 18,
   "metadata": {
    "collapsed": false
   },
   "outputs": [
    {
     "data": {
      "text/plain": [
       "array(['DSL', 'Fiber optic', nan], dtype=object)"
      ]
     },
     "execution_count": 18,
     "metadata": {
     },
     "output_type": "execute_result"
    }
   ],
   "source": [
    "df['internet_service'].unique()"
   ]
  },
  {
   "cell_type": "markdown",
   "metadata": {
    "collapsed": false
   },
   "source": [
    "Пропуски после объединения заполним 'Not connected'."
   ]
  },
  {
   "cell_type": "code",
   "execution_count": 19,
   "metadata": {
    "collapsed": false
   },
   "outputs": [
    {
     "data": {
      "text/plain": [
       "Fiber optic      3096\n",
       "DSL              2416\n",
       "Not connected    1520\n",
       "Name: internet_service, dtype: int64"
      ]
     },
     "execution_count": 19,
     "metadata": {
     },
     "output_type": "execute_result"
    }
   ],
   "source": [
    "df['internet_service'] = df['internet_service'].fillna('Not connected')\n",
    "df['internet_service'].value_counts()"
   ]
  },
  {
   "cell_type": "markdown",
   "metadata": {
    "collapsed": false
   },
   "source": [
    "Пропуски в столбцах с данными об услугах интернет и телефонии заполним 0, т.к эти услуги не предоставляются."
   ]
  },
  {
   "cell_type": "code",
   "execution_count": 20,
   "metadata": {
    "collapsed": false
   },
   "outputs": [
   ],
   "source": [
    "df = df.fillna(0)"
   ]
  },
  {
   "cell_type": "code",
   "execution_count": 21,
   "metadata": {
    "collapsed": false
   },
   "outputs": [
    {
     "name": "stdout",
     "output_type": "stream",
     "text": [
      "<class 'pandas.core.frame.DataFrame'>\n",
      "Int64Index: 7032 entries, 0 to 7042\n",
      "Data columns (total 21 columns):\n",
      "customer_id          7032 non-null object\n",
      "begin_date           7032 non-null datetime64[ns]\n",
      "end_date             7032 non-null datetime64[ns]\n",
      "month                7032 non-null int64\n",
      "contract_type        7032 non-null object\n",
      "paperless_billing    7032 non-null int64\n",
      "payment_method       7032 non-null object\n",
      "monthly_charges      7032 non-null float64\n",
      "total_charges        7032 non-null float64\n",
      "gender               7032 non-null object\n",
      "senior_citizen       7032 non-null int64\n",
      "partner              7032 non-null int64\n",
      "dependents           7032 non-null int64\n",
      "internet_service     7032 non-null object\n",
      "online_security      7032 non-null int64\n",
      "online_backup        7032 non-null int64\n",
      "device_protection    7032 non-null int64\n",
      "tech_support         7032 non-null int64\n",
      "streaming_tv         7032 non-null int64\n",
      "streaming_movies     7032 non-null int64\n",
      "multiple_lines       7032 non-null int64\n",
      "dtypes: datetime64[ns](2), float64(2), int64(12), object(5)\n",
      "memory usage: 1.2+ MB\n"
     ]
    }
   ],
   "source": [
    "df.info()"
   ]
  },
  {
   "cell_type": "markdown",
   "metadata": {
    "collapsed": false
   },
   "source": [
    "Проверим дубликаты"
   ]
  },
  {
   "cell_type": "code",
   "execution_count": 22,
   "metadata": {
    "collapsed": false
   },
   "outputs": [
    {
     "data": {
      "text/plain": [
       "0"
      ]
     },
     "execution_count": 22,
     "metadata": {
     },
     "output_type": "execute_result"
    }
   ],
   "source": [
    "df.duplicated().sum()"
   ]
  },
  {
   "cell_type": "markdown",
   "metadata": {
    "collapsed": false
   },
   "source": [
    "Добавим целевой признак target. В зависимости от того расторг клиент договор или нет, будем проставлять значения 1 и 0. Если значение в end_date не равно 2020.02.01 значит клиент ушёл ему ставим 1, в противоположном случае 0.  "
   ]
  },
  {
   "cell_type": "code",
   "execution_count": 23,
   "metadata": {
    "collapsed": false
   },
   "outputs": [
   ],
   "source": [
    "df['target'] = np.zeros(shape=len(df)).astype('int')"
   ]
  },
  {
   "cell_type": "code",
   "execution_count": 24,
   "metadata": {
    "collapsed": false
   },
   "outputs": [
    {
     "data": {
      "text/html": [
       "<div>\n",
       "<style scoped>\n",
       "    .dataframe tbody tr th:only-of-type {\n",
       "        vertical-align: middle;\n",
       "    }\n",
       "\n",
       "    .dataframe tbody tr th {\n",
       "        vertical-align: top;\n",
       "    }\n",
       "\n",
       "    .dataframe thead th {\n",
       "        text-align: right;\n",
       "    }\n",
       "</style>\n",
       "<table border=\"1\" class=\"dataframe\">\n",
       "  <thead>\n",
       "    <tr style=\"text-align: right;\">\n",
       "      <th></th>\n",
       "      <th>customer_id</th>\n",
       "      <th>begin_date</th>\n",
       "      <th>end_date</th>\n",
       "      <th>month</th>\n",
       "      <th>contract_type</th>\n",
       "      <th>paperless_billing</th>\n",
       "      <th>payment_method</th>\n",
       "      <th>monthly_charges</th>\n",
       "      <th>total_charges</th>\n",
       "      <th>gender</th>\n",
       "      <th>...</th>\n",
       "      <th>dependents</th>\n",
       "      <th>internet_service</th>\n",
       "      <th>online_security</th>\n",
       "      <th>online_backup</th>\n",
       "      <th>device_protection</th>\n",
       "      <th>tech_support</th>\n",
       "      <th>streaming_tv</th>\n",
       "      <th>streaming_movies</th>\n",
       "      <th>multiple_lines</th>\n",
       "      <th>target</th>\n",
       "    </tr>\n",
       "  </thead>\n",
       "  <tbody>\n",
       "    <tr>\n",
       "      <td>0</td>\n",
       "      <td>7590-VHVEG</td>\n",
       "      <td>2020-01-01</td>\n",
       "      <td>2020-02-01</td>\n",
       "      <td>1</td>\n",
       "      <td>Month-to-month</td>\n",
       "      <td>1</td>\n",
       "      <td>Electronic check</td>\n",
       "      <td>29.85</td>\n",
       "      <td>29.85</td>\n",
       "      <td>Female</td>\n",
       "      <td>...</td>\n",
       "      <td>0</td>\n",
       "      <td>DSL</td>\n",
       "      <td>0</td>\n",
       "      <td>1</td>\n",
       "      <td>0</td>\n",
       "      <td>0</td>\n",
       "      <td>0</td>\n",
       "      <td>0</td>\n",
       "      <td>0</td>\n",
       "      <td>0</td>\n",
       "    </tr>\n",
       "    <tr>\n",
       "      <td>1</td>\n",
       "      <td>5575-GNVDE</td>\n",
       "      <td>2017-04-01</td>\n",
       "      <td>2020-02-01</td>\n",
       "      <td>34</td>\n",
       "      <td>One year</td>\n",
       "      <td>0</td>\n",
       "      <td>Mailed check</td>\n",
       "      <td>56.95</td>\n",
       "      <td>1889.50</td>\n",
       "      <td>Male</td>\n",
       "      <td>...</td>\n",
       "      <td>0</td>\n",
       "      <td>DSL</td>\n",
       "      <td>1</td>\n",
       "      <td>0</td>\n",
       "      <td>1</td>\n",
       "      <td>0</td>\n",
       "      <td>0</td>\n",
       "      <td>0</td>\n",
       "      <td>0</td>\n",
       "      <td>0</td>\n",
       "    </tr>\n",
       "    <tr>\n",
       "      <td>2</td>\n",
       "      <td>3668-QPYBK</td>\n",
       "      <td>2019-10-01</td>\n",
       "      <td>2019-12-01</td>\n",
       "      <td>2</td>\n",
       "      <td>Month-to-month</td>\n",
       "      <td>1</td>\n",
       "      <td>Mailed check</td>\n",
       "      <td>53.85</td>\n",
       "      <td>108.15</td>\n",
       "      <td>Male</td>\n",
       "      <td>...</td>\n",
       "      <td>0</td>\n",
       "      <td>DSL</td>\n",
       "      <td>1</td>\n",
       "      <td>1</td>\n",
       "      <td>0</td>\n",
       "      <td>0</td>\n",
       "      <td>0</td>\n",
       "      <td>0</td>\n",
       "      <td>0</td>\n",
       "      <td>1</td>\n",
       "    </tr>\n",
       "    <tr>\n",
       "      <td>3</td>\n",
       "      <td>7795-CFOCW</td>\n",
       "      <td>2016-05-01</td>\n",
       "      <td>2020-02-01</td>\n",
       "      <td>45</td>\n",
       "      <td>One year</td>\n",
       "      <td>0</td>\n",
       "      <td>Bank transfer (automatic)</td>\n",
       "      <td>42.30</td>\n",
       "      <td>1840.75</td>\n",
       "      <td>Male</td>\n",
       "      <td>...</td>\n",
       "      <td>0</td>\n",
       "      <td>DSL</td>\n",
       "      <td>1</td>\n",
       "      <td>0</td>\n",
       "      <td>1</td>\n",
       "      <td>1</td>\n",
       "      <td>0</td>\n",
       "      <td>0</td>\n",
       "      <td>0</td>\n",
       "      <td>0</td>\n",
       "    </tr>\n",
       "    <tr>\n",
       "      <td>4</td>\n",
       "      <td>9237-HQITU</td>\n",
       "      <td>2019-09-01</td>\n",
       "      <td>2019-11-01</td>\n",
       "      <td>2</td>\n",
       "      <td>Month-to-month</td>\n",
       "      <td>1</td>\n",
       "      <td>Electronic check</td>\n",
       "      <td>70.70</td>\n",
       "      <td>151.65</td>\n",
       "      <td>Female</td>\n",
       "      <td>...</td>\n",
       "      <td>0</td>\n",
       "      <td>Fiber optic</td>\n",
       "      <td>0</td>\n",
       "      <td>0</td>\n",
       "      <td>0</td>\n",
       "      <td>0</td>\n",
       "      <td>0</td>\n",
       "      <td>0</td>\n",
       "      <td>0</td>\n",
       "      <td>1</td>\n",
       "    </tr>\n",
       "  </tbody>\n",
       "</table>\n",
       "<p>5 rows × 22 columns</p>\n",
       "</div>"
      ],
      "text/plain": [
       "  customer_id begin_date   end_date  month   contract_type  paperless_billing  \\\n",
       "0  7590-VHVEG 2020-01-01 2020-02-01  1      Month-to-month  1                   \n",
       "1  5575-GNVDE 2017-04-01 2020-02-01  34     One year        0                   \n",
       "2  3668-QPYBK 2019-10-01 2019-12-01  2      Month-to-month  1                   \n",
       "3  7795-CFOCW 2016-05-01 2020-02-01  45     One year        0                   \n",
       "4  9237-HQITU 2019-09-01 2019-11-01  2      Month-to-month  1                   \n",
       "\n",
       "              payment_method  monthly_charges  total_charges  gender  ...  \\\n",
       "0  Electronic check           29.85            29.85          Female  ...   \n",
       "1  Mailed check               56.95            1889.50        Male    ...   \n",
       "2  Mailed check               53.85            108.15         Male    ...   \n",
       "3  Bank transfer (automatic)  42.30            1840.75        Male    ...   \n",
       "4  Electronic check           70.70            151.65         Female  ...   \n",
       "\n",
       "   dependents  internet_service  online_security online_backup  \\\n",
       "0  0           DSL               0                1              \n",
       "1  0           DSL               1                0              \n",
       "2  0           DSL               1                1              \n",
       "3  0           DSL               1                0              \n",
       "4  0           Fiber optic       0                0              \n",
       "\n",
       "   device_protection  tech_support  streaming_tv  streaming_movies  \\\n",
       "0  0                  0             0             0                  \n",
       "1  1                  0             0             0                  \n",
       "2  0                  0             0             0                  \n",
       "3  1                  1             0             0                  \n",
       "4  0                  0             0             0                  \n",
       "\n",
       "   multiple_lines  target  \n",
       "0  0               0       \n",
       "1  0               0       \n",
       "2  0               1       \n",
       "3  0               0       \n",
       "4  0               1       \n",
       "\n",
       "[5 rows x 22 columns]"
      ]
     },
     "execution_count": 24,
     "metadata": {
     },
     "output_type": "execute_result"
    }
   ],
   "source": [
    "df.loc[(df['end_date']!= '2020-02-01'), 'target'] = 1\n",
    "df.head()"
   ]
  },
  {
   "cell_type": "markdown",
   "metadata": {
    "collapsed": false
   },
   "source": [
    "**Вывод**  \n",
    "Подготовили данные для дальнейшего анализа. Удалили пропуски, привели данные к соответствующим типам, добавили целевой признак. Можно переходить к исследовательскому анализу."
   ]
  },
  {
   "cell_type": "markdown",
   "metadata": {
    "collapsed": false
   },
   "source": [
    "**1.3 Исследовательский анализ данных.**"
   ]
  },
  {
   "cell_type": "markdown",
   "metadata": {
    "collapsed": false
   },
   "source": [
    "Посмотрим сколько людей ушли"
   ]
  },
  {
   "cell_type": "code",
   "execution_count": 25,
   "metadata": {
    "collapsed": false
   },
   "outputs": [
    {
     "data": {
      "image/png": "[encoded data removed]",
      "text/plain": [
       "<Figure size 576x396 with 1 Axes>"
      ]
     },
     "execution_count": 25,
     "metadata": {
     },
     "output_type": "execute_result"
    }
   ],
   "source": [
    "df['target'].hist()\n",
    "plt.title('Количество ушедших и оставшихся клиентов')\n",
    "plt.show()"
   ]
  },
  {
   "cell_type": "code",
   "execution_count": 26,
   "metadata": {
    "collapsed": false
   },
   "outputs": [
    {
     "name": "stdout",
     "output_type": "stream",
     "text": [
      "0    73.421502\n",
      "1    26.578498\n",
      "Name: target, dtype: float64\n"
     ]
    }
   ],
   "source": [
    "print(df['target'].value_counts()/len(df)*100)"
   ]
  },
  {
   "cell_type": "markdown",
   "metadata": {
    "collapsed": false
   },
   "source": [
    "26.5% пользователей расторгли договоры и ушли к другому оператору. Также есть дисбаланс классов 4 к 1.  \n",
    "  \n",
    "Рассмотрим подробнее какие пользователи ушли."
   ]
  },
  {
   "cell_type": "code",
   "execution_count": 27,
   "metadata": {
    "collapsed": false
   },
   "outputs": [
   ],
   "source": [
    "out = df[df[\"target\"] == 1].sort_values(\"target\")\n",
    "out_contract = out.groupby('contract_type')['target'].count()"
   ]
  },
  {
   "cell_type": "code",
   "execution_count": 28,
   "metadata": {
    "collapsed": false
   },
   "outputs": [
    {
     "data": {
      "image/png": "[encoded data removed]",
      "text/plain": [
       "<Figure size 576x396 with 1 Axes>"
      ]
     },
     "execution_count": 28,
     "metadata": {
     },
     "output_type": "execute_result"
    }
   ],
   "source": [
    "out_contract.plot(kind='bar')\n",
    "plt.title('Количество ушедших пользователей в зависимости от типа контракта')\n",
    "plt.xlabel('Тип контракта')\n",
    "plt.ylabel('Количество')\n",
    "plt.show()"
   ]
  },
  {
   "cell_type": "markdown",
   "metadata": {
    "collapsed": false
   },
   "source": [
    "Больше всего пользователей ушли с оплатой по месяцам"
   ]
  },
  {
   "cell_type": "code",
   "execution_count": 29,
   "metadata": {
    "collapsed": false
   },
   "outputs": [
    {
     "data": {
      "image/png": "[encoded data removed]",
      "text/plain": [
       "<Figure size 576x396 with 1 Axes>"
      ]
     },
     "execution_count": 29,
     "metadata": {
     },
     "output_type": "execute_result"
    }
   ],
   "source": [
    "out_internet_service = out.groupby('internet_service')['target'].count()\n",
    "out_internet_service.plot(kind='bar')\n",
    "plt.title('Количество ушедших пользователей в зависимости от типа подключения')\n",
    "plt.xlabel('Тип подключения')\n",
    "plt.ylabel('Количество')\n",
    "plt.show()"
   ]
  },
  {
   "cell_type": "markdown",
   "metadata": {
    "collapsed": false
   },
   "source": [
    "Больше всего пользователей ушли с оптоволокна"
   ]
  },
  {
   "cell_type": "markdown",
   "metadata": {
    "collapsed": false
   },
   "source": [
    "Посмотрим сколько платили в месяц ушедшие пользователи"
   ]
  },
  {
   "cell_type": "code",
   "execution_count": 30,
   "metadata": {
    "collapsed": false
   },
   "outputs": [
    {
     "data": {
      "image/png": "[encoded data removed]",
      "text/plain": [
       "<Figure size 576x396 with 1 Axes>"
      ]
     },
     "execution_count": 30,
     "metadata": {
     },
     "output_type": "execute_result"
    }
   ],
   "source": [
    "out['monthly_charges'].plot(kind='hist', bins=20)\n",
    "plt.title('Распределение пользователей по месячной плате')\n",
    "plt.xlabel('Размер платы')\n",
    "plt.ylabel('Количество пользователей')\n",
    "plt.show()"
   ]
  },
  {
   "cell_type": "markdown",
   "metadata": {
    "collapsed": false
   },
   "source": [
    "Большая часть ушедших пользователей платила больше 70 у.е. в месяц. Также есть пики при цене от 40 до 60 и 20 у.е."
   ]
  },
  {
   "cell_type": "markdown",
   "metadata": {
    "collapsed": false
   },
   "source": [
    "Посмотрим какими услугами пользовались ушедшие клиенты."
   ]
  },
  {
   "cell_type": "code",
   "execution_count": 31,
   "metadata": {
    "collapsed": false
   },
   "outputs": [
    {
     "data": {
      "text/html": [
       "<div>\n",
       "<style scoped>\n",
       "    .dataframe tbody tr th:only-of-type {\n",
       "        vertical-align: middle;\n",
       "    }\n",
       "\n",
       "    .dataframe tbody tr th {\n",
       "        vertical-align: top;\n",
       "    }\n",
       "\n",
       "    .dataframe thead th {\n",
       "        text-align: right;\n",
       "    }\n",
       "</style>\n",
       "<table border=\"1\" class=\"dataframe\">\n",
       "  <thead>\n",
       "    <tr style=\"text-align: right;\">\n",
       "      <th></th>\n",
       "      <th>online_security</th>\n",
       "      <th>online_backup</th>\n",
       "      <th>device_protection</th>\n",
       "      <th>tech_support</th>\n",
       "      <th>streaming_tv</th>\n",
       "      <th>streaming_movies</th>\n",
       "      <th>multiple_lines</th>\n",
       "    </tr>\n",
       "    <tr>\n",
       "      <th>internet_service</th>\n",
       "      <th></th>\n",
       "      <th></th>\n",
       "      <th></th>\n",
       "      <th></th>\n",
       "      <th></th>\n",
       "      <th></th>\n",
       "      <th></th>\n",
       "    </tr>\n",
       "  </thead>\n",
       "  <tbody>\n",
       "    <tr>\n",
       "      <td>DSL</td>\n",
       "      <td>112</td>\n",
       "      <td>116</td>\n",
       "      <td>117</td>\n",
       "      <td>114</td>\n",
       "      <td>127</td>\n",
       "      <td>137</td>\n",
       "      <td>73</td>\n",
       "    </tr>\n",
       "    <tr>\n",
       "      <td>Fiber optic</td>\n",
       "      <td>183</td>\n",
       "      <td>407</td>\n",
       "      <td>428</td>\n",
       "      <td>196</td>\n",
       "      <td>687</td>\n",
       "      <td>681</td>\n",
       "      <td>767</td>\n",
       "    </tr>\n",
       "    <tr>\n",
       "      <td>Not connected</td>\n",
       "      <td>0</td>\n",
       "      <td>0</td>\n",
       "      <td>0</td>\n",
       "      <td>0</td>\n",
       "      <td>0</td>\n",
       "      <td>0</td>\n",
       "      <td>10</td>\n",
       "    </tr>\n",
       "  </tbody>\n",
       "</table>\n",
       "</div>"
      ],
      "text/plain": [
       "                  online_security  online_backup  device_protection  \\\n",
       "internet_service                                                      \n",
       "DSL               112              116            117                 \n",
       "Fiber optic       183              407            428                 \n",
       "Not connected     0                0              0                   \n",
       "\n",
       "                  tech_support  streaming_tv  streaming_movies  multiple_lines  \n",
       "internet_service                                                                \n",
       "DSL               114           127           137               73              \n",
       "Fiber optic       196           687           681               767             \n",
       "Not connected     0             0             0                 10              "
      ]
     },
     "execution_count": 31,
     "metadata": {
     },
     "output_type": "execute_result"
    }
   ],
   "source": [
    "out_service = out.groupby('internet_service')['online_security', 'online_backup','device_protection', 'tech_support',\n",
    "                                              'streaming_tv', 'streaming_movies', 'multiple_lines'].sum()\n",
    "out_service"
   ]
  },
  {
   "cell_type": "code",
   "execution_count": 32,
   "metadata": {
    "collapsed": false
   },
   "outputs": [
    {
     "data": {
      "image/png": "[encoded data removed]",
      "text/plain": [
       "<Figure size 576x396 with 1 Axes>"
      ]
     },
     "execution_count": 32,
     "metadata": {
     },
     "output_type": "execute_result"
    }
   ],
   "source": [
    "out_service.plot(kind='bar')\n",
    "plt.title('Распределение ушедших пользователей по услугам')\n",
    "plt.xlabel('Тип соединения')\n",
    "plt.ylabel('Количество пользователей')\n",
    "plt.show()"
   ]
  },
  {
   "cell_type": "markdown",
   "metadata": {
    "collapsed": false
   },
   "source": [
    "По оттоку клиентов лидирует оптоволокно с подключенеем многоканальной линии для телефона, кабельное тв и каталог фильмов(может каналы не нравятся пользователям и католог фильмов не очень). Далее идут антивирус и облочное хранилище данных. "
   ]
  },
  {
   "cell_type": "markdown",
   "metadata": {
    "collapsed": false
   },
   "source": [
    "**Вывод**  \n",
    "  \n",
    "1) Провели предобработку данных, заполнили пропуски, разметили целевой признак.  \n",
    "2) Провели исследовательский анализ данных:  \n",
    "- на 1 февраля 2020 года ушло 26.5% пользователей;  \n",
    "- большая часть пользователей, которые ушли платила каждый месяц в размере больше 70 у.е. и пользовалась услугами интернет через оптоволоконное соединение;\n",
    "- По подключенным услугам у отключившихся пользователей лидирует многоканальная линия, кабельное тв и каталог фильмов, затем антивирус и облочное хранилище.  \n",
    "  \n",
    "Возможно заказчику стоит дополнительно изучить вопрос абонентской платы и ассортимент каналов и фильмов."
   ]
  },
  {
   "cell_type": "markdown",
   "metadata": {
    "collapsed": false
   },
   "source": [
    "### План дальнейшей работы  \n",
    "1) Подготовить данные для обучения модели.\n",
    "Обработать категориальные переменные, масштабировать признаки, т.к есть дисбаланс классов, разбить данные на выборки.  \n",
    "2) Обучить модели.  \n",
    "Так как предстоит решить задачу классификации, можно использовать стандартные модели логистическую регрессию, дерево и случайный лес. Подобрать гиперпараметры моделей и выбрать наилучшую.  \n",
    "3) Проверить модель на тестовой выборке.  \n",
    "4) Проверить модель на адекватность.  \n",
    "Стандартным классификатором DummyClassifier из библиотеки Skelarn.  \n",
    "\n"
   ]
  },
  {
   "cell_type": "markdown",
   "metadata": {
    "collapsed": false
   },
   "source": [
    "### Подготовка данных для обучения модели."
   ]
  },
  {
   "cell_type": "markdown",
   "metadata": {
    "collapsed": false
   },
   "source": [
    "Посмотрим на корреляцию количественных признаков."
   ]
  },
  {
   "cell_type": "code",
   "execution_count": 33,
   "metadata": {
    "collapsed": false
   },
   "outputs": [
    {
     "data": {
      "image/png": "[encoded data removed]",
      "text/plain": [
       "<Figure size 576x396 with 2 Axes>"
      ]
     },
     "execution_count": 33,
     "metadata": {
     },
     "output_type": "execute_result"
    }
   ],
   "source": [
    "df_corr = df.loc[:,['month', 'monthly_charges', 'total_charges']]\n",
    "corrMatrix = df_corr.corr()\n",
    "sn.heatmap(corrMatrix, annot=True)\n",
    "plt.show()"
   ]
  },
  {
   "cell_type": "markdown",
   "metadata": {
    "collapsed": false
   },
   "source": [
    "Сильная корреляция между временем жизни и общей выручкой."
   ]
  },
  {
   "cell_type": "markdown",
   "metadata": {
    "collapsed": false
   },
   "source": [
    "Удалим лишние признаки customer_id, begin_date, end_date, total_charges."
   ]
  },
  {
   "cell_type": "code",
   "execution_count": 34,
   "metadata": {
    "collapsed": false
   },
   "outputs": [
   ],
   "source": [
    "df=df.drop(['customer_id', 'begin_date', 'end_date', 'total_charges'], axis=1)"
   ]
  },
  {
   "cell_type": "code",
   "execution_count": 35,
   "metadata": {
    "collapsed": false
   },
   "outputs": [
    {
     "data": {
      "text/html": [
       "<div>\n",
       "<style scoped>\n",
       "    .dataframe tbody tr th:only-of-type {\n",
       "        vertical-align: middle;\n",
       "    }\n",
       "\n",
       "    .dataframe tbody tr th {\n",
       "        vertical-align: top;\n",
       "    }\n",
       "\n",
       "    .dataframe thead th {\n",
       "        text-align: right;\n",
       "    }\n",
       "</style>\n",
       "<table border=\"1\" class=\"dataframe\">\n",
       "  <thead>\n",
       "    <tr style=\"text-align: right;\">\n",
       "      <th></th>\n",
       "      <th>month</th>\n",
       "      <th>contract_type</th>\n",
       "      <th>paperless_billing</th>\n",
       "      <th>payment_method</th>\n",
       "      <th>monthly_charges</th>\n",
       "      <th>gender</th>\n",
       "      <th>senior_citizen</th>\n",
       "      <th>partner</th>\n",
       "      <th>dependents</th>\n",
       "      <th>internet_service</th>\n",
       "      <th>online_security</th>\n",
       "      <th>online_backup</th>\n",
       "      <th>device_protection</th>\n",
       "      <th>tech_support</th>\n",
       "      <th>streaming_tv</th>\n",
       "      <th>streaming_movies</th>\n",
       "      <th>multiple_lines</th>\n",
       "      <th>target</th>\n",
       "    </tr>\n",
       "  </thead>\n",
       "  <tbody>\n",
       "    <tr>\n",
       "      <td>0</td>\n",
       "      <td>1</td>\n",
       "      <td>Month-to-month</td>\n",
       "      <td>1</td>\n",
       "      <td>Electronic check</td>\n",
       "      <td>29.85</td>\n",
       "      <td>Female</td>\n",
       "      <td>0</td>\n",
       "      <td>1</td>\n",
       "      <td>0</td>\n",
       "      <td>DSL</td>\n",
       "      <td>0</td>\n",
       "      <td>1</td>\n",
       "      <td>0</td>\n",
       "      <td>0</td>\n",
       "      <td>0</td>\n",
       "      <td>0</td>\n",
       "      <td>0</td>\n",
       "      <td>0</td>\n",
       "    </tr>\n",
       "    <tr>\n",
       "      <td>1</td>\n",
       "      <td>34</td>\n",
       "      <td>One year</td>\n",
       "      <td>0</td>\n",
       "      <td>Mailed check</td>\n",
       "      <td>56.95</td>\n",
       "      <td>Male</td>\n",
       "      <td>0</td>\n",
       "      <td>0</td>\n",
       "      <td>0</td>\n",
       "      <td>DSL</td>\n",
       "      <td>1</td>\n",
       "      <td>0</td>\n",
       "      <td>1</td>\n",
       "      <td>0</td>\n",
       "      <td>0</td>\n",
       "      <td>0</td>\n",
       "      <td>0</td>\n",
       "      <td>0</td>\n",
       "    </tr>\n",
       "    <tr>\n",
       "      <td>2</td>\n",
       "      <td>2</td>\n",
       "      <td>Month-to-month</td>\n",
       "      <td>1</td>\n",
       "      <td>Mailed check</td>\n",
       "      <td>53.85</td>\n",
       "      <td>Male</td>\n",
       "      <td>0</td>\n",
       "      <td>0</td>\n",
       "      <td>0</td>\n",
       "      <td>DSL</td>\n",
       "      <td>1</td>\n",
       "      <td>1</td>\n",
       "      <td>0</td>\n",
       "      <td>0</td>\n",
       "      <td>0</td>\n",
       "      <td>0</td>\n",
       "      <td>0</td>\n",
       "      <td>1</td>\n",
       "    </tr>\n",
       "    <tr>\n",
       "      <td>3</td>\n",
       "      <td>45</td>\n",
       "      <td>One year</td>\n",
       "      <td>0</td>\n",
       "      <td>Bank transfer (automatic)</td>\n",
       "      <td>42.30</td>\n",
       "      <td>Male</td>\n",
       "      <td>0</td>\n",
       "      <td>0</td>\n",
       "      <td>0</td>\n",
       "      <td>DSL</td>\n",
       "      <td>1</td>\n",
       "      <td>0</td>\n",
       "      <td>1</td>\n",
       "      <td>1</td>\n",
       "      <td>0</td>\n",
       "      <td>0</td>\n",
       "      <td>0</td>\n",
       "      <td>0</td>\n",
       "    </tr>\n",
       "    <tr>\n",
       "      <td>4</td>\n",
       "      <td>2</td>\n",
       "      <td>Month-to-month</td>\n",
       "      <td>1</td>\n",
       "      <td>Electronic check</td>\n",
       "      <td>70.70</td>\n",
       "      <td>Female</td>\n",
       "      <td>0</td>\n",
       "      <td>0</td>\n",
       "      <td>0</td>\n",
       "      <td>Fiber optic</td>\n",
       "      <td>0</td>\n",
       "      <td>0</td>\n",
       "      <td>0</td>\n",
       "      <td>0</td>\n",
       "      <td>0</td>\n",
       "      <td>0</td>\n",
       "      <td>0</td>\n",
       "      <td>1</td>\n",
       "    </tr>\n",
       "  </tbody>\n",
       "</table>\n",
       "</div>"
      ],
      "text/plain": [
       "   month   contract_type  paperless_billing             payment_method  \\\n",
       "0  1      Month-to-month  1                  Electronic check            \n",
       "1  34     One year        0                  Mailed check                \n",
       "2  2      Month-to-month  1                  Mailed check                \n",
       "3  45     One year        0                  Bank transfer (automatic)   \n",
       "4  2      Month-to-month  1                  Electronic check            \n",
       "\n",
       "   monthly_charges  gender  senior_citizen  partner  dependents  \\\n",
       "0  29.85            Female  0               1        0            \n",
       "1  56.95            Male    0               0        0            \n",
       "2  53.85            Male    0               0        0            \n",
       "3  42.30            Male    0               0        0            \n",
       "4  70.70            Female  0               0        0            \n",
       "\n",
       "  internet_service  online_security  online_backup  device_protection  \\\n",
       "0  DSL              0                1              0                   \n",
       "1  DSL              1                0              1                   \n",
       "2  DSL              1                1              0                   \n",
       "3  DSL              1                0              1                   \n",
       "4  Fiber optic      0                0              0                   \n",
       "\n",
       "   tech_support  streaming_tv  streaming_movies  multiple_lines  target  \n",
       "0  0             0             0                 0               0       \n",
       "1  0             0             0                 0               0       \n",
       "2  0             0             0                 0               1       \n",
       "3  1             0             0                 0               0       \n",
       "4  0             0             0                 0               1       "
      ]
     },
     "execution_count": 35,
     "metadata": {
     },
     "output_type": "execute_result"
    }
   ],
   "source": [
    "df.head()"
   ]
  },
  {
   "cell_type": "markdown",
   "metadata": {
    "collapsed": false
   },
   "source": [
    "Разделим данные на фичи и таргет."
   ]
  },
  {
   "cell_type": "code",
   "execution_count": 36,
   "metadata": {
    "collapsed": false
   },
   "outputs": [
   ],
   "source": [
    "features = df.drop('target', axis=1)\n",
    "target = df['target']"
   ]
  },
  {
   "cell_type": "code",
   "execution_count": 37,
   "metadata": {
    "collapsed": false
   },
   "outputs": [
   ],
   "source": [
    "def upsample(features, target, repeat):\n",
    "    \n",
    "    '''\n",
    "    \n",
    "    Функция для увеличение выборки (upsampling).\n",
    "    Как аргументы ф-я принимает признаки (features), целевой признак (target) и к-во повторений (repeat).\n",
    "    \n",
    "    Ф-я работает по следующему принципу:\n",
    "        - разделяет обучающую выборку на отрицательные и положительные объекты\n",
    "        - копирует несколько раз положительные объекты\n",
    "        - создает новую обучающую выборку с учётом полученных данных\n",
    "        - перемешивает данные\n",
    "        - возвращает преобразованные выборки.    \n",
    "    \n",
    "    '''\n",
    "    \n",
    "    features_zeros = features[target == 0]\n",
    "    features_ones = features[target == 1]\n",
    "    target_zeros = target[target == 0]\n",
    "    target_ones = target[target == 1]\n",
    "\n",
    "    features_upsampled = pd.concat([features_zeros] + [features_ones] * repeat)\n",
    "    target_upsampled = pd.concat([target_zeros] + [target_ones] * repeat)\n",
    "    \n",
    "    features_upsampled, target_upsampled = shuffle(features_upsampled, target_upsampled, random_state=123)\n",
    "    \n",
    "    return features_upsampled, target_upsampled\n",
    "\n"
   ]
  },
  {
   "cell_type": "markdown",
   "metadata": {
    "collapsed": false
   },
   "source": [
    "Разделим данные на обучающую и тестовую выборки."
   ]
  },
  {
   "cell_type": "code",
   "execution_count": 38,
   "metadata": {
    "collapsed": false
   },
   "outputs": [
   ],
   "source": [
    "feature_train, features_test, target_train, target_test = train_test_split(features, \n",
    "                                                                           target, \n",
    "                                                                           test_size=0.2, \n",
    "                                                                           random_state=123)"
   ]
  },
  {
   "cell_type": "code",
   "execution_count": 39,
   "metadata": {
    "collapsed": false
   },
   "outputs": [
    {
     "name": "stdout",
     "output_type": "stream",
     "text": [
      "(5625, 17) (1407, 17) (5625,) (1407,)\n"
     ]
    }
   ],
   "source": [
    "print(feature_train.shape, features_test.shape, target_train.shape, target_test.shape)"
   ]
  },
  {
   "cell_type": "code",
   "execution_count": 40,
   "metadata": {
    "collapsed": false
   },
   "outputs": [
   ],
   "source": [
    "features_upsampled, target_upsampled = upsample(feature_train, target_train, 4)"
   ]
  },
  {
   "cell_type": "code",
   "execution_count": 41,
   "metadata": {
    "collapsed": false
   },
   "outputs": [
    {
     "data": {
      "text/plain": [
       "(9999, 17)"
      ]
     },
     "execution_count": 41,
     "metadata": {
     },
     "output_type": "execute_result"
    }
   ],
   "source": [
    "features_upsampled.shape"
   ]
  },
  {
   "cell_type": "markdown",
   "metadata": {
    "collapsed": false
   },
   "source": [
    "### Обучение модели."
   ]
  },
  {
   "cell_type": "markdown",
   "metadata": {
    "collapsed": false
   },
   "source": [
    "**CatBoost**"
   ]
  },
  {
   "cell_type": "code",
   "execution_count": 42,
   "metadata": {
    "collapsed": false
   },
   "outputs": [
    {
     "data": {
      "text/plain": [
       "Index(['month', 'contract_type', 'paperless_billing', 'payment_method',\n",
       "       'monthly_charges', 'gender', 'senior_citizen', 'partner', 'dependents',\n",
       "       'internet_service', 'online_security', 'online_backup',\n",
       "       'device_protection', 'tech_support', 'streaming_tv', 'streaming_movies',\n",
       "       'multiple_lines'],\n",
       "      dtype='object')"
      ]
     },
     "execution_count": 42,
     "metadata": {
     },
     "output_type": "execute_result"
    }
   ],
   "source": [
    "feature_train.columns"
   ]
  },
  {
   "cell_type": "code",
   "execution_count": 43,
   "metadata": {
    "collapsed": false
   },
   "outputs": [
   ],
   "source": [
    "numeric = ['month', 'monthly_charges']\n",
    "\n",
    "scaler = StandardScaler()\n",
    "scaler.fit(feature_train[numeric])\n",
    "\n",
    "feature_train[numeric] = scaler.transform(feature_train[numeric])\n",
    "features_test[numeric] = scaler.transform(features_test[numeric])"
   ]
  },
  {
   "cell_type": "code",
   "execution_count": 44,
   "metadata": {
    "collapsed": false
   },
   "outputs": [
    {
     "data": {
      "text/html": [
       "<div>\n",
       "<style scoped>\n",
       "    .dataframe tbody tr th:only-of-type {\n",
       "        vertical-align: middle;\n",
       "    }\n",
       "\n",
       "    .dataframe tbody tr th {\n",
       "        vertical-align: top;\n",
       "    }\n",
       "\n",
       "    .dataframe thead th {\n",
       "        text-align: right;\n",
       "    }\n",
       "</style>\n",
       "<table border=\"1\" class=\"dataframe\">\n",
       "  <thead>\n",
       "    <tr style=\"text-align: right;\">\n",
       "      <th></th>\n",
       "      <th>month</th>\n",
       "      <th>contract_type</th>\n",
       "      <th>paperless_billing</th>\n",
       "      <th>payment_method</th>\n",
       "      <th>monthly_charges</th>\n",
       "      <th>gender</th>\n",
       "      <th>senior_citizen</th>\n",
       "      <th>partner</th>\n",
       "      <th>dependents</th>\n",
       "      <th>internet_service</th>\n",
       "      <th>online_security</th>\n",
       "      <th>online_backup</th>\n",
       "      <th>device_protection</th>\n",
       "      <th>tech_support</th>\n",
       "      <th>streaming_tv</th>\n",
       "      <th>streaming_movies</th>\n",
       "      <th>multiple_lines</th>\n",
       "    </tr>\n",
       "  </thead>\n",
       "  <tbody>\n",
       "    <tr>\n",
       "      <td>6989</td>\n",
       "      <td>-0.505106</td>\n",
       "      <td>One year</td>\n",
       "      <td>0</td>\n",
       "      <td>Bank transfer (automatic)</td>\n",
       "      <td>0.363023</td>\n",
       "      <td>Female</td>\n",
       "      <td>0</td>\n",
       "      <td>1</td>\n",
       "      <td>1</td>\n",
       "      <td>DSL</td>\n",
       "      <td>1</td>\n",
       "      <td>0</td>\n",
       "      <td>0</td>\n",
       "      <td>0</td>\n",
       "      <td>1</td>\n",
       "      <td>1</td>\n",
       "      <td>1</td>\n",
       "    </tr>\n",
       "  </tbody>\n",
       "</table>\n",
       "</div>"
      ],
      "text/plain": [
       "         month contract_type  paperless_billing             payment_method  \\\n",
       "6989 -0.505106  One year      0                  Bank transfer (automatic)   \n",
       "\n",
       "      monthly_charges  gender  senior_citizen  partner  dependents  \\\n",
       "6989  0.363023         Female  0               1        1            \n",
       "\n",
       "     internet_service  online_security  online_backup  device_protection  \\\n",
       "6989  DSL              1                0              0                   \n",
       "\n",
       "      tech_support  streaming_tv  streaming_movies  multiple_lines  \n",
       "6989  0             1             1                 1               "
      ]
     },
     "execution_count": 44,
     "metadata": {
     },
     "output_type": "execute_result"
    }
   ],
   "source": [
    "feature_train.sample()"
   ]
  },
  {
   "cell_type": "code",
   "execution_count": 45,
   "metadata": {
    "collapsed": false
   },
   "outputs": [
   ],
   "source": [
    "cv = KFold(n_splits=3, shuffle=True, random_state=123)\n",
    "\n",
    "cat_features = ['contract_type', 'payment_method', 'gender', 'internet_service']\n",
    "\n",
    "cbr = CatBoostClassifier(random_seed=123,\n",
    "                        loss_function='Logloss',\n",
    "                        silent=True,\n",
    "                        cat_features=cat_features)\n",
    "\n",
    "params = {\n",
    "    'learning_rate': np.logspace(-3, 0, 5),\n",
    "    'iterations': [80, 90, 100],\n",
    "    'depth': [6,8,10],\n",
    "}\n",
    "\n",
    "grid_cbr = GridSearchCV(cbr,\n",
    "                        params,\n",
    "                        cv=cv,\n",
    "                        n_jobs=-1,\n",
    "                        scoring='roc_auc',\n",
    "                        verbose=False)"
   ]
  },
  {
   "cell_type": "code",
   "execution_count": 46,
   "metadata": {
    "collapsed": false
   },
   "outputs": [
   ],
   "source": [
    "#%%time\n",
    "#grid_cbr.fit(feature_train, target_train)"
   ]
  },
  {
   "cell_type": "code",
   "execution_count": 47,
   "metadata": {
    "collapsed": false
   },
   "outputs": [
   ],
   "source": [
    "#grid_cbr.best_params_"
   ]
  },
  {
   "cell_type": "code",
   "execution_count": 48,
   "metadata": {
    "collapsed": false
   },
   "outputs": [
    {
     "data": {
      "text/plain": [
       "<catboost.core.CatBoostClassifier at 0x7f406388e2d0>"
      ]
     },
     "execution_count": 48,
     "metadata": {
     },
     "output_type": "execute_result"
    }
   ],
   "source": [
    "cbr1 = CatBoostClassifier(random_seed=123,\n",
    "                        loss_function='Logloss',\n",
    "                        depth=10,\n",
    "                        iterations=100,\n",
    "                        learning_rate=0.0316,\n",
    "                        silent=True,\n",
    "                        cat_features=cat_features)\n",
    "cbr1.fit(feature_train, target_train)"
   ]
  },
  {
   "cell_type": "code",
   "execution_count": 49,
   "metadata": {
    "collapsed": false
   },
   "outputs": [
    {
     "name": "stdout",
     "output_type": "stream",
     "text": [
      "roc_auc:  0.7221622270218383\n",
      "accuracy:  0.8291555555555555\n"
     ]
    }
   ],
   "source": [
    "print('roc_auc: ',roc_auc_score(target_train, cbr1.predict(feature_train)))\n",
    "print('accuracy: ',accuracy_score(target_train, cbr1.predict(feature_train)))"
   ]
  },
  {
   "cell_type": "code",
   "execution_count": 50,
   "metadata": {
    "collapsed": false
   },
   "outputs": [
    {
     "data": {
      "image/png": "[encoded data removed]",
      "text/plain": [
       "<Figure size 576x396 with 1 Axes>"
      ]
     },
     "execution_count": 50,
     "metadata": {
     },
     "output_type": "execute_result"
    }
   ],
   "source": [
    "\n",
    "feature_names = feature_train.columns\n",
    "importance = cbr1.get_feature_importance()\n",
    "\n",
    "\n",
    "forest_importances = pd.Series(importance, index=feature_names)\n",
    "\n",
    "fig, ax = plt.subplots()\n",
    "forest_importances.plot.bar(importance, ax=ax)\n",
    "ax.set_title(\"График важности признаков\")\n",
    "ax.set_ylabel(\"Важность признаков\")\n",
    "fig.tight_layout()"
   ]
  },
  {
   "cell_type": "markdown",
   "metadata": {
    "collapsed": false
   },
   "source": [
    "Для кота не так важны признаки с подключенными услугами и возраст пользователя. Попробуем их удалить и обучить заново модель."
   ]
  },
  {
   "cell_type": "code",
   "execution_count": 51,
   "metadata": {
    "collapsed": false
   },
   "outputs": [
   ],
   "source": [
    "feature_train = feature_train.drop(['paperless_billing', 'senior_citizen', 'partner', 'dependents', \n",
    "                                    'online_security', 'online_backup', 'device_protection',\n",
    "                                    'tech_support', 'streaming_tv', 'streaming_movies', 'multiple_lines'], axis=1)\n",
    "\n",
    "features_test = features_test.drop(['paperless_billing', 'senior_citizen', 'partner', 'dependents', \n",
    "                                    'online_security', 'online_backup', 'device_protection',\n",
    "                                    'tech_support', 'streaming_tv', 'streaming_movies', 'multiple_lines'], axis=1)"
   ]
  },
  {
   "cell_type": "code",
   "execution_count": 52,
   "metadata": {
    "collapsed": false
   },
   "outputs": [
    {
     "data": {
      "text/plain": [
       "<catboost.core.CatBoostClassifier at 0x7f406302ce10>"
      ]
     },
     "execution_count": 52,
     "metadata": {
     },
     "output_type": "execute_result"
    }
   ],
   "source": [
    "cbr2 = CatBoostClassifier(random_seed=123,\n",
    "                        loss_function='Logloss',\n",
    "                        depth=10,\n",
    "                        iterations=100,\n",
    "                        learning_rate=0.03,\n",
    "                        silent=True,\n",
    "                        cat_features=cat_features)\n",
    "cbr2.fit(feature_train, target_train)"
   ]
  },
  {
   "cell_type": "code",
   "execution_count": 53,
   "metadata": {
    "collapsed": false
   },
   "outputs": [
    {
     "name": "stdout",
     "output_type": "stream",
     "text": [
      "roc_auc:  0.8523192218696578\n",
      "accuracy:  0.8117333333333333\n"
     ]
    }
   ],
   "source": [
    "print('roc_auc: ',roc_auc_score(target_train, cbr2.predict_proba(feature_train)[:,1]))\n",
    "print('accuracy: ',accuracy_score(target_train, cbr2.predict(feature_train)))"
   ]
  },
  {
   "cell_type": "markdown",
   "metadata": {
    "collapsed": false
   },
   "source": [
    "**LogisticRegression**"
   ]
  },
  {
   "cell_type": "markdown",
   "metadata": {
    "collapsed": false
   },
   "source": [
    "Преобразуем категориальные признаки в колличественные."
   ]
  },
  {
   "cell_type": "code",
   "execution_count": 54,
   "metadata": {
    "collapsed": false
   },
   "outputs": [
    {
     "data": {
      "text/html": [
       "<div>\n",
       "<style scoped>\n",
       "    .dataframe tbody tr th:only-of-type {\n",
       "        vertical-align: middle;\n",
       "    }\n",
       "\n",
       "    .dataframe tbody tr th {\n",
       "        vertical-align: top;\n",
       "    }\n",
       "\n",
       "    .dataframe thead th {\n",
       "        text-align: right;\n",
       "    }\n",
       "</style>\n",
       "<table border=\"1\" class=\"dataframe\">\n",
       "  <thead>\n",
       "    <tr style=\"text-align: right;\">\n",
       "      <th></th>\n",
       "      <th>month</th>\n",
       "      <th>paperless_billing</th>\n",
       "      <th>monthly_charges</th>\n",
       "      <th>senior_citizen</th>\n",
       "      <th>partner</th>\n",
       "      <th>dependents</th>\n",
       "      <th>online_security</th>\n",
       "      <th>online_backup</th>\n",
       "      <th>device_protection</th>\n",
       "      <th>tech_support</th>\n",
       "      <th>...</th>\n",
       "      <th>multiple_lines</th>\n",
       "      <th>target</th>\n",
       "      <th>contract_type_One year</th>\n",
       "      <th>contract_type_Two year</th>\n",
       "      <th>payment_method_Credit card (automatic)</th>\n",
       "      <th>payment_method_Electronic check</th>\n",
       "      <th>payment_method_Mailed check</th>\n",
       "      <th>gender_Male</th>\n",
       "      <th>internet_service_Fiber optic</th>\n",
       "      <th>internet_service_Not connected</th>\n",
       "    </tr>\n",
       "  </thead>\n",
       "  <tbody>\n",
       "    <tr>\n",
       "      <td>0</td>\n",
       "      <td>1</td>\n",
       "      <td>1</td>\n",
       "      <td>29.85</td>\n",
       "      <td>0</td>\n",
       "      <td>1</td>\n",
       "      <td>0</td>\n",
       "      <td>0</td>\n",
       "      <td>1</td>\n",
       "      <td>0</td>\n",
       "      <td>0</td>\n",
       "      <td>...</td>\n",
       "      <td>0</td>\n",
       "      <td>0</td>\n",
       "      <td>0</td>\n",
       "      <td>0</td>\n",
       "      <td>0</td>\n",
       "      <td>1</td>\n",
       "      <td>0</td>\n",
       "      <td>0</td>\n",
       "      <td>0</td>\n",
       "      <td>0</td>\n",
       "    </tr>\n",
       "    <tr>\n",
       "      <td>1</td>\n",
       "      <td>34</td>\n",
       "      <td>0</td>\n",
       "      <td>56.95</td>\n",
       "      <td>0</td>\n",
       "      <td>0</td>\n",
       "      <td>0</td>\n",
       "      <td>1</td>\n",
       "      <td>0</td>\n",
       "      <td>1</td>\n",
       "      <td>0</td>\n",
       "      <td>...</td>\n",
       "      <td>0</td>\n",
       "      <td>0</td>\n",
       "      <td>1</td>\n",
       "      <td>0</td>\n",
       "      <td>0</td>\n",
       "      <td>0</td>\n",
       "      <td>1</td>\n",
       "      <td>1</td>\n",
       "      <td>0</td>\n",
       "      <td>0</td>\n",
       "    </tr>\n",
       "    <tr>\n",
       "      <td>2</td>\n",
       "      <td>2</td>\n",
       "      <td>1</td>\n",
       "      <td>53.85</td>\n",
       "      <td>0</td>\n",
       "      <td>0</td>\n",
       "      <td>0</td>\n",
       "      <td>1</td>\n",
       "      <td>1</td>\n",
       "      <td>0</td>\n",
       "      <td>0</td>\n",
       "      <td>...</td>\n",
       "      <td>0</td>\n",
       "      <td>1</td>\n",
       "      <td>0</td>\n",
       "      <td>0</td>\n",
       "      <td>0</td>\n",
       "      <td>0</td>\n",
       "      <td>1</td>\n",
       "      <td>1</td>\n",
       "      <td>0</td>\n",
       "      <td>0</td>\n",
       "    </tr>\n",
       "    <tr>\n",
       "      <td>3</td>\n",
       "      <td>45</td>\n",
       "      <td>0</td>\n",
       "      <td>42.30</td>\n",
       "      <td>0</td>\n",
       "      <td>0</td>\n",
       "      <td>0</td>\n",
       "      <td>1</td>\n",
       "      <td>0</td>\n",
       "      <td>1</td>\n",
       "      <td>1</td>\n",
       "      <td>...</td>\n",
       "      <td>0</td>\n",
       "      <td>0</td>\n",
       "      <td>1</td>\n",
       "      <td>0</td>\n",
       "      <td>0</td>\n",
       "      <td>0</td>\n",
       "      <td>0</td>\n",
       "      <td>1</td>\n",
       "      <td>0</td>\n",
       "      <td>0</td>\n",
       "    </tr>\n",
       "    <tr>\n",
       "      <td>4</td>\n",
       "      <td>2</td>\n",
       "      <td>1</td>\n",
       "      <td>70.70</td>\n",
       "      <td>0</td>\n",
       "      <td>0</td>\n",
       "      <td>0</td>\n",
       "      <td>0</td>\n",
       "      <td>0</td>\n",
       "      <td>0</td>\n",
       "      <td>0</td>\n",
       "      <td>...</td>\n",
       "      <td>0</td>\n",
       "      <td>1</td>\n",
       "      <td>0</td>\n",
       "      <td>0</td>\n",
       "      <td>0</td>\n",
       "      <td>1</td>\n",
       "      <td>0</td>\n",
       "      <td>0</td>\n",
       "      <td>1</td>\n",
       "      <td>0</td>\n",
       "    </tr>\n",
       "  </tbody>\n",
       "</table>\n",
       "<p>5 rows × 22 columns</p>\n",
       "</div>"
      ],
      "text/plain": [
       "   month  paperless_billing  monthly_charges  senior_citizen  partner  \\\n",
       "0  1      1                  29.85            0               1         \n",
       "1  34     0                  56.95            0               0         \n",
       "2  2      1                  53.85            0               0         \n",
       "3  45     0                  42.30            0               0         \n",
       "4  2      1                  70.70            0               0         \n",
       "\n",
       "   dependents  online_security  online_backup  device_protection  \\\n",
       "0  0           0                1              0                   \n",
       "1  0           1                0              1                   \n",
       "2  0           1                1              0                   \n",
       "3  0           1                0              1                   \n",
       "4  0           0                0              0                   \n",
       "\n",
       "   tech_support  ...  multiple_lines  target  contract_type_One year  \\\n",
       "0  0             ...  0               0       0                        \n",
       "1  0             ...  0               0       1                        \n",
       "2  0             ...  0               1       0                        \n",
       "3  1             ...  0               0       1                        \n",
       "4  0             ...  0               1       0                        \n",
       "\n",
       "   contract_type_Two year  payment_method_Credit card (automatic)  \\\n",
       "0  0                       0                                        \n",
       "1  0                       0                                        \n",
       "2  0                       0                                        \n",
       "3  0                       0                                        \n",
       "4  0                       0                                        \n",
       "\n",
       "   payment_method_Electronic check  payment_method_Mailed check  gender_Male  \\\n",
       "0  1                                0                            0             \n",
       "1  0                                1                            1             \n",
       "2  0                                1                            1             \n",
       "3  0                                0                            1             \n",
       "4  1                                0                            0             \n",
       "\n",
       "   internet_service_Fiber optic  internet_service_Not connected  \n",
       "0  0                             0                               \n",
       "1  0                             0                               \n",
       "2  0                             0                               \n",
       "3  0                             0                               \n",
       "4  1                             0                               \n",
       "\n",
       "[5 rows x 22 columns]"
      ]
     },
     "execution_count": 54,
     "metadata": {
     },
     "output_type": "execute_result"
    }
   ],
   "source": [
    "df_ohe = pd.get_dummies(df, drop_first=True)\n",
    "df_ohe.head()"
   ]
  },
  {
   "cell_type": "markdown",
   "metadata": {
    "collapsed": false
   },
   "source": [
    "Разделим данные на признаки."
   ]
  },
  {
   "cell_type": "code",
   "execution_count": 55,
   "metadata": {
    "collapsed": false
   },
   "outputs": [
   ],
   "source": [
    "features_lr = df_ohe.drop('target', axis=1)\n",
    "target_lr = df_ohe['target']"
   ]
  },
  {
   "cell_type": "code",
   "execution_count": 56,
   "metadata": {
    "collapsed": false
   },
   "outputs": [
   ],
   "source": [
    "features_lr_train, features_lr_test, target_lr_train, target_lr_test = train_test_split(features_lr, \n",
    "                                                                              target_lr,                                                                               \n",
    "                                                                              test_size=0.2, \n",
    "                                                                              random_state=123)"
   ]
  },
  {
   "cell_type": "code",
   "execution_count": 57,
   "metadata": {
    "collapsed": false
   },
   "outputs": [
   ],
   "source": [
    "features_lr_upsampled, target_lr_upsampled = upsample(features_lr_train, target_lr_train, 4)"
   ]
  },
  {
   "cell_type": "code",
   "execution_count": 58,
   "metadata": {
    "collapsed": false
   },
   "outputs": [
    {
     "name": "stdout",
     "output_type": "stream",
     "text": [
      "(9999, 21) (1407, 21)\n"
     ]
    }
   ],
   "source": [
    "print(features_lr_upsampled.shape, features_lr_test.shape)"
   ]
  },
  {
   "cell_type": "markdown",
   "metadata": {
    "collapsed": false
   },
   "source": [
    "Масштабируем признаки."
   ]
  },
  {
   "cell_type": "code",
   "execution_count": 59,
   "metadata": {
    "collapsed": false
   },
   "outputs": [
   ],
   "source": [
    "numeric = ['month', 'monthly_charges']\n",
    "\n",
    "scaler = StandardScaler()\n",
    "scaler.fit(features_lr_train[numeric])\n",
    "\n",
    "features_lr_train[numeric] = scaler.transform(features_lr_train[numeric])\n",
    "features_lr_test[numeric] = scaler.transform(features_lr_test[numeric])"
   ]
  },
  {
   "cell_type": "code",
   "execution_count": 60,
   "metadata": {
    "collapsed": false
   },
   "outputs": [
    {
     "data": {
      "text/html": [
       "<div>\n",
       "<style scoped>\n",
       "    .dataframe tbody tr th:only-of-type {\n",
       "        vertical-align: middle;\n",
       "    }\n",
       "\n",
       "    .dataframe tbody tr th {\n",
       "        vertical-align: top;\n",
       "    }\n",
       "\n",
       "    .dataframe thead th {\n",
       "        text-align: right;\n",
       "    }\n",
       "</style>\n",
       "<table border=\"1\" class=\"dataframe\">\n",
       "  <thead>\n",
       "    <tr style=\"text-align: right;\">\n",
       "      <th></th>\n",
       "      <th>month</th>\n",
       "      <th>paperless_billing</th>\n",
       "      <th>monthly_charges</th>\n",
       "      <th>senior_citizen</th>\n",
       "      <th>partner</th>\n",
       "      <th>dependents</th>\n",
       "      <th>online_security</th>\n",
       "      <th>online_backup</th>\n",
       "      <th>device_protection</th>\n",
       "      <th>tech_support</th>\n",
       "      <th>...</th>\n",
       "      <th>streaming_movies</th>\n",
       "      <th>multiple_lines</th>\n",
       "      <th>contract_type_One year</th>\n",
       "      <th>contract_type_Two year</th>\n",
       "      <th>payment_method_Credit card (automatic)</th>\n",
       "      <th>payment_method_Electronic check</th>\n",
       "      <th>payment_method_Mailed check</th>\n",
       "      <th>gender_Male</th>\n",
       "      <th>internet_service_Fiber optic</th>\n",
       "      <th>internet_service_Not connected</th>\n",
       "    </tr>\n",
       "  </thead>\n",
       "  <tbody>\n",
       "    <tr>\n",
       "      <td>2306</td>\n",
       "      <td>-1.198982</td>\n",
       "      <td>1</td>\n",
       "      <td>0.157989</td>\n",
       "      <td>0</td>\n",
       "      <td>0</td>\n",
       "      <td>0</td>\n",
       "      <td>0</td>\n",
       "      <td>0</td>\n",
       "      <td>0</td>\n",
       "      <td>0</td>\n",
       "      <td>...</td>\n",
       "      <td>0</td>\n",
       "      <td>0</td>\n",
       "      <td>0</td>\n",
       "      <td>0</td>\n",
       "      <td>0</td>\n",
       "      <td>1</td>\n",
       "      <td>0</td>\n",
       "      <td>0</td>\n",
       "      <td>1</td>\n",
       "      <td>0</td>\n",
       "    </tr>\n",
       "  </tbody>\n",
       "</table>\n",
       "<p>1 rows × 21 columns</p>\n",
       "</div>"
      ],
      "text/plain": [
       "         month  paperless_billing  monthly_charges  senior_citizen  partner  \\\n",
       "2306 -1.198982  1                  0.157989         0               0         \n",
       "\n",
       "      dependents  online_security  online_backup  device_protection  \\\n",
       "2306  0           0                0              0                   \n",
       "\n",
       "      tech_support  ...  streaming_movies  multiple_lines  \\\n",
       "2306  0             ...  0                 0                \n",
       "\n",
       "      contract_type_One year  contract_type_Two year  \\\n",
       "2306  0                       0                        \n",
       "\n",
       "      payment_method_Credit card (automatic)  payment_method_Electronic check  \\\n",
       "2306  0                                       1                                 \n",
       "\n",
       "      payment_method_Mailed check  gender_Male  internet_service_Fiber optic  \\\n",
       "2306  0                            0            1                              \n",
       "\n",
       "      internet_service_Not connected  \n",
       "2306  0                               \n",
       "\n",
       "[1 rows x 21 columns]"
      ]
     },
     "execution_count": 60,
     "metadata": {
     },
     "output_type": "execute_result"
    }
   ],
   "source": [
    "features_lr_train.sample()"
   ]
  },
  {
   "cell_type": "code",
   "execution_count": 61,
   "metadata": {
    "collapsed": false
   },
   "outputs": [
    {
     "name": "stdout",
     "output_type": "stream",
     "text": [
      "CPU times: user 19 ms, sys: 3.81 ms, total: 22.9 ms\n",
      "Wall time: 44 ms\n"
     ]
    }
   ],
   "source": [
    "%%time\n",
    "model_lr = LogisticRegression(solver='liblinear', class_weight='balanced', random_state=123)\n",
    "model_lr.fit(features_lr_train, target_lr_train)\n",
    "predictions_lr = model_lr.predict(features_lr_train)"
   ]
  },
  {
   "cell_type": "code",
   "execution_count": 62,
   "metadata": {
    "collapsed": false
   },
   "outputs": [
    {
     "name": "stdout",
     "output_type": "stream",
     "text": [
      "roc_auc:  0.7659194671833661\n",
      "accuracy:  0.7489777777777777\n"
     ]
    }
   ],
   "source": [
    "print('roc_auc: ',roc_auc_score(target_lr_train, predictions_lr))\n",
    "print('accuracy: ',accuracy_score(target_lr_train, predictions_lr))"
   ]
  },
  {
   "cell_type": "markdown",
   "metadata": {
    "collapsed": false
   },
   "source": [
    "**RandomForestClassifier**"
   ]
  },
  {
   "cell_type": "code",
   "execution_count": 63,
   "metadata": {
    "collapsed": false
   },
   "outputs": [
   ],
   "source": [
    "model_rfc = RandomForestClassifier(\n",
    "    random_state=123,\n",
    "    class_weight='balanced',\n",
    "    n_jobs=-1)\n",
    "\n",
    "params = {\n",
    "    'n_estimators': [60,80,100,110,120],\n",
    "    'max_depth': [5,6,7,9,11]\n",
    "}\n",
    "\n",
    "grid_rfc = GridSearchCV(model_rfc,\n",
    "                        params,\n",
    "                        n_jobs=-1,\n",
    "                        scoring='roc_auc',\n",
    "                        verbose=False)"
   ]
  },
  {
   "cell_type": "code",
   "execution_count": 64,
   "metadata": {
    "collapsed": false
   },
   "outputs": [
    {
     "name": "stdout",
     "output_type": "stream",
     "text": [
      "CPU times: user 21.9 s, sys: 0 ns, total: 21.9 s\n",
      "Wall time: 22.1 s\n"
     ]
    },
    {
     "data": {
      "text/plain": [
       "GridSearchCV(cv='warn', error_score='raise-deprecating',\n",
       "             estimator=RandomForestClassifier(bootstrap=True,\n",
       "                                              class_weight='balanced',\n",
       "                                              criterion='gini', max_depth=None,\n",
       "                                              max_features='auto',\n",
       "                                              max_leaf_nodes=None,\n",
       "                                              min_impurity_decrease=0.0,\n",
       "                                              min_impurity_split=None,\n",
       "                                              min_samples_leaf=1,\n",
       "                                              min_samples_split=2,\n",
       "                                              min_weight_fraction_leaf=0.0,\n",
       "                                              n_estimators='warn', n_jobs=-1,\n",
       "                                              oob_score=False, random_state=123,\n",
       "                                              verbose=0, warm_start=False),\n",
       "             iid='warn', n_jobs=-1,\n",
       "             param_grid={'max_depth': [5, 6, 7, 9, 11],\n",
       "                         'n_estimators': [60, 80, 100, 110, 120]},\n",
       "             pre_dispatch='2*n_jobs', refit=True, return_train_score=False,\n",
       "             scoring='roc_auc', verbose=False)"
      ]
     },
     "execution_count": 64,
     "metadata": {
     },
     "output_type": "execute_result"
    }
   ],
   "source": [
    "%%time\n",
    "grid_rfc.fit(features_lr_train, target_lr_train)"
   ]
  },
  {
   "cell_type": "code",
   "execution_count": 65,
   "metadata": {
    "collapsed": false
   },
   "outputs": [
    {
     "data": {
      "text/plain": [
       "{'max_depth': 7, 'n_estimators': 100}"
      ]
     },
     "execution_count": 65,
     "metadata": {
     },
     "output_type": "execute_result"
    }
   ],
   "source": [
    "grid_rfc.best_params_"
   ]
  },
  {
   "cell_type": "code",
   "execution_count": 66,
   "metadata": {
    "collapsed": false
   },
   "outputs": [
    {
     "data": {
      "text/plain": [
       "RandomForestClassifier(bootstrap=True, class_weight='balanced',\n",
       "                       criterion='gini', max_depth=7, max_features='auto',\n",
       "                       max_leaf_nodes=None, min_impurity_decrease=0.0,\n",
       "                       min_impurity_split=None, min_samples_leaf=1,\n",
       "                       min_samples_split=2, min_weight_fraction_leaf=0.0,\n",
       "                       n_estimators=100, n_jobs=-1, oob_score=False,\n",
       "                       random_state=123, verbose=0, warm_start=False)"
      ]
     },
     "execution_count": 66,
     "metadata": {
     },
     "output_type": "execute_result"
    }
   ],
   "source": [
    "model_rfc1 = RandomForestClassifier(\n",
    "    random_state=123,\n",
    "    max_depth=7,\n",
    "    n_estimators=100,\n",
    "    class_weight='balanced',\n",
    "    n_jobs=-1)\n",
    "\n",
    "model_rfc1.fit(features_lr_train, target_lr_train)"
   ]
  },
  {
   "cell_type": "code",
   "execution_count": 67,
   "metadata": {
    "collapsed": false
   },
   "outputs": [
    {
     "name": "stdout",
     "output_type": "stream",
     "text": [
      "roc_auc:  0.7970866034420949\n",
      "accuracy:  0.7829333333333334\n"
     ]
    }
   ],
   "source": [
    "print('roc_auc: ',roc_auc_score(target_lr_train, model_rfc1.predict(features_lr_train)))\n",
    "print('accuracy: ',accuracy_score(target_lr_train, model_rfc1.predict(features_lr_train)))"
   ]
  },
  {
   "cell_type": "code",
   "execution_count": 68,
   "metadata": {
    "collapsed": false
   },
   "outputs": [
    {
     "data": {
      "image/png": "[encoded data removed]",
      "text/plain": [
       "<Figure size 576x396 with 1 Axes>"
      ]
     },
     "execution_count": 68,
     "metadata": {
     },
     "output_type": "execute_result"
    }
   ],
   "source": [
    "feature_names = features_lr_train.columns\n",
    "importance = model_rfc1.feature_importances_\n",
    "\n",
    "std = np.std([tree.feature_importances_ for tree in model_rfc1.estimators_], axis=0)\n",
    "forest_importances = pd.Series(importance, index=feature_names)\n",
    "\n",
    "fig, ax = plt.subplots()\n",
    "forest_importances.plot.bar(yerr=std, ax=ax)\n",
    "ax.set_title(\"Важность признаков с использованием MDI\")\n",
    "ax.set_ylabel(\"Mean decrease in impurity\")\n",
    "fig.tight_layout()"
   ]
  },
  {
   "cell_type": "markdown",
   "metadata": {
    "collapsed": false
   },
   "source": [
    "По графику видно, какие фичи модель считает более важными. повторим теже действия, что и с котом и посмотрим на результат."
   ]
  },
  {
   "cell_type": "code",
   "execution_count": 69,
   "metadata": {
    "collapsed": false
   },
   "outputs": [
   ],
   "source": [
    "features_lr_train = features_lr_train.drop(['paperless_billing', 'senior_citizen', 'partner', 'dependents', \n",
    "                                    'online_security', 'online_backup', 'device_protection',\n",
    "                                    'tech_support', 'streaming_tv', 'streaming_movies', 'multiple_lines'], axis=1)\n",
    "\n",
    "features_lr_test = features_lr_test.drop(['paperless_billing', 'senior_citizen', 'partner', 'dependents', \n",
    "                                    'online_security', 'online_backup', 'device_protection',\n",
    "                                    'tech_support', 'streaming_tv', 'streaming_movies', 'multiple_lines'], axis=1)"
   ]
  },
  {
   "cell_type": "code",
   "execution_count": 70,
   "metadata": {
    "collapsed": false
   },
   "outputs": [
    {
     "data": {
      "text/plain": [
       "RandomForestClassifier(bootstrap=True, class_weight='balanced',\n",
       "                       criterion='gini', max_depth=7, max_features='auto',\n",
       "                       max_leaf_nodes=None, min_impurity_decrease=0.0,\n",
       "                       min_impurity_split=None, min_samples_leaf=1,\n",
       "                       min_samples_split=2, min_weight_fraction_leaf=0.0,\n",
       "                       n_estimators=100, n_jobs=-1, oob_score=False,\n",
       "                       random_state=123, verbose=0, warm_start=False)"
      ]
     },
     "execution_count": 70,
     "metadata": {
     },
     "output_type": "execute_result"
    }
   ],
   "source": [
    "model_rfc2 = RandomForestClassifier(\n",
    "    random_state=123,\n",
    "    max_depth=7,\n",
    "    n_estimators=100,\n",
    "    class_weight='balanced',\n",
    "    n_jobs=-1)\n",
    "\n",
    "model_rfc2.fit(features_lr_train, target_lr_train)"
   ]
  },
  {
   "cell_type": "code",
   "execution_count": 71,
   "metadata": {
    "collapsed": false
   },
   "outputs": [
    {
     "name": "stdout",
     "output_type": "stream",
     "text": [
      "roc_auc:  0.8785476585741453\n",
      "accuracy:  0.7793777777777777\n"
     ]
    }
   ],
   "source": [
    "print('roc_auc: ',roc_auc_score(target_lr_train, model_rfc2.predict_proba(features_lr_train)[:,1]))\n",
    "print('accuracy: ',accuracy_score(target_lr_train, model_rfc2.predict(features_lr_train)))"
   ]
  },
  {
   "cell_type": "markdown",
   "metadata": {
    "collapsed": false
   },
   "source": [
    "После обучения моделей, получили следующие показатели:  \n",
    "  \n",
    "- CatBoost: \n",
    "roc_auc:  0.85  \n",
    "accuracy:  0.81  \n",
    "CPU times: user 52min 41s, sys: 5min 6s, total: 57min 48s  \n",
    "Wall time: 1h 55s  \n",
    "  \n",
    "- LogisticRegression:  \n",
    "roc_auc:  0.77  \n",
    "accuracy:  0.75  \n",
    "CPU times: user 36.8 ms, sys: 8.26 ms, total: 45.1 ms   \n",
    "Wall time: 42.7 ms  \n",
    "  \n",
    "- RandomForestClassifier:  \n",
    "roc_auc:  0.88  \n",
    "accuracy:  0.78  \n",
    "CPU times: user 31.1 s, sys: 79.6 ms, total: 31.2 s  \n",
    "Wall time: 31.2 s  \n",
    "  \n",
    "По целевой метрике roc_auc лидирует случайный лес и кот. По времени обучения случайный лес, 31 сек, против почти часа у кота.  Проверим эти модели на тестовой выборке. CatBoost закомментирую, чтобы не обучать много раз и не тратить время."
   ]
  },
  {
   "cell_type": "markdown",
   "metadata": {
    "collapsed": false
   },
   "source": [
    "### Тестирование моделей."
   ]
  },
  {
   "cell_type": "markdown",
   "metadata": {
    "collapsed": false
   },
   "source": [
    "**CatBoost**"
   ]
  },
  {
   "cell_type": "code",
   "execution_count": 72,
   "metadata": {
    "collapsed": false
   },
   "outputs": [
    {
     "name": "stdout",
     "output_type": "stream",
     "text": [
      "roc_auc:  0.859865251761303\n",
      "accuracy:  0.8081023454157783\n"
     ]
    }
   ],
   "source": [
    "print('roc_auc: ',roc_auc_score(target_test, cbr2.predict_proba(features_test)[:,1]))\n",
    "print('accuracy: ',accuracy_score(target_test, cbr2.predict(features_test)))"
   ]
  },
  {
   "cell_type": "markdown",
   "metadata": {
    "collapsed": false
   },
   "source": [
    "**RandomForestClassifier**"
   ]
  },
  {
   "cell_type": "code",
   "execution_count": 73,
   "metadata": {
    "collapsed": false
   },
   "outputs": [
    {
     "name": "stdout",
     "output_type": "stream",
     "text": [
      "roc_auc:  0.8638898660334771\n",
      "accuracy:  0.7825159914712153\n"
     ]
    }
   ],
   "source": [
    "print('roc_auc: ',roc_auc_score(target_lr_test, model_rfc2.predict_proba(features_lr_test)[:,1]))\n",
    "print('accuracy: ',accuracy_score(target_lr_test, model_rfc2.predict(features_lr_test)))"
   ]
  },
  {
   "cell_type": "markdown",
   "metadata": {
    "collapsed": false
   },
   "source": [
    "При проверке моделей, обе показали сопоставимые результаты на тестовой выборке, но случайный лес обучается быстрее. Стоит отдать предпочтение ему.  \n",
    "  \n",
    "CatBoost    \n",
    "roc_auc:  0.8598  \n",
    "accuracy:  0.8081  \n",
    "  \n",
    "RandomForestClassifier  \n",
    "roc_auc:  0.8638  \n",
    "accuracy:  0.7825"
   ]
  },
  {
   "cell_type": "markdown",
   "metadata": {
    "collapsed": false
   },
   "source": [
    "### Проверка моделей на адекватность."
   ]
  },
  {
   "cell_type": "code",
   "execution_count": 74,
   "metadata": {
    "collapsed": false
   },
   "outputs": [
    {
     "data": {
      "text/html": [
       "<style  type=\"text/css\" >\n",
       "    #T_9010a962_38d2_11ec_8570_02420a39099crow0_col0 {\n",
       "            background-color:  lightgreen;\n",
       "        }    #T_9010a962_38d2_11ec_8570_02420a39099crow1_col1 {\n",
       "            background-color:  lightgreen;\n",
       "        }    #T_9010a962_38d2_11ec_8570_02420a39099crow2_col2 {\n",
       "            background-color:  lightgreen;\n",
       "        }</style><table id=\"T_9010a962_38d2_11ec_8570_02420a39099c\" ><thead>    <tr>        <th class=\"blank level0\" ></th>        <th class=\"col_heading level0 col0\" >stratified</th>        <th class=\"col_heading level0 col1\" >most_frequent</th>        <th class=\"col_heading level0 col2\" >uniform</th>    </tr></thead><tbody>\n",
       "                <tr>\n",
       "                        <th id=\"T_9010a962_38d2_11ec_8570_02420a39099clevel0_row0\" class=\"row_heading level0 row0\" >0</th>\n",
       "                        <td id=\"T_9010a962_38d2_11ec_8570_02420a39099crow0_col0\" class=\"data row0 col0\" >0.59204</td>\n",
       "                        <td id=\"T_9010a962_38d2_11ec_8570_02420a39099crow0_col1\" class=\"data row0 col1\" >nan</td>\n",
       "                        <td id=\"T_9010a962_38d2_11ec_8570_02420a39099crow0_col2\" class=\"data row0 col2\" >nan</td>\n",
       "            </tr>\n",
       "            <tr>\n",
       "                        <th id=\"T_9010a962_38d2_11ec_8570_02420a39099clevel0_row1\" class=\"row_heading level0 row1\" >1</th>\n",
       "                        <td id=\"T_9010a962_38d2_11ec_8570_02420a39099crow1_col0\" class=\"data row1 col0\" >nan</td>\n",
       "                        <td id=\"T_9010a962_38d2_11ec_8570_02420a39099crow1_col1\" class=\"data row1 col1\" >0.707889</td>\n",
       "                        <td id=\"T_9010a962_38d2_11ec_8570_02420a39099crow1_col2\" class=\"data row1 col2\" >nan</td>\n",
       "            </tr>\n",
       "            <tr>\n",
       "                        <th id=\"T_9010a962_38d2_11ec_8570_02420a39099clevel0_row2\" class=\"row_heading level0 row2\" >2</th>\n",
       "                        <td id=\"T_9010a962_38d2_11ec_8570_02420a39099crow2_col0\" class=\"data row2 col0\" >nan</td>\n",
       "                        <td id=\"T_9010a962_38d2_11ec_8570_02420a39099crow2_col1\" class=\"data row2 col1\" >nan</td>\n",
       "                        <td id=\"T_9010a962_38d2_11ec_8570_02420a39099crow2_col2\" class=\"data row2 col2\" >0.471926</td>\n",
       "            </tr>\n",
       "    </tbody></table>"
      ],
      "text/plain": [
       "<pandas.io.formats.style.Styler at 0x7f4062734d50>"
      ]
     },
     "execution_count": 74,
     "metadata": {
     },
     "output_type": "execute_result"
    }
   ],
   "source": [
    "strategies = ['stratified', 'most_frequent', 'uniform'] \n",
    "  \n",
    "dummy_results = [] \n",
    "for strategy in strategies: \n",
    "    dc = DummyClassifier(strategy = strategy, random_state = 123)\n",
    "    \n",
    "    dc.fit(feature_train, target_train) \n",
    "    result = dc.score(features_test, target_test) \n",
    "    dummy_results.append({strategy: result}) \n",
    "\n",
    "pd.DataFrame(dummy_results).style.highlight_max(color = 'lightgreen', axis = 1)"
   ]
  },
  {
   "cell_type": "markdown",
   "metadata": {
    "collapsed": false
   },
   "source": [
    "Выбранная нами модель, предсказывает лучше, чем DummyClassifier."
   ]
  },
  {
   "cell_type": "markdown",
   "metadata": {
    "collapsed": false
   },
   "source": [
    "**Вывод**  \n",
    "  \n",
    "1) Подготовили данные для обучения моделей, удалили лишние признаки, убрали дисбаланс классов с помощью upsampl'инга, разделили данные на выборки и масштабировали количественные признаки. Для моделей регресии и случайного леса, дополнительно провели кодирование категориальных переменных.\n",
    "  \n",
    "2) Обучили 3 модели: CatBoost, LogisticRegression и RandomForestClassifier. Лучшие результаты по целевой метрике roc_auc, показали кот и случайный лес:  \n",
    "- CatBoost: roc_auc: 0.98\n",
    "  accuracy: 0.98\n",
    "  CPU times: user 52min 41s, sys: 5min 6s, total: 57min 48s\n",
    "  Wall time: 1h 55s  \n",
    "- RandomForestClassifier:\n",
    "  roc_auc: 0.97\n",
    "  accuracy: 0.97\n",
    "  CPU times: user 31.1 s, sys: 79.6 ms, total: 31.2 s\n",
    "  Wall time: 31.2 s  \n",
    "  \n",
    "  Для дальнейшего тестирования были выбраны эти модели.  \n",
    "  \n",
    "3) При тестировании обе модели показали сопоставимый результат, но случайный лес был чуть лучше:  \n",
    "- CatBoost\n",
    "  roc_auc: 0.8598  \n",
    "  accuracy: 0.8081    \n",
    "  \n",
    "- RandomForestClassifier  \n",
    "  roc_auc: 0.8638  \n",
    "  accuracy: 0.7825    \n",
    "  \n",
    "  Из-за того, модель леса быстрее обучается стоит отдать предпочтение ей.\n",
    "  \n",
    "4) Проверили модели на адекватность, обе модели предсказывают лучше, чем стандартный классификатор."
   ]
  },
  {
   "cell_type": "markdown",
   "metadata": {
    "collapsed": false
   },
   "source": [
    "Ответы на вопросы:  \n",
    "1) Есть корреляция между month и total_charges больше 0.8. Удалили из признаков total_charges.  \n",
    "2) Построил график важности факторов для кота и леса. Удалили менее значимые признаки.  \n",
    "3) Исправил балансировку.\n"
   ]
  },
  {
   "cell_type": "markdown",
   "metadata": {
    "collapsed": false
   },
   "source": [
    "<div style=\"background: #cceeaa; padding: 5px; border: 1px solid green; border-radius: 5px;\">\n",
    "    <font color='green'> <b><u>КОММЕНТАРИЙ РЕВЬЮЕРА 2</u></b>\n",
    "</font>\n",
    "<font color='green'><br>\n",
    "Привет, Евгений!<br>\n",
    "Увидел твои длоработки. ОК, всё ао делу и в точку)<br>\n",
    " \n",
    "Что ж, получается, что всё на этом...<br>   \n",
    "Спасибо за этот труд и за совместную работу на других проектах)<br>\n",
    "Искренне желаю покорить ещё не один аналитический Эверест)<br>"
   ]
  },
  {
   "cell_type": "markdown",
   "metadata": {
    "collapsed": false
   },
   "source": [
    "### Отчет."
   ]
  },
  {
   "cell_type": "markdown",
   "metadata": {
    "collapsed": false
   },
   "source": [
    "В процессе решения поставленной задачи выполнил все пункты плана.  \n",
    "  \n",
    "1) Подготовить данные для обучения модели.\n",
    "Обработать категориальные переменные, масштабировать признаки, т.к есть дисбаланс классов, разбить данные на выборки.  \n",
    "2) Обучить модели.  \n",
    "Так как предстоит решить задачу классификации, можно использовать стандартные модели логистическую регрессию, дерево и случайный лес. Подобрать гиперпараметры моделей и выбрать наилучшую.\n",
    "  \n",
    "При обучении моделей отказался от использования дерева решений, захотел попробовать бустинг.  \n",
    "  \n",
    "3) Проверить модель на тестовой выборке.  \n",
    "4) Проверить модель на адекватность.  \n",
    "Стандартным классификатором DummyClassifier из библиотеки Skelarn.  \n",
    "  \n",
    "Трудностей при выполнении проекта не возникало, если возникали вопросы, то было достаточно заглянуть в документацию или погуглить. \n",
    "  \n",
    "Из ключевых моментов стоит выделить предподготовку данных, которой было уделено большое внимание, т.к. от этого зависит итоговое качество модели. \n",
    "На этапе обучения моделей выбрал наиболее перспективные по целевой метрике roc_auc и дополнительно посмотрел feature_importances_. Это позволило очистить данные от признаков, которые модель считала не значимыми при составлении прогноза. Благодаря этому мы смогли снизить переобучение модели и повысить скорость обучения.  \n",
    "На этам тестирования было допущено две модели: CatBoost и RandomForestClassifier.   \n",
    "  \n",
    "В качестве итоговой модели выбрал RandomForestClassifier с показателями:\n",
    "- roc_auc: 0.8638  \n",
    "- accuracy: 0.7825  "
   ]
  }
 ],
 "metadata": {
  "ExecuteTimeLog": [
   {
    "duration": 1380,
    "start_time": "2021-10-18T13:02:06.552Z"
   },
   {
    "duration": 51,
    "start_time": "2021-10-18T13:04:12.481Z"
   },
   {
    "duration": 404,
    "start_time": "2021-10-18T13:07:55.135Z"
   },
   {
    "duration": 102,
    "start_time": "2021-10-18T13:08:20.076Z"
   },
   {
    "duration": 53,
    "start_time": "2021-10-18T13:08:32.394Z"
   },
   {
    "duration": 20,
    "start_time": "2021-10-18T13:09:14.057Z"
   },
   {
    "duration": 57,
    "start_time": "2021-10-18T13:13:09.700Z"
   },
   {
    "duration": 16,
    "start_time": "2021-10-18T13:13:18.624Z"
   },
   {
    "duration": 786,
    "start_time": "2021-10-18T13:14:13.821Z"
   },
   {
    "duration": 351,
    "start_time": "2021-10-18T13:14:31.344Z"
   },
   {
    "duration": 54,
    "start_time": "2021-10-18T13:14:41.776Z"
   },
   {
    "duration": 623,
    "start_time": "2021-10-18T13:15:04.279Z"
   },
   {
    "duration": 57,
    "start_time": "2021-10-18T13:15:29.135Z"
   },
   {
    "duration": 52,
    "start_time": "2021-10-18T13:15:39.025Z"
   },
   {
    "duration": 52,
    "start_time": "2021-10-18T13:16:26.820Z"
   },
   {
    "duration": 46,
    "start_time": "2021-10-18T13:47:20.022Z"
   },
   {
    "duration": 16,
    "start_time": "2021-10-18T13:48:16.847Z"
   },
   {
    "duration": 6,
    "start_time": "2021-10-18T14:08:28.459Z"
   },
   {
    "duration": 15,
    "start_time": "2021-10-18T14:08:54.588Z"
   },
   {
    "duration": 4,
    "start_time": "2021-10-18T14:09:21.779Z"
   },
   {
    "duration": 273,
    "start_time": "2021-10-18T14:09:23.601Z"
   },
   {
    "duration": 307,
    "start_time": "2021-10-18T14:09:48.755Z"
   },
   {
    "duration": 349,
    "start_time": "2021-10-18T14:14:30.121Z"
   },
   {
    "duration": 5,
    "start_time": "2021-10-18T14:14:57.466Z"
   },
   {
    "duration": 119,
    "start_time": "2021-10-18T14:14:57.474Z"
   },
   {
    "duration": 16,
    "start_time": "2021-10-18T14:14:57.597Z"
   },
   {
    "duration": 10,
    "start_time": "2021-10-18T14:14:57.616Z"
   },
   {
    "duration": 24,
    "start_time": "2021-10-18T14:14:57.629Z"
   },
   {
    "duration": 292,
    "start_time": "2021-10-18T14:15:42.287Z"
   },
   {
    "duration": 267,
    "start_time": "2021-10-18T14:16:22.198Z"
   },
   {
    "duration": 1146,
    "start_time": "2021-10-18T14:16:48.834Z"
   },
   {
    "duration": 2561,
    "start_time": "2021-10-18T14:21:52.871Z"
   },
   {
    "duration": 11,
    "start_time": "2021-10-18T14:23:00.362Z"
   },
   {
    "duration": 15,
    "start_time": "2021-10-18T14:23:22.429Z"
   },
   {
    "duration": 11,
    "start_time": "2021-10-18T14:23:41.473Z"
   },
   {
    "duration": 8,
    "start_time": "2021-10-18T14:24:29.244Z"
   },
   {
    "duration": 13,
    "start_time": "2021-10-18T14:24:30.976Z"
   },
   {
    "duration": 21,
    "start_time": "2021-10-18T14:26:43.291Z"
   },
   {
    "duration": 9,
    "start_time": "2021-10-18T14:28:31.320Z"
   },
   {
    "duration": 322,
    "start_time": "2021-10-18T14:35:37.934Z"
   },
   {
    "duration": 263,
    "start_time": "2021-10-18T14:35:48.801Z"
   },
   {
    "duration": 344,
    "start_time": "2021-10-18T14:36:19.078Z"
   },
   {
    "duration": 324,
    "start_time": "2021-10-18T14:36:38.254Z"
   },
   {
    "duration": 25,
    "start_time": "2021-10-18T14:36:59.903Z"
   },
   {
    "duration": 5,
    "start_time": "2021-10-18T14:48:57.067Z"
   },
   {
    "duration": 51,
    "start_time": "2021-10-18T14:48:57.075Z"
   },
   {
    "duration": 15,
    "start_time": "2021-10-18T14:48:57.129Z"
   },
   {
    "duration": 262,
    "start_time": "2021-10-18T14:48:57.147Z"
   },
   {
    "duration": 8,
    "start_time": "2021-10-18T14:48:57.403Z"
   },
   {
    "duration": 6,
    "start_time": "2021-10-18T14:48:57.407Z"
   },
   {
    "duration": -2,
    "start_time": "2021-10-18T14:48:57.417Z"
   },
   {
    "duration": 5,
    "start_time": "2021-10-18T14:49:13.246Z"
   },
   {
    "duration": 62,
    "start_time": "2021-10-18T14:49:13.253Z"
   },
   {
    "duration": 14,
    "start_time": "2021-10-18T14:49:13.318Z"
   },
   {
    "duration": 19,
    "start_time": "2021-10-18T14:49:13.335Z"
   },
   {
    "duration": 17,
    "start_time": "2021-10-18T14:49:13.357Z"
   },
   {
    "duration": 14,
    "start_time": "2021-10-18T14:49:13.376Z"
   },
   {
    "duration": 31,
    "start_time": "2021-10-18T14:49:13.392Z"
   },
   {
    "duration": 318,
    "start_time": "2021-10-18T15:01:06.405Z"
   },
   {
    "duration": 26,
    "start_time": "2021-10-18T15:04:47.970Z"
   },
   {
    "duration": 11,
    "start_time": "2021-10-18T15:05:23.658Z"
   },
   {
    "duration": 10,
    "start_time": "2021-10-18T15:05:50.685Z"
   },
   {
    "duration": 14,
    "start_time": "2021-10-18T15:05:52.690Z"
   },
   {
    "duration": 5,
    "start_time": "2021-10-18T15:08:56.890Z"
   },
   {
    "duration": 73,
    "start_time": "2021-10-18T15:08:56.897Z"
   },
   {
    "duration": 15,
    "start_time": "2021-10-18T15:08:56.973Z"
   },
   {
    "duration": 13,
    "start_time": "2021-10-18T15:08:56.990Z"
   },
   {
    "duration": 16,
    "start_time": "2021-10-18T15:08:57.006Z"
   },
   {
    "duration": 11,
    "start_time": "2021-10-18T15:08:57.025Z"
   },
   {
    "duration": 23,
    "start_time": "2021-10-18T15:08:57.039Z"
   },
   {
    "duration": 9,
    "start_time": "2021-10-18T15:08:57.065Z"
   },
   {
    "duration": 13,
    "start_time": "2021-10-18T15:08:57.077Z"
   },
   {
    "duration": 10,
    "start_time": "2021-10-18T15:09:37.062Z"
   },
   {
    "duration": 12,
    "start_time": "2021-10-18T15:10:00.035Z"
   },
   {
    "duration": 5,
    "start_time": "2021-10-18T15:24:51.590Z"
   },
   {
    "duration": 111,
    "start_time": "2021-10-18T15:24:51.597Z"
   },
   {
    "duration": 14,
    "start_time": "2021-10-18T15:24:51.711Z"
   },
   {
    "duration": 16,
    "start_time": "2021-10-18T15:24:51.728Z"
   },
   {
    "duration": 14,
    "start_time": "2021-10-18T15:24:51.746Z"
   },
   {
    "duration": 17,
    "start_time": "2021-10-18T15:24:51.762Z"
   },
   {
    "duration": 24,
    "start_time": "2021-10-18T15:24:51.782Z"
   },
   {
    "duration": 23,
    "start_time": "2021-10-18T15:24:51.822Z"
   },
   {
    "duration": 12,
    "start_time": "2021-10-18T15:24:51.848Z"
   },
   {
    "duration": 10,
    "start_time": "2021-10-18T15:24:51.862Z"
   },
   {
    "duration": 16,
    "start_time": "2021-10-18T15:24:51.874Z"
   },
   {
    "duration": 41,
    "start_time": "2021-10-18T15:24:51.892Z"
   },
   {
    "duration": 11,
    "start_time": "2021-10-18T15:39:37.756Z"
   },
   {
    "duration": 16,
    "start_time": "2021-10-18T15:40:40.331Z"
   },
   {
    "duration": 10,
    "start_time": "2021-10-18T15:43:56.606Z"
   },
   {
    "duration": 11,
    "start_time": "2021-10-18T15:44:26.722Z"
   },
   {
    "duration": 88,
    "start_time": "2021-10-18T16:10:10.441Z"
   },
   {
    "duration": 273,
    "start_time": "2021-10-18T16:10:20.868Z"
   },
   {
    "duration": 262,
    "start_time": "2021-10-18T16:10:52.474Z"
   },
   {
    "duration": 6,
    "start_time": "2021-10-18T16:11:17.907Z"
   },
   {
    "duration": 107,
    "start_time": "2021-10-18T16:11:17.915Z"
   },
   {
    "duration": 11,
    "start_time": "2021-10-18T16:11:18.025Z"
   },
   {
    "duration": 342,
    "start_time": "2021-10-18T16:11:18.039Z"
   },
   {
    "duration": -7,
    "start_time": "2021-10-18T16:11:18.392Z"
   },
   {
    "duration": -11,
    "start_time": "2021-10-18T16:11:18.398Z"
   },
   {
    "duration": -13,
    "start_time": "2021-10-18T16:11:18.401Z"
   },
   {
    "duration": -14,
    "start_time": "2021-10-18T16:11:18.404Z"
   },
   {
    "duration": -18,
    "start_time": "2021-10-18T16:11:18.409Z"
   },
   {
    "duration": -18,
    "start_time": "2021-10-18T16:11:18.411Z"
   },
   {
    "duration": -19,
    "start_time": "2021-10-18T16:11:18.414Z"
   },
   {
    "duration": -21,
    "start_time": "2021-10-18T16:11:18.417Z"
   },
   {
    "duration": -26,
    "start_time": "2021-10-18T16:11:18.423Z"
   },
   {
    "duration": -28,
    "start_time": "2021-10-18T16:11:18.427Z"
   },
   {
    "duration": -30,
    "start_time": "2021-10-18T16:11:18.431Z"
   },
   {
    "duration": -38,
    "start_time": "2021-10-18T16:11:18.440Z"
   },
   {
    "duration": -39,
    "start_time": "2021-10-18T16:11:18.443Z"
   },
   {
    "duration": 266,
    "start_time": "2021-10-18T16:15:49.961Z"
   },
   {
    "duration": 269,
    "start_time": "2021-10-18T16:16:25.725Z"
   },
   {
    "duration": 272,
    "start_time": "2021-10-18T16:17:07.198Z"
   },
   {
    "duration": 264,
    "start_time": "2021-10-18T16:17:33.566Z"
   },
   {
    "duration": 265,
    "start_time": "2021-10-18T16:21:42.494Z"
   },
   {
    "duration": 8,
    "start_time": "2021-10-18T16:22:12.449Z"
   },
   {
    "duration": 21,
    "start_time": "2021-10-18T16:22:15.263Z"
   },
   {
    "duration": 16,
    "start_time": "2021-10-18T16:23:29.997Z"
   },
   {
    "duration": 30,
    "start_time": "2021-10-18T16:23:31.375Z"
   },
   {
    "duration": 5,
    "start_time": "2021-10-18T16:25:26.909Z"
   },
   {
    "duration": 112,
    "start_time": "2021-10-18T16:25:26.917Z"
   },
   {
    "duration": 11,
    "start_time": "2021-10-18T16:25:27.032Z"
   },
   {
    "duration": 9,
    "start_time": "2021-10-18T16:25:27.045Z"
   },
   {
    "duration": 26,
    "start_time": "2021-10-18T16:25:27.057Z"
   },
   {
    "duration": 3,
    "start_time": "2021-10-18T16:25:27.085Z"
   },
   {
    "duration": 4,
    "start_time": "2021-10-18T16:25:27.091Z"
   },
   {
    "duration": 3,
    "start_time": "2021-10-18T16:25:27.124Z"
   },
   {
    "duration": 8,
    "start_time": "2021-10-18T16:25:27.130Z"
   },
   {
    "duration": 5,
    "start_time": "2021-10-18T16:25:27.141Z"
   },
   {
    "duration": 22,
    "start_time": "2021-10-18T16:25:27.148Z"
   },
   {
    "duration": 9,
    "start_time": "2021-10-18T16:25:27.172Z"
   },
   {
    "duration": 45,
    "start_time": "2021-10-18T16:25:27.183Z"
   },
   {
    "duration": 22,
    "start_time": "2021-10-18T16:25:27.230Z"
   },
   {
    "duration": 23,
    "start_time": "2021-10-18T16:25:27.255Z"
   },
   {
    "duration": 9,
    "start_time": "2021-10-18T16:25:27.281Z"
   },
   {
    "duration": 35,
    "start_time": "2021-10-18T16:25:27.293Z"
   },
   {
    "duration": 300,
    "start_time": "2021-10-18T16:28:23.197Z"
   },
   {
    "duration": 291,
    "start_time": "2021-10-18T16:29:37.761Z"
   },
   {
    "duration": 8,
    "start_time": "2021-10-18T16:30:14.704Z"
   },
   {
    "duration": 29,
    "start_time": "2021-10-18T16:30:19.142Z"
   },
   {
    "duration": 1288,
    "start_time": "2021-10-18T16:30:41.711Z"
   },
   {
    "duration": 104,
    "start_time": "2021-10-18T16:30:43.001Z"
   },
   {
    "duration": 12,
    "start_time": "2021-10-18T16:30:43.108Z"
   },
   {
    "duration": 4,
    "start_time": "2021-10-18T16:30:43.123Z"
   },
   {
    "duration": 392,
    "start_time": "2021-10-18T16:30:43.129Z"
   },
   {
    "duration": 7,
    "start_time": "2021-10-18T16:30:43.517Z"
   },
   {
    "duration": 7,
    "start_time": "2021-10-18T16:30:43.518Z"
   },
   {
    "duration": 6,
    "start_time": "2021-10-18T16:30:43.520Z"
   },
   {
    "duration": 4,
    "start_time": "2021-10-18T16:30:43.524Z"
   },
   {
    "duration": -1,
    "start_time": "2021-10-18T16:30:43.530Z"
   },
   {
    "duration": -6,
    "start_time": "2021-10-18T16:30:43.536Z"
   },
   {
    "duration": -7,
    "start_time": "2021-10-18T16:30:43.538Z"
   },
   {
    "duration": -16,
    "start_time": "2021-10-18T16:30:43.548Z"
   },
   {
    "duration": -19,
    "start_time": "2021-10-18T16:30:43.553Z"
   },
   {
    "duration": -23,
    "start_time": "2021-10-18T16:30:43.558Z"
   },
   {
    "duration": -30,
    "start_time": "2021-10-18T16:30:43.566Z"
   },
   {
    "duration": -30,
    "start_time": "2021-10-18T16:30:43.568Z"
   },
   {
    "duration": -31,
    "start_time": "2021-10-18T16:30:43.570Z"
   },
   {
    "duration": 1313,
    "start_time": "2021-10-18T16:31:19.086Z"
   },
   {
    "duration": 104,
    "start_time": "2021-10-18T16:31:20.402Z"
   },
   {
    "duration": 11,
    "start_time": "2021-10-18T16:31:20.509Z"
   },
   {
    "duration": 5,
    "start_time": "2021-10-18T16:31:20.523Z"
   },
   {
    "duration": 406,
    "start_time": "2021-10-18T16:31:20.531Z"
   },
   {
    "duration": -2,
    "start_time": "2021-10-18T16:31:20.942Z"
   },
   {
    "duration": -3,
    "start_time": "2021-10-18T16:31:20.944Z"
   },
   {
    "duration": -9,
    "start_time": "2021-10-18T16:31:20.952Z"
   },
   {
    "duration": -12,
    "start_time": "2021-10-18T16:31:20.956Z"
   },
   {
    "duration": -13,
    "start_time": "2021-10-18T16:31:20.959Z"
   },
   {
    "duration": -14,
    "start_time": "2021-10-18T16:31:20.961Z"
   },
   {
    "duration": -22,
    "start_time": "2021-10-18T16:31:20.970Z"
   },
   {
    "duration": -25,
    "start_time": "2021-10-18T16:31:20.975Z"
   },
   {
    "duration": -26,
    "start_time": "2021-10-18T16:31:20.978Z"
   },
   {
    "duration": -33,
    "start_time": "2021-10-18T16:31:20.986Z"
   },
   {
    "duration": -36,
    "start_time": "2021-10-18T16:31:20.991Z"
   },
   {
    "duration": -37,
    "start_time": "2021-10-18T16:31:20.993Z"
   },
   {
    "duration": -41,
    "start_time": "2021-10-18T16:31:20.998Z"
   },
   {
    "duration": 258,
    "start_time": "2021-10-18T16:32:22.354Z"
   },
   {
    "duration": 352,
    "start_time": "2021-10-18T16:32:39.802Z"
   },
   {
    "duration": 19,
    "start_time": "2021-10-18T16:32:50.486Z"
   },
   {
    "duration": 12,
    "start_time": "2021-10-18T16:33:11.003Z"
   },
   {
    "duration": 273,
    "start_time": "2021-10-18T16:34:26.216Z"
   },
   {
    "duration": 271,
    "start_time": "2021-10-18T16:34:49.595Z"
   },
   {
    "duration": 287,
    "start_time": "2021-10-18T16:35:52.702Z"
   },
   {
    "duration": 9,
    "start_time": "2021-10-18T16:44:32.925Z"
   },
   {
    "duration": 22,
    "start_time": "2021-10-18T16:44:40.703Z"
   },
   {
    "duration": 271,
    "start_time": "2021-10-18T16:46:49.819Z"
   },
   {
    "duration": 11,
    "start_time": "2021-10-18T16:47:29.049Z"
   },
   {
    "duration": 27,
    "start_time": "2021-10-18T16:47:35.173Z"
   },
   {
    "duration": 1327,
    "start_time": "2021-10-18T16:51:44.831Z"
   },
   {
    "duration": 106,
    "start_time": "2021-10-18T16:51:46.161Z"
   },
   {
    "duration": 12,
    "start_time": "2021-10-18T16:51:46.270Z"
   },
   {
    "duration": 5,
    "start_time": "2021-10-18T16:51:46.285Z"
   },
   {
    "duration": 6,
    "start_time": "2021-10-18T16:51:46.292Z"
   },
   {
    "duration": 23,
    "start_time": "2021-10-18T16:51:46.300Z"
   },
   {
    "duration": 8,
    "start_time": "2021-10-18T16:51:46.325Z"
   },
   {
    "duration": 6,
    "start_time": "2021-10-18T16:51:46.337Z"
   },
   {
    "duration": 10,
    "start_time": "2021-10-18T16:51:46.346Z"
   },
   {
    "duration": 10,
    "start_time": "2021-10-18T16:51:46.359Z"
   },
   {
    "duration": 9,
    "start_time": "2021-10-18T16:51:46.371Z"
   },
   {
    "duration": 18,
    "start_time": "2021-10-18T16:51:46.383Z"
   },
   {
    "duration": 29,
    "start_time": "2021-10-18T16:51:46.404Z"
   },
   {
    "duration": 32,
    "start_time": "2021-10-18T16:51:46.435Z"
   },
   {
    "duration": 14,
    "start_time": "2021-10-18T16:51:46.470Z"
   },
   {
    "duration": 42,
    "start_time": "2021-10-18T16:51:46.487Z"
   },
   {
    "duration": 16,
    "start_time": "2021-10-18T16:51:46.532Z"
   },
   {
    "duration": 14,
    "start_time": "2021-10-18T16:51:46.551Z"
   },
   {
    "duration": 18,
    "start_time": "2021-10-18T16:55:42.224Z"
   },
   {
    "duration": 19,
    "start_time": "2021-10-18T16:55:56.180Z"
   },
   {
    "duration": 15,
    "start_time": "2021-10-18T16:55:57.184Z"
   },
   {
    "duration": 20,
    "start_time": "2021-10-18T16:56:06.468Z"
   },
   {
    "duration": 15,
    "start_time": "2021-10-18T16:57:19.938Z"
   },
   {
    "duration": 13,
    "start_time": "2021-10-18T16:57:26.963Z"
   },
   {
    "duration": 21,
    "start_time": "2021-10-18T16:59:48.137Z"
   },
   {
    "duration": 19,
    "start_time": "2021-10-18T16:59:49.311Z"
   },
   {
    "duration": 27,
    "start_time": "2021-10-18T17:00:14.293Z"
   },
   {
    "duration": 26,
    "start_time": "2021-10-18T17:00:43.380Z"
   },
   {
    "duration": 410,
    "start_time": "2021-10-18T17:02:10.766Z"
   },
   {
    "duration": 36,
    "start_time": "2021-10-18T17:02:35.528Z"
   },
   {
    "duration": 13,
    "start_time": "2021-10-18T17:02:52.334Z"
   },
   {
    "duration": 1378,
    "start_time": "2021-10-18T17:08:16.998Z"
   },
   {
    "duration": 103,
    "start_time": "2021-10-18T17:08:18.379Z"
   },
   {
    "duration": 14,
    "start_time": "2021-10-18T17:08:18.485Z"
   },
   {
    "duration": 45,
    "start_time": "2021-10-18T17:08:18.502Z"
   },
   {
    "duration": 20,
    "start_time": "2021-10-18T17:08:18.549Z"
   },
   {
    "duration": 19,
    "start_time": "2021-10-18T17:08:18.571Z"
   },
   {
    "duration": 4,
    "start_time": "2021-10-18T17:08:18.593Z"
   },
   {
    "duration": 4,
    "start_time": "2021-10-18T17:08:18.625Z"
   },
   {
    "duration": 8,
    "start_time": "2021-10-18T17:08:18.633Z"
   },
   {
    "duration": 10,
    "start_time": "2021-10-18T17:08:18.644Z"
   },
   {
    "duration": 9,
    "start_time": "2021-10-18T17:08:18.658Z"
   },
   {
    "duration": 18,
    "start_time": "2021-10-18T17:08:18.671Z"
   },
   {
    "duration": 40,
    "start_time": "2021-10-18T17:08:18.693Z"
   },
   {
    "duration": 24,
    "start_time": "2021-10-18T17:08:18.736Z"
   },
   {
    "duration": 15,
    "start_time": "2021-10-18T17:08:18.763Z"
   },
   {
    "duration": 53,
    "start_time": "2021-10-18T17:08:18.781Z"
   },
   {
    "duration": 18,
    "start_time": "2021-10-18T17:08:18.837Z"
   },
   {
    "duration": 14,
    "start_time": "2021-10-18T17:08:18.858Z"
   },
   {
    "duration": 26,
    "start_time": "2021-10-18T17:14:33.864Z"
   },
   {
    "duration": 1396,
    "start_time": "2021-10-18T17:31:07.992Z"
   },
   {
    "duration": 5,
    "start_time": "2021-10-18T17:31:38.512Z"
   },
   {
    "duration": 24,
    "start_time": "2021-10-18T17:32:51.230Z"
   },
   {
    "duration": 88,
    "start_time": "2021-10-18T17:55:07.307Z"
   },
   {
    "duration": 92,
    "start_time": "2021-10-18T17:55:26.621Z"
   },
   {
    "duration": 432,
    "start_time": "2021-10-18T17:55:48.041Z"
   },
   {
    "duration": 5,
    "start_time": "2021-10-18T17:55:59.387Z"
   },
   {
    "duration": 253,
    "start_time": "2021-10-18T17:57:09.213Z"
   },
   {
    "duration": 6951,
    "start_time": "2021-10-18T17:58:01.112Z"
   },
   {
    "duration": 5,
    "start_time": "2021-10-18T17:59:35.178Z"
   },
   {
    "duration": 529,
    "start_time": "2021-10-18T17:59:39.665Z"
   },
   {
    "duration": 5,
    "start_time": "2021-10-18T18:02:16.484Z"
   },
   {
    "duration": 6872,
    "start_time": "2021-10-18T18:02:18.794Z"
   },
   {
    "duration": 5,
    "start_time": "2021-10-18T18:14:34.181Z"
   },
   {
    "duration": 6791,
    "start_time": "2021-10-18T18:14:38.934Z"
   },
   {
    "duration": 4,
    "start_time": "2021-10-18T18:15:37.865Z"
   },
   {
    "duration": 37,
    "start_time": "2021-10-18T18:15:39.783Z"
   },
   {
    "duration": 4,
    "start_time": "2021-10-18T18:19:00.801Z"
   },
   {
    "duration": 6954,
    "start_time": "2021-10-18T18:19:02.239Z"
   },
   {
    "duration": 5,
    "start_time": "2021-10-18T18:21:40.965Z"
   },
   {
    "duration": 7184,
    "start_time": "2021-10-18T18:21:42.629Z"
   },
   {
    "duration": 4,
    "start_time": "2021-10-18T18:23:13.321Z"
   },
   {
    "duration": 3073,
    "start_time": "2021-10-18T18:23:14.564Z"
   },
   {
    "duration": 5,
    "start_time": "2021-10-18T18:23:55.154Z"
   },
   {
    "duration": 5952,
    "start_time": "2021-10-18T18:23:58.479Z"
   },
   {
    "duration": 7,
    "start_time": "2021-10-18T18:25:25.790Z"
   },
   {
    "duration": 255,
    "start_time": "2021-10-18T18:25:42.198Z"
   },
   {
    "duration": 5,
    "start_time": "2021-10-18T18:25:49.101Z"
   },
   {
    "duration": 4,
    "start_time": "2021-10-18T18:26:31.842Z"
   },
   {
    "duration": 5639,
    "start_time": "2021-10-18T18:26:33.066Z"
   },
   {
    "duration": 5,
    "start_time": "2021-10-18T18:27:17.132Z"
   },
   {
    "duration": 5559,
    "start_time": "2021-10-18T18:27:18.686Z"
   },
   {
    "duration": 5,
    "start_time": "2021-10-18T18:28:01.825Z"
   },
   {
    "duration": 1327,
    "start_time": "2021-10-18T18:29:07.516Z"
   },
   {
    "duration": 104,
    "start_time": "2021-10-18T18:29:08.846Z"
   },
   {
    "duration": 42,
    "start_time": "2021-10-18T18:29:08.953Z"
   },
   {
    "duration": 28,
    "start_time": "2021-10-18T18:29:08.997Z"
   },
   {
    "duration": 32,
    "start_time": "2021-10-18T18:29:09.027Z"
   },
   {
    "duration": 6,
    "start_time": "2021-10-18T18:29:09.061Z"
   },
   {
    "duration": 55,
    "start_time": "2021-10-18T18:29:09.069Z"
   },
   {
    "duration": 5,
    "start_time": "2021-10-18T18:29:09.129Z"
   },
   {
    "duration": 6,
    "start_time": "2021-10-18T18:29:09.138Z"
   },
   {
    "duration": 203,
    "start_time": "2021-10-18T18:29:09.146Z"
   },
   {
    "duration": 3,
    "start_time": "2021-10-18T18:29:09.351Z"
   },
   {
    "duration": 8,
    "start_time": "2021-10-18T18:29:09.356Z"
   },
   {
    "duration": 13,
    "start_time": "2021-10-18T18:29:09.367Z"
   },
   {
    "duration": 6,
    "start_time": "2021-10-18T18:29:09.382Z"
   },
   {
    "duration": 32,
    "start_time": "2021-10-18T18:29:09.391Z"
   },
   {
    "duration": 17,
    "start_time": "2021-10-18T18:29:09.426Z"
   },
   {
    "duration": 14,
    "start_time": "2021-10-18T18:29:09.445Z"
   },
   {
    "duration": 11,
    "start_time": "2021-10-18T18:29:09.461Z"
   },
   {
    "duration": 47,
    "start_time": "2021-10-18T18:29:09.475Z"
   },
   {
    "duration": 8,
    "start_time": "2021-10-18T18:29:09.525Z"
   },
   {
    "duration": 14,
    "start_time": "2021-10-18T18:29:09.536Z"
   },
   {
    "duration": 16,
    "start_time": "2021-10-18T18:35:00.669Z"
   },
   {
    "duration": 427,
    "start_time": "2021-10-18T19:36:21.898Z"
   },
   {
    "duration": 264,
    "start_time": "2021-10-18T19:36:49.042Z"
   },
   {
    "duration": 9,
    "start_time": "2021-10-18T19:37:08.534Z"
   },
   {
    "duration": 8,
    "start_time": "2021-10-18T19:37:22.198Z"
   },
   {
    "duration": 30,
    "start_time": "2021-10-18T19:37:35.543Z"
   },
   {
    "duration": 30,
    "start_time": "2021-10-18T19:37:47.566Z"
   },
   {
    "duration": 35,
    "start_time": "2021-10-18T19:42:42.685Z"
   },
   {
    "duration": 79,
    "start_time": "2021-10-18T19:44:11.836Z"
   },
   {
    "duration": 71,
    "start_time": "2021-10-18T19:45:10.333Z"
   },
   {
    "duration": 5,
    "start_time": "2021-10-18T19:54:53.653Z"
   },
   {
    "duration": 380,
    "start_time": "2021-10-18T19:55:07.503Z"
   },
   {
    "duration": 260,
    "start_time": "2021-10-18T19:55:25.259Z"
   },
   {
    "duration": 1326,
    "start_time": "2021-10-18T19:55:47.763Z"
   },
   {
    "duration": 103,
    "start_time": "2021-10-18T19:55:49.095Z"
   },
   {
    "duration": 43,
    "start_time": "2021-10-18T19:55:49.201Z"
   },
   {
    "duration": 20,
    "start_time": "2021-10-18T19:55:49.246Z"
   },
   {
    "duration": 31,
    "start_time": "2021-10-18T19:55:49.268Z"
   },
   {
    "duration": 6,
    "start_time": "2021-10-18T19:55:49.322Z"
   },
   {
    "duration": 29,
    "start_time": "2021-10-18T19:55:49.330Z"
   },
   {
    "duration": 4,
    "start_time": "2021-10-18T19:55:49.363Z"
   },
   {
    "duration": 195,
    "start_time": "2021-10-18T19:55:49.370Z"
   },
   {
    "duration": 29,
    "start_time": "2021-10-18T19:55:49.567Z"
   },
   {
    "duration": 26,
    "start_time": "2021-10-18T19:55:49.598Z"
   },
   {
    "duration": 6,
    "start_time": "2021-10-18T19:55:49.626Z"
   },
   {
    "duration": 5,
    "start_time": "2021-10-18T19:55:49.635Z"
   },
   {
    "duration": 7,
    "start_time": "2021-10-18T19:55:49.642Z"
   },
   {
    "duration": 8,
    "start_time": "2021-10-18T19:55:49.652Z"
   },
   {
    "duration": 21,
    "start_time": "2021-10-18T19:55:49.662Z"
   },
   {
    "duration": 10,
    "start_time": "2021-10-18T19:55:49.686Z"
   },
   {
    "duration": 13,
    "start_time": "2021-10-18T19:55:49.723Z"
   },
   {
    "duration": 13,
    "start_time": "2021-10-18T19:55:49.738Z"
   },
   {
    "duration": 17,
    "start_time": "2021-10-18T19:55:49.753Z"
   },
   {
    "duration": 9,
    "start_time": "2021-10-18T19:55:49.772Z"
   },
   {
    "duration": 9,
    "start_time": "2021-10-18T19:55:49.823Z"
   },
   {
    "duration": 33,
    "start_time": "2021-10-18T19:56:05.738Z"
   },
   {
    "duration": 422,
    "start_time": "2021-10-18T19:59:06.900Z"
   },
   {
    "duration": 266,
    "start_time": "2021-10-18T19:59:21.626Z"
   },
   {
    "duration": 41,
    "start_time": "2021-10-18T20:00:51.001Z"
   },
   {
    "duration": 36,
    "start_time": "2021-10-18T20:01:29.715Z"
   },
   {
    "duration": 36,
    "start_time": "2021-10-18T20:02:45.362Z"
   },
   {
    "duration": 36,
    "start_time": "2021-10-18T20:04:50.504Z"
   },
   {
    "duration": 36,
    "start_time": "2021-10-18T20:05:17.476Z"
   },
   {
    "duration": 38,
    "start_time": "2021-10-18T20:05:29.656Z"
   },
   {
    "duration": 34,
    "start_time": "2021-10-18T20:06:29.559Z"
   },
   {
    "duration": 501,
    "start_time": "2021-10-18T20:24:44.259Z"
   },
   {
    "duration": 6614,
    "start_time": "2021-10-18T20:25:26.789Z"
   },
   {
    "duration": 8217,
    "start_time": "2021-10-18T20:25:46.056Z"
   },
   {
    "duration": 38,
    "start_time": "2021-10-18T20:27:07.816Z"
   },
   {
    "duration": 38,
    "start_time": "2021-10-18T20:27:56.889Z"
   },
   {
    "duration": 8,
    "start_time": "2021-10-18T20:41:09.383Z"
   },
   {
    "duration": 10,
    "start_time": "2021-10-18T20:41:11.255Z"
   },
   {
    "duration": 13,
    "start_time": "2021-10-18T20:41:25.402Z"
   },
   {
    "duration": 41,
    "start_time": "2021-10-18T20:42:09.908Z"
   },
   {
    "duration": 6716,
    "start_time": "2021-10-18T20:52:17.756Z"
   },
   {
    "duration": 73,
    "start_time": "2021-10-18T20:53:33.951Z"
   },
   {
    "duration": 325,
    "start_time": "2021-10-18T20:54:12.852Z"
   },
   {
    "duration": 30,
    "start_time": "2021-10-18T20:54:34.367Z"
   },
   {
    "duration": 23,
    "start_time": "2021-10-18T20:58:00.891Z"
   },
   {
    "duration": 24,
    "start_time": "2021-10-18T20:58:34.229Z"
   },
   {
    "duration": 19,
    "start_time": "2021-10-18T20:59:07.630Z"
   },
   {
    "duration": 8,
    "start_time": "2021-10-18T20:59:54.913Z"
   },
   {
    "duration": 16,
    "start_time": "2021-10-18T21:00:30.424Z"
   },
   {
    "duration": 13,
    "start_time": "2021-10-18T21:01:05.028Z"
   },
   {
    "duration": 19,
    "start_time": "2021-10-18T21:02:18.601Z"
   },
   {
    "duration": 12,
    "start_time": "2021-10-18T21:02:24.222Z"
   },
   {
    "duration": 17,
    "start_time": "2021-10-18T21:03:12.375Z"
   },
   {
    "duration": 6,
    "start_time": "2021-10-18T21:03:12.565Z"
   },
   {
    "duration": 6,
    "start_time": "2021-10-18T21:03:19.122Z"
   },
   {
    "duration": 6,
    "start_time": "2021-10-18T21:03:42.828Z"
   },
   {
    "duration": 7381,
    "start_time": "2021-10-18T21:04:07.610Z"
   },
   {
    "duration": 8390,
    "start_time": "2021-10-18T21:04:22.961Z"
   },
   {
    "duration": 64,
    "start_time": "2021-10-18T21:04:31.290Z"
   },
   {
    "duration": 1497,
    "start_time": "2021-10-18T21:05:06.742Z"
   },
   {
    "duration": 112,
    "start_time": "2021-10-18T21:05:08.241Z"
   },
   {
    "duration": 44,
    "start_time": "2021-10-18T21:05:08.355Z"
   },
   {
    "duration": 27,
    "start_time": "2021-10-18T21:05:08.403Z"
   },
   {
    "duration": 34,
    "start_time": "2021-10-18T21:05:08.432Z"
   },
   {
    "duration": 18,
    "start_time": "2021-10-18T21:05:08.468Z"
   },
   {
    "duration": 43,
    "start_time": "2021-10-18T21:05:08.489Z"
   },
   {
    "duration": 5,
    "start_time": "2021-10-18T21:05:08.536Z"
   },
   {
    "duration": 186,
    "start_time": "2021-10-18T21:05:08.544Z"
   },
   {
    "duration": 29,
    "start_time": "2021-10-18T21:05:08.732Z"
   },
   {
    "duration": 5,
    "start_time": "2021-10-18T21:05:08.763Z"
   },
   {
    "duration": 64,
    "start_time": "2021-10-18T21:05:08.771Z"
   },
   {
    "duration": 10,
    "start_time": "2021-10-18T21:05:08.839Z"
   },
   {
    "duration": 15,
    "start_time": "2021-10-18T21:05:08.852Z"
   },
   {
    "duration": 69,
    "start_time": "2021-10-18T21:05:08.870Z"
   },
   {
    "duration": 22,
    "start_time": "2021-10-18T21:05:08.941Z"
   },
   {
    "duration": 59,
    "start_time": "2021-10-18T21:05:08.965Z"
   },
   {
    "duration": 11,
    "start_time": "2021-10-18T21:05:09.026Z"
   },
   {
    "duration": 12,
    "start_time": "2021-10-18T21:05:09.040Z"
   },
   {
    "duration": 14,
    "start_time": "2021-10-18T21:05:09.056Z"
   },
   {
    "duration": 57,
    "start_time": "2021-10-18T21:05:09.072Z"
   },
   {
    "duration": 17,
    "start_time": "2021-10-18T21:05:09.132Z"
   },
   {
    "duration": 9,
    "start_time": "2021-10-18T21:05:09.154Z"
   },
   {
    "duration": 18,
    "start_time": "2021-10-18T21:05:09.166Z"
   },
   {
    "duration": 15,
    "start_time": "2021-10-18T21:06:06.370Z"
   },
   {
    "duration": 13,
    "start_time": "2021-10-18T21:09:19.429Z"
   },
   {
    "duration": 8,
    "start_time": "2021-10-18T21:09:40.700Z"
   },
   {
    "duration": 9,
    "start_time": "2021-10-18T21:19:52.090Z"
   },
   {
    "duration": 8,
    "start_time": "2021-10-18T21:19:56.044Z"
   },
   {
    "duration": 11,
    "start_time": "2021-10-18T21:19:56.235Z"
   },
   {
    "duration": 11,
    "start_time": "2021-10-18T21:20:20.129Z"
   },
   {
    "duration": 10,
    "start_time": "2021-10-18T21:20:22.517Z"
   },
   {
    "duration": 19095,
    "start_time": "2021-10-18T21:22:24.716Z"
   },
   {
    "duration": 8,
    "start_time": "2021-10-18T21:22:45.980Z"
   },
   {
    "duration": 15654,
    "start_time": "2021-10-18T21:22:57.793Z"
   },
   {
    "duration": 7,
    "start_time": "2021-10-18T21:23:15.177Z"
   },
   {
    "duration": 16953,
    "start_time": "2021-10-18T21:23:40.457Z"
   },
   {
    "duration": 11,
    "start_time": "2021-10-18T21:23:58.847Z"
   },
   {
    "duration": 16,
    "start_time": "2021-10-18T21:24:00.829Z"
   },
   {
    "duration": 464,
    "start_time": "2021-10-18T21:28:40.608Z"
   },
   {
    "duration": 271,
    "start_time": "2021-10-18T21:29:24.007Z"
   },
   {
    "duration": 292,
    "start_time": "2021-10-18T21:29:46.787Z"
   },
   {
    "duration": 7,
    "start_time": "2021-10-18T21:31:01.025Z"
   },
   {
    "duration": 9,
    "start_time": "2021-10-18T21:31:31.498Z"
   },
   {
    "duration": 319,
    "start_time": "2021-10-18T21:31:47.900Z"
   },
   {
    "duration": 6,
    "start_time": "2021-10-18T21:31:59.472Z"
   },
   {
    "duration": 23,
    "start_time": "2021-10-18T21:33:34.350Z"
   },
   {
    "duration": 297,
    "start_time": "2021-10-18T21:33:56.073Z"
   },
   {
    "duration": 1204,
    "start_time": "2021-10-18T21:37:34.860Z"
   },
   {
    "duration": 10,
    "start_time": "2021-10-18T21:38:08.718Z"
   },
   {
    "duration": 24,
    "start_time": "2021-10-18T21:39:28.064Z"
   },
   {
    "duration": 1272,
    "start_time": "2021-10-18T21:39:36.330Z"
   },
   {
    "duration": 107,
    "start_time": "2021-10-18T21:39:37.605Z"
   },
   {
    "duration": 43,
    "start_time": "2021-10-18T21:39:37.715Z"
   },
   {
    "duration": 20,
    "start_time": "2021-10-18T21:39:37.761Z"
   },
   {
    "duration": 51,
    "start_time": "2021-10-18T21:39:37.784Z"
   },
   {
    "duration": 5,
    "start_time": "2021-10-18T21:39:37.838Z"
   },
   {
    "duration": 33,
    "start_time": "2021-10-18T21:39:37.846Z"
   },
   {
    "duration": 5,
    "start_time": "2021-10-18T21:39:37.885Z"
   },
   {
    "duration": 182,
    "start_time": "2021-10-18T21:39:37.923Z"
   },
   {
    "duration": 32,
    "start_time": "2021-10-18T21:39:38.108Z"
   },
   {
    "duration": 6,
    "start_time": "2021-10-18T21:39:38.142Z"
   },
   {
    "duration": 40,
    "start_time": "2021-10-18T21:39:38.150Z"
   },
   {
    "duration": 33,
    "start_time": "2021-10-18T21:39:38.193Z"
   },
   {
    "duration": 14,
    "start_time": "2021-10-18T21:39:38.229Z"
   },
   {
    "duration": 41,
    "start_time": "2021-10-18T21:39:38.245Z"
   },
   {
    "duration": 43,
    "start_time": "2021-10-18T21:39:38.288Z"
   },
   {
    "duration": 12,
    "start_time": "2021-10-18T21:39:38.334Z"
   },
   {
    "duration": 9,
    "start_time": "2021-10-18T21:39:38.349Z"
   },
   {
    "duration": 12,
    "start_time": "2021-10-18T21:39:38.360Z"
   },
   {
    "duration": 52,
    "start_time": "2021-10-18T21:39:38.375Z"
   },
   {
    "duration": 16,
    "start_time": "2021-10-18T21:39:38.429Z"
   },
   {
    "duration": 13,
    "start_time": "2021-10-18T21:39:38.447Z"
   },
   {
    "duration": 13,
    "start_time": "2021-10-18T21:39:38.464Z"
   },
   {
    "duration": 16,
    "start_time": "2021-10-18T21:40:04.959Z"
   },
   {
    "duration": 25,
    "start_time": "2021-10-18T21:52:25.986Z"
   },
   {
    "duration": 24,
    "start_time": "2021-10-18T21:54:58.758Z"
   },
   {
    "duration": 6,
    "start_time": "2021-10-18T21:57:04.163Z"
   },
   {
    "duration": 5,
    "start_time": "2021-10-18T21:57:33.796Z"
   },
   {
    "duration": 8,
    "start_time": "2021-10-18T21:59:23.480Z"
   },
   {
    "duration": 9,
    "start_time": "2021-10-18T22:00:00.731Z"
   },
   {
    "duration": 8,
    "start_time": "2021-10-18T22:00:29.199Z"
   },
   {
    "duration": 685,
    "start_time": "2021-10-18T22:00:46.778Z"
   },
   {
    "duration": 6,
    "start_time": "2021-10-18T22:02:02.083Z"
   },
   {
    "duration": 5,
    "start_time": "2021-10-18T22:07:01.883Z"
   },
   {
    "duration": 9,
    "start_time": "2021-10-18T22:07:21.112Z"
   },
   {
    "duration": 11,
    "start_time": "2021-10-18T22:07:42.385Z"
   },
   {
    "duration": 90,
    "start_time": "2021-10-18T22:16:24.704Z"
   },
   {
    "duration": 97,
    "start_time": "2021-10-18T22:16:59.903Z"
   },
   {
    "duration": 5,
    "start_time": "2021-10-18T22:18:12.110Z"
   },
   {
    "duration": 663,
    "start_time": "2021-10-18T22:18:49.576Z"
   },
   {
    "duration": 4,
    "start_time": "2021-10-18T22:19:33.088Z"
   },
   {
    "duration": 188,
    "start_time": "2021-10-18T22:19:34.752Z"
   },
   {
    "duration": 78,
    "start_time": "2021-10-18T22:22:58.731Z"
   },
   {
    "duration": 15,
    "start_time": "2021-10-18T22:23:06.793Z"
   },
   {
    "duration": 1340,
    "start_time": "2021-10-18T22:24:00.276Z"
   },
   {
    "duration": 110,
    "start_time": "2021-10-18T22:24:01.619Z"
   },
   {
    "duration": 43,
    "start_time": "2021-10-18T22:24:01.732Z"
   },
   {
    "duration": 21,
    "start_time": "2021-10-18T22:24:01.777Z"
   },
   {
    "duration": 52,
    "start_time": "2021-10-18T22:24:01.800Z"
   },
   {
    "duration": 6,
    "start_time": "2021-10-18T22:24:01.855Z"
   },
   {
    "duration": 40,
    "start_time": "2021-10-18T22:24:01.863Z"
   },
   {
    "duration": 17,
    "start_time": "2021-10-18T22:24:01.908Z"
   },
   {
    "duration": 191,
    "start_time": "2021-10-18T22:24:01.928Z"
   },
   {
    "duration": 28,
    "start_time": "2021-10-18T22:24:02.121Z"
   },
   {
    "duration": 6,
    "start_time": "2021-10-18T22:24:02.151Z"
   },
   {
    "duration": 66,
    "start_time": "2021-10-18T22:24:02.159Z"
   },
   {
    "duration": 9,
    "start_time": "2021-10-18T22:24:02.227Z"
   },
   {
    "duration": 21,
    "start_time": "2021-10-18T22:24:02.239Z"
   },
   {
    "duration": 66,
    "start_time": "2021-10-18T22:24:02.262Z"
   },
   {
    "duration": 9,
    "start_time": "2021-10-18T22:24:02.331Z"
   },
   {
    "duration": 34,
    "start_time": "2021-10-18T22:24:02.343Z"
   },
   {
    "duration": 7,
    "start_time": "2021-10-18T22:24:02.380Z"
   },
   {
    "duration": 37,
    "start_time": "2021-10-18T22:24:02.389Z"
   },
   {
    "duration": 81,
    "start_time": "2021-10-18T22:24:02.428Z"
   },
   {
    "duration": 23,
    "start_time": "2021-10-18T22:24:02.512Z"
   },
   {
    "duration": 14,
    "start_time": "2021-10-18T22:24:02.538Z"
   },
   {
    "duration": 29,
    "start_time": "2021-10-18T22:24:02.558Z"
   },
   {
    "duration": 39,
    "start_time": "2021-10-18T22:24:02.589Z"
   },
   {
    "duration": 21,
    "start_time": "2021-10-18T22:24:02.631Z"
   },
   {
    "duration": 25,
    "start_time": "2021-10-18T22:26:56.728Z"
   },
   {
    "duration": 15,
    "start_time": "2021-10-18T22:26:58.623Z"
   },
   {
    "duration": 19,
    "start_time": "2021-10-18T22:30:19.433Z"
   },
   {
    "duration": 18,
    "start_time": "2021-10-18T22:30:30.710Z"
   },
   {
    "duration": 439,
    "start_time": "2021-10-18T22:52:03.434Z"
   },
   {
    "duration": 273,
    "start_time": "2021-10-18T22:52:23.948Z"
   },
   {
    "duration": 3389,
    "start_time": "2021-10-18T22:52:54.350Z"
   },
   {
    "duration": 34,
    "start_time": "2021-10-18T22:53:57.630Z"
   },
   {
    "duration": 36,
    "start_time": "2021-10-18T22:54:56.469Z"
   },
   {
    "duration": 1310,
    "start_time": "2021-10-18T22:57:07.686Z"
   },
   {
    "duration": 105,
    "start_time": "2021-10-18T22:57:08.999Z"
   },
   {
    "duration": 42,
    "start_time": "2021-10-18T22:57:09.107Z"
   },
   {
    "duration": 20,
    "start_time": "2021-10-18T22:57:09.152Z"
   },
   {
    "duration": 31,
    "start_time": "2021-10-18T22:57:09.174Z"
   },
   {
    "duration": 17,
    "start_time": "2021-10-18T22:57:09.207Z"
   },
   {
    "duration": 25,
    "start_time": "2021-10-18T22:57:09.226Z"
   },
   {
    "duration": 6,
    "start_time": "2021-10-18T22:57:09.255Z"
   },
   {
    "duration": 197,
    "start_time": "2021-10-18T22:57:09.264Z"
   },
   {
    "duration": 28,
    "start_time": "2021-10-18T22:57:09.464Z"
   },
   {
    "duration": 4,
    "start_time": "2021-10-18T22:57:09.494Z"
   },
   {
    "duration": 3,
    "start_time": "2021-10-18T22:57:09.524Z"
   },
   {
    "duration": 14,
    "start_time": "2021-10-18T22:57:09.530Z"
   },
   {
    "duration": 14,
    "start_time": "2021-10-18T22:57:09.547Z"
   },
   {
    "duration": 62,
    "start_time": "2021-10-18T22:57:09.563Z"
   },
   {
    "duration": 13,
    "start_time": "2021-10-18T22:57:09.628Z"
   },
   {
    "duration": 18,
    "start_time": "2021-10-18T22:57:09.643Z"
   },
   {
    "duration": 6,
    "start_time": "2021-10-18T22:57:09.664Z"
   },
   {
    "duration": 10,
    "start_time": "2021-10-18T22:57:09.672Z"
   },
   {
    "duration": 24,
    "start_time": "2021-10-18T22:57:09.722Z"
   },
   {
    "duration": 12,
    "start_time": "2021-10-18T22:57:09.748Z"
   },
   {
    "duration": 15,
    "start_time": "2021-10-18T22:57:09.763Z"
   },
   {
    "duration": 67,
    "start_time": "2021-10-18T22:57:09.782Z"
   },
   {
    "duration": 10,
    "start_time": "2021-10-18T22:57:09.851Z"
   },
   {
    "duration": 19,
    "start_time": "2021-10-18T22:57:09.864Z"
   },
   {
    "duration": 41,
    "start_time": "2021-10-18T22:57:09.885Z"
   },
   {
    "duration": 9,
    "start_time": "2021-10-18T22:57:09.929Z"
   },
   {
    "duration": 1280,
    "start_time": "2021-10-18T23:01:14.568Z"
   },
   {
    "duration": 108,
    "start_time": "2021-10-18T23:01:15.850Z"
   },
   {
    "duration": 41,
    "start_time": "2021-10-18T23:01:15.960Z"
   },
   {
    "duration": 20,
    "start_time": "2021-10-18T23:01:16.003Z"
   },
   {
    "duration": 31,
    "start_time": "2021-10-18T23:01:16.026Z"
   },
   {
    "duration": 5,
    "start_time": "2021-10-18T23:01:16.060Z"
   },
   {
    "duration": 57,
    "start_time": "2021-10-18T23:01:16.067Z"
   },
   {
    "duration": 6,
    "start_time": "2021-10-18T23:01:16.130Z"
   },
   {
    "duration": 183,
    "start_time": "2021-10-18T23:01:16.139Z"
   },
   {
    "duration": 28,
    "start_time": "2021-10-18T23:01:16.325Z"
   },
   {
    "duration": 3,
    "start_time": "2021-10-18T23:01:16.356Z"
   },
   {
    "duration": 7,
    "start_time": "2021-10-18T23:01:16.362Z"
   },
   {
    "duration": 17,
    "start_time": "2021-10-18T23:01:16.372Z"
   },
   {
    "duration": 36,
    "start_time": "2021-10-18T23:01:16.392Z"
   },
   {
    "duration": 34,
    "start_time": "2021-10-18T23:01:16.431Z"
   },
   {
    "duration": 10,
    "start_time": "2021-10-18T23:01:16.467Z"
   },
   {
    "duration": 48,
    "start_time": "2021-10-18T23:01:16.480Z"
   },
   {
    "duration": 6,
    "start_time": "2021-10-18T23:01:16.530Z"
   },
   {
    "duration": 12,
    "start_time": "2021-10-18T23:01:16.538Z"
   },
   {
    "duration": 28,
    "start_time": "2021-10-18T23:01:16.552Z"
   },
   {
    "duration": 48,
    "start_time": "2021-10-18T23:01:16.582Z"
   },
   {
    "duration": 16,
    "start_time": "2021-10-18T23:01:16.633Z"
   },
   {
    "duration": 33,
    "start_time": "2021-10-18T23:01:16.653Z"
   },
   {
    "duration": 88,
    "start_time": "2021-10-18T23:01:16.688Z"
   },
   {
    "duration": 104,
    "start_time": "2021-10-18T23:01:16.674Z"
   },
   {
    "duration": 103,
    "start_time": "2021-10-18T23:01:16.677Z"
   },
   {
    "duration": 101,
    "start_time": "2021-10-18T23:01:16.680Z"
   },
   {
    "duration": 97,
    "start_time": "2021-10-18T23:01:16.685Z"
   },
   {
    "duration": 1268,
    "start_time": "2021-10-18T23:10:15.939Z"
   },
   {
    "duration": 106,
    "start_time": "2021-10-18T23:10:17.209Z"
   },
   {
    "duration": 41,
    "start_time": "2021-10-18T23:10:17.318Z"
   },
   {
    "duration": 20,
    "start_time": "2021-10-18T23:10:17.362Z"
   },
   {
    "duration": 55,
    "start_time": "2021-10-18T23:10:17.385Z"
   },
   {
    "duration": 5,
    "start_time": "2021-10-18T23:10:17.442Z"
   },
   {
    "duration": 25,
    "start_time": "2021-10-18T23:10:17.450Z"
   },
   {
    "duration": 5,
    "start_time": "2021-10-18T23:10:17.480Z"
   },
   {
    "duration": 202,
    "start_time": "2021-10-18T23:10:17.488Z"
   },
   {
    "duration": 33,
    "start_time": "2021-10-18T23:10:17.693Z"
   },
   {
    "duration": 4,
    "start_time": "2021-10-18T23:10:17.728Z"
   },
   {
    "duration": 9,
    "start_time": "2021-10-18T23:10:17.734Z"
   },
   {
    "duration": 9,
    "start_time": "2021-10-18T23:10:17.746Z"
   },
   {
    "duration": 14,
    "start_time": "2021-10-18T23:10:17.757Z"
   },
   {
    "duration": 69,
    "start_time": "2021-10-18T23:10:17.773Z"
   },
   {
    "duration": 10,
    "start_time": "2021-10-18T23:10:17.845Z"
   },
   {
    "duration": 16,
    "start_time": "2021-10-18T23:10:17.857Z"
   },
   {
    "duration": 7,
    "start_time": "2021-10-18T23:10:17.875Z"
   },
   {
    "duration": 46,
    "start_time": "2021-10-18T23:10:17.884Z"
   },
   {
    "duration": 27,
    "start_time": "2021-10-18T23:10:17.933Z"
   },
   {
    "duration": 13,
    "start_time": "2021-10-18T23:10:17.962Z"
   },
   {
    "duration": 53,
    "start_time": "2021-10-18T23:10:17.978Z"
   },
   {
    "duration": 32,
    "start_time": "2021-10-18T23:10:18.038Z"
   },
   {
    "duration": 14,
    "start_time": "2021-10-18T23:10:18.073Z"
   },
   {
    "duration": 46,
    "start_time": "2021-10-18T23:10:18.090Z"
   },
   {
    "duration": 11,
    "start_time": "2021-10-18T23:10:18.139Z"
   },
   {
    "duration": 12,
    "start_time": "2021-10-18T23:10:18.152Z"
   },
   {
    "duration": 9,
    "start_time": "2021-10-18T23:13:58.858Z"
   },
   {
    "duration": 34,
    "start_time": "2021-10-18T23:14:13.408Z"
   },
   {
    "duration": 5,
    "start_time": "2021-10-18T23:15:24.096Z"
   },
   {
    "duration": 109,
    "start_time": "2021-10-18T23:15:24.104Z"
   },
   {
    "duration": 41,
    "start_time": "2021-10-18T23:15:24.216Z"
   },
   {
    "duration": 18,
    "start_time": "2021-10-18T23:15:24.260Z"
   },
   {
    "duration": 53,
    "start_time": "2021-10-18T23:15:24.281Z"
   },
   {
    "duration": 6,
    "start_time": "2021-10-18T23:15:24.337Z"
   },
   {
    "duration": 31,
    "start_time": "2021-10-18T23:15:24.346Z"
   },
   {
    "duration": 5,
    "start_time": "2021-10-18T23:15:24.381Z"
   },
   {
    "duration": 198,
    "start_time": "2021-10-18T23:15:24.390Z"
   },
   {
    "duration": 37,
    "start_time": "2021-10-18T23:15:24.590Z"
   },
   {
    "duration": 3,
    "start_time": "2021-10-18T23:15:24.630Z"
   },
   {
    "duration": 11,
    "start_time": "2021-10-18T23:15:24.636Z"
   },
   {
    "duration": 10,
    "start_time": "2021-10-18T23:15:24.650Z"
   },
   {
    "duration": 16,
    "start_time": "2021-10-18T23:15:24.662Z"
   },
   {
    "duration": 59,
    "start_time": "2021-10-18T23:15:24.681Z"
   },
   {
    "duration": 16,
    "start_time": "2021-10-18T23:15:24.743Z"
   },
   {
    "duration": 16,
    "start_time": "2021-10-18T23:15:24.762Z"
   },
   {
    "duration": 7,
    "start_time": "2021-10-18T23:15:24.780Z"
   },
   {
    "duration": 12,
    "start_time": "2021-10-18T23:15:24.821Z"
   },
   {
    "duration": 28,
    "start_time": "2021-10-18T23:15:24.836Z"
   },
   {
    "duration": 13,
    "start_time": "2021-10-18T23:15:24.867Z"
   },
   {
    "duration": 49,
    "start_time": "2021-10-18T23:15:24.882Z"
   },
   {
    "duration": 4,
    "start_time": "2021-10-18T23:15:24.936Z"
   },
   {
    "duration": 38,
    "start_time": "2021-10-18T23:15:24.943Z"
   },
   {
    "duration": 38,
    "start_time": "2021-10-18T23:15:24.983Z"
   },
   {
    "duration": 16,
    "start_time": "2021-10-18T23:15:25.024Z"
   },
   {
    "duration": 13,
    "start_time": "2021-10-18T23:15:25.042Z"
   },
   {
    "duration": 10,
    "start_time": "2021-10-18T23:15:25.058Z"
   },
   {
    "duration": 13,
    "start_time": "2021-10-18T23:16:05.006Z"
   },
   {
    "duration": 49384,
    "start_time": "2021-10-18T23:23:13.490Z"
   },
   {
    "duration": 318,
    "start_time": "2021-10-18T23:30:52.569Z"
   },
   {
    "duration": 326,
    "start_time": "2021-10-18T23:33:05.296Z"
   },
   {
    "duration": 324,
    "start_time": "2021-10-18T23:33:29.030Z"
   },
   {
    "duration": 2026,
    "start_time": "2021-10-18T23:36:22.016Z"
   },
   {
    "duration": 809,
    "start_time": "2021-10-18T23:37:31.673Z"
   },
   {
    "duration": 313,
    "start_time": "2021-10-18T23:38:53.735Z"
   },
   {
    "duration": 444,
    "start_time": "2021-10-18T23:42:56.391Z"
   },
   {
    "duration": 303,
    "start_time": "2021-10-18T23:43:28.300Z"
   },
   {
    "duration": 107,
    "start_time": "2021-10-18T23:44:50.618Z"
   },
   {
    "duration": 274,
    "start_time": "2021-10-18T23:45:08.589Z"
   },
   {
    "duration": 311,
    "start_time": "2021-10-18T23:45:20.653Z"
   },
   {
    "duration": 8,
    "start_time": "2021-10-18T23:46:25.155Z"
   },
   {
    "duration": 100,
    "start_time": "2021-10-18T23:46:56.163Z"
   },
   {
    "duration": 11,
    "start_time": "2021-10-18T23:47:02.747Z"
   },
   {
    "duration": 8,
    "start_time": "2021-10-18T23:47:23.698Z"
   },
   {
    "duration": 7,
    "start_time": "2021-10-18T23:52:40.808Z"
   },
   {
    "duration": 815,
    "start_time": "2021-10-18T23:52:51.438Z"
   },
   {
    "duration": 329,
    "start_time": "2021-10-18T23:54:26.375Z"
   },
   {
    "duration": 1322,
    "start_time": "2021-10-18T23:57:26.582Z"
   },
   {
    "duration": 219258,
    "start_time": "2021-10-18T23:58:12.527Z"
   },
   {
    "duration": 6,
    "start_time": "2021-10-19T00:07:13.130Z"
   },
   {
    "duration": 301,
    "start_time": "2021-10-19T00:07:31.730Z"
   },
   {
    "duration": 24,
    "start_time": "2021-10-19T00:07:46.163Z"
   },
   {
    "duration": 9,
    "start_time": "2021-10-19T00:08:11.630Z"
   },
   {
    "duration": 311,
    "start_time": "2021-10-19T00:08:33.966Z"
   },
   {
    "duration": 9,
    "start_time": "2021-10-19T00:08:57.595Z"
   },
   {
    "duration": 282,
    "start_time": "2021-10-19T00:10:46.027Z"
   },
   {
    "duration": 287,
    "start_time": "2021-10-19T00:11:26.503Z"
   },
   {
    "duration": 295,
    "start_time": "2021-10-19T00:11:44.255Z"
   },
   {
    "duration": 1239,
    "start_time": "2021-10-19T00:12:16.399Z"
   },
   {
    "duration": 11387,
    "start_time": "2021-10-19T00:13:04.300Z"
   },
   {
    "duration": 221265,
    "start_time": "2021-10-19T00:13:54.808Z"
   },
   {
    "duration": 17,
    "start_time": "2021-10-19T00:18:50.160Z"
   },
   {
    "duration": 32,
    "start_time": "2021-10-19T00:20:23.782Z"
   },
   {
    "duration": 2348,
    "start_time": "2021-10-19T00:21:17.148Z"
   },
   {
    "duration": 95,
    "start_time": "2021-10-19T00:21:41.407Z"
   },
   {
    "duration": 2092,
    "start_time": "2021-10-19T00:21:57.237Z"
   },
   {
    "duration": 18,
    "start_time": "2021-10-19T00:22:53.033Z"
   },
   {
    "duration": 48,
    "start_time": "2021-10-19T00:29:08.065Z"
   },
   {
    "duration": 86,
    "start_time": "2021-10-19T00:31:59.212Z"
   },
   {
    "duration": 49647,
    "start_time": "2021-10-19T00:32:06.716Z"
   },
   {
    "duration": 136076,
    "start_time": "2021-10-19T00:33:29.448Z"
   },
   {
    "duration": 51,
    "start_time": "2021-10-19T00:36:29.576Z"
   },
   {
    "duration": 104,
    "start_time": "2021-10-19T00:37:22.997Z"
   },
   {
    "duration": 100,
    "start_time": "2021-10-19T00:38:41.049Z"
   },
   {
    "duration": 92,
    "start_time": "2021-10-19T00:39:00.421Z"
   },
   {
    "duration": 88,
    "start_time": "2021-10-19T00:39:26.950Z"
   },
   {
    "duration": 140,
    "start_time": "2021-10-19T00:39:43.588Z"
   },
   {
    "duration": 88,
    "start_time": "2021-10-19T00:39:49.456Z"
   },
   {
    "duration": 86,
    "start_time": "2021-10-19T00:39:57.078Z"
   },
   {
    "duration": 48,
    "start_time": "2021-10-19T00:40:46.671Z"
   },
   {
    "duration": 7,
    "start_time": "2021-10-19T00:42:30.764Z"
   },
   {
    "duration": 146848,
    "start_time": "2021-10-19T00:44:36.958Z"
   },
   {
    "duration": 308,
    "start_time": "2021-10-19T00:50:32.616Z"
   },
   {
    "duration": 290,
    "start_time": "2021-10-19T00:51:14.919Z"
   },
   {
    "duration": 279,
    "start_time": "2021-10-19T00:52:24.831Z"
   },
   {
    "duration": 13,
    "start_time": "2021-10-19T00:52:40.614Z"
   },
   {
    "duration": 20,
    "start_time": "2021-10-19T00:53:04.255Z"
   },
   {
    "duration": 11,
    "start_time": "2021-10-19T00:53:39.597Z"
   },
   {
    "duration": 288,
    "start_time": "2021-10-19T00:54:45.063Z"
   },
   {
    "duration": 351,
    "start_time": "2021-10-19T00:55:49.482Z"
   },
   {
    "duration": 276,
    "start_time": "2021-10-19T00:56:04.311Z"
   },
   {
    "duration": 288,
    "start_time": "2021-10-19T00:56:27.995Z"
   },
   {
    "duration": 543,
    "start_time": "2021-10-19T00:58:31.166Z"
   },
   {
    "duration": 277,
    "start_time": "2021-10-19T00:58:43.738Z"
   },
   {
    "duration": 662,
    "start_time": "2021-10-19T00:59:31.131Z"
   },
   {
    "duration": 294,
    "start_time": "2021-10-19T00:59:43.323Z"
   },
   {
    "duration": 296,
    "start_time": "2021-10-19T01:00:14.870Z"
   },
   {
    "duration": 286,
    "start_time": "2021-10-19T01:04:42.343Z"
   },
   {
    "duration": 302,
    "start_time": "2021-10-19T01:20:20.705Z"
   },
   {
    "duration": 44571,
    "start_time": "2021-10-19T01:21:36.401Z"
   },
   {
    "duration": 457,
    "start_time": "2021-10-19T01:23:27.913Z"
   },
   {
    "duration": 329,
    "start_time": "2021-10-19T01:34:54.856Z"
   },
   {
    "duration": 1279,
    "start_time": "2021-10-19T01:35:19.473Z"
   },
   {
    "duration": 153,
    "start_time": "2021-10-19T01:35:20.755Z"
   },
   {
    "duration": 40,
    "start_time": "2021-10-19T01:35:20.911Z"
   },
   {
    "duration": 18,
    "start_time": "2021-10-19T01:35:20.954Z"
   },
   {
    "duration": 50,
    "start_time": "2021-10-19T01:35:20.975Z"
   },
   {
    "duration": 5,
    "start_time": "2021-10-19T01:35:21.027Z"
   },
   {
    "duration": 39,
    "start_time": "2021-10-19T01:35:21.034Z"
   },
   {
    "duration": 6,
    "start_time": "2021-10-19T01:35:21.078Z"
   },
   {
    "duration": 184,
    "start_time": "2021-10-19T01:35:21.087Z"
   },
   {
    "duration": 18,
    "start_time": "2021-10-19T01:35:21.274Z"
   },
   {
    "duration": 3,
    "start_time": "2021-10-19T01:35:21.295Z"
   },
   {
    "duration": 3,
    "start_time": "2021-10-19T01:35:21.321Z"
   },
   {
    "duration": 10,
    "start_time": "2021-10-19T01:35:21.326Z"
   },
   {
    "duration": 16,
    "start_time": "2021-10-19T01:35:21.338Z"
   },
   {
    "duration": 32,
    "start_time": "2021-10-19T01:35:21.356Z"
   },
   {
    "duration": 10,
    "start_time": "2021-10-19T01:35:21.422Z"
   },
   {
    "duration": 15,
    "start_time": "2021-10-19T01:35:21.435Z"
   },
   {
    "duration": 6,
    "start_time": "2021-10-19T01:35:21.453Z"
   },
   {
    "duration": 12,
    "start_time": "2021-10-19T01:35:21.461Z"
   },
   {
    "duration": 67,
    "start_time": "2021-10-19T01:35:21.475Z"
   },
   {
    "duration": 14,
    "start_time": "2021-10-19T01:35:21.544Z"
   },
   {
    "duration": 19,
    "start_time": "2021-10-19T01:35:21.560Z"
   },
   {
    "duration": 5,
    "start_time": "2021-10-19T01:35:21.584Z"
   },
   {
    "duration": 64,
    "start_time": "2021-10-19T01:35:21.591Z"
   },
   {
    "duration": 337,
    "start_time": "2021-10-19T01:35:21.657Z"
   },
   {
    "duration": 9,
    "start_time": "2021-10-19T01:35:21.996Z"
   },
   {
    "duration": 479,
    "start_time": "2021-10-19T01:35:22.007Z"
   },
   {
    "duration": 133,
    "start_time": "2021-10-19T01:35:22.356Z"
   },
   {
    "duration": 128,
    "start_time": "2021-10-19T01:35:22.362Z"
   },
   {
    "duration": 127,
    "start_time": "2021-10-19T01:35:22.365Z"
   },
   {
    "duration": 1341,
    "start_time": "2021-10-19T01:37:00.497Z"
   },
   {
    "duration": 107,
    "start_time": "2021-10-19T01:37:01.840Z"
   },
   {
    "duration": 42,
    "start_time": "2021-10-19T01:37:01.950Z"
   },
   {
    "duration": 19,
    "start_time": "2021-10-19T01:37:01.994Z"
   },
   {
    "duration": 31,
    "start_time": "2021-10-19T01:37:02.022Z"
   },
   {
    "duration": 19,
    "start_time": "2021-10-19T01:37:02.055Z"
   },
   {
    "duration": 27,
    "start_time": "2021-10-19T01:37:02.076Z"
   },
   {
    "duration": 6,
    "start_time": "2021-10-19T01:37:02.124Z"
   },
   {
    "duration": 179,
    "start_time": "2021-10-19T01:37:02.133Z"
   },
   {
    "duration": 20,
    "start_time": "2021-10-19T01:37:02.315Z"
   },
   {
    "duration": 4,
    "start_time": "2021-10-19T01:37:02.337Z"
   },
   {
    "duration": 10,
    "start_time": "2021-10-19T01:37:02.343Z"
   },
   {
    "duration": 16,
    "start_time": "2021-10-19T01:37:02.355Z"
   },
   {
    "duration": 22,
    "start_time": "2021-10-19T01:37:02.374Z"
   },
   {
    "duration": 49,
    "start_time": "2021-10-19T01:37:02.399Z"
   },
   {
    "duration": 10,
    "start_time": "2021-10-19T01:37:02.450Z"
   },
   {
    "duration": 33,
    "start_time": "2021-10-19T01:37:02.463Z"
   },
   {
    "duration": 25,
    "start_time": "2021-10-19T01:37:02.499Z"
   },
   {
    "duration": 11,
    "start_time": "2021-10-19T01:37:02.528Z"
   },
   {
    "duration": 37,
    "start_time": "2021-10-19T01:37:02.543Z"
   },
   {
    "duration": 44,
    "start_time": "2021-10-19T01:37:02.583Z"
   },
   {
    "duration": 19,
    "start_time": "2021-10-19T01:37:02.630Z"
   },
   {
    "duration": 6,
    "start_time": "2021-10-19T01:37:02.655Z"
   },
   {
    "duration": 73,
    "start_time": "2021-10-19T01:37:02.664Z"
   },
   {
    "duration": 482,
    "start_time": "2021-10-19T01:37:02.740Z"
   },
   {
    "duration": 12,
    "start_time": "2021-10-19T01:37:03.225Z"
   },
   {
    "duration": 14,
    "start_time": "2021-10-19T01:37:03.240Z"
   },
   {
    "duration": 311,
    "start_time": "2021-10-19T01:37:03.256Z"
   },
   {
    "duration": 306,
    "start_time": "2021-10-19T01:37:03.570Z"
   },
   {
    "duration": 449,
    "start_time": "2021-10-19T01:37:03.878Z"
   },
   {
    "duration": 30898,
    "start_time": "2021-10-19T01:41:44.766Z"
   },
   {
    "duration": 701,
    "start_time": "2021-10-19T01:43:17.964Z"
   },
   {
    "duration": 560,
    "start_time": "2021-10-19T01:43:43.845Z"
   },
   {
    "duration": 689,
    "start_time": "2021-10-19T01:44:09.633Z"
   },
   {
    "duration": 449,
    "start_time": "2021-10-19T01:44:22.577Z"
   },
   {
    "duration": 382,
    "start_time": "2021-10-19T01:44:43.722Z"
   },
   {
    "duration": 328,
    "start_time": "2021-10-19T01:45:03.350Z"
   },
   {
    "duration": 326,
    "start_time": "2021-10-19T01:45:42.153Z"
   },
   {
    "duration": 512,
    "start_time": "2021-10-19T01:46:19.882Z"
   },
   {
    "duration": 337,
    "start_time": "2021-10-19T01:46:35.540Z"
   },
   {
    "duration": 367,
    "start_time": "2021-10-19T01:51:59.220Z"
   },
   {
    "duration": 399,
    "start_time": "2021-10-19T12:40:07.771Z"
   },
   {
    "duration": 1442,
    "start_time": "2021-10-19T12:40:20.874Z"
   },
   {
    "duration": 116,
    "start_time": "2021-10-19T12:40:22.318Z"
   },
   {
    "duration": 44,
    "start_time": "2021-10-19T12:40:22.437Z"
   },
   {
    "duration": 26,
    "start_time": "2021-10-19T12:40:22.485Z"
   },
   {
    "duration": 32,
    "start_time": "2021-10-19T12:40:22.514Z"
   },
   {
    "duration": 5,
    "start_time": "2021-10-19T12:40:22.548Z"
   },
   {
    "duration": 54,
    "start_time": "2021-10-19T12:40:22.555Z"
   },
   {
    "duration": 5,
    "start_time": "2021-10-19T12:40:22.611Z"
   },
   {
    "duration": 189,
    "start_time": "2021-10-19T12:40:22.621Z"
   },
   {
    "duration": 19,
    "start_time": "2021-10-19T12:40:22.813Z"
   },
   {
    "duration": 4,
    "start_time": "2021-10-19T12:40:22.835Z"
   },
   {
    "duration": 7,
    "start_time": "2021-10-19T12:40:22.841Z"
   },
   {
    "duration": 15,
    "start_time": "2021-10-19T12:40:22.850Z"
   },
   {
    "duration": 44,
    "start_time": "2021-10-19T12:40:22.867Z"
   },
   {
    "duration": 39,
    "start_time": "2021-10-19T12:40:22.913Z"
   },
   {
    "duration": 11,
    "start_time": "2021-10-19T12:40:22.954Z"
   },
   {
    "duration": 42,
    "start_time": "2021-10-19T12:40:22.967Z"
   },
   {
    "duration": 8,
    "start_time": "2021-10-19T12:40:23.012Z"
   },
   {
    "duration": 13,
    "start_time": "2021-10-19T12:40:23.022Z"
   },
   {
    "duration": 62,
    "start_time": "2021-10-19T12:40:23.038Z"
   },
   {
    "duration": 16,
    "start_time": "2021-10-19T12:40:23.103Z"
   },
   {
    "duration": 18,
    "start_time": "2021-10-19T12:40:23.121Z"
   },
   {
    "duration": 5,
    "start_time": "2021-10-19T12:40:23.141Z"
   },
   {
    "duration": 73,
    "start_time": "2021-10-19T12:40:23.148Z"
   },
   {
    "duration": 336,
    "start_time": "2021-10-19T12:40:23.223Z"
   },
   {
    "duration": 9,
    "start_time": "2021-10-19T12:40:23.562Z"
   },
   {
    "duration": 30,
    "start_time": "2021-10-19T12:40:23.576Z"
   },
   {
    "duration": 319,
    "start_time": "2021-10-19T12:40:23.609Z"
   },
   {
    "duration": 299,
    "start_time": "2021-10-19T12:40:23.931Z"
   },
   {
    "duration": 446,
    "start_time": "2021-10-19T12:40:24.233Z"
   },
   {
    "duration": 6,
    "start_time": "2021-10-19T12:40:24.681Z"
   },
   {
    "duration": 12,
    "start_time": "2021-10-19T12:40:46.893Z"
   },
   {
    "duration": 18,
    "start_time": "2021-10-19T12:41:47.872Z"
   },
   {
    "duration": 17,
    "start_time": "2021-10-19T12:44:33.018Z"
   },
   {
    "duration": 445,
    "start_time": "2021-10-19T12:46:11.900Z"
   },
   {
    "duration": 541,
    "start_time": "2021-10-19T12:51:31.083Z"
   },
   {
    "duration": 1377,
    "start_time": "2021-10-19T13:43:43.594Z"
   },
   {
    "duration": 116,
    "start_time": "2021-10-19T13:43:44.974Z"
   },
   {
    "duration": 44,
    "start_time": "2021-10-19T13:43:45.093Z"
   },
   {
    "duration": 20,
    "start_time": "2021-10-19T13:43:45.140Z"
   },
   {
    "duration": 48,
    "start_time": "2021-10-19T13:43:45.163Z"
   },
   {
    "duration": 5,
    "start_time": "2021-10-19T13:43:45.213Z"
   },
   {
    "duration": 27,
    "start_time": "2021-10-19T13:43:45.220Z"
   },
   {
    "duration": 11,
    "start_time": "2021-10-19T13:43:45.251Z"
   },
   {
    "duration": 193,
    "start_time": "2021-10-19T13:43:45.265Z"
   },
   {
    "duration": 19,
    "start_time": "2021-10-19T13:43:45.460Z"
   },
   {
    "duration": 20,
    "start_time": "2021-10-19T13:43:45.481Z"
   },
   {
    "duration": 6,
    "start_time": "2021-10-19T13:43:45.504Z"
   },
   {
    "duration": 10,
    "start_time": "2021-10-19T13:43:45.513Z"
   },
   {
    "duration": 19,
    "start_time": "2021-10-19T13:43:45.525Z"
   },
   {
    "duration": 68,
    "start_time": "2021-10-19T13:43:45.547Z"
   },
   {
    "duration": 11,
    "start_time": "2021-10-19T13:43:45.617Z"
   },
   {
    "duration": 15,
    "start_time": "2021-10-19T13:43:45.630Z"
   },
   {
    "duration": 6,
    "start_time": "2021-10-19T13:43:45.647Z"
   },
   {
    "duration": 55,
    "start_time": "2021-10-19T13:43:45.655Z"
   },
   {
    "duration": 29,
    "start_time": "2021-10-19T13:43:45.713Z"
   },
   {
    "duration": 14,
    "start_time": "2021-10-19T13:43:45.744Z"
   },
   {
    "duration": 54,
    "start_time": "2021-10-19T13:43:45.760Z"
   },
   {
    "duration": 5,
    "start_time": "2021-10-19T13:43:45.818Z"
   },
   {
    "duration": 44,
    "start_time": "2021-10-19T13:43:45.826Z"
   },
   {
    "duration": 347,
    "start_time": "2021-10-19T13:43:45.873Z"
   },
   {
    "duration": 8,
    "start_time": "2021-10-19T13:43:46.223Z"
   },
   {
    "duration": 15,
    "start_time": "2021-10-19T13:43:46.234Z"
   },
   {
    "duration": 328,
    "start_time": "2021-10-19T13:43:46.252Z"
   },
   {
    "duration": 293,
    "start_time": "2021-10-19T13:43:46.583Z"
   },
   {
    "duration": 464,
    "start_time": "2021-10-19T13:43:46.878Z"
   },
   {
    "duration": 18,
    "start_time": "2021-10-19T13:43:47.344Z"
   },
   {
    "duration": 465,
    "start_time": "2021-10-19T13:43:47.364Z"
   },
   {
    "duration": 1069,
    "start_time": "2021-10-28T21:18:12.203Z"
   },
   {
    "duration": 91,
    "start_time": "2021-10-28T21:18:13.274Z"
   },
   {
    "duration": 27,
    "start_time": "2021-10-28T21:18:13.367Z"
   },
   {
    "duration": 15,
    "start_time": "2021-10-28T21:18:13.396Z"
   },
   {
    "duration": 19,
    "start_time": "2021-10-28T21:18:13.413Z"
   },
   {
    "duration": 3,
    "start_time": "2021-10-28T21:18:13.434Z"
   },
   {
    "duration": 16,
    "start_time": "2021-10-28T21:18:13.439Z"
   },
   {
    "duration": 4,
    "start_time": "2021-10-28T21:18:13.478Z"
   },
   {
    "duration": 113,
    "start_time": "2021-10-28T21:18:13.484Z"
   },
   {
    "duration": 19,
    "start_time": "2021-10-28T21:18:13.599Z"
   },
   {
    "duration": 4,
    "start_time": "2021-10-28T21:18:13.620Z"
   },
   {
    "duration": 36,
    "start_time": "2021-10-28T21:18:13.625Z"
   },
   {
    "duration": 15,
    "start_time": "2021-10-28T21:18:13.663Z"
   },
   {
    "duration": 19,
    "start_time": "2021-10-28T21:18:13.680Z"
   },
   {
    "duration": 28,
    "start_time": "2021-10-28T21:18:13.701Z"
   },
   {
    "duration": 6,
    "start_time": "2021-10-28T21:18:13.731Z"
   },
   {
    "duration": 12,
    "start_time": "2021-10-28T21:18:13.738Z"
   },
   {
    "duration": 24,
    "start_time": "2021-10-28T21:18:13.752Z"
   },
   {
    "duration": 7,
    "start_time": "2021-10-28T21:18:13.778Z"
   },
   {
    "duration": 21,
    "start_time": "2021-10-28T21:18:13.787Z"
   },
   {
    "duration": 14,
    "start_time": "2021-10-28T21:18:13.810Z"
   },
   {
    "duration": 16,
    "start_time": "2021-10-28T21:18:13.825Z"
   },
   {
    "duration": 7,
    "start_time": "2021-10-28T21:18:13.843Z"
   },
   {
    "duration": 41,
    "start_time": "2021-10-28T21:18:13.852Z"
   },
   {
    "duration": 222,
    "start_time": "2021-10-28T21:18:13.895Z"
   },
   {
    "duration": 7,
    "start_time": "2021-10-28T21:18:14.118Z"
   },
   {
    "duration": 7,
    "start_time": "2021-10-28T21:18:14.126Z"
   },
   {
    "duration": 197,
    "start_time": "2021-10-28T21:18:14.135Z"
   },
   {
    "duration": 178,
    "start_time": "2021-10-28T21:18:14.333Z"
   },
   {
    "duration": 300,
    "start_time": "2021-10-28T21:18:14.513Z"
   },
   {
    "duration": 11,
    "start_time": "2021-10-28T21:18:14.816Z"
   },
   {
    "duration": 477,
    "start_time": "2021-10-28T21:18:14.829Z"
   },
   {
    "duration": 446,
    "start_time": "2021-10-28T21:49:26.293Z"
   },
   {
    "duration": 87,
    "start_time": "2021-10-28T21:49:26.741Z"
   },
   {
    "duration": 28,
    "start_time": "2021-10-28T21:49:26.830Z"
   },
   {
    "duration": 14,
    "start_time": "2021-10-28T21:49:26.860Z"
   },
   {
    "duration": 17,
    "start_time": "2021-10-28T21:49:26.876Z"
   },
   {
    "duration": 5,
    "start_time": "2021-10-28T21:49:26.895Z"
   },
   {
    "duration": 20,
    "start_time": "2021-10-28T21:49:26.901Z"
   },
   {
    "duration": 5,
    "start_time": "2021-10-28T21:49:26.924Z"
   },
   {
    "duration": 128,
    "start_time": "2021-10-28T21:49:26.931Z"
   },
   {
    "duration": 24,
    "start_time": "2021-10-28T21:49:27.061Z"
   },
   {
    "duration": 4,
    "start_time": "2021-10-28T21:49:27.086Z"
   },
   {
    "duration": 24,
    "start_time": "2021-10-28T21:49:27.092Z"
   },
   {
    "duration": 5,
    "start_time": "2021-10-28T21:49:27.118Z"
   },
   {
    "duration": 11,
    "start_time": "2021-10-28T21:49:27.125Z"
   },
   {
    "duration": 55,
    "start_time": "2021-10-28T21:49:27.137Z"
   },
   {
    "duration": 7,
    "start_time": "2021-10-28T21:49:27.193Z"
   },
   {
    "duration": 11,
    "start_time": "2021-10-28T21:49:27.202Z"
   },
   {
    "duration": 4,
    "start_time": "2021-10-28T21:49:27.214Z"
   },
   {
    "duration": 8,
    "start_time": "2021-10-28T21:49:27.220Z"
   },
   {
    "duration": 46,
    "start_time": "2021-10-28T21:49:27.230Z"
   },
   {
    "duration": 10,
    "start_time": "2021-10-28T21:49:27.278Z"
   },
   {
    "duration": 13,
    "start_time": "2021-10-28T21:49:27.290Z"
   },
   {
    "duration": 4,
    "start_time": "2021-10-28T21:49:27.307Z"
   },
   {
    "duration": 26,
    "start_time": "2021-10-28T21:49:27.313Z"
   },
   {
    "duration": 227,
    "start_time": "2021-10-28T21:49:27.341Z"
   },
   {
    "duration": 10,
    "start_time": "2021-10-28T21:49:27.569Z"
   },
   {
    "duration": 9,
    "start_time": "2021-10-28T21:49:27.580Z"
   },
   {
    "duration": 189,
    "start_time": "2021-10-28T21:49:27.590Z"
   },
   {
    "duration": 253,
    "start_time": "2021-10-28T21:49:27.781Z"
   },
   {
    "duration": 231,
    "start_time": "2021-10-28T21:49:28.035Z"
   },
   {
    "duration": 11,
    "start_time": "2021-10-28T21:49:28.276Z"
   },
   {
    "duration": 269,
    "start_time": "2021-10-28T21:49:28.289Z"
   },
   {
    "duration": 21,
    "start_time": "2021-10-28T21:59:16.795Z"
   },
   {
    "duration": 4,
    "start_time": "2021-10-28T22:02:13.230Z"
   },
   {
    "duration": 14,
    "start_time": "2021-10-28T22:02:22.853Z"
   },
   {
    "duration": 13,
    "start_time": "2021-10-28T22:03:00.896Z"
   },
   {
    "duration": 12,
    "start_time": "2021-10-28T22:03:07.430Z"
   },
   {
    "duration": 9,
    "start_time": "2021-10-28T22:03:36.357Z"
   },
   {
    "duration": 15,
    "start_time": "2021-10-28T22:03:51.373Z"
   },
   {
    "duration": 5,
    "start_time": "2021-10-28T22:07:20.495Z"
   },
   {
    "duration": 15,
    "start_time": "2021-10-28T22:07:33.989Z"
   },
   {
    "duration": 4,
    "start_time": "2021-10-28T22:07:55.846Z"
   },
   {
    "duration": 7,
    "start_time": "2021-10-28T22:15:37.131Z"
   },
   {
    "duration": 466,
    "start_time": "2021-10-28T22:16:29.689Z"
   },
   {
    "duration": 116,
    "start_time": "2021-10-28T22:16:36.673Z"
   },
   {
    "duration": 4,
    "start_time": "2021-10-28T22:16:43.890Z"
   },
   {
    "duration": 4,
    "start_time": "2021-10-28T22:17:50.011Z"
   },
   {
    "duration": 5,
    "start_time": "2021-10-28T22:29:59.015Z"
   },
   {
    "duration": 469,
    "start_time": "2021-10-28T22:32:04.678Z"
   },
   {
    "duration": 346,
    "start_time": "2021-10-28T22:32:24.200Z"
   },
   {
    "duration": 24,
    "start_time": "2021-10-28T22:33:34.107Z"
   },
   {
    "duration": 91,
    "start_time": "2021-10-28T22:33:34.133Z"
   },
   {
    "duration": 28,
    "start_time": "2021-10-28T22:33:34.226Z"
   },
   {
    "duration": 15,
    "start_time": "2021-10-28T22:33:34.256Z"
   },
   {
    "duration": 17,
    "start_time": "2021-10-28T22:33:34.273Z"
   },
   {
    "duration": 5,
    "start_time": "2021-10-28T22:33:34.292Z"
   },
   {
    "duration": 20,
    "start_time": "2021-10-28T22:33:34.299Z"
   },
   {
    "duration": 3,
    "start_time": "2021-10-28T22:33:34.322Z"
   },
   {
    "duration": 134,
    "start_time": "2021-10-28T22:33:34.327Z"
   },
   {
    "duration": 33,
    "start_time": "2021-10-28T22:33:34.462Z"
   },
   {
    "duration": 3,
    "start_time": "2021-10-28T22:33:34.497Z"
   },
   {
    "duration": 26,
    "start_time": "2021-10-28T22:33:34.502Z"
   },
   {
    "duration": 5,
    "start_time": "2021-10-28T22:33:34.530Z"
   },
   {
    "duration": 10,
    "start_time": "2021-10-28T22:33:34.537Z"
   },
   {
    "duration": 26,
    "start_time": "2021-10-28T22:33:34.576Z"
   },
   {
    "duration": 6,
    "start_time": "2021-10-28T22:33:34.604Z"
   },
   {
    "duration": 12,
    "start_time": "2021-10-28T22:33:34.611Z"
   },
   {
    "duration": 4,
    "start_time": "2021-10-28T22:33:34.624Z"
   },
   {
    "duration": 8,
    "start_time": "2021-10-28T22:33:34.630Z"
   },
   {
    "duration": 51,
    "start_time": "2021-10-28T22:33:34.640Z"
   },
   {
    "duration": 9,
    "start_time": "2021-10-28T22:33:34.692Z"
   },
   {
    "duration": 11,
    "start_time": "2021-10-28T22:33:34.703Z"
   },
   {
    "duration": 3,
    "start_time": "2021-10-28T22:33:34.718Z"
   },
   {
    "duration": 25,
    "start_time": "2021-10-28T22:33:34.723Z"
   },
   {
    "duration": 230,
    "start_time": "2021-10-28T22:33:34.749Z"
   },
   {
    "duration": 5,
    "start_time": "2021-10-28T22:33:34.981Z"
   },
   {
    "duration": 12,
    "start_time": "2021-10-28T22:33:34.987Z"
   },
   {
    "duration": 197,
    "start_time": "2021-10-28T22:33:35.000Z"
   },
   {
    "duration": 181,
    "start_time": "2021-10-28T22:33:35.198Z"
   },
   {
    "duration": 233,
    "start_time": "2021-10-28T22:33:35.381Z"
   },
   {
    "duration": 11,
    "start_time": "2021-10-28T22:33:35.616Z"
   },
   {
    "duration": 281,
    "start_time": "2021-10-28T22:33:35.629Z"
   },
   {
    "duration": 4,
    "start_time": "2021-10-28T22:33:35.912Z"
   },
   {
    "duration": 17,
    "start_time": "2021-10-28T22:33:35.918Z"
   },
   {
    "duration": 6,
    "start_time": "2021-10-28T22:33:35.937Z"
   },
   {
    "duration": 37,
    "start_time": "2021-10-28T22:33:35.945Z"
   },
   {
    "duration": 10,
    "start_time": "2021-10-28T22:33:35.985Z"
   },
   {
    "duration": 4,
    "start_time": "2021-10-28T22:33:35.997Z"
   },
   {
    "duration": 6,
    "start_time": "2021-10-28T22:33:36.003Z"
   },
   {
    "duration": 365,
    "start_time": "2021-10-28T22:33:36.011Z"
   },
   {
    "duration": 4,
    "start_time": "2021-10-28T22:34:45.607Z"
   },
   {
    "duration": 348,
    "start_time": "2021-10-28T22:36:28.814Z"
   },
   {
    "duration": 4,
    "start_time": "2021-10-28T22:38:46.326Z"
   },
   {
    "duration": 2516,
    "start_time": "2021-10-28T22:38:48.800Z"
   },
   {
    "duration": 5,
    "start_time": "2021-10-28T22:46:18.017Z"
   },
   {
    "duration": 352,
    "start_time": "2021-10-28T22:46:20.417Z"
   },
   {
    "duration": 117,
    "start_time": "2021-10-28T22:49:06.057Z"
   },
   {
    "duration": 5,
    "start_time": "2021-10-28T22:49:13.001Z"
   },
   {
    "duration": 348,
    "start_time": "2021-10-28T22:49:14.259Z"
   },
   {
    "duration": 4,
    "start_time": "2021-10-28T22:49:37.337Z"
   },
   {
    "duration": 2346,
    "start_time": "2021-10-28T22:49:38.123Z"
   },
   {
    "duration": 122,
    "start_time": "2021-10-28T22:50:09.843Z"
   },
   {
    "duration": 4,
    "start_time": "2021-10-28T22:50:14.851Z"
   },
   {
    "duration": 354,
    "start_time": "2021-10-28T22:50:16.530Z"
   },
   {
    "duration": 5,
    "start_time": "2021-10-28T22:51:29.315Z"
   },
   {
    "duration": 3447,
    "start_time": "2021-10-28T22:51:30.715Z"
   },
   {
    "duration": 4,
    "start_time": "2021-10-28T22:51:56.851Z"
   },
   {
    "duration": 2362,
    "start_time": "2021-10-28T22:51:58.028Z"
   },
   {
    "duration": 4,
    "start_time": "2021-10-28T22:58:02.804Z"
   },
   {
    "duration": 8205,
    "start_time": "2021-10-28T22:58:03.757Z"
   },
   {
    "duration": 4,
    "start_time": "2021-10-28T23:00:48.046Z"
   },
   {
    "duration": 344,
    "start_time": "2021-10-28T23:00:58.422Z"
   },
   {
    "duration": 5,
    "start_time": "2021-10-28T23:09:08.583Z"
   },
   {
    "duration": 376,
    "start_time": "2021-10-28T23:09:11.089Z"
   },
   {
    "duration": 1585,
    "start_time": "2021-10-28T23:11:32.387Z"
   },
   {
    "duration": 90,
    "start_time": "2021-10-28T23:11:33.976Z"
   },
   {
    "duration": 29,
    "start_time": "2021-10-28T23:11:34.068Z"
   },
   {
    "duration": 14,
    "start_time": "2021-10-28T23:11:34.099Z"
   },
   {
    "duration": 20,
    "start_time": "2021-10-28T23:11:34.115Z"
   },
   {
    "duration": 4,
    "start_time": "2021-10-28T23:11:34.136Z"
   },
   {
    "duration": 42,
    "start_time": "2021-10-28T23:11:34.142Z"
   },
   {
    "duration": 5,
    "start_time": "2021-10-28T23:11:34.187Z"
   },
   {
    "duration": 121,
    "start_time": "2021-10-28T23:11:34.194Z"
   },
   {
    "duration": 20,
    "start_time": "2021-10-28T23:11:34.317Z"
   },
   {
    "duration": 3,
    "start_time": "2021-10-28T23:11:34.339Z"
   },
   {
    "duration": 41,
    "start_time": "2021-10-28T23:11:34.344Z"
   },
   {
    "duration": 7,
    "start_time": "2021-10-28T23:11:34.387Z"
   },
   {
    "duration": 12,
    "start_time": "2021-10-28T23:11:34.395Z"
   },
   {
    "duration": 26,
    "start_time": "2021-10-28T23:11:34.408Z"
   },
   {
    "duration": 7,
    "start_time": "2021-10-28T23:11:34.436Z"
   },
   {
    "duration": 35,
    "start_time": "2021-10-28T23:11:34.445Z"
   },
   {
    "duration": 4,
    "start_time": "2021-10-28T23:11:34.482Z"
   },
   {
    "duration": 9,
    "start_time": "2021-10-28T23:11:34.488Z"
   },
   {
    "duration": 18,
    "start_time": "2021-10-28T23:11:34.498Z"
   },
   {
    "duration": 9,
    "start_time": "2021-10-28T23:11:34.518Z"
   },
   {
    "duration": 12,
    "start_time": "2021-10-28T23:11:34.529Z"
   },
   {
    "duration": 4,
    "start_time": "2021-10-28T23:11:34.576Z"
   },
   {
    "duration": 27,
    "start_time": "2021-10-28T23:11:34.582Z"
   },
   {
    "duration": 213,
    "start_time": "2021-10-28T23:11:34.611Z"
   },
   {
    "duration": 8,
    "start_time": "2021-10-28T23:11:34.826Z"
   },
   {
    "duration": 7,
    "start_time": "2021-10-28T23:11:34.836Z"
   },
   {
    "duration": 200,
    "start_time": "2021-10-28T23:11:34.845Z"
   },
   {
    "duration": 188,
    "start_time": "2021-10-28T23:11:35.048Z"
   },
   {
    "duration": 245,
    "start_time": "2021-10-28T23:11:35.239Z"
   },
   {
    "duration": 14,
    "start_time": "2021-10-28T23:11:35.486Z"
   },
   {
    "duration": 279,
    "start_time": "2021-10-28T23:11:35.502Z"
   },
   {
    "duration": 4,
    "start_time": "2021-10-28T23:11:35.783Z"
   },
   {
    "duration": 16,
    "start_time": "2021-10-28T23:11:35.789Z"
   },
   {
    "duration": 5,
    "start_time": "2021-10-28T23:11:35.807Z"
   },
   {
    "duration": 16,
    "start_time": "2021-10-28T23:11:35.814Z"
   },
   {
    "duration": 8,
    "start_time": "2021-10-28T23:11:35.832Z"
   },
   {
    "duration": 4,
    "start_time": "2021-10-28T23:11:35.841Z"
   },
   {
    "duration": 5,
    "start_time": "2021-10-28T23:11:35.877Z"
   },
   {
    "duration": 466,
    "start_time": "2021-10-28T23:11:35.884Z"
   },
   {
    "duration": 58,
    "start_time": "2021-10-28T23:11:36.294Z"
   },
   {
    "duration": 4,
    "start_time": "2021-10-28T23:11:58.828Z"
   },
   {
    "duration": 264599,
    "start_time": "2021-10-28T23:12:01.523Z"
   },
   {
    "duration": 4,
    "start_time": "2021-10-28T23:22:43.489Z"
   },
   {
    "duration": 563,
    "start_time": "2021-10-28T23:28:57.504Z"
   },
   {
    "duration": 4,
    "start_time": "2021-10-28T23:29:18.609Z"
   },
   {
    "duration": 348,
    "start_time": "2021-10-28T23:46:19.547Z"
   },
   {
    "duration": 1033,
    "start_time": "2021-10-28T23:46:44.868Z"
   },
   {
    "duration": 391,
    "start_time": "2021-10-28T23:47:12.141Z"
   },
   {
    "duration": 359,
    "start_time": "2021-10-28T23:47:44.483Z"
   },
   {
    "duration": 361,
    "start_time": "2021-10-28T23:48:02.501Z"
   },
   {
    "duration": 16,
    "start_time": "2021-10-28T23:49:10.916Z"
   },
   {
    "duration": 1554,
    "start_time": "2021-10-28T23:51:49.969Z"
   },
   {
    "duration": 89,
    "start_time": "2021-10-28T23:51:51.525Z"
   },
   {
    "duration": 29,
    "start_time": "2021-10-28T23:51:51.617Z"
   },
   {
    "duration": 14,
    "start_time": "2021-10-28T23:51:51.649Z"
   },
   {
    "duration": 20,
    "start_time": "2021-10-28T23:51:51.665Z"
   },
   {
    "duration": 4,
    "start_time": "2021-10-28T23:51:51.686Z"
   },
   {
    "duration": 16,
    "start_time": "2021-10-28T23:51:51.691Z"
   },
   {
    "duration": 3,
    "start_time": "2021-10-28T23:51:51.710Z"
   },
   {
    "duration": 127,
    "start_time": "2021-10-28T23:51:51.716Z"
   },
   {
    "duration": 19,
    "start_time": "2021-10-28T23:51:51.845Z"
   },
   {
    "duration": 13,
    "start_time": "2021-10-28T23:51:51.866Z"
   },
   {
    "duration": 25,
    "start_time": "2021-10-28T23:51:51.880Z"
   },
   {
    "duration": 6,
    "start_time": "2021-10-28T23:51:51.907Z"
   },
   {
    "duration": 11,
    "start_time": "2021-10-28T23:51:51.915Z"
   },
   {
    "duration": 55,
    "start_time": "2021-10-28T23:51:51.928Z"
   },
   {
    "duration": 7,
    "start_time": "2021-10-28T23:51:51.984Z"
   },
   {
    "duration": 15,
    "start_time": "2021-10-28T23:51:51.993Z"
   },
   {
    "duration": 19,
    "start_time": "2021-10-28T23:51:52.010Z"
   },
   {
    "duration": 18,
    "start_time": "2021-10-28T23:51:52.030Z"
   },
   {
    "duration": 33,
    "start_time": "2021-10-28T23:51:52.049Z"
   },
   {
    "duration": 9,
    "start_time": "2021-10-28T23:51:52.083Z"
   },
   {
    "duration": 13,
    "start_time": "2021-10-28T23:51:52.094Z"
   },
   {
    "duration": 7,
    "start_time": "2021-10-28T23:51:52.110Z"
   },
   {
    "duration": 30,
    "start_time": "2021-10-28T23:51:52.119Z"
   },
   {
    "duration": 229,
    "start_time": "2021-10-28T23:51:52.151Z"
   },
   {
    "duration": 7,
    "start_time": "2021-10-28T23:51:52.382Z"
   },
   {
    "duration": 8,
    "start_time": "2021-10-28T23:51:52.391Z"
   },
   {
    "duration": 213,
    "start_time": "2021-10-28T23:51:52.401Z"
   },
   {
    "duration": 188,
    "start_time": "2021-10-28T23:51:52.616Z"
   },
   {
    "duration": 230,
    "start_time": "2021-10-28T23:51:52.807Z"
   },
   {
    "duration": 12,
    "start_time": "2021-10-28T23:51:53.039Z"
   },
   {
    "duration": 273,
    "start_time": "2021-10-28T23:51:53.053Z"
   },
   {
    "duration": 4,
    "start_time": "2021-10-28T23:51:53.329Z"
   },
   {
    "duration": 16,
    "start_time": "2021-10-28T23:51:53.335Z"
   },
   {
    "duration": 24,
    "start_time": "2021-10-28T23:51:53.353Z"
   },
   {
    "duration": 13,
    "start_time": "2021-10-28T23:51:53.379Z"
   },
   {
    "duration": 12,
    "start_time": "2021-10-28T23:51:53.394Z"
   },
   {
    "duration": 4,
    "start_time": "2021-10-28T23:51:53.407Z"
   },
   {
    "duration": 13,
    "start_time": "2021-10-28T23:51:53.413Z"
   },
   {
    "duration": 6,
    "start_time": "2021-10-28T23:51:53.428Z"
   },
   {
    "duration": 634673,
    "start_time": "2021-10-28T23:51:53.436Z"
   },
   {
    "duration": 5,
    "start_time": "2021-10-29T00:02:28.111Z"
   },
   {
    "duration": 16,
    "start_time": "2021-10-29T00:02:28.118Z"
   },
   {
    "duration": 7,
    "start_time": "2021-10-29T00:06:42.028Z"
   },
   {
    "duration": 92,
    "start_time": "2021-10-29T00:06:42.037Z"
   },
   {
    "duration": 29,
    "start_time": "2021-10-29T00:06:42.131Z"
   },
   {
    "duration": 15,
    "start_time": "2021-10-29T00:06:42.162Z"
   },
   {
    "duration": 18,
    "start_time": "2021-10-29T00:06:42.179Z"
   },
   {
    "duration": 5,
    "start_time": "2021-10-29T00:06:42.199Z"
   },
   {
    "duration": 17,
    "start_time": "2021-10-29T00:06:42.205Z"
   },
   {
    "duration": 4,
    "start_time": "2021-10-29T00:06:42.224Z"
   },
   {
    "duration": 147,
    "start_time": "2021-10-29T00:06:42.232Z"
   },
   {
    "duration": 20,
    "start_time": "2021-10-29T00:06:42.381Z"
   },
   {
    "duration": 4,
    "start_time": "2021-10-29T00:06:42.403Z"
   },
   {
    "duration": 24,
    "start_time": "2021-10-29T00:06:42.409Z"
   },
   {
    "duration": 6,
    "start_time": "2021-10-29T00:06:42.435Z"
   },
   {
    "duration": 38,
    "start_time": "2021-10-29T00:06:42.443Z"
   },
   {
    "duration": 27,
    "start_time": "2021-10-29T00:06:42.484Z"
   },
   {
    "duration": 8,
    "start_time": "2021-10-29T00:06:42.513Z"
   },
   {
    "duration": 17,
    "start_time": "2021-10-29T00:06:42.523Z"
   },
   {
    "duration": 39,
    "start_time": "2021-10-29T00:06:42.542Z"
   },
   {
    "duration": 9,
    "start_time": "2021-10-29T00:06:42.583Z"
   },
   {
    "duration": 20,
    "start_time": "2021-10-29T00:06:42.594Z"
   },
   {
    "duration": 11,
    "start_time": "2021-10-29T00:06:42.616Z"
   },
   {
    "duration": 52,
    "start_time": "2021-10-29T00:06:42.629Z"
   },
   {
    "duration": 4,
    "start_time": "2021-10-29T00:06:42.683Z"
   },
   {
    "duration": 29,
    "start_time": "2021-10-29T00:06:42.689Z"
   },
   {
    "duration": 294,
    "start_time": "2021-10-29T00:06:42.721Z"
   },
   {
    "duration": 7,
    "start_time": "2021-10-29T00:06:43.017Z"
   },
   {
    "duration": 7,
    "start_time": "2021-10-29T00:06:43.027Z"
   },
   {
    "duration": 199,
    "start_time": "2021-10-29T00:06:43.036Z"
   },
   {
    "duration": 193,
    "start_time": "2021-10-29T00:06:43.237Z"
   },
   {
    "duration": 237,
    "start_time": "2021-10-29T00:06:43.432Z"
   },
   {
    "duration": 12,
    "start_time": "2021-10-29T00:06:43.671Z"
   },
   {
    "duration": 286,
    "start_time": "2021-10-29T00:06:43.685Z"
   },
   {
    "duration": 6,
    "start_time": "2021-10-29T00:06:43.977Z"
   },
   {
    "duration": 18,
    "start_time": "2021-10-29T00:06:43.985Z"
   },
   {
    "duration": 7,
    "start_time": "2021-10-29T00:06:44.006Z"
   },
   {
    "duration": 27,
    "start_time": "2021-10-29T00:06:44.015Z"
   },
   {
    "duration": 8,
    "start_time": "2021-10-29T00:06:44.044Z"
   },
   {
    "duration": 3,
    "start_time": "2021-10-29T00:06:44.054Z"
   },
   {
    "duration": 4,
    "start_time": "2021-10-29T00:06:44.077Z"
   },
   {
    "duration": 5,
    "start_time": "2021-10-29T00:06:44.083Z"
   },
   {
    "duration": 707022,
    "start_time": "2021-10-29T00:06:44.090Z"
   },
   {
    "duration": 5,
    "start_time": "2021-10-29T00:18:31.115Z"
   },
   {
    "duration": 20,
    "start_time": "2021-10-29T00:18:31.121Z"
   },
   {
    "duration": 32,
    "start_time": "2021-10-29T00:18:31.144Z"
   },
   {
    "duration": 6,
    "start_time": "2021-10-29T00:18:31.179Z"
   },
   {
    "duration": 510,
    "start_time": "2021-10-29T00:19:53.848Z"
   },
   {
    "duration": 403,
    "start_time": "2021-10-29T00:20:50.008Z"
   },
   {
    "duration": 4,
    "start_time": "2021-10-29T00:20:55.816Z"
   },
   {
    "duration": 6,
    "start_time": "2021-10-29T00:20:56.768Z"
   },
   {
    "duration": 4,
    "start_time": "2021-10-29T00:24:24.874Z"
   },
   {
    "duration": 16,
    "start_time": "2021-10-29T00:30:06.732Z"
   },
   {
    "duration": 18,
    "start_time": "2021-10-29T00:30:30.739Z"
   },
   {
    "duration": 1585,
    "start_time": "2021-10-29T00:35:17.350Z"
   },
   {
    "duration": 90,
    "start_time": "2021-10-29T00:35:18.937Z"
   },
   {
    "duration": 29,
    "start_time": "2021-10-29T00:35:19.030Z"
   },
   {
    "duration": 16,
    "start_time": "2021-10-29T00:35:19.062Z"
   },
   {
    "duration": 22,
    "start_time": "2021-10-29T00:35:19.080Z"
   },
   {
    "duration": 4,
    "start_time": "2021-10-29T00:35:19.104Z"
   },
   {
    "duration": 20,
    "start_time": "2021-10-29T00:35:19.111Z"
   },
   {
    "duration": 4,
    "start_time": "2021-10-29T00:35:19.134Z"
   },
   {
    "duration": 136,
    "start_time": "2021-10-29T00:35:19.142Z"
   },
   {
    "duration": 22,
    "start_time": "2021-10-29T00:35:19.281Z"
   },
   {
    "duration": 4,
    "start_time": "2021-10-29T00:35:19.305Z"
   },
   {
    "duration": 26,
    "start_time": "2021-10-29T00:35:19.311Z"
   },
   {
    "duration": 6,
    "start_time": "2021-10-29T00:35:19.339Z"
   },
   {
    "duration": 10,
    "start_time": "2021-10-29T00:35:19.378Z"
   },
   {
    "duration": 27,
    "start_time": "2021-10-29T00:35:19.390Z"
   },
   {
    "duration": 6,
    "start_time": "2021-10-29T00:35:19.419Z"
   },
   {
    "duration": 13,
    "start_time": "2021-10-29T00:35:19.427Z"
   },
   {
    "duration": 37,
    "start_time": "2021-10-29T00:35:19.441Z"
   },
   {
    "duration": 9,
    "start_time": "2021-10-29T00:35:19.479Z"
   },
   {
    "duration": 20,
    "start_time": "2021-10-29T00:35:19.490Z"
   },
   {
    "duration": 9,
    "start_time": "2021-10-29T00:35:19.511Z"
   },
   {
    "duration": 12,
    "start_time": "2021-10-29T00:35:19.522Z"
   },
   {
    "duration": 3,
    "start_time": "2021-10-29T00:35:19.536Z"
   },
   {
    "duration": 54,
    "start_time": "2021-10-29T00:35:19.541Z"
   },
   {
    "duration": 204,
    "start_time": "2021-10-29T00:35:19.597Z"
   },
   {
    "duration": 6,
    "start_time": "2021-10-29T00:35:19.803Z"
   },
   {
    "duration": 9,
    "start_time": "2021-10-29T00:35:19.812Z"
   },
   {
    "duration": 200,
    "start_time": "2021-10-29T00:35:19.824Z"
   },
   {
    "duration": 178,
    "start_time": "2021-10-29T00:35:20.025Z"
   },
   {
    "duration": 230,
    "start_time": "2021-10-29T00:35:20.205Z"
   },
   {
    "duration": 12,
    "start_time": "2021-10-29T00:35:20.436Z"
   },
   {
    "duration": 274,
    "start_time": "2021-10-29T00:35:20.449Z"
   },
   {
    "duration": 4,
    "start_time": "2021-10-29T00:35:20.725Z"
   },
   {
    "duration": 15,
    "start_time": "2021-10-29T00:35:20.731Z"
   },
   {
    "duration": 8,
    "start_time": "2021-10-29T00:35:20.748Z"
   },
   {
    "duration": 27,
    "start_time": "2021-10-29T00:35:20.757Z"
   },
   {
    "duration": 9,
    "start_time": "2021-10-29T00:35:20.786Z"
   },
   {
    "duration": 4,
    "start_time": "2021-10-29T00:35:20.796Z"
   },
   {
    "duration": 8,
    "start_time": "2021-10-29T00:35:20.802Z"
   },
   {
    "duration": 4,
    "start_time": "2021-10-29T00:35:20.812Z"
   },
   {
    "duration": 1526,
    "start_time": "2021-10-29T00:41:12.208Z"
   },
   {
    "duration": 88,
    "start_time": "2021-10-29T00:41:13.736Z"
   },
   {
    "duration": 29,
    "start_time": "2021-10-29T00:41:13.826Z"
   },
   {
    "duration": 14,
    "start_time": "2021-10-29T00:41:13.857Z"
   },
   {
    "duration": 21,
    "start_time": "2021-10-29T00:41:13.872Z"
   },
   {
    "duration": 4,
    "start_time": "2021-10-29T00:41:13.894Z"
   },
   {
    "duration": 31,
    "start_time": "2021-10-29T00:41:13.899Z"
   },
   {
    "duration": 18,
    "start_time": "2021-10-29T00:41:13.932Z"
   },
   {
    "duration": 121,
    "start_time": "2021-10-29T00:41:13.954Z"
   },
   {
    "duration": 19,
    "start_time": "2021-10-29T00:41:14.077Z"
   },
   {
    "duration": 4,
    "start_time": "2021-10-29T00:41:14.097Z"
   },
   {
    "duration": 33,
    "start_time": "2021-10-29T00:41:14.102Z"
   },
   {
    "duration": 6,
    "start_time": "2021-10-29T00:41:14.137Z"
   },
   {
    "duration": 22,
    "start_time": "2021-10-29T00:41:14.145Z"
   },
   {
    "duration": 25,
    "start_time": "2021-10-29T00:41:14.177Z"
   },
   {
    "duration": 6,
    "start_time": "2021-10-29T00:41:14.204Z"
   },
   {
    "duration": 17,
    "start_time": "2021-10-29T00:41:14.212Z"
   },
   {
    "duration": 5,
    "start_time": "2021-10-29T00:41:14.231Z"
   },
   {
    "duration": 15,
    "start_time": "2021-10-29T00:41:14.237Z"
   },
   {
    "duration": 34,
    "start_time": "2021-10-29T00:41:14.254Z"
   },
   {
    "duration": 9,
    "start_time": "2021-10-29T00:41:14.290Z"
   },
   {
    "duration": 14,
    "start_time": "2021-10-29T00:41:14.300Z"
   },
   {
    "duration": 3,
    "start_time": "2021-10-29T00:41:14.316Z"
   },
   {
    "duration": 28,
    "start_time": "2021-10-29T00:41:14.321Z"
   },
   {
    "duration": 217,
    "start_time": "2021-10-29T00:41:14.350Z"
   },
   {
    "duration": 7,
    "start_time": "2021-10-29T00:41:14.576Z"
   },
   {
    "duration": 8,
    "start_time": "2021-10-29T00:41:14.588Z"
   },
   {
    "duration": 189,
    "start_time": "2021-10-29T00:41:14.598Z"
   },
   {
    "duration": 180,
    "start_time": "2021-10-29T00:41:14.789Z"
   },
   {
    "duration": 238,
    "start_time": "2021-10-29T00:41:14.971Z"
   },
   {
    "duration": 13,
    "start_time": "2021-10-29T00:41:15.211Z"
   },
   {
    "duration": 281,
    "start_time": "2021-10-29T00:41:15.226Z"
   },
   {
    "duration": 6,
    "start_time": "2021-10-29T00:41:15.509Z"
   },
   {
    "duration": 21,
    "start_time": "2021-10-29T00:41:15.517Z"
   },
   {
    "duration": 6,
    "start_time": "2021-10-29T00:41:15.541Z"
   },
   {
    "duration": 35,
    "start_time": "2021-10-29T00:41:15.549Z"
   },
   {
    "duration": 14,
    "start_time": "2021-10-29T00:41:15.586Z"
   },
   {
    "duration": 5,
    "start_time": "2021-10-29T00:41:15.602Z"
   },
   {
    "duration": 13,
    "start_time": "2021-10-29T00:41:15.609Z"
   },
   {
    "duration": 12,
    "start_time": "2021-10-29T00:41:15.624Z"
   },
   {
    "duration": 1218985,
    "start_time": "2021-10-29T00:41:15.638Z"
   },
   {
    "duration": 3,
    "start_time": "2021-10-29T01:01:34.625Z"
   },
   {
    "duration": 491,
    "start_time": "2021-10-29T01:01:34.630Z"
   },
   {
    "duration": 64,
    "start_time": "2021-10-29T01:01:35.059Z"
   },
   {
    "duration": 62,
    "start_time": "2021-10-29T01:01:35.062Z"
   },
   {
    "duration": 60,
    "start_time": "2021-10-29T01:01:35.065Z"
   },
   {
    "duration": 58,
    "start_time": "2021-10-29T01:01:35.068Z"
   },
   {
    "duration": 56,
    "start_time": "2021-10-29T01:01:35.071Z"
   },
   {
    "duration": 52,
    "start_time": "2021-10-29T01:01:35.076Z"
   },
   {
    "duration": 50,
    "start_time": "2021-10-29T01:01:35.079Z"
   },
   {
    "duration": 48,
    "start_time": "2021-10-29T01:01:35.082Z"
   },
   {
    "duration": 123,
    "start_time": "2021-10-29T01:05:43.019Z"
   },
   {
    "duration": 374,
    "start_time": "2021-10-29T01:05:52.435Z"
   },
   {
    "duration": 412,
    "start_time": "2021-10-29T01:06:20.699Z"
   },
   {
    "duration": 379,
    "start_time": "2021-10-29T01:07:22.597Z"
   },
   {
    "duration": 25,
    "start_time": "2021-10-29T01:07:46.699Z"
   },
   {
    "duration": 29,
    "start_time": "2021-10-29T01:08:23.117Z"
   },
   {
    "duration": 6,
    "start_time": "2021-10-29T01:08:27.051Z"
   },
   {
    "duration": 8,
    "start_time": "2021-10-29T01:08:29.906Z"
   },
   {
    "duration": 4,
    "start_time": "2021-10-29T01:08:31.436Z"
   },
   {
    "duration": 16,
    "start_time": "2021-10-29T01:08:34.347Z"
   },
   {
    "duration": 17,
    "start_time": "2021-10-29T01:08:35.530Z"
   },
   {
    "duration": 91,
    "start_time": "2021-10-29T01:08:39.691Z"
   },
   {
    "duration": 407,
    "start_time": "2021-10-29T01:08:41.995Z"
   },
   {
    "duration": 419,
    "start_time": "2021-10-29T01:09:18.779Z"
   },
   {
    "duration": 353,
    "start_time": "2021-10-29T01:10:04.373Z"
   },
   {
    "duration": 406,
    "start_time": "2021-10-29T01:10:34.653Z"
   },
   {
    "duration": 539,
    "start_time": "2021-10-29T01:10:51.755Z"
   },
   {
    "duration": 530,
    "start_time": "2021-10-29T01:13:18.132Z"
   },
   {
    "duration": 13,
    "start_time": "2021-10-29T01:13:21.421Z"
   },
   {
    "duration": 334,
    "start_time": "2021-10-29T01:13:24.293Z"
   },
   {
    "duration": 344,
    "start_time": "2021-10-29T01:19:23.910Z"
   },
   {
    "duration": 1554,
    "start_time": "2021-10-29T01:28:37.483Z"
   },
   {
    "duration": 90,
    "start_time": "2021-10-29T01:28:39.039Z"
   },
   {
    "duration": 29,
    "start_time": "2021-10-29T01:28:39.131Z"
   },
   {
    "duration": 14,
    "start_time": "2021-10-29T01:28:39.162Z"
   },
   {
    "duration": 21,
    "start_time": "2021-10-29T01:28:39.177Z"
   },
   {
    "duration": 3,
    "start_time": "2021-10-29T01:28:39.200Z"
   },
   {
    "duration": 22,
    "start_time": "2021-10-29T01:28:39.205Z"
   },
   {
    "duration": 7,
    "start_time": "2021-10-29T01:28:39.228Z"
   },
   {
    "duration": 120,
    "start_time": "2021-10-29T01:28:39.238Z"
   },
   {
    "duration": 30,
    "start_time": "2021-10-29T01:28:39.361Z"
   },
   {
    "duration": 4,
    "start_time": "2021-10-29T01:28:39.392Z"
   },
   {
    "duration": 25,
    "start_time": "2021-10-29T01:28:39.398Z"
   },
   {
    "duration": 6,
    "start_time": "2021-10-29T01:28:39.424Z"
   },
   {
    "duration": 10,
    "start_time": "2021-10-29T01:28:39.432Z"
   },
   {
    "duration": 50,
    "start_time": "2021-10-29T01:28:39.443Z"
   },
   {
    "duration": 7,
    "start_time": "2021-10-29T01:28:39.495Z"
   },
   {
    "duration": 19,
    "start_time": "2021-10-29T01:28:39.504Z"
   },
   {
    "duration": 4,
    "start_time": "2021-10-29T01:28:39.525Z"
   },
   {
    "duration": 18,
    "start_time": "2021-10-29T01:28:39.531Z"
   },
   {
    "duration": 31,
    "start_time": "2021-10-29T01:28:39.551Z"
   },
   {
    "duration": 9,
    "start_time": "2021-10-29T01:28:39.584Z"
   },
   {
    "duration": 20,
    "start_time": "2021-10-29T01:28:39.595Z"
   },
   {
    "duration": 4,
    "start_time": "2021-10-29T01:28:39.616Z"
   },
   {
    "duration": 27,
    "start_time": "2021-10-29T01:28:39.622Z"
   },
   {
    "duration": 215,
    "start_time": "2021-10-29T01:28:39.651Z"
   },
   {
    "duration": 12,
    "start_time": "2021-10-29T01:28:39.868Z"
   },
   {
    "duration": 21,
    "start_time": "2021-10-29T01:28:39.884Z"
   },
   {
    "duration": 189,
    "start_time": "2021-10-29T01:28:39.908Z"
   },
   {
    "duration": 181,
    "start_time": "2021-10-29T01:28:40.099Z"
   },
   {
    "duration": 234,
    "start_time": "2021-10-29T01:28:40.282Z"
   },
   {
    "duration": 12,
    "start_time": "2021-10-29T01:28:40.518Z"
   },
   {
    "duration": 281,
    "start_time": "2021-10-29T01:28:40.532Z"
   },
   {
    "duration": 4,
    "start_time": "2021-10-29T01:28:40.815Z"
   },
   {
    "duration": 27,
    "start_time": "2021-10-29T01:28:40.821Z"
   },
   {
    "duration": 17,
    "start_time": "2021-10-29T01:28:40.849Z"
   },
   {
    "duration": 25,
    "start_time": "2021-10-29T01:28:40.868Z"
   },
   {
    "duration": 16,
    "start_time": "2021-10-29T01:28:40.895Z"
   },
   {
    "duration": 8,
    "start_time": "2021-10-29T01:28:40.913Z"
   },
   {
    "duration": 17,
    "start_time": "2021-10-29T01:28:40.923Z"
   },
   {
    "duration": 518,
    "start_time": "2021-10-29T01:28:40.942Z"
   },
   {
    "duration": -8,
    "start_time": "2021-10-29T01:28:41.470Z"
   },
   {
    "duration": -12,
    "start_time": "2021-10-29T01:28:41.475Z"
   },
   {
    "duration": -14,
    "start_time": "2021-10-29T01:28:41.478Z"
   },
   {
    "duration": -15,
    "start_time": "2021-10-29T01:28:41.480Z"
   },
   {
    "duration": -17,
    "start_time": "2021-10-29T01:28:41.483Z"
   },
   {
    "duration": -19,
    "start_time": "2021-10-29T01:28:41.486Z"
   },
   {
    "duration": -22,
    "start_time": "2021-10-29T01:28:41.490Z"
   },
   {
    "duration": -24,
    "start_time": "2021-10-29T01:28:41.493Z"
   },
   {
    "duration": -26,
    "start_time": "2021-10-29T01:28:41.496Z"
   },
   {
    "duration": -28,
    "start_time": "2021-10-29T01:28:41.499Z"
   },
   {
    "duration": -30,
    "start_time": "2021-10-29T01:28:41.502Z"
   },
   {
    "duration": 1535,
    "start_time": "2021-10-29T01:30:34.201Z"
   },
   {
    "duration": 90,
    "start_time": "2021-10-29T01:30:35.738Z"
   },
   {
    "duration": 27,
    "start_time": "2021-10-29T01:30:35.831Z"
   },
   {
    "duration": 15,
    "start_time": "2021-10-29T01:30:35.860Z"
   },
   {
    "duration": 20,
    "start_time": "2021-10-29T01:30:35.876Z"
   },
   {
    "duration": 4,
    "start_time": "2021-10-29T01:30:35.898Z"
   },
   {
    "duration": 20,
    "start_time": "2021-10-29T01:30:35.903Z"
   },
   {
    "duration": 3,
    "start_time": "2021-10-29T01:30:35.926Z"
   },
   {
    "duration": 127,
    "start_time": "2021-10-29T01:30:35.932Z"
   },
   {
    "duration": 29,
    "start_time": "2021-10-29T01:30:36.061Z"
   },
   {
    "duration": 4,
    "start_time": "2021-10-29T01:30:36.091Z"
   },
   {
    "duration": 29,
    "start_time": "2021-10-29T01:30:36.096Z"
   },
   {
    "duration": 6,
    "start_time": "2021-10-29T01:30:36.127Z"
   },
   {
    "duration": 14,
    "start_time": "2021-10-29T01:30:36.135Z"
   },
   {
    "duration": 50,
    "start_time": "2021-10-29T01:30:36.150Z"
   },
   {
    "duration": 7,
    "start_time": "2021-10-29T01:30:36.201Z"
   },
   {
    "duration": 12,
    "start_time": "2021-10-29T01:30:36.210Z"
   },
   {
    "duration": 4,
    "start_time": "2021-10-29T01:30:36.223Z"
   },
   {
    "duration": 8,
    "start_time": "2021-10-29T01:30:36.229Z"
   },
   {
    "duration": 47,
    "start_time": "2021-10-29T01:30:36.239Z"
   },
   {
    "duration": 9,
    "start_time": "2021-10-29T01:30:36.287Z"
   },
   {
    "duration": 12,
    "start_time": "2021-10-29T01:30:36.298Z"
   },
   {
    "duration": 3,
    "start_time": "2021-10-29T01:30:36.314Z"
   },
   {
    "duration": 27,
    "start_time": "2021-10-29T01:30:36.319Z"
   },
   {
    "duration": 223,
    "start_time": "2021-10-29T01:30:36.348Z"
   },
   {
    "duration": 6,
    "start_time": "2021-10-29T01:30:36.576Z"
   },
   {
    "duration": 22,
    "start_time": "2021-10-29T01:30:36.584Z"
   },
   {
    "duration": 178,
    "start_time": "2021-10-29T01:30:36.608Z"
   },
   {
    "duration": 176,
    "start_time": "2021-10-29T01:30:36.788Z"
   },
   {
    "duration": 229,
    "start_time": "2021-10-29T01:30:36.966Z"
   },
   {
    "duration": 12,
    "start_time": "2021-10-29T01:30:37.197Z"
   },
   {
    "duration": 285,
    "start_time": "2021-10-29T01:30:37.210Z"
   },
   {
    "duration": 5,
    "start_time": "2021-10-29T01:30:37.497Z"
   },
   {
    "duration": 26,
    "start_time": "2021-10-29T01:30:37.503Z"
   },
   {
    "duration": 10,
    "start_time": "2021-10-29T01:30:37.530Z"
   },
   {
    "duration": 19,
    "start_time": "2021-10-29T01:30:37.542Z"
   },
   {
    "duration": 21,
    "start_time": "2021-10-29T01:30:37.563Z"
   },
   {
    "duration": 4,
    "start_time": "2021-10-29T01:30:37.586Z"
   },
   {
    "duration": 10,
    "start_time": "2021-10-29T01:30:37.592Z"
   },
   {
    "duration": 5,
    "start_time": "2021-10-29T01:30:37.604Z"
   },
   {
    "duration": 710477,
    "start_time": "2021-10-29T01:30:37.611Z"
   },
   {
    "duration": 4,
    "start_time": "2021-10-29T01:42:28.090Z"
   },
   {
    "duration": 25,
    "start_time": "2021-10-29T01:42:28.096Z"
   },
   {
    "duration": 59,
    "start_time": "2021-10-29T01:42:28.123Z"
   },
   {
    "duration": 6,
    "start_time": "2021-10-29T01:42:28.184Z"
   },
   {
    "duration": 8,
    "start_time": "2021-10-29T01:42:28.192Z"
   },
   {
    "duration": 5,
    "start_time": "2021-10-29T01:42:28.201Z"
   },
   {
    "duration": 15,
    "start_time": "2021-10-29T01:42:28.207Z"
   },
   {
    "duration": 15,
    "start_time": "2021-10-29T01:42:28.223Z"
   },
   {
    "duration": 68,
    "start_time": "2021-10-29T01:42:28.239Z"
   },
   {
    "duration": 74,
    "start_time": "2021-10-29T01:42:28.309Z"
   },
   {
    "duration": 26,
    "start_time": "2021-10-29T01:46:44.492Z"
   },
   {
    "duration": 8,
    "start_time": "2021-10-29T01:46:46.284Z"
   },
   {
    "duration": 25,
    "start_time": "2021-10-29T01:57:26.392Z"
   },
   {
    "duration": 4,
    "start_time": "2021-10-29T02:08:38.305Z"
   },
   {
    "duration": 12836,
    "start_time": "2021-10-29T02:09:43.577Z"
   },
   {
    "duration": 3,
    "start_time": "2021-10-29T02:10:56.392Z"
   },
   {
    "duration": 12647,
    "start_time": "2021-10-29T02:10:57.658Z"
   },
   {
    "duration": 4,
    "start_time": "2021-10-29T02:11:35.981Z"
   },
   {
    "duration": 99,
    "start_time": "2021-10-29T02:12:42.994Z"
   },
   {
    "duration": 165,
    "start_time": "2021-10-29T02:15:10.848Z"
   },
   {
    "duration": 96,
    "start_time": "2021-10-29T02:15:21.288Z"
   },
   {
    "duration": 8,
    "start_time": "2021-10-29T02:16:58.489Z"
   },
   {
    "duration": 500,
    "start_time": "2021-10-29T02:17:07.340Z"
   },
   {
    "duration": 360,
    "start_time": "2021-10-29T02:18:03.075Z"
   },
   {
    "duration": 1612,
    "start_time": "2021-10-29T02:18:46.832Z"
   },
   {
    "duration": 88,
    "start_time": "2021-10-29T02:18:48.446Z"
   },
   {
    "duration": 27,
    "start_time": "2021-10-29T02:18:48.536Z"
   },
   {
    "duration": 12,
    "start_time": "2021-10-29T02:18:48.565Z"
   },
   {
    "duration": 18,
    "start_time": "2021-10-29T02:18:48.579Z"
   },
   {
    "duration": 3,
    "start_time": "2021-10-29T02:18:48.599Z"
   },
   {
    "duration": 18,
    "start_time": "2021-10-29T02:18:48.604Z"
   },
   {
    "duration": 16,
    "start_time": "2021-10-29T02:18:48.623Z"
   },
   {
    "duration": 116,
    "start_time": "2021-10-29T02:18:48.642Z"
   },
   {
    "duration": 27,
    "start_time": "2021-10-29T02:18:48.760Z"
   },
   {
    "duration": 4,
    "start_time": "2021-10-29T02:18:48.788Z"
   },
   {
    "duration": 26,
    "start_time": "2021-10-29T02:18:48.793Z"
   },
   {
    "duration": 5,
    "start_time": "2021-10-29T02:18:48.821Z"
   },
   {
    "duration": 11,
    "start_time": "2021-10-29T02:18:48.828Z"
   },
   {
    "duration": 52,
    "start_time": "2021-10-29T02:18:48.840Z"
   },
   {
    "duration": 6,
    "start_time": "2021-10-29T02:18:48.894Z"
   },
   {
    "duration": 10,
    "start_time": "2021-10-29T02:18:48.902Z"
   },
   {
    "duration": 4,
    "start_time": "2021-10-29T02:18:48.914Z"
   },
   {
    "duration": 9,
    "start_time": "2021-10-29T02:18:48.919Z"
   },
   {
    "duration": 51,
    "start_time": "2021-10-29T02:18:48.929Z"
   },
   {
    "duration": 9,
    "start_time": "2021-10-29T02:18:48.982Z"
   },
   {
    "duration": 12,
    "start_time": "2021-10-29T02:18:48.993Z"
   },
   {
    "duration": 4,
    "start_time": "2021-10-29T02:18:49.006Z"
   },
   {
    "duration": 24,
    "start_time": "2021-10-29T02:18:49.011Z"
   },
   {
    "duration": 226,
    "start_time": "2021-10-29T02:18:49.037Z"
   },
   {
    "duration": 11,
    "start_time": "2021-10-29T02:18:49.265Z"
   },
   {
    "duration": 7,
    "start_time": "2021-10-29T02:18:49.281Z"
   },
   {
    "duration": 199,
    "start_time": "2021-10-29T02:18:49.290Z"
   },
   {
    "duration": 182,
    "start_time": "2021-10-29T02:18:49.492Z"
   },
   {
    "duration": 231,
    "start_time": "2021-10-29T02:18:49.677Z"
   },
   {
    "duration": 13,
    "start_time": "2021-10-29T02:18:49.911Z"
   },
   {
    "duration": 280,
    "start_time": "2021-10-29T02:18:49.926Z"
   },
   {
    "duration": 5,
    "start_time": "2021-10-29T02:18:50.209Z"
   },
   {
    "duration": 19,
    "start_time": "2021-10-29T02:18:50.216Z"
   },
   {
    "duration": 9,
    "start_time": "2021-10-29T02:18:50.237Z"
   },
   {
    "duration": 31,
    "start_time": "2021-10-29T02:18:50.248Z"
   },
   {
    "duration": 8,
    "start_time": "2021-10-29T02:18:50.281Z"
   },
   {
    "duration": 6,
    "start_time": "2021-10-29T02:18:50.290Z"
   },
   {
    "duration": 6,
    "start_time": "2021-10-29T02:18:50.299Z"
   },
   {
    "duration": 103,
    "start_time": "2021-10-29T02:18:50.307Z"
   },
   {
    "duration": 703678,
    "start_time": "2021-10-29T02:18:50.413Z"
   },
   {
    "duration": 4,
    "start_time": "2021-10-29T02:30:34.093Z"
   },
   {
    "duration": 26,
    "start_time": "2021-10-29T02:30:34.099Z"
   },
   {
    "duration": 56,
    "start_time": "2021-10-29T02:30:34.127Z"
   },
   {
    "duration": 5,
    "start_time": "2021-10-29T02:30:34.185Z"
   },
   {
    "duration": 7,
    "start_time": "2021-10-29T02:30:34.192Z"
   },
   {
    "duration": 4,
    "start_time": "2021-10-29T02:30:34.201Z"
   },
   {
    "duration": 16,
    "start_time": "2021-10-29T02:30:34.207Z"
   },
   {
    "duration": 17,
    "start_time": "2021-10-29T02:30:34.224Z"
   },
   {
    "duration": 135,
    "start_time": "2021-10-29T02:30:34.243Z"
   },
   {
    "duration": 99,
    "start_time": "2021-10-29T02:30:34.381Z"
   },
   {
    "duration": 4,
    "start_time": "2021-10-29T02:30:34.482Z"
   },
   {
    "duration": 12859,
    "start_time": "2021-10-29T02:30:34.489Z"
   },
   {
    "duration": 3,
    "start_time": "2021-10-29T02:30:47.350Z"
   },
   {
    "duration": 112,
    "start_time": "2021-10-29T02:30:47.355Z"
   },
   {
    "duration": 8182,
    "start_time": "2021-10-29T02:35:11.473Z"
   },
   {
    "duration": 429,
    "start_time": "2021-10-29T02:35:42.082Z"
   },
   {
    "duration": 14,
    "start_time": "2021-10-29T02:38:55.802Z"
   },
   {
    "duration": 14,
    "start_time": "2021-10-29T02:39:31.029Z"
   },
   {
    "duration": 1577,
    "start_time": "2021-10-29T02:40:00.777Z"
   },
   {
    "duration": 93,
    "start_time": "2021-10-29T02:40:02.356Z"
   },
   {
    "duration": 30,
    "start_time": "2021-10-29T02:40:02.451Z"
   },
   {
    "duration": 15,
    "start_time": "2021-10-29T02:40:02.483Z"
   },
   {
    "duration": 20,
    "start_time": "2021-10-29T02:40:02.500Z"
   },
   {
    "duration": 12,
    "start_time": "2021-10-29T02:40:02.522Z"
   },
   {
    "duration": 18,
    "start_time": "2021-10-29T02:40:02.536Z"
   },
   {
    "duration": 8,
    "start_time": "2021-10-29T02:40:02.556Z"
   },
   {
    "duration": 109,
    "start_time": "2021-10-29T02:40:02.578Z"
   },
   {
    "duration": 19,
    "start_time": "2021-10-29T02:40:02.690Z"
   },
   {
    "duration": 3,
    "start_time": "2021-10-29T02:40:02.711Z"
   },
   {
    "duration": 37,
    "start_time": "2021-10-29T02:40:02.716Z"
   },
   {
    "duration": 5,
    "start_time": "2021-10-29T02:40:02.755Z"
   },
   {
    "duration": 18,
    "start_time": "2021-10-29T02:40:02.762Z"
   },
   {
    "duration": 31,
    "start_time": "2021-10-29T02:40:02.782Z"
   },
   {
    "duration": 6,
    "start_time": "2021-10-29T02:40:02.815Z"
   },
   {
    "duration": 13,
    "start_time": "2021-10-29T02:40:02.823Z"
   },
   {
    "duration": 19,
    "start_time": "2021-10-29T02:40:02.838Z"
   },
   {
    "duration": 23,
    "start_time": "2021-10-29T02:40:02.858Z"
   },
   {
    "duration": 18,
    "start_time": "2021-10-29T02:40:02.882Z"
   },
   {
    "duration": 9,
    "start_time": "2021-10-29T02:40:02.902Z"
   },
   {
    "duration": 14,
    "start_time": "2021-10-29T02:40:02.912Z"
   },
   {
    "duration": 4,
    "start_time": "2021-10-29T02:40:02.927Z"
   },
   {
    "duration": 55,
    "start_time": "2021-10-29T02:40:02.932Z"
   },
   {
    "duration": 208,
    "start_time": "2021-10-29T02:40:02.989Z"
   },
   {
    "duration": 7,
    "start_time": "2021-10-29T02:40:03.199Z"
   },
   {
    "duration": 7,
    "start_time": "2021-10-29T02:40:03.210Z"
   },
   {
    "duration": 192,
    "start_time": "2021-10-29T02:40:03.219Z"
   },
   {
    "duration": 176,
    "start_time": "2021-10-29T02:40:03.412Z"
   },
   {
    "duration": 232,
    "start_time": "2021-10-29T02:40:03.590Z"
   },
   {
    "duration": 11,
    "start_time": "2021-10-29T02:40:03.823Z"
   },
   {
    "duration": 274,
    "start_time": "2021-10-29T02:40:03.836Z"
   },
   {
    "duration": 4,
    "start_time": "2021-10-29T02:40:04.113Z"
   },
   {
    "duration": 15,
    "start_time": "2021-10-29T02:40:04.119Z"
   },
   {
    "duration": 7,
    "start_time": "2021-10-29T02:40:04.135Z"
   },
   {
    "duration": 35,
    "start_time": "2021-10-29T02:40:04.143Z"
   },
   {
    "duration": 7,
    "start_time": "2021-10-29T02:40:04.179Z"
   },
   {
    "duration": 5,
    "start_time": "2021-10-29T02:40:04.188Z"
   },
   {
    "duration": 7,
    "start_time": "2021-10-29T02:40:04.195Z"
   },
   {
    "duration": 110,
    "start_time": "2021-10-29T02:40:04.204Z"
   },
   {
    "duration": 13,
    "start_time": "2021-10-29T02:40:04.315Z"
   },
   {
    "duration": 6,
    "start_time": "2021-10-29T02:40:04.329Z"
   },
   {
    "duration": 690990,
    "start_time": "2021-10-29T02:40:04.337Z"
   },
   {
    "duration": 4,
    "start_time": "2021-10-29T02:51:35.329Z"
   },
   {
    "duration": 458,
    "start_time": "2021-10-29T02:51:35.334Z"
   },
   {
    "duration": 100,
    "start_time": "2021-10-29T02:51:35.693Z"
   },
   {
    "duration": 98,
    "start_time": "2021-10-29T02:51:35.697Z"
   },
   {
    "duration": 95,
    "start_time": "2021-10-29T02:51:35.701Z"
   },
   {
    "duration": 65,
    "start_time": "2021-10-29T02:51:35.732Z"
   },
   {
    "duration": 63,
    "start_time": "2021-10-29T02:51:35.735Z"
   },
   {
    "duration": 61,
    "start_time": "2021-10-29T02:51:35.738Z"
   },
   {
    "duration": 58,
    "start_time": "2021-10-29T02:51:35.742Z"
   },
   {
    "duration": 56,
    "start_time": "2021-10-29T02:51:35.745Z"
   },
   {
    "duration": 54,
    "start_time": "2021-10-29T02:51:35.748Z"
   },
   {
    "duration": 51,
    "start_time": "2021-10-29T02:51:35.752Z"
   },
   {
    "duration": 49,
    "start_time": "2021-10-29T02:51:35.755Z"
   },
   {
    "duration": 46,
    "start_time": "2021-10-29T02:51:35.759Z"
   },
   {
    "duration": 372,
    "start_time": "2021-10-29T02:54:37.756Z"
   },
   {
    "duration": 25,
    "start_time": "2021-10-29T02:55:36.539Z"
   },
   {
    "duration": 29,
    "start_time": "2021-10-29T02:55:53.545Z"
   },
   {
    "duration": 5,
    "start_time": "2021-10-29T02:55:58.346Z"
   },
   {
    "duration": 7,
    "start_time": "2021-10-29T02:55:59.244Z"
   },
   {
    "duration": 3,
    "start_time": "2021-10-29T02:56:01.610Z"
   },
   {
    "duration": 15,
    "start_time": "2021-10-29T02:56:06.603Z"
   },
   {
    "duration": 17,
    "start_time": "2021-10-29T02:56:08.386Z"
   },
   {
    "duration": 32,
    "start_time": "2021-10-29T02:56:11.268Z"
   },
   {
    "duration": 7,
    "start_time": "2021-10-29T02:56:19.082Z"
   },
   {
    "duration": 4,
    "start_time": "2021-10-29T02:56:23.506Z"
   },
   {
    "duration": 12607,
    "start_time": "2021-10-29T02:56:26.050Z"
   },
   {
    "duration": 3,
    "start_time": "2021-10-29T02:56:38.659Z"
   },
   {
    "duration": 117,
    "start_time": "2021-10-29T02:56:38.664Z"
   },
   {
    "duration": 38,
    "start_time": "2021-10-29T03:09:42.600Z"
   },
   {
    "duration": 40,
    "start_time": "2021-10-29T03:12:16.170Z"
   },
   {
    "duration": 401,
    "start_time": "2021-10-29T03:23:54.884Z"
   },
   {
    "duration": 21,
    "start_time": "2021-10-29T03:25:06.744Z"
   },
   {
    "duration": 4,
    "start_time": "2021-10-29T03:25:39.670Z"
   },
   {
    "duration": 5,
    "start_time": "2021-10-29T03:25:56.739Z"
   },
   {
    "duration": 8,
    "start_time": "2021-10-29T03:26:09.899Z"
   },
   {
    "duration": 4,
    "start_time": "2021-10-29T03:26:10.827Z"
   },
   {
    "duration": 1563,
    "start_time": "2021-10-29T03:26:24.694Z"
   },
   {
    "duration": 91,
    "start_time": "2021-10-29T03:26:26.259Z"
   },
   {
    "duration": 28,
    "start_time": "2021-10-29T03:26:26.354Z"
   },
   {
    "duration": 14,
    "start_time": "2021-10-29T03:26:26.384Z"
   },
   {
    "duration": 20,
    "start_time": "2021-10-29T03:26:26.399Z"
   },
   {
    "duration": 3,
    "start_time": "2021-10-29T03:26:26.421Z"
   },
   {
    "duration": 14,
    "start_time": "2021-10-29T03:26:26.427Z"
   },
   {
    "duration": 33,
    "start_time": "2021-10-29T03:26:26.444Z"
   },
   {
    "duration": 126,
    "start_time": "2021-10-29T03:26:26.479Z"
   },
   {
    "duration": 20,
    "start_time": "2021-10-29T03:26:26.607Z"
   },
   {
    "duration": 4,
    "start_time": "2021-10-29T03:26:26.629Z"
   },
   {
    "duration": 47,
    "start_time": "2021-10-29T03:26:26.634Z"
   },
   {
    "duration": 6,
    "start_time": "2021-10-29T03:26:26.683Z"
   },
   {
    "duration": 12,
    "start_time": "2021-10-29T03:26:26.691Z"
   },
   {
    "duration": 27,
    "start_time": "2021-10-29T03:26:26.704Z"
   },
   {
    "duration": 7,
    "start_time": "2021-10-29T03:26:26.733Z"
   },
   {
    "duration": 40,
    "start_time": "2021-10-29T03:26:26.742Z"
   },
   {
    "duration": 6,
    "start_time": "2021-10-29T03:26:26.784Z"
   },
   {
    "duration": 11,
    "start_time": "2021-10-29T03:26:26.791Z"
   },
   {
    "duration": 19,
    "start_time": "2021-10-29T03:26:26.804Z"
   },
   {
    "duration": 10,
    "start_time": "2021-10-29T03:26:26.825Z"
   },
   {
    "duration": 42,
    "start_time": "2021-10-29T03:26:26.838Z"
   },
   {
    "duration": 4,
    "start_time": "2021-10-29T03:26:26.883Z"
   },
   {
    "duration": 31,
    "start_time": "2021-10-29T03:26:26.888Z"
   },
   {
    "duration": 217,
    "start_time": "2021-10-29T03:26:26.921Z"
   },
   {
    "duration": 6,
    "start_time": "2021-10-29T03:26:27.140Z"
   },
   {
    "duration": 7,
    "start_time": "2021-10-29T03:26:27.148Z"
   },
   {
    "duration": 223,
    "start_time": "2021-10-29T03:26:27.157Z"
   },
   {
    "duration": 238,
    "start_time": "2021-10-29T03:26:27.383Z"
   },
   {
    "duration": 234,
    "start_time": "2021-10-29T03:26:27.623Z"
   },
   {
    "duration": 21,
    "start_time": "2021-10-29T03:26:27.858Z"
   },
   {
    "duration": 276,
    "start_time": "2021-10-29T03:26:27.880Z"
   },
   {
    "duration": 5,
    "start_time": "2021-10-29T03:26:28.158Z"
   },
   {
    "duration": 24,
    "start_time": "2021-10-29T03:26:28.164Z"
   },
   {
    "duration": 5,
    "start_time": "2021-10-29T03:26:28.190Z"
   },
   {
    "duration": 117,
    "start_time": "2021-10-29T03:26:28.197Z"
   },
   {
    "duration": 3,
    "start_time": "2021-10-29T03:26:28.316Z"
   },
   {
    "duration": 9,
    "start_time": "2021-10-29T03:26:28.321Z"
   },
   {
    "duration": 3,
    "start_time": "2021-10-29T03:26:28.333Z"
   },
   {
    "duration": 6,
    "start_time": "2021-10-29T03:26:28.338Z"
   },
   {
    "duration": 38,
    "start_time": "2021-10-29T03:26:28.346Z"
   },
   {
    "duration": 14,
    "start_time": "2021-10-29T03:26:28.386Z"
   },
   {
    "duration": 5,
    "start_time": "2021-10-29T03:26:28.401Z"
   },
   {
    "duration": 773540,
    "start_time": "2021-10-29T03:26:28.408Z"
   },
   {
    "duration": 3,
    "start_time": "2021-10-29T03:39:21.950Z"
   },
   {
    "duration": 483,
    "start_time": "2021-10-29T03:39:21.955Z"
   },
   {
    "duration": 104,
    "start_time": "2021-10-29T03:39:22.336Z"
   },
   {
    "duration": 102,
    "start_time": "2021-10-29T03:39:22.339Z"
   },
   {
    "duration": 87,
    "start_time": "2021-10-29T03:39:22.355Z"
   },
   {
    "duration": 83,
    "start_time": "2021-10-29T03:39:22.359Z"
   },
   {
    "duration": 78,
    "start_time": "2021-10-29T03:39:22.365Z"
   },
   {
    "duration": 76,
    "start_time": "2021-10-29T03:39:22.368Z"
   },
   {
    "duration": 73,
    "start_time": "2021-10-29T03:39:22.372Z"
   },
   {
    "duration": 71,
    "start_time": "2021-10-29T03:39:22.375Z"
   },
   {
    "duration": 67,
    "start_time": "2021-10-29T03:39:22.380Z"
   },
   {
    "duration": 65,
    "start_time": "2021-10-29T03:39:22.383Z"
   },
   {
    "duration": 62,
    "start_time": "2021-10-29T03:39:22.387Z"
   },
   {
    "duration": 60,
    "start_time": "2021-10-29T03:39:22.390Z"
   },
   {
    "duration": 57,
    "start_time": "2021-10-29T03:39:22.394Z"
   },
   {
    "duration": 55,
    "start_time": "2021-10-29T03:39:22.397Z"
   },
   {
    "duration": 52,
    "start_time": "2021-10-29T03:39:22.401Z"
   },
   {
    "duration": 46,
    "start_time": "2021-10-29T03:46:19.842Z"
   },
   {
    "duration": 30,
    "start_time": "2021-10-29T03:46:47.737Z"
   },
   {
    "duration": 6,
    "start_time": "2021-10-29T03:46:55.377Z"
   },
   {
    "duration": 16,
    "start_time": "2021-10-29T03:46:56.114Z"
   },
   {
    "duration": 8,
    "start_time": "2021-10-29T03:46:56.914Z"
   },
   {
    "duration": 3,
    "start_time": "2021-10-29T03:46:59.513Z"
   },
   {
    "duration": 16,
    "start_time": "2021-10-29T03:47:03.817Z"
   },
   {
    "duration": 16,
    "start_time": "2021-10-29T03:47:04.345Z"
   },
   {
    "duration": 102,
    "start_time": "2021-10-29T03:47:07.378Z"
   },
   {
    "duration": 8,
    "start_time": "2021-10-29T03:47:15.274Z"
   },
   {
    "duration": 4,
    "start_time": "2021-10-29T03:47:26.682Z"
   },
   {
    "duration": 18831,
    "start_time": "2021-10-29T03:47:29.068Z"
   },
   {
    "duration": 4,
    "start_time": "2021-10-29T03:47:50.498Z"
   },
   {
    "duration": 250,
    "start_time": "2021-10-29T03:47:53.273Z"
   },
   {
    "duration": 19,
    "start_time": "2021-10-29T03:49:23.960Z"
   },
   {
    "duration": 86,
    "start_time": "2021-10-29T03:49:36.289Z"
   },
   {
    "duration": 1684,
    "start_time": "2021-10-29T03:57:39.833Z"
   },
   {
    "duration": 90,
    "start_time": "2021-10-29T03:57:41.519Z"
   },
   {
    "duration": 27,
    "start_time": "2021-10-29T03:57:41.612Z"
   },
   {
    "duration": 15,
    "start_time": "2021-10-29T03:57:41.641Z"
   },
   {
    "duration": 20,
    "start_time": "2021-10-29T03:57:41.658Z"
   },
   {
    "duration": 4,
    "start_time": "2021-10-29T03:57:41.679Z"
   },
   {
    "duration": 19,
    "start_time": "2021-10-29T03:57:41.684Z"
   },
   {
    "duration": 4,
    "start_time": "2021-10-29T03:57:41.706Z"
   },
   {
    "duration": 125,
    "start_time": "2021-10-29T03:57:41.712Z"
   },
   {
    "duration": 19,
    "start_time": "2021-10-29T03:57:41.838Z"
   },
   {
    "duration": 4,
    "start_time": "2021-10-29T03:57:41.859Z"
   },
   {
    "duration": 34,
    "start_time": "2021-10-29T03:57:41.865Z"
   },
   {
    "duration": 6,
    "start_time": "2021-10-29T03:57:41.901Z"
   },
   {
    "duration": 14,
    "start_time": "2021-10-29T03:57:41.908Z"
   },
   {
    "duration": 26,
    "start_time": "2021-10-29T03:57:41.923Z"
   },
   {
    "duration": 32,
    "start_time": "2021-10-29T03:57:41.951Z"
   },
   {
    "duration": 13,
    "start_time": "2021-10-29T03:57:41.985Z"
   },
   {
    "duration": 4,
    "start_time": "2021-10-29T03:57:42.000Z"
   },
   {
    "duration": 9,
    "start_time": "2021-10-29T03:57:42.005Z"
   },
   {
    "duration": 18,
    "start_time": "2021-10-29T03:57:42.016Z"
   },
   {
    "duration": 41,
    "start_time": "2021-10-29T03:57:42.036Z"
   },
   {
    "duration": 12,
    "start_time": "2021-10-29T03:57:42.079Z"
   },
   {
    "duration": 3,
    "start_time": "2021-10-29T03:57:42.096Z"
   },
   {
    "duration": 26,
    "start_time": "2021-10-29T03:57:42.102Z"
   },
   {
    "duration": 224,
    "start_time": "2021-10-29T03:57:42.130Z"
   },
   {
    "duration": 7,
    "start_time": "2021-10-29T03:57:42.355Z"
   },
   {
    "duration": 19,
    "start_time": "2021-10-29T03:57:42.363Z"
   },
   {
    "duration": 195,
    "start_time": "2021-10-29T03:57:42.384Z"
   },
   {
    "duration": 180,
    "start_time": "2021-10-29T03:57:42.581Z"
   },
   {
    "duration": 234,
    "start_time": "2021-10-29T03:57:42.763Z"
   },
   {
    "duration": 11,
    "start_time": "2021-10-29T03:57:42.999Z"
   },
   {
    "duration": 283,
    "start_time": "2021-10-29T03:57:43.012Z"
   },
   {
    "duration": 4,
    "start_time": "2021-10-29T03:57:43.297Z"
   },
   {
    "duration": 18,
    "start_time": "2021-10-29T03:57:43.303Z"
   },
   {
    "duration": 6,
    "start_time": "2021-10-29T03:57:43.323Z"
   },
   {
    "duration": 130,
    "start_time": "2021-10-29T03:57:43.331Z"
   },
   {
    "duration": 4,
    "start_time": "2021-10-29T03:57:43.463Z"
   },
   {
    "duration": 14,
    "start_time": "2021-10-29T03:57:43.469Z"
   },
   {
    "duration": 4,
    "start_time": "2021-10-29T03:57:43.485Z"
   },
   {
    "duration": 5,
    "start_time": "2021-10-29T03:57:43.491Z"
   },
   {
    "duration": 17,
    "start_time": "2021-10-29T03:57:43.498Z"
   },
   {
    "duration": 14,
    "start_time": "2021-10-29T03:57:43.517Z"
   },
   {
    "duration": 44,
    "start_time": "2021-10-29T03:57:43.533Z"
   },
   {
    "duration": 1530,
    "start_time": "2021-10-29T05:11:43.421Z"
   },
   {
    "duration": 91,
    "start_time": "2021-10-29T05:11:44.953Z"
   },
   {
    "duration": 27,
    "start_time": "2021-10-29T05:11:45.048Z"
   },
   {
    "duration": 14,
    "start_time": "2021-10-29T05:11:45.077Z"
   },
   {
    "duration": 20,
    "start_time": "2021-10-29T05:11:45.093Z"
   },
   {
    "duration": 4,
    "start_time": "2021-10-29T05:11:45.115Z"
   },
   {
    "duration": 22,
    "start_time": "2021-10-29T05:11:45.121Z"
   },
   {
    "duration": 3,
    "start_time": "2021-10-29T05:11:45.145Z"
   },
   {
    "duration": 133,
    "start_time": "2021-10-29T05:11:45.150Z"
   },
   {
    "duration": 19,
    "start_time": "2021-10-29T05:11:45.285Z"
   },
   {
    "duration": 4,
    "start_time": "2021-10-29T05:11:45.306Z"
   },
   {
    "duration": 24,
    "start_time": "2021-10-29T05:11:45.312Z"
   },
   {
    "duration": 6,
    "start_time": "2021-10-29T05:11:45.338Z"
   },
   {
    "duration": 37,
    "start_time": "2021-10-29T05:11:45.345Z"
   },
   {
    "duration": 25,
    "start_time": "2021-10-29T05:11:45.384Z"
   },
   {
    "duration": 6,
    "start_time": "2021-10-29T05:11:45.411Z"
   },
   {
    "duration": 11,
    "start_time": "2021-10-29T05:11:45.418Z"
   },
   {
    "duration": 4,
    "start_time": "2021-10-29T05:11:45.431Z"
   },
   {
    "duration": 41,
    "start_time": "2021-10-29T05:11:45.437Z"
   },
   {
    "duration": 18,
    "start_time": "2021-10-29T05:11:45.480Z"
   },
   {
    "duration": 8,
    "start_time": "2021-10-29T05:11:45.500Z"
   },
   {
    "duration": 13,
    "start_time": "2021-10-29T05:11:45.512Z"
   },
   {
    "duration": 3,
    "start_time": "2021-10-29T05:11:45.527Z"
   },
   {
    "duration": 54,
    "start_time": "2021-10-29T05:11:45.532Z"
   },
   {
    "duration": 205,
    "start_time": "2021-10-29T05:11:45.588Z"
   },
   {
    "duration": 7,
    "start_time": "2021-10-29T05:11:45.794Z"
   },
   {
    "duration": 7,
    "start_time": "2021-10-29T05:11:45.802Z"
   },
   {
    "duration": 201,
    "start_time": "2021-10-29T05:11:45.811Z"
   },
   {
    "duration": 191,
    "start_time": "2021-10-29T05:11:46.014Z"
   },
   {
    "duration": 248,
    "start_time": "2021-10-29T05:11:46.207Z"
   },
   {
    "duration": 21,
    "start_time": "2021-10-29T05:11:46.457Z"
   },
   {
    "duration": 275,
    "start_time": "2021-10-29T05:11:46.480Z"
   },
   {
    "duration": 4,
    "start_time": "2021-10-29T05:11:46.757Z"
   },
   {
    "duration": 21,
    "start_time": "2021-10-29T05:11:46.763Z"
   },
   {
    "duration": 9,
    "start_time": "2021-10-29T05:11:46.786Z"
   },
   {
    "duration": 119,
    "start_time": "2021-10-29T05:11:46.796Z"
   },
   {
    "duration": 4,
    "start_time": "2021-10-29T05:11:46.916Z"
   },
   {
    "duration": 7,
    "start_time": "2021-10-29T05:11:46.922Z"
   },
   {
    "duration": 4,
    "start_time": "2021-10-29T05:11:46.931Z"
   },
   {
    "duration": 6,
    "start_time": "2021-10-29T05:11:46.937Z"
   },
   {
    "duration": 44,
    "start_time": "2021-10-29T05:11:46.944Z"
   },
   {
    "duration": 13,
    "start_time": "2021-10-29T05:11:46.990Z"
   },
   {
    "duration": 5,
    "start_time": "2021-10-29T05:11:47.005Z"
   },
   {
    "duration": 1588,
    "start_time": "2021-10-29T05:14:29.089Z"
   },
   {
    "duration": 92,
    "start_time": "2021-10-29T05:14:30.679Z"
   },
   {
    "duration": 27,
    "start_time": "2021-10-29T05:14:30.773Z"
   },
   {
    "duration": 13,
    "start_time": "2021-10-29T05:14:30.802Z"
   },
   {
    "duration": 31,
    "start_time": "2021-10-29T05:14:30.817Z"
   },
   {
    "duration": 4,
    "start_time": "2021-10-29T05:14:30.850Z"
   },
   {
    "duration": 28,
    "start_time": "2021-10-29T05:14:30.856Z"
   },
   {
    "duration": 10,
    "start_time": "2021-10-29T05:14:30.885Z"
   },
   {
    "duration": 128,
    "start_time": "2021-10-29T05:14:30.898Z"
   },
   {
    "duration": 20,
    "start_time": "2021-10-29T05:14:31.028Z"
   },
   {
    "duration": 4,
    "start_time": "2021-10-29T05:14:31.050Z"
   },
   {
    "duration": 39,
    "start_time": "2021-10-29T05:14:31.056Z"
   },
   {
    "duration": 8,
    "start_time": "2021-10-29T05:14:31.097Z"
   },
   {
    "duration": 17,
    "start_time": "2021-10-29T05:14:31.106Z"
   },
   {
    "duration": 30,
    "start_time": "2021-10-29T05:14:31.125Z"
   },
   {
    "duration": 20,
    "start_time": "2021-10-29T05:14:31.157Z"
   },
   {
    "duration": 11,
    "start_time": "2021-10-29T05:14:31.179Z"
   },
   {
    "duration": 4,
    "start_time": "2021-10-29T05:14:31.192Z"
   },
   {
    "duration": 11,
    "start_time": "2021-10-29T05:14:31.197Z"
   },
   {
    "duration": 19,
    "start_time": "2021-10-29T05:14:31.210Z"
   },
   {
    "duration": 10,
    "start_time": "2021-10-29T05:14:31.231Z"
   },
   {
    "duration": 13,
    "start_time": "2021-10-29T05:14:31.277Z"
   },
   {
    "duration": 4,
    "start_time": "2021-10-29T05:14:31.291Z"
   },
   {
    "duration": 27,
    "start_time": "2021-10-29T05:14:31.297Z"
   },
   {
    "duration": 220,
    "start_time": "2021-10-29T05:14:31.326Z"
   },
   {
    "duration": 6,
    "start_time": "2021-10-29T05:14:31.548Z"
   },
   {
    "duration": 22,
    "start_time": "2021-10-29T05:14:31.559Z"
   },
   {
    "duration": 202,
    "start_time": "2021-10-29T05:14:31.583Z"
   },
   {
    "duration": 183,
    "start_time": "2021-10-29T05:14:31.787Z"
   },
   {
    "duration": 237,
    "start_time": "2021-10-29T05:14:31.972Z"
   },
   {
    "duration": 12,
    "start_time": "2021-10-29T05:14:32.211Z"
   },
   {
    "duration": 285,
    "start_time": "2021-10-29T05:14:32.224Z"
   },
   {
    "duration": 5,
    "start_time": "2021-10-29T05:14:32.510Z"
   },
   {
    "duration": 15,
    "start_time": "2021-10-29T05:14:32.517Z"
   },
   {
    "duration": 5,
    "start_time": "2021-10-29T05:14:32.534Z"
   },
   {
    "duration": 127,
    "start_time": "2021-10-29T05:14:32.541Z"
   },
   {
    "duration": 7,
    "start_time": "2021-10-29T05:14:32.670Z"
   },
   {
    "duration": 8,
    "start_time": "2021-10-29T05:14:32.679Z"
   },
   {
    "duration": 4,
    "start_time": "2021-10-29T05:14:32.689Z"
   },
   {
    "duration": 8,
    "start_time": "2021-10-29T05:14:32.694Z"
   },
   {
    "duration": 17,
    "start_time": "2021-10-29T05:14:32.704Z"
   },
   {
    "duration": 13,
    "start_time": "2021-10-29T05:14:32.723Z"
   },
   {
    "duration": 5,
    "start_time": "2021-10-29T05:14:32.738Z"
   },
   {
    "duration": 1690,
    "start_time": "2021-10-29T05:15:28.877Z"
   },
   {
    "duration": 94,
    "start_time": "2021-10-29T05:15:30.569Z"
   },
   {
    "duration": 32,
    "start_time": "2021-10-29T05:15:30.665Z"
   },
   {
    "duration": 14,
    "start_time": "2021-10-29T05:15:30.699Z"
   },
   {
    "duration": 25,
    "start_time": "2021-10-29T05:15:30.715Z"
   },
   {
    "duration": 10,
    "start_time": "2021-10-29T05:15:30.742Z"
   },
   {
    "duration": 37,
    "start_time": "2021-10-29T05:15:30.754Z"
   },
   {
    "duration": 36,
    "start_time": "2021-10-29T05:15:30.794Z"
   },
   {
    "duration": 120,
    "start_time": "2021-10-29T05:15:30.832Z"
   },
   {
    "duration": 22,
    "start_time": "2021-10-29T05:15:30.954Z"
   },
   {
    "duration": 5,
    "start_time": "2021-10-29T05:15:30.979Z"
   },
   {
    "duration": 37,
    "start_time": "2021-10-29T05:15:30.986Z"
   },
   {
    "duration": 6,
    "start_time": "2021-10-29T05:15:31.025Z"
   },
   {
    "duration": 21,
    "start_time": "2021-10-29T05:15:31.033Z"
   },
   {
    "duration": 55,
    "start_time": "2021-10-29T05:15:31.056Z"
   },
   {
    "duration": 7,
    "start_time": "2021-10-29T05:15:31.113Z"
   },
   {
    "duration": 39,
    "start_time": "2021-10-29T05:15:31.122Z"
   },
   {
    "duration": 46,
    "start_time": "2021-10-29T05:15:31.164Z"
   },
   {
    "duration": 26,
    "start_time": "2021-10-29T05:15:31.212Z"
   },
   {
    "duration": 36,
    "start_time": "2021-10-29T05:15:31.241Z"
   },
   {
    "duration": 17,
    "start_time": "2021-10-29T05:15:31.280Z"
   },
   {
    "duration": 41,
    "start_time": "2021-10-29T05:15:31.299Z"
   },
   {
    "duration": 16,
    "start_time": "2021-10-29T05:15:31.344Z"
   },
   {
    "duration": 42,
    "start_time": "2021-10-29T05:15:31.362Z"
   },
   {
    "duration": 221,
    "start_time": "2021-10-29T05:15:31.406Z"
   },
   {
    "duration": 7,
    "start_time": "2021-10-29T05:15:31.628Z"
   },
   {
    "duration": 28,
    "start_time": "2021-10-29T05:15:31.636Z"
   },
   {
    "duration": 198,
    "start_time": "2021-10-29T05:15:31.666Z"
   },
   {
    "duration": 193,
    "start_time": "2021-10-29T05:15:31.866Z"
   },
   {
    "duration": 261,
    "start_time": "2021-10-29T05:15:32.061Z"
   },
   {
    "duration": 17,
    "start_time": "2021-10-29T05:15:32.324Z"
   },
   {
    "duration": 365,
    "start_time": "2021-10-29T05:15:32.343Z"
   },
   {
    "duration": 5,
    "start_time": "2021-10-29T05:15:32.709Z"
   },
   {
    "duration": 30,
    "start_time": "2021-10-29T05:15:32.715Z"
   },
   {
    "duration": 21,
    "start_time": "2021-10-29T05:15:32.747Z"
   },
   {
    "duration": 128,
    "start_time": "2021-10-29T05:15:32.769Z"
   },
   {
    "duration": 3,
    "start_time": "2021-10-29T05:15:32.899Z"
   },
   {
    "duration": 23,
    "start_time": "2021-10-29T05:15:32.904Z"
   },
   {
    "duration": 12,
    "start_time": "2021-10-29T05:15:32.929Z"
   },
   {
    "duration": 20,
    "start_time": "2021-10-29T05:15:32.943Z"
   },
   {
    "duration": 27,
    "start_time": "2021-10-29T05:15:32.965Z"
   },
   {
    "duration": 21,
    "start_time": "2021-10-29T05:15:32.994Z"
   },
   {
    "duration": 18,
    "start_time": "2021-10-29T05:15:33.017Z"
   },
   {
    "duration": 1685,
    "start_time": "2021-10-29T05:18:07.341Z"
   },
   {
    "duration": 91,
    "start_time": "2021-10-29T05:18:09.028Z"
   },
   {
    "duration": 29,
    "start_time": "2021-10-29T05:18:09.121Z"
   },
   {
    "duration": 15,
    "start_time": "2021-10-29T05:18:09.152Z"
   },
   {
    "duration": 21,
    "start_time": "2021-10-29T05:18:09.168Z"
   },
   {
    "duration": 4,
    "start_time": "2021-10-29T05:18:09.190Z"
   },
   {
    "duration": 18,
    "start_time": "2021-10-29T05:18:09.195Z"
   },
   {
    "duration": 5,
    "start_time": "2021-10-29T05:18:09.215Z"
   },
   {
    "duration": 127,
    "start_time": "2021-10-29T05:18:09.223Z"
   },
   {
    "duration": 33,
    "start_time": "2021-10-29T05:18:09.352Z"
   },
   {
    "duration": 4,
    "start_time": "2021-10-29T05:18:09.388Z"
   },
   {
    "duration": 27,
    "start_time": "2021-10-29T05:18:09.394Z"
   },
   {
    "duration": 7,
    "start_time": "2021-10-29T05:18:09.423Z"
   },
   {
    "duration": 13,
    "start_time": "2021-10-29T05:18:09.432Z"
   },
   {
    "duration": 56,
    "start_time": "2021-10-29T05:18:09.447Z"
   },
   {
    "duration": 7,
    "start_time": "2021-10-29T05:18:09.506Z"
   },
   {
    "duration": 13,
    "start_time": "2021-10-29T05:18:09.515Z"
   },
   {
    "duration": 6,
    "start_time": "2021-10-29T05:18:09.530Z"
   },
   {
    "duration": 47,
    "start_time": "2021-10-29T05:18:09.538Z"
   },
   {
    "duration": 32,
    "start_time": "2021-10-29T05:18:09.588Z"
   },
   {
    "duration": 13,
    "start_time": "2021-10-29T05:18:09.622Z"
   },
   {
    "duration": 43,
    "start_time": "2021-10-29T05:18:09.638Z"
   },
   {
    "duration": 4,
    "start_time": "2021-10-29T05:18:09.682Z"
   },
   {
    "duration": 26,
    "start_time": "2021-10-29T05:18:09.688Z"
   },
   {
    "duration": 232,
    "start_time": "2021-10-29T05:18:09.716Z"
   },
   {
    "duration": 6,
    "start_time": "2021-10-29T05:18:09.950Z"
   },
   {
    "duration": 21,
    "start_time": "2021-10-29T05:18:09.960Z"
   },
   {
    "duration": 189,
    "start_time": "2021-10-29T05:18:09.984Z"
   },
   {
    "duration": 183,
    "start_time": "2021-10-29T05:18:10.177Z"
   },
   {
    "duration": 371,
    "start_time": "2021-10-29T05:18:10.362Z"
   },
   {
    "duration": 16,
    "start_time": "2021-10-29T05:18:10.736Z"
   },
   {
    "duration": 288,
    "start_time": "2021-10-29T05:18:10.754Z"
   },
   {
    "duration": 6,
    "start_time": "2021-10-29T05:18:11.044Z"
   },
   {
    "duration": 36,
    "start_time": "2021-10-29T05:18:11.052Z"
   },
   {
    "duration": 6,
    "start_time": "2021-10-29T05:18:11.090Z"
   },
   {
    "duration": 116,
    "start_time": "2021-10-29T05:18:11.097Z"
   },
   {
    "duration": 4,
    "start_time": "2021-10-29T05:18:11.215Z"
   },
   {
    "duration": 9,
    "start_time": "2021-10-29T05:18:11.221Z"
   },
   {
    "duration": 5,
    "start_time": "2021-10-29T05:18:11.232Z"
   },
   {
    "duration": 5,
    "start_time": "2021-10-29T05:18:11.239Z"
   },
   {
    "duration": 42,
    "start_time": "2021-10-29T05:18:11.246Z"
   },
   {
    "duration": 14,
    "start_time": "2021-10-29T05:18:11.290Z"
   },
   {
    "duration": 5,
    "start_time": "2021-10-29T05:18:11.306Z"
   },
   {
    "duration": 3655316,
    "start_time": "2021-10-29T05:18:11.312Z"
   },
   {
    "duration": 4,
    "start_time": "2021-10-29T06:19:06.630Z"
   },
   {
    "duration": 78,
    "start_time": "2021-10-29T06:19:06.636Z"
   },
   {
    "duration": 79,
    "start_time": "2021-10-29T06:19:06.717Z"
   },
   {
    "duration": 5,
    "start_time": "2021-10-29T06:19:06.798Z"
   },
   {
    "duration": 15,
    "start_time": "2021-10-29T06:19:06.805Z"
   },
   {
    "duration": 7,
    "start_time": "2021-10-29T06:19:06.822Z"
   },
   {
    "duration": 4,
    "start_time": "2021-10-29T06:19:06.831Z"
   },
   {
    "duration": 48,
    "start_time": "2021-10-29T06:19:06.836Z"
   },
   {
    "duration": 17,
    "start_time": "2021-10-29T06:19:06.885Z"
   },
   {
    "duration": 73,
    "start_time": "2021-10-29T06:19:06.904Z"
   },
   {
    "duration": 98,
    "start_time": "2021-10-29T06:19:06.980Z"
   },
   {
    "duration": 4,
    "start_time": "2021-10-29T06:19:07.081Z"
   },
   {
    "duration": 31258,
    "start_time": "2021-10-29T06:19:07.087Z"
   },
   {
    "duration": 4,
    "start_time": "2021-10-29T06:19:38.347Z"
   },
   {
    "duration": 378,
    "start_time": "2021-10-29T06:19:38.353Z"
   },
   {
    "duration": 48,
    "start_time": "2021-10-29T06:19:38.732Z"
   },
   {
    "duration": 142,
    "start_time": "2021-10-29T06:19:38.782Z"
   },
   {
    "duration": 597,
    "start_time": "2021-10-29T06:19:38.927Z"
   },
   {
    "duration": 5,
    "start_time": "2021-10-29T10:20:24.698Z"
   },
   {
    "duration": 721,
    "start_time": "2021-10-29T10:20:50.855Z"
   },
   {
    "duration": 953,
    "start_time": "2021-10-29T10:21:25.968Z"
   },
   {
    "duration": 23,
    "start_time": "2021-10-29T10:21:53.969Z"
   },
   {
    "duration": 1574,
    "start_time": "2021-10-29T10:50:16.177Z"
   },
   {
    "duration": 90,
    "start_time": "2021-10-29T10:50:17.753Z"
   },
   {
    "duration": 32,
    "start_time": "2021-10-29T10:50:17.845Z"
   },
   {
    "duration": 21,
    "start_time": "2021-10-29T10:50:17.893Z"
   },
   {
    "duration": 36,
    "start_time": "2021-10-29T10:50:17.925Z"
   },
   {
    "duration": 5,
    "start_time": "2021-10-29T10:50:17.964Z"
   },
   {
    "duration": 58,
    "start_time": "2021-10-29T10:50:17.971Z"
   },
   {
    "duration": 14,
    "start_time": "2021-10-29T10:50:18.035Z"
   },
   {
    "duration": 195,
    "start_time": "2021-10-29T10:50:18.053Z"
   },
   {
    "duration": 44,
    "start_time": "2021-10-29T10:50:18.253Z"
   },
   {
    "duration": 11,
    "start_time": "2021-10-29T10:50:18.301Z"
   },
   {
    "duration": 37,
    "start_time": "2021-10-29T10:50:18.320Z"
   },
   {
    "duration": 9,
    "start_time": "2021-10-29T10:50:18.360Z"
   },
   {
    "duration": 13,
    "start_time": "2021-10-29T10:50:18.371Z"
   },
   {
    "duration": 29,
    "start_time": "2021-10-29T10:50:18.386Z"
   },
   {
    "duration": 7,
    "start_time": "2021-10-29T10:50:18.418Z"
   },
   {
    "duration": 13,
    "start_time": "2021-10-29T10:50:18.427Z"
   },
   {
    "duration": 4,
    "start_time": "2021-10-29T10:50:18.442Z"
   },
   {
    "duration": 35,
    "start_time": "2021-10-29T10:50:18.448Z"
   },
   {
    "duration": 19,
    "start_time": "2021-10-29T10:50:18.485Z"
   },
   {
    "duration": 10,
    "start_time": "2021-10-29T10:50:18.506Z"
   },
   {
    "duration": 13,
    "start_time": "2021-10-29T10:50:18.518Z"
   },
   {
    "duration": 4,
    "start_time": "2021-10-29T10:50:18.535Z"
   },
   {
    "duration": 55,
    "start_time": "2021-10-29T10:50:18.541Z"
   },
   {
    "duration": 209,
    "start_time": "2021-10-29T10:50:18.598Z"
   },
   {
    "duration": 7,
    "start_time": "2021-10-29T10:50:18.808Z"
   },
   {
    "duration": 7,
    "start_time": "2021-10-29T10:50:18.816Z"
   },
   {
    "duration": 202,
    "start_time": "2021-10-29T10:50:18.825Z"
   },
   {
    "duration": 183,
    "start_time": "2021-10-29T10:50:19.029Z"
   },
   {
    "duration": 240,
    "start_time": "2021-10-29T10:50:19.213Z"
   },
   {
    "duration": 12,
    "start_time": "2021-10-29T10:50:19.454Z"
   },
   {
    "duration": 272,
    "start_time": "2021-10-29T10:50:19.476Z"
   },
   {
    "duration": 4,
    "start_time": "2021-10-29T10:50:19.750Z"
   },
   {
    "duration": 25,
    "start_time": "2021-10-29T10:50:19.756Z"
   },
   {
    "duration": 7,
    "start_time": "2021-10-29T10:50:19.782Z"
   },
   {
    "duration": 116,
    "start_time": "2021-10-29T10:50:19.790Z"
   },
   {
    "duration": 4,
    "start_time": "2021-10-29T10:50:19.907Z"
   },
   {
    "duration": 9,
    "start_time": "2021-10-29T10:50:19.913Z"
   },
   {
    "duration": 4,
    "start_time": "2021-10-29T10:50:19.924Z"
   },
   {
    "duration": 5,
    "start_time": "2021-10-29T10:50:19.929Z"
   },
   {
    "duration": 44,
    "start_time": "2021-10-29T10:50:19.936Z"
   },
   {
    "duration": 14,
    "start_time": "2021-10-29T10:50:19.982Z"
   },
   {
    "duration": 5,
    "start_time": "2021-10-29T10:50:19.998Z"
   },
   {
    "duration": 13,
    "start_time": "2021-10-29T10:50:20.005Z"
   },
   {
    "duration": 15,
    "start_time": "2021-10-29T10:50:20.020Z"
   },
   {
    "duration": 12,
    "start_time": "2021-10-29T10:50:20.037Z"
   },
   {
    "duration": 32,
    "start_time": "2021-10-29T10:50:20.050Z"
   },
   {
    "duration": 4,
    "start_time": "2021-10-29T10:50:20.084Z"
   },
   {
    "duration": 15,
    "start_time": "2021-10-29T10:50:20.090Z"
   },
   {
    "duration": 6,
    "start_time": "2021-10-29T10:50:20.107Z"
   },
   {
    "duration": 3,
    "start_time": "2021-10-29T10:50:20.115Z"
   },
   {
    "duration": 16,
    "start_time": "2021-10-29T10:50:20.120Z"
   },
   {
    "duration": 45,
    "start_time": "2021-10-29T10:50:20.138Z"
   },
   {
    "duration": 95,
    "start_time": "2021-10-29T10:50:20.185Z"
   },
   {
    "duration": 100,
    "start_time": "2021-10-29T10:50:20.282Z"
   },
   {
    "duration": 4,
    "start_time": "2021-10-29T10:50:20.384Z"
   },
   {
    "duration": 32027,
    "start_time": "2021-10-29T10:50:20.390Z"
   },
   {
    "duration": 5,
    "start_time": "2021-10-29T10:50:52.419Z"
   },
   {
    "duration": 412,
    "start_time": "2021-10-29T10:50:52.426Z"
   },
   {
    "duration": 2,
    "start_time": "2021-10-29T10:50:52.839Z"
   },
   {
    "duration": 133,
    "start_time": "2021-10-29T10:50:52.843Z"
   },
   {
    "duration": 557,
    "start_time": "2021-10-29T10:50:52.978Z"
   },
   {
    "duration": 1716,
    "start_time": "2021-10-29T11:37:21.141Z"
   },
   {
    "duration": 94,
    "start_time": "2021-10-29T11:37:22.859Z"
   },
   {
    "duration": 45,
    "start_time": "2021-10-29T11:45:29.730Z"
   },
   {
    "duration": 23,
    "start_time": "2021-10-29T11:45:31.195Z"
   },
   {
    "duration": 34,
    "start_time": "2021-10-29T11:45:36.211Z"
   },
   {
    "duration": 5,
    "start_time": "2021-10-29T11:46:06.001Z"
   },
   {
    "duration": 24,
    "start_time": "2021-10-29T11:46:07.040Z"
   },
   {
    "duration": 19,
    "start_time": "2021-10-29T11:46:08.548Z"
   },
   {
    "duration": 154,
    "start_time": "2021-10-29T11:46:08.570Z"
   },
   {
    "duration": 21,
    "start_time": "2021-10-29T11:46:09.534Z"
   },
   {
    "duration": 4,
    "start_time": "2021-10-29T11:46:10.150Z"
   },
   {
    "duration": 22,
    "start_time": "2021-10-29T11:46:11.035Z"
   },
   {
    "duration": 6,
    "start_time": "2021-10-29T11:46:12.387Z"
   },
   {
    "duration": 11,
    "start_time": "2021-10-29T11:46:13.192Z"
   },
   {
    "duration": 30,
    "start_time": "2021-10-29T11:46:13.675Z"
   },
   {
    "duration": 7,
    "start_time": "2021-10-29T11:46:14.872Z"
   },
   {
    "duration": 12,
    "start_time": "2021-10-29T11:46:15.247Z"
   },
   {
    "duration": 4,
    "start_time": "2021-10-29T11:46:16.636Z"
   },
   {
    "duration": 8,
    "start_time": "2021-10-29T11:46:17.056Z"
   },
   {
    "duration": 30,
    "start_time": "2021-10-29T11:46:17.672Z"
   },
   {
    "duration": 15,
    "start_time": "2021-10-29T11:46:17.918Z"
   },
   {
    "duration": 20,
    "start_time": "2021-10-29T11:46:18.486Z"
   },
   {
    "duration": 3,
    "start_time": "2021-10-29T11:46:19.729Z"
   },
   {
    "duration": 23,
    "start_time": "2021-10-29T11:46:19.902Z"
   },
   {
    "duration": 200,
    "start_time": "2021-10-29T11:48:57.485Z"
   },
   {
    "duration": 6,
    "start_time": "2021-10-29T11:48:57.954Z"
   },
   {
    "duration": 8,
    "start_time": "2021-10-29T11:48:58.483Z"
   },
   {
    "duration": 183,
    "start_time": "2021-10-29T11:48:58.704Z"
   },
   {
    "duration": 172,
    "start_time": "2021-10-29T11:48:59.180Z"
   },
   {
    "duration": 237,
    "start_time": "2021-10-29T11:48:59.954Z"
   },
   {
    "duration": 13,
    "start_time": "2021-10-29T11:49:01.311Z"
   },
   {
    "duration": 302,
    "start_time": "2021-10-29T11:49:02.057Z"
   },
   {
    "duration": 5,
    "start_time": "2021-10-29T11:50:35.373Z"
   },
   {
    "duration": 15,
    "start_time": "2021-10-29T11:50:35.534Z"
   },
   {
    "duration": 6,
    "start_time": "2021-10-29T11:50:36.631Z"
   },
   {
    "duration": 25,
    "start_time": "2021-10-29T11:50:36.893Z"
   },
   {
    "duration": 4,
    "start_time": "2021-10-29T11:50:37.341Z"
   },
   {
    "duration": 8,
    "start_time": "2021-10-29T11:50:38.182Z"
   },
   {
    "duration": 4,
    "start_time": "2021-10-29T11:50:38.626Z"
   },
   {
    "duration": 448,
    "start_time": "2021-10-29T12:13:30.827Z"
   },
   {
    "duration": 1980,
    "start_time": "2021-10-29T12:17:36.766Z"
   },
   {
    "duration": 93,
    "start_time": "2021-10-29T12:17:38.748Z"
   },
   {
    "duration": 25,
    "start_time": "2021-10-29T12:17:38.843Z"
   },
   {
    "duration": 16,
    "start_time": "2021-10-29T12:17:38.870Z"
   },
   {
    "duration": 20,
    "start_time": "2021-10-29T12:17:38.888Z"
   },
   {
    "duration": 25,
    "start_time": "2021-10-29T12:17:38.910Z"
   },
   {
    "duration": 51,
    "start_time": "2021-10-29T12:17:38.937Z"
   },
   {
    "duration": 4,
    "start_time": "2021-10-29T12:17:38.990Z"
   },
   {
    "duration": 134,
    "start_time": "2021-10-29T12:17:38.996Z"
   },
   {
    "duration": 20,
    "start_time": "2021-10-29T12:17:39.132Z"
   },
   {
    "duration": 4,
    "start_time": "2021-10-29T12:17:39.153Z"
   },
   {
    "duration": 31,
    "start_time": "2021-10-29T12:17:39.159Z"
   },
   {
    "duration": 5,
    "start_time": "2021-10-29T12:17:39.192Z"
   },
   {
    "duration": 11,
    "start_time": "2021-10-29T12:17:39.199Z"
   },
   {
    "duration": 34,
    "start_time": "2021-10-29T12:17:39.211Z"
   },
   {
    "duration": 7,
    "start_time": "2021-10-29T12:17:39.277Z"
   },
   {
    "duration": 13,
    "start_time": "2021-10-29T12:17:39.286Z"
   },
   {
    "duration": 4,
    "start_time": "2021-10-29T12:17:39.301Z"
   },
   {
    "duration": 12,
    "start_time": "2021-10-29T12:17:39.307Z"
   },
   {
    "duration": 71,
    "start_time": "2021-10-29T12:17:39.320Z"
   },
   {
    "duration": 8,
    "start_time": "2021-10-29T12:17:39.393Z"
   },
   {
    "duration": 13,
    "start_time": "2021-10-29T12:17:39.403Z"
   },
   {
    "duration": 4,
    "start_time": "2021-10-29T12:17:39.420Z"
   },
   {
    "duration": 64,
    "start_time": "2021-10-29T12:17:39.426Z"
   },
   {
    "duration": 215,
    "start_time": "2021-10-29T12:17:39.491Z"
   },
   {
    "duration": 7,
    "start_time": "2021-10-29T12:17:39.708Z"
   },
   {
    "duration": 9,
    "start_time": "2021-10-29T12:17:39.716Z"
   },
   {
    "duration": 196,
    "start_time": "2021-10-29T12:17:39.726Z"
   },
   {
    "duration": 186,
    "start_time": "2021-10-29T12:17:39.924Z"
   },
   {
    "duration": 235,
    "start_time": "2021-10-29T12:17:40.112Z"
   },
   {
    "duration": 13,
    "start_time": "2021-10-29T12:17:40.348Z"
   },
   {
    "duration": 289,
    "start_time": "2021-10-29T12:17:40.363Z"
   },
   {
    "duration": 5,
    "start_time": "2021-10-29T12:17:40.653Z"
   },
   {
    "duration": 25,
    "start_time": "2021-10-29T12:17:40.659Z"
   },
   {
    "duration": 7,
    "start_time": "2021-10-29T12:17:40.686Z"
   },
   {
    "duration": 5,
    "start_time": "2021-10-29T12:17:40.694Z"
   },
   {
    "duration": 13,
    "start_time": "2021-10-29T12:17:40.701Z"
   },
   {
    "duration": 111,
    "start_time": "2021-10-29T12:17:40.716Z"
   },
   {
    "duration": 4,
    "start_time": "2021-10-29T12:17:40.828Z"
   },
   {
    "duration": 7,
    "start_time": "2021-10-29T12:17:40.833Z"
   },
   {
    "duration": 5,
    "start_time": "2021-10-29T12:17:40.841Z"
   },
   {
    "duration": 33,
    "start_time": "2021-10-29T12:17:40.848Z"
   },
   {
    "duration": 13,
    "start_time": "2021-10-29T12:17:40.882Z"
   },
   {
    "duration": 7,
    "start_time": "2021-10-29T12:17:40.897Z"
   },
   {
    "duration": 6,
    "start_time": "2021-10-29T12:17:40.906Z"
   },
   {
    "duration": 8,
    "start_time": "2021-10-29T12:17:40.914Z"
   },
   {
    "duration": 10,
    "start_time": "2021-10-29T12:17:40.924Z"
   },
   {
    "duration": 42,
    "start_time": "2021-10-29T12:17:40.936Z"
   },
   {
    "duration": 4,
    "start_time": "2021-10-29T12:17:40.980Z"
   },
   {
    "duration": 12,
    "start_time": "2021-10-29T12:17:40.986Z"
   },
   {
    "duration": 15,
    "start_time": "2021-10-29T12:17:40.999Z"
   },
   {
    "duration": 3,
    "start_time": "2021-10-29T12:17:41.015Z"
   },
   {
    "duration": 15,
    "start_time": "2021-10-29T12:17:41.020Z"
   },
   {
    "duration": 41,
    "start_time": "2021-10-29T12:17:41.037Z"
   },
   {
    "duration": 107,
    "start_time": "2021-10-29T12:17:41.079Z"
   },
   {
    "duration": 93,
    "start_time": "2021-10-29T12:17:41.188Z"
   },
   {
    "duration": 16,
    "start_time": "2021-10-29T12:17:41.282Z"
   },
   {
    "duration": 20024,
    "start_time": "2021-10-29T12:17:41.300Z"
   },
   {
    "duration": 3,
    "start_time": "2021-10-29T12:18:01.326Z"
   },
   {
    "duration": 180,
    "start_time": "2021-10-29T12:18:01.331Z"
   },
   {
    "duration": 2,
    "start_time": "2021-10-29T12:18:01.513Z"
   },
   {
    "duration": 77,
    "start_time": "2021-10-29T12:18:01.516Z"
   },
   {
    "duration": 570,
    "start_time": "2021-10-29T12:18:01.595Z"
   },
   {
    "duration": 111,
    "start_time": "2021-10-29T12:22:09.450Z"
   },
   {
    "duration": 111,
    "start_time": "2021-10-29T12:22:59.311Z"
   },
   {
    "duration": 106,
    "start_time": "2021-10-29T12:23:11.568Z"
   },
   {
    "duration": 3,
    "start_time": "2021-10-29T12:27:33.980Z"
   },
   {
    "duration": 10324,
    "start_time": "2021-10-29T12:36:38.635Z"
   },
   {
    "duration": 7,
    "start_time": "2021-10-29T12:37:05.917Z"
   },
   {
    "duration": 92,
    "start_time": "2021-10-29T12:37:05.926Z"
   },
   {
    "duration": 26,
    "start_time": "2021-10-29T12:37:06.020Z"
   },
   {
    "duration": 14,
    "start_time": "2021-10-29T12:37:06.048Z"
   },
   {
    "duration": 26,
    "start_time": "2021-10-29T12:37:06.064Z"
   },
   {
    "duration": 4,
    "start_time": "2021-10-29T12:37:06.092Z"
   },
   {
    "duration": 17,
    "start_time": "2021-10-29T12:37:06.097Z"
   },
   {
    "duration": 13,
    "start_time": "2021-10-29T12:37:06.115Z"
   },
   {
    "duration": 130,
    "start_time": "2021-10-29T12:37:06.131Z"
   },
   {
    "duration": 28,
    "start_time": "2021-10-29T12:37:06.263Z"
   },
   {
    "duration": 3,
    "start_time": "2021-10-29T12:37:06.293Z"
   },
   {
    "duration": 26,
    "start_time": "2021-10-29T12:37:06.298Z"
   },
   {
    "duration": 6,
    "start_time": "2021-10-29T12:37:06.326Z"
   },
   {
    "duration": 12,
    "start_time": "2021-10-29T12:37:06.333Z"
   },
   {
    "duration": 51,
    "start_time": "2021-10-29T12:37:06.347Z"
   },
   {
    "duration": 7,
    "start_time": "2021-10-29T12:37:06.399Z"
   },
   {
    "duration": 21,
    "start_time": "2021-10-29T12:37:06.407Z"
   },
   {
    "duration": 5,
    "start_time": "2021-10-29T12:37:06.429Z"
   },
   {
    "duration": 8,
    "start_time": "2021-10-29T12:37:06.435Z"
   },
   {
    "duration": 38,
    "start_time": "2021-10-29T12:37:06.445Z"
   },
   {
    "duration": 9,
    "start_time": "2021-10-29T12:37:06.484Z"
   },
   {
    "duration": 15,
    "start_time": "2021-10-29T12:37:06.495Z"
   },
   {
    "duration": 3,
    "start_time": "2021-10-29T12:37:06.512Z"
   },
   {
    "duration": 25,
    "start_time": "2021-10-29T12:37:06.517Z"
   },
   {
    "duration": 229,
    "start_time": "2021-10-29T12:37:06.544Z"
   },
   {
    "duration": 5,
    "start_time": "2021-10-29T12:37:06.776Z"
   },
   {
    "duration": 7,
    "start_time": "2021-10-29T12:37:06.785Z"
   },
   {
    "duration": 200,
    "start_time": "2021-10-29T12:37:06.794Z"
   },
   {
    "duration": 191,
    "start_time": "2021-10-29T12:37:06.996Z"
   },
   {
    "duration": 238,
    "start_time": "2021-10-29T12:37:07.189Z"
   },
   {
    "duration": 13,
    "start_time": "2021-10-29T12:37:07.429Z"
   },
   {
    "duration": 304,
    "start_time": "2021-10-29T12:37:07.444Z"
   },
   {
    "duration": 9116,
    "start_time": "2021-10-29T12:37:07.749Z"
   },
   {
    "duration": 194,
    "start_time": "2021-10-29T12:37:16.673Z"
   },
   {
    "duration": 182,
    "start_time": "2021-10-29T12:37:16.686Z"
   },
   {
    "duration": 177,
    "start_time": "2021-10-29T12:37:16.692Z"
   },
   {
    "duration": 163,
    "start_time": "2021-10-29T12:37:16.706Z"
   },
   {
    "duration": 152,
    "start_time": "2021-10-29T12:37:16.718Z"
   },
   {
    "duration": 147,
    "start_time": "2021-10-29T12:37:16.724Z"
   },
   {
    "duration": 138,
    "start_time": "2021-10-29T12:37:16.734Z"
   },
   {
    "duration": 134,
    "start_time": "2021-10-29T12:37:16.739Z"
   },
   {
    "duration": 121,
    "start_time": "2021-10-29T12:37:16.752Z"
   },
   {
    "duration": 116,
    "start_time": "2021-10-29T12:37:16.758Z"
   },
   {
    "duration": 101,
    "start_time": "2021-10-29T12:37:16.774Z"
   },
   {
    "duration": 98,
    "start_time": "2021-10-29T12:37:16.778Z"
   },
   {
    "duration": 94,
    "start_time": "2021-10-29T12:37:16.782Z"
   },
   {
    "duration": 92,
    "start_time": "2021-10-29T12:37:16.785Z"
   },
   {
    "duration": 87,
    "start_time": "2021-10-29T12:37:16.791Z"
   },
   {
    "duration": 82,
    "start_time": "2021-10-29T12:37:16.797Z"
   },
   {
    "duration": 79,
    "start_time": "2021-10-29T12:37:16.801Z"
   },
   {
    "duration": 75,
    "start_time": "2021-10-29T12:37:16.805Z"
   },
   {
    "duration": 72,
    "start_time": "2021-10-29T12:37:16.809Z"
   },
   {
    "duration": 69,
    "start_time": "2021-10-29T12:37:16.813Z"
   },
   {
    "duration": 66,
    "start_time": "2021-10-29T12:37:16.817Z"
   },
   {
    "duration": 62,
    "start_time": "2021-10-29T12:37:16.822Z"
   },
   {
    "duration": 59,
    "start_time": "2021-10-29T12:37:16.826Z"
   },
   {
    "duration": 56,
    "start_time": "2021-10-29T12:37:16.830Z"
   },
   {
    "duration": 53,
    "start_time": "2021-10-29T12:37:16.834Z"
   },
   {
    "duration": 49,
    "start_time": "2021-10-29T12:37:16.839Z"
   },
   {
    "duration": 46,
    "start_time": "2021-10-29T12:37:16.843Z"
   },
   {
    "duration": 43,
    "start_time": "2021-10-29T12:37:16.846Z"
   },
   {
    "duration": 40,
    "start_time": "2021-10-29T12:37:16.850Z"
   },
   {
    "duration": 37,
    "start_time": "2021-10-29T12:37:16.854Z"
   },
   {
    "duration": 33,
    "start_time": "2021-10-29T12:37:16.859Z"
   },
   {
    "duration": 10595,
    "start_time": "2021-10-29T12:38:35.387Z"
   },
   {
    "duration": 354,
    "start_time": "2021-10-29T12:39:05.411Z"
   },
   {
    "duration": 476,
    "start_time": "2021-10-29T12:39:37.508Z"
   },
   {
    "duration": 9,
    "start_time": "2021-10-29T12:42:52.053Z"
   },
   {
    "duration": 8,
    "start_time": "2021-10-29T12:43:53.651Z"
   },
   {
    "duration": 345,
    "start_time": "2021-10-29T12:45:02.821Z"
   },
   {
    "duration": 41,
    "start_time": "2021-10-29T12:46:11.294Z"
   },
   {
    "duration": 87,
    "start_time": "2021-10-29T12:46:11.337Z"
   },
   {
    "duration": 26,
    "start_time": "2021-10-29T12:46:11.426Z"
   },
   {
    "duration": 15,
    "start_time": "2021-10-29T12:46:11.454Z"
   },
   {
    "duration": 16,
    "start_time": "2021-10-29T12:46:11.471Z"
   },
   {
    "duration": 10,
    "start_time": "2021-10-29T12:46:11.488Z"
   },
   {
    "duration": 28,
    "start_time": "2021-10-29T12:46:11.499Z"
   },
   {
    "duration": 8,
    "start_time": "2021-10-29T12:46:11.530Z"
   },
   {
    "duration": 134,
    "start_time": "2021-10-29T12:46:11.540Z"
   },
   {
    "duration": 20,
    "start_time": "2021-10-29T12:46:11.676Z"
   },
   {
    "duration": 4,
    "start_time": "2021-10-29T12:46:11.697Z"
   },
   {
    "duration": 25,
    "start_time": "2021-10-29T12:46:11.702Z"
   },
   {
    "duration": 6,
    "start_time": "2021-10-29T12:46:11.728Z"
   },
   {
    "duration": 43,
    "start_time": "2021-10-29T12:46:11.736Z"
   },
   {
    "duration": 25,
    "start_time": "2021-10-29T12:46:11.781Z"
   },
   {
    "duration": 16,
    "start_time": "2021-10-29T12:46:11.808Z"
   },
   {
    "duration": 37,
    "start_time": "2021-10-29T12:46:11.825Z"
   },
   {
    "duration": 10,
    "start_time": "2021-10-29T12:46:11.863Z"
   },
   {
    "duration": 23,
    "start_time": "2021-10-29T12:46:11.875Z"
   },
   {
    "duration": 35,
    "start_time": "2021-10-29T12:46:11.900Z"
   },
   {
    "duration": 17,
    "start_time": "2021-10-29T12:46:11.937Z"
   },
   {
    "duration": 42,
    "start_time": "2021-10-29T12:46:11.957Z"
   },
   {
    "duration": 4,
    "start_time": "2021-10-29T12:46:12.005Z"
   },
   {
    "duration": 54,
    "start_time": "2021-10-29T12:46:12.012Z"
   },
   {
    "duration": 198,
    "start_time": "2021-10-29T12:46:12.069Z"
   },
   {
    "duration": 11,
    "start_time": "2021-10-29T12:46:12.268Z"
   },
   {
    "duration": 20,
    "start_time": "2021-10-29T12:46:12.281Z"
   },
   {
    "duration": 206,
    "start_time": "2021-10-29T12:46:12.303Z"
   },
   {
    "duration": 290,
    "start_time": "2021-10-29T12:46:12.510Z"
   },
   {
    "duration": 247,
    "start_time": "2021-10-29T12:46:12.802Z"
   },
   {
    "duration": 13,
    "start_time": "2021-10-29T12:46:13.051Z"
   },
   {
    "duration": 286,
    "start_time": "2021-10-29T12:46:13.066Z"
   },
   {
    "duration": 419,
    "start_time": "2021-10-29T12:46:13.354Z"
   },
   {
    "duration": 6,
    "start_time": "2021-10-29T12:46:13.776Z"
   },
   {
    "duration": 23,
    "start_time": "2021-10-29T12:46:13.784Z"
   },
   {
    "duration": 8,
    "start_time": "2021-10-29T12:46:13.809Z"
   },
   {
    "duration": 6,
    "start_time": "2021-10-29T12:46:13.819Z"
   },
   {
    "duration": 10,
    "start_time": "2021-10-29T12:46:13.827Z"
   },
   {
    "duration": 5,
    "start_time": "2021-10-29T12:46:13.838Z"
   },
   {
    "duration": 44,
    "start_time": "2021-10-29T12:46:13.844Z"
   },
   {
    "duration": 4,
    "start_time": "2021-10-29T12:46:13.890Z"
   },
   {
    "duration": 6,
    "start_time": "2021-10-29T12:46:13.896Z"
   },
   {
    "duration": 15,
    "start_time": "2021-10-29T12:46:13.904Z"
   },
   {
    "duration": 14,
    "start_time": "2021-10-29T12:46:13.921Z"
   },
   {
    "duration": 40,
    "start_time": "2021-10-29T12:46:13.937Z"
   },
   {
    "duration": 3,
    "start_time": "2021-10-29T12:46:13.979Z"
   },
   {
    "duration": 5,
    "start_time": "2021-10-29T12:46:13.984Z"
   },
   {
    "duration": 16,
    "start_time": "2021-10-29T12:46:13.991Z"
   },
   {
    "duration": 30,
    "start_time": "2021-10-29T12:46:14.009Z"
   },
   {
    "duration": 5,
    "start_time": "2021-10-29T12:46:14.041Z"
   },
   {
    "duration": 28,
    "start_time": "2021-10-29T12:46:14.048Z"
   },
   {
    "duration": 13,
    "start_time": "2021-10-29T12:46:14.078Z"
   },
   {
    "duration": 4,
    "start_time": "2021-10-29T12:46:14.093Z"
   },
   {
    "duration": 15,
    "start_time": "2021-10-29T12:46:14.098Z"
   },
   {
    "duration": 15,
    "start_time": "2021-10-29T12:46:14.115Z"
   },
   {
    "duration": 67,
    "start_time": "2021-10-29T12:46:14.132Z"
   },
   {
    "duration": 175,
    "start_time": "2021-10-29T12:46:14.202Z"
   },
   {
    "duration": 4,
    "start_time": "2021-10-29T12:46:14.378Z"
   },
   {
    "duration": 24030,
    "start_time": "2021-10-29T12:46:14.384Z"
   },
   {
    "duration": 3,
    "start_time": "2021-10-29T12:46:38.415Z"
   },
   {
    "duration": 107,
    "start_time": "2021-10-29T12:46:38.420Z"
   },
   {
    "duration": 2,
    "start_time": "2021-10-29T12:46:38.528Z"
   },
   {
    "duration": 51,
    "start_time": "2021-10-29T12:46:38.532Z"
   },
   {
    "duration": 18,
    "start_time": "2021-10-29T12:46:38.584Z"
   },
   {
    "duration": 1705,
    "start_time": "2021-10-29T12:57:06.827Z"
   },
   {
    "duration": 102,
    "start_time": "2021-10-29T12:57:08.534Z"
   },
   {
    "duration": 36,
    "start_time": "2021-10-29T12:57:08.639Z"
   },
   {
    "duration": 14,
    "start_time": "2021-10-29T12:57:08.677Z"
   },
   {
    "duration": 19,
    "start_time": "2021-10-29T12:57:08.693Z"
   },
   {
    "duration": 3,
    "start_time": "2021-10-29T12:57:08.714Z"
   },
   {
    "duration": 19,
    "start_time": "2021-10-29T12:57:08.719Z"
   },
   {
    "duration": 3,
    "start_time": "2021-10-29T12:57:08.740Z"
   },
   {
    "duration": 133,
    "start_time": "2021-10-29T12:57:08.746Z"
   },
   {
    "duration": 19,
    "start_time": "2021-10-29T12:57:08.881Z"
   },
   {
    "duration": 3,
    "start_time": "2021-10-29T12:57:08.902Z"
   },
   {
    "duration": 24,
    "start_time": "2021-10-29T12:57:08.907Z"
   },
   {
    "duration": 6,
    "start_time": "2021-10-29T12:57:08.932Z"
   },
   {
    "duration": 39,
    "start_time": "2021-10-29T12:57:08.939Z"
   },
   {
    "duration": 25,
    "start_time": "2021-10-29T12:57:08.979Z"
   },
   {
    "duration": 5,
    "start_time": "2021-10-29T12:57:09.006Z"
   },
   {
    "duration": 10,
    "start_time": "2021-10-29T12:57:09.013Z"
   },
   {
    "duration": 16,
    "start_time": "2021-10-29T12:57:09.025Z"
   },
   {
    "duration": 10,
    "start_time": "2021-10-29T12:57:09.043Z"
   },
   {
    "duration": 39,
    "start_time": "2021-10-29T12:57:09.054Z"
   },
   {
    "duration": 9,
    "start_time": "2021-10-29T12:57:09.095Z"
   },
   {
    "duration": 14,
    "start_time": "2021-10-29T12:57:09.106Z"
   },
   {
    "duration": 8,
    "start_time": "2021-10-29T12:57:09.122Z"
   },
   {
    "duration": 30,
    "start_time": "2021-10-29T12:57:09.132Z"
   },
   {
    "duration": 214,
    "start_time": "2021-10-29T12:57:09.164Z"
   },
   {
    "duration": 8,
    "start_time": "2021-10-29T12:57:09.380Z"
   },
   {
    "duration": 7,
    "start_time": "2021-10-29T12:57:09.393Z"
   },
   {
    "duration": 205,
    "start_time": "2021-10-29T12:57:09.403Z"
   },
   {
    "duration": 199,
    "start_time": "2021-10-29T12:57:09.610Z"
   },
   {
    "duration": 233,
    "start_time": "2021-10-29T12:57:09.811Z"
   },
   {
    "duration": 12,
    "start_time": "2021-10-29T12:57:10.046Z"
   },
   {
    "duration": 356,
    "start_time": "2021-10-29T12:57:10.060Z"
   },
   {
    "duration": 286,
    "start_time": "2021-10-29T12:57:10.418Z"
   },
   {
    "duration": 4,
    "start_time": "2021-10-29T12:57:10.706Z"
   },
   {
    "duration": 16,
    "start_time": "2021-10-29T12:57:10.712Z"
   },
   {
    "duration": 5,
    "start_time": "2021-10-29T12:57:10.729Z"
   },
   {
    "duration": 5,
    "start_time": "2021-10-29T12:57:10.736Z"
   },
   {
    "duration": 11,
    "start_time": "2021-10-29T12:57:10.743Z"
   },
   {
    "duration": 4,
    "start_time": "2021-10-29T12:57:10.777Z"
   },
   {
    "duration": 20,
    "start_time": "2021-10-29T12:57:10.783Z"
   },
   {
    "duration": 3,
    "start_time": "2021-10-29T12:57:10.805Z"
   },
   {
    "duration": 6,
    "start_time": "2021-10-29T12:57:10.809Z"
   },
   {
    "duration": 508,
    "start_time": "2021-10-29T12:57:10.817Z"
   },
   {
    "duration": 186,
    "start_time": "2021-10-29T12:57:11.141Z"
   },
   {
    "duration": 181,
    "start_time": "2021-10-29T12:57:11.146Z"
   },
   {
    "duration": 175,
    "start_time": "2021-10-29T12:57:11.153Z"
   },
   {
    "duration": 172,
    "start_time": "2021-10-29T12:57:11.157Z"
   },
   {
    "duration": 165,
    "start_time": "2021-10-29T12:57:11.165Z"
   },
   {
    "duration": 163,
    "start_time": "2021-10-29T12:57:11.168Z"
   },
   {
    "duration": 159,
    "start_time": "2021-10-29T12:57:11.173Z"
   },
   {
    "duration": 156,
    "start_time": "2021-10-29T12:57:11.177Z"
   },
   {
    "duration": 152,
    "start_time": "2021-10-29T12:57:11.182Z"
   },
   {
    "duration": 148,
    "start_time": "2021-10-29T12:57:11.187Z"
   },
   {
    "duration": 144,
    "start_time": "2021-10-29T12:57:11.191Z"
   },
   {
    "duration": 142,
    "start_time": "2021-10-29T12:57:11.195Z"
   },
   {
    "duration": 130,
    "start_time": "2021-10-29T12:57:11.208Z"
   },
   {
    "duration": 127,
    "start_time": "2021-10-29T12:57:11.211Z"
   },
   {
    "duration": 123,
    "start_time": "2021-10-29T12:57:11.216Z"
   },
   {
    "duration": 120,
    "start_time": "2021-10-29T12:57:11.220Z"
   },
   {
    "duration": 117,
    "start_time": "2021-10-29T12:57:11.224Z"
   },
   {
    "duration": 113,
    "start_time": "2021-10-29T12:57:11.229Z"
   },
   {
    "duration": 108,
    "start_time": "2021-10-29T12:57:11.235Z"
   },
   {
    "duration": 106,
    "start_time": "2021-10-29T12:57:11.238Z"
   },
   {
    "duration": 101,
    "start_time": "2021-10-29T12:57:11.244Z"
   },
   {
    "duration": 1585,
    "start_time": "2021-10-29T12:57:43.319Z"
   },
   {
    "duration": 88,
    "start_time": "2021-10-29T12:57:44.906Z"
   },
   {
    "duration": 28,
    "start_time": "2021-10-29T12:57:44.996Z"
   },
   {
    "duration": 14,
    "start_time": "2021-10-29T12:57:45.026Z"
   },
   {
    "duration": 20,
    "start_time": "2021-10-29T12:57:45.042Z"
   },
   {
    "duration": 14,
    "start_time": "2021-10-29T12:57:45.064Z"
   },
   {
    "duration": 19,
    "start_time": "2021-10-29T12:57:45.080Z"
   },
   {
    "duration": 4,
    "start_time": "2021-10-29T12:57:45.102Z"
   },
   {
    "duration": 125,
    "start_time": "2021-10-29T12:57:45.108Z"
   },
   {
    "duration": 21,
    "start_time": "2021-10-29T12:57:45.235Z"
   },
   {
    "duration": 3,
    "start_time": "2021-10-29T12:57:45.258Z"
   },
   {
    "duration": 34,
    "start_time": "2021-10-29T12:57:45.263Z"
   },
   {
    "duration": 7,
    "start_time": "2021-10-29T12:57:45.298Z"
   },
   {
    "duration": 22,
    "start_time": "2021-10-29T12:57:45.306Z"
   },
   {
    "duration": 27,
    "start_time": "2021-10-29T12:57:45.330Z"
   },
   {
    "duration": 24,
    "start_time": "2021-10-29T12:57:45.359Z"
   },
   {
    "duration": 15,
    "start_time": "2021-10-29T12:57:45.385Z"
   },
   {
    "duration": 6,
    "start_time": "2021-10-29T12:57:45.402Z"
   },
   {
    "duration": 14,
    "start_time": "2021-10-29T12:57:45.409Z"
   },
   {
    "duration": 22,
    "start_time": "2021-10-29T12:57:45.425Z"
   },
   {
    "duration": 33,
    "start_time": "2021-10-29T12:57:45.449Z"
   },
   {
    "duration": 14,
    "start_time": "2021-10-29T12:57:45.484Z"
   },
   {
    "duration": 3,
    "start_time": "2021-10-29T12:57:45.502Z"
   },
   {
    "duration": 30,
    "start_time": "2021-10-29T12:57:45.508Z"
   },
   {
    "duration": 222,
    "start_time": "2021-10-29T12:57:45.539Z"
   },
   {
    "duration": 14,
    "start_time": "2021-10-29T12:57:45.763Z"
   },
   {
    "duration": 8,
    "start_time": "2021-10-29T12:57:45.779Z"
   },
   {
    "duration": 189,
    "start_time": "2021-10-29T12:57:45.789Z"
   },
   {
    "duration": 181,
    "start_time": "2021-10-29T12:57:45.980Z"
   },
   {
    "duration": 250,
    "start_time": "2021-10-29T12:57:46.163Z"
   },
   {
    "duration": 12,
    "start_time": "2021-10-29T12:57:46.414Z"
   },
   {
    "duration": 367,
    "start_time": "2021-10-29T12:57:46.427Z"
   },
   {
    "duration": 314,
    "start_time": "2021-10-29T12:57:46.796Z"
   },
   {
    "duration": 5,
    "start_time": "2021-10-29T12:57:47.111Z"
   },
   {
    "duration": 20,
    "start_time": "2021-10-29T12:57:47.117Z"
   },
   {
    "duration": 5,
    "start_time": "2021-10-29T12:57:47.139Z"
   },
   {
    "duration": 17,
    "start_time": "2021-10-29T12:57:47.145Z"
   },
   {
    "duration": 17,
    "start_time": "2021-10-29T12:57:47.164Z"
   },
   {
    "duration": 8,
    "start_time": "2021-10-29T12:57:47.183Z"
   },
   {
    "duration": 31,
    "start_time": "2021-10-29T12:57:47.193Z"
   },
   {
    "duration": 4,
    "start_time": "2021-10-29T12:57:47.225Z"
   },
   {
    "duration": 10,
    "start_time": "2021-10-29T12:57:47.230Z"
   },
   {
    "duration": 13,
    "start_time": "2021-10-29T12:57:47.242Z"
   },
   {
    "duration": 20,
    "start_time": "2021-10-29T12:57:47.257Z"
   },
   {
    "duration": 9,
    "start_time": "2021-10-29T12:57:47.279Z"
   },
   {
    "duration": 9,
    "start_time": "2021-10-29T12:57:47.289Z"
   },
   {
    "duration": 11,
    "start_time": "2021-10-29T12:57:47.300Z"
   },
   {
    "duration": 10,
    "start_time": "2021-10-29T12:57:47.313Z"
   },
   {
    "duration": 34,
    "start_time": "2021-10-29T12:57:47.324Z"
   },
   {
    "duration": 5,
    "start_time": "2021-10-29T12:57:47.360Z"
   },
   {
    "duration": 16,
    "start_time": "2021-10-29T12:57:47.367Z"
   },
   {
    "duration": 29,
    "start_time": "2021-10-29T12:57:47.385Z"
   },
   {
    "duration": 3,
    "start_time": "2021-10-29T12:57:47.416Z"
   },
   {
    "duration": 506,
    "start_time": "2021-10-29T12:57:47.421Z"
   },
   {
    "duration": 192,
    "start_time": "2021-10-29T12:57:47.737Z"
   },
   {
    "duration": 187,
    "start_time": "2021-10-29T12:57:47.743Z"
   },
   {
    "duration": 185,
    "start_time": "2021-10-29T12:57:47.746Z"
   },
   {
    "duration": 182,
    "start_time": "2021-10-29T12:57:47.750Z"
   },
   {
    "duration": 178,
    "start_time": "2021-10-29T12:57:47.755Z"
   },
   {
    "duration": 175,
    "start_time": "2021-10-29T12:57:47.759Z"
   },
   {
    "duration": 173,
    "start_time": "2021-10-29T12:57:47.763Z"
   },
   {
    "duration": 170,
    "start_time": "2021-10-29T12:57:47.767Z"
   },
   {
    "duration": 166,
    "start_time": "2021-10-29T12:57:47.772Z"
   },
   {
    "duration": 163,
    "start_time": "2021-10-29T12:57:47.776Z"
   },
   {
    "duration": 1606,
    "start_time": "2021-10-29T12:58:05.205Z"
   },
   {
    "duration": 88,
    "start_time": "2021-10-29T12:58:06.813Z"
   },
   {
    "duration": 27,
    "start_time": "2021-10-29T12:58:06.905Z"
   },
   {
    "duration": 14,
    "start_time": "2021-10-29T12:58:06.934Z"
   },
   {
    "duration": 27,
    "start_time": "2021-10-29T12:58:06.950Z"
   },
   {
    "duration": 3,
    "start_time": "2021-10-29T12:58:06.979Z"
   },
   {
    "duration": 32,
    "start_time": "2021-10-29T12:58:06.984Z"
   },
   {
    "duration": 18,
    "start_time": "2021-10-29T12:58:07.019Z"
   },
   {
    "duration": 129,
    "start_time": "2021-10-29T12:58:07.039Z"
   },
   {
    "duration": 22,
    "start_time": "2021-10-29T12:58:07.170Z"
   },
   {
    "duration": 4,
    "start_time": "2021-10-29T12:58:07.194Z"
   },
   {
    "duration": 24,
    "start_time": "2021-10-29T12:58:07.200Z"
   },
   {
    "duration": 6,
    "start_time": "2021-10-29T12:58:07.226Z"
   },
   {
    "duration": 13,
    "start_time": "2021-10-29T12:58:07.234Z"
   },
   {
    "duration": 52,
    "start_time": "2021-10-29T12:58:07.249Z"
   },
   {
    "duration": 6,
    "start_time": "2021-10-29T12:58:07.303Z"
   },
   {
    "duration": 10,
    "start_time": "2021-10-29T12:58:07.311Z"
   },
   {
    "duration": 5,
    "start_time": "2021-10-29T12:58:07.323Z"
   },
   {
    "duration": 9,
    "start_time": "2021-10-29T12:58:07.329Z"
   },
   {
    "duration": 53,
    "start_time": "2021-10-29T12:58:07.339Z"
   },
   {
    "duration": 10,
    "start_time": "2021-10-29T12:58:07.394Z"
   },
   {
    "duration": 16,
    "start_time": "2021-10-29T12:58:07.406Z"
   },
   {
    "duration": 4,
    "start_time": "2021-10-29T12:58:07.424Z"
   },
   {
    "duration": 56,
    "start_time": "2021-10-29T12:58:07.430Z"
   },
   {
    "duration": 225,
    "start_time": "2021-10-29T12:58:07.488Z"
   },
   {
    "duration": 6,
    "start_time": "2021-10-29T12:58:07.717Z"
   },
   {
    "duration": 6,
    "start_time": "2021-10-29T12:58:07.726Z"
   },
   {
    "duration": 202,
    "start_time": "2021-10-29T12:58:07.734Z"
   },
   {
    "duration": 186,
    "start_time": "2021-10-29T12:58:07.937Z"
   },
   {
    "duration": 228,
    "start_time": "2021-10-29T12:58:08.125Z"
   },
   {
    "duration": 22,
    "start_time": "2021-10-29T12:58:08.355Z"
   },
   {
    "duration": 340,
    "start_time": "2021-10-29T12:58:08.379Z"
   },
   {
    "duration": 293,
    "start_time": "2021-10-29T12:58:08.720Z"
   },
   {
    "duration": 6,
    "start_time": "2021-10-29T12:58:09.015Z"
   },
   {
    "duration": 23,
    "start_time": "2021-10-29T12:58:09.023Z"
   },
   {
    "duration": 4,
    "start_time": "2021-10-29T12:58:09.048Z"
   },
   {
    "duration": 24,
    "start_time": "2021-10-29T12:58:09.053Z"
   },
   {
    "duration": 17,
    "start_time": "2021-10-29T12:58:09.079Z"
   },
   {
    "duration": 4,
    "start_time": "2021-10-29T12:58:09.098Z"
   },
   {
    "duration": 21,
    "start_time": "2021-10-29T12:58:09.104Z"
   },
   {
    "duration": 4,
    "start_time": "2021-10-29T12:58:09.127Z"
   },
   {
    "duration": 8,
    "start_time": "2021-10-29T12:58:09.133Z"
   },
   {
    "duration": 35,
    "start_time": "2021-10-29T12:58:09.142Z"
   },
   {
    "duration": 13,
    "start_time": "2021-10-29T12:58:09.179Z"
   },
   {
    "duration": 6,
    "start_time": "2021-10-29T12:58:09.193Z"
   },
   {
    "duration": 6,
    "start_time": "2021-10-29T12:58:09.201Z"
   },
   {
    "duration": 5,
    "start_time": "2021-10-29T12:58:09.209Z"
   },
   {
    "duration": 5,
    "start_time": "2021-10-29T12:58:09.216Z"
   },
   {
    "duration": 31,
    "start_time": "2021-10-29T12:58:09.223Z"
   },
   {
    "duration": 6,
    "start_time": "2021-10-29T12:58:09.276Z"
   },
   {
    "duration": 6,
    "start_time": "2021-10-29T12:58:09.284Z"
   },
   {
    "duration": 14,
    "start_time": "2021-10-29T12:58:09.292Z"
   },
   {
    "duration": 4,
    "start_time": "2021-10-29T12:58:09.308Z"
   },
   {
    "duration": 16,
    "start_time": "2021-10-29T12:58:09.313Z"
   },
   {
    "duration": 47,
    "start_time": "2021-10-29T12:58:09.331Z"
   },
   {
    "duration": 26,
    "start_time": "2021-10-29T12:58:09.380Z"
   },
   {
    "duration": 70,
    "start_time": "2021-10-29T12:58:09.408Z"
   },
   {
    "duration": 103,
    "start_time": "2021-10-29T12:58:09.480Z"
   },
   {
    "duration": 22227,
    "start_time": "2021-10-29T12:58:09.585Z"
   },
   {
    "duration": 4,
    "start_time": "2021-10-29T12:58:31.814Z"
   },
   {
    "duration": 134,
    "start_time": "2021-10-29T12:58:31.820Z"
   },
   {
    "duration": 2,
    "start_time": "2021-10-29T12:58:31.956Z"
   },
   {
    "duration": 60,
    "start_time": "2021-10-29T12:58:31.959Z"
   },
   {
    "duration": 583,
    "start_time": "2021-10-29T12:58:32.021Z"
   },
   {
    "duration": 479,
    "start_time": "2021-10-29T13:07:52.037Z"
   },
   {
    "duration": 1644,
    "start_time": "2021-10-29T13:10:29.766Z"
   },
   {
    "duration": 86,
    "start_time": "2021-10-29T13:10:31.412Z"
   },
   {
    "duration": 26,
    "start_time": "2021-10-29T13:10:31.500Z"
   },
   {
    "duration": 14,
    "start_time": "2021-10-29T13:10:31.528Z"
   },
   {
    "duration": 20,
    "start_time": "2021-10-29T13:10:31.544Z"
   },
   {
    "duration": 12,
    "start_time": "2021-10-29T13:10:31.566Z"
   },
   {
    "duration": 30,
    "start_time": "2021-10-29T13:10:31.580Z"
   },
   {
    "duration": 8,
    "start_time": "2021-10-29T13:10:31.612Z"
   },
   {
    "duration": 117,
    "start_time": "2021-10-29T13:10:31.622Z"
   },
   {
    "duration": 19,
    "start_time": "2021-10-29T13:10:31.742Z"
   },
   {
    "duration": 3,
    "start_time": "2021-10-29T13:10:31.763Z"
   },
   {
    "duration": 28,
    "start_time": "2021-10-29T13:10:31.768Z"
   },
   {
    "duration": 6,
    "start_time": "2021-10-29T13:10:31.798Z"
   },
   {
    "duration": 15,
    "start_time": "2021-10-29T13:10:31.805Z"
   },
   {
    "duration": 25,
    "start_time": "2021-10-29T13:10:31.822Z"
   },
   {
    "duration": 32,
    "start_time": "2021-10-29T13:10:31.849Z"
   },
   {
    "duration": 10,
    "start_time": "2021-10-29T13:10:31.883Z"
   },
   {
    "duration": 4,
    "start_time": "2021-10-29T13:10:31.895Z"
   },
   {
    "duration": 8,
    "start_time": "2021-10-29T13:10:31.901Z"
   },
   {
    "duration": 18,
    "start_time": "2021-10-29T13:10:31.910Z"
   },
   {
    "duration": 9,
    "start_time": "2021-10-29T13:10:31.930Z"
   },
   {
    "duration": 44,
    "start_time": "2021-10-29T13:10:31.941Z"
   },
   {
    "duration": 4,
    "start_time": "2021-10-29T13:10:31.986Z"
   },
   {
    "duration": 32,
    "start_time": "2021-10-29T13:10:31.992Z"
   },
   {
    "duration": 208,
    "start_time": "2021-10-29T13:10:32.025Z"
   },
   {
    "duration": 6,
    "start_time": "2021-10-29T13:10:32.235Z"
   },
   {
    "duration": 17,
    "start_time": "2021-10-29T13:10:32.245Z"
   },
   {
    "duration": 200,
    "start_time": "2021-10-29T13:10:32.265Z"
   },
   {
    "duration": 181,
    "start_time": "2021-10-29T13:10:32.468Z"
   },
   {
    "duration": 234,
    "start_time": "2021-10-29T13:10:32.651Z"
   },
   {
    "duration": 12,
    "start_time": "2021-10-29T13:10:32.886Z"
   },
   {
    "duration": 350,
    "start_time": "2021-10-29T13:10:32.899Z"
   },
   {
    "duration": 310,
    "start_time": "2021-10-29T13:10:33.250Z"
   },
   {
    "duration": 14,
    "start_time": "2021-10-29T13:10:33.562Z"
   },
   {
    "duration": 38,
    "start_time": "2021-10-29T13:10:33.578Z"
   },
   {
    "duration": 25,
    "start_time": "2021-10-29T13:10:33.618Z"
   },
   {
    "duration": 9,
    "start_time": "2021-10-29T13:10:33.645Z"
   },
   {
    "duration": 20,
    "start_time": "2021-10-29T13:10:33.655Z"
   },
   {
    "duration": 10,
    "start_time": "2021-10-29T13:10:33.677Z"
   },
   {
    "duration": 22,
    "start_time": "2021-10-29T13:10:33.689Z"
   },
   {
    "duration": 5,
    "start_time": "2021-10-29T13:10:33.712Z"
   },
   {
    "duration": 17,
    "start_time": "2021-10-29T13:10:33.719Z"
   },
   {
    "duration": 13,
    "start_time": "2021-10-29T13:10:33.738Z"
   },
   {
    "duration": 17,
    "start_time": "2021-10-29T13:10:33.753Z"
   },
   {
    "duration": 4,
    "start_time": "2021-10-29T13:10:33.777Z"
   },
   {
    "duration": 8,
    "start_time": "2021-10-29T13:10:33.783Z"
   },
   {
    "duration": 4,
    "start_time": "2021-10-29T13:10:33.793Z"
   },
   {
    "duration": 6,
    "start_time": "2021-10-29T13:10:33.799Z"
   },
   {
    "duration": 37,
    "start_time": "2021-10-29T13:10:33.806Z"
   },
   {
    "duration": 4,
    "start_time": "2021-10-29T13:10:33.845Z"
   },
   {
    "duration": 17,
    "start_time": "2021-10-29T13:10:33.851Z"
   },
   {
    "duration": 24,
    "start_time": "2021-10-29T13:10:33.870Z"
   },
   {
    "duration": 3,
    "start_time": "2021-10-29T13:10:33.896Z"
   },
   {
    "duration": 26,
    "start_time": "2021-10-29T13:10:33.901Z"
   },
   {
    "duration": 17,
    "start_time": "2021-10-29T13:10:33.929Z"
   },
   {
    "duration": 128,
    "start_time": "2021-10-29T13:10:33.948Z"
   },
   {
    "duration": 101,
    "start_time": "2021-10-29T13:10:34.079Z"
   },
   {
    "duration": 4,
    "start_time": "2021-10-29T13:10:34.182Z"
   },
   {
    "duration": 19958,
    "start_time": "2021-10-29T13:10:34.188Z"
   },
   {
    "duration": 3,
    "start_time": "2021-10-29T13:10:54.148Z"
   },
   {
    "duration": 10,
    "start_time": "2021-10-29T13:10:54.153Z"
   },
   {
    "duration": 23,
    "start_time": "2021-10-29T13:10:54.164Z"
   },
   {
    "duration": 142,
    "start_time": "2021-10-29T13:10:54.189Z"
   },
   {
    "duration": 2,
    "start_time": "2021-10-29T13:10:54.333Z"
   },
   {
    "duration": 55,
    "start_time": "2021-10-29T13:10:54.337Z"
   },
   {
    "duration": 575,
    "start_time": "2021-10-29T13:10:54.394Z"
   },
   {
    "duration": 4,
    "start_time": "2021-10-29T13:12:33.117Z"
   },
   {
    "duration": 498,
    "start_time": "2021-10-29T13:12:35.331Z"
   },
   {
    "duration": 318,
    "start_time": "2021-10-29T13:13:46.004Z"
   },
   {
    "duration": 10,
    "start_time": "2021-10-29T13:13:49.837Z"
   },
   {
    "duration": 11,
    "start_time": "2021-10-29T13:15:07.124Z"
   },
   {
    "duration": 375,
    "start_time": "2021-10-29T13:16:18.924Z"
   },
   {
    "duration": 367,
    "start_time": "2021-10-29T13:16:30.860Z"
   },
   {
    "duration": 10,
    "start_time": "2021-10-29T13:16:46.733Z"
   },
   {
    "duration": 679,
    "start_time": "2021-10-29T13:17:34.588Z"
   },
   {
    "duration": 533,
    "start_time": "2021-10-29T13:20:49.485Z"
   },
   {
    "duration": 1662,
    "start_time": "2021-10-29T13:42:05.685Z"
   },
   {
    "duration": 89,
    "start_time": "2021-10-29T13:42:07.348Z"
   },
   {
    "duration": 28,
    "start_time": "2021-10-29T13:42:07.439Z"
   },
   {
    "duration": 14,
    "start_time": "2021-10-29T13:42:07.469Z"
   },
   {
    "duration": 24,
    "start_time": "2021-10-29T13:42:07.485Z"
   },
   {
    "duration": 4,
    "start_time": "2021-10-29T13:42:07.510Z"
   },
   {
    "duration": 20,
    "start_time": "2021-10-29T13:42:07.515Z"
   },
   {
    "duration": 4,
    "start_time": "2021-10-29T13:42:07.537Z"
   },
   {
    "duration": 127,
    "start_time": "2021-10-29T13:42:07.544Z"
   },
   {
    "duration": 20,
    "start_time": "2021-10-29T13:42:07.673Z"
   },
   {
    "duration": 4,
    "start_time": "2021-10-29T13:42:07.695Z"
   },
   {
    "duration": 25,
    "start_time": "2021-10-29T13:42:07.700Z"
   },
   {
    "duration": 6,
    "start_time": "2021-10-29T13:42:07.727Z"
   },
   {
    "duration": 11,
    "start_time": "2021-10-29T13:42:07.735Z"
   },
   {
    "duration": 26,
    "start_time": "2021-10-29T13:42:07.778Z"
   },
   {
    "duration": 8,
    "start_time": "2021-10-29T13:42:07.806Z"
   },
   {
    "duration": 12,
    "start_time": "2021-10-29T13:42:07.816Z"
   },
   {
    "duration": 6,
    "start_time": "2021-10-29T13:42:07.830Z"
   },
   {
    "duration": 40,
    "start_time": "2021-10-29T13:42:07.838Z"
   },
   {
    "duration": 19,
    "start_time": "2021-10-29T13:42:07.880Z"
   },
   {
    "duration": 10,
    "start_time": "2021-10-29T13:42:07.901Z"
   },
   {
    "duration": 13,
    "start_time": "2021-10-29T13:42:07.912Z"
   },
   {
    "duration": 3,
    "start_time": "2021-10-29T13:42:07.927Z"
   },
   {
    "duration": 53,
    "start_time": "2021-10-29T13:42:07.932Z"
   },
   {
    "duration": 211,
    "start_time": "2021-10-29T13:42:07.987Z"
   },
   {
    "duration": 6,
    "start_time": "2021-10-29T13:42:08.200Z"
   },
   {
    "duration": 7,
    "start_time": "2021-10-29T13:42:08.210Z"
   },
   {
    "duration": 203,
    "start_time": "2021-10-29T13:42:08.219Z"
   },
   {
    "duration": 187,
    "start_time": "2021-10-29T13:42:08.424Z"
   },
   {
    "duration": 239,
    "start_time": "2021-10-29T13:42:08.613Z"
   },
   {
    "duration": 24,
    "start_time": "2021-10-29T13:42:08.854Z"
   },
   {
    "duration": 365,
    "start_time": "2021-10-29T13:42:08.880Z"
   },
   {
    "duration": 320,
    "start_time": "2021-10-29T13:42:09.246Z"
   },
   {
    "duration": 5,
    "start_time": "2021-10-29T13:42:09.576Z"
   },
   {
    "duration": 22,
    "start_time": "2021-10-29T13:42:09.582Z"
   },
   {
    "duration": 23,
    "start_time": "2021-10-29T13:42:09.606Z"
   },
   {
    "duration": 16,
    "start_time": "2021-10-29T13:42:09.631Z"
   },
   {
    "duration": 24,
    "start_time": "2021-10-29T13:42:09.649Z"
   },
   {
    "duration": 19,
    "start_time": "2021-10-29T13:42:09.675Z"
   },
   {
    "duration": 28,
    "start_time": "2021-10-29T13:42:09.696Z"
   },
   {
    "duration": 4,
    "start_time": "2021-10-29T13:42:09.726Z"
   },
   {
    "duration": 6,
    "start_time": "2021-10-29T13:42:09.732Z"
   },
   {
    "duration": 16,
    "start_time": "2021-10-29T13:42:09.740Z"
   },
   {
    "duration": 12,
    "start_time": "2021-10-29T13:42:09.758Z"
   },
   {
    "duration": 6,
    "start_time": "2021-10-29T13:42:09.772Z"
   },
   {
    "duration": 6,
    "start_time": "2021-10-29T13:42:09.779Z"
   },
   {
    "duration": 4,
    "start_time": "2021-10-29T13:42:09.787Z"
   },
   {
    "duration": 5,
    "start_time": "2021-10-29T13:42:09.793Z"
   },
   {
    "duration": 33,
    "start_time": "2021-10-29T13:42:09.800Z"
   },
   {
    "duration": 5,
    "start_time": "2021-10-29T13:42:09.835Z"
   },
   {
    "duration": 34,
    "start_time": "2021-10-29T13:42:09.842Z"
   },
   {
    "duration": 14,
    "start_time": "2021-10-29T13:42:09.879Z"
   },
   {
    "duration": 3,
    "start_time": "2021-10-29T13:42:09.895Z"
   },
   {
    "duration": 20,
    "start_time": "2021-10-29T13:42:09.900Z"
   },
   {
    "duration": 18,
    "start_time": "2021-10-29T13:42:09.922Z"
   },
   {
    "duration": 44,
    "start_time": "2021-10-29T13:42:09.942Z"
   },
   {
    "duration": 96,
    "start_time": "2021-10-29T13:42:09.988Z"
   },
   {
    "duration": 91,
    "start_time": "2021-10-29T13:42:10.086Z"
   },
   {
    "duration": 19157,
    "start_time": "2021-10-29T13:42:10.180Z"
   },
   {
    "duration": 4,
    "start_time": "2021-10-29T13:42:29.339Z"
   },
   {
    "duration": 313,
    "start_time": "2021-10-29T13:42:29.344Z"
   },
   {
    "duration": 492,
    "start_time": "2021-10-29T13:42:29.658Z"
   },
   {
    "duration": 126,
    "start_time": "2021-10-29T13:42:30.152Z"
   },
   {
    "duration": 2,
    "start_time": "2021-10-29T13:42:30.280Z"
   },
   {
    "duration": 77,
    "start_time": "2021-10-29T13:42:30.284Z"
   },
   {
    "duration": 569,
    "start_time": "2021-10-29T13:42:30.363Z"
   },
   {
    "duration": 1660,
    "start_time": "2021-10-29T13:42:53.682Z"
   },
   {
    "duration": 90,
    "start_time": "2021-10-29T13:42:55.344Z"
   },
   {
    "duration": 28,
    "start_time": "2021-10-29T13:42:55.436Z"
   },
   {
    "duration": 14,
    "start_time": "2021-10-29T13:42:55.466Z"
   },
   {
    "duration": 20,
    "start_time": "2021-10-29T13:42:55.482Z"
   },
   {
    "duration": 4,
    "start_time": "2021-10-29T13:42:55.503Z"
   },
   {
    "duration": 17,
    "start_time": "2021-10-29T13:42:55.508Z"
   },
   {
    "duration": 3,
    "start_time": "2021-10-29T13:42:55.527Z"
   },
   {
    "duration": 230,
    "start_time": "2021-10-29T13:42:55.532Z"
   },
   {
    "duration": 34,
    "start_time": "2021-10-29T13:42:55.765Z"
   },
   {
    "duration": 19,
    "start_time": "2021-10-29T13:42:55.813Z"
   },
   {
    "duration": 55,
    "start_time": "2021-10-29T13:42:55.835Z"
   },
   {
    "duration": 13,
    "start_time": "2021-10-29T13:42:55.893Z"
   },
   {
    "duration": 18,
    "start_time": "2021-10-29T13:42:55.908Z"
   },
   {
    "duration": 55,
    "start_time": "2021-10-29T13:42:55.928Z"
   },
   {
    "duration": 15,
    "start_time": "2021-10-29T13:42:55.985Z"
   },
   {
    "duration": 14,
    "start_time": "2021-10-29T13:42:56.003Z"
   },
   {
    "duration": 5,
    "start_time": "2021-10-29T13:42:56.019Z"
   },
   {
    "duration": 11,
    "start_time": "2021-10-29T13:42:56.026Z"
   },
   {
    "duration": 39,
    "start_time": "2021-10-29T13:42:56.038Z"
   },
   {
    "duration": 10,
    "start_time": "2021-10-29T13:42:56.078Z"
   },
   {
    "duration": 12,
    "start_time": "2021-10-29T13:42:56.090Z"
   },
   {
    "duration": 3,
    "start_time": "2021-10-29T13:42:56.104Z"
   },
   {
    "duration": 24,
    "start_time": "2021-10-29T13:42:56.109Z"
   },
   {
    "duration": 226,
    "start_time": "2021-10-29T13:42:56.135Z"
   },
   {
    "duration": 16,
    "start_time": "2021-10-29T13:42:56.363Z"
   },
   {
    "duration": 7,
    "start_time": "2021-10-29T13:42:56.384Z"
   },
   {
    "duration": 197,
    "start_time": "2021-10-29T13:42:56.394Z"
   },
   {
    "duration": 185,
    "start_time": "2021-10-29T13:42:56.593Z"
   },
   {
    "duration": 233,
    "start_time": "2021-10-29T13:42:56.780Z"
   },
   {
    "duration": 11,
    "start_time": "2021-10-29T13:42:57.015Z"
   },
   {
    "duration": 365,
    "start_time": "2021-10-29T13:42:57.028Z"
   },
   {
    "duration": 294,
    "start_time": "2021-10-29T13:42:57.395Z"
   },
   {
    "duration": 5,
    "start_time": "2021-10-29T13:42:57.691Z"
   },
   {
    "duration": 16,
    "start_time": "2021-10-29T13:42:57.698Z"
   },
   {
    "duration": 6,
    "start_time": "2021-10-29T13:42:57.716Z"
   },
   {
    "duration": 7,
    "start_time": "2021-10-29T13:42:57.724Z"
   },
   {
    "duration": 14,
    "start_time": "2021-10-29T13:42:57.732Z"
   },
   {
    "duration": 5,
    "start_time": "2021-10-29T13:42:57.748Z"
   },
   {
    "duration": 37,
    "start_time": "2021-10-29T13:42:57.755Z"
   },
   {
    "duration": 4,
    "start_time": "2021-10-29T13:42:57.794Z"
   },
   {
    "duration": 5,
    "start_time": "2021-10-29T13:42:57.799Z"
   },
   {
    "duration": 14,
    "start_time": "2021-10-29T13:42:57.806Z"
   },
   {
    "duration": 13,
    "start_time": "2021-10-29T13:42:57.822Z"
   },
   {
    "duration": 4,
    "start_time": "2021-10-29T13:42:57.837Z"
   },
   {
    "duration": 3176790,
    "start_time": "2021-10-29T13:42:57.843Z"
   },
   {
    "duration": 4,
    "start_time": "2021-10-29T14:35:54.635Z"
   },
   {
    "duration": 28,
    "start_time": "2021-10-29T14:35:54.641Z"
   },
   {
    "duration": 28,
    "start_time": "2021-10-29T14:35:54.671Z"
   },
   {
    "duration": 6,
    "start_time": "2021-10-29T14:35:54.701Z"
   },
   {
    "duration": 7,
    "start_time": "2021-10-29T14:35:54.708Z"
   },
   {
    "duration": 13,
    "start_time": "2021-10-29T14:35:54.717Z"
   },
   {
    "duration": 3,
    "start_time": "2021-10-29T14:35:54.732Z"
   },
   {
    "duration": 44,
    "start_time": "2021-10-29T14:35:54.736Z"
   },
   {
    "duration": 15,
    "start_time": "2021-10-29T14:35:54.781Z"
   },
   {
    "duration": 82,
    "start_time": "2021-10-29T14:35:54.798Z"
   },
   {
    "duration": 98,
    "start_time": "2021-10-29T14:35:54.883Z"
   },
   {
    "duration": 4,
    "start_time": "2021-10-29T14:35:54.982Z"
   },
   {
    "duration": 18711,
    "start_time": "2021-10-29T14:35:54.987Z"
   },
   {
    "duration": 3,
    "start_time": "2021-10-29T14:36:13.700Z"
   },
   {
    "duration": 330,
    "start_time": "2021-10-29T14:36:13.705Z"
   },
   {
    "duration": 458,
    "start_time": "2021-10-29T14:36:14.037Z"
   },
   {
    "duration": 121,
    "start_time": "2021-10-29T14:36:14.497Z"
   },
   {
    "duration": 15,
    "start_time": "2021-10-29T14:36:14.620Z"
   },
   {
    "duration": 77,
    "start_time": "2021-10-29T14:36:14.637Z"
   },
   {
    "duration": 890,
    "start_time": "2021-10-29T14:36:14.715Z"
   },
   {
    "duration": 5518,
    "start_time": "2021-10-29T14:49:43.864Z"
   },
   {
    "duration": 49,
    "start_time": "2021-10-29T14:49:57.070Z"
   },
   {
    "duration": 6263,
    "start_time": "2021-10-29T14:50:09.694Z"
   },
   {
    "duration": 40,
    "start_time": "2021-10-29T14:50:17.423Z"
   },
   {
    "duration": 5250,
    "start_time": "2021-10-29T14:50:32.608Z"
   },
   {
    "duration": 48,
    "start_time": "2021-10-29T14:50:40.783Z"
   },
   {
    "duration": 7387,
    "start_time": "2021-10-29T14:50:57.936Z"
   },
   {
    "duration": 35,
    "start_time": "2021-10-29T14:51:06.928Z"
   },
   {
    "duration": 26,
    "start_time": "2021-10-29T14:51:35.703Z"
   },
   {
    "duration": 7178,
    "start_time": "2021-10-29T14:51:45.377Z"
   },
   {
    "duration": 32,
    "start_time": "2021-10-29T14:51:53.911Z"
   },
   {
    "duration": 5863,
    "start_time": "2021-10-29T14:52:17.423Z"
   },
   {
    "duration": 27,
    "start_time": "2021-10-29T14:52:24.593Z"
   },
   {
    "duration": 13037,
    "start_time": "2021-10-29T14:52:35.648Z"
   },
   {
    "duration": 37,
    "start_time": "2021-10-29T14:52:51.472Z"
   },
   {
    "duration": 15705,
    "start_time": "2021-10-29T14:53:18.494Z"
   },
   {
    "duration": 31,
    "start_time": "2021-10-29T14:53:36.063Z"
   },
   {
    "duration": 15997,
    "start_time": "2021-10-29T14:54:05.656Z"
   },
   {
    "duration": 30,
    "start_time": "2021-10-29T14:54:28.576Z"
   },
   {
    "duration": 16965,
    "start_time": "2021-10-29T14:54:47.073Z"
   },
   {
    "duration": 40,
    "start_time": "2021-10-29T14:55:04.040Z"
   },
   {
    "duration": 16,
    "start_time": "2021-10-29T14:56:53.762Z"
   },
   {
    "duration": 125,
    "start_time": "2021-10-29T14:57:57.265Z"
   },
   {
    "duration": 49,
    "start_time": "2021-10-29T14:58:19.369Z"
   },
   {
    "duration": 512,
    "start_time": "2021-10-29T15:00:14.089Z"
   },
   {
    "duration": 21,
    "start_time": "2021-10-29T15:00:49.176Z"
   },
   {
    "duration": 376,
    "start_time": "2021-10-29T15:04:06.299Z"
   },
   {
    "duration": 478,
    "start_time": "2021-10-29T15:07:10.603Z"
   },
   {
    "duration": 425,
    "start_time": "2021-10-29T15:07:53.198Z"
   },
   {
    "duration": 472,
    "start_time": "2021-10-29T15:10:32.269Z"
   },
   {
    "duration": 449,
    "start_time": "2021-10-29T15:11:19.116Z"
   },
   {
    "duration": 573,
    "start_time": "2021-10-29T15:15:11.637Z"
   },
   {
    "duration": 365,
    "start_time": "2021-10-29T15:20:17.149Z"
   },
   {
    "duration": 351,
    "start_time": "2021-10-29T15:20:53.214Z"
   },
   {
    "duration": 18160,
    "start_time": "2021-10-29T15:22:17.078Z"
   },
   {
    "duration": 33,
    "start_time": "2021-10-29T15:22:46.918Z"
   },
   {
    "duration": 418,
    "start_time": "2021-10-29T15:22:53.654Z"
   },
   {
    "duration": 371,
    "start_time": "2021-10-29T15:29:41.114Z"
   },
   {
    "duration": 5,
    "start_time": "2021-10-29T15:30:09.684Z"
   },
   {
    "duration": 16835,
    "start_time": "2021-10-29T15:30:47.817Z"
   },
   {
    "duration": 339,
    "start_time": "2021-10-29T15:31:28.433Z"
   },
   {
    "duration": 31,
    "start_time": "2021-10-29T15:31:45.761Z"
   },
   {
    "duration": 404,
    "start_time": "2021-10-29T15:34:39.385Z"
   },
   {
    "duration": 454,
    "start_time": "2021-10-29T15:35:16.977Z"
   },
   {
    "duration": 364,
    "start_time": "2021-10-29T15:36:05.753Z"
   },
   {
    "duration": 1792,
    "start_time": "2021-10-29T15:37:51.135Z"
   },
   {
    "duration": 89,
    "start_time": "2021-10-29T15:37:52.929Z"
   },
   {
    "duration": 29,
    "start_time": "2021-10-29T15:37:53.021Z"
   },
   {
    "duration": 15,
    "start_time": "2021-10-29T15:37:53.052Z"
   },
   {
    "duration": 19,
    "start_time": "2021-10-29T15:37:53.069Z"
   },
   {
    "duration": 6,
    "start_time": "2021-10-29T15:37:53.090Z"
   },
   {
    "duration": 21,
    "start_time": "2021-10-29T15:37:53.098Z"
   },
   {
    "duration": 4,
    "start_time": "2021-10-29T15:37:53.122Z"
   },
   {
    "duration": 127,
    "start_time": "2021-10-29T15:37:53.128Z"
   },
   {
    "duration": 30,
    "start_time": "2021-10-29T15:37:53.257Z"
   },
   {
    "duration": 3,
    "start_time": "2021-10-29T15:37:53.289Z"
   },
   {
    "duration": 25,
    "start_time": "2021-10-29T15:37:53.294Z"
   },
   {
    "duration": 6,
    "start_time": "2021-10-29T15:37:53.322Z"
   },
   {
    "duration": 12,
    "start_time": "2021-10-29T15:37:53.330Z"
   },
   {
    "duration": 55,
    "start_time": "2021-10-29T15:37:53.344Z"
   },
   {
    "duration": 8,
    "start_time": "2021-10-29T15:37:53.401Z"
   },
   {
    "duration": 12,
    "start_time": "2021-10-29T15:37:53.411Z"
   },
   {
    "duration": 5,
    "start_time": "2021-10-29T15:37:53.425Z"
   },
   {
    "duration": 46,
    "start_time": "2021-10-29T15:37:53.432Z"
   },
   {
    "duration": 20,
    "start_time": "2021-10-29T15:37:53.480Z"
   },
   {
    "duration": 12,
    "start_time": "2021-10-29T15:37:53.502Z"
   },
   {
    "duration": 14,
    "start_time": "2021-10-29T15:37:53.516Z"
   },
   {
    "duration": 5,
    "start_time": "2021-10-29T15:37:53.535Z"
   },
   {
    "duration": 25,
    "start_time": "2021-10-29T15:37:53.576Z"
   },
   {
    "duration": 221,
    "start_time": "2021-10-29T15:37:53.604Z"
   },
   {
    "duration": 6,
    "start_time": "2021-10-29T15:37:53.827Z"
   },
   {
    "duration": 9,
    "start_time": "2021-10-29T15:37:53.835Z"
   },
   {
    "duration": 195,
    "start_time": "2021-10-29T15:37:53.846Z"
   },
   {
    "duration": 191,
    "start_time": "2021-10-29T15:37:54.043Z"
   },
   {
    "duration": 242,
    "start_time": "2021-10-29T15:37:54.236Z"
   },
   {
    "duration": 13,
    "start_time": "2021-10-29T15:37:54.480Z"
   },
   {
    "duration": 363,
    "start_time": "2021-10-29T15:37:54.495Z"
   },
   {
    "duration": 307,
    "start_time": "2021-10-29T15:37:54.860Z"
   },
   {
    "duration": 9,
    "start_time": "2021-10-29T15:37:55.169Z"
   },
   {
    "duration": 14,
    "start_time": "2021-10-29T15:37:55.179Z"
   },
   {
    "duration": 7,
    "start_time": "2021-10-29T15:37:55.194Z"
   },
   {
    "duration": 6,
    "start_time": "2021-10-29T15:37:55.202Z"
   },
   {
    "duration": 11,
    "start_time": "2021-10-29T15:37:55.209Z"
   },
   {
    "duration": 4,
    "start_time": "2021-10-29T15:37:55.222Z"
   },
   {
    "duration": 55,
    "start_time": "2021-10-29T15:37:55.228Z"
   },
   {
    "duration": 4,
    "start_time": "2021-10-29T15:37:55.285Z"
   },
   {
    "duration": 6,
    "start_time": "2021-10-29T15:37:55.292Z"
   },
   {
    "duration": 21,
    "start_time": "2021-10-29T15:37:55.299Z"
   },
   {
    "duration": 14,
    "start_time": "2021-10-29T15:37:55.321Z"
   },
   {
    "duration": 7,
    "start_time": "2021-10-29T15:37:55.337Z"
   },
   {
    "duration": 31,
    "start_time": "2021-10-29T15:37:55.346Z"
   },
   {
    "duration": 4,
    "start_time": "2021-10-29T15:37:55.380Z"
   },
   {
    "duration": 5632,
    "start_time": "2021-10-29T15:37:55.386Z"
   },
   {
    "duration": 25,
    "start_time": "2021-10-29T15:38:01.019Z"
   },
   {
    "duration": 401,
    "start_time": "2021-10-29T15:38:01.047Z"
   },
   {
    "duration": 4,
    "start_time": "2021-10-29T15:38:01.450Z"
   },
   {
    "duration": 13677,
    "start_time": "2021-10-29T15:38:01.456Z"
   },
   {
    "duration": 45,
    "start_time": "2021-10-29T15:38:15.135Z"
   },
   {
    "duration": 31,
    "start_time": "2021-10-29T15:38:15.182Z"
   },
   {
    "duration": 7,
    "start_time": "2021-10-29T15:38:15.215Z"
   },
   {
    "duration": 8,
    "start_time": "2021-10-29T15:38:15.224Z"
   },
   {
    "duration": 45,
    "start_time": "2021-10-29T15:38:15.234Z"
   },
   {
    "duration": 4,
    "start_time": "2021-10-29T15:38:15.281Z"
   },
   {
    "duration": 16,
    "start_time": "2021-10-29T15:38:15.287Z"
   },
   {
    "duration": 18,
    "start_time": "2021-10-29T15:38:15.305Z"
   },
   {
    "duration": 71,
    "start_time": "2021-10-29T15:38:15.325Z"
   },
   {
    "duration": 99,
    "start_time": "2021-10-29T15:38:15.479Z"
   },
   {
    "duration": 5,
    "start_time": "2021-10-29T15:38:15.580Z"
   },
   {
    "duration": 18801,
    "start_time": "2021-10-29T15:38:15.587Z"
   },
   {
    "duration": 4,
    "start_time": "2021-10-29T15:38:34.390Z"
   },
   {
    "duration": 309,
    "start_time": "2021-10-29T15:38:34.395Z"
   },
   {
    "duration": 457,
    "start_time": "2021-10-29T15:38:34.706Z"
   },
   {
    "duration": 123,
    "start_time": "2021-10-29T15:38:35.168Z"
   },
   {
    "duration": 16,
    "start_time": "2021-10-29T15:38:35.293Z"
   },
   {
    "duration": 83,
    "start_time": "2021-10-29T15:38:35.311Z"
   },
   {
    "duration": 619,
    "start_time": "2021-10-29T15:38:35.396Z"
   },
   {
    "duration": 10338,
    "start_time": "2021-10-29T15:38:59.083Z"
   },
   {
    "duration": 29,
    "start_time": "2021-10-29T15:39:11.387Z"
   },
   {
    "duration": 13411,
    "start_time": "2021-10-29T15:39:23.019Z"
   },
   {
    "duration": 30,
    "start_time": "2021-10-29T15:39:46.844Z"
   },
   {
    "duration": 17163,
    "start_time": "2021-10-29T15:40:09.074Z"
   },
   {
    "duration": 47,
    "start_time": "2021-10-29T15:40:32.547Z"
   },
   {
    "duration": 17840,
    "start_time": "2021-10-29T15:40:50.793Z"
   },
   {
    "duration": 48,
    "start_time": "2021-10-29T15:41:10.154Z"
   },
   {
    "duration": 18475,
    "start_time": "2021-10-29T15:41:24.270Z"
   },
   {
    "duration": 38,
    "start_time": "2021-10-29T15:41:43.052Z"
   },
   {
    "duration": 17343,
    "start_time": "2021-10-29T15:42:02.659Z"
   },
   {
    "duration": 31,
    "start_time": "2021-10-29T15:42:23.627Z"
   },
   {
    "duration": 14238,
    "start_time": "2021-10-29T15:42:45.804Z"
   },
   {
    "duration": 38,
    "start_time": "2021-10-29T15:43:01.594Z"
   },
   {
    "duration": 10517,
    "start_time": "2021-10-29T15:43:42.419Z"
   },
   {
    "duration": 369,
    "start_time": "2021-10-29T15:47:47.028Z"
   },
   {
    "duration": 1651,
    "start_time": "2021-10-29T15:48:19.983Z"
   },
   {
    "duration": 90,
    "start_time": "2021-10-29T15:48:21.636Z"
   },
   {
    "duration": 29,
    "start_time": "2021-10-29T15:48:21.728Z"
   },
   {
    "duration": 15,
    "start_time": "2021-10-29T15:48:21.759Z"
   },
   {
    "duration": 20,
    "start_time": "2021-10-29T15:48:21.776Z"
   },
   {
    "duration": 6,
    "start_time": "2021-10-29T15:48:21.798Z"
   },
   {
    "duration": 16,
    "start_time": "2021-10-29T15:48:21.806Z"
   },
   {
    "duration": 3,
    "start_time": "2021-10-29T15:48:21.826Z"
   },
   {
    "duration": 137,
    "start_time": "2021-10-29T15:48:21.832Z"
   },
   {
    "duration": 22,
    "start_time": "2021-10-29T15:48:21.972Z"
   },
   {
    "duration": 5,
    "start_time": "2021-10-29T15:48:21.996Z"
   },
   {
    "duration": 31,
    "start_time": "2021-10-29T15:48:22.003Z"
   },
   {
    "duration": 7,
    "start_time": "2021-10-29T15:48:22.036Z"
   },
   {
    "duration": 37,
    "start_time": "2021-10-29T15:48:22.045Z"
   },
   {
    "duration": 29,
    "start_time": "2021-10-29T15:48:22.084Z"
   },
   {
    "duration": 8,
    "start_time": "2021-10-29T15:48:22.115Z"
   },
   {
    "duration": 14,
    "start_time": "2021-10-29T15:48:22.125Z"
   },
   {
    "duration": 6,
    "start_time": "2021-10-29T15:48:22.177Z"
   },
   {
    "duration": 15,
    "start_time": "2021-10-29T15:48:22.185Z"
   },
   {
    "duration": 20,
    "start_time": "2021-10-29T15:48:22.202Z"
   },
   {
    "duration": 12,
    "start_time": "2021-10-29T15:48:22.224Z"
   },
   {
    "duration": 47,
    "start_time": "2021-10-29T15:48:22.238Z"
   },
   {
    "duration": 4,
    "start_time": "2021-10-29T15:48:22.290Z"
   },
   {
    "duration": 24,
    "start_time": "2021-10-29T15:48:22.298Z"
   },
   {
    "duration": 234,
    "start_time": "2021-10-29T15:48:22.325Z"
   },
   {
    "duration": 17,
    "start_time": "2021-10-29T15:48:22.561Z"
   },
   {
    "duration": 8,
    "start_time": "2021-10-29T15:48:22.579Z"
   },
   {
    "duration": 199,
    "start_time": "2021-10-29T15:48:22.588Z"
   },
   {
    "duration": 181,
    "start_time": "2021-10-29T15:48:22.788Z"
   },
   {
    "duration": 238,
    "start_time": "2021-10-29T15:48:22.970Z"
   },
   {
    "duration": 12,
    "start_time": "2021-10-29T15:48:23.209Z"
   },
   {
    "duration": 365,
    "start_time": "2021-10-29T15:48:23.222Z"
   },
   {
    "duration": 295,
    "start_time": "2021-10-29T15:48:23.589Z"
   },
   {
    "duration": 4,
    "start_time": "2021-10-29T15:48:23.886Z"
   },
   {
    "duration": 21,
    "start_time": "2021-10-29T15:48:23.892Z"
   },
   {
    "duration": 6,
    "start_time": "2021-10-29T15:48:23.914Z"
   },
   {
    "duration": 6,
    "start_time": "2021-10-29T15:48:23.922Z"
   },
   {
    "duration": 9,
    "start_time": "2021-10-29T15:48:23.929Z"
   },
   {
    "duration": 4,
    "start_time": "2021-10-29T15:48:23.940Z"
   },
   {
    "duration": 45,
    "start_time": "2021-10-29T15:48:23.945Z"
   },
   {
    "duration": 4,
    "start_time": "2021-10-29T15:48:23.992Z"
   },
   {
    "duration": 5,
    "start_time": "2021-10-29T15:48:23.998Z"
   },
   {
    "duration": 18,
    "start_time": "2021-10-29T15:48:24.005Z"
   },
   {
    "duration": 12,
    "start_time": "2021-10-29T15:48:24.025Z"
   },
   {
    "duration": 5,
    "start_time": "2021-10-29T15:48:24.039Z"
   },
   {
    "duration": 30,
    "start_time": "2021-10-29T15:48:24.046Z"
   },
   {
    "duration": 2,
    "start_time": "2021-10-29T15:48:24.079Z"
   },
   {
    "duration": 5520,
    "start_time": "2021-10-29T15:48:24.083Z"
   },
   {
    "duration": 26,
    "start_time": "2021-10-29T15:48:29.604Z"
   },
   {
    "duration": 429,
    "start_time": "2021-10-29T15:48:29.631Z"
   },
   {
    "duration": 6,
    "start_time": "2021-10-29T15:48:30.062Z"
   },
   {
    "duration": 14368,
    "start_time": "2021-10-29T15:48:30.077Z"
   },
   {
    "duration": 48,
    "start_time": "2021-10-29T15:48:44.446Z"
   },
   {
    "duration": 29,
    "start_time": "2021-10-29T15:48:44.496Z"
   },
   {
    "duration": 5,
    "start_time": "2021-10-29T15:48:44.527Z"
   },
   {
    "duration": 46,
    "start_time": "2021-10-29T15:48:44.534Z"
   },
   {
    "duration": 16,
    "start_time": "2021-10-29T15:48:44.581Z"
   },
   {
    "duration": 4,
    "start_time": "2021-10-29T15:48:44.599Z"
   },
   {
    "duration": 18,
    "start_time": "2021-10-29T15:48:44.604Z"
   },
   {
    "duration": 18,
    "start_time": "2021-10-29T15:48:44.624Z"
   },
   {
    "duration": 49,
    "start_time": "2021-10-29T15:48:44.644Z"
   },
   {
    "duration": 84,
    "start_time": "2021-10-29T15:48:44.696Z"
   },
   {
    "duration": 94,
    "start_time": "2021-10-29T15:48:44.783Z"
   },
   {
    "duration": 18802,
    "start_time": "2021-10-29T15:48:44.879Z"
   },
   {
    "duration": 3,
    "start_time": "2021-10-29T15:49:03.683Z"
   },
   {
    "duration": 315,
    "start_time": "2021-10-29T15:49:03.688Z"
   },
   {
    "duration": 487,
    "start_time": "2021-10-29T15:49:04.004Z"
   },
   {
    "duration": 125,
    "start_time": "2021-10-29T15:49:04.496Z"
   },
   {
    "duration": 18,
    "start_time": "2021-10-29T15:49:04.623Z"
   },
   {
    "duration": 84,
    "start_time": "2021-10-29T15:49:04.642Z"
   },
   {
    "duration": 591,
    "start_time": "2021-10-29T15:49:04.727Z"
   },
   {
    "duration": 34253,
    "start_time": "2021-10-29T15:50:14.933Z"
   },
   {
    "duration": 82,
    "start_time": "2021-10-29T15:50:57.203Z"
   },
   {
    "duration": 111029,
    "start_time": "2021-10-29T15:51:17.716Z"
   },
   {
    "duration": 60,
    "start_time": "2021-10-29T15:53:11.548Z"
   },
   {
    "duration": 33,
    "start_time": "2021-10-29T15:53:29.133Z"
   },
   {
    "duration": 5249,
    "start_time": "2021-10-29T15:54:33.166Z"
   },
   {
    "duration": 38,
    "start_time": "2021-10-29T15:54:40.284Z"
   },
   {
    "duration": 34,
    "start_time": "2021-10-29T15:55:07.885Z"
   },
   {
    "duration": 523,
    "start_time": "2021-10-29T15:55:26.469Z"
   },
   {
    "duration": 29,
    "start_time": "2021-10-29T15:55:56.222Z"
   },
   {
    "duration": 30,
    "start_time": "2021-10-29T15:57:05.032Z"
   },
   {
    "duration": 7,
    "start_time": "2021-10-29T16:00:51.926Z"
   },
   {
    "duration": 410,
    "start_time": "2021-10-29T16:01:46.336Z"
   },
   {
    "duration": 163,
    "start_time": "2021-10-29T16:02:21.208Z"
   },
   {
    "duration": 50,
    "start_time": "2021-10-29T16:03:16.519Z"
   },
   {
    "duration": 1825,
    "start_time": "2021-10-29T16:08:32.770Z"
   },
   {
    "duration": 96,
    "start_time": "2021-10-29T16:08:34.598Z"
   },
   {
    "duration": 29,
    "start_time": "2021-10-29T16:08:34.697Z"
   },
   {
    "duration": 14,
    "start_time": "2021-10-29T16:08:34.729Z"
   },
   {
    "duration": 46,
    "start_time": "2021-10-29T16:08:34.745Z"
   },
   {
    "duration": 3,
    "start_time": "2021-10-29T16:08:34.794Z"
   },
   {
    "duration": 22,
    "start_time": "2021-10-29T16:08:34.799Z"
   },
   {
    "duration": 4,
    "start_time": "2021-10-29T16:08:34.825Z"
   },
   {
    "duration": 192,
    "start_time": "2021-10-29T16:08:34.832Z"
   },
   {
    "duration": 24,
    "start_time": "2021-10-29T16:08:35.026Z"
   },
   {
    "duration": 4,
    "start_time": "2021-10-29T16:08:35.053Z"
   },
   {
    "duration": 24,
    "start_time": "2021-10-29T16:08:35.077Z"
   },
   {
    "duration": 6,
    "start_time": "2021-10-29T16:08:35.103Z"
   },
   {
    "duration": 14,
    "start_time": "2021-10-29T16:08:35.111Z"
   },
   {
    "duration": 68,
    "start_time": "2021-10-29T16:08:35.127Z"
   },
   {
    "duration": 7,
    "start_time": "2021-10-29T16:08:35.197Z"
   },
   {
    "duration": 18,
    "start_time": "2021-10-29T16:08:35.206Z"
   },
   {
    "duration": 5,
    "start_time": "2021-10-29T16:08:35.226Z"
   },
   {
    "duration": 12,
    "start_time": "2021-10-29T16:08:35.233Z"
   },
   {
    "duration": 55,
    "start_time": "2021-10-29T16:08:35.247Z"
   },
   {
    "duration": 12,
    "start_time": "2021-10-29T16:08:35.304Z"
   },
   {
    "duration": 15,
    "start_time": "2021-10-29T16:08:35.318Z"
   },
   {
    "duration": 4,
    "start_time": "2021-10-29T16:08:35.338Z"
   },
   {
    "duration": 35,
    "start_time": "2021-10-29T16:08:35.378Z"
   },
   {
    "duration": 300,
    "start_time": "2021-10-29T16:08:35.415Z"
   },
   {
    "duration": 8,
    "start_time": "2021-10-29T16:08:35.717Z"
   },
   {
    "duration": 8,
    "start_time": "2021-10-29T16:08:35.727Z"
   },
   {
    "duration": 242,
    "start_time": "2021-10-29T16:08:35.737Z"
   },
   {
    "duration": 227,
    "start_time": "2021-10-29T16:08:35.982Z"
   },
   {
    "duration": 261,
    "start_time": "2021-10-29T16:08:36.211Z"
   },
   {
    "duration": 13,
    "start_time": "2021-10-29T16:08:36.477Z"
   },
   {
    "duration": 468,
    "start_time": "2021-10-29T16:08:36.492Z"
   },
   {
    "duration": 360,
    "start_time": "2021-10-29T16:08:36.962Z"
   },
   {
    "duration": 5,
    "start_time": "2021-10-29T16:08:37.325Z"
   },
   {
    "duration": 14,
    "start_time": "2021-10-29T16:08:37.332Z"
   },
   {
    "duration": 7,
    "start_time": "2021-10-29T16:08:37.348Z"
   },
   {
    "duration": 22,
    "start_time": "2021-10-29T16:08:37.356Z"
   },
   {
    "duration": 10,
    "start_time": "2021-10-29T16:08:37.380Z"
   },
   {
    "duration": 5,
    "start_time": "2021-10-29T16:08:37.392Z"
   },
   {
    "duration": 23,
    "start_time": "2021-10-29T16:08:37.400Z"
   },
   {
    "duration": 6,
    "start_time": "2021-10-29T16:08:37.425Z"
   },
   {
    "duration": 45,
    "start_time": "2021-10-29T16:08:37.433Z"
   },
   {
    "duration": 15,
    "start_time": "2021-10-29T16:08:37.481Z"
   },
   {
    "duration": 14,
    "start_time": "2021-10-29T16:08:37.498Z"
   },
   {
    "duration": 7,
    "start_time": "2021-10-29T16:08:37.514Z"
   },
   {
    "duration": 6,
    "start_time": "2021-10-29T16:08:37.523Z"
   },
   {
    "duration": 5,
    "start_time": "2021-10-29T16:08:37.532Z"
   },
   {
    "duration": 6405,
    "start_time": "2021-10-29T16:08:37.539Z"
   },
   {
    "duration": 41,
    "start_time": "2021-10-29T16:08:43.946Z"
   },
   {
    "duration": 477,
    "start_time": "2021-10-29T16:08:43.990Z"
   },
   {
    "duration": 8,
    "start_time": "2021-10-29T16:08:44.470Z"
   },
   {
    "duration": 5984,
    "start_time": "2021-10-29T16:08:44.480Z"
   },
   {
    "duration": 27,
    "start_time": "2021-10-29T16:08:50.466Z"
   },
   {
    "duration": 30,
    "start_time": "2021-10-29T16:08:50.495Z"
   },
   {
    "duration": 5,
    "start_time": "2021-10-29T16:08:50.527Z"
   },
   {
    "duration": 8,
    "start_time": "2021-10-29T16:08:50.534Z"
   },
   {
    "duration": 46,
    "start_time": "2021-10-29T16:08:50.545Z"
   },
   {
    "duration": 4,
    "start_time": "2021-10-29T16:08:50.594Z"
   },
   {
    "duration": 21,
    "start_time": "2021-10-29T16:08:50.600Z"
   },
   {
    "duration": 19,
    "start_time": "2021-10-29T16:08:50.624Z"
   },
   {
    "duration": 144,
    "start_time": "2021-10-29T16:08:50.645Z"
   },
   {
    "duration": 94,
    "start_time": "2021-10-29T16:08:50.791Z"
   },
   {
    "duration": 5,
    "start_time": "2021-10-29T16:08:50.887Z"
   },
   {
    "duration": 22083,
    "start_time": "2021-10-29T16:08:50.893Z"
   },
   {
    "duration": 4,
    "start_time": "2021-10-29T16:09:12.978Z"
   },
   {
    "duration": 405,
    "start_time": "2021-10-29T16:09:12.984Z"
   },
   {
    "duration": 150,
    "start_time": "2021-10-29T16:09:13.392Z"
   },
   {
    "duration": 560,
    "start_time": "2021-10-29T16:09:13.548Z"
   },
   {
    "duration": 9,
    "start_time": "2021-10-29T16:09:14.110Z"
   },
   {
    "duration": 323,
    "start_time": "2021-10-29T16:09:14.121Z"
   },
   {
    "duration": 131,
    "start_time": "2021-10-29T16:09:14.446Z"
   },
   {
    "duration": 15,
    "start_time": "2021-10-29T16:09:14.579Z"
   },
   {
    "duration": 51,
    "start_time": "2021-10-29T16:09:14.596Z"
   },
   {
    "duration": 621,
    "start_time": "2021-10-29T16:09:14.678Z"
   }
  ],
  "kernelspec": {
   "display_name": "Python 3 (system-wide)",
   "language": "python",
   "metadata": {
    "cocalc": {
     "description": "Python 3 programming language",
     "priority": 100,
     "url": "https://www.python.org/"
    }
   },
   "name": "python3",
   "resource_dir": "/ext/jupyter/kernels/python3"
  },
  "language_info": {
   "codemirror_mode": {
    "name": "ipython",
    "version": 3
   },
   "file_extension": ".py",
   "mimetype": "text/x-python",
   "name": "python",
   "nbconvert_exporter": "python",
   "pygments_lexer": "ipython3",
   "version": "3.7.8"
  },
  "toc": {
   "base_numbering": 1,
   "nav_menu": {
   },
   "number_sections": true,
   "sideBar": true,
   "skip_h1_title": true,
   "title_cell": "Table of Contents",
   "title_sidebar": "Contents",
   "toc_cell": false,
   "toc_position": {
   },
   "toc_section_display": true,
   "toc_window_display": true
  }
 },
 "nbformat": 4,
 "nbformat_minor": 4
}